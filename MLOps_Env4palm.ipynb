{
 "cells": [
  {
   "cell_type": "markdown",
   "id": "09e1a323-769f-4ea4-bb0a-8a4e180994ca",
   "metadata": {},
   "source": [
    "# MLOps 워크플로우를 SageMaker로 구현하기\n"
   ]
  },
  {
   "cell_type": "markdown",
   "id": "df10416d-f476-4a11-ab0c-1fa3a9c977f2",
   "metadata": {},
   "source": [
    "1. 목차\n",
    "   0. 데이터 추출(Lambda)\n",
    "        - From Data lake To palm-oil-price-forecast/staged-data\n",
    "   1. 데이터 전처리(SageMaker Processing)\n",
    "        - From staged-data to golden-data\n",
    "        - S3내 데이터읽기 -> raw.csv 합치기 -> 전처리(preprocessing.py) -> golden-data/[yyyy][mm][dd][ts]_processed.csv로 저장\n",
    "        - 수행 목록 : 원자재데이터(raw.csv) 합치기, Scaling data, Fill missing data\n",
    "   2. 모델 훈련(SageMaker Train)\n",
    "       - From golden-data to trained model\n",
    "       - S3내 데이터읽기 -> AutoGluon 모델링(train.py) -> modeling/yyyymmddts/Model(.h5), Metric(leaderboard) 저장. \n",
    "<!--     - 모델 하이퍼파라미터 튜닝(SageMaker의 Automatic Model Tuning) -->\n",
    "     \n",
    "   3. 모델검증(SageMaker Processing)\n",
    "       - From trained-model To validated-model/\n",
    "       - S3내 leaderboard 읽기 -> Top1 모델 찾기 -> S3내 TOP1 model(.h5) 읽기 -> Inference(inference.py) -> 결과 저장-> Model Registry 등록\n",
    "   4. 모델배포(QuickSight)\n",
    "       - From validated-model to LAS VEGAS!!!!\n",
    "       - 모델검증시 예측값, 실제값 비교 자료\n",
    "       - Approve시, AWS SageMaker Batch Transform으로 배포\n",
    "       \n",
    "2. 데이터: stage-data 내 데이터\n",
    "   - Date\n",
    "   - HIGH\n",
    "   - CLOSE\n",
    "   - LOW\n",
    "   - OPEN\n",
    "   - VOLUME\n",
    "   - RIC\n",
    "   \n",
    "3. 시간소요: ?\n",
    "\n",
    "4. 질문사항\n",
    "    - 학습(train) 스크립트를 SageMaker가 아닌 **컨테이너**에서 실행하도록 하고 싶다.\n",
    "    - 하드코딩이 아니라 SageMaker, Lambda에서 자유자재로 Access Key, Secret Access Key를 꺼내쓰고 싶은데, 보안이 신경쓰인다.\n"
   ]
  },
  {
   "cell_type": "markdown",
   "id": "7675e16d-e48c-42bc-8f63-7710f2acaef5",
   "metadata": {},
   "source": [
    "## 0. 환경구성\n",
    "- 필요한 패키지 임포트\n",
    "- 작업 디렉토리 세팅 : local에서 학습과 테스트를 하기 위해)\n",
    "- SageMaker Session: 다양한 작업을 위해)\n",
    "- S3 버킷 정의:입출력 데이터 저장\n",
    "- 버킷: SageMaker가 자동으로 생성하는 디폴트 버킷을 사용할 것입니다. 디폴트 버킷의 이름은 여러분의 Account ID와 리전을 포함하고 있습니다."
   ]
  },
  {
   "cell_type": "code",
   "execution_count": 314,
   "id": "3e85479e-7061-4007-b1b2-bd170611670b",
   "metadata": {},
   "outputs": [],
   "source": [
    "import os\n",
    "import json\n",
    "import boto3\n",
    "import pandas as pd\n",
    "import numpy as np\n",
    "import base64\n",
    "from botocore.exceptions import ClientError\n",
    "from io import StringIO\n",
    "import time\n",
    "from botocore.client import Config\n",
    "from datetime import datetime as dt\n",
    "import datetime\n",
    "\n",
    "from pytz import timezone\n",
    "from dateutil.relativedelta import *\n",
    "\n",
    "from sagemaker.debugger import Rule, rule_configs\n",
    "from sagemaker.session import TrainingInput\n",
    "import sagemaker, boto3, os\n",
    "\n",
    "from collections import OrderedDict\n",
    "\n",
    "from matplotlib import pyplot as plt\n",
    "\n",
    "import copy"
   ]
  },
  {
   "cell_type": "code",
   "execution_count": 363,
   "id": "eaa41ff5-9e2d-443a-bc03-f2b09612a307",
   "metadata": {},
   "outputs": [
    {
     "ename": "NameError",
     "evalue": "name 'scaler' is not defined",
     "output_type": "error",
     "traceback": [
      "\u001b[0;31m---------------------------------------------------------------------------\u001b[0m",
      "\u001b[0;31mNameError\u001b[0m                                 Traceback (most recent call last)",
      "\u001b[0;32m/tmp/ipykernel_9259/730274840.py\u001b[0m in \u001b[0;36m<cell line: 1>\u001b[0;34m()\u001b[0m\n\u001b[0;32m----> 1\u001b[0;31m \u001b[0mscaler\u001b[0m\u001b[0;34m\u001b[0m\u001b[0;34m\u001b[0m\u001b[0m\n\u001b[0m",
      "\u001b[0;31mNameError\u001b[0m: name 'scaler' is not defined"
     ]
    }
   ],
   "source": []
  },
  {
   "cell_type": "code",
   "execution_count": 362,
   "id": "5f607110-c813-43a2-89bc-1bb4a804b71b",
   "metadata": {},
   "outputs": [
    {
     "data": {
      "text/plain": [
       "pandas.core.frame.DataFrame"
      ]
     },
     "execution_count": 362,
     "metadata": {},
     "output_type": "execute_result"
    }
   ],
   "source": [
    "type(value)"
   ]
  },
  {
   "cell_type": "code",
   "execution_count": 341,
   "id": "3a3cf636-00c6-4893-ad95-6bb140f94199",
   "metadata": {},
   "outputs": [],
   "source": [
    "def get_list_in_s3(key_id : str,\n",
    "                secret_key_id : str,\n",
    "                bucket_name : str,\n",
    "                s3_path : str) -> list:\n",
    "    \n",
    "    s3 = boto3.client('s3',\n",
    "                      aws_access_key_id = ACCESS_KEY_ID,\n",
    "                      aws_secret_access_key = ACCESS_SECRET_KEY,\n",
    "                      region_name = 'ap-northeast-2')\n",
    "    paginator = s3.get_paginator('list_objects_v2')\n",
    "    pages = paginator.paginate(Bucket = bucket_name,\n",
    "                               Prefix = s3_path)  # 원하는 bucket 과 하위경로에 있는 object list # dict type\n",
    "    contents_list = [] # object list의 Contents를 가져옴\n",
    "    for page in pages:\n",
    "        for obj in page['Contents']:\n",
    "            contents_list.append(obj)\n",
    "    return contents_list\n",
    "\n",
    "def get_key_in_diclist(diclst : list):\n",
    "    flist = []\n",
    "    for dic in diclst:\n",
    "        key = dic['Key']\n",
    "        flist.append(key)\n",
    "    return flist\n",
    "\n",
    "def download_df_from_S3(key_id : str,\n",
    "                        secret_key_id : str,\n",
    "                        bucket_name : str,\n",
    "                        s3_path : str) -> pd.DataFrame:\n",
    "    try:\n",
    "        sesssion = boto3.Session(key_id, secret_key_id)\n",
    "        s3_resource = sesssion.resource('s3')\n",
    "        bucket = s3_resource.Bucket(bucket_name)\n",
    "        findData = bucket.objects.filter(Prefix=s3_path)\n",
    "        # assert len(list(filter(bool, [obj.key.split('/')[1].split('.')[0] for obj in findData]))) == 1 , '동일한 이름의 파일이 0개 혹은 2개 이상 존재합니다.'\n",
    "        for obj in bucket.objects.filter(Prefix=s3_path):\n",
    "            key = obj.key\n",
    "            if key.split('/')[1] == '': continue\n",
    "            body = obj.get()['Body']\n",
    "            csv_string = body.read().decode('utf-8')\n",
    "            df = pd.read_csv(StringIO(csv_string))\n",
    "        return df\n",
    "    except Exception as e:\n",
    "        return e\n",
    "    \n",
    "def upload_df_to_S3(key_id : str,\n",
    "                    secret_key_id : str,\n",
    "                    bucket_name : str,\n",
    "                    s3_path : str,\n",
    "                    df : pd.DataFrame) -> None:\n",
    "    try:\n",
    "        csv_buffer = StringIO()\n",
    "        df.to_csv(csv_buffer, index=False)\n",
    "        s3_resource = boto3.resource(\n",
    "            's3',\n",
    "            aws_access_key_id=key_id,\n",
    "            aws_secret_access_key=secret_key_id,\n",
    "            config=Config(signature_version='s3v4')\n",
    "        )\n",
    "        code = s3_resource.Object(bucket_name, s3_path).put(Body = csv_buffer.getvalue())\n",
    "        if code['ResponseMetadata']['HTTPStatusCode'] == 200:\n",
    "            return f'Complete uploading data to {s3_path} in AWS S3'\n",
    "        else:\n",
    "            raise Exception('\\nHTTPStautsCode is not 200\\nPlease See below error message\\n'+code)\n",
    "    except Exception as e:\n",
    "        return '\\n'+e\n",
    "\n",
    "def get_secret():\n",
    "    # See https://docs.aws.amazon.com/secretsmanager/latest/apireference/API_GetSecretValue.html\n",
    "    secret_name = \"prod/sagemaker\"\n",
    "    region_name = \"ap-northeast-2\"\n",
    "    \n",
    "    # Create a Secrets Manager client\n",
    "    session = boto3.session.Session()\n",
    "    client = session.client(\n",
    "        service_name='secretsmanager',\n",
    "        region_name=region_name\n",
    "    )\n",
    "    try:\n",
    "        get_secret_value_response = client.get_secret_value(\n",
    "            SecretId='prod/sagemaker',\n",
    "        )\n",
    "    except ClientError as e:\n",
    "        if e.response['Error']['Code'] == 'DecryptionFailureException': # Secrets Manager can't decrypt the protected secret text using the provided KMS key.\n",
    "            raise e\n",
    "        elif e.response['Error']['Code'] == 'InternalServiceErrorException': # An error occurred on the server side.\n",
    "            raise e\n",
    "        elif e.response['Error']['Code'] == 'InvalidParameterException': # You provided an invalid value for a parameter.\n",
    "            raise e\n",
    "        elif e.response['Error']['Code'] == 'InvalidRequestException': # You provided a parameter value that is not valid for the current state of the resource.\n",
    "            raise e\n",
    "        elif e.response['Error']['Code'] == 'ResourceNotFoundException': # We can't find the resource that you asked for.\n",
    "            raise e\n",
    "    else:\n",
    "        if 'SecretString' in get_secret_value_response:\n",
    "            secret = get_secret_value_response['SecretString']\n",
    "            return secret\n",
    "        else:\n",
    "            decoded_binary_secret = base64.b64decode(get_secret_value_response['SecretBinary'])\n",
    "            return decoded_binary_secret"
   ]
  },
  {
   "cell_type": "code",
   "execution_count": 116,
   "id": "d788bd42-072b-401f-a402-4a790ea4ac5f",
   "metadata": {},
   "outputs": [
    {
     "name": "stdout",
     "output_type": "stream",
     "text": [
      "Linux version 5.10.102-99.473.amzn2.x86_64 (mockbuild@ip-10-0-35-1) (gcc10-gcc (GCC) 10.3.1 20210422 (Red Hat 10.3.1-1), GNU ld version 2.35-21.amzn2.0.1) #1 SMP Wed Mar 2 19:14:12 UTC 2022\n",
      "MemTotal:       31824204 kB\n",
      "16\n"
     ]
    }
   ],
   "source": [
    "%%bash\n",
    "cat /proc/version\n",
    "cat /proc/meminfo | grep MemTotal\n",
    "grep -c processor /proc/cpuinfo\n",
    "# cat /proc/cpuinfo"
   ]
  },
  {
   "cell_type": "code",
   "execution_count": 68,
   "id": "2def3f34-008e-493d-ac74-e7b48ac6ec31",
   "metadata": {},
   "outputs": [],
   "source": [
    "keychain = json.loads(get_secret())\n",
    "ACCESS_KEY_ID = keychain['ACCESS_KEY_ID_ent']\n",
    "ACCESS_SECRET_KEY = keychain['ACCESS_SECRET_KEY_ent']\n",
    "\n",
    "BUCKET_NAME_USECASE = keychain['BUCKET_NAME_USECASE_ent']\n",
    "S3_PATH_STAGE = keychain['S3_PATH_STAGE']\n",
    "S3_PATH_GOLDEN = keychain['S3_PATH_GOLDEN']\n",
    "S3_PATH_TRAIN = keychain['S3_PATH_TRAIN']\n",
    "S3_PATH_log = keychain['S3_PATH_LOG']"
   ]
  },
  {
   "cell_type": "markdown",
   "id": "a333abc8-64b5-4b2a-aeba-acfe7fe9cf8b",
   "metadata": {
    "tags": []
   },
   "source": [
    "## 1. SageMaker Processing을 이용한 데이터 전처리(정제)\n",
    "**워크플로우 요약**\n",
    "   1. Stage 데이터셋 가지고 오기\n",
    "   2. First preprocessing: ric 선정 -> 컬럼삭제 -> 형변환 -> 훈련을 위한 dataset로 만들기\n",
    "   3. SageMaker Processing을 이용한 데이터 전처리   \n",
    "   4. trainset, testset 나누기\n",
    "   5. S3 버킷내 golden-data 폴더에 업로드\n",
    "   6. 학습과 테스트를 위해 레이블 생성 & 저장.\n",
    "   \n",
    "**SageMaker Processing?**\n",
    "- SageMaker 노트북 서버와 분리된 독립적 환경에서 테라바이트 수준의 데이터를 변환처리 가능.   \n",
    "- 일반적으로 Prototyping 작업에 사용되는 노트북은 SageMaker 일반 사양에서 실행하며 전처리, 학습, 모델 호스팅과 같은 작업은 강력한 사양의 인스턴스에서 실행.    \n",
    "- SageMaker Processing은 Scikit-learn이 기본 탑재되어 있으며 **Bring Your Own Container** 옵션으로 다양한 데이터 정제 작업을 별도 독립된 환경에서 실행 가능"
   ]
  },
  {
   "cell_type": "markdown",
   "id": "53439da2-c5fd-45cb-80a2-912a66126c9c",
   "metadata": {},
   "source": [
    "### 1) Stage 데이터 가지고 오기"
   ]
  },
  {
   "cell_type": "code",
   "execution_count": 291,
   "id": "513508d0-d0f8-4c1f-9fbe-4708f255ef3b",
   "metadata": {},
   "outputs": [
    {
     "name": "stdout",
     "output_type": "stream",
     "text": [
      "12497\n"
     ]
    }
   ],
   "source": [
    "# 폴더 내 파일 리스트 가지고 옴\n",
    "list_in_stage_dir = get_list_in_s3(ACCESS_KEY_ID,\n",
    "                                   ACCESS_SECRET_KEY,\n",
    "                                   BUCKET_NAME_USECASE,\n",
    "                                   S3_PATH_STAGE)\n",
    "print(len(list_in_stage_dir))"
   ]
  },
  {
   "cell_type": "code",
   "execution_count": 111,
   "id": "e35b16aa-ad2f-42c4-b9c3-a2fa8c5e48a1",
   "metadata": {},
   "outputs": [
    {
     "name": "stdout",
     "output_type": "stream",
     "text": [
      "12497\n",
      "staged-data/2022/10/19/1666160130.0/raw.csv\n"
     ]
    }
   ],
   "source": [
    "# 잘 정제해주기\n",
    "path_list = []\n",
    "for dic in list_in_stage_dir:\n",
    "    key = dic['Key']\n",
    "    path_list.append(key)\n",
    "print(len(path_list))\n",
    "print(path_list[-1])"
   ]
  },
  {
   "cell_type": "code",
   "execution_count": 112,
   "id": "25de9a60-e724-4ba7-88eb-9e2114477140",
   "metadata": {},
   "outputs": [
    {
     "data": {
      "text/plain": [
       "['staged-data/',\n",
       " 'staged-data/1980/01/01/315532800.0/raw.csv',\n",
       " 'staged-data/1980/01/02/315619200.0/raw.csv',\n",
       " 'staged-data/1980/01/03/315705600.0/raw.csv',\n",
       " 'staged-data/1980/01/04/315792000.0/raw.csv']"
      ]
     },
     "execution_count": 112,
     "metadata": {},
     "output_type": "execute_result"
    }
   ],
   "source": [
    "path_list[:5]"
   ]
  },
  {
   "cell_type": "code",
   "execution_count": 113,
   "id": "e25a6105-0188-4cbf-ac38-cba9c3b554ef",
   "metadata": {},
   "outputs": [
    {
     "data": {
      "text/plain": [
       "['staged-data/1980/01/01/315532800.0/raw.csv',\n",
       " 'staged-data/1980/01/02/315619200.0/raw.csv',\n",
       " 'staged-data/1980/01/03/315705600.0/raw.csv',\n",
       " 'staged-data/1980/01/04/315792000.0/raw.csv',\n",
       " 'staged-data/1980/01/07/316051200.0/raw.csv']"
      ]
     },
     "execution_count": 113,
     "metadata": {},
     "output_type": "execute_result"
    }
   ],
   "source": [
    "if S3_PATH_STAGE+'/' in path_list:\n",
    "    path_list.remove(S3_PATH_STAGE+'/')\n",
    "path_list[:5]"
   ]
  },
  {
   "cell_type": "code",
   "execution_count": 239,
   "id": "cce544d2-038f-48a1-940a-5057953b1fb8",
   "metadata": {},
   "outputs": [
    {
     "name": "stdout",
     "output_type": "stream",
     "text": [
      "CPU times: user 391 ms, sys: 23.3 ms, total: 414 ms\n",
      "Wall time: 413 ms\n"
     ]
    }
   ],
   "source": [
    "# 파일 리스트로 부터 파일들 가지고 와서 한개의 데이터셋으로 붙이기\n",
    "%%time\n",
    "start = time.time()\n",
    "\n",
    "if not os.path.exists(raw_dir):\n",
    "    KST = dt.today() + relativedelta(hours=9)\n",
    "    raw_dir = os.path.join(os.getcwd(),'data/raw', KST.strftime('%Y/%m/%d'))\n",
    "    raw_dir_ts = os.path.join(raw_dir, str(time.mktime(KST.timetuple())))\n",
    "\n",
    "    df_raw = pd.DataFrame()\n",
    "\n",
    "    for fname in path_list:\n",
    "        df_tmp = download_df_from_S3(ACCESS_KEY_ID,\n",
    "                                     ACCESS_SECRET_KEY,\n",
    "                                     BUCKET_NAME_USECASE,\n",
    "                                     fname)\n",
    "        df_raw = pd.concat([df_raw, df_tmp])\n",
    "\n",
    "    os.makedirs(raw_dir_ts, exist_ok=True)\n",
    "    df_raw = df_raw.reset_index(drop=True)\n",
    "    df_raw.to_csv(os.path.join(raw_dir_ts, 'raw.csv'),\n",
    "                  index=False)\n",
    "else:\n",
    "    raw_dir_ts = os.path.join(raw_dir, os.listdir(raw_dir)[0])\n",
    "    df_raw = pd.read_csv(os.path.join(raw_dir_ts, 'raw.csv'))\n",
    "    \n",
    "end = time.time()\n",
    "# lgr.info(f\"Complete,ALL,run time,{end - start:.5f} sec\")"
   ]
  },
  {
   "cell_type": "code",
   "execution_count": 225,
   "id": "061612b3-4067-4140-b5b6-70cf5428b587",
   "metadata": {},
   "outputs": [
    {
     "name": "stdout",
     "output_type": "stream",
     "text": [
      "Staging Data 시간 : 2206.9 sec\n",
      "Staging Data 시간 : 36.8 min\n"
     ]
    }
   ],
   "source": [
    "print(f\"Staging Data 시간 : {end - start:.1f} sec\")\n",
    "print(f\"Staging Data 시간 : {((end - start)/60):.1f} min\")"
   ]
  },
  {
   "cell_type": "markdown",
   "id": "12e0a481-fb36-468d-89f1-8870a90615e2",
   "metadata": {},
   "source": [
    "\\[2022년 10월 20일 기준\\]   \n",
    "Download and Concat Staging Data 시간 : **2206.9 sec(36.8 min)**"
   ]
  },
  {
   "cell_type": "code",
   "execution_count": 240,
   "id": "b535d821-a3eb-4e74-b3ad-3324258f7df0",
   "metadata": {},
   "outputs": [
    {
     "data": {
      "text/html": [
       "<div>\n",
       "<style scoped>\n",
       "    .dataframe tbody tr th:only-of-type {\n",
       "        vertical-align: middle;\n",
       "    }\n",
       "\n",
       "    .dataframe tbody tr th {\n",
       "        vertical-align: top;\n",
       "    }\n",
       "\n",
       "    .dataframe thead th {\n",
       "        text-align: right;\n",
       "    }\n",
       "</style>\n",
       "<table border=\"1\" class=\"dataframe\">\n",
       "  <thead>\n",
       "    <tr style=\"text-align: right;\">\n",
       "      <th></th>\n",
       "      <th>Date</th>\n",
       "      <th>HIGH</th>\n",
       "      <th>LOW</th>\n",
       "      <th>OPEN</th>\n",
       "      <th>CLOSE</th>\n",
       "      <th>VOLUME</th>\n",
       "      <th>RIC</th>\n",
       "    </tr>\n",
       "  </thead>\n",
       "  <tbody>\n",
       "    <tr>\n",
       "      <th>0</th>\n",
       "      <td>1980-01-01</td>\n",
       "      <td>NaN</td>\n",
       "      <td>NaN</td>\n",
       "      <td>NaN</td>\n",
       "      <td>879.38</td>\n",
       "      <td>NaN</td>\n",
       "      <td>HSI</td>\n",
       "    </tr>\n",
       "    <tr>\n",
       "      <th>1</th>\n",
       "      <td>1980-01-01</td>\n",
       "      <td>107.94</td>\n",
       "      <td>107.940</td>\n",
       "      <td>107.94</td>\n",
       "      <td>107.94</td>\n",
       "      <td>NaN</td>\n",
       "      <td>SPX</td>\n",
       "    </tr>\n",
       "    <tr>\n",
       "      <th>2</th>\n",
       "      <td>1980-01-02</td>\n",
       "      <td>23.98</td>\n",
       "      <td>23.630</td>\n",
       "      <td>23.80</td>\n",
       "      <td>23.83</td>\n",
       "      <td>NaN</td>\n",
       "      <td>BOc1</td>\n",
       "    </tr>\n",
       "    <tr>\n",
       "      <th>3</th>\n",
       "      <td>1980-01-02</td>\n",
       "      <td>24.35</td>\n",
       "      <td>24.000</td>\n",
       "      <td>24.20</td>\n",
       "      <td>24.13</td>\n",
       "      <td>NaN</td>\n",
       "      <td>BOc2</td>\n",
       "    </tr>\n",
       "    <tr>\n",
       "      <th>4</th>\n",
       "      <td>1980-01-02</td>\n",
       "      <td>24.70</td>\n",
       "      <td>24.380</td>\n",
       "      <td>24.65</td>\n",
       "      <td>24.50</td>\n",
       "      <td>NaN</td>\n",
       "      <td>BOc3</td>\n",
       "    </tr>\n",
       "    <tr>\n",
       "      <th>...</th>\n",
       "      <td>...</td>\n",
       "      <td>...</td>\n",
       "      <td>...</td>\n",
       "      <td>...</td>\n",
       "      <td>...</td>\n",
       "      <td>...</td>\n",
       "      <td>...</td>\n",
       "    </tr>\n",
       "    <tr>\n",
       "      <th>893285</th>\n",
       "      <td>2022-10-19</td>\n",
       "      <td>1395.75</td>\n",
       "      <td>1375.250</td>\n",
       "      <td>1389.75</td>\n",
       "      <td>1392.00</td>\n",
       "      <td>19199.0</td>\n",
       "      <td>Sc3</td>\n",
       "    </tr>\n",
       "    <tr>\n",
       "      <th>893286</th>\n",
       "      <td>2022-10-19</td>\n",
       "      <td>0.50</td>\n",
       "      <td>0.415</td>\n",
       "      <td>0.42</td>\n",
       "      <td>0.48</td>\n",
       "      <td>2333300.0</td>\n",
       "      <td>THPBKL</td>\n",
       "    </tr>\n",
       "    <tr>\n",
       "      <th>893287</th>\n",
       "      <td>2022-10-19</td>\n",
       "      <td>862.75</td>\n",
       "      <td>835.500</td>\n",
       "      <td>847.00</td>\n",
       "      <td>841.25</td>\n",
       "      <td>38687.0</td>\n",
       "      <td>Wc1</td>\n",
       "    </tr>\n",
       "    <tr>\n",
       "      <th>893288</th>\n",
       "      <td>2022-10-19</td>\n",
       "      <td>879.75</td>\n",
       "      <td>854.000</td>\n",
       "      <td>867.75</td>\n",
       "      <td>859.00</td>\n",
       "      <td>11790.0</td>\n",
       "      <td>Wc2</td>\n",
       "    </tr>\n",
       "    <tr>\n",
       "      <th>893289</th>\n",
       "      <td>2022-10-19</td>\n",
       "      <td>887.50</td>\n",
       "      <td>863.500</td>\n",
       "      <td>878.00</td>\n",
       "      <td>869.50</td>\n",
       "      <td>7401.0</td>\n",
       "      <td>Wc3</td>\n",
       "    </tr>\n",
       "  </tbody>\n",
       "</table>\n",
       "<p>893290 rows × 7 columns</p>\n",
       "</div>"
      ],
      "text/plain": [
       "              Date     HIGH       LOW     OPEN    CLOSE     VOLUME     RIC\n",
       "0       1980-01-01      NaN       NaN      NaN   879.38        NaN     HSI\n",
       "1       1980-01-01   107.94   107.940   107.94   107.94        NaN     SPX\n",
       "2       1980-01-02    23.98    23.630    23.80    23.83        NaN    BOc1\n",
       "3       1980-01-02    24.35    24.000    24.20    24.13        NaN    BOc2\n",
       "4       1980-01-02    24.70    24.380    24.65    24.50        NaN    BOc3\n",
       "...            ...      ...       ...      ...      ...        ...     ...\n",
       "893285  2022-10-19  1395.75  1375.250  1389.75  1392.00    19199.0     Sc3\n",
       "893286  2022-10-19     0.50     0.415     0.42     0.48  2333300.0  THPBKL\n",
       "893287  2022-10-19   862.75   835.500   847.00   841.25    38687.0     Wc1\n",
       "893288  2022-10-19   879.75   854.000   867.75   859.00    11790.0     Wc2\n",
       "893289  2022-10-19   887.50   863.500   878.00   869.50     7401.0     Wc3\n",
       "\n",
       "[893290 rows x 7 columns]"
      ]
     },
     "execution_count": 240,
     "metadata": {},
     "output_type": "execute_result"
    }
   ],
   "source": [
    "df_raw"
   ]
  },
  {
   "cell_type": "code",
   "execution_count": 256,
   "id": "0cae8e7e-7229-497c-9928-a6678837969c",
   "metadata": {},
   "outputs": [],
   "source": [
    "boto_session = boto3.Session(ACCESS_KEY_ID, ACCESS_SECRET_KEY)\n",
    "sm_session = sagemaker.Session(boto_session = boto_session)\n",
    "region = boto_session.region_name\n",
    "\n",
    "s3_resource = boto_session.resource('s3')\n",
    "bucket = s3_resource.Bucket(BUCKET_NAME_USECASE)"
   ]
  },
  {
   "cell_type": "code",
   "execution_count": 265,
   "id": "8afc03af-c739-4f25-b0f2-02aba90a38cd",
   "metadata": {},
   "outputs": [],
   "source": [
    "test = df_raw[df_raw['Date'] > '2022-06'].reset_index(drop=True)\n",
    "test = test[test['RIC'] == 'FCPOc3']\n",
    "test.loc[:, \"Date\"] = pd.to_datetime(test.loc[:, \"Date\"])"
   ]
  },
  {
   "cell_type": "code",
   "execution_count": 266,
   "id": "2546ce70-e831-4dd6-b23f-c51a493f6ca9",
   "metadata": {},
   "outputs": [],
   "source": []
  },
  {
   "cell_type": "code",
   "execution_count": 267,
   "id": "e28ccddc-ba44-484e-adaa-ddffcf008a66",
   "metadata": {},
   "outputs": [
    {
     "data": {
      "image/png": "[encoded data removed]",
      "text/plain": [
       "<Figure size 600x400 with 1 Axes>"
      ]
     },
     "metadata": {
      "needs_background": "light"
     },
     "output_type": "display_data"
    }
   ],
   "source": [
    "plt.figure(dpi=100)\n",
    "plt.plot(test['Date'].values,\n",
    "         test['CLOSE'].values,\n",
    "         'black', label=\"Train data\")\n",
    "plt.xlabel('Time', labelpad=15)\n",
    "plt.ylabel('Price(MYR)', labelpad=20)\n",
    "\n",
    "plt.title(f'Palm Oil Market Trend')\n",
    "plt.legend()\n",
    "plt.show()"
   ]
  },
  {
   "cell_type": "markdown",
   "id": "1a5e14f7-df3f-4398-b5da-a83983d60c60",
   "metadata": {},
   "source": [
    "사용할 품목 리스트\n",
    "- CLOSE만 존재하는 COLUME삭제\n"
   ]
  },
  {
   "cell_type": "markdown",
   "id": "365a1015-3fe8-4897-8d24-b945dc0665c5",
   "metadata": {},
   "source": [
    "### 2) First preprocessing\n",
    "- EDA에서 선정한 RIC 코드 선별\n",
    "- 컬럼삭제\n",
    "- 형변환 \n",
    "- EDA를 통한 Date별 데이터 선별\n",
    "- 종합하여 1차 dataset로 만들기"
   ]
  },
  {
   "cell_type": "code",
   "execution_count": 292,
   "id": "fbeceec0-240f-4916-9565-54b7b51f9944",
   "metadata": {},
   "outputs": [],
   "source": [
    "ric_list_ex01 = ['BOc1', 'BOc2', 'BOc3','BOPLKL','BRRTSc1', 'BRRTSc2', 'BRRTSc3', 'CAD=', 'EUR=', 'JPY=', 'KRW=', 'MYR=', 'GBP=', 'INR=','Cc1', 'Cc2', 'Cc3','CCMc1', 'CCMc2', 'CCMc3',\n",
    "                 'CLc1', 'CLc2', 'CLc3','CNY=','COMc1', 'COMc2','COMc3','CTc1', 'CTc2', 'CTc3', 'DJCI', 'DJCIBR', 'DJCICL', 'DJCICN', 'DJCIEN', 'DJCIGR', 'DJCIIA', 'DJCING', \n",
    "                 'DJCISO', 'DJCIWH', 'DJT','FCHI','FCPOc1', 'FCPOc2', 'FCPOc3','FGVHKL',\n",
    "                 'FKLIc1', 'FKLIc2', 'FKLIc3','FTSE','GCc1', 'GCc2', 'GCc3','GDAXI','GENMKL','HSI','IOIBKL','IXIC','JNIc1','JNIc2','JNIc3','KCc1', 'KCc2', 'KCc3','KLKKKL','KLSE','KQ11', 'KS11',\n",
    "                 'KWc1', 'KWc2', 'KWc3','LCOc1', 'LCOc2', 'LCOc3','LWBc1', 'LWBc2', 'LWBc3','MCCc1', 'MCCc2', 'MCCc3','MXSCKL','Oc1', 'Oc2', 'Oc3','PEPTKL','RRc1', 'RRc2', 'RRc3','RSc1', 'RSc2', 'RSc3',\n",
    "                 'Sc1', 'Sc2', 'Sc3','SIMEKL','SOPSKL','SSEC', 'THPBKL', 'Wc1', 'Wc2', 'Wc3'\n",
    "                ] #SPX,VIX 더이상 지원안하므로 제거"
   ]
  },
  {
   "cell_type": "code",
   "execution_count": 293,
   "id": "27652c35-1886-475d-8186-e0f94cab4516",
   "metadata": {},
   "outputs": [
    {
     "data": {
      "text/plain": [
       "19059"
      ]
     },
     "execution_count": 293,
     "metadata": {},
     "output_type": "execute_result"
    }
   ],
   "source": [
    "len(df_raw) - len(df_raw[df_raw['RIC'].isin(ric_list_ex01)])"
   ]
  },
  {
   "cell_type": "code",
   "execution_count": 310,
   "id": "ce662aa6-cb57-4c3c-a9fa-6ee6cdf039e2",
   "metadata": {
    "tags": []
   },
   "outputs": [
    {
     "name": "stdout",
     "output_type": "stream",
     "text": [
      "CPU times: user 4.43 s, sys: 0 ns, total: 4.43 s\n",
      "Wall time: 4.43 s\n"
     ]
    }
   ],
   "source": [
    "%%time\n",
    "start = time.time()\n",
    "\n",
    "data_dir = \"raw-data/\"\n",
    "\n",
    "df_list = OrderedDict()\n",
    "# RIC 코드 선별\n",
    "df_tmp1 = df_raw[df_raw['RIC'].isin(ric_list_ex01)]\n",
    "# 열 삭제\n",
    "df_tmp1 = df_tmp1[['Date', 'HIGH', 'LOW', 'OPEN', 'CLOSE','RIC']]\n",
    "# 형변환\n",
    "df_tmp1.loc[:, \"Date\"] = pd.to_datetime(df_tmp1.loc[:, \"Date\"])\n",
    "# 데이터 셋 만들기\n",
    "for name in ric_list_ex01:\n",
    "    df_tmp2 = df_tmp1[df_tmp1['RIC'] == name]\n",
    "    df_tmp2 = df_tmp2.drop('RIC', axis=1)\n",
    "    df_list[name] = df_tmp2[df_tmp2['Date'] >= '2014-07-02'].reset_index(drop = True)\n",
    "\n",
    "end = time.time()\n"
   ]
  },
  {
   "cell_type": "code",
   "execution_count": 311,
   "id": "9457608d-ed9d-45ac-bc4e-7a6913222f82",
   "metadata": {},
   "outputs": [
    {
     "name": "stdout",
     "output_type": "stream",
     "text": [
      "Dataset화 시간 : 4.4 sec\n",
      "Dataset화 시간 : 0.1 min\n"
     ]
    }
   ],
   "source": [
    "print(f\"Dataset화 시간 : {end - start:.1f} sec\")\n",
    "print(f\"Dataset화 시간 : {((end - start)/60):.1f} min\")"
   ]
  },
  {
   "cell_type": "markdown",
   "id": "54e0e566-078d-4547-bd71-e901548928c7",
   "metadata": {},
   "source": [
    "### 3) Second preprocessing\n",
    "- 컬럼 일관성 있게 만들기\n",
    "- Fill missing date\n",
    "- Apply filling missing value on each columns\n",
    "- Scaler\n",
    "- 종합하여 2차 dataset로 만들기"
   ]
  },
  {
   "cell_type": "code",
   "execution_count": 316,
   "id": "b0a3ffe8-e805-432a-bb92-c25e93c3e4ca",
   "metadata": {},
   "outputs": [],
   "source": [
    "df_col_type = copy.deepcopy(df_list)\n",
    "col_names = ['ds','high','low','open','y']\n",
    "for n,x in df_col_type.items():\n",
    "    df_col_type[n].columns = col_names\n",
    "    df_col_type[n].loc[:, \"ds\"] = pd.to_datetime(df_col_type[n].loc[:, \"ds\"])\n",
    "    df_col_type[n].loc[:, \"high\"] = df_col_type[n].loc[:, \"high\"].astype(np.float32)\n",
    "    df_col_type[n].loc[:, \"low\"] = df_col_type[n].loc[:, \"low\"].astype(np.float32)\n",
    "    df_col_type[n].loc[:, \"open\"] = df_col_type[n].loc[:, \"open\"].astype(np.float32)\n",
    "    df_col_type[n].loc[:, \"y\"] = df_col_type[n].loc[:, \"y\"].astype(np.float32)\n",
    "    # print(n,'\\t', list(x))\n",
    "    # print('min:', x['ds'].min(), 'max:', x['ds'].max())"
   ]
  },
  {
   "cell_type": "code",
   "execution_count": 317,
   "id": "8b2f2a1b-6f25-4329-9495-56851ff2df03",
   "metadata": {},
   "outputs": [],
   "source": [
    "def fill_missing_dates(df_in : pd.DataFrame,\n",
    "                       freq : str\n",
    "                      ) -> pd.DataFrame : \n",
    "    df = df_in.copy()\n",
    "    if df[\"ds\"].dtype == np.int64:\n",
    "            df.loc[:, \"ds\"] = df.loc[:, \"ds\"].astype(str)\n",
    "    df.loc[:, \"ds\"] = pd.to_datetime(df.loc[:, \"ds\"])\n",
    "    r = pd.date_range(start = df[\"ds\"].min(),\n",
    "                      end = df[\"ds\"].max(),\n",
    "                      freq = freq)\n",
    "    df = df.set_index(\"ds\").reindex(r).rename_axis(\"ds\").reset_index()\n",
    "    return df"
   ]
  },
  {
   "cell_type": "code",
   "execution_count": 318,
   "id": "9c07ffb8-7ad3-4698-9b47-1f17d3cea71d",
   "metadata": {},
   "outputs": [],
   "source": [
    "df_fill_date = copy.deepcopy(df_col_type)\n",
    "for df_one in df_fill_date.items():\n",
    "    name = df_one[0]\n",
    "    value = df_one[1]\n",
    "    # print(name)\n",
    "    df_fill_date[name]  = fill_missing_dates(value, 'B')\n",
    "    num_added = len(df_fill_date[name]) - len(value)\n",
    "    is_na = sum(df_fill_date[name]['y'].isnull())\n",
    "    # print('num_added:', num_added)\n",
    "    # print('is_na:',is_na)"
   ]
  },
  {
   "cell_type": "code",
   "execution_count": 322,
   "id": "89214c6d-df53-43ba-a2dc-5356192f3d2d",
   "metadata": {},
   "outputs": [],
   "source": [
    "def fill_missing_price_value(df: pd.DataFrame, col: str, limit_linear : int = 20 ) -> pd.DataFrame :\n",
    "    initial_is_na = sum(df[col].isnull())\n",
    "    series = df.loc[:, col].astype(float)\n",
    "    series = series.interpolate(method=\"linear\", limit=limit_linear, limit_direction=\"both\")\n",
    "    series = [0 if v < 0 else v for v in series]\n",
    "    df[col] = series\n",
    "    # if sum(df[col].isnull()) != 0:\n",
    "    #     print(\"is na :\", initial_is_na)\n",
    "    #     print(\"remaining na :\", sum(df[col].isnull()))\n",
    "    return df"
   ]
  },
  {
   "cell_type": "code",
   "execution_count": 323,
   "id": "527d8744-88b6-4624-825e-825567423377",
   "metadata": {},
   "outputs": [],
   "source": [
    "df_list_proc = copy.deepcopy(df_fill_date)\n",
    "for df_one in df_list_proc.items():\n",
    "    name = df_one[0]\n",
    "    value = df_one[1]\n",
    "    # print(name)\n",
    "    # print(sum(value['y'].isnull()))\n",
    "    df_proc1 = fill_missing_price_value(value, 'y')\n",
    "    df_proc1 = fill_missing_price_value(value, 'high')\n",
    "    df_proc1 = fill_missing_price_value(value, 'low')\n",
    "    df_proc1 = fill_missing_price_value(value, 'open')\n",
    "    # print(sum(df_proc1['y'].isnull()))\n",
    "    # print(len(df_proc1))\n",
    "    df_list_proc[name] = df_proc1"
   ]
  },
  {
   "cell_type": "markdown",
   "id": "a68fc5bb-b6b4-4519-8e6f-161f2c013f62",
   "metadata": {},
   "source": [
    "**Scaling**"
   ]
  },
  {
   "cell_type": "code",
   "execution_count": 324,
   "id": "ea4c4e84-e0fb-46f4-ae3d-3a9e18b2a4b4",
   "metadata": {},
   "outputs": [],
   "source": [
    "from sklearn.preprocessing import MinMaxScaler\n",
    "import joblib"
   ]
  },
  {
   "cell_type": "code",
   "execution_count": 374,
   "id": "ad161abc-653c-4f25-a3de-39d3ec274356",
   "metadata": {},
   "outputs": [],
   "source": [
    "def scaling_value(series : pd.Series,\n",
    "                  col : str,\n",
    "                  name\n",
    "                  BUCKET_NAME_USECASE,\n",
    "                  S3_PATH_GOLDEN) -> tuple:\n",
    "    scaler = MinMaxScaler()\n",
    "    series = series.reshape(-1,1)\n",
    "    scaler.fit(series)\n",
    "    series = scaler.transform(series)\n",
    "    with tempfile.TemporaryFile() as fp:\n",
    "        joblib.dump(scaler, fp)\n",
    "    fp.seek(0)\n",
    "    s3_resource.put_object(Body = fp.read(),\n",
    "                           Bucket = BUCKET_NAME_USECASE,\n",
    "                           Key = f\"{S3_PATH_GOLDEN}/scaler-files/f{KST.strftime('%Y%d%m-%H%M%S')}/{name}_y_scaler.pkl\")\n",
    "\n",
    "    return (series, fp)\n"
   ]
  },
  {
   "cell_type": "code",
   "execution_count": null,
   "id": "59fedd9d-9ac1-4122-8213-61e9e5a1a1bf",
   "metadata": {},
   "outputs": [],
   "source": [
    "# WRITE\n",
    "\n",
    "\n"
   ]
  },
  {
   "cell_type": "markdown",
   "id": "d492f5ff-d0c2-403e-9825-4e35f7841e77",
   "metadata": {},
   "source": [
    "**스케일 파일 dump 및 2차 Dataset화**\n",
    "```python\n",
    "# READ\n",
    "with tempfile.TemporaryFile() as fp:\n",
    "    s3_client.download_fileobj(Fileobj = fp, Bucket = bucket_name, Key = key)\n",
    "fp.seek(0)\n",
    "model = joblib.load(fp)\n",
    "```"
   ]
  },
  {
   "cell_type": "code",
   "execution_count": 375,
   "id": "4e6b8dbf-d577-4860-992d-a6a401387ea6",
   "metadata": {},
   "outputs": [
    {
     "ename": "ValueError",
     "evalue": "seek of closed file",
     "output_type": "error",
     "traceback": [
      "\u001b[0;31m---------------------------------------------------------------------------\u001b[0m",
      "\u001b[0;31mValueError\u001b[0m                                Traceback (most recent call last)",
      "\u001b[0;32m/tmp/ipykernel_9259/1465965001.py\u001b[0m in \u001b[0;36m<cell line: 6>\u001b[0;34m()\u001b[0m\n\u001b[1;32m      6\u001b[0m \u001b[0;32mfor\u001b[0m \u001b[0mname\u001b[0m\u001b[0;34m,\u001b[0m \u001b[0mvalue\u001b[0m \u001b[0;32min\u001b[0m \u001b[0mdf_list_scaled\u001b[0m\u001b[0;34m.\u001b[0m\u001b[0mitems\u001b[0m\u001b[0;34m(\u001b[0m\u001b[0;34m)\u001b[0m\u001b[0;34m:\u001b[0m\u001b[0;34m\u001b[0m\u001b[0;34m\u001b[0m\u001b[0m\n\u001b[1;32m      7\u001b[0m     \u001b[0mvalue\u001b[0m\u001b[0;34m.\u001b[0m\u001b[0mloc\u001b[0m\u001b[0;34m[\u001b[0m\u001b[0;34m:\u001b[0m\u001b[0;34m,\u001b[0m \u001b[0;34m'y'\u001b[0m\u001b[0;34m]\u001b[0m\u001b[0;34m,\u001b[0m\u001b[0mfp\u001b[0m \u001b[0;34m=\u001b[0m \u001b[0mscaling_value\u001b[0m\u001b[0;34m(\u001b[0m\u001b[0mvalue\u001b[0m\u001b[0;34m[\u001b[0m\u001b[0;34m'y'\u001b[0m\u001b[0;34m]\u001b[0m\u001b[0;34m.\u001b[0m\u001b[0mvalues\u001b[0m\u001b[0;34m)\u001b[0m\u001b[0;34m\u001b[0m\u001b[0;34m\u001b[0m\u001b[0m\n\u001b[0;32m----> 8\u001b[0;31m     \u001b[0mfp\u001b[0m\u001b[0;34m.\u001b[0m\u001b[0mseek\u001b[0m\u001b[0;34m(\u001b[0m\u001b[0;36m0\u001b[0m\u001b[0;34m)\u001b[0m\u001b[0;34m\u001b[0m\u001b[0;34m\u001b[0m\u001b[0m\n\u001b[0m\u001b[1;32m      9\u001b[0m     s3_resource.put_object(Body = fp.read(),\n\u001b[1;32m     10\u001b[0m                            \u001b[0mBucket\u001b[0m \u001b[0;34m=\u001b[0m \u001b[0mBUCKET_NAME_USECASE\u001b[0m\u001b[0;34m,\u001b[0m\u001b[0;34m\u001b[0m\u001b[0;34m\u001b[0m\u001b[0m\n",
      "\u001b[0;31mValueError\u001b[0m: seek of closed file"
     ]
    }
   ],
   "source": [
    "scale_dir = os.path.join(os.getcwd(), 'preprocessing','scaler-files')\n",
    "os.makedirs(scale_dir, exist_ok=True)\n",
    "\n",
    "df_list_scaled = copy.deepcopy(df_list_proc) \n",
    "\n",
    "for name, value in df_list_scaled.items():\n",
    "    value.loc[:, 'y'],fp = scaling_value(value['y'].values)\n",
    "    fp.seek(0)\n",
    "    s3_resource.put_object(Body = fp.read(),\n",
    "                           Bucket = BUCKET_NAME_USECASE,\n",
    "                           Key = f\"{S3_PATH_GOLDEN}/scaler-files/f{KST.strftime('%Y%d%m-%H%M%S')}/{name}_y_scaler.pkl\")\n",
    "\n",
    "    value.loc[:, 'high'],fp = scaling_value(value['high'].values)\n",
    "    fp.seek(0)\n",
    "\n",
    "    value.loc[:, 'open'],fp = scaling_value(value['open'].values)\n",
    "    fp.seek(0)\n",
    "    s3_resource.put_object(Body = fp.read(),\n",
    "                           Bucket = BUCKET_NAME_USECASE,\n",
    "                           Key = f\"{S3_PATH_GOLDEN}/scaler-files/f{KST.strftime('%Y%d%m-%H%M%S')}/{name}_open_scaler.pkl\")\n",
    "    \n",
    "    value.loc[:, 'low'],fp = scaling_value(value['low'].values)\n",
    "    fp.seek(0)\n",
    "    s3_resource.put_object(Body = fp.read(),\n",
    "                           Bucket = BUCKET_NAME_USECASE,\n",
    "                           Key = f\"{S3_PATH_GOLDEN}/scaler-files/f{KST.strftime('%Y%d%m-%H%M%S')}/{name}_low_scaler.pkl\")\n",
    "\n",
    "    df_list_scaled[name] = value"
   ]
  },
  {
   "cell_type": "markdown",
   "id": "c83d3750-3d53-4985-9c70-3ef3ead7aada",
   "metadata": {},
   "source": [
    "**업로드하는것들**\n",
    "1. Dump한 Scale 파일들\n",
    "2. 전처리한 Dataset"
   ]
  },
  {
   "cell_type": "markdown",
   "id": "a11fe638-cb84-4a09-a7b9-1afe2ad89fbc",
   "metadata": {},
   "source": [
    "**2차 Dataset화**"
   ]
  },
  {
   "cell_type": "code",
   "execution_count": 338,
   "id": "c108357f-c0ff-4aec-a032-b2d0cf74efc0",
   "metadata": {},
   "outputs": [],
   "source": [
    "df_golden = pd.DataFrame()\n",
    "for name, value in df_list_scaled.items():\n",
    "    value = value.assign(ric = name)\n",
    "    df_golden = pd.concat([df_golden, value])\n",
    "df_golden = df_golden.reset_index(drop = True)"
   ]
  },
  {
   "cell_type": "code",
   "execution_count": 339,
   "id": "8f4a29c6-f884-4acf-b7c0-5b26f9918cc7",
   "metadata": {},
   "outputs": [
    {
     "data": {
      "text/html": [
       "<div>\n",
       "<style scoped>\n",
       "    .dataframe tbody tr th:only-of-type {\n",
       "        vertical-align: middle;\n",
       "    }\n",
       "\n",
       "    .dataframe tbody tr th {\n",
       "        vertical-align: top;\n",
       "    }\n",
       "\n",
       "    .dataframe thead th {\n",
       "        text-align: right;\n",
       "    }\n",
       "</style>\n",
       "<table border=\"1\" class=\"dataframe\">\n",
       "  <thead>\n",
       "    <tr style=\"text-align: right;\">\n",
       "      <th></th>\n",
       "      <th>ds</th>\n",
       "      <th>high</th>\n",
       "      <th>low</th>\n",
       "      <th>open</th>\n",
       "      <th>y</th>\n",
       "      <th>ric</th>\n",
       "    </tr>\n",
       "  </thead>\n",
       "  <tbody>\n",
       "    <tr>\n",
       "      <th>0</th>\n",
       "      <td>2014-07-02</td>\n",
       "      <td>0.208453</td>\n",
       "      <td>0.205457</td>\n",
       "      <td>0.205457</td>\n",
       "      <td>0.205457</td>\n",
       "      <td>BOc1</td>\n",
       "    </tr>\n",
       "    <tr>\n",
       "      <th>1</th>\n",
       "      <td>2014-07-03</td>\n",
       "      <td>0.203925</td>\n",
       "      <td>0.206828</td>\n",
       "      <td>0.206828</td>\n",
       "      <td>0.206828</td>\n",
       "      <td>BOc1</td>\n",
       "    </tr>\n",
       "    <tr>\n",
       "      <th>2</th>\n",
       "      <td>2014-07-04</td>\n",
       "      <td>0.202868</td>\n",
       "      <td>0.205304</td>\n",
       "      <td>0.205304</td>\n",
       "      <td>0.205304</td>\n",
       "      <td>BOc1</td>\n",
       "    </tr>\n",
       "    <tr>\n",
       "      <th>3</th>\n",
       "      <td>2014-07-07</td>\n",
       "      <td>0.201811</td>\n",
       "      <td>0.203780</td>\n",
       "      <td>0.203780</td>\n",
       "      <td>0.203780</td>\n",
       "      <td>BOc1</td>\n",
       "    </tr>\n",
       "    <tr>\n",
       "      <th>4</th>\n",
       "      <td>2014-07-08</td>\n",
       "      <td>0.200151</td>\n",
       "      <td>0.195245</td>\n",
       "      <td>0.195245</td>\n",
       "      <td>0.195245</td>\n",
       "      <td>BOc1</td>\n",
       "    </tr>\n",
       "    <tr>\n",
       "      <th>...</th>\n",
       "      <td>...</td>\n",
       "      <td>...</td>\n",
       "      <td>...</td>\n",
       "      <td>...</td>\n",
       "      <td>...</td>\n",
       "      <td>...</td>\n",
       "    </tr>\n",
       "    <tr>\n",
       "      <th>218696</th>\n",
       "      <td>2022-10-13</td>\n",
       "      <td>0.590804</td>\n",
       "      <td>0.580006</td>\n",
       "      <td>0.580006</td>\n",
       "      <td>0.580006</td>\n",
       "      <td>Wc3</td>\n",
       "    </tr>\n",
       "    <tr>\n",
       "      <th>218697</th>\n",
       "      <td>2022-10-14</td>\n",
       "      <td>0.582707</td>\n",
       "      <td>0.550129</td>\n",
       "      <td>0.550129</td>\n",
       "      <td>0.550129</td>\n",
       "      <td>Wc3</td>\n",
       "    </tr>\n",
       "    <tr>\n",
       "      <th>218698</th>\n",
       "      <td>2022-10-17</td>\n",
       "      <td>0.560440</td>\n",
       "      <td>0.548118</td>\n",
       "      <td>0.548118</td>\n",
       "      <td>0.548118</td>\n",
       "      <td>Wc3</td>\n",
       "    </tr>\n",
       "    <tr>\n",
       "      <th>218699</th>\n",
       "      <td>2022-10-18</td>\n",
       "      <td>0.548872</td>\n",
       "      <td>0.539500</td>\n",
       "      <td>0.539500</td>\n",
       "      <td>0.539500</td>\n",
       "      <td>Wc3</td>\n",
       "    </tr>\n",
       "    <tr>\n",
       "      <th>218700</th>\n",
       "      <td>2022-10-19</td>\n",
       "      <td>0.543667</td>\n",
       "      <td>0.529446</td>\n",
       "      <td>0.529446</td>\n",
       "      <td>0.529446</td>\n",
       "      <td>Wc3</td>\n",
       "    </tr>\n",
       "  </tbody>\n",
       "</table>\n",
       "<p>218701 rows × 6 columns</p>\n",
       "</div>"
      ],
      "text/plain": [
       "               ds      high       low      open         y   ric\n",
       "0      2014-07-02  0.208453  0.205457  0.205457  0.205457  BOc1\n",
       "1      2014-07-03  0.203925  0.206828  0.206828  0.206828  BOc1\n",
       "2      2014-07-04  0.202868  0.205304  0.205304  0.205304  BOc1\n",
       "3      2014-07-07  0.201811  0.203780  0.203780  0.203780  BOc1\n",
       "4      2014-07-08  0.200151  0.195245  0.195245  0.195245  BOc1\n",
       "...           ...       ...       ...       ...       ...   ...\n",
       "218696 2022-10-13  0.590804  0.580006  0.580006  0.580006   Wc3\n",
       "218697 2022-10-14  0.582707  0.550129  0.550129  0.550129   Wc3\n",
       "218698 2022-10-17  0.560440  0.548118  0.548118  0.548118   Wc3\n",
       "218699 2022-10-18  0.548872  0.539500  0.539500  0.539500   Wc3\n",
       "218700 2022-10-19  0.543667  0.529446  0.529446  0.529446   Wc3\n",
       "\n",
       "[218701 rows x 6 columns]"
      ]
     },
     "execution_count": 339,
     "metadata": {},
     "output_type": "execute_result"
    }
   ],
   "source": []
  },
  {
   "cell_type": "code",
   "execution_count": 366,
   "id": "4c14ab4e-f82a-4cac-bf26-e4b87d13b017",
   "metadata": {},
   "outputs": [
    {
     "data": {
      "text/plain": [
       "'palm-oil-price-forecast'"
      ]
     },
     "execution_count": 366,
     "metadata": {},
     "output_type": "execute_result"
    }
   ],
   "source": []
  },
  {
   "cell_type": "code",
   "execution_count": null,
   "id": "1079aa20-8165-4f2c-9dcd-6c2cd70ead2b",
   "metadata": {},
   "outputs": [],
   "source": [
    "self.client.put_object(Bucket=bucketname,Key=directoryname/filename)"
   ]
  },
  {
   "cell_type": "code",
   "execution_count": 355,
   "id": "e8c765b8-e097-4449-99b7-354088582be9",
   "metadata": {},
   "outputs": [
    {
     "data": {
      "text/plain": [
       "'/home/ec2-user/SageMaker/palm-oil-price-forecast/preprocessing/scaler-files'"
      ]
     },
     "execution_count": 355,
     "metadata": {},
     "output_type": "execute_result"
    }
   ],
   "source": [
    "scale_dir"
   ]
  },
  {
   "cell_type": "code",
   "execution_count": 356,
   "id": "b4f120ef-2f97-4eac-bf52-09ca30eb6285",
   "metadata": {},
   "outputs": [
    {
     "ename": "KeyboardInterrupt",
     "evalue": "",
     "output_type": "error",
     "traceback": [
      "\u001b[0;31m---------------------------------------------------------------------------\u001b[0m",
      "\u001b[0;31mKeyboardInterrupt\u001b[0m                         Traceback (most recent call last)",
      "\u001b[0;32m/tmp/ipykernel_9259/1501195859.py\u001b[0m in \u001b[0;36m<cell line: 1>\u001b[0;34m()\u001b[0m\n\u001b[1;32m      1\u001b[0m \u001b[0;32mfor\u001b[0m \u001b[0mfname\u001b[0m \u001b[0;32min\u001b[0m \u001b[0mos\u001b[0m\u001b[0;34m.\u001b[0m\u001b[0mlistdir\u001b[0m\u001b[0;34m(\u001b[0m\u001b[0mscale_dir\u001b[0m\u001b[0;34m)\u001b[0m\u001b[0;34m:\u001b[0m\u001b[0;34m\u001b[0m\u001b[0;34m\u001b[0m\u001b[0m\n\u001b[0;32m----> 2\u001b[0;31m     upload_df_to_S3(ACCESS_KEY_ID,\n\u001b[0m\u001b[1;32m      3\u001b[0m                     \u001b[0mACCESS_SECRET_KEY\u001b[0m\u001b[0;34m,\u001b[0m\u001b[0;34m\u001b[0m\u001b[0;34m\u001b[0m\u001b[0m\n\u001b[1;32m      4\u001b[0m                     \u001b[0mBUCKET_NAME_USECASE\u001b[0m\u001b[0;34m,\u001b[0m\u001b[0;34m\u001b[0m\u001b[0;34m\u001b[0m\u001b[0m\n\u001b[1;32m      5\u001b[0m                     \u001b[0mS3_PATH_GOLDEN\u001b[0m \u001b[0;34m+\u001b[0m \u001b[0;34m'/scaler-files/'\u001b[0m \u001b[0;34m+\u001b[0m \u001b[0mKST\u001b[0m\u001b[0;34m.\u001b[0m\u001b[0mstrftime\u001b[0m\u001b[0;34m(\u001b[0m\u001b[0;34m\"%Y%d%m-%H%M%S\"\u001b[0m\u001b[0;34m)\u001b[0m \u001b[0;34m+\u001b[0m \u001b[0;34m'-'\u001b[0m \u001b[0;34m+\u001b[0m \u001b[0mfname\u001b[0m\u001b[0;34m,\u001b[0m\u001b[0;34m\u001b[0m\u001b[0;34m\u001b[0m\u001b[0m\n",
      "\u001b[0;32m/tmp/ipykernel_9259/1254143543.py\u001b[0m in \u001b[0;36mupload_df_to_S3\u001b[0;34m(key_id, secret_key_id, bucket_name, s3_path, df)\u001b[0m\n\u001b[1;32m     51\u001b[0m     \u001b[0;32mtry\u001b[0m\u001b[0;34m:\u001b[0m\u001b[0;34m\u001b[0m\u001b[0;34m\u001b[0m\u001b[0m\n\u001b[1;32m     52\u001b[0m         \u001b[0mcsv_buffer\u001b[0m \u001b[0;34m=\u001b[0m \u001b[0mStringIO\u001b[0m\u001b[0;34m(\u001b[0m\u001b[0;34m)\u001b[0m\u001b[0;34m\u001b[0m\u001b[0;34m\u001b[0m\u001b[0m\n\u001b[0;32m---> 53\u001b[0;31m         \u001b[0mdf\u001b[0m\u001b[0;34m.\u001b[0m\u001b[0mto_csv\u001b[0m\u001b[0;34m(\u001b[0m\u001b[0mcsv_buffer\u001b[0m\u001b[0;34m,\u001b[0m \u001b[0mindex\u001b[0m\u001b[0;34m=\u001b[0m\u001b[0;32mFalse\u001b[0m\u001b[0;34m)\u001b[0m\u001b[0;34m\u001b[0m\u001b[0;34m\u001b[0m\u001b[0m\n\u001b[0m\u001b[1;32m     54\u001b[0m         s3_resource = boto3.resource(\n\u001b[1;32m     55\u001b[0m             \u001b[0;34m's3'\u001b[0m\u001b[0;34m,\u001b[0m\u001b[0;34m\u001b[0m\u001b[0;34m\u001b[0m\u001b[0m\n",
      "\u001b[0;32m~/anaconda3/envs/tensorflow2_p38/lib/python3.8/site-packages/pandas/core/generic.py\u001b[0m in \u001b[0;36mto_csv\u001b[0;34m(self, path_or_buf, sep, na_rep, float_format, columns, header, index, index_label, mode, encoding, compression, quoting, quotechar, line_terminator, chunksize, date_format, doublequote, escapechar, decimal, errors, storage_options)\u001b[0m\n\u001b[1;32m   3464\u001b[0m         )\n\u001b[1;32m   3465\u001b[0m \u001b[0;34m\u001b[0m\u001b[0m\n\u001b[0;32m-> 3466\u001b[0;31m         return DataFrameRenderer(formatter).to_csv(\n\u001b[0m\u001b[1;32m   3467\u001b[0m             \u001b[0mpath_or_buf\u001b[0m\u001b[0;34m,\u001b[0m\u001b[0;34m\u001b[0m\u001b[0;34m\u001b[0m\u001b[0m\n\u001b[1;32m   3468\u001b[0m             \u001b[0mline_terminator\u001b[0m\u001b[0;34m=\u001b[0m\u001b[0mline_terminator\u001b[0m\u001b[0;34m,\u001b[0m\u001b[0;34m\u001b[0m\u001b[0;34m\u001b[0m\u001b[0m\n",
      "\u001b[0;32m~/anaconda3/envs/tensorflow2_p38/lib/python3.8/site-packages/pandas/io/formats/format.py\u001b[0m in \u001b[0;36mto_csv\u001b[0;34m(self, path_or_buf, encoding, sep, columns, index_label, mode, compression, quoting, quotechar, line_terminator, chunksize, date_format, doublequote, escapechar, errors, storage_options)\u001b[0m\n\u001b[1;32m   1103\u001b[0m             \u001b[0mformatter\u001b[0m\u001b[0;34m=\u001b[0m\u001b[0mself\u001b[0m\u001b[0;34m.\u001b[0m\u001b[0mfmt\u001b[0m\u001b[0;34m,\u001b[0m\u001b[0;34m\u001b[0m\u001b[0;34m\u001b[0m\u001b[0m\n\u001b[1;32m   1104\u001b[0m         )\n\u001b[0;32m-> 1105\u001b[0;31m         \u001b[0mcsv_formatter\u001b[0m\u001b[0;34m.\u001b[0m\u001b[0msave\u001b[0m\u001b[0;34m(\u001b[0m\u001b[0;34m)\u001b[0m\u001b[0;34m\u001b[0m\u001b[0;34m\u001b[0m\u001b[0m\n\u001b[0m\u001b[1;32m   1106\u001b[0m \u001b[0;34m\u001b[0m\u001b[0m\n\u001b[1;32m   1107\u001b[0m         \u001b[0;32mif\u001b[0m \u001b[0mcreated_buffer\u001b[0m\u001b[0;34m:\u001b[0m\u001b[0;34m\u001b[0m\u001b[0;34m\u001b[0m\u001b[0m\n",
      "\u001b[0;32m~/anaconda3/envs/tensorflow2_p38/lib/python3.8/site-packages/pandas/io/formats/csvs.py\u001b[0m in \u001b[0;36msave\u001b[0;34m(self)\u001b[0m\n\u001b[1;32m    255\u001b[0m             )\n\u001b[1;32m    256\u001b[0m \u001b[0;34m\u001b[0m\u001b[0m\n\u001b[0;32m--> 257\u001b[0;31m             \u001b[0mself\u001b[0m\u001b[0;34m.\u001b[0m\u001b[0m_save\u001b[0m\u001b[0;34m(\u001b[0m\u001b[0;34m)\u001b[0m\u001b[0;34m\u001b[0m\u001b[0;34m\u001b[0m\u001b[0m\n\u001b[0m\u001b[1;32m    258\u001b[0m \u001b[0;34m\u001b[0m\u001b[0m\n\u001b[1;32m    259\u001b[0m     \u001b[0;32mdef\u001b[0m \u001b[0m_save\u001b[0m\u001b[0;34m(\u001b[0m\u001b[0mself\u001b[0m\u001b[0;34m)\u001b[0m \u001b[0;34m->\u001b[0m \u001b[0;32mNone\u001b[0m\u001b[0;34m:\u001b[0m\u001b[0;34m\u001b[0m\u001b[0;34m\u001b[0m\u001b[0m\n",
      "\u001b[0;32m~/anaconda3/envs/tensorflow2_p38/lib/python3.8/site-packages/pandas/io/formats/csvs.py\u001b[0m in \u001b[0;36m_save\u001b[0;34m(self)\u001b[0m\n\u001b[1;32m    260\u001b[0m         \u001b[0;32mif\u001b[0m \u001b[0mself\u001b[0m\u001b[0;34m.\u001b[0m\u001b[0m_need_to_save_header\u001b[0m\u001b[0;34m:\u001b[0m\u001b[0;34m\u001b[0m\u001b[0;34m\u001b[0m\u001b[0m\n\u001b[1;32m    261\u001b[0m             \u001b[0mself\u001b[0m\u001b[0;34m.\u001b[0m\u001b[0m_save_header\u001b[0m\u001b[0;34m(\u001b[0m\u001b[0;34m)\u001b[0m\u001b[0;34m\u001b[0m\u001b[0;34m\u001b[0m\u001b[0m\n\u001b[0;32m--> 262\u001b[0;31m         \u001b[0mself\u001b[0m\u001b[0;34m.\u001b[0m\u001b[0m_save_body\u001b[0m\u001b[0;34m(\u001b[0m\u001b[0;34m)\u001b[0m\u001b[0;34m\u001b[0m\u001b[0;34m\u001b[0m\u001b[0m\n\u001b[0m\u001b[1;32m    263\u001b[0m \u001b[0;34m\u001b[0m\u001b[0m\n\u001b[1;32m    264\u001b[0m     \u001b[0;32mdef\u001b[0m \u001b[0m_save_header\u001b[0m\u001b[0;34m(\u001b[0m\u001b[0mself\u001b[0m\u001b[0;34m)\u001b[0m \u001b[0;34m->\u001b[0m \u001b[0;32mNone\u001b[0m\u001b[0;34m:\u001b[0m\u001b[0;34m\u001b[0m\u001b[0;34m\u001b[0m\u001b[0m\n",
      "\u001b[0;32m~/anaconda3/envs/tensorflow2_p38/lib/python3.8/site-packages/pandas/io/formats/csvs.py\u001b[0m in \u001b[0;36m_save_body\u001b[0;34m(self)\u001b[0m\n\u001b[1;32m    298\u001b[0m             \u001b[0;32mif\u001b[0m \u001b[0mstart_i\u001b[0m \u001b[0;34m>=\u001b[0m \u001b[0mend_i\u001b[0m\u001b[0;34m:\u001b[0m\u001b[0;34m\u001b[0m\u001b[0;34m\u001b[0m\u001b[0m\n\u001b[1;32m    299\u001b[0m                 \u001b[0;32mbreak\u001b[0m\u001b[0;34m\u001b[0m\u001b[0;34m\u001b[0m\u001b[0m\n\u001b[0;32m--> 300\u001b[0;31m             \u001b[0mself\u001b[0m\u001b[0;34m.\u001b[0m\u001b[0m_save_chunk\u001b[0m\u001b[0;34m(\u001b[0m\u001b[0mstart_i\u001b[0m\u001b[0;34m,\u001b[0m \u001b[0mend_i\u001b[0m\u001b[0;34m)\u001b[0m\u001b[0;34m\u001b[0m\u001b[0;34m\u001b[0m\u001b[0m\n\u001b[0m\u001b[1;32m    301\u001b[0m \u001b[0;34m\u001b[0m\u001b[0m\n\u001b[1;32m    302\u001b[0m     \u001b[0;32mdef\u001b[0m \u001b[0m_save_chunk\u001b[0m\u001b[0;34m(\u001b[0m\u001b[0mself\u001b[0m\u001b[0;34m,\u001b[0m \u001b[0mstart_i\u001b[0m\u001b[0;34m:\u001b[0m \u001b[0mint\u001b[0m\u001b[0;34m,\u001b[0m \u001b[0mend_i\u001b[0m\u001b[0;34m:\u001b[0m \u001b[0mint\u001b[0m\u001b[0;34m)\u001b[0m \u001b[0;34m->\u001b[0m \u001b[0;32mNone\u001b[0m\u001b[0;34m:\u001b[0m\u001b[0;34m\u001b[0m\u001b[0;34m\u001b[0m\u001b[0m\n",
      "\u001b[0;32m~/anaconda3/envs/tensorflow2_p38/lib/python3.8/site-packages/pandas/io/formats/csvs.py\u001b[0m in \u001b[0;36m_save_chunk\u001b[0;34m(self, start_i, end_i)\u001b[0m\n\u001b[1;32m    305\u001b[0m         \u001b[0mdf\u001b[0m \u001b[0;34m=\u001b[0m \u001b[0mself\u001b[0m\u001b[0;34m.\u001b[0m\u001b[0mobj\u001b[0m\u001b[0;34m.\u001b[0m\u001b[0miloc\u001b[0m\u001b[0;34m[\u001b[0m\u001b[0mslicer\u001b[0m\u001b[0;34m]\u001b[0m\u001b[0;34m\u001b[0m\u001b[0;34m\u001b[0m\u001b[0m\n\u001b[1;32m    306\u001b[0m \u001b[0;34m\u001b[0m\u001b[0m\n\u001b[0;32m--> 307\u001b[0;31m         \u001b[0mres\u001b[0m \u001b[0;34m=\u001b[0m \u001b[0mdf\u001b[0m\u001b[0;34m.\u001b[0m\u001b[0m_mgr\u001b[0m\u001b[0;34m.\u001b[0m\u001b[0mto_native_types\u001b[0m\u001b[0;34m(\u001b[0m\u001b[0;34m**\u001b[0m\u001b[0mself\u001b[0m\u001b[0;34m.\u001b[0m\u001b[0m_number_format\u001b[0m\u001b[0;34m)\u001b[0m\u001b[0;34m\u001b[0m\u001b[0;34m\u001b[0m\u001b[0m\n\u001b[0m\u001b[1;32m    308\u001b[0m         \u001b[0mdata\u001b[0m \u001b[0;34m=\u001b[0m \u001b[0;34m[\u001b[0m\u001b[0mres\u001b[0m\u001b[0;34m.\u001b[0m\u001b[0miget_values\u001b[0m\u001b[0;34m(\u001b[0m\u001b[0mi\u001b[0m\u001b[0;34m)\u001b[0m \u001b[0;32mfor\u001b[0m \u001b[0mi\u001b[0m \u001b[0;32min\u001b[0m \u001b[0mrange\u001b[0m\u001b[0;34m(\u001b[0m\u001b[0mlen\u001b[0m\u001b[0;34m(\u001b[0m\u001b[0mres\u001b[0m\u001b[0;34m.\u001b[0m\u001b[0mitems\u001b[0m\u001b[0;34m)\u001b[0m\u001b[0;34m)\u001b[0m\u001b[0;34m]\u001b[0m\u001b[0;34m\u001b[0m\u001b[0;34m\u001b[0m\u001b[0m\n\u001b[1;32m    309\u001b[0m \u001b[0;34m\u001b[0m\u001b[0m\n",
      "\u001b[0;32m~/anaconda3/envs/tensorflow2_p38/lib/python3.8/site-packages/pandas/core/internals/managers.py\u001b[0m in \u001b[0;36mto_native_types\u001b[0;34m(self, **kwargs)\u001b[0m\n\u001b[1;32m    464\u001b[0m         \u001b[0;32min\u001b[0m \u001b[0mformatting\u001b[0m \u001b[0;34m(\u001b[0m\u001b[0mrepr\u001b[0m \u001b[0;34m/\u001b[0m \u001b[0mcsv\u001b[0m\u001b[0;34m)\u001b[0m\u001b[0;34m.\u001b[0m\u001b[0;34m\u001b[0m\u001b[0;34m\u001b[0m\u001b[0m\n\u001b[1;32m    465\u001b[0m         \"\"\"\n\u001b[0;32m--> 466\u001b[0;31m         \u001b[0;32mreturn\u001b[0m \u001b[0mself\u001b[0m\u001b[0;34m.\u001b[0m\u001b[0mapply\u001b[0m\u001b[0;34m(\u001b[0m\u001b[0;34m\"to_native_types\"\u001b[0m\u001b[0;34m,\u001b[0m \u001b[0;34m**\u001b[0m\u001b[0mkwargs\u001b[0m\u001b[0;34m)\u001b[0m\u001b[0;34m\u001b[0m\u001b[0;34m\u001b[0m\u001b[0m\n\u001b[0m\u001b[1;32m    467\u001b[0m \u001b[0;34m\u001b[0m\u001b[0m\n\u001b[1;32m    468\u001b[0m     \u001b[0;32mdef\u001b[0m \u001b[0mis_consolidated\u001b[0m\u001b[0;34m(\u001b[0m\u001b[0mself\u001b[0m\u001b[0;34m)\u001b[0m \u001b[0;34m->\u001b[0m \u001b[0mbool\u001b[0m\u001b[0;34m:\u001b[0m\u001b[0;34m\u001b[0m\u001b[0;34m\u001b[0m\u001b[0m\n",
      "\u001b[0;32m~/anaconda3/envs/tensorflow2_p38/lib/python3.8/site-packages/pandas/core/internals/managers.py\u001b[0m in \u001b[0;36mapply\u001b[0;34m(self, f, align_keys, ignore_failures, **kwargs)\u001b[0m\n\u001b[1;32m    325\u001b[0m                     \u001b[0mapplied\u001b[0m \u001b[0;34m=\u001b[0m \u001b[0mb\u001b[0m\u001b[0;34m.\u001b[0m\u001b[0mapply\u001b[0m\u001b[0;34m(\u001b[0m\u001b[0mf\u001b[0m\u001b[0;34m,\u001b[0m \u001b[0;34m**\u001b[0m\u001b[0mkwargs\u001b[0m\u001b[0;34m)\u001b[0m\u001b[0;34m\u001b[0m\u001b[0;34m\u001b[0m\u001b[0m\n\u001b[1;32m    326\u001b[0m                 \u001b[0;32melse\u001b[0m\u001b[0;34m:\u001b[0m\u001b[0;34m\u001b[0m\u001b[0;34m\u001b[0m\u001b[0m\n\u001b[0;32m--> 327\u001b[0;31m                     \u001b[0mapplied\u001b[0m \u001b[0;34m=\u001b[0m \u001b[0mgetattr\u001b[0m\u001b[0;34m(\u001b[0m\u001b[0mb\u001b[0m\u001b[0;34m,\u001b[0m \u001b[0mf\u001b[0m\u001b[0;34m)\u001b[0m\u001b[0;34m(\u001b[0m\u001b[0;34m**\u001b[0m\u001b[0mkwargs\u001b[0m\u001b[0;34m)\u001b[0m\u001b[0;34m\u001b[0m\u001b[0;34m\u001b[0m\u001b[0m\n\u001b[0m\u001b[1;32m    328\u001b[0m             \u001b[0;32mexcept\u001b[0m \u001b[0;34m(\u001b[0m\u001b[0mTypeError\u001b[0m\u001b[0;34m,\u001b[0m \u001b[0mNotImplementedError\u001b[0m\u001b[0;34m)\u001b[0m\u001b[0;34m:\u001b[0m\u001b[0;34m\u001b[0m\u001b[0;34m\u001b[0m\u001b[0m\n\u001b[1;32m    329\u001b[0m                 \u001b[0;32mif\u001b[0m \u001b[0;32mnot\u001b[0m \u001b[0mignore_failures\u001b[0m\u001b[0;34m:\u001b[0m\u001b[0;34m\u001b[0m\u001b[0;34m\u001b[0m\u001b[0m\n",
      "\u001b[0;32m~/anaconda3/envs/tensorflow2_p38/lib/python3.8/site-packages/pandas/core/internals/blocks.py\u001b[0m in \u001b[0;36mto_native_types\u001b[0;34m(self, na_rep, quoting, **kwargs)\u001b[0m\n\u001b[1;32m    639\u001b[0m     \u001b[0;32mdef\u001b[0m \u001b[0mto_native_types\u001b[0m\u001b[0;34m(\u001b[0m\u001b[0mself\u001b[0m\u001b[0;34m,\u001b[0m \u001b[0mna_rep\u001b[0m\u001b[0;34m=\u001b[0m\u001b[0;34m\"nan\"\u001b[0m\u001b[0;34m,\u001b[0m \u001b[0mquoting\u001b[0m\u001b[0;34m=\u001b[0m\u001b[0;32mNone\u001b[0m\u001b[0;34m,\u001b[0m \u001b[0;34m**\u001b[0m\u001b[0mkwargs\u001b[0m\u001b[0;34m)\u001b[0m\u001b[0;34m:\u001b[0m\u001b[0;34m\u001b[0m\u001b[0;34m\u001b[0m\u001b[0m\n\u001b[1;32m    640\u001b[0m         \u001b[0;34m\"\"\"convert to our native types format\"\"\"\u001b[0m\u001b[0;34m\u001b[0m\u001b[0;34m\u001b[0m\u001b[0m\n\u001b[0;32m--> 641\u001b[0;31m         \u001b[0mresult\u001b[0m \u001b[0;34m=\u001b[0m \u001b[0mto_native_types\u001b[0m\u001b[0;34m(\u001b[0m\u001b[0mself\u001b[0m\u001b[0;34m.\u001b[0m\u001b[0mvalues\u001b[0m\u001b[0;34m,\u001b[0m \u001b[0mna_rep\u001b[0m\u001b[0;34m=\u001b[0m\u001b[0mna_rep\u001b[0m\u001b[0;34m,\u001b[0m \u001b[0mquoting\u001b[0m\u001b[0;34m=\u001b[0m\u001b[0mquoting\u001b[0m\u001b[0;34m,\u001b[0m \u001b[0;34m**\u001b[0m\u001b[0mkwargs\u001b[0m\u001b[0;34m)\u001b[0m\u001b[0;34m\u001b[0m\u001b[0;34m\u001b[0m\u001b[0m\n\u001b[0m\u001b[1;32m    642\u001b[0m         \u001b[0;32mreturn\u001b[0m \u001b[0mself\u001b[0m\u001b[0;34m.\u001b[0m\u001b[0mmake_block\u001b[0m\u001b[0;34m(\u001b[0m\u001b[0mresult\u001b[0m\u001b[0;34m)\u001b[0m\u001b[0;34m\u001b[0m\u001b[0;34m\u001b[0m\u001b[0m\n\u001b[1;32m    643\u001b[0m \u001b[0;34m\u001b[0m\u001b[0m\n",
      "\u001b[0;32m~/anaconda3/envs/tensorflow2_p38/lib/python3.8/site-packages/pandas/core/internals/blocks.py\u001b[0m in \u001b[0;36mto_native_types\u001b[0;34m(values, na_rep, quoting, float_format, decimal, **kwargs)\u001b[0m\n\u001b[1;32m   2077\u001b[0m \u001b[0;34m\u001b[0m\u001b[0m\n\u001b[1;32m   2078\u001b[0m             \u001b[0mvalues\u001b[0m\u001b[0;34m[\u001b[0m\u001b[0mmask\u001b[0m\u001b[0;34m]\u001b[0m \u001b[0;34m=\u001b[0m \u001b[0mna_rep\u001b[0m\u001b[0;34m\u001b[0m\u001b[0;34m\u001b[0m\u001b[0m\n\u001b[0;32m-> 2079\u001b[0;31m             \u001b[0mvalues\u001b[0m \u001b[0;34m=\u001b[0m \u001b[0mvalues\u001b[0m\u001b[0;34m.\u001b[0m\u001b[0mastype\u001b[0m\u001b[0;34m(\u001b[0m\u001b[0mobject\u001b[0m\u001b[0;34m,\u001b[0m \u001b[0mcopy\u001b[0m\u001b[0;34m=\u001b[0m\u001b[0;32mFalse\u001b[0m\u001b[0;34m)\u001b[0m\u001b[0;34m\u001b[0m\u001b[0;34m\u001b[0m\u001b[0m\n\u001b[0m\u001b[1;32m   2080\u001b[0m             \u001b[0;32mreturn\u001b[0m \u001b[0mvalues\u001b[0m\u001b[0;34m\u001b[0m\u001b[0;34m\u001b[0m\u001b[0m\n\u001b[1;32m   2081\u001b[0m \u001b[0;34m\u001b[0m\u001b[0m\n",
      "\u001b[0;31mKeyboardInterrupt\u001b[0m: "
     ]
    }
   ],
   "source": [
    "for fname in os.listdir(scale_dir):\n",
    "    upload_df_to_S3(ACCESS_KEY_ID,\n",
    "                    ACCESS_SECRET_KEY,\n",
    "                    BUCKET_NAME_USECASE,\n",
    "                    S3_PATH_GOLDEN + '/scaler-files/' + KST.strftime(\"%Y%d%m-%H%M%S\") + '/' + fname,\n",
    "                    fname)"
   ]
  },
  {
   "cell_type": "code",
   "execution_count": 330,
   "id": "9042c47e-850f-4897-862b-86cbe77201a8",
   "metadata": {},
   "outputs": [
    {
     "data": {
      "text/html": [
       "<div>\n",
       "<style scoped>\n",
       "    .dataframe tbody tr th:only-of-type {\n",
       "        vertical-align: middle;\n",
       "    }\n",
       "\n",
       "    .dataframe tbody tr th {\n",
       "        vertical-align: top;\n",
       "    }\n",
       "\n",
       "    .dataframe thead th {\n",
       "        text-align: right;\n",
       "    }\n",
       "</style>\n",
       "<table border=\"1\" class=\"dataframe\">\n",
       "  <thead>\n",
       "    <tr style=\"text-align: right;\">\n",
       "      <th></th>\n",
       "      <th>ds</th>\n",
       "      <th>high</th>\n",
       "      <th>low</th>\n",
       "      <th>open</th>\n",
       "      <th>y</th>\n",
       "    </tr>\n",
       "  </thead>\n",
       "  <tbody>\n",
       "    <tr>\n",
       "      <th>0</th>\n",
       "      <td>2014-07-02</td>\n",
       "      <td>0.099180</td>\n",
       "      <td>0.106931</td>\n",
       "      <td>0.106931</td>\n",
       "      <td>0.106931</td>\n",
       "    </tr>\n",
       "    <tr>\n",
       "      <th>1</th>\n",
       "      <td>2014-07-03</td>\n",
       "      <td>0.097688</td>\n",
       "      <td>0.106359</td>\n",
       "      <td>0.106359</td>\n",
       "      <td>0.106359</td>\n",
       "    </tr>\n",
       "    <tr>\n",
       "      <th>2</th>\n",
       "      <td>2014-07-04</td>\n",
       "      <td>0.098620</td>\n",
       "      <td>0.102158</td>\n",
       "      <td>0.102158</td>\n",
       "      <td>0.102158</td>\n",
       "    </tr>\n",
       "    <tr>\n",
       "      <th>3</th>\n",
       "      <td>2014-07-07</td>\n",
       "      <td>0.096943</td>\n",
       "      <td>0.104449</td>\n",
       "      <td>0.104449</td>\n",
       "      <td>0.104449</td>\n",
       "    </tr>\n",
       "    <tr>\n",
       "      <th>4</th>\n",
       "      <td>2014-07-08</td>\n",
       "      <td>0.095451</td>\n",
       "      <td>0.098721</td>\n",
       "      <td>0.098721</td>\n",
       "      <td>0.098721</td>\n",
       "    </tr>\n",
       "    <tr>\n",
       "      <th>...</th>\n",
       "      <td>...</td>\n",
       "      <td>...</td>\n",
       "      <td>...</td>\n",
       "      <td>...</td>\n",
       "      <td>...</td>\n",
       "    </tr>\n",
       "    <tr>\n",
       "      <th>2161</th>\n",
       "      <td>2022-10-13</td>\n",
       "      <td>0.350112</td>\n",
       "      <td>0.343326</td>\n",
       "      <td>0.343326</td>\n",
       "      <td>0.343326</td>\n",
       "    </tr>\n",
       "    <tr>\n",
       "      <th>2162</th>\n",
       "      <td>2022-10-14</td>\n",
       "      <td>0.370060</td>\n",
       "      <td>0.375597</td>\n",
       "      <td>0.375597</td>\n",
       "      <td>0.375597</td>\n",
       "    </tr>\n",
       "    <tr>\n",
       "      <th>2163</th>\n",
       "      <td>2022-10-17</td>\n",
       "      <td>0.371738</td>\n",
       "      <td>0.385717</td>\n",
       "      <td>0.385717</td>\n",
       "      <td>0.385717</td>\n",
       "    </tr>\n",
       "    <tr>\n",
       "      <th>2164</th>\n",
       "      <td>2022-10-18</td>\n",
       "      <td>0.406413</td>\n",
       "      <td>0.409395</td>\n",
       "      <td>0.409395</td>\n",
       "      <td>0.409395</td>\n",
       "    </tr>\n",
       "    <tr>\n",
       "      <th>2165</th>\n",
       "      <td>2022-10-19</td>\n",
       "      <td>0.421514</td>\n",
       "      <td>0.429826</td>\n",
       "      <td>0.429826</td>\n",
       "      <td>0.429826</td>\n",
       "    </tr>\n",
       "  </tbody>\n",
       "</table>\n",
       "<p>2166 rows × 5 columns</p>\n",
       "</div>"
      ],
      "text/plain": [
       "             ds      high       low      open         y\n",
       "0    2014-07-02  0.099180  0.106931  0.106931  0.106931\n",
       "1    2014-07-03  0.097688  0.106359  0.106359  0.106359\n",
       "2    2014-07-04  0.098620  0.102158  0.102158  0.102158\n",
       "3    2014-07-07  0.096943  0.104449  0.104449  0.104449\n",
       "4    2014-07-08  0.095451  0.098721  0.098721  0.098721\n",
       "...         ...       ...       ...       ...       ...\n",
       "2161 2022-10-13  0.350112  0.343326  0.343326  0.343326\n",
       "2162 2022-10-14  0.370060  0.375597  0.375597  0.375597\n",
       "2163 2022-10-17  0.371738  0.385717  0.385717  0.385717\n",
       "2164 2022-10-18  0.406413  0.409395  0.409395  0.409395\n",
       "2165 2022-10-19  0.421514  0.429826  0.429826  0.429826\n",
       "\n",
       "[2166 rows x 5 columns]"
      ]
     },
     "execution_count": 330,
     "metadata": {},
     "output_type": "execute_result"
    }
   ],
   "source": [
    "upload_df_to_S3(ACCESS_KEY_ID,\n",
    "                ACCESS_SECRET_KEY,\n",
    "                BUCKET_NAME_USECASE,\n",
    "                S3_PATH_GOLDEN + '/' + KST.strftime(\"%Y%d%m-%H%M%S\") + '.csv',\n",
    "                df_golden)"
   ]
  },
  {
   "cell_type": "code",
   "execution_count": 243,
   "id": "5fe33e3c-e427-432b-bb91-0448f53f4e65",
   "metadata": {},
   "outputs": [
    {
     "data": {
      "text/plain": [
       "'trained-model'"
      ]
     },
     "execution_count": 243,
     "metadata": {},
     "output_type": "execute_result"
    }
   ],
   "source": [
    "# upload_df_to_S3(ACCESS_KEY_ID,\n",
    "#                 ACCESS_SECRET_KEY,\n",
    "#                 BUCKET_NAME_USECASE,\n",
    "#                 S3_PATH_GOLDEN,\n",
    "#                 df : pd.DataFrame)"
   ]
  },
  {
   "cell_type": "code",
   "execution_count": null,
   "id": "4fcef9a5-91c9-444a-b330-220e2c7fc7af",
   "metadata": {},
   "outputs": [],
   "source": [
    "train_dir = os.path.join(os.getcwd(), f'data/{prefix_golden}/train')\n",
    "os.makedirs(train_dir, exist_ok=True)\n",
    "\n",
    "test_dir = os.path.join(os.getcwd(), f'data/{prefix_golden}/test')\n",
    "os.makedirs(test_dir, exist_ok=True)"
   ]
  },
  {
   "cell_type": "markdown",
   "id": "d06ff633-0d3e-49cd-bc67-d03ede672a8e",
   "metadata": {},
   "source": [
    "--- Sagemaker Code ---"
   ]
  },
  {
   "cell_type": "code",
   "execution_count": null,
   "id": "9fd1e6b1-2bf3-4ad0-b21f-7a84f0eca1ab",
   "metadata": {},
   "outputs": [],
   "source": [
    "bucket = sagemaker.Session().default_bucket()\n",
    "prefix = \"demo-sagemaker-xgboost-adult-income-prediction\"\n",
    "\n",
    "boto3.Session().resource('s3').Bucket(bucket).Object(\n",
    "    os.path.join(prefix, 'data/train.csv')).upload_file('train.csv')\n",
    "boto3.Session().resource('s3').Bucket(bucket).Object(\n",
    "    os.path.join(prefix, 'data/validation.csv')).upload_file('validation.csv')"
   ]
  },
  {
   "cell_type": "code",
   "execution_count": null,
   "id": "e4948899-85ce-4059-bc9f-e9c2d448eea0",
   "metadata": {},
   "outputs": [],
   "source": [
    "BUCKET_NAME_USECASE sagemaker\n",
    "\n",
    "region = sagemaker.Session().boto_region_name\n",
    "print(\"AWS Region: {}\".format(region))\n",
    "\n",
    "role = sagemaker.get_execution_role()\n",
    "print(\"RoleArn: {}\".format(role))"
   ]
  },
  {
   "cell_type": "code",
   "execution_count": null,
   "id": "f22998d4-e017-4c7e-9b2b-a87eed8469ad",
   "metadata": {},
   "outputs": [],
   "source": [
    "\n",
    "\n",
    "s3_output_location='s3://{}/{}/{}'.format(bucket, prefix, 'xgboost_model')\n",
    "\n",
    "container=sagemaker.image_uris.retrieve(\"xgboost\", region, \"1.2-1\")\n",
    "print(container)\n",
    "\n",
    "xgb_model=sagemaker.estimator.Estimator(\n",
    "    image_uri=container,\n",
    "    role=role,\n",
    "    instance_count=1,\n",
    "    instance_type='ml.m4.xlarge',\n",
    "    volume_size=5,\n",
    "    output_path=s3_output_location,\n",
    "    sagemaker_session=sagemaker.Session(),\n",
    "    rules=[Rule.sagemaker(rule_configs.create_xgboost_report())]\n",
    ")"
   ]
  },
  {
   "cell_type": "markdown",
   "id": "6a27514d-ef22-46e7-9306-92df44088f0c",
   "metadata": {},
   "source": [
    "---"
   ]
  },
  {
   "cell_type": "code",
   "execution_count": null,
   "id": "0785f5e4-2be5-4223-b194-67424ba9b7d6",
   "metadata": {},
   "outputs": [],
   "source": [
    "boto_sesssion = boto3.Session(ACCESS_KEY_ID,\n",
    "                              ACCESS_SECRET_KEY)\n",
    "# region = re.region_name\n",
    "\n",
    "session = sagemaker.Session(boto_session = boto_session)\n",
    "s3_session = boto_sesssion.resource('s3')\n",
    "bucket = s3_session.Bucket(BUCKET_NAME_USECASE)\n",
    "    # S3_PATH_STAGE = keychain['S3_PATH_STAGE']\n",
    "    # S3_PATH_GOLDEN = keychain['S3_PATH_GOLDEN']\n",
    "    # S3_PATH_TRAIN = keychain['S3_PATH_TRAIN']\n",
    "    # S3_PATH_log = keychain['S3_PATH_LOG']\n",
    "bucket = s3_resource.Bucket(bucket_name)\n",
    "timestamp_suffix = strftime('%Y-%m-%d-%H-%M-%S', gmtime())\n",
    "\n",
    "prefix = 'sagemaker/link-prediction-developer-guide-' + timestamp_suffix\n",
    "\n",
    "role = os.environ[\"SAGEMAKER_ROLE\"]\n",
    "\n",
    "sm = boto_session.client(service_name='sagemaker',region_name=region)"
   ]
  },
  {
   "cell_type": "code",
   "execution_count": 221,
   "id": "898d7135-391c-41f0-bcb8-ed2d08e0141e",
   "metadata": {},
   "outputs": [
    {
     "ename": "TypeError",
     "evalue": "makedirs() got an unexpected keyword argument 'existok'",
     "output_type": "error",
     "traceback": [
      "\u001b[0;31m---------------------------------------------------------------------------\u001b[0m",
      "\u001b[0;31mTypeError\u001b[0m                                 Traceback (most recent call last)",
      "\u001b[0;32m/tmp/ipykernel_9259/852392905.py\u001b[0m in \u001b[0;36m<cell line: 9>\u001b[0;34m()\u001b[0m\n\u001b[1;32m      7\u001b[0m \u001b[0;34m\u001b[0m\u001b[0m\n\u001b[1;32m      8\u001b[0m \u001b[0mdata_dir\u001b[0m \u001b[0;34m=\u001b[0m \u001b[0mos\u001b[0m\u001b[0;34m.\u001b[0m\u001b[0mpath\u001b[0m\u001b[0;34m.\u001b[0m\u001b[0mjoin\u001b[0m\u001b[0;34m(\u001b[0m\u001b[0mos\u001b[0m\u001b[0;34m.\u001b[0m\u001b[0mgetcwd\u001b[0m\u001b[0;34m(\u001b[0m\u001b[0;34m)\u001b[0m\u001b[0;34m,\u001b[0m \u001b[0;34m'data'\u001b[0m\u001b[0;34m)\u001b[0m\u001b[0;34m\u001b[0m\u001b[0;34m\u001b[0m\u001b[0m\n\u001b[0;32m----> 9\u001b[0;31m \u001b[0mos\u001b[0m\u001b[0;34m.\u001b[0m\u001b[0mmakedirs\u001b[0m\u001b[0;34m(\u001b[0m\u001b[0mdata_dir\u001b[0m\u001b[0;34m,\u001b[0m \u001b[0mexistok\u001b[0m\u001b[0;34m=\u001b[0m\u001b[0;32mTrue\u001b[0m\u001b[0;34m)\u001b[0m\u001b[0;34m\u001b[0m\u001b[0;34m\u001b[0m\u001b[0m\n\u001b[0m\u001b[1;32m     10\u001b[0m \u001b[0;34m\u001b[0m\u001b[0m\n\u001b[1;32m     11\u001b[0m \u001b[0mtrain_dir\u001b[0m \u001b[0;34m=\u001b[0m \u001b[0mos\u001b[0m\u001b[0;34m.\u001b[0m\u001b[0mpath\u001b[0m\u001b[0;34m.\u001b[0m\u001b[0mjoin\u001b[0m\u001b[0;34m(\u001b[0m\u001b[0mos\u001b[0m\u001b[0;34m.\u001b[0m\u001b[0mgetcwd\u001b[0m\u001b[0;34m(\u001b[0m\u001b[0;34m)\u001b[0m\u001b[0;34m,\u001b[0m \u001b[0;34m'data/train'\u001b[0m\u001b[0;34m)\u001b[0m\u001b[0;34m\u001b[0m\u001b[0;34m\u001b[0m\u001b[0m\n",
      "\u001b[0;31mTypeError\u001b[0m: makedirs() got an unexpected keyword argument 'existok'"
     ]
    }
   ],
   "source": [
    "import os\n",
    "import sagemaker\n",
    "import tensorflow as tf\n",
    "\n",
    "sess = sagemaker.Session()\n",
    "bucket = sess.default_bucket() \n",
    "\n",
    "data_dir = os.path.join(os.getcwd(), 'data')\n",
    "os.makedirs(data_dir, existok=True)\n",
    "\n",
    "raw_dir = os.path.join(os.getcwd(), 'data/raw')\n",
    "os.makedirs(raw_dir, exist_ok=True)"
   ]
  },
  {
   "cell_type": "markdown",
   "id": "88ca76ec-024d-4451-93a2-201d170799b3",
   "metadata": {},
   "source": [
    "## 1. SageMaker Processing을 이용한 데이터 전처리(정제)\n",
    "### **워크플로우**\n",
    "   1. 필요한 데이터셋 불러오기\n",
    "   2. np.save()로 배열을 NumPy format의 바이너리 파일로 저장하기 (Save a single array to a binary file in NumPy format)\n",
    "   3. S3에 업로드\n",
    "   4. SageMaker Processing을 이용한 데이터 전처리   \n",
    "   5. 학습과 테스트를 위해 레이블 생성 & 저장.\n",
    "   \n",
    "**SageMaker Processing?**\n",
    "- SageMaker 노트북 서버와 분리된 독립적 환경에서 테라바이트 수준의 데이터를 변환처리 가능.   \n",
    "- 일반적으로 Prototyping 작업에 사용되는 노트북은 SageMaker 일반 사양에서 실행하며 전처리, 학습, 모델 호스팅과 같은 작업은 강력한 사양의 인스턴스에서 실행.    \n",
    "- SageMaker Processing은 Scikit-learn이 기본 탑재되어 있으며 **Bring Your Own Container** 옵션으로 다양한 데이터 정제 작업을 별도 독립된 환경에서 실행 가능"
   ]
  },
  {
   "cell_type": "code",
   "execution_count": null,
   "id": "1006556e-afd9-4e63-b6b2-829f98dbed59",
   "metadata": {},
   "outputs": [],
   "source": [
    "import numpy as np\n",
    "from tensorflow.python.keras.datasets import boston_housing\n",
    "from sklearn.preprocessing import StandardScaler\n",
    "import glob\n",
    "\n",
    "(x_train, y_train), (x_test, y_test) = boston_housing.load_data()\n",
    "\n",
    "np.save(os.path.join(raw_dir, 'x_train.npy'), x_train)\n",
    "np.save(os.path.join(raw_dir, 'x_test.npy'), x_test)\n",
    "np.save(os.path.join(train_dir, 'y_train.npy'), y_train)\n",
    "np.save(os.path.join(test_dir, 'y_test.npy'), y_test)\n",
    "\n",
    "s3_prefix = 'tf-2-workflow'\n",
    "rawdata_s3_prefix = '{}/data/raw'.format(s3_prefix)\n",
    "raw_s3 = sess.upload_data(path='./data/raw/', key_prefix=rawdata_s3_prefix)\n",
    "print(raw_s3)"
   ]
  },
  {
   "cell_type": "code",
   "execution_count": null,
   "id": "f016712b-ec3e-44db-b87a-03130747eb41",
   "metadata": {},
   "outputs": [],
   "source": [
    "import os\n",
    "os.listdir('{}'.format('./data/raw'))"
   ]
  },
  {
   "cell_type": "code",
   "execution_count": null,
   "id": "88041e53-a00a-4022-90b9-32f57e25c7b9",
   "metadata": {},
   "outputs": [],
   "source": [
    "glob.glob('{}/*.npy'.format('./data/raw'))"
   ]
  },
  {
   "cell_type": "code",
   "execution_count": null,
   "id": "50c16bb9-2d62-48c0-b3ad-119d46de9957",
   "metadata": {},
   "outputs": [],
   "source": [
    "%%writefile preprocessing.py\n",
    "\n",
    "import glob\n",
    "import numpy as np\n",
    "import os\n",
    "from sklearn.preprocessing import StandardScaler\n",
    "\n",
    "if __name__=='__main__':\n",
    "    input_files = glob.glob('{}/*.npy'.format('/opt/ml/processing/input')) # 입력파일 로드 경로 지정\n",
    "    print('\\nINPUT FILE LIST: \\n{}\\n'.format(input_files))\n",
    "    scaler = StandardScaler()\n",
    "    for file in input_files:\n",
    "        raw = np.load(file)\n",
    "        transformed = scaler.fit_transform(raw)\n",
    "        if 'train' in file:\n",
    "            output_path = os.path.join('/opt/ml/processing/train', 'x_train.npy') # 출력파일 저장될 경로 지정\n",
    "            np.save(output_path, transformed)\n",
    "            print('SAVED TRANSFORMED TRAINING DATA FILE\\n')\n",
    "        else: \n",
    "            output_path = os.path.join('/opt/ml/processing/test', 'x_test.npy') # 출력파일 저장될 경로 지정\n",
    "            np.save(output_path, transformed)\n",
    "            print('SAVED TRANSFORMED TEST DATA FILE\\n')"
   ]
  },
  {
   "cell_type": "markdown",
   "id": "e79b6106-1dff-4860-a8f4-6e7a714ef887",
   "metadata": {},
   "source": [
    "SKLearnProcessor 오브젝트(for SageMaker Processing 작업)  \n",
    "- 오브젝트 생성시 사용할 인스턴스 타입과 몇개의 인스턴스를 사용할 지 정의할 수 있다. \n",
    "- 보스턴 집값 데이터셋은 매우 작은 데이터이지만 SageMaker Processing의 클러스터링 작업이 어떻게 실행하는지 보기 위해 두 개의 인스턴스를 사용."
   ]
  },
  {
   "cell_type": "code",
   "execution_count": null,
   "id": "421d27ad-1143-4be1-a82c-3f241f1bbc22",
   "metadata": {},
   "outputs": [],
   "source": [
    "from sagemaker import get_execution_role\n",
    "from sagemaker.sklearn.processing import SKLearnProcessor\n",
    "\n",
    "processing_tags = [{'Key': 'cost-center',\n",
    "                    'Value': 'TF2WorkflowProcessing'}]\n",
    "\n",
    "sklearn_processor1 = SKLearnProcessor(framework_version='0.23-1',\n",
    "                                     role=get_execution_role(),\n",
    "                                     instance_type='ml.m5.xlarge',\n",
    "                                     instance_count=2,\n",
    "                                     tags=processing_tags)"
   ]
  },
  {
   "cell_type": "markdown",
   "id": "7dd2e65f-4f27-4cfe-b074-49dbebee1cb9",
   "metadata": {},
   "source": [
    "- 이제 데이터 파일을 인스턴스에 동일하게 분산하기 위해\n",
    "- ProcessingInput 오브젝트에 SharedByS3Key 분산타입을 지정. \n",
    "- 이때, 만약 n개의 인스턴스를 선언했다면 각 인스턴스는 1/n 파일을 S3로부터 받게 될 것. \n",
    "- 실행에는 3분 정도 소요되며 대부분 Cluster를 구성하는 시간이 차지함. \n",
    "- 작업종료시 Cluster는 SageMaker에 의해 자동으로 삭제될 예정"
   ]
  },
  {
   "cell_type": "code",
   "execution_count": null,
   "id": "38956acc-1b92-41c2-b75d-f3298f6ece4d",
   "metadata": {},
   "outputs": [],
   "source": [
    "'{}/train'.format(output_destination)"
   ]
  },
  {
   "cell_type": "code",
   "execution_count": null,
   "id": "6ccde741-5af0-422f-94c2-83c1b83b2e6a",
   "metadata": {},
   "outputs": [],
   "source": [
    "from sagemaker.processing import ProcessingInput, ProcessingOutput\n",
    "from time import gmtime, strftime \n",
    "\n",
    "processing_job_name = \"tf-2-workflow-{}\".format(strftime(\"%d-%H-%M-%S\", gmtime()))\n",
    "\n",
    "output_destination = 's3://{}/{}/data'.format(bucket, s3_prefix)\n",
    "\n",
    "sklearn_processor.run(code='preprocessing.py',\n",
    "                      job_name=processing_job_name,\n",
    "                      inputs=[ProcessingInput(\n",
    "                        source=raw_s3,\n",
    "                        destination='/opt/ml/processing/input',\n",
    "                        s3_data_distribution_type='ShardedByS3Key')],\n",
    "                      outputs=[ProcessingOutput(output_name='train',\n",
    "                                                destination='{}/train'.format(output_destination),\n",
    "                                                source='/opt/ml/processing/train'),\n",
    "                               ProcessingOutput(output_name='test',\n",
    "                                                destination='{}/test'.format(output_destination),\n",
    "                                                source='/opt/ml/processing/test')])\n",
    "\n",
    "preprocessing_job_description = sklearn_processor.jobs[-1].describe()"
   ]
  },
  {
   "cell_type": "markdown",
   "id": "397a13d6-c341-44ba-896f-381e715dd441",
   "metadata": {},
   "source": [
    "SageMaker Processing 작업의 출력 로그 \n",
    "- 두가지 색상으로 각 인스턴스의 로그를 볼 수 있다.\n",
    "- 각 인스턴스가 서로 다른 파일을 받은 것을 확인할 수 있다.\n",
    "- 만약 ShardedByS3Key 분산타입을 사용하지 않았다면 각 인스턴스는 복사본을 받음. \n",
    "- 대부분의 stateless 데이터 전처리(정제)에서는 n개의 인스턴스에 동일하게 파일을 분산함으로써 대략 n만큼 작업속도를 향상시킬 수 있다.\n",
    " \n",
    "본 작업결과를 로컬에 저장 후, 다음으로 Prototype 훈련과 추론을 작성하자."
   ]
  },
  {
   "cell_type": "code",
   "execution_count": null,
   "id": "667a7211-20d6-4548-831b-7b1e8e4f2284",
   "metadata": {},
   "outputs": [],
   "source": [
    "train_in_s3 = '{}/train/x_train.npy'.format(output_destination)\n",
    "test_in_s3 = '{}/test/x_test.npy'.format(output_destination)\n",
    "!aws s3 cp {train_in_s3} ./data/train/x_train.npy\n",
    "!aws s3 cp {test_in_s3} ./data/test/x_test.npy"
   ]
  },
  {
   "cell_type": "markdown",
   "id": "5c863666-efd8-43ea-ae06-53b582028d51",
   "metadata": {},
   "source": [
    "## 2. SageMaker local 모드를 이용한 학습과 추론(Training & Inference)\n",
    "**SageMaker에서 로컬 모드**\n",
    "- 작성한 코드를 강력한 Cluster에서 실행하기 전, 코드가 기대한 방식으로 동작하는지 로컬에서 확인할 수 있는지 확인하는 방식. \n",
    "- 로컬모드 학습을 위해서는 docker-compose 또는 nvidia-docker-compose (GPU 인스턴스인 경우)의 설치가 필요. \n",
    "- 다음 셀은 docker-compose 또는 nvidia-docker-compose를 설치&구성"
   ]
  },
  {
   "cell_type": "code",
   "execution_count": null,
   "id": "fda64193-cc87-4879-8324-499b491e8803",
   "metadata": {},
   "outputs": [],
   "source": [
    "!wget -q https://raw.githubusercontent.com/aws-samples/amazon-sagemaker-script-mode/master/local_mode_setup.sh\n",
    "!wget -q https://raw.githubusercontent.com/aws-samples/amazon-sagemaker-script-mode/master/daemon.json    "
   ]
  },
  {
   "cell_type": "code",
   "execution_count": null,
   "id": "5ff07882-0a00-4bf3-8523-03f3bb26375c",
   "metadata": {},
   "outputs": [],
   "source": [
    "!/bin/bash ./local_mode_setup.sh"
   ]
  },
  {
   "cell_type": "markdown",
   "id": "cc2dcc8f-36cc-4f0c-b4d7-3b339527f6aa",
   "metadata": {},
   "source": [
    "**Tensorflow Estimator 구성**\n",
    "- 로컬모드 학습을 위한 Estimator를 구성하는 주요 파라미터\n",
    "    - `train_instance_type`: 학습이 실행될 하드웨어 종류. CPU환경에서 로컬모드는 단순히 local 로 지정함. GPU가 필요한 경우엔 local_gpu로 지정.\n",
    "    - `git_config`: Estimator가 코드를 Git Repository에서 가져오게 함.\n",
    "    - `Other parameters of note`: Dictionary 형식으로 알고리즘의 하이퍼파라메터 지정 & Boolean 형식으로 Script Mode를 이용할 것인지 지정.\n",
    "\n",
    "여기서 우리는 주로 코드가 잘 동작하는지 확인하기 위해 로컬모드를 사용한다는 점을 기억하십시오. 우리는 불필요한 학습시간을 절약하기 위해, 전체 학습을 위한 큰 epoch 대신, 코드가 적절히 동작하는지 확인할 수 있는 정도의 작은 epoch으로 학습을 실행할 것입니다."
   ]
  },
  {
   "cell_type": "code",
   "execution_count": null,
   "id": "a8183717-73b4-4eb8-b7b8-b01c9374ac22",
   "metadata": {},
   "outputs": [],
   "source": [
    "%%writefile train.py\n",
    "\n",
    "import argparse\n",
    "import numpy as np\n",
    "import os\n",
    "import tensorflow as tf\n",
    "\n",
    "from model_def import get_model\n",
    "\n",
    "os.environ['TF_CPP_MIN_LOG_LEVEL'] = '3' \n",
    "\n",
    "\n",
    "def parse_args():\n",
    "\n",
    "    parser = argparse.ArgumentParser()\n",
    "\n",
    "    # 사용자가 전달한 하이퍼 파라미터를 command-line argument로 전달받아 사용함\n",
    "    parser.add_argument('--epochs', type=int, default=1)\n",
    "    parser.add_argument('--batch_size', type=int, default=64)\n",
    "    parser.add_argument('--learning_rate', type=float, default=0.1)\n",
    "\n",
    "    # data directories\n",
    "    parser.add_argument('--train', type=str, default=os.environ.get('SM_CHANNEL_TRAIN'))\n",
    "    parser.add_argument('--test', type=str, default=os.environ.get('SM_CHANNEL_TEST'))\n",
    "\n",
    "    # model directory: we will use the default set by SageMaker, /opt/ml/model\n",
    "    parser.add_argument('--model_dir', type=str, default=os.environ.get('SM_MODEL_DIR'))\n",
    "\n",
    "    return parser.parse_known_args()\n",
    "\n",
    "\n",
    "def get_train_data(train_dir):\n",
    "\n",
    "    x_train = np.load(os.path.join(train_dir, 'x_train.npy'))\n",
    "    y_train = np.load(os.path.join(train_dir, 'y_train.npy'))\n",
    "    print('x train', x_train.shape,'y train', y_train.shape)\n",
    "\n",
    "    return x_train, y_train\n",
    "\n",
    "\n",
    "def get_test_data(test_dir):\n",
    "\n",
    "    x_test = np.load(os.path.join(test_dir, 'x_test.npy'))\n",
    "    y_test = np.load(os.path.join(test_dir, 'y_test.npy'))\n",
    "    print('x test', x_test.shape,'y test', y_test.shape)\n",
    "\n",
    "    return x_test, y_test\n",
    "\n",
    "\n",
    "if __name__ == \"__main__\":\n",
    "\n",
    "    # 환경변수 또는 사용자 지정 hyperparameter로 전달된 argument를 읽는다.\n",
    "    args, _ = parse_args()\n",
    "\n",
    "    # training data를 가져온다. 위 코드에서 읽은 argument 중 'train'으로 전달된 값을 사용함. \n",
    "    # parse_args()를 통해 환경변수 'SM_CHANNEL_TRAIN'로 전달된 경로 'opt/ml/input/train/'가 'arg.train'으로 지정됨\n",
    "    x_train, y_train = get_train_data(args.train)\n",
    "    x_test, y_test = get_test_data(args.test)\n",
    "\n",
    "    device = '/cpu:0' \n",
    "    print(device)\n",
    "    batch_size = args.batch_size\n",
    "    epochs = args.epochs\n",
    "    learning_rate = args.learning_rate\n",
    "    print('batch_size = {}, epochs = {}, learning rate = {}'.format(batch_size, epochs, learning_rate))\n",
    "\n",
    "    with tf.device(device):\n",
    "\n",
    "        model = get_model()\n",
    "        optimizer = tf.keras.optimizers.SGD(learning_rate)\n",
    "        model.compile(optimizer=optimizer, loss='mse')    \n",
    "        model.fit(x_train, y_train, batch_size=batch_size, epochs=epochs,\n",
    "                  validation_data=(x_test, y_test))\n",
    "\n",
    "        # evaluate on test set\n",
    "        scores = model.evaluate(x_test, y_test, batch_size, verbose=2)\n",
    "        print(\"\\nTest MSE :\", scores)\n",
    "\n",
    "        # 결과모델 저장 - 'args.model_dir'에는 'SM_MODEL_DIR' 환경변수를 통해 지정된 '/opt/ml/model/' 경로가 지정된다.\n",
    "        model.save(args.model_dir + '/1')"
   ]
  },
  {
   "cell_type": "code",
   "execution_count": null,
   "id": "6928e45c-5651-4615-89f2-6c7515c1d38c",
   "metadata": {},
   "outputs": [],
   "source": [
    "!pygmentize train.py"
   ]
  },
  {
   "cell_type": "code",
   "execution_count": null,
   "id": "ac0af16f-9722-4689-999e-5de8448b2fea",
   "metadata": {},
   "outputs": [],
   "source": [
    "from sagemaker.tensorflow import TensorFlow\n",
    "\n",
    "git_config = {'repo': 'https://github.com/aws-samples/amazon-sagemaker-script-mode', \n",
    "              'branch': 'master'}\n",
    "\n",
    "train_instance_type = 'local'\n",
    "hyperparameters = {'epochs': 5, 'batch_size': 128, 'learning_rate': 0.01}\n",
    "local_estimator = TensorFlow(git_config=git_config,\n",
    "                             source_dir='tf-2-workflow-smpipelines/train_model',\n",
    "                             entry_point='train.py',\n",
    "                             instance_type=train_instance_type,\n",
    "                             instance_count=1,\n",
    "                             hyperparameters=hyperparameters,\n",
    "                             role=sagemaker.get_execution_role(),\n",
    "                             base_job_name='tf-2-workflow',\n",
    "                             framework_version='2.3.1',\n",
    "                             py_version='py37',\n",
    "                             script_mode=True)"
   ]
  },
  {
   "cell_type": "code",
   "execution_count": null,
   "id": "09a41a87-7f48-4d91-a81f-d1c51954184d",
   "metadata": {},
   "outputs": [],
   "source": [
    "inputs = {'train': f'file://{train_dir}',\n",
    "          'test': f'file://{test_dir}'}\n",
    "\n",
    "local_estimator.fit(inputs)"
   ]
  },
  {
   "cell_type": "markdown",
   "id": "dbb30b18-7519-4d27-80e0-4d8f39682a83",
   "metadata": {},
   "source": [
    "## 3. SageMaker hosted training을 이용한 학습과 추론\n",
    "프로젝트의 프로토타이핑 단계가 완료되면 SageMaker hosted training 기능이 학습 작업, 특히 대규모 분산 교육에 선호됩니다.    \n",
    "노트북 환경이나 SageMaker local 모드에서의 training과는 달리 hosted training에서는 실제 학습 자체가 노트북 환경이 아니라    \n",
    "SageMaker에서 관리하는 더 강력한 시스템의 별도 클러스터에서 이루어진다.    \n",
    "호스트 교육 시작 전 데이터가 S3 또는 Amazon EFS 또는 Amazon FSX for Lustre 파일 시스템에 있어야 합니다.   \n",
    "지금 S3에 업로드하고 업로드가 성공했는지 확인합니다.   "
   ]
  },
  {
   "cell_type": "code",
   "execution_count": null,
   "id": "1e62a6b2-9464-4ba8-b372-2909f2cc7ba8",
   "metadata": {},
   "outputs": [],
   "source": [
    "s3_prefix = 'tf-2-workflow'\n",
    "\n",
    "traindata_s3_prefix = '{}/data/train'.format(s3_prefix)\n",
    "testdata_s3_prefix = '{}/data/test'.format(s3_prefix)"
   ]
  },
  {
   "cell_type": "code",
   "execution_count": null,
   "id": "8642d6a5-ae10-4536-8611-1f17d1975e03",
   "metadata": {},
   "outputs": [],
   "source": [
    "train_s3 = sess.upload_data(path='./data/train/', key_prefix=traindata_s3_prefix)\n",
    "test_s3 = sess.upload_data(path='./data/test/', key_prefix=testdata_s3_prefix)\n",
    "\n",
    "inputs = {'train':train_s3, 'test': test_s3}\n",
    "\n",
    "print(inputs)"
   ]
  },
  {
   "cell_type": "markdown",
   "id": "330e5170-403d-403e-9407-8d116c6cbccf",
   "metadata": {},
   "source": [
    "### 환경설정\n",
    "- train_instance_type: SageMaker ML 인스턴스 유형(이 경우 c5 컴퓨팅 최적화 인스턴스 유형)으로 설정되었다는 점을 제외하면 SageMaker Local Mode Estimator와 유사합니다.\n",
    "\n",
    "- Git configuration : Git 저장소에서 training 스크립트를 Pull해서 다양한 팀 구성원의 컴퓨터에 서로 다른 스크립트를 분산시키는 대신 팀이 동일한 소스 제어 코드를 공유하도록 합니다.\n",
    "\n",
    "- Training metrics : Training 작업 진행상황을 확인할 수 있습니다. 코드와 컨테이너로 기록된 모든 Metric은 regular expression 을 사용하여 지정할 수 있습니다. Metric은 결과리뷰에 활용 할 수 있는 Amazon CloudWatch 모니터링 서비스로 전송됩니다.\n",
    "\n",
    "- Tags: 비용 할당 및 기타 목적을 위해 SageMaker Training job, SageMaker Processing job 및 SageMaker Endpoint(아래 참조) 혹은 기타 리소스로 표기할 수 있습니다.\n",
    "\n",
    "- Hyperparameters: 위 프로토타이핑 단계에서 사용된 것보다 긴 에폭 수를 전달합니다. 프로토타이핑이 완료된 후 시작된 hosted Training의 경우 Model training이 코드와 연관된 오류 없이 진행되어 개선되고 낮은 lower validation loss로 수렴될 것으로 예상하여 모델을 더 많은 기간 동안 교육할 수 있습니다."
   ]
  },
  {
   "cell_type": "code",
   "execution_count": null,
   "id": "8947ffa9-2f72-451b-b9ab-1296c2458cf3",
   "metadata": {},
   "outputs": [],
   "source": [
    "git_config = {'repo': 'https://github.com/aws-samples/amazon-sagemaker-script-mode', \n",
    "              'branch': 'master'}\n"
   ]
  },
  {
   "cell_type": "code",
   "execution_count": null,
   "id": "e7bf7f38-a248-4b90-b5ad-e42b9aca9766",
   "metadata": {},
   "outputs": [],
   "source": [
    "\n",
    "from sagemaker.tensorflow import TensorFlow\n",
    "\n",
    "train_instance_type = 'ml.c5.xlarge'\n",
    "git_config = {'repo': 'https://github.com/aws-samples/amazon-sagemaker-script-mode', \n",
    "              'branch': 'master'}\n",
    "training_metrics = [\n",
    "   {\n",
    "        \"Name\": \"training:loss\",\n",
    "        \"Regex\": \".*step - loss: ([0-9\\\\.]+) - val_loss: [0-9\\\\.]+ - batch: [0-9\\\\.]+.*\",\n",
    "    },\n",
    "    {\n",
    "        \"Name\": \"validation:loss\",\n",
    "        \"Regex\": \".*step - loss: [0-9\\\\.]+ - val_loss: ([0-9\\\\.]+) - batch: [0-9\\\\.]+.*\",\n",
    "    }\n",
    "]\n",
    "training_tags = [{'Key': 'cost-center', 'Value': 'TF2WorkflowTraining'}]\n",
    "hyperparameters = {'epochs': 30, 'batch_size': 128, 'learning_rate': 0.01}\n",
    "\n",
    "hosted_estimator = TensorFlow(\n",
    "                       git_config = git_config,\n",
    "                       metric_definitions = training_metrics,\n",
    "                       tags = training_tags,\n",
    "                       source_dir = 'tf-2-workflow-smpipelines/train_model',\n",
    "                       entry_point = 'train.py',\n",
    "                       instance_type = train_instance_type,\n",
    "                       instance_count = 1,\n",
    "                       hyperparameters = hyperparameters,\n",
    "                       role=sagemaker.get_execution_role(),\n",
    "                       base_job_name = 'tf-2-workflow',\n",
    "                       framework_version = '2.3.1',\n",
    "                       py_version = 'py37',\n",
    "                       script_mode = True)"
   ]
  },
  {
   "cell_type": "code",
   "execution_count": null,
   "id": "5886f1e7-eb8c-4828-8e28-0db872a5f945",
   "metadata": {},
   "outputs": [],
   "source": [
    "hosted_estimator.fit(inputs)"
   ]
  },
  {
   "cell_type": "code",
   "execution_count": null,
   "id": "d6e412c3-6f26-447c-bbaa-adba163a5d4d",
   "metadata": {},
   "outputs": [],
   "source": [
    "!aws s3 cp {hosted_estimator.model_data} ./model/model.tar.gz"
   ]
  },
  {
   "cell_type": "code",
   "execution_count": null,
   "id": "14dc6cd4-6fda-44c2-bc2c-4ba4dd3ae213",
   "metadata": {},
   "outputs": [],
   "source": [
    "!tar -xvzf ./model/model.tar.gz -C ./model"
   ]
  },
  {
   "cell_type": "markdown",
   "id": "a6dd4047-cdb7-41f4-bd5f-b2403fb3fb81",
   "metadata": {},
   "source": [
    "## 4. 모델 하이퍼파라미터 튜닝(SageMaker Automatic Model Tuning)\n",
    "이제 더 나은 모델을 만들기 위해 하이퍼 파라미터를 조정해보자. \n",
    "- 문제점: 모델을 훈련시키는데 직관적으로 최적의 하이퍼 파라미터 값을 선택하는 것은 어려울 수 있으며, 일반적으로 수동으로 수행할 경우 시간이 매우 많이 소요된다. \n",
    "- 해결책: SageMaker Automatic Model Tuning은 하이퍼파라미터 조정 프로세스 자동화\n",
    "- 워크플로우:\n",
    "  - 튜닝하고자 하는 하이퍼 파라미터 지정 \n",
    "  - 각 파라미터를 튜닝할 값의 범위 지정 \n",
    "  - 최적화할 목표 메트릭을 지정(RMSE, MAPE 등) \n",
    "\n",
    "### 하이퍼파라미터 튜닝?\n",
    "- 최적의 하이퍼 파라미터 조합은 데이터와 알고리즘에 따라 달라짐. \n",
    "- 몇몇 알고리즘에는 조정 가능한 하이퍼 파라미터가 많이 있으며 그 중 몇개는 하이퍼 파라미터 값에 매우 민감함. \n",
    "- 대부분은 모델 fit과 하이퍼 파라미터 값이 비선형 관계다. \n",
    "- SageMaker Automatic Model Tuning은 하이퍼파라미터 조정 프로세스를 자동화하는 데 도움 줌. \n",
    "- 최상의 모델 성능을 가진 세트를 찾기 위해 서로 다른 하이퍼파라미터 조합으로 여러 교육 작업을 실행합니다.\n",
    "\n"
   ]
  },
  {
   "cell_type": "code",
   "execution_count": null,
   "id": "3ee937fd-1ef1-421d-8b24-411a15db92ae",
   "metadata": {},
   "outputs": [],
   "source": [
    "from sagemaker.tuner import IntegerParameter, CategoricalParameter, ContinuousParameter, HyperparameterTuner\n",
    "\n",
    "hyperparameter_ranges = {\n",
    "  'learning_rate': ContinuousParameter(0.001, 0.2, scaling_type=\"Logarithmic\"),\n",
    "  'epochs': IntegerParameter(10, 50),\n",
    "  'batch_size': IntegerParameter(64, 256),\n",
    "}\n",
    "\n",
    "metric_definitions = [{'Name': 'loss',\n",
    "                       'Regex': ' loss: ([0-9\\\\.]+)'},\n",
    "                     {'Name': 'val_loss',\n",
    "                       'Regex': ' val_loss: ([0-9\\\\.]+)'}]\n",
    "\n",
    "objective_metric_name = 'val_loss'\n",
    "objective_type = 'Minimize'\n",
    "\n",
    "tuning_tags = [{'Key': 'cost-center', 'Value': 'TF2WorkflowTuning'}]"
   ]
  },
  {
   "cell_type": "markdown",
   "id": "61506bcf-f382-489e-8c2a-389cfd7d4761",
   "metadata": {},
   "source": [
    "하이퍼 파라미터를 `HyperparameterTuner`로 지정합니다.\n",
    "- 튜닝 작업은 많은 training job이 실행된 후에 완료됩니다.\n",
    "- 병렬 처리를 사용할지도 지정할 수 있다, \n",
    "  - 아래 예시를 보면 max jobs을 15, max_parallel_jobs를 5로 두어서 3(15/5)개의 시리즈가 완료되면, 튜닝 작업이 완료된다는 것을 의미한다. \n",
    "  - 기본값은 Bayesian Optimization으로 이는 이전 training job 그룹의 결과에 영향을 받기 때문에 모든 작업을 병렬로 실행하는 것이 아니라(15/15) 병렬 작업 그룹으로 나누워서 진행한다. 만약 더 많은 병렬 작업을 사용하면 튜닝이 더 빨리 완료되지만 최적화 정확도가 저하될 수 있다.\n",
    "   \n",
    "- 하이퍼 파라미터 튜너 `fit`을 호출하여 하이퍼 파라미터 조정 작업을 시작할 수 있습니다.\n",
    "- 튜닝 작업을 완료하는 데 약 10분이 걸릴 수 있습니다. \n",
    "- 기다리는동안 tunning job 내 (개별 training 작업에 대한 메타데이터)와 (결과를 포함한 튜닝 작업의 상태)는 Hyperparameter tuning jobs 패널 내 SageMaker Console에서 확인할 수 있다."
   ]
  },
  {
   "cell_type": "code",
   "execution_count": null,
   "id": "54e11d2a-fe91-4e2b-b85b-e3000f45115e",
   "metadata": {},
   "outputs": [],
   "source": [
    "tuner = HyperparameterTuner(hosted_estimator,\n",
    "                            objective_metric_name,\n",
    "                            hyperparameter_ranges,\n",
    "                            metric_definitions,\n",
    "                            max_jobs = 15,\n",
    "                            max_parallel_jobs = 5,\n",
    "                            objective_type = objective_type,\n",
    "                            tags = tuning_tags)\n",
    "\n",
    "tuning_job_name = \"tf-2-workflow-{}\".format(strftime(\"%d-%H-%M-%S\", gmtime()))\n",
    "tuner.fit(inputs, job_name=tuning_job_name)\n",
    "tuner.wait()"
   ]
  },
  {
   "cell_type": "markdown",
   "id": "1772e948-abfb-43c6-b2c8-255f3088ec01",
   "metadata": {},
   "source": [
    "튜닝작업이 완료된 후에는 SageMaker Python SDK의 HyperparameterTuningJobAnalytics 오브젝트를 통해 성능 순서로 튜닝작업을 리스트업해 봅니다. 다양한 튜닝작업 결과 중 최고의 검증 오류(validation loss)를 가지는 top 5 작업을 조회합니다. 그리고 FinalObjectiveValue 컬럼을 참고하십시오. 튜닝작업마다 작업결과는 다양하지만 최고로 선정된 튜닝작업의 검증오류는 호스팅 환경에서 실행했던 (단순히 epoch값만 조정했던) 학습작업에 비해 현저히 낮은 것을 확인할 수 있습니다."
   ]
  },
  {
   "cell_type": "code",
   "execution_count": null,
   "id": "17243368-ad17-4aa9-9ec7-877534c0ed59",
   "metadata": {},
   "outputs": [],
   "source": [
    "tuner_metrics = sagemaker.HyperparameterTuningJobAnalytics(tuning_job_name)\n",
    "tuner_metrics.dataframe().sort_values(['FinalObjectiveValue'], ascending=True).head(5)"
   ]
  },
  {
   "cell_type": "markdown",
   "id": "f46e6d2a-3478-4061-b9a5-f55b84b64ec1",
   "metadata": {},
   "source": [
    "전체 학습시간과 학습작업 상태는 다음 라인의 코드로 확인할 수 있습니다. 자동 조기종료(early stopping) 여부의 디폴트 설정이 off 이기 때문에, 학습작업은 모두 완전하게 실행되었을 것입니다. 자세한 튜닝작업의 예제는 다음 [HPO_Analyze_TuningJob_Results.ipynb](https://github.com/aws/amazon-sagemaker-examples/blob/main/hyperparameter_tuning/analyze_results/HPO_Analyze_TuningJob_Results.ipynb) 노트북을 참조합니다."
   ]
  },
  {
   "cell_type": "code",
   "execution_count": null,
   "id": "e02f08fe-14af-409b-b885-118f58abc46a",
   "metadata": {},
   "outputs": [],
   "source": [
    "total_time = tuner_metrics.dataframe()['TrainingElapsedTimeSeconds'].sum() / 3600\n",
    "print(\"The total training time is {:.2f} hours\".format(total_time))\n",
    "tuner_metrics.dataframe()['TrainingJobStatus'].value_counts()"
   ]
  },
  {
   "cell_type": "markdown",
   "id": "86bb1271-acc1-430e-9853-11abc78f50aa",
   "metadata": {},
   "source": [
    "## 5. SageMaker Hosted training 작업 Endpoint 만들기\n",
    "자동 모델 튜닝작업에서 학습된 결과는 간단한 과정으로 운영환경에 배포할 수 있습니다.    \n",
    "가장 간편한 방식은 SageMaker 호스팅 엔드포인트를 사용하여 학습모델로부터 실시간 예측서비스를 구현하는 것입니다. (배치 변환 작업(Batch Transform jobs) 또한 비동기방식으로 대량 데이터에 대해 오프라인 예측을 실행할 수 있는 좋은 방식입니다.) 엔드포인트는 학습작업에서 생성한 Tensorflow 저장모델을 가져와서 Tensorflow 서빙 컨테이너에 배포할 것입니다. 이 작업은 다음 한 줄의 코드로 가능합니다.\n",
    "\n",
    "보다 구체적으로, HyperparameterTuner 오브젝트의 deploy 명령을 호출하면 해당 튜닝 작업에서 최고로 선택된 모델을 SageMaker 호스팅 엔드포인트에 배포하게 됩니다. 호스팅환경으로의 배포 작업은 로컬모드 엔드포인트의 작업에 비하여 수분이상 더 소요될 수 있습니다. (추론코드 프로토타이핑이 목적일 때에는 로컬모드도 좋은 옵션일 수 있습니다.)"
   ]
  },
  {
   "cell_type": "code",
   "execution_count": null,
   "id": "48cbdc62-ce4a-4ff2-b7d5-12a14fd39706",
   "metadata": {},
   "outputs": [],
   "source": [
    "tuning_predictor = tuner.deploy(initial_instance_count=1, instance_type='ml.m5.xlarge')"
   ]
  },
  {
   "cell_type": "code",
   "execution_count": null,
   "id": "e3605ab8-cbe7-4772-80cd-4e11c488aa90",
   "metadata": {},
   "outputs": [],
   "source": [
    "방금 배포한 엔드포인트에서 예측을 실행해 봅니다."
   ]
  },
  {
   "cell_type": "code",
   "execution_count": null,
   "id": "67a1edbd-b682-4823-b006-c52dbb8c9bce",
   "metadata": {},
   "outputs": [],
   "source": [
    "results = tuning_predictor.predict(x_test[:10])['predictions'] \n",
    "flat_list = [float('%.1f'%(item)) for sublist in results for item in sublist]\n",
    "print('predictions: \\t{}'.format(np.array(flat_list)))\n",
    "print('target values: \\t{}'.format(y_test[:10].round(decimals=1)))"
   ]
  },
  {
   "cell_type": "code",
   "execution_count": null,
   "id": "932b13b5-a3b1-4805-8897-99d07c2d7031",
   "metadata": {},
   "outputs": [],
   "source": [
    "추가 요금이 청구되지 않도록 엔드포인트를 삭제합니다."
   ]
  },
  {
   "cell_type": "code",
   "execution_count": null,
   "id": "4f8248d8-daad-4cdc-a7bb-f2e578708d36",
   "metadata": {},
   "outputs": [],
   "source": [
    "sess.delete_endpoint(tuning_predictor.endpoint)"
   ]
  },
  {
   "cell_type": "markdown",
   "id": "25d7a0f1-347f-443b-a53e-e411a49de26c",
   "metadata": {},
   "source": [
    "## 5. AWS Step Functions Data Science SDK를 이용하여 학습과 배포 단계 자동화"
   ]
  },
  {
   "cell_type": "code",
   "execution_count": null,
   "id": "a1a9a27f-09a0-4370-bab7-f79b66f63270",
   "metadata": {},
   "outputs": [],
   "source": []
  }
 ],
 "metadata": {
  "kernelspec": {
   "display_name": "conda_tensorflow2_p38",
   "language": "python",
   "name": "conda_tensorflow2_p38"
  },
  "language_info": {
   "codemirror_mode": {
    "name": "ipython",
    "version": 3
   },
   "file_extension": ".py",
   "mimetype": "text/x-python",
   "name": "python",
   "nbconvert_exporter": "python",
   "pygments_lexer": "ipython3",
   "version": "3.8.12"
  }
 },
 "nbformat": 4,
 "nbformat_minor": 5
}
