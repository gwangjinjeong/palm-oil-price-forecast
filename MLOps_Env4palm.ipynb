{
 "cells": [
  {
   "cell_type": "markdown",
   "id": "09e1a323-769f-4ea4-bb0a-8a4e180994ca",
   "metadata": {},
   "source": [
    "# MLOps 워크플로우를 SageMaker로 구현하기\n"
   ]
  },
  {
   "cell_type": "markdown",
   "id": "df10416d-f476-4a11-ab0c-1fa3a9c977f2",
   "metadata": {},
   "source": [
    "1. 목차\n",
    "   0. 데이터 추출(Lambda)\n",
    "        - From Data lake To palm-oil-price-forecast/staged-data\n",
    "   1. 데이터 전처리(SageMaker Processing)\n",
    "        - From staged-data to golden-data\n",
    "        - S3내 데이터읽기 -> raw.csv 합치기 -> 전처리(preprocessing.py) -> golden-data/[yyyy][mm][dd][ts]_processed.csv로 저장\n",
    "        - 수행 목록 : 원자재데이터(raw.csv) 합치기, Scaling data, Fill missing data\n",
    "   2. 모델 훈련(SageMaker Train)\n",
    "       - From golden-data to trained model\n",
    "       - S3내 데이터읽기 -> AutoGluon 모델링(train.py) -> modeling/yyyymmddts/Model(.h5), Metric(leaderboard) 저장. \n",
    "<!--     - 모델 하이퍼파라미터 튜닝(SageMaker의 Automatic Model Tuning) -->\n",
    "     \n",
    "   3. 모델검증(SageMaker Processing)\n",
    "       - From trained-model\n",
    "       - S3내 leaderboard 읽기 -> Top1 모델 찾기 -> S3내 TOP1 model(.h5) 읽기 -> Inference(inference.py) -> 결과 저장-> Model Registry 등록\n",
    "   4. 모델배포(QuickSight)\n",
    "       - From validated-model to LAS VEGAS!!!!\n",
    "       - 모델검증시 예측값, 실제값 비교 자료\n",
    "       - Approve시, AWS SageMaker Batch Transform으로 배포\n",
    "       \n",
    "2. 데이터: stage-data 내 데이터\n",
    "   - Date\n",
    "   - HIGH\n",
    "   - CLOSE\n",
    "   - LOW\n",
    "   - OPEN\n",
    "   - VOLUME\n",
    "   - RIC\n",
    "   \n",
    "3. 시간소요: ?\n",
    "\n",
    "4. 질문사항\n",
    "    - 학습(train) 스크립트를 SageMaker가 아닌 **컨테이너**에서 실행하도록 하고 싶다.\n",
    "    - 하드코딩이 아니라 SageMaker, Lambda에서 자유자재로 Access Key, Secret Access Key를 꺼내쓰고 싶은데, 보안이 신경쓰인다.\n",
    "      => Secret Manager\n",
    "5. 참고한 자료\n",
    "    - https://github.com/lunarian60/sagemaker-processing/blob/main/scikit_learn_data_processing.ipynb"
   ]
  },
  {
   "cell_type": "markdown",
   "id": "7675e16d-e48c-42bc-8f63-7710f2acaef5",
   "metadata": {},
   "source": [
    "## 0. 환경구성\n",
    "- 필요한 패키지 임포트\n",
    "- 작업 디렉토리 세팅 : local에서 학습과 테스트를 하기 위해)\n",
    "- SageMaker Session: 다양한 작업을 위해)\n",
    "- S3 버킷 정의:입출력 데이터 저장\n",
    "- 버킷: SageMaker가 자동으로 생성하는 디폴트 버킷을 사용할 것입니다. 디폴트 버킷의 이름은 여러분의 Account ID와 리전을 포함하고 있습니다."
   ]
  },
  {
   "cell_type": "code",
   "execution_count": 1,
   "id": "3e85479e-7061-4007-b1b2-bd170611670b",
   "metadata": {},
   "outputs": [],
   "source": [
    "import os\n",
    "import json\n",
    "import boto3\n",
    "import pandas as pd\n",
    "import numpy as np\n",
    "import base64\n",
    "from botocore.exceptions import ClientError\n",
    "from io import StringIO\n",
    "import time\n",
    "from botocore.client import Config\n",
    "from datetime import datetime as dt\n",
    "import datetime\n",
    "\n",
    "from pytz import timezone\n",
    "from dateutil.relativedelta import *\n",
    "\n",
    "from sagemaker.debugger import Rule, rule_configs\n",
    "from sagemaker.session import TrainingInput\n",
    "import sagemaker, boto3, os\n",
    "\n",
    "from collections import OrderedDict\n",
    "\n",
    "from matplotlib import pyplot as plt\n",
    "\n",
    "import copy"
   ]
  },
  {
   "cell_type": "code",
   "execution_count": 2,
   "id": "3a3cf636-00c6-4893-ad95-6bb140f94199",
   "metadata": {},
   "outputs": [],
   "source": [
    "def get_list_in_s3(key_id : str,\n",
    "                secret_key_id : str,\n",
    "                bucket_name : str,\n",
    "                s3_path : str) -> list:\n",
    "    \n",
    "    s3 = boto3.client('s3',\n",
    "                      aws_access_key_id = ACCESS_KEY_ID,\n",
    "                      aws_secret_access_key = ACCESS_SECRET_KEY,\n",
    "                      region_name = 'ap-northeast-2')\n",
    "    paginator = s3.get_paginator('list_objects_v2')\n",
    "    pages = paginator.paginate(Bucket = bucket_name,\n",
    "                               Prefix = s3_path)  # 원하는 bucket 과 하위경로에 있는 object list # dict type\n",
    "    contents_list = [] # object list의 Contents를 가져옴\n",
    "    for page in pages:\n",
    "        for obj in page['Contents']:\n",
    "            contents_list.append(obj)\n",
    "    return contents_list\n",
    "\n",
    "def get_key_in_diclist(diclst : list):\n",
    "    flist = []\n",
    "    for dic in diclst:\n",
    "        key = dic['Key']\n",
    "        flist.append(key)\n",
    "    return flist\n",
    "\n",
    "def download_df_from_S3(key_id : str,\n",
    "                        secret_key_id : str,\n",
    "                        bucket_name : str,\n",
    "                        s3_path : str) -> pd.DataFrame:\n",
    "    try:\n",
    "        sesssion = boto3.Session(key_id, secret_key_id)\n",
    "        s3_resource = sesssion.resource('s3')\n",
    "        bucket = s3_resource.Bucket(bucket_name)\n",
    "        findData = bucket.objects.filter(Prefix=s3_path)\n",
    "        # assert len(list(filter(bool, [obj.key.split('/')[1].split('.')[0] for obj in findData]))) == 1 , '동일한 이름의 파일이 0개 혹은 2개 이상 존재합니다.'\n",
    "        for obj in bucket.objects.filter(Prefix=s3_path):\n",
    "            key = obj.key\n",
    "            if key.split('/')[1] == '': continue\n",
    "            body = obj.get()['Body']\n",
    "            csv_string = body.read().decode('utf-8')\n",
    "            df = pd.read_csv(StringIO(csv_string))\n",
    "        return df\n",
    "    except Exception as e:\n",
    "        return e\n",
    "    \n",
    "def upload_df_to_S3(key_id : str,\n",
    "                    secret_key_id : str,\n",
    "                    bucket_name : str,\n",
    "                    s3_path : str,\n",
    "                    df : pd.DataFrame) -> None:\n",
    "    try:\n",
    "        csv_buffer = StringIO()\n",
    "        df.to_csv(csv_buffer, index=False)\n",
    "        s3_resource = boto3.resource(\n",
    "            's3',\n",
    "            aws_access_key_id=key_id,\n",
    "            aws_secret_access_key=secret_key_id,\n",
    "            config=Config(signature_version='s3v4')\n",
    "        )\n",
    "        code = s3_resource.Object(bucket_name, s3_path).put(Body = csv_buffer.getvalue())\n",
    "        if code['ResponseMetadata']['HTTPStatusCode'] == 200:\n",
    "            return f'Complete uploading data to {s3_path} in AWS S3'\n",
    "        else:\n",
    "            raise Exception('\\nHTTPStautsCode is not 200\\nPlease See below error message\\n'+code)\n",
    "    except Exception as e:\n",
    "        return '\\n'+e\n",
    "\n",
    "def get_secret():\n",
    "    # See https://docs.aws.amazon.com/secretsmanager/latest/apireference/API_GetSecretValue.html\n",
    "    secret_name = \"prod/sagemaker\"\n",
    "    region_name = \"ap-northeast-2\"\n",
    "    \n",
    "    # Create a Secrets Manager client\n",
    "    session = boto3.session.Session()\n",
    "    client = session.client(\n",
    "        service_name='secretsmanager',\n",
    "        region_name=region_name\n",
    "    )\n",
    "    try:\n",
    "        get_secret_value_response = client.get_secret_value(\n",
    "            SecretId='prod/sagemaker',\n",
    "        )\n",
    "    except ClientError as e:\n",
    "        if e.response['Error']['Code'] == 'DecryptionFailureException': # Secrets Manager can't decrypt the protected secret text using the provided KMS key.\n",
    "            raise e\n",
    "        elif e.response['Error']['Code'] == 'InternalServiceErrorException': # An error occurred on the server side.\n",
    "            raise e\n",
    "        elif e.response['Error']['Code'] == 'InvalidParameterException': # You provided an invalid value for a parameter.\n",
    "            raise e\n",
    "        elif e.response['Error']['Code'] == 'InvalidRequestException': # You provided a parameter value that is not valid for the current state of the resource.\n",
    "            raise e\n",
    "        elif e.response['Error']['Code'] == 'ResourceNotFoundException': # We can't find the resource that you asked for.\n",
    "            raise e\n",
    "    else:\n",
    "        if 'SecretString' in get_secret_value_response:\n",
    "            secret = get_secret_value_response['SecretString']\n",
    "            return secret\n",
    "        else:\n",
    "            decoded_binary_secret = base64.b64decode(get_secret_value_response['SecretBinary'])\n",
    "            return decoded_binary_secret"
   ]
  },
  {
   "cell_type": "code",
   "execution_count": 3,
   "id": "d788bd42-072b-401f-a402-4a790ea4ac5f",
   "metadata": {},
   "outputs": [
    {
     "name": "stdout",
     "output_type": "stream",
     "text": [
      "Linux version 5.10.102-99.473.amzn2.x86_64 (mockbuild@ip-10-0-35-1) (gcc10-gcc (GCC) 10.3.1 20210422 (Red Hat 10.3.1-1), GNU ld version 2.35-21.amzn2.0.1) #1 SMP Wed Mar 2 19:14:12 UTC 2022\n",
      "MemTotal:       31824204 kB\n",
      "16\n"
     ]
    }
   ],
   "source": [
    "%%bash\n",
    "cat /proc/version\n",
    "cat /proc/meminfo | grep MemTotal\n",
    "grep -c processor /proc/cpuinfo\n",
    "# cat /proc/cpuinfo"
   ]
  },
  {
   "cell_type": "code",
   "execution_count": 4,
   "id": "2def3f34-008e-493d-ac74-e7b48ac6ec31",
   "metadata": {},
   "outputs": [],
   "source": [
    "keychain = json.loads(get_secret())\n",
    "ACCESS_KEY_ID = keychain['ACCESS_KEY_ID_ent']\n",
    "ACCESS_SECRET_KEY = keychain['ACCESS_SECRET_KEY_ent']\n",
    "\n",
    "BUCKET_NAME_USECASE = keychain['BUCKET_NAME_USECASE_ent']\n",
    "S3_PATH_STAGE = keychain['S3_PATH_STAGE']\n",
    "S3_PATH_GOLDEN = keychain['S3_PATH_GOLDEN']\n",
    "S3_PATH_TRAIN = keychain['S3_PATH_TRAIN']\n",
    "S3_PATH_log = keychain['S3_PATH_LOG']\n",
    "\n",
    "boto3_session = boto3.Session(ACCESS_KEY_ID, ACCESS_SECRET_KEY)\n",
    "sm_session = sagemaker.Session(boto_session = boto3_session)\n",
    "region = boto3_session.region_name\n",
    "\n",
    "s3_resource = boto3_session.resource('s3')\n",
    "bucket = s3_resource.Bucket(BUCKET_NAME_USECASE)\n",
    "s3_client = boto3_session.client('s3')\n"
   ]
  },
  {
   "cell_type": "markdown",
   "id": "a333abc8-64b5-4b2a-aeba-acfe7fe9cf8b",
   "metadata": {
    "tags": []
   },
   "source": [
    "## 1. SageMaker Processing을 이용한 데이터 전처리(정제)\n",
    "**워크플로우 요약**\n",
    "   1. Stage 데이터셋 가지고 오기\n",
    "   2. First preprocessing: ric 선정 -> 컬럼삭제 -> 형변환 -> 훈련을 위한 dataset로 만들기\n",
    "   3. SageMaker Processing을 이용한 데이터 전처리   \n",
    "   4. trainset, testset 나누기\n",
    "   5. S3 버킷내 golden-data 폴더에 업로드\n",
    "   6. 학습과 테스트를 위해 레이블 생성 & 저장.\n",
    "   \n",
    "**SageMaker Processing?**\n",
    "- SageMaker 노트북 서버와 분리된 독립적 환경에서 테라바이트 수준의 데이터를 변환처리 가능.   \n",
    "- 일반적으로 Prototyping 작업에 사용되는 노트북은 SageMaker 일반 사양에서 실행하며 전처리, 학습, 모델 호스팅과 같은 작업은 강력한 사양의 인스턴스에서 실행.    \n",
    "- SageMaker Processing은 Scikit-learn이 기본 탑재되어 있으며 **Bring Your Own Container** 옵션으로 다양한 데이터 정제 작업을 별도 독립된 환경에서 실행 가능"
   ]
  },
  {
   "cell_type": "markdown",
   "id": "f4798bc0-0a77-4974-8cb0-14d504e55309",
   "metadata": {},
   "source": [
    "### 1) Stage Data 폴더 내 데이터들 리스트로 가져오기\n",
    "- S3 Stage data 버킷 내 데이터들 읽기"
   ]
  },
  {
   "cell_type": "code",
   "execution_count": 5,
   "id": "4efc7f1e-ca3a-4d8d-ba81-8c6889da7c56",
   "metadata": {},
   "outputs": [
    {
     "data": {
      "text/plain": [
       "datetime.datetime(2022, 10, 25, 13, 9, 8, 929366)"
      ]
     },
     "execution_count": 5,
     "metadata": {},
     "output_type": "execute_result"
    }
   ],
   "source": [
    "dt.today()"
   ]
  },
  {
   "cell_type": "code",
   "execution_count": 6,
   "id": "513508d0-d0f8-4c1f-9fbe-4708f255ef3b",
   "metadata": {},
   "outputs": [
    {
     "name": "stdout",
     "output_type": "stream",
     "text": [
      "데이터수: 12499\n",
      "마지막 데이터 날짜: staged-data/2022/10/24/1666592130.0/raw.csv\n"
     ]
    }
   ],
   "source": [
    "# 폴더 내 파일 리스트 가지고 옴\n",
    "path_list = []\n",
    "\n",
    "list_in_stage_dir = get_list_in_s3(ACCESS_KEY_ID,\n",
    "                                   ACCESS_SECRET_KEY,\n",
    "                                   BUCKET_NAME_USECASE,\n",
    "                                   S3_PATH_STAGE)\n",
    "for dic in list_in_stage_dir:\n",
    "    key = dic['Key']\n",
    "    if key[-1] == '/': continue # 만약 폴더형태이면, path 안가지고온다.\n",
    "    path_list.append(key)\n",
    "print('데이터수:',len(path_list))\n",
    "print('마지막 데이터 날짜:',path_list[-1])"
   ]
  },
  {
   "cell_type": "code",
   "execution_count": null,
   "id": "e50317db-36a3-47e2-8b05-205dace41670",
   "metadata": {},
   "outputs": [],
   "source": [
    "# bucket = 'arn:aws:s3:::palm-oil-price-forecast'\n",
    "# selection = bucket.objects(prefix = \"golden-data/\").select do |obj|\n",
    "# # Do your code-style filtering here - for example:\n",
    "# obj.key.match(/[.]gz$/)\n",
    "# end"
   ]
  },
  {
   "cell_type": "markdown",
   "id": "8500f740-f44c-496c-9203-1999aef4f544",
   "metadata": {
    "jp-MarkdownHeadingCollapsed": true,
    "tags": []
   },
   "source": [
    "### (별첨)merge를 사용하지 못하는 이유"
   ]
  },
  {
   "cell_type": "code",
   "execution_count": 85,
   "id": "47aca428-3941-4476-a4b0-dbff20ead723",
   "metadata": {},
   "outputs": [],
   "source": [
    "test_merge_raw = pd.DataFrame(columns=['Date','HIGH','LOW','OPEN','CLOSE','VOLUME','RIC'])\n",
    "test_merge_tmp1 = df_tmp\n",
    "test_merge_tmp2 = df_tmp2"
   ]
  },
  {
   "cell_type": "code",
   "execution_count": 86,
   "id": "a6558b3c-6e1f-4316-b2af-d9bb0b797740",
   "metadata": {},
   "outputs": [
    {
     "data": {
      "text/html": [
       "<div>\n",
       "<style scoped>\n",
       "    .dataframe tbody tr th:only-of-type {\n",
       "        vertical-align: middle;\n",
       "    }\n",
       "\n",
       "    .dataframe tbody tr th {\n",
       "        vertical-align: top;\n",
       "    }\n",
       "\n",
       "    .dataframe thead th {\n",
       "        text-align: right;\n",
       "    }\n",
       "</style>\n",
       "<table border=\"1\" class=\"dataframe\">\n",
       "  <thead>\n",
       "    <tr style=\"text-align: right;\">\n",
       "      <th></th>\n",
       "      <th>Date</th>\n",
       "      <th>HIGH</th>\n",
       "      <th>LOW</th>\n",
       "      <th>OPEN</th>\n",
       "      <th>CLOSE</th>\n",
       "      <th>VOLUME</th>\n",
       "      <th>RIC</th>\n",
       "    </tr>\n",
       "  </thead>\n",
       "  <tbody>\n",
       "  </tbody>\n",
       "</table>\n",
       "</div>"
      ],
      "text/plain": [
       "Empty DataFrame\n",
       "Columns: [Date, HIGH, LOW, OPEN, CLOSE, VOLUME, RIC]\n",
       "Index: []"
      ]
     },
     "execution_count": 86,
     "metadata": {},
     "output_type": "execute_result"
    }
   ],
   "source": [
    "test_merge_raw"
   ]
  },
  {
   "cell_type": "code",
   "execution_count": 88,
   "id": "03685e9a-90c6-4e6c-98dd-7f4ec8c1c10c",
   "metadata": {},
   "outputs": [
    {
     "data": {
      "text/html": [
       "<div>\n",
       "<style scoped>\n",
       "    .dataframe tbody tr th:only-of-type {\n",
       "        vertical-align: middle;\n",
       "    }\n",
       "\n",
       "    .dataframe tbody tr th {\n",
       "        vertical-align: top;\n",
       "    }\n",
       "\n",
       "    .dataframe thead th {\n",
       "        text-align: right;\n",
       "    }\n",
       "</style>\n",
       "<table border=\"1\" class=\"dataframe\">\n",
       "  <thead>\n",
       "    <tr style=\"text-align: right;\">\n",
       "      <th></th>\n",
       "      <th>Date</th>\n",
       "      <th>HIGH</th>\n",
       "      <th>LOW</th>\n",
       "      <th>OPEN</th>\n",
       "      <th>CLOSE</th>\n",
       "      <th>VOLUME</th>\n",
       "      <th>RIC</th>\n",
       "    </tr>\n",
       "  </thead>\n",
       "  <tbody>\n",
       "    <tr>\n",
       "      <th>0</th>\n",
       "      <td>1980-01-01</td>\n",
       "      <td>NaN</td>\n",
       "      <td>NaN</td>\n",
       "      <td>NaN</td>\n",
       "      <td>879.38</td>\n",
       "      <td>NaN</td>\n",
       "      <td>HSI</td>\n",
       "    </tr>\n",
       "    <tr>\n",
       "      <th>1</th>\n",
       "      <td>1980-01-01</td>\n",
       "      <td>107.94</td>\n",
       "      <td>107.94</td>\n",
       "      <td>107.94</td>\n",
       "      <td>107.94</td>\n",
       "      <td>NaN</td>\n",
       "      <td>SPX</td>\n",
       "    </tr>\n",
       "  </tbody>\n",
       "</table>\n",
       "</div>"
      ],
      "text/plain": [
       "         Date    HIGH     LOW    OPEN   CLOSE  VOLUME  RIC\n",
       "0  1980-01-01     NaN     NaN     NaN  879.38     NaN  HSI\n",
       "1  1980-01-01  107.94  107.94  107.94  107.94     NaN  SPX"
      ]
     },
     "execution_count": 88,
     "metadata": {},
     "output_type": "execute_result"
    }
   ],
   "source": [
    "test_merge_tmp1.head()"
   ]
  },
  {
   "cell_type": "code",
   "execution_count": 89,
   "id": "12ec6ef2-b330-4cb9-a28f-027971bc0023",
   "metadata": {},
   "outputs": [
    {
     "data": {
      "text/html": [
       "<div>\n",
       "<style scoped>\n",
       "    .dataframe tbody tr th:only-of-type {\n",
       "        vertical-align: middle;\n",
       "    }\n",
       "\n",
       "    .dataframe tbody tr th {\n",
       "        vertical-align: top;\n",
       "    }\n",
       "\n",
       "    .dataframe thead th {\n",
       "        text-align: right;\n",
       "    }\n",
       "</style>\n",
       "<table border=\"1\" class=\"dataframe\">\n",
       "  <thead>\n",
       "    <tr style=\"text-align: right;\">\n",
       "      <th></th>\n",
       "      <th>Date</th>\n",
       "      <th>HIGH</th>\n",
       "      <th>LOW</th>\n",
       "      <th>OPEN</th>\n",
       "      <th>CLOSE</th>\n",
       "      <th>VOLUME</th>\n",
       "      <th>RIC</th>\n",
       "    </tr>\n",
       "  </thead>\n",
       "  <tbody>\n",
       "    <tr>\n",
       "      <th>0</th>\n",
       "      <td>1980-01-03</td>\n",
       "      <td>23.99</td>\n",
       "      <td>23.72</td>\n",
       "      <td>23.85</td>\n",
       "      <td>23.9200</td>\n",
       "      <td>NaN</td>\n",
       "      <td>BOc1</td>\n",
       "    </tr>\n",
       "    <tr>\n",
       "      <th>1</th>\n",
       "      <td>1980-01-03</td>\n",
       "      <td>24.35</td>\n",
       "      <td>24.02</td>\n",
       "      <td>24.15</td>\n",
       "      <td>24.3200</td>\n",
       "      <td>NaN</td>\n",
       "      <td>BOc2</td>\n",
       "    </tr>\n",
       "    <tr>\n",
       "      <th>2</th>\n",
       "      <td>1980-01-03</td>\n",
       "      <td>24.65</td>\n",
       "      <td>24.40</td>\n",
       "      <td>24.55</td>\n",
       "      <td>24.6200</td>\n",
       "      <td>NaN</td>\n",
       "      <td>BOc3</td>\n",
       "    </tr>\n",
       "    <tr>\n",
       "      <th>3</th>\n",
       "      <td>1980-01-03</td>\n",
       "      <td>NaN</td>\n",
       "      <td>NaN</td>\n",
       "      <td>NaN</td>\n",
       "      <td>1.1703</td>\n",
       "      <td>NaN</td>\n",
       "      <td>CAD=</td>\n",
       "    </tr>\n",
       "    <tr>\n",
       "      <th>4</th>\n",
       "      <td>1980-01-03</td>\n",
       "      <td>NaN</td>\n",
       "      <td>NaN</td>\n",
       "      <td>NaN</td>\n",
       "      <td>1.5177</td>\n",
       "      <td>NaN</td>\n",
       "      <td>EUR=</td>\n",
       "    </tr>\n",
       "  </tbody>\n",
       "</table>\n",
       "</div>"
      ],
      "text/plain": [
       "         Date   HIGH    LOW   OPEN    CLOSE  VOLUME   RIC\n",
       "0  1980-01-03  23.99  23.72  23.85  23.9200     NaN  BOc1\n",
       "1  1980-01-03  24.35  24.02  24.15  24.3200     NaN  BOc2\n",
       "2  1980-01-03  24.65  24.40  24.55  24.6200     NaN  BOc3\n",
       "3  1980-01-03    NaN    NaN    NaN   1.1703     NaN  CAD=\n",
       "4  1980-01-03    NaN    NaN    NaN   1.5177     NaN  EUR="
      ]
     },
     "execution_count": 89,
     "metadata": {},
     "output_type": "execute_result"
    }
   ],
   "source": [
    "test_merge_tmp2.head()"
   ]
  },
  {
   "cell_type": "code",
   "execution_count": 87,
   "id": "41776cda-94b1-43a3-afda-c18b532fff60",
   "metadata": {},
   "outputs": [
    {
     "data": {
      "text/html": [
       "<div>\n",
       "<style scoped>\n",
       "    .dataframe tbody tr th:only-of-type {\n",
       "        vertical-align: middle;\n",
       "    }\n",
       "\n",
       "    .dataframe tbody tr th {\n",
       "        vertical-align: top;\n",
       "    }\n",
       "\n",
       "    .dataframe thead th {\n",
       "        text-align: right;\n",
       "    }\n",
       "</style>\n",
       "<table border=\"1\" class=\"dataframe\">\n",
       "  <thead>\n",
       "    <tr style=\"text-align: right;\">\n",
       "      <th></th>\n",
       "      <th>Date_x</th>\n",
       "      <th>HIGH_x</th>\n",
       "      <th>LOW_x</th>\n",
       "      <th>OPEN_x</th>\n",
       "      <th>CLOSE_x</th>\n",
       "      <th>VOLUME_x</th>\n",
       "      <th>Date_y</th>\n",
       "      <th>HIGH_y</th>\n",
       "      <th>LOW_y</th>\n",
       "      <th>OPEN_y</th>\n",
       "      <th>CLOSE_y</th>\n",
       "      <th>VOLUME_y</th>\n",
       "      <th>RIC</th>\n",
       "    </tr>\n",
       "  </thead>\n",
       "  <tbody>\n",
       "    <tr>\n",
       "      <th>0</th>\n",
       "      <td>NaN</td>\n",
       "      <td>NaN</td>\n",
       "      <td>NaN</td>\n",
       "      <td>NaN</td>\n",
       "      <td>NaN</td>\n",
       "      <td>NaN</td>\n",
       "      <td>1980-01-01</td>\n",
       "      <td>NaN</td>\n",
       "      <td>NaN</td>\n",
       "      <td>NaN</td>\n",
       "      <td>879.38</td>\n",
       "      <td>NaN</td>\n",
       "      <td>HSI</td>\n",
       "    </tr>\n",
       "    <tr>\n",
       "      <th>1</th>\n",
       "      <td>NaN</td>\n",
       "      <td>NaN</td>\n",
       "      <td>NaN</td>\n",
       "      <td>NaN</td>\n",
       "      <td>NaN</td>\n",
       "      <td>NaN</td>\n",
       "      <td>1980-01-01</td>\n",
       "      <td>107.94</td>\n",
       "      <td>107.94</td>\n",
       "      <td>107.94</td>\n",
       "      <td>107.94</td>\n",
       "      <td>NaN</td>\n",
       "      <td>SPX</td>\n",
       "    </tr>\n",
       "  </tbody>\n",
       "</table>\n",
       "</div>"
      ],
      "text/plain": [
       "  Date_x HIGH_x LOW_x OPEN_x CLOSE_x VOLUME_x      Date_y  HIGH_y   LOW_y  \\\n",
       "0    NaN    NaN   NaN    NaN     NaN      NaN  1980-01-01     NaN     NaN   \n",
       "1    NaN    NaN   NaN    NaN     NaN      NaN  1980-01-01  107.94  107.94   \n",
       "\n",
       "   OPEN_y  CLOSE_y  VOLUME_y  RIC  \n",
       "0     NaN   879.38       NaN  HSI  \n",
       "1  107.94   107.94       NaN  SPX  "
      ]
     },
     "execution_count": 87,
     "metadata": {},
     "output_type": "execute_result"
    }
   ],
   "source": [
    "pd.merge(test_merge_raw,\n",
    "         test_merge_tmp1, \n",
    "         how = 'outer',\n",
    "         on = 'RIC')"
   ]
  },
  {
   "cell_type": "code",
   "execution_count": 90,
   "id": "762da5b1-26b1-48e3-9f11-25ba14267e3d",
   "metadata": {},
   "outputs": [
    {
     "data": {
      "text/html": [
       "<div>\n",
       "<style scoped>\n",
       "    .dataframe tbody tr th:only-of-type {\n",
       "        vertical-align: middle;\n",
       "    }\n",
       "\n",
       "    .dataframe tbody tr th {\n",
       "        vertical-align: top;\n",
       "    }\n",
       "\n",
       "    .dataframe thead th {\n",
       "        text-align: right;\n",
       "    }\n",
       "</style>\n",
       "<table border=\"1\" class=\"dataframe\">\n",
       "  <thead>\n",
       "    <tr style=\"text-align: right;\">\n",
       "      <th></th>\n",
       "      <th>Date</th>\n",
       "      <th>HIGH</th>\n",
       "      <th>LOW</th>\n",
       "      <th>OPEN</th>\n",
       "      <th>CLOSE</th>\n",
       "      <th>VOLUME</th>\n",
       "      <th>RIC</th>\n",
       "    </tr>\n",
       "  </thead>\n",
       "  <tbody>\n",
       "  </tbody>\n",
       "</table>\n",
       "</div>"
      ],
      "text/plain": [
       "Empty DataFrame\n",
       "Columns: [Date, HIGH, LOW, OPEN, CLOSE, VOLUME, RIC]\n",
       "Index: []"
      ]
     },
     "execution_count": 90,
     "metadata": {},
     "output_type": "execute_result"
    }
   ],
   "source": [
    "pd.merge(test_merge_raw,\n",
    "         test_merge_tmp1) \n",
    "         # how = 'outer',\n",
    "         # on = 'RIC')"
   ]
  },
  {
   "cell_type": "code",
   "execution_count": 91,
   "id": "27f0a6f8-927a-40d5-a3dd-edafe5607ea1",
   "metadata": {},
   "outputs": [
    {
     "data": {
      "text/html": [
       "<div>\n",
       "<style scoped>\n",
       "    .dataframe tbody tr th:only-of-type {\n",
       "        vertical-align: middle;\n",
       "    }\n",
       "\n",
       "    .dataframe tbody tr th {\n",
       "        vertical-align: top;\n",
       "    }\n",
       "\n",
       "    .dataframe thead th {\n",
       "        text-align: right;\n",
       "    }\n",
       "</style>\n",
       "<table border=\"1\" class=\"dataframe\">\n",
       "  <thead>\n",
       "    <tr style=\"text-align: right;\">\n",
       "      <th></th>\n",
       "      <th>Date</th>\n",
       "      <th>HIGH</th>\n",
       "      <th>LOW</th>\n",
       "      <th>OPEN</th>\n",
       "      <th>CLOSE</th>\n",
       "      <th>VOLUME</th>\n",
       "      <th>RIC</th>\n",
       "    </tr>\n",
       "  </thead>\n",
       "  <tbody>\n",
       "    <tr>\n",
       "      <th>0</th>\n",
       "      <td>1980-01-01</td>\n",
       "      <td>NaN</td>\n",
       "      <td>NaN</td>\n",
       "      <td>NaN</td>\n",
       "      <td>879.38</td>\n",
       "      <td>NaN</td>\n",
       "      <td>HSI</td>\n",
       "    </tr>\n",
       "    <tr>\n",
       "      <th>1</th>\n",
       "      <td>1980-01-01</td>\n",
       "      <td>107.94</td>\n",
       "      <td>107.94</td>\n",
       "      <td>107.94</td>\n",
       "      <td>107.94</td>\n",
       "      <td>NaN</td>\n",
       "      <td>SPX</td>\n",
       "    </tr>\n",
       "  </tbody>\n",
       "</table>\n",
       "</div>"
      ],
      "text/plain": [
       "         Date    HIGH     LOW    OPEN   CLOSE  VOLUME  RIC\n",
       "0  1980-01-01     NaN     NaN     NaN  879.38     NaN  HSI\n",
       "1  1980-01-01  107.94  107.94  107.94  107.94     NaN  SPX"
      ]
     },
     "execution_count": 91,
     "metadata": {},
     "output_type": "execute_result"
    }
   ],
   "source": [
    "pd.concat([test_merge_raw,\n",
    "           test_merge_tmp1])"
   ]
  },
  {
   "cell_type": "markdown",
   "id": "5b2a8102-109e-4774-83c2-9f18326af41f",
   "metadata": {},
   "source": [
    "### 2) 추출한 데이터 전처리를 위해 묶기\n",
    "- golden-data/[yyyy]/[mm]/[dd]/[ts].csv 형태로 저장\n",
    "- From staged-data To golden-data"
   ]
  },
  {
   "cell_type": "code",
   "execution_count": 45,
   "id": "b7baddf5-0c0a-4106-b1ac-2b618fd8bbeb",
   "metadata": {},
   "outputs": [
    {
     "data": {
      "text/plain": [
       "['1666735766.csv']"
      ]
     },
     "execution_count": 45,
     "metadata": {},
     "output_type": "execute_result"
    }
   ],
   "source": [
    "os.listdir(raw_dir)"
   ]
  },
  {
   "cell_type": "code",
   "execution_count": 46,
   "id": "cce544d2-038f-48a1-940a-5057953b1fb8",
   "metadata": {},
   "outputs": [
    {
     "name": "stdout",
     "output_type": "stream",
     "text": [
      "CPU times: user 19min 26s, sys: 1min 30s, total: 20min 57s\n",
      "Wall time: 35min 32s\n"
     ]
    }
   ],
   "source": [
    "%%time\n",
    "# 파일 리스트로 부터 파일들 가지고 와서 한개의 데이터셋으로 붙이기\n",
    "start = time.time()\n",
    "\n",
    "df_raw = pd.DataFrame()\n",
    "KST = dt.today() + relativedelta(hours=9)\n",
    "raw_dir = os.path.join(os.getcwd(),'data/raw', KST.strftime('%Y/%m/%d'))\n",
    "\n",
    "if not os.path.exists(raw_dir): #만약 raw_dir이라는 변수가 선언조차 안되었다 => 오늘날짜의 데이터 추출이 안되었다는 뜻이므로 추출 수행\n",
    "    for stage_data in path_list: # stage-data 내 데이터들\n",
    "        df_tmp = download_df_from_S3(ACCESS_KEY_ID,\n",
    "                                     ACCESS_SECRET_KEY,\n",
    "                                     BUCKET_NAME_USECASE,\n",
    "                                     stage_data)\n",
    "        df_raw = pd.concat([df_raw, df_tmp])\n",
    "    os.makedirs(raw_dir, exist_ok=True) # 폴더 생성\n",
    "    df_raw = df_raw.reset_index(drop=True)\n",
    "    df_raw.to_csv(os.path.join(raw_dir, # 로컬에 하나 저장하자.\n",
    "                               '{}.csv'.format(int(time.mktime(KST.timetuple())))),\n",
    "                  index=False)\n",
    "    \n",
    "else:\n",
    "    raw_dir_ts = os.path.join(raw_dir, os.listdir(raw_dir)[0])\n",
    "    df_raw = pd.read_csv(os.path.join(raw_dir_ts,\n",
    "                                      '{}.csv'.format(int(time.mktime(KST.timetuple())))))\n",
    "upload_df_to_S3(ACCESS_KEY_ID,\n",
    "                ACCESS_SECRET_KEY,\n",
    "                BUCKET_NAME_USECASE,\n",
    "                os.path.join(S3_PATH_GOLDEN,\n",
    "                             KST.strftime('%Y/%m/%d'),\n",
    "                             '{}.csv'.format('stage'),\n",
    "                df_raw)\n",
    "end = time.time()"
   ]
  },
  {
   "cell_type": "code",
   "execution_count": 47,
   "id": "061612b3-4067-4140-b5b6-70cf5428b587",
   "metadata": {},
   "outputs": [
    {
     "name": "stdout",
     "output_type": "stream",
     "text": [
      "Staging Data 시간 : 2132.1 sec\n",
      "Staging Data 시간 : 35.5 min\n"
     ]
    }
   ],
   "source": [
    "print(f\"Staging Data 시간 : {end - start:.1f} sec\")\n",
    "print(f\"Staging Data 시간 : {((end - start)/60):.1f} min\")"
   ]
  },
  {
   "cell_type": "code",
   "execution_count": 78,
   "id": "70dd8930-3e4a-4cfc-8568-087b98271bb5",
   "metadata": {},
   "outputs": [
    {
     "data": {
      "text/plain": [
       "'Complete uploading data to golden-data/2022/10/26/stage.csv in AWS S3'"
      ]
     },
     "execution_count": 78,
     "metadata": {},
     "output_type": "execute_result"
    }
   ],
   "source": [
    "upload_df_to_S3(ACCESS_KEY_ID,\n",
    "                ACCESS_SECRET_KEY,\n",
    "                BUCKET_NAME_USECASE,\n",
    "                os.path.join(S3_PATH_GOLDEN,\n",
    "                             KST.strftime('%Y/%m/%d'),\n",
    "                             '{}.csv'.format('stage')),\n",
    "                df_raw)"
   ]
  },
  {
   "cell_type": "markdown",
   "id": "12e0a481-fb36-468d-89f1-8870a90615e2",
   "metadata": {},
   "source": [
    "\\[2022년 10월 20일 기준\\]   \n",
    "Download and Concat Staging Data 시간 : **2206.9 sec(36.8 min)**"
   ]
  },
  {
   "cell_type": "markdown",
   "id": "9f19c30f-0479-4c93-83ea-d98b8c494836",
   "metadata": {},
   "source": [
    "\\[2022년 10월 ??일 기준\\]   \n",
    "Download and Concat Staging Data 시간 : **2206.9 sec(36.8 min)**"
   ]
  },
  {
   "cell_type": "markdown",
   "id": "bceac2cc-99fc-40c8-8b3e-fe25d0e7a3dd",
   "metadata": {},
   "source": [
    "### ** 아래3,4는 preprocessing으로 처리할 부분인데 실험먼저 해보자\n",
    "- 2)까지는 Lambda로 combine stagedata하면 되긴 함 (Sagemaker로 합치고 싶긴 하다.\n",
    "- 3,4는 preprocessing으로 충분히 할 수 있다."
   ]
  },
  {
   "cell_type": "markdown",
   "id": "fb68ec2a-cb62-4a03-bb7a-fb4ab6ef69a9",
   "metadata": {},
   "source": [
    "- 상단의 데이터는 Merge로 했을때의 소요시간과 비교해서 알맞는것으로 설정하자\n",
    "    => 못쓴다.\n",
    "- Lambda로 Golden-data로 옮겨주는 작업을 주기적으로 수행하도록 하자.\n",
    "    => 되나?"
   ]
  },
  {
   "cell_type": "code",
   "execution_count": 48,
   "id": "b535d821-a3eb-4e74-b3ad-3324258f7df0",
   "metadata": {},
   "outputs": [
    {
     "data": {
      "text/html": [
       "<div>\n",
       "<style scoped>\n",
       "    .dataframe tbody tr th:only-of-type {\n",
       "        vertical-align: middle;\n",
       "    }\n",
       "\n",
       "    .dataframe tbody tr th {\n",
       "        vertical-align: top;\n",
       "    }\n",
       "\n",
       "    .dataframe thead th {\n",
       "        text-align: right;\n",
       "    }\n",
       "</style>\n",
       "<table border=\"1\" class=\"dataframe\">\n",
       "  <thead>\n",
       "    <tr style=\"text-align: right;\">\n",
       "      <th></th>\n",
       "      <th>Date</th>\n",
       "      <th>HIGH</th>\n",
       "      <th>LOW</th>\n",
       "      <th>OPEN</th>\n",
       "      <th>CLOSE</th>\n",
       "      <th>VOLUME</th>\n",
       "      <th>RIC</th>\n",
       "    </tr>\n",
       "  </thead>\n",
       "  <tbody>\n",
       "    <tr>\n",
       "      <th>0</th>\n",
       "      <td>1980-01-01</td>\n",
       "      <td>NaN</td>\n",
       "      <td>NaN</td>\n",
       "      <td>NaN</td>\n",
       "      <td>879.38</td>\n",
       "      <td>NaN</td>\n",
       "      <td>HSI</td>\n",
       "    </tr>\n",
       "    <tr>\n",
       "      <th>1</th>\n",
       "      <td>1980-01-01</td>\n",
       "      <td>107.94</td>\n",
       "      <td>107.94</td>\n",
       "      <td>107.94</td>\n",
       "      <td>107.94</td>\n",
       "      <td>NaN</td>\n",
       "      <td>SPX</td>\n",
       "    </tr>\n",
       "    <tr>\n",
       "      <th>2</th>\n",
       "      <td>1980-01-02</td>\n",
       "      <td>23.98</td>\n",
       "      <td>23.63</td>\n",
       "      <td>23.80</td>\n",
       "      <td>23.83</td>\n",
       "      <td>NaN</td>\n",
       "      <td>BOc1</td>\n",
       "    </tr>\n",
       "    <tr>\n",
       "      <th>3</th>\n",
       "      <td>1980-01-02</td>\n",
       "      <td>24.35</td>\n",
       "      <td>24.00</td>\n",
       "      <td>24.20</td>\n",
       "      <td>24.13</td>\n",
       "      <td>NaN</td>\n",
       "      <td>BOc2</td>\n",
       "    </tr>\n",
       "    <tr>\n",
       "      <th>4</th>\n",
       "      <td>1980-01-02</td>\n",
       "      <td>24.70</td>\n",
       "      <td>24.38</td>\n",
       "      <td>24.65</td>\n",
       "      <td>24.50</td>\n",
       "      <td>NaN</td>\n",
       "      <td>BOc3</td>\n",
       "    </tr>\n",
       "    <tr>\n",
       "      <th>...</th>\n",
       "      <td>...</td>\n",
       "      <td>...</td>\n",
       "      <td>...</td>\n",
       "      <td>...</td>\n",
       "      <td>...</td>\n",
       "      <td>...</td>\n",
       "      <td>...</td>\n",
       "    </tr>\n",
       "    <tr>\n",
       "      <th>893395</th>\n",
       "      <td>2022-10-24</td>\n",
       "      <td>1402.75</td>\n",
       "      <td>1377.75</td>\n",
       "      <td>1402.75</td>\n",
       "      <td>1381.50</td>\n",
       "      <td>93674.0</td>\n",
       "      <td>Sc2</td>\n",
       "    </tr>\n",
       "    <tr>\n",
       "      <th>893396</th>\n",
       "      <td>2022-10-24</td>\n",
       "      <td>1410.00</td>\n",
       "      <td>1386.00</td>\n",
       "      <td>1410.00</td>\n",
       "      <td>1389.25</td>\n",
       "      <td>22126.0</td>\n",
       "      <td>Sc3</td>\n",
       "    </tr>\n",
       "    <tr>\n",
       "      <th>893397</th>\n",
       "      <td>2022-10-24</td>\n",
       "      <td>856.50</td>\n",
       "      <td>833.50</td>\n",
       "      <td>853.75</td>\n",
       "      <td>839.50</td>\n",
       "      <td>36624.0</td>\n",
       "      <td>Wc1</td>\n",
       "    </tr>\n",
       "    <tr>\n",
       "      <th>893398</th>\n",
       "      <td>2022-10-24</td>\n",
       "      <td>875.75</td>\n",
       "      <td>853.25</td>\n",
       "      <td>873.00</td>\n",
       "      <td>858.25</td>\n",
       "      <td>13915.0</td>\n",
       "      <td>Wc2</td>\n",
       "    </tr>\n",
       "    <tr>\n",
       "      <th>893399</th>\n",
       "      <td>2022-10-24</td>\n",
       "      <td>885.25</td>\n",
       "      <td>863.75</td>\n",
       "      <td>882.50</td>\n",
       "      <td>868.50</td>\n",
       "      <td>5453.0</td>\n",
       "      <td>Wc3</td>\n",
       "    </tr>\n",
       "  </tbody>\n",
       "</table>\n",
       "<p>893400 rows × 7 columns</p>\n",
       "</div>"
      ],
      "text/plain": [
       "              Date     HIGH      LOW     OPEN    CLOSE   VOLUME   RIC\n",
       "0       1980-01-01      NaN      NaN      NaN   879.38      NaN   HSI\n",
       "1       1980-01-01   107.94   107.94   107.94   107.94      NaN   SPX\n",
       "2       1980-01-02    23.98    23.63    23.80    23.83      NaN  BOc1\n",
       "3       1980-01-02    24.35    24.00    24.20    24.13      NaN  BOc2\n",
       "4       1980-01-02    24.70    24.38    24.65    24.50      NaN  BOc3\n",
       "...            ...      ...      ...      ...      ...      ...   ...\n",
       "893395  2022-10-24  1402.75  1377.75  1402.75  1381.50  93674.0   Sc2\n",
       "893396  2022-10-24  1410.00  1386.00  1410.00  1389.25  22126.0   Sc3\n",
       "893397  2022-10-24   856.50   833.50   853.75   839.50  36624.0   Wc1\n",
       "893398  2022-10-24   875.75   853.25   873.00   858.25  13915.0   Wc2\n",
       "893399  2022-10-24   885.25   863.75   882.50   868.50   5453.0   Wc3\n",
       "\n",
       "[893400 rows x 7 columns]"
      ]
     },
     "execution_count": 48,
     "metadata": {},
     "output_type": "execute_result"
    }
   ],
   "source": [
    "df_raw"
   ]
  },
  {
   "cell_type": "markdown",
   "id": "3cd1ad7a-b965-408b-aedf-b3041c5a5f46",
   "metadata": {},
   "source": [
    "**시각화 테스트**"
   ]
  },
  {
   "cell_type": "code",
   "execution_count": 49,
   "id": "e28ccddc-ba44-484e-adaa-ddffcf008a66",
   "metadata": {},
   "outputs": [
    {
     "data": {
      "image/png": "[encoded data removed]",
      "text/plain": [
       "<Figure size 600x400 with 1 Axes>"
      ]
     },
     "metadata": {
      "needs_background": "light"
     },
     "output_type": "display_data"
    }
   ],
   "source": [
    "test = df_raw[df_raw['Date'] > '2022-09'].reset_index(drop=True)\n",
    "test = test[test['RIC'] == 'FCPOc3']\n",
    "test.loc[:, \"Date\"] = pd.to_datetime(test.loc[:, \"Date\"])\n",
    "plt.figure(dpi=100)\n",
    "plt.plot(test['Date'].values,\n",
    "         test['CLOSE'].values,\n",
    "         'black', label=\"Train data\")\n",
    "plt.xlabel('Time', labelpad=15)\n",
    "plt.ylabel('Price(MYR)', labelpad=20)\n",
    "\n",
    "plt.title(f'Palm Oil Market Trend')\n",
    "plt.legend()\n",
    "plt.show()"
   ]
  },
  {
   "cell_type": "markdown",
   "id": "365a1015-3fe8-4897-8d24-b945dc0665c5",
   "metadata": {},
   "source": [
    "### 3) Data cleansing\n",
    "- EDA에서 선정한 RIC 코드 선별\n",
    "- 컬럼삭제\n",
    "- 형변환 \n",
    "- EDA를 통한 Date별 데이터 선별\n",
    "- 종합하여 1차 dataset로 만들기"
   ]
  },
  {
   "cell_type": "code",
   "execution_count": 50,
   "id": "27652c35-1886-475d-8186-e0f94cab4516",
   "metadata": {},
   "outputs": [
    {
     "name": "stdout",
     "output_type": "stream",
     "text": [
      "얼마나 데이터 필터링 되었는가? 19060\n"
     ]
    }
   ],
   "source": [
    "ric_list_ex01 = ['BOc1', 'BOc2', 'BOc3','BOPLKL','BRRTSc1', 'BRRTSc2', 'BRRTSc3', 'CAD=', 'EUR=', 'JPY=', 'KRW=', 'MYR=', 'GBP=', 'INR=','Cc1', 'Cc2', 'Cc3','CCMc1', 'CCMc2', 'CCMc3',\n",
    "                 'CLc1', 'CLc2', 'CLc3','CNY=','COMc1', 'COMc2','COMc3','CTc1', 'CTc2', 'CTc3', 'DJCI', 'DJCIBR', 'DJCICL', 'DJCICN', 'DJCIEN', 'DJCIGR', 'DJCIIA', 'DJCING', \n",
    "                 'DJCISO', 'DJCIWH', 'DJT','FCHI','FCPOc1', 'FCPOc2', 'FCPOc3','FGVHKL',\n",
    "                 'FKLIc1', 'FKLIc2', 'FKLIc3','FTSE','GCc1', 'GCc2', 'GCc3','GDAXI','GENMKL','HSI','IOIBKL','IXIC','JNIc1','JNIc2','JNIc3','KCc1', 'KCc2', 'KCc3','KLKKKL','KLSE','KQ11', 'KS11',\n",
    "                 'KWc1', 'KWc2', 'KWc3','LCOc1', 'LCOc2', 'LCOc3','LWBc1', 'LWBc2', 'LWBc3','MCCc1', 'MCCc2', 'MCCc3','MXSCKL','Oc1', 'Oc2', 'Oc3','PEPTKL','RRc1', 'RRc2', 'RRc3','RSc1', 'RSc2', 'RSc3',\n",
    "                 'Sc1', 'Sc2', 'Sc3','SIMEKL','SOPSKL','SSEC', 'THPBKL', 'Wc1', 'Wc2', 'Wc3'\n",
    "                ] #SPX,VIX 더이상 지원안하므로 제거\n",
    "print('얼마나 데이터 필터링 되었는가?',len(df_raw) - len(df_raw[df_raw['RIC'].isin(ric_list_ex01)]))"
   ]
  },
  {
   "cell_type": "code",
   "execution_count": 51,
   "id": "ce662aa6-cb57-4c3c-a9fa-6ee6cdf039e2",
   "metadata": {
    "tags": []
   },
   "outputs": [
    {
     "name": "stdout",
     "output_type": "stream",
     "text": [
      "CPU times: user 6.34 s, sys: 344 µs, total: 6.34 s\n",
      "Wall time: 6.34 s\n"
     ]
    }
   ],
   "source": [
    "%%time\n",
    "start = time.time()\n",
    "\n",
    "data_dir = \"raw-data/\"\n",
    "\n",
    "df_list = OrderedDict()\n",
    "# (1) EDA에서 선정한 RIC 코드 선별\n",
    "df_tmp1 = df_raw[df_raw['RIC'].isin(ric_list_ex01)]\n",
    "# (2) 컬럼 삭제\n",
    "df_tmp1 = df_tmp1[['Date', 'HIGH', 'LOW', 'OPEN', 'CLOSE','RIC']]\n",
    "# (3) 형 변환\n",
    "df_tmp1.loc[:, \"Date\"] = pd.to_datetime(df_tmp1.loc[:, \"Date\"])\n",
    "# (4) 종합하여 1차 dataset만들기\n",
    "for name in ric_list_ex01:\n",
    "    df_tmp2 = df_tmp1[df_tmp1['RIC'] == name]\n",
    "    df_tmp2 = df_tmp2.drop('RIC', axis=1)\n",
    "    df_list[name] = df_tmp2[df_tmp2['Date'] >= '2014-07-02'].reset_index(drop = True)\n",
    "\n",
    "end = time.time()\n"
   ]
  },
  {
   "cell_type": "code",
   "execution_count": 52,
   "id": "9457608d-ed9d-45ac-bc4e-7a6913222f82",
   "metadata": {},
   "outputs": [
    {
     "name": "stdout",
     "output_type": "stream",
     "text": [
      "Dataset화 시간 : 6.3 sec\n",
      "Dataset화 시간 : 0.1 min\n"
     ]
    }
   ],
   "source": [
    "print(f\"Dataset화 시간 : {end - start:.1f} sec\")\n",
    "print(f\"Dataset화 시간 : {((end - start)/60):.1f} min\")"
   ]
  },
  {
   "cell_type": "markdown",
   "id": "54e0e566-078d-4547-bd71-e901548928c7",
   "metadata": {},
   "source": [
    "### 4) Fill & Scale data\n",
    "- 컬럼 일관성 있게 만들기\n",
    "- Fill missing date\n",
    "- Apply filling missing value on each columns\n",
    "- Scaler\n",
    "- 종합하여 2차 dataset로 만들기"
   ]
  },
  {
   "cell_type": "code",
   "execution_count": 53,
   "id": "b0a3ffe8-e805-432a-bb92-c25e93c3e4ca",
   "metadata": {},
   "outputs": [],
   "source": [
    "df_col_type = copy.deepcopy(df_list)\n",
    "col_names = ['ds','high','low','open','y']\n",
    "for n,x in df_col_type.items():\n",
    "    df_col_type[n].columns = col_names\n",
    "    df_col_type[n].loc[:, \"ds\"] = pd.to_datetime(df_col_type[n].loc[:, \"ds\"])\n",
    "    df_col_type[n].loc[:, \"high\"] = df_col_type[n].loc[:, \"high\"].astype(np.float32)\n",
    "    df_col_type[n].loc[:, \"low\"] = df_col_type[n].loc[:, \"low\"].astype(np.float32)\n",
    "    df_col_type[n].loc[:, \"open\"] = df_col_type[n].loc[:, \"open\"].astype(np.float32)\n",
    "    df_col_type[n].loc[:, \"y\"] = df_col_type[n].loc[:, \"y\"].astype(np.float32)\n",
    "    # print(n,'\\t', list(x))\n",
    "    # print('min:', x['ds'].min(), 'max:', x['ds'].max())"
   ]
  },
  {
   "cell_type": "code",
   "execution_count": 54,
   "id": "8b2f2a1b-6f25-4329-9495-56851ff2df03",
   "metadata": {},
   "outputs": [],
   "source": [
    "def fill_missing_dates(df_in : pd.DataFrame,\n",
    "                       freq : str\n",
    "                      ) -> pd.DataFrame : \n",
    "    df = df_in.copy()\n",
    "    if df[\"ds\"].dtype == np.int64:\n",
    "            df.loc[:, \"ds\"] = df.loc[:, \"ds\"].astype(str)\n",
    "    df.loc[:, \"ds\"] = pd.to_datetime(df.loc[:, \"ds\"])\n",
    "    r = pd.date_range(start = df[\"ds\"].min(),\n",
    "                      end = df[\"ds\"].max(),\n",
    "                      freq = freq)\n",
    "    df = df.set_index(\"ds\").reindex(r).rename_axis(\"ds\").reset_index()\n",
    "    return df"
   ]
  },
  {
   "cell_type": "code",
   "execution_count": 55,
   "id": "9c07ffb8-7ad3-4698-9b47-1f17d3cea71d",
   "metadata": {},
   "outputs": [],
   "source": [
    "df_fill_date = copy.deepcopy(df_col_type)\n",
    "for df_one in df_fill_date.items():\n",
    "    name = df_one[0]\n",
    "    value = df_one[1]\n",
    "    # print(name)\n",
    "    df_fill_date[name]  = fill_missing_dates(value, 'B')\n",
    "    num_added = len(df_fill_date[name]) - len(value)\n",
    "    is_na = sum(df_fill_date[name]['y'].isnull())\n",
    "    # print('num_added:', num_added)\n",
    "    # print('is_na:',is_na)"
   ]
  },
  {
   "cell_type": "code",
   "execution_count": 56,
   "id": "89214c6d-df53-43ba-a2dc-5356192f3d2d",
   "metadata": {},
   "outputs": [],
   "source": [
    "def fill_missing_price_value(df: pd.DataFrame, col: str ) -> pd.DataFrame :\n",
    "    initial_is_na = sum(df[col].isnull())\n",
    "    series = df.loc[:, col].astype(float)\n",
    "    series = series.interpolate(method = \"linear\",\n",
    "                                limit_direction = \"both\")\n",
    "    series = [0 if v < 0 else v for v in series]\n",
    "    df[col] = series\n",
    "    # if sum(df[col].isnull()) != 0:\n",
    "    #     print(\"is na :\", initial_is_na)\n",
    "    #     print(\"remaining na :\", sum(df[col].isnull()))\n",
    "    return df"
   ]
  },
  {
   "cell_type": "code",
   "execution_count": 57,
   "id": "527d8744-88b6-4624-825e-825567423377",
   "metadata": {},
   "outputs": [],
   "source": [
    "df_list_proc = copy.deepcopy(df_fill_date)\n",
    "for df_one in df_list_proc.items():\n",
    "    name = df_one[0]\n",
    "    value = df_one[1]\n",
    "    # print(name)\n",
    "    # print(sum(value['y'].isnull()))\n",
    "    df_proc1 = fill_missing_price_value(value, 'y')\n",
    "    df_proc1 = fill_missing_price_value(value, 'high')\n",
    "    df_proc1 = fill_missing_price_value(value, 'low')\n",
    "    df_proc1 = fill_missing_price_value(value, 'open')\n",
    "    # print(sum(df_proc1['y'].isnull()))\n",
    "    # print(len(df_proc1))\n",
    "    df_list_proc[name] = df_proc1"
   ]
  },
  {
   "cell_type": "markdown",
   "id": "a68fc5bb-b6b4-4519-8e6f-161f2c013f62",
   "metadata": {},
   "source": [
    "**Scaling**"
   ]
  },
  {
   "cell_type": "code",
   "execution_count": 58,
   "id": "ea4c4e84-e0fb-46f4-ae3d-3a9e18b2a4b4",
   "metadata": {},
   "outputs": [],
   "source": [
    "from sklearn.preprocessing import MinMaxScaler\n",
    "import joblib"
   ]
  },
  {
   "cell_type": "code",
   "execution_count": 59,
   "id": "ad161abc-653c-4f25-a3de-39d3ec274356",
   "metadata": {},
   "outputs": [],
   "source": [
    "import tempfile\n",
    "def scaling_value(df : pd.DataFrame,\n",
    "                  col_name : str,\n",
    "                  ric,\n",
    "                  s3_resource,\n",
    "                  BUCKET_NAME_USECASE,\n",
    "                  S3_PATH_GOLDEN) -> tuple:\n",
    "    series = df[col_name].values\n",
    "    scaler = MinMaxScaler()\n",
    "    series = series.reshape(-1,1)\n",
    "    scaler.fit(series)\n",
    "    series = scaler.transform(series)\n",
    "    with tempfile.TemporaryFile() as fp:\n",
    "        joblib.dump(scaler, fp)\n",
    "        fp.seek(0)\n",
    "        s3_resource.put_object(Body = fp.read(),\n",
    "                               Bucket = BUCKET_NAME_USECASE,\n",
    "                               Key = f\"{S3_PATH_GOLDEN}/{KST.strftime('%Y/%m/%d')}/scaler-files/{ric}_{col_name}_scaler.pkl\")\n",
    "    return series\n"
   ]
  },
  {
   "cell_type": "markdown",
   "id": "2c75c3fc-bb83-4719-b7f8-c946245e15ca",
   "metadata": {},
   "source": [
    "### 아래꺼 삭제요망"
   ]
  },
  {
   "cell_type": "code",
   "execution_count": 41,
   "id": "4e6b8dbf-d577-4860-992d-a6a401387ea6",
   "metadata": {},
   "outputs": [
    {
     "name": "stdout",
     "output_type": "stream",
     "text": [
      "CPU times: user 3.12 s, sys: 80.6 ms, total: 3.2 s\n",
      "Wall time: 18.1 s\n"
     ]
    }
   ],
   "source": [
    "# %%time\n",
    "# start = time.time()\n",
    "\n",
    "# df_golden = pd.DataFrame()\n",
    "\n",
    "# scale_dir = os.path.join(os.getcwd(), 'preprocessing','scaler-files')\n",
    "# os.makedirs(scale_dir, exist_ok=True)\n",
    "\n",
    "# df_list_scaled = copy.deepcopy(df_list_proc) \n",
    "\n",
    "# for ric, value in df_list_scaled.items():\n",
    "#     for col in ['y','high','open','low']:\n",
    "#         value.loc[:, col] = scaling_value(value,\n",
    "#                                           col,\n",
    "#                                           ric,\n",
    "#                                           s3_client,\n",
    "#                                           BUCKET_NAME_USECASE,\n",
    "#                                           S3_PATH_GOLDEN)\n",
    "#     df_list_scaled[name] = value\n",
    "    \n",
    "# for name, value in df_list_scaled.items():\n",
    "#     value = value.assign(ric = name)\n",
    "#     df_golden = pd.concat([df_golden, value])\n",
    "# df_golden = df_golden.reset_index(drop = True)\n",
    "\n",
    "# upload_df_to_S3(ACCESS_KEY_ID,\n",
    "#                 ACCESS_SECRET_KEY,\n",
    "#                 BUCKET_NAME_USECASE,\n",
    "#                 S3_PATH_GOLDEN + '/' + KST.strftime(\"%Y%m%d-%H%M%S\") + '.csv',\n",
    "#                 df_golden)\n",
    "\n",
    "# end = time.time()\n"
   ]
  },
  {
   "cell_type": "code",
   "execution_count": 42,
   "id": "ba411e58-583e-4d47-9f88-12921d929da6",
   "metadata": {},
   "outputs": [
    {
     "name": "stdout",
     "output_type": "stream",
     "text": [
      "Scaling 시간 : 18.1 sec\n",
      "Scaling 시간 : 0.3 min\n"
     ]
    }
   ],
   "source": [
    "# print(f\"Scaling 시간 : {end - start:.1f} sec\")\n",
    "# print(f\"Scaling 시간 : {((end - start)/60):.1f} min\")"
   ]
  },
  {
   "cell_type": "markdown",
   "id": "d492f5ff-d0c2-403e-9825-4e35f7841e77",
   "metadata": {},
   "source": [
    "**스케일 파일 dump 및 2차 Dataset화**\n",
    "```python\n",
    "# READ\n",
    "with tempfile.TemporaryFile() as fp:\n",
    "    s3_client.download_fileobj(Fileobj = fp, Bucket = bucket_name, Key = key)\n",
    "fp.seek(0)\n",
    "model = joblib.load(fp)\n",
    "```"
   ]
  },
  {
   "cell_type": "code",
   "execution_count": 60,
   "id": "f52aa30f-d4a5-4434-9f46-588f037571a6",
   "metadata": {},
   "outputs": [
    {
     "name": "stdout",
     "output_type": "stream",
     "text": [
      "CPU times: user 3.07 s, sys: 75.8 ms, total: 3.15 s\n",
      "Wall time: 18.7 s\n"
     ]
    }
   ],
   "source": [
    "%%time\n",
    "start = time.time()\n",
    "\n",
    "df_golden = pd.DataFrame()\n",
    "\n",
    "scale_dir = os.path.join(os.getcwd(), 'preprocessing','scaler-files')\n",
    "os.makedirs(scale_dir, exist_ok=True)\n",
    "\n",
    "df_list_scaled = copy.deepcopy(df_list_proc) \n",
    "\n",
    "for ric, value in df_list_scaled.items():\n",
    "    for col in ['y','high','open','low']:\n",
    "        value.loc[:, col] = scaling_value(value, col, ric, s3_client, BUCKET_NAME_USECASE, S3_PATH_GOLDEN)\n",
    "    df_list_scaled[name] = value\n",
    "    \n",
    "for name, value in df_list_scaled.items():\n",
    "    value = value.assign(ric = name)\n",
    "    df_golden = pd.concat([df_golden, value])\n",
    "df_golden = df_golden.reset_index(drop = True)\n",
    "\n",
    "upload_df_to_S3(ACCESS_KEY_ID,\n",
    "                ACCESS_SECRET_KEY,\n",
    "                BUCKET_NAME_USECASE,\n",
    "                os.path.join(S3_PATH_GOLDEN,\n",
    "                             KST.strftime('%Y/%m/%d'),\n",
    "                             '{}.csv'.format(int(time.mktime(KST.timetuple())))),\n",
    "                df_golden)\n",
    "\n",
    "end = time.time()\n"
   ]
  },
  {
   "cell_type": "code",
   "execution_count": 61,
   "id": "8c0c8d69-1b20-42c5-ba15-b21ae9186a1f",
   "metadata": {},
   "outputs": [
    {
     "name": "stdout",
     "output_type": "stream",
     "text": [
      "Scaling~golden data 업로드 시간 : 18.7 sec\n",
      "Scaling~golden data 업로드 시간: 0.3 min\n"
     ]
    }
   ],
   "source": [
    "print(f\"Scaling~golden data 업로드 시간 : {end - start:.1f} sec\")\n",
    "print(f\"Scaling~golden data 업로드 시간: {((end - start)/60):.1f} min\")"
   ]
  },
  {
   "cell_type": "markdown",
   "id": "89cb2fa6-a2d0-4dbf-8cae-5a9a82c0d4f7",
   "metadata": {},
   "source": [
    "## 2. Making python script(preprocessing.py)"
   ]
  },
  {
   "cell_type": "markdown",
   "id": "77bd4f1b-8322-468b-b01d-6b2694684cbf",
   "metadata": {},
   "source": [
    "scikit-learn 전처리 스크립트를 처리 작업으로 실행하려면 제공된 scikit-learn 이미지를 사용하여 처리 작업 내에서 스크립트를 실행할 수 있는 'sklearnProcessor'를 만듭니다."
   ]
  },
  {
   "cell_type": "markdown",
   "id": "fdbc14ec-2467-4549-bd1b-bdabcf2cea33",
   "metadata": {},
   "source": [
    "데이터 정리, 전처리 및 feature 엔지니어링에 사용하는 스크립트를 도입하기 전에 데이터 집합의 처음 20개 행을 검사합니다.\n"
   ]
  },
  {
   "cell_type": "markdown",
   "id": "62ef6d33-10da-4878-bdd5-b40832b60aeb",
   "metadata": {},
   "source": [
    "**인풋은 staged-data/2022/10/19/1666160130.0/raw.csv가 될것.**"
   ]
  },
  {
   "cell_type": "code",
   "execution_count": 8,
   "id": "75c8e57b-f0d8-4726-96ad-9c292708fdc2",
   "metadata": {},
   "outputs": [],
   "source": [
    "keychain = json.loads(get_secret())\n",
    "ACCESS_KEY_ID = keychain['ACCESS_KEY_ID_ent']\n",
    "ACCESS_SECRET_KEY = keychain['ACCESS_SECRET_KEY_ent']\n",
    "\n",
    "BUCKET_NAME_USECASE = keychain['BUCKET_NAME_USECASE_ent']\n",
    "S3_PATH_STAGE = keychain['S3_PATH_STAGE']\n",
    "S3_PATH_GOLDEN = keychain['S3_PATH_GOLDEN']\n",
    "S3_PATH_TRAIN = keychain['S3_PATH_TRAIN']\n",
    "S3_PATH_log = keychain['S3_PATH_LOG']\n",
    "\n",
    "boto_session = boto3.Session(ACCESS_KEY_ID, ACCESS_SECRET_KEY)\n",
    "sm_session = sagemaker.Session(boto_session = boto_session)\n",
    "region = boto_session.region_name"
   ]
  },
  {
   "cell_type": "code",
   "execution_count": 9,
   "id": "372b03c0-2f48-4b1f-a120-8f1b7c6a60bb",
   "metadata": {},
   "outputs": [],
   "source": [
    "import boto3\n",
    "import sagemaker\n",
    "from sagemaker import get_execution_role\n",
    "from sagemaker.sklearn.processing import SKLearnProcessor\n",
    "\n",
    "role = get_execution_role()\n",
    "\n",
    "sklearn_processor = SKLearnProcessor(framework_version = \"0.20.0\",\n",
    "                                     role = role,\n",
    "                                     instance_type = \"ml.m5.xlarge\",\n",
    "                                     instance_count = 1\n",
    "                                    )"
   ]
  },
  {
   "cell_type": "code",
   "execution_count": 82,
   "id": "3c62ccfd-2243-471c-88e1-b8f4b5dbff19",
   "metadata": {},
   "outputs": [
    {
     "data": {
      "text/html": [
       "<div>\n",
       "<style scoped>\n",
       "    .dataframe tbody tr th:only-of-type {\n",
       "        vertical-align: middle;\n",
       "    }\n",
       "\n",
       "    .dataframe tbody tr th {\n",
       "        vertical-align: top;\n",
       "    }\n",
       "\n",
       "    .dataframe thead th {\n",
       "        text-align: right;\n",
       "    }\n",
       "</style>\n",
       "<table border=\"1\" class=\"dataframe\">\n",
       "  <thead>\n",
       "    <tr style=\"text-align: right;\">\n",
       "      <th></th>\n",
       "      <th>Date</th>\n",
       "      <th>HIGH</th>\n",
       "      <th>LOW</th>\n",
       "      <th>OPEN</th>\n",
       "      <th>CLOSE</th>\n",
       "      <th>VOLUME</th>\n",
       "      <th>RIC</th>\n",
       "    </tr>\n",
       "  </thead>\n",
       "  <tbody>\n",
       "    <tr>\n",
       "      <th>0</th>\n",
       "      <td>1980-01-01</td>\n",
       "      <td>NaN</td>\n",
       "      <td>NaN</td>\n",
       "      <td>NaN</td>\n",
       "      <td>879.3800</td>\n",
       "      <td>NaN</td>\n",
       "      <td>HSI</td>\n",
       "    </tr>\n",
       "    <tr>\n",
       "      <th>1</th>\n",
       "      <td>1980-01-01</td>\n",
       "      <td>107.94</td>\n",
       "      <td>107.94</td>\n",
       "      <td>107.94</td>\n",
       "      <td>107.9400</td>\n",
       "      <td>NaN</td>\n",
       "      <td>SPX</td>\n",
       "    </tr>\n",
       "    <tr>\n",
       "      <th>2</th>\n",
       "      <td>1980-01-02</td>\n",
       "      <td>23.98</td>\n",
       "      <td>23.63</td>\n",
       "      <td>23.80</td>\n",
       "      <td>23.8300</td>\n",
       "      <td>NaN</td>\n",
       "      <td>BOc1</td>\n",
       "    </tr>\n",
       "    <tr>\n",
       "      <th>3</th>\n",
       "      <td>1980-01-02</td>\n",
       "      <td>24.35</td>\n",
       "      <td>24.00</td>\n",
       "      <td>24.20</td>\n",
       "      <td>24.1300</td>\n",
       "      <td>NaN</td>\n",
       "      <td>BOc2</td>\n",
       "    </tr>\n",
       "    <tr>\n",
       "      <th>4</th>\n",
       "      <td>1980-01-02</td>\n",
       "      <td>24.70</td>\n",
       "      <td>24.38</td>\n",
       "      <td>24.65</td>\n",
       "      <td>24.5000</td>\n",
       "      <td>NaN</td>\n",
       "      <td>BOc3</td>\n",
       "    </tr>\n",
       "    <tr>\n",
       "      <th>5</th>\n",
       "      <td>1980-01-02</td>\n",
       "      <td>NaN</td>\n",
       "      <td>NaN</td>\n",
       "      <td>NaN</td>\n",
       "      <td>1.1658</td>\n",
       "      <td>NaN</td>\n",
       "      <td>CAD=</td>\n",
       "    </tr>\n",
       "    <tr>\n",
       "      <th>6</th>\n",
       "      <td>1980-01-02</td>\n",
       "      <td>NaN</td>\n",
       "      <td>NaN</td>\n",
       "      <td>NaN</td>\n",
       "      <td>1.5149</td>\n",
       "      <td>NaN</td>\n",
       "      <td>EUR=</td>\n",
       "    </tr>\n",
       "    <tr>\n",
       "      <th>7</th>\n",
       "      <td>1980-01-02</td>\n",
       "      <td>NaN</td>\n",
       "      <td>NaN</td>\n",
       "      <td>NaN</td>\n",
       "      <td>238.4500</td>\n",
       "      <td>NaN</td>\n",
       "      <td>JPY=</td>\n",
       "    </tr>\n",
       "    <tr>\n",
       "      <th>8</th>\n",
       "      <td>1980-01-02</td>\n",
       "      <td>NaN</td>\n",
       "      <td>NaN</td>\n",
       "      <td>NaN</td>\n",
       "      <td>2.1770</td>\n",
       "      <td>NaN</td>\n",
       "      <td>MYR=</td>\n",
       "    </tr>\n",
       "    <tr>\n",
       "      <th>9</th>\n",
       "      <td>1980-01-02</td>\n",
       "      <td>NaN</td>\n",
       "      <td>NaN</td>\n",
       "      <td>NaN</td>\n",
       "      <td>2.2331</td>\n",
       "      <td>NaN</td>\n",
       "      <td>GBP=</td>\n",
       "    </tr>\n",
       "  </tbody>\n",
       "</table>\n",
       "</div>"
      ],
      "text/plain": [
       "         Date    HIGH     LOW    OPEN     CLOSE  VOLUME   RIC\n",
       "0  1980-01-01     NaN     NaN     NaN  879.3800     NaN   HSI\n",
       "1  1980-01-01  107.94  107.94  107.94  107.9400     NaN   SPX\n",
       "2  1980-01-02   23.98   23.63   23.80   23.8300     NaN  BOc1\n",
       "3  1980-01-02   24.35   24.00   24.20   24.1300     NaN  BOc2\n",
       "4  1980-01-02   24.70   24.38   24.65   24.5000     NaN  BOc3\n",
       "5  1980-01-02     NaN     NaN     NaN    1.1658     NaN  CAD=\n",
       "6  1980-01-02     NaN     NaN     NaN    1.5149     NaN  EUR=\n",
       "7  1980-01-02     NaN     NaN     NaN  238.4500     NaN  JPY=\n",
       "8  1980-01-02     NaN     NaN     NaN    2.1770     NaN  MYR=\n",
       "9  1980-01-02     NaN     NaN     NaN    2.2331     NaN  GBP="
      ]
     },
     "execution_count": 82,
     "metadata": {},
     "output_type": "execute_result"
    }
   ],
   "source": [
    "import pandas as pd\n",
    "\n",
    "s3_uri = 's3://{}/{}/{}/{}'.format(BUCKET_NAME_USECASE, \n",
    "                                   S3_PATH_GOLDEN,\n",
    "                                   KST.strftime('%Y/%m/%d'),\n",
    "                                   '{}.csv'.format('stage'),\n",
    "                                  )\n",
    "df = pd.read_csv(s3_uri, nrows=10)\n",
    "df.head(n=10)"
   ]
  },
  {
   "cell_type": "markdown",
   "id": "b80499c2-e691-48be-afdb-193f64d9d414",
   "metadata": {},
   "source": [
    "아래 셀은 전처리 스크립트를 포함하는 `preprocessing.py` 파일을 작성합니다. \n",
    "스크립트를 업데이트하고 이 셀을 다시 실행하여 `preprocessing.py`를 덮어 쓸 수 있습니다. \n",
    "이 작업은 다음 셀에서 처리 작업으로 실행합니다. \n",
    "이 스크립트에서는 아래 기능을 수행합니다.\n",
    "\n",
    "- Remove duplicates and rows with conflicting data\n",
    "- transform the target income column into a column containing two labels.\n",
    "- transform the age and num persons worked for employer numerical columns into categorical features by binning them\n",
    "- scale the continuous capital gains, capital losses, and dividends from stocks so they're suitable for training\n",
    "- encode the education, major industry code, class of worker so they're suitable for training\n",
    "- split the data into training and test datasets, and saves the training features and labels and test features and labels.\n",
    "\n",
    "아래 스크립트는 사전 처리된 교육 기능 및 라벨을 사용하여 모델을 학습하며, 모델 평가 스크립트는 교육된 모델과 사전 처리된 테스트 기능 및 레이블을 사용하여 모델을 평가합니다.\n",
    "\n"
   ]
  },
  {
   "cell_type": "code",
   "execution_count": 80,
   "id": "8cd34e42-e20a-4004-87f5-c2c4951aec8c",
   "metadata": {},
   "outputs": [
    {
     "name": "stdout",
     "output_type": "stream",
     "text": [
      "Overwriting preprocessing.py\n"
     ]
    }
   ],
   "source": [
    "%%writefile preprocessing.py\n",
    "\n",
    "import glob\n",
    "import os\n",
    "import json\n",
    "import boto3\n",
    "import pandas as pd\n",
    "import numpy as np\n",
    "import base64\n",
    "from botocore.exceptions import ClientError\n",
    "from io import StringIO\n",
    "import time\n",
    "from botocore.client import Config\n",
    "from datetime import datetime as dt\n",
    "import datetime\n",
    "\n",
    "from pytz import timezone\n",
    "from dateutil.relativedelta import *\n",
    "\n",
    "# import sagemaker\n",
    "# from sagemaker.debugger import Rule, rule_configs\n",
    "# from sagemaker.session import TrainingInput\n",
    "import argparse\n",
    "\n",
    "from collections import OrderedDict\n",
    "\n",
    "# from matplotlib import pyplot as plt\n",
    "\n",
    "import copy\n",
    "from sklearn.preprocessing import MinMaxScaler\n",
    "# import joblib\n",
    "import sys\n",
    "import subprocess\n",
    "\n",
    "ric_list = ['BOc1', 'BOc2', 'BOc3','BOPLKL','BRRTSc1', 'BRRTSc2', 'BRRTSc3', 'CAD=', 'EUR=', 'JPY=', 'KRW=', 'MYR=', 'GBP=', 'INR=','Cc1', 'Cc2', 'Cc3','CCMc1', 'CCMc2', 'CCMc3',\n",
    "            'CLc1', 'CLc2', 'CLc3','CNY=','COMc1', 'COMc2','COMc3','CTc1', 'CTc2', 'CTc3', 'DJCI', 'DJCIBR', 'DJCICL', 'DJCICN', 'DJCIEN', 'DJCIGR', 'DJCIIA', 'DJCING', \n",
    "            'DJCISO', 'DJCIWH', 'DJT','FCHI','FCPOc1', 'FCPOc2', 'FCPOc3','FGVHKL',\n",
    "            'FKLIc1', 'FKLIc2', 'FKLIc3','FTSE','GCc1', 'GCc2', 'GCc3','GDAXI','GENMKL','HSI','IOIBKL','IXIC','JNIc1','JNIc2','JNIc3','KCc1', 'KCc2', 'KCc3','KLKKKL','KLSE','KQ11', 'KS11',\n",
    "            'KWc1', 'KWc2', 'KWc3','LCOc1', 'LCOc2', 'LCOc3','LWBc1', 'LWBc2', 'LWBc3','MCCc1', 'MCCc2', 'MCCc3','MXSCKL','Oc1', 'Oc2', 'Oc3','PEPTKL','RRc1', 'RRc2', 'RRc3','RSc1', 'RSc2', 'RSc3',\n",
    "            'Sc1', 'Sc2', 'Sc3','SIMEKL','SOPSKL','SSEC', 'THPBKL', 'Wc1', 'Wc2', 'Wc3'\n",
    "           ]\n",
    "col_names_asis = ['ds','high','low','open','ric']\n",
    "col_names_tobe = ['ds','high','low','open','y']\n",
    "\n",
    "\n",
    "def get_secret():\n",
    "    # See https://docs.aws.amazon.com/secretsmanager/latest/apireference/API_GetSecretValue.html\n",
    "    secret_name = \"prod/sagemaker\"\n",
    "    region_name = \"ap-northeast-2\"\n",
    "    \n",
    "    # Create a Secrets Manager client\n",
    "    session = boto3.session.Session()\n",
    "    client = session.client(\n",
    "        service_name='secretsmanager',\n",
    "        region_name=region_name\n",
    "    )\n",
    "    try:\n",
    "        get_secret_value_response = client.get_secret_value(\n",
    "            SecretId='prod/sagemaker',\n",
    "        )\n",
    "    except ClientError as e:\n",
    "        if e.response['Error']['Code'] == 'DecryptionFailureException': # Secrets Manager can't decrypt the protected secret text using the provided KMS key.\n",
    "            raise e\n",
    "        elif e.response['Error']['Code'] == 'InternalServiceErrorException': # An error occurred on the server side.\n",
    "            raise e\n",
    "        elif e.response['Error']['Code'] == 'InvalidParameterException': # You provided an invalid value for a parameter.\n",
    "            raise e\n",
    "        elif e.response['Error']['Code'] == 'InvalidRequestException': # You provided a parameter value that is not valid for the current state of the resource.\n",
    "            raise e\n",
    "        elif e.response['Error']['Code'] == 'ResourceNotFoundException': # We can't find the resource that you asked for.\n",
    "            raise e\n",
    "    else:\n",
    "        if 'SecretString' in get_secret_value_response:\n",
    "            secret = get_secret_value_response['SecretString']\n",
    "            return secret\n",
    "        else:\n",
    "            decoded_binary_secret = base64.b64decode(get_secret_value_response['SecretBinary'])\n",
    "            return decoded_binary_secret\n",
    "        \n",
    "def fill_missing_dates(df_in : pd.DataFrame,\n",
    "                       freq : str\n",
    "                      ) -> pd.DataFrame : \n",
    "    df = df_in.copy()\n",
    "    if df[\"ds\"].dtype == np.int64:\n",
    "            df.loc[:, \"ds\"] = df.loc[:, \"ds\"].astype(str)\n",
    "    df.loc[:, \"ds\"] = pd.to_datetime(df.loc[:, \"ds\"])\n",
    "    r = pd.date_range(start = df[\"ds\"].min(),\n",
    "                      end = df[\"ds\"].max(),\n",
    "                      freq = freq)\n",
    "    df = df.set_index(\"ds\").reindex(r).rename_axis(\"ds\").reset_index()\n",
    "    return df\n",
    "\n",
    "def fill_missing_price_value(df: pd.DataFrame, col: str, limit_linear : int = 20 ) -> pd.DataFrame :\n",
    "    initial_is_na = sum(df[col].isnull())\n",
    "    series = df.loc[:, col].astype(float)\n",
    "    series = series.interpolate(method=\"linear\", limit=limit_linear, limit_direction=\"both\")\n",
    "    series = [0 if v < 0 else v for v in series]\n",
    "    df[col] = series\n",
    "    return df\n",
    "\n",
    "def scaling_value(df : pd.DataFrame,\n",
    "                  col_name : str,\n",
    "                  ric,\n",
    "                  s3_resource,\n",
    "                  BUCKET_NAME_USECASE,\n",
    "                  S3_PATH_GOLDEN) -> tuple:\n",
    "    series = df[col_name].values\n",
    "    scaler = MinMaxScaler()\n",
    "    series = series.reshape(-1,1)\n",
    "    scaler.fit(series)\n",
    "    series = scaler.transform(series)\n",
    "    # with tempfile.TemporaryFile() as fp:\n",
    "    #     joblib.dump(scaler, fp)\n",
    "    #     fp.seek(0)\n",
    "    #     s3_resource.put_object(Body = fp.read(),\n",
    "    #                            Bucket = BUCKET_NAME_USECASE,\n",
    "    #                            Key = f\"{S3_PATH_GOLDEN}/scaler-files/{KST.strftime('%Y%d%m-%H%M%S')}/{ric}_{col_name}_scaler.pkl\")\n",
    "    return series\n",
    "\n",
    "\n",
    "if __name__=='__main__':\n",
    "\n",
    "    keychain = json.loads(get_secret())\n",
    "    ACCESS_KEY_ID = keychain['ACCESS_KEY_ID_ent']\n",
    "    ACCESS_SECRET_KEY = keychain['ACCESS_SECRET_KEY_ent']\n",
    "\n",
    "    BUCKET_NAME_USECASE = keychain['BUCKET_NAME_USECASE_ent']\n",
    "    S3_PATH_STAGE = keychain['S3_PATH_STAGE']\n",
    "    S3_PATH_GOLDEN = keychain['S3_PATH_GOLDEN']\n",
    "    S3_PATH_TRAIN = keychain['S3_PATH_TRAIN']\n",
    "    S3_PATH_log = keychain['S3_PATH_LOG']\n",
    "    boto_session = boto3.Session(ACCESS_KEY_ID, ACCESS_SECRET_KEY)\n",
    "\n",
    "    region = boto_session.region_name\n",
    "\n",
    "    s3_resource = boto_session.resource('s3')\n",
    "    parser = argparse.ArgumentParser()\n",
    "    parser.add_argument(\"--train_test_split_date\",\n",
    "                        type = str,\n",
    "                        help = 'train과 test을 구분할 분기점을 설정한다')\n",
    "\n",
    "    args, _ = parser.parse_known_args()\n",
    "    print(\"Received arguments {}\".format(args))\n",
    "\n",
    "    # 1. 데이터 찾아서 읽기\n",
    "    f_path_list= []\n",
    "    for f_path in glob.glob('{}/**/*.csv'.format('/opt/ml/processing/input'), recursive=True):\n",
    "        print(\"Reading input data from {}\".format(f_path))\n",
    "        f_path_list.append(f_path)\n",
    "        \n",
    "    if len(f_path_list) == 1:\n",
    "        df_sum = pd.read_csv(f_path_list[0])  # 열 삭제 == 컬럼선별\n",
    "    else:\n",
    "        df_sum = pd.DataFrame()\n",
    "        for file in f_path_list:\n",
    "            df_tmp = pd.read_csv(file)\n",
    "            df_sum = pd.concat([df_sum, df_tmp])\n",
    "    # 2. 첫번쨰 전처리 단계--\n",
    "    df_list = OrderedDict()\n",
    "    ## RIC 코드 선별\n",
    "    df_tmp1 = df_sum[df_sum['RIC'].isin(ric_list)]\n",
    "    ## 열 삭제 == 컬럼선별\n",
    "    df_tmp1 = df_tmp1[['Date', 'HIGH', 'LOW', 'OPEN', 'CLOSE','RIC']]\n",
    "    ## 형변환\n",
    "    df_tmp1.loc[:, \"Date\"] = pd.to_datetime(df_tmp1.loc[:, \"Date\"])\n",
    "    ## 데이터 셋으로 만들기\n",
    "    for name in ric_list:\n",
    "        df_tmp2 = df_tmp1[df_tmp1['RIC'] == name]\n",
    "        df_tmp2 = df_tmp2.drop('RIC', axis=1)\n",
    "        df_list[name] = df_tmp2[df_tmp2['Date'] >= '2014-07-02'].reset_index(drop = True)\n",
    "    # 3. 첫번쨰 전처리 단계--\n",
    "\n",
    "    col_names = ['ds','high','low','open','y']\n",
    "    for n,x in df_list.items():\n",
    "        df_list[n].columns = col_names\n",
    "        df_list[n].loc[:, \"ds\"] = pd.to_datetime(df_list[n].loc[:, \"ds\"])\n",
    "        df_list[n].loc[:, \"high\"] = df_list[n].loc[:, \"high\"].astype(np.float32)\n",
    "        df_list[n].loc[:, \"low\"] = df_list[n].loc[:, \"low\"].astype(np.float32)\n",
    "        df_list[n].loc[:, \"open\"] = df_list[n].loc[:, \"open\"].astype(np.float32)\n",
    "        df_list[n].loc[:, \"y\"] = df_list[n].loc[:, \"y\"].astype(np.float32)\n",
    "\n",
    "    # 4.\n",
    "    for df_one in df_list.items():\n",
    "        name = df_one[0]\n",
    "        value = df_one[1]\n",
    "        df_list[name]  = fill_missing_dates(value, 'B')\n",
    "        num_added = len(df_list[name]) - len(value)\n",
    "        is_na = sum(df_list[name]['y'].isnull())\n",
    "\n",
    "    for df_one in df_list.items():\n",
    "        name = df_one[0]\n",
    "        value = df_one[1]\n",
    "        df_proc1 = fill_missing_price_value(value, 'y')\n",
    "        df_proc1 = fill_missing_price_value(value, 'high')\n",
    "        df_proc1 = fill_missing_price_value(value, 'low')\n",
    "        df_proc1 = fill_missing_price_value(value, 'open')\n",
    "        df_list[name] = df_proc1\n",
    "    # 5. Scaling\n",
    "    scale_dir = os.path.join(os.getcwd(), 'preprocessing','scaler-files')\n",
    "    os.makedirs(scale_dir, exist_ok=True)\n",
    "    s3_client = boto_session.client('s3')\n",
    "\n",
    "\n",
    "    for ric, value in df_list.items():\n",
    "        for col in ['y','high','open','low']:\n",
    "            value.loc[:, col] = scaling_value(value, col, ric, s3_client, BUCKET_NAME_USECASE, S3_PATH_GOLDEN)\n",
    "        df_list[name] = value\n",
    "\n",
    "\n",
    "    df_golden = pd.DataFrame()\n",
    "    for name, value in df_list.items():\n",
    "        value = value.assign(ric = name)\n",
    "        df_golden = pd.concat([df_golden, value])\n",
    "    df_golden = df_golden.reset_index(drop = True)\n",
    "    split_date = args.train_test_split_date\n",
    "\n",
    "    df_train = df_golden[df_golden['ds'] < split_date]\n",
    "    output_train_path = os.path.join('/opt/ml/processing/train', 'train.csv') # 출력파일 저장될 경로 지정\n",
    "    df_train.to_csv(output_train_path, index = False)\n",
    "    \n",
    "    df_test = df_golden[df_golden['ds'] >= split_date]\n",
    "    output_test_path = os.path.join('/opt/ml/processing/test', 'test.csv') # 출력파일 저장될 경로 지정\n",
    "    df_test.to_csv(output_test_path, index = False)\n",
    "    "
   ]
  },
  {
   "cell_type": "code",
   "execution_count": 454,
   "id": "f25c8d6d-6a28-49fb-ad11-c9086a507f55",
   "metadata": {},
   "outputs": [
    {
     "name": "stdout",
     "output_type": "stream",
     "text": [
      "/home/ec2-user/SageMaker/palm-oil-price-forecast/data/raw/2022/10/20/1666263427.0/raw.csv\n"
     ]
    }
   ],
   "source": [
    "# for f in glob.glob('{}/**/*.csv'.format('/opt/ml/processing/input'), recursive=True):\n",
    "    # print(f)\n",
    "for f in glob.glob('{}/**/*.csv'.format('/home/ec2-user/SageMaker/palm-oil-price-forecast'), recursive=True):\n",
    "    print(f)"
   ]
  },
  {
   "cell_type": "code",
   "execution_count": 62,
   "id": "f145958d-396c-4b7f-b073-a7f8e4c7ae80",
   "metadata": {},
   "outputs": [],
   "source": [
    "from sagemaker.dataset_definition.inputs import (\n",
    "    S3Input,\n",
    "    # DatasetDefinition,\n",
    ")\n",
    "s3_input = S3Input(\n",
    "    s3_uri = 's3://palm-oil-price-forecast/golden-data/20222010-105707.csv',\n",
    "    local_path = \"/opt/ml/processing/input\", # \n",
    "    s3_data_type = \"S3Prefix\", # or ManifestFile\n",
    "    s3_input_mode = \"File\", # or Pipe\n",
    "    s3_data_distribution_type = \"FullyReplicated\", # or ShardedByS3Key\n",
    "    s3_compression_type = \"None\", # or Gzip\n",
    "),"
   ]
  },
  {
   "cell_type": "markdown",
   "id": "91b22cdc-ae62-4f74-83c4-473f855889dc",
   "metadata": {},
   "source": [
    "코드실행전 반드시 살펴보아야 함!\n",
    "- 'AmazonSageMakerServiceCatalogProductsUseRole'에 해당 리소스를 접근할 권한을 가지고 있는가!\n",
    "\n",
    "### 질문사항\n",
    "1. 저는 산출물을 특정 s3 버킷에 넣고 싶은데 계속 sagemaker-[region]-[region NUM]-[ACCOUNT NUMBER] 버킷에 들어가는데 어칼까요?\n",
    "2. preprocessing을 수행하는 곳에 library를 설치하고 싶은데 어떻게 해야할까요?\n",
    "3. AWS 서비스에 접근할때, client vs resource 차이점이 무엇인가요?"
   ]
  },
  {
   "cell_type": "code",
   "execution_count": 81,
   "id": "558da78d-a2b7-4732-9eae-55a6de11f388",
   "metadata": {},
   "outputs": [
    {
     "name": "stdout",
     "output_type": "stream",
     "text": [
      "\n",
      "Job Name:  sagemaker-scikit-learn-2022-10-25-22-51-41-106\n",
      "Inputs:  [{'InputName': 'stage_data', 'AppManaged': False, 'S3Input': {'S3Uri': 's3://palm-oil-price-forecast/golden-data/2022/10/26/stage.csv', 'LocalPath': '/opt/ml/processing/input', 'S3DataType': 'S3Prefix', 'S3InputMode': 'File', 'S3DataDistributionType': 'FullyReplicated', 'S3CompressionType': 'None'}}, {'InputName': 'code', 'AppManaged': False, 'S3Input': {'S3Uri': 's3://sagemaker-ap-northeast-2-276114397529/sagemaker-scikit-learn-2022-10-25-22-51-41-106/input/code/preprocessing.py', 'LocalPath': '/opt/ml/processing/input/code', 'S3DataType': 'S3Prefix', 'S3InputMode': 'File', 'S3DataDistributionType': 'FullyReplicated', 'S3CompressionType': 'None'}}]\n",
      "Outputs:  [{'OutputName': 'train_data', 'AppManaged': False, 'S3Output': {'S3Uri': 's3://sagemaker-ap-northeast-2-276114397529/sagemaker-scikit-learn-2022-10-25-22-51-41-106/output/train_data', 'LocalPath': '/opt/ml/processing/train', 'S3UploadMode': 'EndOfJob'}}, {'OutputName': 'test_data', 'AppManaged': False, 'S3Output': {'S3Uri': 's3://sagemaker-ap-northeast-2-276114397529/sagemaker-scikit-learn-2022-10-25-22-51-41-106/output/test_data', 'LocalPath': '/opt/ml/processing/test', 'S3UploadMode': 'EndOfJob'}}]\n",
      ".........................\u001b[34m/miniconda3/lib/python3.7/site-packages/sklearn/externals/joblib/externals/cloudpickle/cloudpickle.py:47: DeprecationWarning: the imp module is deprecated in favour of importlib; see the module's documentation for alternative uses\n",
      "  import imp\u001b[0m\n",
      "\u001b[34m/miniconda3/lib/python3.7/site-packages/sklearn/utils/validation.py:37: DeprecationWarning: distutils Version classes are deprecated. Use packaging.version instead.\n",
      "  LARGE_SPARSE_SUPPORTED = LooseVersion(scipy_version) >= '0.14.0'\u001b[0m\n",
      "\u001b[34mReceived arguments Namespace(train_test_split_date='2022-10-01')\u001b[0m\n",
      "\u001b[34mReading input data from /opt/ml/processing/input/stage.csv\u001b[0m\n",
      "\n"
     ]
    }
   ],
   "source": [
    "from sagemaker.processing import ProcessingInput, ProcessingOutput\n",
    "import boto3\n",
    "import sagemaker\n",
    "from sagemaker import get_execution_role\n",
    "from sagemaker.sklearn.processing import SKLearnProcessor\n",
    "\n",
    "# region = boto_session.region_name\n",
    "role = get_execution_role()\n",
    "sklearn_processor = SKLearnProcessor(framework_version = \"0.20.0\",\n",
    "                                     role = role,\n",
    "                                     instance_type = \"ml.m5.xlarge\",\n",
    "                                     instance_count = 1\n",
    "                                    )\n",
    "\n",
    "s3_uri = 's3://{}/{}/{}/{}'.format(BUCKET_NAME_USECASE, \n",
    "                                S3_PATH_GOLDEN,\n",
    "                                KST.strftime('%Y/%m/%d'),\n",
    "                                '{}.csv'.format('stage'),\n",
    "                               )\n",
    "\n",
    "sklearn_processor.run(\n",
    "    code = \"preprocessing.py\",\n",
    "    inputs = [\n",
    "        ProcessingInput(\n",
    "            source = s3_uri,\n",
    "            input_name = 'stage_data',\n",
    "            # s3_input = s3_input,\n",
    "            destination = \"/opt/ml/processing/input\")],\n",
    "    outputs = [\n",
    "        ProcessingOutput(\n",
    "            output_name = \"train_data\",\n",
    "            source = \"/opt/ml/processing/train\"),\n",
    "        ProcessingOutput(\n",
    "            output_name = \"test_data\",\n",
    "            source = \"/opt/ml/processing/test\")],\n",
    "    arguments=[\"--train_test_split_date\", \"2022-10-01\"],\n",
    ")\n",
    "\n",
    "preprocessing_job_description = sklearn_processor.jobs[-1].describe()\n"
   ]
  },
  {
   "cell_type": "code",
   "execution_count": 83,
   "id": "be838a3e-0c2b-45fa-93ce-eb46295cfaae",
   "metadata": {},
   "outputs": [
    {
     "data": {
      "text/plain": [
       "{'ProcessingInputs': [{'InputName': 'stage_data',\n",
       "   'AppManaged': False,\n",
       "   'S3Input': {'S3Uri': 's3://palm-oil-price-forecast/golden-data/2022/10/26/stage.csv',\n",
       "    'LocalPath': '/opt/ml/processing/input',\n",
       "    'S3DataType': 'S3Prefix',\n",
       "    'S3InputMode': 'File',\n",
       "    'S3DataDistributionType': 'FullyReplicated',\n",
       "    'S3CompressionType': 'None'}},\n",
       "  {'InputName': 'code',\n",
       "   'AppManaged': False,\n",
       "   'S3Input': {'S3Uri': 's3://sagemaker-ap-northeast-2-276114397529/sagemaker-scikit-learn-2022-10-25-22-51-41-106/input/code/preprocessing.py',\n",
       "    'LocalPath': '/opt/ml/processing/input/code',\n",
       "    'S3DataType': 'S3Prefix',\n",
       "    'S3InputMode': 'File',\n",
       "    'S3DataDistributionType': 'FullyReplicated',\n",
       "    'S3CompressionType': 'None'}}],\n",
       " 'ProcessingOutputConfig': {'Outputs': [{'OutputName': 'train_data',\n",
       "    'S3Output': {'S3Uri': 's3://sagemaker-ap-northeast-2-276114397529/sagemaker-scikit-learn-2022-10-25-22-51-41-106/output/train_data',\n",
       "     'LocalPath': '/opt/ml/processing/train',\n",
       "     'S3UploadMode': 'EndOfJob'},\n",
       "    'AppManaged': False},\n",
       "   {'OutputName': 'test_data',\n",
       "    'S3Output': {'S3Uri': 's3://sagemaker-ap-northeast-2-276114397529/sagemaker-scikit-learn-2022-10-25-22-51-41-106/output/test_data',\n",
       "     'LocalPath': '/opt/ml/processing/test',\n",
       "     'S3UploadMode': 'EndOfJob'},\n",
       "    'AppManaged': False}]},\n",
       " 'ProcessingJobName': 'sagemaker-scikit-learn-2022-10-25-22-51-41-106',\n",
       " 'ProcessingResources': {'ClusterConfig': {'InstanceCount': 1,\n",
       "   'InstanceType': 'ml.m5.xlarge',\n",
       "   'VolumeSizeInGB': 30}},\n",
       " 'StoppingCondition': {'MaxRuntimeInSeconds': 86400},\n",
       " 'AppSpecification': {'ImageUri': '366743142698.dkr.ecr.ap-northeast-2.amazonaws.com/sagemaker-scikit-learn:0.20.0-cpu-py3',\n",
       "  'ContainerEntrypoint': ['python3',\n",
       "   '/opt/ml/processing/input/code/preprocessing.py'],\n",
       "  'ContainerArguments': ['--train_test_split_date', '2022-10-01']},\n",
       " 'RoleArn': 'arn:aws:iam::276114397529:role/service-role/AmazonSageMakerServiceCatalogProductsUseRole',\n",
       " 'ProcessingJobArn': 'arn:aws:sagemaker:ap-northeast-2:276114397529:processing-job/sagemaker-scikit-learn-2022-10-25-22-51-41-106',\n",
       " 'ProcessingJobStatus': 'Completed',\n",
       " 'ProcessingEndTime': datetime.datetime(2022, 10, 25, 22, 55, 54, 670000, tzinfo=tzlocal()),\n",
       " 'ProcessingStartTime': datetime.datetime(2022, 10, 25, 22, 55, 25, 631000, tzinfo=tzlocal()),\n",
       " 'LastModifiedTime': datetime.datetime(2022, 10, 25, 22, 55, 55, 164000, tzinfo=tzlocal()),\n",
       " 'CreationTime': datetime.datetime(2022, 10, 25, 22, 51, 41, 363000, tzinfo=tzlocal()),\n",
       " 'ResponseMetadata': {'RequestId': '7c680458-581d-4d50-acc3-319571426e17',\n",
       "  'HTTPStatusCode': 200,\n",
       "  'HTTPHeaders': {'x-amzn-requestid': '7c680458-581d-4d50-acc3-319571426e17',\n",
       "   'content-type': 'application/x-amz-json-1.1',\n",
       "   'content-length': '2070',\n",
       "   'date': 'Tue, 25 Oct 2022 22:56:22 GMT'},\n",
       "  'RetryAttempts': 0}}"
      ]
     },
     "execution_count": 83,
     "metadata": {},
     "output_type": "execute_result"
    }
   ],
   "source": [
    "preprocessing_job_description"
   ]
  },
  {
   "cell_type": "code",
   "execution_count": 84,
   "id": "97e68e48-3ea0-40e5-85ab-6f7d1f74aba3",
   "metadata": {},
   "outputs": [
    {
     "data": {
      "text/plain": [
       "{'Outputs': [{'OutputName': 'train_data',\n",
       "   'S3Output': {'S3Uri': 's3://sagemaker-ap-northeast-2-276114397529/sagemaker-scikit-learn-2022-10-25-22-51-41-106/output/train_data',\n",
       "    'LocalPath': '/opt/ml/processing/train',\n",
       "    'S3UploadMode': 'EndOfJob'},\n",
       "   'AppManaged': False},\n",
       "  {'OutputName': 'test_data',\n",
       "   'S3Output': {'S3Uri': 's3://sagemaker-ap-northeast-2-276114397529/sagemaker-scikit-learn-2022-10-25-22-51-41-106/output/test_data',\n",
       "    'LocalPath': '/opt/ml/processing/test',\n",
       "    'S3UploadMode': 'EndOfJob'},\n",
       "   'AppManaged': False}]}"
      ]
     },
     "execution_count": 84,
     "metadata": {},
     "output_type": "execute_result"
    }
   ],
   "source": [
    "preprocessing_job_description[\"ProcessingOutputConfig\"]"
   ]
  },
  {
   "cell_type": "code",
   "execution_count": 85,
   "id": "45317c4e-da3f-424a-a4d2-973d4ad635e2",
   "metadata": {},
   "outputs": [],
   "source": [
    "output_config = preprocessing_job_description[\"ProcessingOutputConfig\"]\n",
    "for output in output_config[\"Outputs\"]:\n",
    "    if output[\"OutputName\"] == \"train_data\":\n",
    "        preprocessed_training_data = output[\"S3Output\"][\"S3Uri\"]\n",
    "    if output[\"OutputName\"] == \"test_data\":\n",
    "        preprocessed_test_data = output[\"S3Output\"][\"S3Uri\"]"
   ]
  },
  {
   "cell_type": "code",
   "execution_count": 86,
   "id": "cd2eb8af-902e-46a3-85fd-48f62cd72986",
   "metadata": {},
   "outputs": [
    {
     "data": {
      "text/plain": [
       "{'Outputs': [{'OutputName': 'train_data',\n",
       "   'S3Output': {'S3Uri': 's3://sagemaker-ap-northeast-2-276114397529/sagemaker-scikit-learn-2022-10-25-22-51-41-106/output/train_data',\n",
       "    'LocalPath': '/opt/ml/processing/train',\n",
       "    'S3UploadMode': 'EndOfJob'},\n",
       "   'AppManaged': False},\n",
       "  {'OutputName': 'test_data',\n",
       "   'S3Output': {'S3Uri': 's3://sagemaker-ap-northeast-2-276114397529/sagemaker-scikit-learn-2022-10-25-22-51-41-106/output/test_data',\n",
       "    'LocalPath': '/opt/ml/processing/test',\n",
       "    'S3UploadMode': 'EndOfJob'},\n",
       "   'AppManaged': False}]}"
      ]
     },
     "execution_count": 86,
     "metadata": {},
     "output_type": "execute_result"
    }
   ],
   "source": [
    "output_config"
   ]
  },
  {
   "cell_type": "code",
   "execution_count": null,
   "id": "69cf2399-a8b4-4f77-81ff-0d07c0be852a",
   "metadata": {},
   "outputs": [],
   "source": [
    "# training_features = pd.read_csv(preprocessed_training_data + \"/train_features.csv\", nrows=10)\n",
    "# print(\"Training features shape: {}\".format(training_features.shape))\n",
    "# training_features.head(n=10)"
   ]
  },
  {
   "cell_type": "code",
   "execution_count": 91,
   "id": "4fcef9a5-91c9-444a-b330-220e2c7fc7af",
   "metadata": {},
   "outputs": [],
   "source": [
    "train_dir = os.path.join(os.getcwd(), f'data/{S3_PATH_GOLDEN}/train')\n",
    "os.makedirs(train_dir, exist_ok=True)\n",
    "\n",
    "test_dir = os.path.join(os.getcwd(), f'data/{S3_PATH_GOLDEN}/test')\n",
    "os.makedirs(test_dir, exist_ok=True)"
   ]
  },
  {
   "cell_type": "markdown",
   "id": "d06ff633-0d3e-49cd-bc67-d03ede672a8e",
   "metadata": {},
   "source": [
    "--- Sagemaker Code ---"
   ]
  },
  {
   "cell_type": "code",
   "execution_count": 92,
   "id": "d9e6499b-c52f-48f1-aba1-556c4824984e",
   "metadata": {},
   "outputs": [
    {
     "data": {
      "text/plain": [
       "'s3://sagemaker-ap-northeast-2-276114397529/sagemaker-scikit-learn-2022-10-25-22-51-41-106/output/train_data'"
      ]
     },
     "execution_count": 92,
     "metadata": {},
     "output_type": "execute_result"
    }
   ],
   "source": [
    "preprocessed_training_data"
   ]
  },
  {
   "cell_type": "code",
   "execution_count": 95,
   "id": "e4948899-85ce-4059-bc9f-e9c2d448eea0",
   "metadata": {},
   "outputs": [
    {
     "name": "stdout",
     "output_type": "stream",
     "text": [
      "AWS Region: ap-northeast-2\n",
      "RoleArn: arn:aws:iam::276114397529:role/service-role/AmazonSageMakerServiceCatalogProductsUseRole\n"
     ]
    }
   ],
   "source": [
    "print(\"AWS Region: {}\".format(region))\n",
    "print(\"RoleArn: {}\".format(role))"
   ]
  },
  {
   "cell_type": "code",
   "execution_count": 97,
   "id": "a7afbab2-5e81-4f3d-9123-e1c1e7409927",
   "metadata": {},
   "outputs": [
    {
     "data": {
      "text/plain": [
       "'trained-model'"
      ]
     },
     "execution_count": 97,
     "metadata": {},
     "output_type": "execute_result"
    }
   ],
   "source": [
    "S3_PATH_TRAIN"
   ]
  },
  {
   "cell_type": "code",
   "execution_count": 98,
   "id": "f22998d4-e017-4c7e-9b2b-a87eed8469ad",
   "metadata": {},
   "outputs": [
    {
     "name": "stdout",
     "output_type": "stream",
     "text": [
      "366743142698.dkr.ecr.ap-northeast-2.amazonaws.com/sagemaker-xgboost:1.2-1\n"
     ]
    }
   ],
   "source": [
    "s3_output_location='s3://{}/{}/{}'.format(BUCKET_NAME_USECASE,\n",
    "                                          S3_PATH_TRAIN,\n",
    "                                          'xgboost_model')\n",
    "\n",
    "container=sagemaker.image_uris.retrieve(\"xgboost\", region, \"1.2-1\")\n",
    "print(container)\n",
    "\n",
    "xgb_model=sagemaker.estimator.Estimator(\n",
    "    image_uri=container,\n",
    "    role=role,\n",
    "    instance_count=1,\n",
    "    instance_type='ml.m4.xlarge',\n",
    "    volume_size=5,\n",
    "    output_path=s3_output_location,\n",
    "    sagemaker_session=sagemaker.Session(),\n",
    "    rules=[Rule.sagemaker(rule_configs.create_xgboost_report())]\n",
    ")"
   ]
  },
  {
   "cell_type": "markdown",
   "id": "6a27514d-ef22-46e7-9306-92df44088f0c",
   "metadata": {},
   "source": [
    "---"
   ]
  },
  {
   "cell_type": "code",
   "execution_count": null,
   "id": "0785f5e4-2be5-4223-b194-67424ba9b7d6",
   "metadata": {},
   "outputs": [],
   "source": [
    "boto_sesssion = boto3.Session(ACCESS_KEY_ID,\n",
    "                              ACCESS_SECRET_KEY)\n",
    "# region = re.region_name\n",
    "\n",
    "session = sagemaker.Session(boto_session = boto_session)\n",
    "s3_session = boto_sesssion.resource('s3')\n",
    "bucket = s3_session.Bucket(BUCKET_NAME_USECASE)\n",
    "    # S3_PATH_STAGE = keychain['S3_PATH_STAGE']\n",
    "    # S3_PATH_GOLDEN = keychain['S3_PATH_GOLDEN']\n",
    "    # S3_PATH_TRAIN = keychain['S3_PATH_TRAIN']\n",
    "    # S3_PATH_log = keychain['S3_PATH_LOG']\n",
    "bucket = s3_resource.Bucket(bucket_name)\n",
    "timestamp_suffix = strftime('%Y-%m-%d-%H-%M-%S', gmtime())\n",
    "\n",
    "prefix = 'sagemaker/link-prediction-developer-guide-' + timestamp_suffix\n",
    "\n",
    "role = os.environ[\"SAGEMAKER_ROLE\"]\n",
    "\n",
    "sm = boto_session.client(service_name='sagemaker',region_name=region)"
   ]
  },
  {
   "cell_type": "code",
   "execution_count": 221,
   "id": "898d7135-391c-41f0-bcb8-ed2d08e0141e",
   "metadata": {},
   "outputs": [
    {
     "ename": "TypeError",
     "evalue": "makedirs() got an unexpected keyword argument 'existok'",
     "output_type": "error",
     "traceback": [
      "\u001b[0;31m---------------------------------------------------------------------------\u001b[0m",
      "\u001b[0;31mTypeError\u001b[0m                                 Traceback (most recent call last)",
      "\u001b[0;32m/tmp/ipykernel_9259/852392905.py\u001b[0m in \u001b[0;36m<cell line: 9>\u001b[0;34m()\u001b[0m\n\u001b[1;32m      7\u001b[0m \u001b[0;34m\u001b[0m\u001b[0m\n\u001b[1;32m      8\u001b[0m \u001b[0mdata_dir\u001b[0m \u001b[0;34m=\u001b[0m \u001b[0mos\u001b[0m\u001b[0;34m.\u001b[0m\u001b[0mpath\u001b[0m\u001b[0;34m.\u001b[0m\u001b[0mjoin\u001b[0m\u001b[0;34m(\u001b[0m\u001b[0mos\u001b[0m\u001b[0;34m.\u001b[0m\u001b[0mgetcwd\u001b[0m\u001b[0;34m(\u001b[0m\u001b[0;34m)\u001b[0m\u001b[0;34m,\u001b[0m \u001b[0;34m'data'\u001b[0m\u001b[0;34m)\u001b[0m\u001b[0;34m\u001b[0m\u001b[0;34m\u001b[0m\u001b[0m\n\u001b[0;32m----> 9\u001b[0;31m \u001b[0mos\u001b[0m\u001b[0;34m.\u001b[0m\u001b[0mmakedirs\u001b[0m\u001b[0;34m(\u001b[0m\u001b[0mdata_dir\u001b[0m\u001b[0;34m,\u001b[0m \u001b[0mexistok\u001b[0m\u001b[0;34m=\u001b[0m\u001b[0;32mTrue\u001b[0m\u001b[0;34m)\u001b[0m\u001b[0;34m\u001b[0m\u001b[0;34m\u001b[0m\u001b[0m\n\u001b[0m\u001b[1;32m     10\u001b[0m \u001b[0;34m\u001b[0m\u001b[0m\n\u001b[1;32m     11\u001b[0m \u001b[0mtrain_dir\u001b[0m \u001b[0;34m=\u001b[0m \u001b[0mos\u001b[0m\u001b[0;34m.\u001b[0m\u001b[0mpath\u001b[0m\u001b[0;34m.\u001b[0m\u001b[0mjoin\u001b[0m\u001b[0;34m(\u001b[0m\u001b[0mos\u001b[0m\u001b[0;34m.\u001b[0m\u001b[0mgetcwd\u001b[0m\u001b[0;34m(\u001b[0m\u001b[0;34m)\u001b[0m\u001b[0;34m,\u001b[0m \u001b[0;34m'data/train'\u001b[0m\u001b[0;34m)\u001b[0m\u001b[0;34m\u001b[0m\u001b[0;34m\u001b[0m\u001b[0m\n",
      "\u001b[0;31mTypeError\u001b[0m: makedirs() got an unexpected keyword argument 'existok'"
     ]
    }
   ],
   "source": [
    "import os\n",
    "import sagemaker\n",
    "import tensorflow as tf\n",
    "\n",
    "sess = sagemaker.Session()\n",
    "bucket = sess.default_bucket() \n",
    "\n",
    "data_dir = os.path.join(os.getcwd(), 'data')\n",
    "os.makedirs(data_dir, existok=True)\n",
    "\n",
    "raw_dir = os.path.join(os.getcwd(), 'data/raw')\n",
    "os.makedirs(raw_dir, exist_ok=True)"
   ]
  },
  {
   "cell_type": "markdown",
   "id": "88ca76ec-024d-4451-93a2-201d170799b3",
   "metadata": {},
   "source": [
    "1. SageMaker Processing을 이용한 데이터 전처리(정제)\n",
    "**워크플로우**\n",
    "   1. 필요한 데이터셋 불러오기\n",
    "   2. np.save()로 배열을 NumPy format의 바이너리 파일로 저장하기 (Save a single array to a binary file in NumPy format)\n",
    "   3. S3에 업로드\n",
    "   4. SageMaker Processing을 이용한 데이터 전처리   \n",
    "   5. 학습과 테스트를 위해 레이블 생성 & 저장.\n",
    "   \n",
    "**SageMaker Processing?**\n",
    "- SageMaker 노트북 서버와 분리된 독립적 환경에서 테라바이트 수준의 데이터를 변환처리 가능.   \n",
    "- 일반적으로 Prototyping 작업에 사용되는 노트북은 SageMaker 일반 사양에서 실행하며 전처리, 학습, 모델 호스팅과 같은 작업은 강력한 사양의 인스턴스에서 실행.    \n",
    "- SageMaker Processing은 Scikit-learn이 기본 탑재되어 있으며 **Bring Your Own Container** 옵션으로 다양한 데이터 정제 작업을 별도 독립된 환경에서 실행 가능"
   ]
  },
  {
   "cell_type": "code",
   "execution_count": null,
   "id": "1006556e-afd9-4e63-b6b2-829f98dbed59",
   "metadata": {},
   "outputs": [],
   "source": [
    "import numpy as np\n",
    "from tensorflow.python.keras.datasets import boston_housing\n",
    "from sklearn.preprocessing import StandardScaler\n",
    "import glob\n",
    "\n",
    "(x_train, y_train), (x_test, y_test) = boston_housing.load_data()\n",
    "\n",
    "np.save(os.path.join(raw_dir, 'x_train.npy'), x_train)\n",
    "np.save(os.path.join(raw_dir, 'x_test.npy'), x_test)\n",
    "np.save(os.path.join(train_dir, 'y_train.npy'), y_train)\n",
    "np.save(os.path.join(test_dir, 'y_test.npy'), y_test)\n",
    "\n",
    "s3_prefix = 'tf-2-workflow'\n",
    "rawdata_s3_prefix = '{}/data/raw'.format(s3_prefix)\n",
    "raw_s3 = sess.upload_data(path='./data/raw/', key_prefix=rawdata_s3_prefix)\n",
    "print(raw_s3)"
   ]
  },
  {
   "cell_type": "code",
   "execution_count": null,
   "id": "f016712b-ec3e-44db-b87a-03130747eb41",
   "metadata": {},
   "outputs": [],
   "source": [
    "import os\n",
    "os.listdir('{}'.format('./data/raw'))"
   ]
  },
  {
   "cell_type": "code",
   "execution_count": null,
   "id": "88041e53-a00a-4022-90b9-32f57e25c7b9",
   "metadata": {},
   "outputs": [],
   "source": [
    "glob.glob('{}/*.npy'.format('./data/raw'))"
   ]
  },
  {
   "cell_type": "code",
   "execution_count": null,
   "id": "50c16bb9-2d62-48c0-b3ad-119d46de9957",
   "metadata": {},
   "outputs": [],
   "source": [
    "%%writefile preprocessing.py\n",
    "\n",
    "import glob\n",
    "import numpy as np\n",
    "import os\n",
    "from sklearn.preprocessing import StandardScaler\n",
    "\n",
    "if __name__=='__main__':\n",
    "    input_files = glob.glob('{}/*.npy'.format('/opt/ml/processing/input')) # 입력파일 로드 경로 지정\n",
    "    print('\\nINPUT FILE LIST: \\n{}\\n'.format(input_files))\n",
    "    scaler = StandardScaler()\n",
    "    for file in input_files:\n",
    "        raw = np.load(file)\n",
    "        transformed = scaler.fit_transform(raw)\n",
    "        if 'train' in file:\n",
    "            output_path = os.path.join('/opt/ml/processing/train', 'x_train.npy') # 출력파일 저장될 경로 지정\n",
    "            np.save(output_path, transformed)\n",
    "            print('SAVED TRANSFORMED TRAINING DATA FILE\\n')\n",
    "        else: \n",
    "            output_path = os.path.join('/opt/ml/processing/test', 'x_test.npy') # 출력파일 저장될 경로 지정\n",
    "            np.save(output_path, transformed)\n",
    "            print('SAVED TRANSFORMED TEST DATA FILE\\n')"
   ]
  },
  {
   "cell_type": "markdown",
   "id": "e79b6106-1dff-4860-a8f4-6e7a714ef887",
   "metadata": {},
   "source": [
    "SKLearnProcessor 오브젝트(for SageMaker Processing 작업)  \n",
    "- 오브젝트 생성시 사용할 인스턴스 타입과 몇개의 인스턴스를 사용할 지 정의할 수 있다. \n",
    "- 보스턴 집값 데이터셋은 매우 작은 데이터이지만 SageMaker Processing의 클러스터링 작업이 어떻게 실행하는지 보기 위해 두 개의 인스턴스를 사용."
   ]
  },
  {
   "cell_type": "code",
   "execution_count": null,
   "id": "421d27ad-1143-4be1-a82c-3f241f1bbc22",
   "metadata": {},
   "outputs": [],
   "source": [
    "from sagemaker import get_execution_role\n",
    "from sagemaker.sklearn.processing import SKLearnProcessor\n",
    "\n",
    "processing_tags = [{'Key': 'cost-center',\n",
    "                    'Value': 'TF2WorkflowProcessing'}]\n",
    "\n",
    "sklearn_processor1 = SKLearnProcessor(framework_version='0.23-1',\n",
    "                                     role=get_execution_role(),\n",
    "                                     instance_type='ml.m5.xlarge',\n",
    "                                     instance_count=2,\n",
    "                                     tags=processing_tags)"
   ]
  },
  {
   "cell_type": "markdown",
   "id": "7dd2e65f-4f27-4cfe-b074-49dbebee1cb9",
   "metadata": {},
   "source": [
    "- 이제 데이터 파일을 인스턴스에 동일하게 분산하기 위해\n",
    "- ProcessingInput 오브젝트에 SharedByS3Key 분산타입을 지정. \n",
    "- 이때, 만약 n개의 인스턴스를 선언했다면 각 인스턴스는 1/n 파일을 S3로부터 받게 될 것. \n",
    "- 실행에는 3분 정도 소요되며 대부분 Cluster를 구성하는 시간이 차지함. \n",
    "- 작업종료시 Cluster는 SageMaker에 의해 자동으로 삭제될 예정"
   ]
  },
  {
   "cell_type": "code",
   "execution_count": null,
   "id": "38956acc-1b92-41c2-b75d-f3298f6ece4d",
   "metadata": {},
   "outputs": [],
   "source": [
    "'{}/train'.format(output_destination)"
   ]
  },
  {
   "cell_type": "code",
   "execution_count": null,
   "id": "6ccde741-5af0-422f-94c2-83c1b83b2e6a",
   "metadata": {},
   "outputs": [],
   "source": [
    "from sagemaker.processing import ProcessingInput, ProcessingOutput\n",
    "from time import gmtime, strftime \n",
    "\n",
    "processing_job_name = \"tf-2-workflow-{}\".format(strftime(\"%d-%H-%M-%S\", gmtime()))\n",
    "\n",
    "output_destination = 's3://{}/{}/data'.format(bucket, s3_prefix)\n",
    "\n",
    "sklearn_processor.run(code='preprocessing.py',\n",
    "                      job_name=processing_job_name,\n",
    "                      inputs=[ProcessingInput(\n",
    "                        source=raw_s3,\n",
    "                        destination='/opt/ml/processing/input',\n",
    "                        s3_data_distribution_type='ShardedByS3Key')],\n",
    "                      outputs=[ProcessingOutput(output_name='train',\n",
    "                                                destination='{}/train'.format(output_destination),\n",
    "                                                source='/opt/ml/processing/train'),\n",
    "                               ProcessingOutput(output_name='test',\n",
    "                                                destination='{}/test'.format(output_destination),\n",
    "                                                source='/opt/ml/processing/test')])\n",
    "\n",
    "preprocessing_job_description = sklearn_processor.jobs[-1].describe()"
   ]
  },
  {
   "cell_type": "markdown",
   "id": "397a13d6-c341-44ba-896f-381e715dd441",
   "metadata": {},
   "source": [
    "SageMaker Processing 작업의 출력 로그 \n",
    "- 두가지 색상으로 각 인스턴스의 로그를 볼 수 있다.\n",
    "- 각 인스턴스가 서로 다른 파일을 받은 것을 확인할 수 있다.\n",
    "- 만약 ShardedByS3Key 분산타입을 사용하지 않았다면 각 인스턴스는 복사본을 받음. \n",
    "- 대부분의 stateless 데이터 전처리(정제)에서는 n개의 인스턴스에 동일하게 파일을 분산함으로써 대략 n만큼 작업속도를 향상시킬 수 있다.\n",
    " \n",
    "본 작업결과를 로컬에 저장 후, 다음으로 Prototype 훈련과 추론을 작성하자."
   ]
  },
  {
   "cell_type": "code",
   "execution_count": null,
   "id": "667a7211-20d6-4548-831b-7b1e8e4f2284",
   "metadata": {},
   "outputs": [],
   "source": [
    "train_in_s3 = '{}/train/x_train.npy'.format(output_destination)\n",
    "test_in_s3 = '{}/test/x_test.npy'.format(output_destination)\n",
    "!aws s3 cp {train_in_s3} ./data/train/x_train.npy\n",
    "!aws s3 cp {test_in_s3} ./data/test/x_test.npy"
   ]
  },
  {
   "cell_type": "markdown",
   "id": "5c863666-efd8-43ea-ae06-53b582028d51",
   "metadata": {},
   "source": [
    "## 2. SageMaker local 모드를 이용한 학습과 추론(Training & Inference)\n",
    "**SageMaker에서 로컬 모드**\n",
    "- 작성한 코드를 강력한 Cluster에서 실행하기 전, 코드가 기대한 방식으로 동작하는지 로컬에서 확인할 수 있는지 확인하는 방식. \n",
    "- 로컬모드 학습을 위해서는 docker-compose 또는 nvidia-docker-compose (GPU 인스턴스인 경우)의 설치가 필요. \n",
    "- 다음 셀은 docker-compose 또는 nvidia-docker-compose를 설치&구성"
   ]
  },
  {
   "cell_type": "code",
   "execution_count": null,
   "id": "fda64193-cc87-4879-8324-499b491e8803",
   "metadata": {},
   "outputs": [],
   "source": [
    "!wget -q https://raw.githubusercontent.com/aws-samples/amazon-sagemaker-script-mode/master/local_mode_setup.sh\n",
    "!wget -q https://raw.githubusercontent.com/aws-samples/amazon-sagemaker-script-mode/master/daemon.json    "
   ]
  },
  {
   "cell_type": "code",
   "execution_count": null,
   "id": "5ff07882-0a00-4bf3-8523-03f3bb26375c",
   "metadata": {},
   "outputs": [],
   "source": [
    "!/bin/bash ./local_mode_setup.sh"
   ]
  },
  {
   "cell_type": "markdown",
   "id": "cc2dcc8f-36cc-4f0c-b4d7-3b339527f6aa",
   "metadata": {},
   "source": [
    "**Tensorflow Estimator 구성**\n",
    "- 로컬모드 학습을 위한 Estimator를 구성하는 주요 파라미터\n",
    "    - `train_instance_type`: 학습이 실행될 하드웨어 종류. CPU환경에서 로컬모드는 단순히 local 로 지정함. GPU가 필요한 경우엔 local_gpu로 지정.\n",
    "    - `git_config`: Estimator가 코드를 Git Repository에서 가져오게 함.\n",
    "    - `Other parameters of note`: Dictionary 형식으로 알고리즘의 하이퍼파라메터 지정 & Boolean 형식으로 Script Mode를 이용할 것인지 지정.\n",
    "\n",
    "여기서 우리는 주로 코드가 잘 동작하는지 확인하기 위해 로컬모드를 사용한다는 점을 기억하십시오. 우리는 불필요한 학습시간을 절약하기 위해, 전체 학습을 위한 큰 epoch 대신, 코드가 적절히 동작하는지 확인할 수 있는 정도의 작은 epoch으로 학습을 실행할 것입니다."
   ]
  },
  {
   "cell_type": "code",
   "execution_count": null,
   "id": "a8183717-73b4-4eb8-b7b8-b01c9374ac22",
   "metadata": {},
   "outputs": [],
   "source": [
    "%%writefile train.py\n",
    "\n",
    "import argparse\n",
    "import numpy as np\n",
    "import os\n",
    "import tensorflow as tf\n",
    "\n",
    "from model_def import get_model\n",
    "\n",
    "os.environ['TF_CPP_MIN_LOG_LEVEL'] = '3' \n",
    "\n",
    "\n",
    "def parse_args():\n",
    "\n",
    "    parser = argparse.ArgumentParser()\n",
    "\n",
    "    # 사용자가 전달한 하이퍼 파라미터를 command-line argument로 전달받아 사용함\n",
    "    parser.add_argument('--epochs', type=int, default=1)\n",
    "    parser.add_argument('--batch_size', type=int, default=64)\n",
    "    parser.add_argument('--learning_rate', type=float, default=0.1)\n",
    "\n",
    "    # data directories\n",
    "    parser.add_argument('--train', type=str, default=os.environ.get('SM_CHANNEL_TRAIN'))\n",
    "    parser.add_argument('--test', type=str, default=os.environ.get('SM_CHANNEL_TEST'))\n",
    "\n",
    "    # model directory: we will use the default set by SageMaker, /opt/ml/model\n",
    "    parser.add_argument('--model_dir', type=str, default=os.environ.get('SM_MODEL_DIR'))\n",
    "\n",
    "    return parser.parse_known_args()\n",
    "\n",
    "\n",
    "def get_train_data(train_dir):\n",
    "\n",
    "    x_train = np.load(os.path.join(train_dir, 'x_train.npy'))\n",
    "    y_train = np.load(os.path.join(train_dir, 'y_train.npy'))\n",
    "    print('x train', x_train.shape,'y train', y_train.shape)\n",
    "\n",
    "    return x_train, y_train\n",
    "\n",
    "\n",
    "def get_test_data(test_dir):\n",
    "\n",
    "    x_test = np.load(os.path.join(test_dir, 'x_test.npy'))\n",
    "    y_test = np.load(os.path.join(test_dir, 'y_test.npy'))\n",
    "    print('x test', x_test.shape,'y test', y_test.shape)\n",
    "\n",
    "    return x_test, y_test\n",
    "\n",
    "\n",
    "if __name__ == \"__main__\":\n",
    "\n",
    "    # 환경변수 또는 사용자 지정 hyperparameter로 전달된 argument를 읽는다.\n",
    "    args, _ = parse_args()\n",
    "\n",
    "    # training data를 가져온다. 위 코드에서 읽은 argument 중 'train'으로 전달된 값을 사용함. \n",
    "    # parse_args()를 통해 환경변수 'SM_CHANNEL_TRAIN'로 전달된 경로 'opt/ml/input/train/'가 'arg.train'으로 지정됨\n",
    "    x_train, y_train = get_train_data(args.train)\n",
    "    x_test, y_test = get_test_data(args.test)\n",
    "\n",
    "    device = '/cpu:0' \n",
    "    print(device)\n",
    "    batch_size = args.batch_size\n",
    "    epochs = args.epochs\n",
    "    learning_rate = args.learning_rate\n",
    "    print('batch_size = {}, epochs = {}, learning rate = {}'.format(batch_size, epochs, learning_rate))\n",
    "\n",
    "    with tf.device(device):\n",
    "\n",
    "        model = get_model()\n",
    "        optimizer = tf.keras.optimizers.SGD(learning_rate)\n",
    "        model.compile(optimizer=optimizer, loss='mse')    \n",
    "        model.fit(x_train, y_train, batch_size=batch_size, epochs=epochs,\n",
    "                  validation_data=(x_test, y_test))\n",
    "\n",
    "        # evaluate on test set\n",
    "        scores = model.evaluate(x_test, y_test, batch_size, verbose=2)\n",
    "        print(\"\\nTest MSE :\", scores)\n",
    "\n",
    "        # 결과모델 저장 - 'args.model_dir'에는 'SM_MODEL_DIR' 환경변수를 통해 지정된 '/opt/ml/model/' 경로가 지정된다.\n",
    "        model.save(args.model_dir + '/1')"
   ]
  },
  {
   "cell_type": "code",
   "execution_count": null,
   "id": "6928e45c-5651-4615-89f2-6c7515c1d38c",
   "metadata": {},
   "outputs": [],
   "source": [
    "!pygmentize train.py"
   ]
  },
  {
   "cell_type": "code",
   "execution_count": null,
   "id": "ac0af16f-9722-4689-999e-5de8448b2fea",
   "metadata": {},
   "outputs": [],
   "source": [
    "from sagemaker.tensorflow import TensorFlow\n",
    "\n",
    "git_config = {'repo': 'https://github.com/aws-samples/amazon-sagemaker-script-mode', \n",
    "              'branch': 'master'}\n",
    "\n",
    "train_instance_type = 'local'\n",
    "hyperparameters = {'epochs': 5, 'batch_size': 128, 'learning_rate': 0.01}\n",
    "local_estimator = TensorFlow(git_config=git_config,\n",
    "                             source_dir='tf-2-workflow-smpipelines/train_model',\n",
    "                             entry_point='train.py',\n",
    "                             instance_type=train_instance_type,\n",
    "                             instance_count=1,\n",
    "                             hyperparameters=hyperparameters,\n",
    "                             role=sagemaker.get_execution_role(),\n",
    "                             base_job_name='tf-2-workflow',\n",
    "                             framework_version='2.3.1',\n",
    "                             py_version='py37',\n",
    "                             script_mode=True)"
   ]
  },
  {
   "cell_type": "code",
   "execution_count": null,
   "id": "09a41a87-7f48-4d91-a81f-d1c51954184d",
   "metadata": {},
   "outputs": [],
   "source": [
    "inputs = {'train': f'file://{train_dir}',\n",
    "          'test': f'file://{test_dir}'}\n",
    "\n",
    "local_estimator.fit(inputs)"
   ]
  },
  {
   "cell_type": "markdown",
   "id": "dbb30b18-7519-4d27-80e0-4d8f39682a83",
   "metadata": {},
   "source": [
    "## 3. SageMaker hosted training을 이용한 학습과 추론\n",
    "프로젝트의 프로토타이핑 단계가 완료되면 SageMaker hosted training 기능이 학습 작업, 특히 대규모 분산 교육에 선호됩니다.    \n",
    "노트북 환경이나 SageMaker local 모드에서의 training과는 달리 hosted training에서는 실제 학습 자체가 노트북 환경이 아니라    \n",
    "SageMaker에서 관리하는 더 강력한 시스템의 별도 클러스터에서 이루어진다.    \n",
    "호스트 교육 시작 전 데이터가 S3 또는 Amazon EFS 또는 Amazon FSX for Lustre 파일 시스템에 있어야 합니다.   \n",
    "지금 S3에 업로드하고 업로드가 성공했는지 확인합니다.   "
   ]
  },
  {
   "cell_type": "code",
   "execution_count": null,
   "id": "1e62a6b2-9464-4ba8-b372-2909f2cc7ba8",
   "metadata": {},
   "outputs": [],
   "source": [
    "s3_prefix = 'tf-2-workflow'\n",
    "\n",
    "traindata_s3_prefix = '{}/data/train'.format(s3_prefix)\n",
    "testdata_s3_prefix = '{}/data/test'.format(s3_prefix)"
   ]
  },
  {
   "cell_type": "code",
   "execution_count": null,
   "id": "8642d6a5-ae10-4536-8611-1f17d1975e03",
   "metadata": {},
   "outputs": [],
   "source": [
    "train_s3 = sess.upload_data(path='./data/train/', key_prefix=traindata_s3_prefix)\n",
    "test_s3 = sess.upload_data(path='./data/test/', key_prefix=testdata_s3_prefix)\n",
    "\n",
    "inputs = {'train':train_s3, 'test': test_s3}\n",
    "\n",
    "print(inputs)"
   ]
  },
  {
   "cell_type": "markdown",
   "id": "330e5170-403d-403e-9407-8d116c6cbccf",
   "metadata": {},
   "source": [
    "### 환경설정\n",
    "- train_instance_type: SageMaker ML 인스턴스 유형(이 경우 c5 컴퓨팅 최적화 인스턴스 유형)으로 설정되었다는 점을 제외하면 SageMaker Local Mode Estimator와 유사합니다.\n",
    "\n",
    "- Git configuration : Git 저장소에서 training 스크립트를 Pull해서 다양한 팀 구성원의 컴퓨터에 서로 다른 스크립트를 분산시키는 대신 팀이 동일한 소스 제어 코드를 공유하도록 합니다.\n",
    "\n",
    "- Training metrics : Training 작업 진행상황을 확인할 수 있습니다. 코드와 컨테이너로 기록된 모든 Metric은 regular expression 을 사용하여 지정할 수 있습니다. Metric은 결과리뷰에 활용 할 수 있는 Amazon CloudWatch 모니터링 서비스로 전송됩니다.\n",
    "\n",
    "- Tags: 비용 할당 및 기타 목적을 위해 SageMaker Training job, SageMaker Processing job 및 SageMaker Endpoint(아래 참조) 혹은 기타 리소스로 표기할 수 있습니다.\n",
    "\n",
    "- Hyperparameters: 위 프로토타이핑 단계에서 사용된 것보다 긴 에폭 수를 전달합니다. 프로토타이핑이 완료된 후 시작된 hosted Training의 경우 Model training이 코드와 연관된 오류 없이 진행되어 개선되고 낮은 lower validation loss로 수렴될 것으로 예상하여 모델을 더 많은 기간 동안 교육할 수 있습니다."
   ]
  },
  {
   "cell_type": "code",
   "execution_count": null,
   "id": "8947ffa9-2f72-451b-b9ab-1296c2458cf3",
   "metadata": {},
   "outputs": [],
   "source": [
    "git_config = {'repo': 'https://github.com/aws-samples/amazon-sagemaker-script-mode', \n",
    "              'branch': 'master'}\n"
   ]
  },
  {
   "cell_type": "code",
   "execution_count": null,
   "id": "e7bf7f38-a248-4b90-b5ad-e42b9aca9766",
   "metadata": {},
   "outputs": [],
   "source": [
    "\n",
    "from sagemaker.tensorflow import TensorFlow\n",
    "\n",
    "train_instance_type = 'ml.c5.xlarge'\n",
    "git_config = {'repo': 'https://github.com/aws-samples/amazon-sagemaker-script-mode', \n",
    "              'branch': 'master'}\n",
    "training_metrics = [\n",
    "   {\n",
    "        \"Name\": \"training:loss\",\n",
    "        \"Regex\": \".*step - loss: ([0-9\\\\.]+) - val_loss: [0-9\\\\.]+ - batch: [0-9\\\\.]+.*\",\n",
    "    },\n",
    "    {\n",
    "        \"Name\": \"validation:loss\",\n",
    "        \"Regex\": \".*step - loss: [0-9\\\\.]+ - val_loss: ([0-9\\\\.]+) - batch: [0-9\\\\.]+.*\",\n",
    "    }\n",
    "]\n",
    "training_tags = [{'Key': 'cost-center', 'Value': 'TF2WorkflowTraining'}]\n",
    "hyperparameters = {'epochs': 30, 'batch_size': 128, 'learning_rate': 0.01}\n",
    "\n",
    "hosted_estimator = TensorFlow(\n",
    "                       git_config = git_config,\n",
    "                       metric_definitions = training_metrics,\n",
    "                       tags = training_tags,\n",
    "                       source_dir = 'tf-2-workflow-smpipelines/train_model',\n",
    "                       entry_point = 'train.py',\n",
    "                       instance_type = train_instance_type,\n",
    "                       instance_count = 1,\n",
    "                       hyperparameters = hyperparameters,\n",
    "                       role=sagemaker.get_execution_role(),\n",
    "                       base_job_name = 'tf-2-workflow',\n",
    "                       framework_version = '2.3.1',\n",
    "                       py_version = 'py37',\n",
    "                       script_mode = True)"
   ]
  },
  {
   "cell_type": "code",
   "execution_count": null,
   "id": "5886f1e7-eb8c-4828-8e28-0db872a5f945",
   "metadata": {},
   "outputs": [],
   "source": [
    "hosted_estimator.fit(inputs)"
   ]
  },
  {
   "cell_type": "code",
   "execution_count": null,
   "id": "d6e412c3-6f26-447c-bbaa-adba163a5d4d",
   "metadata": {},
   "outputs": [],
   "source": [
    "!aws s3 cp {hosted_estimator.model_data} ./model/model.tar.gz"
   ]
  },
  {
   "cell_type": "code",
   "execution_count": null,
   "id": "14dc6cd4-6fda-44c2-bc2c-4ba4dd3ae213",
   "metadata": {},
   "outputs": [],
   "source": [
    "!tar -xvzf ./model/model.tar.gz -C ./model"
   ]
  },
  {
   "cell_type": "markdown",
   "id": "a6dd4047-cdb7-41f4-bd5f-b2403fb3fb81",
   "metadata": {},
   "source": [
    "## 4. 모델 하이퍼파라미터 튜닝(SageMaker Automatic Model Tuning)\n",
    "이제 더 나은 모델을 만들기 위해 하이퍼 파라미터를 조정해보자. \n",
    "- 문제점: 모델을 훈련시키는데 직관적으로 최적의 하이퍼 파라미터 값을 선택하는 것은 어려울 수 있으며, 일반적으로 수동으로 수행할 경우 시간이 매우 많이 소요된다. \n",
    "- 해결책: SageMaker Automatic Model Tuning은 하이퍼파라미터 조정 프로세스 자동화\n",
    "- 워크플로우:\n",
    "  - 튜닝하고자 하는 하이퍼 파라미터 지정 \n",
    "  - 각 파라미터를 튜닝할 값의 범위 지정 \n",
    "  - 최적화할 목표 메트릭을 지정(RMSE, MAPE 등) \n",
    "\n",
    "### 하이퍼파라미터 튜닝?\n",
    "- 최적의 하이퍼 파라미터 조합은 데이터와 알고리즘에 따라 달라짐. \n",
    "- 몇몇 알고리즘에는 조정 가능한 하이퍼 파라미터가 많이 있으며 그 중 몇개는 하이퍼 파라미터 값에 매우 민감함. \n",
    "- 대부분은 모델 fit과 하이퍼 파라미터 값이 비선형 관계다. \n",
    "- SageMaker Automatic Model Tuning은 하이퍼파라미터 조정 프로세스를 자동화하는 데 도움 줌. \n",
    "- 최상의 모델 성능을 가진 세트를 찾기 위해 서로 다른 하이퍼파라미터 조합으로 여러 교육 작업을 실행합니다.\n",
    "\n"
   ]
  },
  {
   "cell_type": "code",
   "execution_count": null,
   "id": "3ee937fd-1ef1-421d-8b24-411a15db92ae",
   "metadata": {},
   "outputs": [],
   "source": [
    "from sagemaker.tuner import IntegerParameter, CategoricalParameter, ContinuousParameter, HyperparameterTuner\n",
    "\n",
    "hyperparameter_ranges = {\n",
    "  'learning_rate': ContinuousParameter(0.001, 0.2, scaling_type=\"Logarithmic\"),\n",
    "  'epochs': IntegerParameter(10, 50),\n",
    "  'batch_size': IntegerParameter(64, 256),\n",
    "}\n",
    "\n",
    "metric_definitions = [{'Name': 'loss',\n",
    "                       'Regex': ' loss: ([0-9\\\\.]+)'},\n",
    "                     {'Name': 'val_loss',\n",
    "                       'Regex': ' val_loss: ([0-9\\\\.]+)'}]\n",
    "\n",
    "objective_metric_name = 'val_loss'\n",
    "objective_type = 'Minimize'\n",
    "\n",
    "tuning_tags = [{'Key': 'cost-center', 'Value': 'TF2WorkflowTuning'}]"
   ]
  },
  {
   "cell_type": "markdown",
   "id": "61506bcf-f382-489e-8c2a-389cfd7d4761",
   "metadata": {},
   "source": [
    "하이퍼 파라미터를 `HyperparameterTuner`로 지정합니다.\n",
    "- 튜닝 작업은 많은 training job이 실행된 후에 완료됩니다.\n",
    "- 병렬 처리를 사용할지도 지정할 수 있다, \n",
    "  - 아래 예시를 보면 max jobs을 15, max_parallel_jobs를 5로 두어서 3(15/5)개의 시리즈가 완료되면, 튜닝 작업이 완료된다는 것을 의미한다. \n",
    "  - 기본값은 Bayesian Optimization으로 이는 이전 training job 그룹의 결과에 영향을 받기 때문에 모든 작업을 병렬로 실행하는 것이 아니라(15/15) 병렬 작업 그룹으로 나누워서 진행한다. 만약 더 많은 병렬 작업을 사용하면 튜닝이 더 빨리 완료되지만 최적화 정확도가 저하될 수 있다.\n",
    "   \n",
    "- 하이퍼 파라미터 튜너 `fit`을 호출하여 하이퍼 파라미터 조정 작업을 시작할 수 있습니다.\n",
    "- 튜닝 작업을 완료하는 데 약 10분이 걸릴 수 있습니다. \n",
    "- 기다리는동안 tunning job 내 (개별 training 작업에 대한 메타데이터)와 (결과를 포함한 튜닝 작업의 상태)는 Hyperparameter tuning jobs 패널 내 SageMaker Console에서 확인할 수 있다."
   ]
  },
  {
   "cell_type": "code",
   "execution_count": null,
   "id": "54e11d2a-fe91-4e2b-b85b-e3000f45115e",
   "metadata": {},
   "outputs": [],
   "source": [
    "tuner = HyperparameterTuner(hosted_estimator,\n",
    "                            objective_metric_name,\n",
    "                            hyperparameter_ranges,\n",
    "                            metric_definitions,\n",
    "                            max_jobs = 15,\n",
    "                            max_parallel_jobs = 5,\n",
    "                            objective_type = objective_type,\n",
    "                            tags = tuning_tags)\n",
    "\n",
    "tuning_job_name = \"tf-2-workflow-{}\".format(strftime(\"%d-%H-%M-%S\", gmtime()))\n",
    "tuner.fit(inputs, job_name=tuning_job_name)\n",
    "tuner.wait()"
   ]
  },
  {
   "cell_type": "markdown",
   "id": "1772e948-abfb-43c6-b2c8-255f3088ec01",
   "metadata": {},
   "source": [
    "튜닝작업이 완료된 후에는 SageMaker Python SDK의 HyperparameterTuningJobAnalytics 오브젝트를 통해 성능 순서로 튜닝작업을 리스트업해 봅니다. 다양한 튜닝작업 결과 중 최고의 검증 오류(validation loss)를 가지는 top 5 작업을 조회합니다. 그리고 FinalObjectiveValue 컬럼을 참고하십시오. 튜닝작업마다 작업결과는 다양하지만 최고로 선정된 튜닝작업의 검증오류는 호스팅 환경에서 실행했던 (단순히 epoch값만 조정했던) 학습작업에 비해 현저히 낮은 것을 확인할 수 있습니다."
   ]
  },
  {
   "cell_type": "code",
   "execution_count": null,
   "id": "17243368-ad17-4aa9-9ec7-877534c0ed59",
   "metadata": {},
   "outputs": [],
   "source": [
    "tuner_metrics = sagemaker.HyperparameterTuningJobAnalytics(tuning_job_name)\n",
    "tuner_metrics.dataframe().sort_values(['FinalObjectiveValue'], ascending=True).head(5)"
   ]
  },
  {
   "cell_type": "markdown",
   "id": "f46e6d2a-3478-4061-b9a5-f55b84b64ec1",
   "metadata": {},
   "source": [
    "전체 학습시간과 학습작업 상태는 다음 라인의 코드로 확인할 수 있습니다. 자동 조기종료(early stopping) 여부의 디폴트 설정이 off 이기 때문에, 학습작업은 모두 완전하게 실행되었을 것입니다. 자세한 튜닝작업의 예제는 다음 [HPO_Analyze_TuningJob_Results.ipynb](https://github.com/aws/amazon-sagemaker-examples/blob/main/hyperparameter_tuning/analyze_results/HPO_Analyze_TuningJob_Results.ipynb) 노트북을 참조합니다."
   ]
  },
  {
   "cell_type": "code",
   "execution_count": null,
   "id": "e02f08fe-14af-409b-b885-118f58abc46a",
   "metadata": {},
   "outputs": [],
   "source": [
    "total_time = tuner_metrics.dataframe()['TrainingElapsedTimeSeconds'].sum() / 3600\n",
    "print(\"The total training time is {:.2f} hours\".format(total_time))\n",
    "tuner_metrics.dataframe()['TrainingJobStatus'].value_counts()"
   ]
  },
  {
   "cell_type": "markdown",
   "id": "86bb1271-acc1-430e-9853-11abc78f50aa",
   "metadata": {},
   "source": [
    "## 5. SageMaker Hosted training 작업 Endpoint 만들기\n",
    "자동 모델 튜닝작업에서 학습된 결과는 간단한 과정으로 운영환경에 배포할 수 있습니다.    \n",
    "가장 간편한 방식은 SageMaker 호스팅 엔드포인트를 사용하여 학습모델로부터 실시간 예측서비스를 구현하는 것입니다. (배치 변환 작업(Batch Transform jobs) 또한 비동기방식으로 대량 데이터에 대해 오프라인 예측을 실행할 수 있는 좋은 방식입니다.) 엔드포인트는 학습작업에서 생성한 Tensorflow 저장모델을 가져와서 Tensorflow 서빙 컨테이너에 배포할 것입니다. 이 작업은 다음 한 줄의 코드로 가능합니다.\n",
    "\n",
    "보다 구체적으로, HyperparameterTuner 오브젝트의 deploy 명령을 호출하면 해당 튜닝 작업에서 최고로 선택된 모델을 SageMaker 호스팅 엔드포인트에 배포하게 됩니다. 호스팅환경으로의 배포 작업은 로컬모드 엔드포인트의 작업에 비하여 수분이상 더 소요될 수 있습니다. (추론코드 프로토타이핑이 목적일 때에는 로컬모드도 좋은 옵션일 수 있습니다.)"
   ]
  },
  {
   "cell_type": "code",
   "execution_count": null,
   "id": "48cbdc62-ce4a-4ff2-b7d5-12a14fd39706",
   "metadata": {},
   "outputs": [],
   "source": [
    "tuning_predictor = tuner.deploy(initial_instance_count=1, instance_type='ml.m5.xlarge')"
   ]
  },
  {
   "cell_type": "code",
   "execution_count": null,
   "id": "e3605ab8-cbe7-4772-80cd-4e11c488aa90",
   "metadata": {},
   "outputs": [],
   "source": [
    "방금 배포한 엔드포인트에서 예측을 실행해 봅니다."
   ]
  },
  {
   "cell_type": "code",
   "execution_count": null,
   "id": "67a1edbd-b682-4823-b006-c52dbb8c9bce",
   "metadata": {},
   "outputs": [],
   "source": [
    "results = tuning_predictor.predict(x_test[:10])['predictions'] \n",
    "flat_list = [float('%.1f'%(item)) for sublist in results for item in sublist]\n",
    "print('predictions: \\t{}'.format(np.array(flat_list)))\n",
    "print('target values: \\t{}'.format(y_test[:10].round(decimals=1)))"
   ]
  },
  {
   "cell_type": "code",
   "execution_count": null,
   "id": "932b13b5-a3b1-4805-8897-99d07c2d7031",
   "metadata": {},
   "outputs": [],
   "source": [
    "추가 요금이 청구되지 않도록 엔드포인트를 삭제합니다."
   ]
  },
  {
   "cell_type": "code",
   "execution_count": null,
   "id": "4f8248d8-daad-4cdc-a7bb-f2e578708d36",
   "metadata": {},
   "outputs": [],
   "source": [
    "sess.delete_endpoint(tuning_predictor.endpoint)"
   ]
  },
  {
   "cell_type": "markdown",
   "id": "25d7a0f1-347f-443b-a53e-e411a49de26c",
   "metadata": {},
   "source": [
    "## 5. AWS Step Functions Data Science SDK를 이용하여 학습과 배포 단계 자동화"
   ]
  },
  {
   "cell_type": "code",
   "execution_count": null,
   "id": "a1a9a27f-09a0-4370-bab7-f79b66f63270",
   "metadata": {},
   "outputs": [],
   "source": []
  }
 ],
 "metadata": {
  "kernelspec": {
   "display_name": "conda_tensorflow2_p38",
   "language": "python",
   "name": "conda_tensorflow2_p38"
  },
  "language_info": {
   "codemirror_mode": {
    "name": "ipython",
    "version": 3
   },
   "file_extension": ".py",
   "mimetype": "text/x-python",
   "name": "python",
   "nbconvert_exporter": "python",
   "pygments_lexer": "ipython3",
   "version": "3.8.12"
  }
 },
 "nbformat": 4,
 "nbformat_minor": 5
}
