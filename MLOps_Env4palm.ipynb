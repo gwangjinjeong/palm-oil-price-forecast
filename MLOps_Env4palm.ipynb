{
 "cells": [
  {
   "cell_type": "markdown",
   "id": "09e1a323-769f-4ea4-bb0a-8a4e180994ca",
   "metadata": {},
   "source": [
    "# MLOps 워크플로우를 SageMaker로 구현하기\n"
   ]
  },
  {
   "cell_type": "markdown",
   "id": "df7ba624-26ec-4b34-b80f-a98e5c36b26e",
   "metadata": {},
   "source": [
    "\n",
    "# 0. 질문사항\n",
    "1. 저는 산출물을 특정 s3 버킷에 넣고 싶은데 계속 sagemaker-[region]-[region NUM]-[ACCOUNT NUMBER] 버킷에 들어가는데 어칼까요?\n",
    "2. preprocessing을 수행하는 곳에 library를 설치하고 싶은데 어떻게 해야할까요?\n",
    "3. AWS 서비스에 접근할때, client vs resource 차이점이 무엇인가요?"
   ]
  },
  {
   "cell_type": "markdown",
   "id": "df10416d-f476-4a11-ab0c-1fa3a9c977f2",
   "metadata": {},
   "source": [
    "1. 목차\n",
    "   0. 데이터 추출(Lambda)\n",
    "        - From Data lake To palm-oil-price-forecast/staged-data\n",
    "   1. 데이터 전처리(SageMaker Processing)\n",
    "        - From staged-data to golden-data\n",
    "        - S3내 데이터읽기 -> raw.csv 합치기 -> 전처리(preprocessing.py) -> golden-data/[yyyy][mm][dd][ts]_processed.csv로 저장\n",
    "        - 수행 목록 : 원자재데이터(raw.csv) 합치기, Scaling data, Fill missing data\n",
    "   2. 모델 훈련(SageMaker Train)\n",
    "       - From golden-data to trained model\n",
    "       - S3내 데이터읽기 -> AutoGluon 모델링(train.py) -> modeling/yyyymmddts/Model(.h5), Metric(leaderboard) 저장. \n",
    "<!--     - 모델 하이퍼파라미터 튜닝(SageMaker의 Automatic Model Tuning) -->\n",
    "     \n",
    "   3. 모델검증(SageMaker Processing)\n",
    "       - From trained-model\n",
    "       - S3내 leaderboard 읽기 -> Top1 모델 찾기 -> S3내 TOP1 model(.h5) 읽기 -> Inference(inference.py) -> 결과 저장-> Model Registry 등록\n",
    "   4. 모델배포(QuickSight)\n",
    "       - From validated-model to LAS VEGAS!!!!\n",
    "       - 모델검증시 예측값, 실제값 비교 자료\n",
    "       - Approve시, AWS SageMaker Batch Transform으로 배포\n",
    "       \n",
    "2. 데이터: stage-data 내 데이터\n",
    "   - Date\n",
    "   - HIGH\n",
    "   - CLOSE\n",
    "   - LOW\n",
    "   - OPEN\n",
    "   - VOLUME\n",
    "   - RIC\n",
    "   \n",
    "3. 시간소요: ?\n",
    "\n",
    "4. 질문사항\n",
    "    - 학습(train) 스크립트를 SageMaker가 아닌 **컨테이너**에서 실행하도록 하고 싶다.\n",
    "    - 하드코딩이 아니라 SageMaker, Lambda에서 자유자재로 Access Key, Secret Access Key를 꺼내쓰고 싶은데, 보안이 신경쓰인다.\n",
    "      => Secret Manager\n",
    "5. 참고한 자료\n",
    "    - https://github.com/lunarian60/sagemaker-processing/blob/main/scikit_learn_data_processing.ipynb"
   ]
  },
  {
   "cell_type": "markdown",
   "id": "7675e16d-e48c-42bc-8f63-7710f2acaef5",
   "metadata": {},
   "source": [
    "# 0. 환경구성\n",
    "- 필요한 패키지 임포트\n",
    "- 작업 디렉토리 세팅 : local에서 학습과 테스트를 하기 위해)\n",
    "- SageMaker Session: 다양한 작업을 위해)\n",
    "- S3 버킷 정의:입출력 데이터 저장\n",
    "- 버킷: SageMaker가 자동으로 생성하는 디폴트 버킷을 사용할 것입니다. 디폴트 버킷의 이름은 여러분의 Account ID와 리전을 포함하고 있습니다."
   ]
  },
  {
   "cell_type": "code",
   "execution_count": 7,
   "id": "3e85479e-7061-4007-b1b2-bd170611670b",
   "metadata": {},
   "outputs": [],
   "source": [
    "import os\n",
    "import json\n",
    "import boto3\n",
    "import pandas as pd\n",
    "import numpy as np\n",
    "import base64\n",
    "from botocore.exceptions import ClientError\n",
    "from io import StringIO\n",
    "import time\n",
    "from botocore.client import Config\n",
    "from datetime import datetime as dt\n",
    "import datetime\n",
    "\n",
    "from pytz import timezone\n",
    "from dateutil.relativedelta import *\n",
    "\n",
    "from sagemaker.debugger import Rule, rule_configs\n",
    "from sagemaker.session import TrainingInput\n",
    "import sagemaker, boto3, os\n",
    "\n",
    "from collections import OrderedDict\n",
    "\n",
    "from matplotlib import pyplot as plt\n",
    "\n",
    "import copy"
   ]
  },
  {
   "cell_type": "code",
   "execution_count": 8,
   "id": "3a3cf636-00c6-4893-ad95-6bb140f94199",
   "metadata": {},
   "outputs": [],
   "source": [
    "def get_list_in_s3(key_id : str,\n",
    "                secret_key_id : str,\n",
    "                bucket_name : str,\n",
    "                s3_path : str) -> list:\n",
    "    \n",
    "    s3 = boto3.client('s3',\n",
    "                      aws_access_key_id = ACCESS_KEY_ID,\n",
    "                      aws_secret_access_key = ACCESS_SECRET_KEY,\n",
    "                      region_name = 'ap-northeast-2')\n",
    "    paginator = s3.get_paginator('list_objects_v2')\n",
    "    pages = paginator.paginate(Bucket = bucket_name,\n",
    "                               Prefix = s3_path)  # 원하는 bucket 과 하위경로에 있는 object list # dict type\n",
    "    contents_list = [] # object list의 Contents를 가져옴\n",
    "    for page in pages:\n",
    "        for obj in page['Contents']:\n",
    "            contents_list.append(obj)\n",
    "    return contents_list\n",
    "\n",
    "def get_key_in_diclist(diclst : list):\n",
    "    flist = []\n",
    "    for dic in diclst:\n",
    "        key = dic['Key']\n",
    "        flist.append(key)\n",
    "    return flist\n",
    "\n",
    "def download_df_from_S3(key_id : str,\n",
    "                        secret_key_id : str,\n",
    "                        bucket_name : str,\n",
    "                        s3_path : str) -> pd.DataFrame:\n",
    "    try:\n",
    "        sesssion = boto3.Session(key_id, secret_key_id)\n",
    "        s3_resource = sesssion.resource('s3')\n",
    "        bucket = s3_resource.Bucket(bucket_name)\n",
    "        findData = bucket.objects.filter(Prefix=s3_path)\n",
    "        # assert len(list(filter(bool, [obj.key.split('/')[1].split('.')[0] for obj in findData]))) == 1 , '동일한 이름의 파일이 0개 혹은 2개 이상 존재합니다.'\n",
    "        for obj in bucket.objects.filter(Prefix=s3_path):\n",
    "            key = obj.key\n",
    "            if key.split('/')[1] == '': continue\n",
    "            body = obj.get()['Body']\n",
    "            csv_string = body.read().decode('utf-8')\n",
    "            df = pd.read_csv(StringIO(csv_string))\n",
    "        return df\n",
    "    except Exception as e:\n",
    "        return e\n",
    "    \n",
    "def upload_df_to_S3(key_id : str,\n",
    "                    secret_key_id : str,\n",
    "                    bucket_name : str,\n",
    "                    s3_path : str,\n",
    "                    df : pd.DataFrame) -> None:\n",
    "    try:\n",
    "        csv_buffer = StringIO()\n",
    "        df.to_csv(csv_buffer, index=False)\n",
    "        s3_resource = boto3.resource(\n",
    "            's3',\n",
    "            aws_access_key_id=key_id,\n",
    "            aws_secret_access_key=secret_key_id,\n",
    "            config=Config(signature_version='s3v4')\n",
    "        )\n",
    "        code = s3_resource.Object(bucket_name, s3_path).put(Body = csv_buffer.getvalue())\n",
    "        if code['ResponseMetadata']['HTTPStatusCode'] == 200:\n",
    "            return f'Complete uploading data to {s3_path} in AWS S3'\n",
    "        else:\n",
    "            raise Exception('\\nHTTPStautsCode is not 200\\nPlease See below error message\\n'+code)\n",
    "    except Exception as e:\n",
    "        return '\\n'+e\n",
    "\n",
    "def get_secret():\n",
    "    # See https://docs.aws.amazon.com/secretsmanager/latest/apireference/API_GetSecretValue.html\n",
    "    secret_name = \"prod/sagemaker\"\n",
    "    region_name = \"ap-northeast-2\"\n",
    "    \n",
    "    # Create a Secrets Manager client\n",
    "    session = boto3.session.Session()\n",
    "    client = session.client(\n",
    "        service_name='secretsmanager',\n",
    "        region_name=region_name\n",
    "    )\n",
    "    try:\n",
    "        get_secret_value_response = client.get_secret_value(\n",
    "            SecretId='prod/sagemaker',\n",
    "        )\n",
    "    except ClientError as e:\n",
    "        if e.response['Error']['Code'] == 'DecryptionFailureException': # Secrets Manager can't decrypt the protected secret text using the provided KMS key.\n",
    "            raise e\n",
    "        elif e.response['Error']['Code'] == 'InternalServiceErrorException': # An error occurred on the server side.\n",
    "            raise e\n",
    "        elif e.response['Error']['Code'] == 'InvalidParameterException': # You provided an invalid value for a parameter.\n",
    "            raise e\n",
    "        elif e.response['Error']['Code'] == 'InvalidRequestException': # You provided a parameter value that is not valid for the current state of the resource.\n",
    "            raise e\n",
    "        elif e.response['Error']['Code'] == 'ResourceNotFoundException': # We can't find the resource that you asked for.\n",
    "            raise e\n",
    "    else:\n",
    "        if 'SecretString' in get_secret_value_response:\n",
    "            secret = get_secret_value_response['SecretString']\n",
    "            return secret\n",
    "        else:\n",
    "            decoded_binary_secret = base64.b64decode(get_secret_value_response['SecretBinary'])\n",
    "            return decoded_binary_secret"
   ]
  },
  {
   "cell_type": "code",
   "execution_count": 3,
   "id": "d788bd42-072b-401f-a402-4a790ea4ac5f",
   "metadata": {},
   "outputs": [
    {
     "name": "stdout",
     "output_type": "stream",
     "text": [
      "Linux version 5.10.102-99.473.amzn2.x86_64 (mockbuild@ip-10-0-35-1) (gcc10-gcc (GCC) 10.3.1 20210422 (Red Hat 10.3.1-1), GNU ld version 2.35-21.amzn2.0.1) #1 SMP Wed Mar 2 19:14:12 UTC 2022\n",
      "MemTotal:       31824204 kB\n",
      "16\n"
     ]
    }
   ],
   "source": [
    "%%bash\n",
    "cat /proc/version\n",
    "cat /proc/meminfo | grep MemTotal\n",
    "grep -c processor /proc/cpuinfo\n",
    "# cat /proc/cpuinfo"
   ]
  },
  {
   "cell_type": "code",
   "execution_count": 4,
   "id": "2def3f34-008e-493d-ac74-e7b48ac6ec31",
   "metadata": {},
   "outputs": [],
   "source": [
    "keychain = json.loads(get_secret())\n",
    "ACCESS_KEY_ID = keychain['ACCESS_KEY_ID_ent']\n",
    "ACCESS_SECRET_KEY = keychain['ACCESS_SECRET_KEY_ent']\n",
    "\n",
    "BUCKET_NAME_USECASE = keychain['BUCKET_NAME_USECASE_ent']\n",
    "S3_PATH_STAGE = keychain['S3_PATH_STAGE']\n",
    "S3_PATH_GOLDEN = keychain['S3_PATH_GOLDEN']\n",
    "S3_PATH_TRAIN = keychain['S3_PATH_TRAIN']\n",
    "S3_PATH_log = keychain['S3_PATH_LOG']\n",
    "\n",
    "boto3_session = boto3.Session(ACCESS_KEY_ID, ACCESS_SECRET_KEY)\n",
    "sm_session = sagemaker.Session(boto_session = boto3_session)\n",
    "region = boto3_session.region_name\n",
    "\n",
    "s3_resource = boto3_session.resource('s3')\n",
    "bucket = s3_resource.Bucket(BUCKET_NAME_USECASE)\n",
    "s3_client = boto3_session.client('s3')\n"
   ]
  },
  {
   "cell_type": "markdown",
   "id": "a333abc8-64b5-4b2a-aeba-acfe7fe9cf8b",
   "metadata": {
    "tags": []
   },
   "source": [
    "# 1. SageMaker Processing을 이용한 데이터 전처리(정제)\n",
    "**워크플로우 요약**\n",
    "   1. Stage 데이터셋 가지고 오기\n",
    "   2. First preprocessing: ric 선정 -> 컬럼삭제 -> 형변환 -> 훈련을 위한 dataset로 만들기\n",
    "   3. SageMaker Processing을 이용한 데이터 전처리   \n",
    "   4. trainset, testset 나누기\n",
    "   5. S3 버킷내 golden-data 폴더에 업로드\n",
    "   6. 학습과 테스트를 위해 레이블 생성 & 저장.\n",
    "   \n",
    "**SageMaker Processing?**\n",
    "- SageMaker 노트북 서버와 분리된 독립적 환경에서 테라바이트 수준의 데이터를 변환처리 가능.   \n",
    "- 일반적으로 Prototyping 작업에 사용되는 노트북은 SageMaker 일반 사양에서 실행하며 전처리, 학습, 모델 호스팅과 같은 작업은 강력한 사양의 인스턴스에서 실행.    \n",
    "- SageMaker Processing은 Scikit-learn이 기본 탑재되어 있으며 **Bring Your Own Container** 옵션으로 다양한 데이터 정제 작업을 별도 독립된 환경에서 실행 가능"
   ]
  },
  {
   "cell_type": "markdown",
   "id": "f4798bc0-0a77-4974-8cb0-14d504e55309",
   "metadata": {},
   "source": [
    "## 1) Stage Data 폴더 내 데이터들 리스트로 가져오기\n",
    "- S3 Stage data 버킷 내 데이터들 읽기"
   ]
  },
  {
   "cell_type": "code",
   "execution_count": 5,
   "id": "4efc7f1e-ca3a-4d8d-ba81-8c6889da7c56",
   "metadata": {},
   "outputs": [
    {
     "data": {
      "text/plain": [
       "datetime.datetime(2022, 10, 25, 13, 9, 8, 929366)"
      ]
     },
     "execution_count": 5,
     "metadata": {},
     "output_type": "execute_result"
    }
   ],
   "source": [
    "dt.today()"
   ]
  },
  {
   "cell_type": "code",
   "execution_count": 6,
   "id": "513508d0-d0f8-4c1f-9fbe-4708f255ef3b",
   "metadata": {},
   "outputs": [
    {
     "name": "stdout",
     "output_type": "stream",
     "text": [
      "데이터수: 12499\n",
      "마지막 데이터 날짜: staged-data/2022/10/24/1666592130.0/raw.csv\n"
     ]
    }
   ],
   "source": [
    "# 폴더 내 파일 리스트 가지고 옴\n",
    "path_list = []\n",
    "\n",
    "list_in_stage_dir = get_list_in_s3(ACCESS_KEY_ID,\n",
    "                                   ACCESS_SECRET_KEY,\n",
    "                                   BUCKET_NAME_USECASE,\n",
    "                                   S3_PATH_STAGE)\n",
    "for dic in list_in_stage_dir:\n",
    "    key = dic['Key']\n",
    "    if key[-1] == '/': continue # 만약 폴더형태이면, path 안가지고온다.\n",
    "    path_list.append(key)\n",
    "print('데이터수:',len(path_list))\n",
    "print('마지막 데이터 날짜:',path_list[-1])"
   ]
  },
  {
   "cell_type": "markdown",
   "id": "5b2a8102-109e-4774-83c2-9f18326af41f",
   "metadata": {},
   "source": [
    "## 2) 추출한 데이터 전처리를 위해 묶기\n",
    "- golden-data/[yyyy]/[mm]/[dd]/[ts].csv 형태로 저장\n",
    "- From staged-data To golden-data"
   ]
  },
  {
   "cell_type": "code",
   "execution_count": 45,
   "id": "b7baddf5-0c0a-4106-b1ac-2b618fd8bbeb",
   "metadata": {},
   "outputs": [
    {
     "data": {
      "text/plain": [
       "['1666735766.csv']"
      ]
     },
     "execution_count": 45,
     "metadata": {},
     "output_type": "execute_result"
    }
   ],
   "source": [
    "os.listdir(raw_dir)"
   ]
  },
  {
   "cell_type": "code",
   "execution_count": 46,
   "id": "cce544d2-038f-48a1-940a-5057953b1fb8",
   "metadata": {},
   "outputs": [
    {
     "name": "stdout",
     "output_type": "stream",
     "text": [
      "CPU times: user 19min 26s, sys: 1min 30s, total: 20min 57s\n",
      "Wall time: 35min 32s\n"
     ]
    }
   ],
   "source": [
    "%%time\n",
    "# 파일 리스트로 부터 파일들 가지고 와서 한개의 데이터셋으로 붙이기\n",
    "start = time.time()\n",
    "\n",
    "df_raw = pd.DataFrame()\n",
    "KST = dt.today() + relativedelta(hours=9)\n",
    "raw_dir = os.path.join(os.getcwd(),'data/raw', KST.strftime('%Y/%m/%d'))\n",
    "\n",
    "if not os.path.exists(raw_dir): #만약 raw_dir이라는 변수가 선언조차 안되었다 => 오늘날짜의 데이터 추출이 안되었다는 뜻이므로 추출 수행\n",
    "    for stage_data in path_list: # stage-data 내 데이터들\n",
    "        df_tmp = download_df_from_S3(ACCESS_KEY_ID,\n",
    "                                     ACCESS_SECRET_KEY,\n",
    "                                     BUCKET_NAME_USECASE,\n",
    "                                     stage_data)\n",
    "        df_raw = pd.concat([df_raw, df_tmp])\n",
    "    os.makedirs(raw_dir, exist_ok=True) # 폴더 생성\n",
    "    df_raw = df_raw.reset_index(drop=True)\n",
    "    df_raw.to_csv(os.path.join(raw_dir, # 로컬에 하나 저장하자.\n",
    "                               '{}.csv'.format(int(time.mktime(KST.timetuple())))),\n",
    "                  index=False)\n",
    "    \n",
    "else:\n",
    "    raw_dir_ts = os.path.join(raw_dir, os.listdir(raw_dir)[0])\n",
    "    df_raw = pd.read_csv(os.path.join(raw_dir_ts,\n",
    "                                      '{}.csv'.format(int(time.mktime(KST.timetuple())))))\n",
    "upload_df_to_S3(ACCESS_KEY_ID,\n",
    "                ACCESS_SECRET_KEY,\n",
    "                BUCKET_NAME_USECASE,\n",
    "                os.path.join(S3_PATH_GOLDEN,\n",
    "                             KST.strftime('%Y/%m/%d'),\n",
    "                             '{}.csv'.format('stage'),\n",
    "                df_raw)\n",
    "end = time.time()"
   ]
  },
  {
   "cell_type": "code",
   "execution_count": 47,
   "id": "061612b3-4067-4140-b5b6-70cf5428b587",
   "metadata": {},
   "outputs": [
    {
     "name": "stdout",
     "output_type": "stream",
     "text": [
      "Staging Data 시간 : 2132.1 sec\n",
      "Staging Data 시간 : 35.5 min\n"
     ]
    }
   ],
   "source": [
    "print(f\"Staging Data 시간 : {end - start:.1f} sec\")\n",
    "print(f\"Staging Data 시간 : {((end - start)/60):.1f} min\")"
   ]
  },
  {
   "cell_type": "code",
   "execution_count": 78,
   "id": "70dd8930-3e4a-4cfc-8568-087b98271bb5",
   "metadata": {},
   "outputs": [
    {
     "data": {
      "text/plain": [
       "'Complete uploading data to golden-data/2022/10/26/stage.csv in AWS S3'"
      ]
     },
     "execution_count": 78,
     "metadata": {},
     "output_type": "execute_result"
    }
   ],
   "source": [
    "upload_df_to_S3(ACCESS_KEY_ID,\n",
    "                ACCESS_SECRET_KEY,\n",
    "                BUCKET_NAME_USECASE,\n",
    "                os.path.join(S3_PATH_GOLDEN,\n",
    "                             KST.strftime('%Y/%m/%d'),\n",
    "                             '{}.csv'.format('stage')),\n",
    "                df_raw)"
   ]
  },
  {
   "cell_type": "markdown",
   "id": "12e0a481-fb36-468d-89f1-8870a90615e2",
   "metadata": {},
   "source": [
    "\\[2022년 10월 20일 기준\\]   \n",
    "Download and Concat Staging Data 시간 : **2206.9 sec(36.8 min)**"
   ]
  },
  {
   "cell_type": "markdown",
   "id": "9f19c30f-0479-4c93-83ea-d98b8c494836",
   "metadata": {},
   "source": [
    "\\[2022년 10월 25일 기준\\]   \n",
    "Download and Concat Staging Data 시간 : **2132.1 sec(35.5 min)**"
   ]
  },
  {
   "cell_type": "markdown",
   "id": "8500f740-f44c-496c-9203-1999aef4f544",
   "metadata": {
    "jp-MarkdownHeadingCollapsed": true,
    "tags": []
   },
   "source": [
    "### (별첨)merge를 사용하지 못하는 이유"
   ]
  },
  {
   "cell_type": "code",
   "execution_count": 85,
   "id": "47aca428-3941-4476-a4b0-dbff20ead723",
   "metadata": {},
   "outputs": [],
   "source": [
    "test_merge_raw = pd.DataFrame(columns=['Date','HIGH','LOW','OPEN','CLOSE','VOLUME','RIC'])\n",
    "test_merge_tmp1 = df_tmp\n",
    "test_merge_tmp2 = df_tmp2"
   ]
  },
  {
   "cell_type": "code",
   "execution_count": 86,
   "id": "a6558b3c-6e1f-4316-b2af-d9bb0b797740",
   "metadata": {},
   "outputs": [
    {
     "data": {
      "text/html": [
       "<div>\n",
       "<style scoped>\n",
       "    .dataframe tbody tr th:only-of-type {\n",
       "        vertical-align: middle;\n",
       "    }\n",
       "\n",
       "    .dataframe tbody tr th {\n",
       "        vertical-align: top;\n",
       "    }\n",
       "\n",
       "    .dataframe thead th {\n",
       "        text-align: right;\n",
       "    }\n",
       "</style>\n",
       "<table border=\"1\" class=\"dataframe\">\n",
       "  <thead>\n",
       "    <tr style=\"text-align: right;\">\n",
       "      <th></th>\n",
       "      <th>Date</th>\n",
       "      <th>HIGH</th>\n",
       "      <th>LOW</th>\n",
       "      <th>OPEN</th>\n",
       "      <th>CLOSE</th>\n",
       "      <th>VOLUME</th>\n",
       "      <th>RIC</th>\n",
       "    </tr>\n",
       "  </thead>\n",
       "  <tbody>\n",
       "  </tbody>\n",
       "</table>\n",
       "</div>"
      ],
      "text/plain": [
       "Empty DataFrame\n",
       "Columns: [Date, HIGH, LOW, OPEN, CLOSE, VOLUME, RIC]\n",
       "Index: []"
      ]
     },
     "execution_count": 86,
     "metadata": {},
     "output_type": "execute_result"
    }
   ],
   "source": [
    "test_merge_raw"
   ]
  },
  {
   "cell_type": "code",
   "execution_count": 88,
   "id": "03685e9a-90c6-4e6c-98dd-7f4ec8c1c10c",
   "metadata": {},
   "outputs": [
    {
     "data": {
      "text/html": [
       "<div>\n",
       "<style scoped>\n",
       "    .dataframe tbody tr th:only-of-type {\n",
       "        vertical-align: middle;\n",
       "    }\n",
       "\n",
       "    .dataframe tbody tr th {\n",
       "        vertical-align: top;\n",
       "    }\n",
       "\n",
       "    .dataframe thead th {\n",
       "        text-align: right;\n",
       "    }\n",
       "</style>\n",
       "<table border=\"1\" class=\"dataframe\">\n",
       "  <thead>\n",
       "    <tr style=\"text-align: right;\">\n",
       "      <th></th>\n",
       "      <th>Date</th>\n",
       "      <th>HIGH</th>\n",
       "      <th>LOW</th>\n",
       "      <th>OPEN</th>\n",
       "      <th>CLOSE</th>\n",
       "      <th>VOLUME</th>\n",
       "      <th>RIC</th>\n",
       "    </tr>\n",
       "  </thead>\n",
       "  <tbody>\n",
       "    <tr>\n",
       "      <th>0</th>\n",
       "      <td>1980-01-01</td>\n",
       "      <td>NaN</td>\n",
       "      <td>NaN</td>\n",
       "      <td>NaN</td>\n",
       "      <td>879.38</td>\n",
       "      <td>NaN</td>\n",
       "      <td>HSI</td>\n",
       "    </tr>\n",
       "    <tr>\n",
       "      <th>1</th>\n",
       "      <td>1980-01-01</td>\n",
       "      <td>107.94</td>\n",
       "      <td>107.94</td>\n",
       "      <td>107.94</td>\n",
       "      <td>107.94</td>\n",
       "      <td>NaN</td>\n",
       "      <td>SPX</td>\n",
       "    </tr>\n",
       "  </tbody>\n",
       "</table>\n",
       "</div>"
      ],
      "text/plain": [
       "         Date    HIGH     LOW    OPEN   CLOSE  VOLUME  RIC\n",
       "0  1980-01-01     NaN     NaN     NaN  879.38     NaN  HSI\n",
       "1  1980-01-01  107.94  107.94  107.94  107.94     NaN  SPX"
      ]
     },
     "execution_count": 88,
     "metadata": {},
     "output_type": "execute_result"
    }
   ],
   "source": [
    "test_merge_tmp1.head()"
   ]
  },
  {
   "cell_type": "code",
   "execution_count": 89,
   "id": "12ec6ef2-b330-4cb9-a28f-027971bc0023",
   "metadata": {},
   "outputs": [
    {
     "data": {
      "text/html": [
       "<div>\n",
       "<style scoped>\n",
       "    .dataframe tbody tr th:only-of-type {\n",
       "        vertical-align: middle;\n",
       "    }\n",
       "\n",
       "    .dataframe tbody tr th {\n",
       "        vertical-align: top;\n",
       "    }\n",
       "\n",
       "    .dataframe thead th {\n",
       "        text-align: right;\n",
       "    }\n",
       "</style>\n",
       "<table border=\"1\" class=\"dataframe\">\n",
       "  <thead>\n",
       "    <tr style=\"text-align: right;\">\n",
       "      <th></th>\n",
       "      <th>Date</th>\n",
       "      <th>HIGH</th>\n",
       "      <th>LOW</th>\n",
       "      <th>OPEN</th>\n",
       "      <th>CLOSE</th>\n",
       "      <th>VOLUME</th>\n",
       "      <th>RIC</th>\n",
       "    </tr>\n",
       "  </thead>\n",
       "  <tbody>\n",
       "    <tr>\n",
       "      <th>0</th>\n",
       "      <td>1980-01-03</td>\n",
       "      <td>23.99</td>\n",
       "      <td>23.72</td>\n",
       "      <td>23.85</td>\n",
       "      <td>23.9200</td>\n",
       "      <td>NaN</td>\n",
       "      <td>BOc1</td>\n",
       "    </tr>\n",
       "    <tr>\n",
       "      <th>1</th>\n",
       "      <td>1980-01-03</td>\n",
       "      <td>24.35</td>\n",
       "      <td>24.02</td>\n",
       "      <td>24.15</td>\n",
       "      <td>24.3200</td>\n",
       "      <td>NaN</td>\n",
       "      <td>BOc2</td>\n",
       "    </tr>\n",
       "    <tr>\n",
       "      <th>2</th>\n",
       "      <td>1980-01-03</td>\n",
       "      <td>24.65</td>\n",
       "      <td>24.40</td>\n",
       "      <td>24.55</td>\n",
       "      <td>24.6200</td>\n",
       "      <td>NaN</td>\n",
       "      <td>BOc3</td>\n",
       "    </tr>\n",
       "    <tr>\n",
       "      <th>3</th>\n",
       "      <td>1980-01-03</td>\n",
       "      <td>NaN</td>\n",
       "      <td>NaN</td>\n",
       "      <td>NaN</td>\n",
       "      <td>1.1703</td>\n",
       "      <td>NaN</td>\n",
       "      <td>CAD=</td>\n",
       "    </tr>\n",
       "    <tr>\n",
       "      <th>4</th>\n",
       "      <td>1980-01-03</td>\n",
       "      <td>NaN</td>\n",
       "      <td>NaN</td>\n",
       "      <td>NaN</td>\n",
       "      <td>1.5177</td>\n",
       "      <td>NaN</td>\n",
       "      <td>EUR=</td>\n",
       "    </tr>\n",
       "  </tbody>\n",
       "</table>\n",
       "</div>"
      ],
      "text/plain": [
       "         Date   HIGH    LOW   OPEN    CLOSE  VOLUME   RIC\n",
       "0  1980-01-03  23.99  23.72  23.85  23.9200     NaN  BOc1\n",
       "1  1980-01-03  24.35  24.02  24.15  24.3200     NaN  BOc2\n",
       "2  1980-01-03  24.65  24.40  24.55  24.6200     NaN  BOc3\n",
       "3  1980-01-03    NaN    NaN    NaN   1.1703     NaN  CAD=\n",
       "4  1980-01-03    NaN    NaN    NaN   1.5177     NaN  EUR="
      ]
     },
     "execution_count": 89,
     "metadata": {},
     "output_type": "execute_result"
    }
   ],
   "source": [
    "test_merge_tmp2.head()"
   ]
  },
  {
   "cell_type": "code",
   "execution_count": 87,
   "id": "41776cda-94b1-43a3-afda-c18b532fff60",
   "metadata": {},
   "outputs": [
    {
     "data": {
      "text/html": [
       "<div>\n",
       "<style scoped>\n",
       "    .dataframe tbody tr th:only-of-type {\n",
       "        vertical-align: middle;\n",
       "    }\n",
       "\n",
       "    .dataframe tbody tr th {\n",
       "        vertical-align: top;\n",
       "    }\n",
       "\n",
       "    .dataframe thead th {\n",
       "        text-align: right;\n",
       "    }\n",
       "</style>\n",
       "<table border=\"1\" class=\"dataframe\">\n",
       "  <thead>\n",
       "    <tr style=\"text-align: right;\">\n",
       "      <th></th>\n",
       "      <th>Date_x</th>\n",
       "      <th>HIGH_x</th>\n",
       "      <th>LOW_x</th>\n",
       "      <th>OPEN_x</th>\n",
       "      <th>CLOSE_x</th>\n",
       "      <th>VOLUME_x</th>\n",
       "      <th>Date_y</th>\n",
       "      <th>HIGH_y</th>\n",
       "      <th>LOW_y</th>\n",
       "      <th>OPEN_y</th>\n",
       "      <th>CLOSE_y</th>\n",
       "      <th>VOLUME_y</th>\n",
       "      <th>RIC</th>\n",
       "    </tr>\n",
       "  </thead>\n",
       "  <tbody>\n",
       "    <tr>\n",
       "      <th>0</th>\n",
       "      <td>NaN</td>\n",
       "      <td>NaN</td>\n",
       "      <td>NaN</td>\n",
       "      <td>NaN</td>\n",
       "      <td>NaN</td>\n",
       "      <td>NaN</td>\n",
       "      <td>1980-01-01</td>\n",
       "      <td>NaN</td>\n",
       "      <td>NaN</td>\n",
       "      <td>NaN</td>\n",
       "      <td>879.38</td>\n",
       "      <td>NaN</td>\n",
       "      <td>HSI</td>\n",
       "    </tr>\n",
       "    <tr>\n",
       "      <th>1</th>\n",
       "      <td>NaN</td>\n",
       "      <td>NaN</td>\n",
       "      <td>NaN</td>\n",
       "      <td>NaN</td>\n",
       "      <td>NaN</td>\n",
       "      <td>NaN</td>\n",
       "      <td>1980-01-01</td>\n",
       "      <td>107.94</td>\n",
       "      <td>107.94</td>\n",
       "      <td>107.94</td>\n",
       "      <td>107.94</td>\n",
       "      <td>NaN</td>\n",
       "      <td>SPX</td>\n",
       "    </tr>\n",
       "  </tbody>\n",
       "</table>\n",
       "</div>"
      ],
      "text/plain": [
       "  Date_x HIGH_x LOW_x OPEN_x CLOSE_x VOLUME_x      Date_y  HIGH_y   LOW_y  \\\n",
       "0    NaN    NaN   NaN    NaN     NaN      NaN  1980-01-01     NaN     NaN   \n",
       "1    NaN    NaN   NaN    NaN     NaN      NaN  1980-01-01  107.94  107.94   \n",
       "\n",
       "   OPEN_y  CLOSE_y  VOLUME_y  RIC  \n",
       "0     NaN   879.38       NaN  HSI  \n",
       "1  107.94   107.94       NaN  SPX  "
      ]
     },
     "execution_count": 87,
     "metadata": {},
     "output_type": "execute_result"
    }
   ],
   "source": [
    "pd.merge(test_merge_raw,\n",
    "         test_merge_tmp1, \n",
    "         how = 'outer',\n",
    "         on = 'RIC')"
   ]
  },
  {
   "cell_type": "code",
   "execution_count": 90,
   "id": "762da5b1-26b1-48e3-9f11-25ba14267e3d",
   "metadata": {},
   "outputs": [
    {
     "data": {
      "text/html": [
       "<div>\n",
       "<style scoped>\n",
       "    .dataframe tbody tr th:only-of-type {\n",
       "        vertical-align: middle;\n",
       "    }\n",
       "\n",
       "    .dataframe tbody tr th {\n",
       "        vertical-align: top;\n",
       "    }\n",
       "\n",
       "    .dataframe thead th {\n",
       "        text-align: right;\n",
       "    }\n",
       "</style>\n",
       "<table border=\"1\" class=\"dataframe\">\n",
       "  <thead>\n",
       "    <tr style=\"text-align: right;\">\n",
       "      <th></th>\n",
       "      <th>Date</th>\n",
       "      <th>HIGH</th>\n",
       "      <th>LOW</th>\n",
       "      <th>OPEN</th>\n",
       "      <th>CLOSE</th>\n",
       "      <th>VOLUME</th>\n",
       "      <th>RIC</th>\n",
       "    </tr>\n",
       "  </thead>\n",
       "  <tbody>\n",
       "  </tbody>\n",
       "</table>\n",
       "</div>"
      ],
      "text/plain": [
       "Empty DataFrame\n",
       "Columns: [Date, HIGH, LOW, OPEN, CLOSE, VOLUME, RIC]\n",
       "Index: []"
      ]
     },
     "execution_count": 90,
     "metadata": {},
     "output_type": "execute_result"
    }
   ],
   "source": [
    "pd.merge(test_merge_raw,\n",
    "         test_merge_tmp1) \n",
    "         # how = 'outer',\n",
    "         # on = 'RIC')"
   ]
  },
  {
   "cell_type": "code",
   "execution_count": 91,
   "id": "27f0a6f8-927a-40d5-a3dd-edafe5607ea1",
   "metadata": {},
   "outputs": [
    {
     "data": {
      "text/html": [
       "<div>\n",
       "<style scoped>\n",
       "    .dataframe tbody tr th:only-of-type {\n",
       "        vertical-align: middle;\n",
       "    }\n",
       "\n",
       "    .dataframe tbody tr th {\n",
       "        vertical-align: top;\n",
       "    }\n",
       "\n",
       "    .dataframe thead th {\n",
       "        text-align: right;\n",
       "    }\n",
       "</style>\n",
       "<table border=\"1\" class=\"dataframe\">\n",
       "  <thead>\n",
       "    <tr style=\"text-align: right;\">\n",
       "      <th></th>\n",
       "      <th>Date</th>\n",
       "      <th>HIGH</th>\n",
       "      <th>LOW</th>\n",
       "      <th>OPEN</th>\n",
       "      <th>CLOSE</th>\n",
       "      <th>VOLUME</th>\n",
       "      <th>RIC</th>\n",
       "    </tr>\n",
       "  </thead>\n",
       "  <tbody>\n",
       "    <tr>\n",
       "      <th>0</th>\n",
       "      <td>1980-01-01</td>\n",
       "      <td>NaN</td>\n",
       "      <td>NaN</td>\n",
       "      <td>NaN</td>\n",
       "      <td>879.38</td>\n",
       "      <td>NaN</td>\n",
       "      <td>HSI</td>\n",
       "    </tr>\n",
       "    <tr>\n",
       "      <th>1</th>\n",
       "      <td>1980-01-01</td>\n",
       "      <td>107.94</td>\n",
       "      <td>107.94</td>\n",
       "      <td>107.94</td>\n",
       "      <td>107.94</td>\n",
       "      <td>NaN</td>\n",
       "      <td>SPX</td>\n",
       "    </tr>\n",
       "  </tbody>\n",
       "</table>\n",
       "</div>"
      ],
      "text/plain": [
       "         Date    HIGH     LOW    OPEN   CLOSE  VOLUME  RIC\n",
       "0  1980-01-01     NaN     NaN     NaN  879.38     NaN  HSI\n",
       "1  1980-01-01  107.94  107.94  107.94  107.94     NaN  SPX"
      ]
     },
     "execution_count": 91,
     "metadata": {},
     "output_type": "execute_result"
    }
   ],
   "source": [
    "pd.concat([test_merge_raw,\n",
    "           test_merge_tmp1])"
   ]
  },
  {
   "cell_type": "markdown",
   "id": "bceac2cc-99fc-40c8-8b3e-fe25d0e7a3dd",
   "metadata": {},
   "source": [
    "### ** 3)과 4)는 preprocessing으로 처리할 부분이다. \n",
    "- 2)까지는 Lambda로 combine staging data하면 되긴 하는데, Sagemaker로 합칠 수 없을까?\n",
    "- 3), 4)는 preprocessing으로 충분히 할 수 있다."
   ]
  },
  {
   "cell_type": "markdown",
   "id": "fb68ec2a-cb62-4a03-bb7a-fb4ab6ef69a9",
   "metadata": {},
   "source": [
    "- 상단의 데이터는 Merge로 했을때의 소요시간과 비교해서 알맞는것으로 설정하자\n",
    "    => 못쓴다.\n",
    "- Lambda로 Golden-data로 옮겨주는 작업을 주기적으로 수행하도록 하자.\n",
    "    => 되나?"
   ]
  },
  {
   "cell_type": "code",
   "execution_count": 48,
   "id": "b535d821-a3eb-4e74-b3ad-3324258f7df0",
   "metadata": {},
   "outputs": [
    {
     "data": {
      "text/html": [
       "<div>\n",
       "<style scoped>\n",
       "    .dataframe tbody tr th:only-of-type {\n",
       "        vertical-align: middle;\n",
       "    }\n",
       "\n",
       "    .dataframe tbody tr th {\n",
       "        vertical-align: top;\n",
       "    }\n",
       "\n",
       "    .dataframe thead th {\n",
       "        text-align: right;\n",
       "    }\n",
       "</style>\n",
       "<table border=\"1\" class=\"dataframe\">\n",
       "  <thead>\n",
       "    <tr style=\"text-align: right;\">\n",
       "      <th></th>\n",
       "      <th>Date</th>\n",
       "      <th>HIGH</th>\n",
       "      <th>LOW</th>\n",
       "      <th>OPEN</th>\n",
       "      <th>CLOSE</th>\n",
       "      <th>VOLUME</th>\n",
       "      <th>RIC</th>\n",
       "    </tr>\n",
       "  </thead>\n",
       "  <tbody>\n",
       "    <tr>\n",
       "      <th>0</th>\n",
       "      <td>1980-01-01</td>\n",
       "      <td>NaN</td>\n",
       "      <td>NaN</td>\n",
       "      <td>NaN</td>\n",
       "      <td>879.38</td>\n",
       "      <td>NaN</td>\n",
       "      <td>HSI</td>\n",
       "    </tr>\n",
       "    <tr>\n",
       "      <th>1</th>\n",
       "      <td>1980-01-01</td>\n",
       "      <td>107.94</td>\n",
       "      <td>107.94</td>\n",
       "      <td>107.94</td>\n",
       "      <td>107.94</td>\n",
       "      <td>NaN</td>\n",
       "      <td>SPX</td>\n",
       "    </tr>\n",
       "    <tr>\n",
       "      <th>2</th>\n",
       "      <td>1980-01-02</td>\n",
       "      <td>23.98</td>\n",
       "      <td>23.63</td>\n",
       "      <td>23.80</td>\n",
       "      <td>23.83</td>\n",
       "      <td>NaN</td>\n",
       "      <td>BOc1</td>\n",
       "    </tr>\n",
       "    <tr>\n",
       "      <th>3</th>\n",
       "      <td>1980-01-02</td>\n",
       "      <td>24.35</td>\n",
       "      <td>24.00</td>\n",
       "      <td>24.20</td>\n",
       "      <td>24.13</td>\n",
       "      <td>NaN</td>\n",
       "      <td>BOc2</td>\n",
       "    </tr>\n",
       "    <tr>\n",
       "      <th>4</th>\n",
       "      <td>1980-01-02</td>\n",
       "      <td>24.70</td>\n",
       "      <td>24.38</td>\n",
       "      <td>24.65</td>\n",
       "      <td>24.50</td>\n",
       "      <td>NaN</td>\n",
       "      <td>BOc3</td>\n",
       "    </tr>\n",
       "    <tr>\n",
       "      <th>...</th>\n",
       "      <td>...</td>\n",
       "      <td>...</td>\n",
       "      <td>...</td>\n",
       "      <td>...</td>\n",
       "      <td>...</td>\n",
       "      <td>...</td>\n",
       "      <td>...</td>\n",
       "    </tr>\n",
       "    <tr>\n",
       "      <th>893395</th>\n",
       "      <td>2022-10-24</td>\n",
       "      <td>1402.75</td>\n",
       "      <td>1377.75</td>\n",
       "      <td>1402.75</td>\n",
       "      <td>1381.50</td>\n",
       "      <td>93674.0</td>\n",
       "      <td>Sc2</td>\n",
       "    </tr>\n",
       "    <tr>\n",
       "      <th>893396</th>\n",
       "      <td>2022-10-24</td>\n",
       "      <td>1410.00</td>\n",
       "      <td>1386.00</td>\n",
       "      <td>1410.00</td>\n",
       "      <td>1389.25</td>\n",
       "      <td>22126.0</td>\n",
       "      <td>Sc3</td>\n",
       "    </tr>\n",
       "    <tr>\n",
       "      <th>893397</th>\n",
       "      <td>2022-10-24</td>\n",
       "      <td>856.50</td>\n",
       "      <td>833.50</td>\n",
       "      <td>853.75</td>\n",
       "      <td>839.50</td>\n",
       "      <td>36624.0</td>\n",
       "      <td>Wc1</td>\n",
       "    </tr>\n",
       "    <tr>\n",
       "      <th>893398</th>\n",
       "      <td>2022-10-24</td>\n",
       "      <td>875.75</td>\n",
       "      <td>853.25</td>\n",
       "      <td>873.00</td>\n",
       "      <td>858.25</td>\n",
       "      <td>13915.0</td>\n",
       "      <td>Wc2</td>\n",
       "    </tr>\n",
       "    <tr>\n",
       "      <th>893399</th>\n",
       "      <td>2022-10-24</td>\n",
       "      <td>885.25</td>\n",
       "      <td>863.75</td>\n",
       "      <td>882.50</td>\n",
       "      <td>868.50</td>\n",
       "      <td>5453.0</td>\n",
       "      <td>Wc3</td>\n",
       "    </tr>\n",
       "  </tbody>\n",
       "</table>\n",
       "<p>893400 rows × 7 columns</p>\n",
       "</div>"
      ],
      "text/plain": [
       "              Date     HIGH      LOW     OPEN    CLOSE   VOLUME   RIC\n",
       "0       1980-01-01      NaN      NaN      NaN   879.38      NaN   HSI\n",
       "1       1980-01-01   107.94   107.94   107.94   107.94      NaN   SPX\n",
       "2       1980-01-02    23.98    23.63    23.80    23.83      NaN  BOc1\n",
       "3       1980-01-02    24.35    24.00    24.20    24.13      NaN  BOc2\n",
       "4       1980-01-02    24.70    24.38    24.65    24.50      NaN  BOc3\n",
       "...            ...      ...      ...      ...      ...      ...   ...\n",
       "893395  2022-10-24  1402.75  1377.75  1402.75  1381.50  93674.0   Sc2\n",
       "893396  2022-10-24  1410.00  1386.00  1410.00  1389.25  22126.0   Sc3\n",
       "893397  2022-10-24   856.50   833.50   853.75   839.50  36624.0   Wc1\n",
       "893398  2022-10-24   875.75   853.25   873.00   858.25  13915.0   Wc2\n",
       "893399  2022-10-24   885.25   863.75   882.50   868.50   5453.0   Wc3\n",
       "\n",
       "[893400 rows x 7 columns]"
      ]
     },
     "execution_count": 48,
     "metadata": {},
     "output_type": "execute_result"
    }
   ],
   "source": [
    "df_raw"
   ]
  },
  {
   "cell_type": "markdown",
   "id": "3cd1ad7a-b965-408b-aedf-b3041c5a5f46",
   "metadata": {},
   "source": [
    "**시각화 테스트**"
   ]
  },
  {
   "cell_type": "code",
   "execution_count": 49,
   "id": "e28ccddc-ba44-484e-adaa-ddffcf008a66",
   "metadata": {},
   "outputs": [
    {
     "data": {
      "image/png": "[encoded data removed]",
      "text/plain": [
       "<Figure size 600x400 with 1 Axes>"
      ]
     },
     "metadata": {
      "needs_background": "light"
     },
     "output_type": "display_data"
    }
   ],
   "source": [
    "test = df_raw[df_raw['Date'] > '2022-09'].reset_index(drop=True)\n",
    "test = test[test['RIC'] == 'FCPOc3']\n",
    "test.loc[:, \"Date\"] = pd.to_datetime(test.loc[:, \"Date\"])\n",
    "plt.figure(dpi=100)\n",
    "plt.plot(test['Date'].values,\n",
    "         test['CLOSE'].values,\n",
    "         'black', label=\"Train data\")\n",
    "plt.xlabel('Time', labelpad=15)\n",
    "plt.ylabel('Price(MYR)', labelpad=20)\n",
    "\n",
    "plt.title(f'Palm Oil Market Trend')\n",
    "plt.legend()\n",
    "plt.show()"
   ]
  },
  {
   "cell_type": "markdown",
   "id": "365a1015-3fe8-4897-8d24-b945dc0665c5",
   "metadata": {},
   "source": [
    "## 3) Data cleansing\n",
    "- EDA에서 선정한 RIC 코드 선별\n",
    "- 컬럼삭제\n",
    "- 형변환 \n",
    "- EDA를 통한 Date별 데이터 선별\n",
    "- 종합하여 1차 dataset로 만들기"
   ]
  },
  {
   "cell_type": "code",
   "execution_count": 50,
   "id": "27652c35-1886-475d-8186-e0f94cab4516",
   "metadata": {},
   "outputs": [
    {
     "name": "stdout",
     "output_type": "stream",
     "text": [
      "얼마나 데이터 필터링 되었는가? 19060\n"
     ]
    }
   ],
   "source": [
    "ric_list_ex01 = ['BOc1', 'BOc2', 'BOc3','BOPLKL','BRRTSc1', 'BRRTSc2', 'BRRTSc3', 'CAD=', 'EUR=', 'JPY=', 'KRW=', 'MYR=', 'GBP=', 'INR=','Cc1', 'Cc2', 'Cc3','CCMc1', 'CCMc2', 'CCMc3',\n",
    "                 'CLc1', 'CLc2', 'CLc3','CNY=','COMc1', 'COMc2','COMc3','CTc1', 'CTc2', 'CTc3', 'DJCI', 'DJCIBR', 'DJCICL', 'DJCICN', 'DJCIEN', 'DJCIGR', 'DJCIIA', 'DJCING', \n",
    "                 'DJCISO', 'DJCIWH', 'DJT','FCHI','FCPOc1', 'FCPOc2', 'FCPOc3','FGVHKL',\n",
    "                 'FKLIc1', 'FKLIc2', 'FKLIc3','FTSE','GCc1', 'GCc2', 'GCc3','GDAXI','GENMKL','HSI','IOIBKL','IXIC','JNIc1','JNIc2','JNIc3','KCc1', 'KCc2', 'KCc3','KLKKKL','KLSE','KQ11', 'KS11',\n",
    "                 'KWc1', 'KWc2', 'KWc3','LCOc1', 'LCOc2', 'LCOc3','LWBc1', 'LWBc2', 'LWBc3','MCCc1', 'MCCc2', 'MCCc3','MXSCKL','Oc1', 'Oc2', 'Oc3','PEPTKL','RRc1', 'RRc2', 'RRc3','RSc1', 'RSc2', 'RSc3',\n",
    "                 'Sc1', 'Sc2', 'Sc3','SIMEKL','SOPSKL','SSEC', 'THPBKL', 'Wc1', 'Wc2', 'Wc3'\n",
    "                ] #SPX,VIX 더이상 지원안하므로 제거\n",
    "print('얼마나 데이터 필터링 되었는가?',len(df_raw) - len(df_raw[df_raw['RIC'].isin(ric_list_ex01)]))"
   ]
  },
  {
   "cell_type": "code",
   "execution_count": 51,
   "id": "ce662aa6-cb57-4c3c-a9fa-6ee6cdf039e2",
   "metadata": {
    "tags": []
   },
   "outputs": [
    {
     "name": "stdout",
     "output_type": "stream",
     "text": [
      "CPU times: user 6.34 s, sys: 344 µs, total: 6.34 s\n",
      "Wall time: 6.34 s\n"
     ]
    }
   ],
   "source": [
    "%%time\n",
    "start = time.time()\n",
    "\n",
    "data_dir = \"raw-data/\"\n",
    "\n",
    "df_list = OrderedDict()\n",
    "# (1) EDA에서 선정한 RIC 코드 선별\n",
    "df_tmp1 = df_raw[df_raw['RIC'].isin(ric_list_ex01)]\n",
    "# (2) 컬럼 삭제\n",
    "df_tmp1 = df_tmp1[['Date', 'HIGH', 'LOW', 'OPEN', 'CLOSE','RIC']]\n",
    "# (3) 형 변환\n",
    "df_tmp1.loc[:, \"Date\"] = pd.to_datetime(df_tmp1.loc[:, \"Date\"])\n",
    "# (4) 종합하여 1차 dataset만들기\n",
    "for name in ric_list_ex01:\n",
    "    df_tmp2 = df_tmp1[df_tmp1['RIC'] == name]\n",
    "    df_tmp2 = df_tmp2.drop('RIC', axis=1)\n",
    "    df_list[name] = df_tmp2[df_tmp2['Date'] >= '2014-07-02'].reset_index(drop = True)\n",
    "\n",
    "end = time.time()\n"
   ]
  },
  {
   "cell_type": "code",
   "execution_count": 52,
   "id": "9457608d-ed9d-45ac-bc4e-7a6913222f82",
   "metadata": {},
   "outputs": [
    {
     "name": "stdout",
     "output_type": "stream",
     "text": [
      "Dataset화 시간 : 6.3 sec\n",
      "Dataset화 시간 : 0.1 min\n"
     ]
    }
   ],
   "source": [
    "print(f\"Dataset화 시간 : {end - start:.1f} sec\")\n",
    "print(f\"Dataset화 시간 : {((end - start)/60):.1f} min\")"
   ]
  },
  {
   "cell_type": "markdown",
   "id": "54e0e566-078d-4547-bd71-e901548928c7",
   "metadata": {},
   "source": [
    "## 4) Fill & Scale data\n",
    "- 컬럼 일관성 있게 만들기\n",
    "- Fill missing date\n",
    "- Apply filling missing value on each columns\n",
    "- Scaler\n",
    "- 종합하여 2차 dataset로 만들기"
   ]
  },
  {
   "cell_type": "code",
   "execution_count": 53,
   "id": "b0a3ffe8-e805-432a-bb92-c25e93c3e4ca",
   "metadata": {},
   "outputs": [],
   "source": [
    "df_col_type = copy.deepcopy(df_list)\n",
    "col_names = ['ds','high','low','open','y']\n",
    "for n,x in df_col_type.items():\n",
    "    df_col_type[n].columns = col_names\n",
    "    df_col_type[n].loc[:, \"ds\"] = pd.to_datetime(df_col_type[n].loc[:, \"ds\"])\n",
    "    df_col_type[n].loc[:, \"high\"] = df_col_type[n].loc[:, \"high\"].astype(np.float32)\n",
    "    df_col_type[n].loc[:, \"low\"] = df_col_type[n].loc[:, \"low\"].astype(np.float32)\n",
    "    df_col_type[n].loc[:, \"open\"] = df_col_type[n].loc[:, \"open\"].astype(np.float32)\n",
    "    df_col_type[n].loc[:, \"y\"] = df_col_type[n].loc[:, \"y\"].astype(np.float32)\n",
    "    # print(n,'\\t', list(x))\n",
    "    # print('min:', x['ds'].min(), 'max:', x['ds'].max())"
   ]
  },
  {
   "cell_type": "code",
   "execution_count": 54,
   "id": "8b2f2a1b-6f25-4329-9495-56851ff2df03",
   "metadata": {},
   "outputs": [],
   "source": [
    "def fill_missing_dates(df_in : pd.DataFrame,\n",
    "                       freq : str\n",
    "                      ) -> pd.DataFrame : \n",
    "    df = df_in.copy()\n",
    "    if df[\"ds\"].dtype == np.int64:\n",
    "            df.loc[:, \"ds\"] = df.loc[:, \"ds\"].astype(str)\n",
    "    df.loc[:, \"ds\"] = pd.to_datetime(df.loc[:, \"ds\"])\n",
    "    r = pd.date_range(start = df[\"ds\"].min(),\n",
    "                      end = df[\"ds\"].max(),\n",
    "                      freq = freq)\n",
    "    df = df.set_index(\"ds\").reindex(r).rename_axis(\"ds\").reset_index()\n",
    "    return df"
   ]
  },
  {
   "cell_type": "code",
   "execution_count": 55,
   "id": "9c07ffb8-7ad3-4698-9b47-1f17d3cea71d",
   "metadata": {},
   "outputs": [],
   "source": [
    "df_fill_date = copy.deepcopy(df_col_type)\n",
    "for df_one in df_fill_date.items():\n",
    "    name = df_one[0]\n",
    "    value = df_one[1]\n",
    "    # print(name)\n",
    "    df_fill_date[name]  = fill_missing_dates(value, 'B')\n",
    "    num_added = len(df_fill_date[name]) - len(value)\n",
    "    is_na = sum(df_fill_date[name]['y'].isnull())\n",
    "    # print('num_added:', num_added)\n",
    "    # print('is_na:',is_na)"
   ]
  },
  {
   "cell_type": "code",
   "execution_count": 56,
   "id": "89214c6d-df53-43ba-a2dc-5356192f3d2d",
   "metadata": {},
   "outputs": [],
   "source": [
    "def fill_missing_price_value(df: pd.DataFrame, col: str ) -> pd.DataFrame :\n",
    "    initial_is_na = sum(df[col].isnull())\n",
    "    series = df.loc[:, col].astype(float)\n",
    "    series = series.interpolate(method = \"linear\",\n",
    "                                limit_direction = \"both\")\n",
    "    series = [0 if v < 0 else v for v in series]\n",
    "    df[col] = series\n",
    "    # if sum(df[col].isnull()) != 0:\n",
    "    #     print(\"is na :\", initial_is_na)\n",
    "    #     print(\"remaining na :\", sum(df[col].isnull()))\n",
    "    return df"
   ]
  },
  {
   "cell_type": "code",
   "execution_count": 57,
   "id": "527d8744-88b6-4624-825e-825567423377",
   "metadata": {},
   "outputs": [],
   "source": [
    "df_list_proc = copy.deepcopy(df_fill_date)\n",
    "for df_one in df_list_proc.items():\n",
    "    name = df_one[0]\n",
    "    value = df_one[1]\n",
    "    # print(name)\n",
    "    # print(sum(value['y'].isnull()))\n",
    "    df_proc1 = fill_missing_price_value(value, 'y')\n",
    "    df_proc1 = fill_missing_price_value(value, 'high')\n",
    "    df_proc1 = fill_missing_price_value(value, 'low')\n",
    "    df_proc1 = fill_missing_price_value(value, 'open')\n",
    "    # print(sum(df_proc1['y'].isnull()))\n",
    "    # print(len(df_proc1))\n",
    "    df_list_proc[name] = df_proc1"
   ]
  },
  {
   "cell_type": "markdown",
   "id": "a68fc5bb-b6b4-4519-8e6f-161f2c013f62",
   "metadata": {},
   "source": [
    "**Scaling**"
   ]
  },
  {
   "cell_type": "code",
   "execution_count": 58,
   "id": "ea4c4e84-e0fb-46f4-ae3d-3a9e18b2a4b4",
   "metadata": {},
   "outputs": [],
   "source": [
    "from sklearn.preprocessing import MinMaxScaler\n",
    "import joblib"
   ]
  },
  {
   "cell_type": "code",
   "execution_count": 59,
   "id": "ad161abc-653c-4f25-a3de-39d3ec274356",
   "metadata": {},
   "outputs": [],
   "source": [
    "import tempfile\n",
    "def scaling_value(df : pd.DataFrame,\n",
    "                  col_name : str,\n",
    "                  ric,\n",
    "                  s3_resource,\n",
    "                  BUCKET_NAME_USECASE,\n",
    "                  S3_PATH_GOLDEN) -> tuple:\n",
    "    series = df[col_name].values\n",
    "    scaler = MinMaxScaler()\n",
    "    series = series.reshape(-1,1)\n",
    "    scaler.fit(series)\n",
    "    series = scaler.transform(series)\n",
    "    with tempfile.TemporaryFile() as fp:\n",
    "        joblib.dump(scaler, fp)\n",
    "        fp.seek(0)\n",
    "        s3_resource.put_object(Body = fp.read(),\n",
    "                               Bucket = BUCKET_NAME_USECASE,\n",
    "                               Key = f\"{S3_PATH_GOLDEN}/{KST.strftime('%Y/%m/%d')}/scaler-files/{ric}_{col_name}_scaler.pkl\")\n",
    "    return series\n"
   ]
  },
  {
   "cell_type": "markdown",
   "id": "d492f5ff-d0c2-403e-9825-4e35f7841e77",
   "metadata": {},
   "source": [
    "**스케일 파일 dump 및 2차 Dataset화**\n",
    "```python\n",
    "# READ\n",
    "with tempfile.TemporaryFile() as fp:\n",
    "    s3_client.download_fileobj(Fileobj = fp, Bucket = bucket_name, Key = key)\n",
    "fp.seek(0)\n",
    "model = joblib.load(fp)\n",
    "```"
   ]
  },
  {
   "cell_type": "code",
   "execution_count": 60,
   "id": "f52aa30f-d4a5-4434-9f46-588f037571a6",
   "metadata": {},
   "outputs": [
    {
     "name": "stdout",
     "output_type": "stream",
     "text": [
      "CPU times: user 3.07 s, sys: 75.8 ms, total: 3.15 s\n",
      "Wall time: 18.7 s\n"
     ]
    }
   ],
   "source": [
    "%%time\n",
    "start = time.time()\n",
    "\n",
    "df_golden = pd.DataFrame()\n",
    "\n",
    "scale_dir = os.path.join(os.getcwd(), 'preprocessing','scaler-files')\n",
    "os.makedirs(scale_dir, exist_ok=True)\n",
    "\n",
    "df_list_scaled = copy.deepcopy(df_list_proc) \n",
    "\n",
    "for ric, value in df_list_scaled.items():\n",
    "    for col in ['y','high','open','low']:\n",
    "        value.loc[:, col] = scaling_value(value, col, ric, s3_client, BUCKET_NAME_USECASE, S3_PATH_GOLDEN)\n",
    "    df_list_scaled[name] = value\n",
    "    \n",
    "for name, value in df_list_scaled.items():\n",
    "    value = value.assign(ric = name)\n",
    "    df_golden = pd.concat([df_golden, value])\n",
    "df_golden = df_golden.reset_index(drop = True)\n",
    "\n",
    "upload_df_to_S3(ACCESS_KEY_ID,\n",
    "                ACCESS_SECRET_KEY,\n",
    "                BUCKET_NAME_USECASE,\n",
    "                os.path.join(S3_PATH_GOLDEN,\n",
    "                             KST.strftime('%Y/%m/%d'),\n",
    "                             '{}.csv'.format(int(time.mktime(KST.timetuple())))),\n",
    "                df_golden)\n",
    "\n",
    "end = time.time()\n"
   ]
  },
  {
   "cell_type": "code",
   "execution_count": 61,
   "id": "8c0c8d69-1b20-42c5-ba15-b21ae9186a1f",
   "metadata": {},
   "outputs": [
    {
     "name": "stdout",
     "output_type": "stream",
     "text": [
      "Scaling~golden data 업로드 시간 : 18.7 sec\n",
      "Scaling~golden data 업로드 시간: 0.3 min\n"
     ]
    }
   ],
   "source": [
    "print(f\"Scaling~golden data 업로드 시간 : {end - start:.1f} sec\")\n",
    "print(f\"Scaling~golden data 업로드 시간: {((end - start)/60):.1f} min\")"
   ]
  },
  {
   "cell_type": "markdown",
   "id": "89cb2fa6-a2d0-4dbf-8cae-5a9a82c0d4f7",
   "metadata": {},
   "source": [
    "## 5) 마지막! 스크립트화 하기!"
   ]
  },
  {
   "cell_type": "markdown",
   "id": "77bd4f1b-8322-468b-b01d-6b2694684cbf",
   "metadata": {},
   "source": [
    "scikit-learn 전처리 스크립트를 처리 작업으로 실행하려면 제공된 scikit-learn 이미지를 사용하여 처리 작업 내에서 스크립트를 실행할 수 있는 'sklearnProcessor'를 만듭니다."
   ]
  },
  {
   "cell_type": "markdown",
   "id": "fdbc14ec-2467-4549-bd1b-bdabcf2cea33",
   "metadata": {},
   "source": [
    "데이터 정리, 전처리 및 feature 엔지니어링에 사용하는 스크립트를 도입하기 전에 데이터 집합의 처음 20개 행을 검사합니다.\n"
   ]
  },
  {
   "cell_type": "markdown",
   "id": "62ef6d33-10da-4878-bdd5-b40832b60aeb",
   "metadata": {},
   "source": [
    "**인풋은 staged-data/2022/10/19/1666160130.0/raw.csv가 될것.**"
   ]
  },
  {
   "cell_type": "code",
   "execution_count": 9,
   "id": "372b03c0-2f48-4b1f-a120-8f1b7c6a60bb",
   "metadata": {},
   "outputs": [],
   "source": [
    "keychain = json.loads(get_secret())\n",
    "ACCESS_KEY_ID = keychain['ACCESS_KEY_ID_ent']\n",
    "ACCESS_SECRET_KEY = keychain['ACCESS_SECRET_KEY_ent']\n",
    "\n",
    "BUCKET_NAME_USECASE = keychain['BUCKET_NAME_USECASE_ent']\n",
    "S3_PATH_STAGE = keychain['S3_PATH_STAGE']\n",
    "S3_PATH_GOLDEN = keychain['S3_PATH_GOLDEN']\n",
    "S3_PATH_TRAIN = keychain['S3_PATH_TRAIN']\n",
    "S3_PATH_log = keychain['S3_PATH_LOG']\n",
    "\n",
    "boto_session = boto3.Session(ACCESS_KEY_ID, ACCESS_SECRET_KEY)\n",
    "sm_session = sagemaker.Session(boto_session = boto_session)\n",
    "region = boto_session.region_name"
   ]
  },
  {
   "cell_type": "code",
   "execution_count": 126,
   "id": "0705f65f-91c5-483c-9464-60166f04ef48",
   "metadata": {},
   "outputs": [
    {
     "data": {
      "text/plain": [
       "'s3://palm-oil-price-forecast/golden-data/2022/10/26/stage.csv'"
      ]
     },
     "execution_count": 126,
     "metadata": {},
     "output_type": "execute_result"
    }
   ],
   "source": [
    "s3_uri"
   ]
  },
  {
   "cell_type": "code",
   "execution_count": 125,
   "id": "3c62ccfd-2243-471c-88e1-b8f4b5dbff19",
   "metadata": {},
   "outputs": [
    {
     "data": {
      "text/html": [
       "<div>\n",
       "<style scoped>\n",
       "    .dataframe tbody tr th:only-of-type {\n",
       "        vertical-align: middle;\n",
       "    }\n",
       "\n",
       "    .dataframe tbody tr th {\n",
       "        vertical-align: top;\n",
       "    }\n",
       "\n",
       "    .dataframe thead th {\n",
       "        text-align: right;\n",
       "    }\n",
       "</style>\n",
       "<table border=\"1\" class=\"dataframe\">\n",
       "  <thead>\n",
       "    <tr style=\"text-align: right;\">\n",
       "      <th></th>\n",
       "      <th>Date</th>\n",
       "      <th>HIGH</th>\n",
       "      <th>LOW</th>\n",
       "      <th>OPEN</th>\n",
       "      <th>CLOSE</th>\n",
       "      <th>VOLUME</th>\n",
       "      <th>RIC</th>\n",
       "    </tr>\n",
       "  </thead>\n",
       "  <tbody>\n",
       "    <tr>\n",
       "      <th>0</th>\n",
       "      <td>1980-01-01</td>\n",
       "      <td>NaN</td>\n",
       "      <td>NaN</td>\n",
       "      <td>NaN</td>\n",
       "      <td>879.3800</td>\n",
       "      <td>NaN</td>\n",
       "      <td>HSI</td>\n",
       "    </tr>\n",
       "    <tr>\n",
       "      <th>1</th>\n",
       "      <td>1980-01-01</td>\n",
       "      <td>107.94</td>\n",
       "      <td>107.94</td>\n",
       "      <td>107.94</td>\n",
       "      <td>107.9400</td>\n",
       "      <td>NaN</td>\n",
       "      <td>SPX</td>\n",
       "    </tr>\n",
       "    <tr>\n",
       "      <th>2</th>\n",
       "      <td>1980-01-02</td>\n",
       "      <td>23.98</td>\n",
       "      <td>23.63</td>\n",
       "      <td>23.80</td>\n",
       "      <td>23.8300</td>\n",
       "      <td>NaN</td>\n",
       "      <td>BOc1</td>\n",
       "    </tr>\n",
       "    <tr>\n",
       "      <th>3</th>\n",
       "      <td>1980-01-02</td>\n",
       "      <td>24.35</td>\n",
       "      <td>24.00</td>\n",
       "      <td>24.20</td>\n",
       "      <td>24.1300</td>\n",
       "      <td>NaN</td>\n",
       "      <td>BOc2</td>\n",
       "    </tr>\n",
       "    <tr>\n",
       "      <th>4</th>\n",
       "      <td>1980-01-02</td>\n",
       "      <td>24.70</td>\n",
       "      <td>24.38</td>\n",
       "      <td>24.65</td>\n",
       "      <td>24.5000</td>\n",
       "      <td>NaN</td>\n",
       "      <td>BOc3</td>\n",
       "    </tr>\n",
       "    <tr>\n",
       "      <th>5</th>\n",
       "      <td>1980-01-02</td>\n",
       "      <td>NaN</td>\n",
       "      <td>NaN</td>\n",
       "      <td>NaN</td>\n",
       "      <td>1.1658</td>\n",
       "      <td>NaN</td>\n",
       "      <td>CAD=</td>\n",
       "    </tr>\n",
       "    <tr>\n",
       "      <th>6</th>\n",
       "      <td>1980-01-02</td>\n",
       "      <td>NaN</td>\n",
       "      <td>NaN</td>\n",
       "      <td>NaN</td>\n",
       "      <td>1.5149</td>\n",
       "      <td>NaN</td>\n",
       "      <td>EUR=</td>\n",
       "    </tr>\n",
       "    <tr>\n",
       "      <th>7</th>\n",
       "      <td>1980-01-02</td>\n",
       "      <td>NaN</td>\n",
       "      <td>NaN</td>\n",
       "      <td>NaN</td>\n",
       "      <td>238.4500</td>\n",
       "      <td>NaN</td>\n",
       "      <td>JPY=</td>\n",
       "    </tr>\n",
       "    <tr>\n",
       "      <th>8</th>\n",
       "      <td>1980-01-02</td>\n",
       "      <td>NaN</td>\n",
       "      <td>NaN</td>\n",
       "      <td>NaN</td>\n",
       "      <td>2.1770</td>\n",
       "      <td>NaN</td>\n",
       "      <td>MYR=</td>\n",
       "    </tr>\n",
       "    <tr>\n",
       "      <th>9</th>\n",
       "      <td>1980-01-02</td>\n",
       "      <td>NaN</td>\n",
       "      <td>NaN</td>\n",
       "      <td>NaN</td>\n",
       "      <td>2.2331</td>\n",
       "      <td>NaN</td>\n",
       "      <td>GBP=</td>\n",
       "    </tr>\n",
       "  </tbody>\n",
       "</table>\n",
       "</div>"
      ],
      "text/plain": [
       "         Date    HIGH     LOW    OPEN     CLOSE  VOLUME   RIC\n",
       "0  1980-01-01     NaN     NaN     NaN  879.3800     NaN   HSI\n",
       "1  1980-01-01  107.94  107.94  107.94  107.9400     NaN   SPX\n",
       "2  1980-01-02   23.98   23.63   23.80   23.8300     NaN  BOc1\n",
       "3  1980-01-02   24.35   24.00   24.20   24.1300     NaN  BOc2\n",
       "4  1980-01-02   24.70   24.38   24.65   24.5000     NaN  BOc3\n",
       "5  1980-01-02     NaN     NaN     NaN    1.1658     NaN  CAD=\n",
       "6  1980-01-02     NaN     NaN     NaN    1.5149     NaN  EUR=\n",
       "7  1980-01-02     NaN     NaN     NaN  238.4500     NaN  JPY=\n",
       "8  1980-01-02     NaN     NaN     NaN    2.1770     NaN  MYR=\n",
       "9  1980-01-02     NaN     NaN     NaN    2.2331     NaN  GBP="
      ]
     },
     "execution_count": 125,
     "metadata": {},
     "output_type": "execute_result"
    }
   ],
   "source": [
    "import pandas as pd\n",
    "\n",
    "s3_uri = 's3://{}/{}/{}/{}'.format(BUCKET_NAME_USECASE, \n",
    "                                   S3_PATH_GOLDEN,\n",
    "                                   KST.strftime('%Y/%m/%d'),\n",
    "                                   '{}.csv'.format('stage'),\n",
    "                                  )\n",
    "df = pd.read_csv(s3_uri, nrows=10)\n",
    "df.head(n=10)"
   ]
  },
  {
   "cell_type": "markdown",
   "id": "b80499c2-e691-48be-afdb-193f64d9d414",
   "metadata": {},
   "source": [
    "아래 셀은 전처리 스크립트를 포함하는 `preprocessing.py` 파일을 작성합니다. \n",
    "스크립트를 업데이트하고 이 셀을 다시 실행하여 `preprocessing.py`를 덮어 쓸 수 있습니다. \n",
    "이 작업은 다음 셀에서 처리 작업으로 실행합니다. \n",
    "이 스크립트에서는 아래 기능을 수행합니다.\n",
    "\n",
    "- Remove duplicates and rows with conflicting data\n",
    "- transform the target income column into a column containing two labels.\n",
    "- transform the age and num persons worked for employer numerical columns into categorical features by binning them\n",
    "- scale the continuous capital gains, capital losses, and dividends from stocks so they're suitable for training\n",
    "- encode the education, major industry code, class of worker so they're suitable for training\n",
    "- split the data into training and test datasets, and saves the training features and labels and test features and labels."
   ]
  },
  {
   "cell_type": "code",
   "execution_count": 80,
   "id": "8cd34e42-e20a-4004-87f5-c2c4951aec8c",
   "metadata": {},
   "outputs": [
    {
     "name": "stdout",
     "output_type": "stream",
     "text": [
      "Overwriting preprocessing.py\n"
     ]
    }
   ],
   "source": [
    "%%writefile preprocessing.py\n",
    "\n",
    "import glob\n",
    "import os\n",
    "import json\n",
    "import boto3\n",
    "import pandas as pd\n",
    "import numpy as np\n",
    "import base64\n",
    "from botocore.exceptions import ClientError\n",
    "from io import StringIO\n",
    "import time\n",
    "from botocore.client import Config\n",
    "from datetime import datetime as dt\n",
    "import datetime\n",
    "\n",
    "from pytz import timezone\n",
    "from dateutil.relativedelta import *\n",
    "\n",
    "# import sagemaker\n",
    "# from sagemaker.debugger import Rule, rule_configs\n",
    "# from sagemaker.session import TrainingInput\n",
    "import argparse\n",
    "\n",
    "from collections import OrderedDict\n",
    "\n",
    "import copy\n",
    "from sklearn.preprocessing import MinMaxScaler\n",
    "# import joblib\n",
    "import sys\n",
    "import subprocess\n",
    "\n",
    "ric_list = ['BOc1', 'BOc2', 'BOc3','BOPLKL','BRRTSc1', 'BRRTSc2', 'BRRTSc3', 'CAD=', 'EUR=', 'JPY=', 'KRW=', 'MYR=', 'GBP=', 'INR=','Cc1', 'Cc2', 'Cc3','CCMc1', 'CCMc2', 'CCMc3',\n",
    "            'CLc1', 'CLc2', 'CLc3','CNY=','COMc1', 'COMc2','COMc3','CTc1', 'CTc2', 'CTc3', 'DJCI', 'DJCIBR', 'DJCICL', 'DJCICN', 'DJCIEN', 'DJCIGR', 'DJCIIA', 'DJCING', \n",
    "            'DJCISO', 'DJCIWH', 'DJT','FCHI','FCPOc1', 'FCPOc2', 'FCPOc3','FGVHKL',\n",
    "            'FKLIc1', 'FKLIc2', 'FKLIc3','FTSE','GCc1', 'GCc2', 'GCc3','GDAXI','GENMKL','HSI','IOIBKL','IXIC','JNIc1','JNIc2','JNIc3','KCc1', 'KCc2', 'KCc3','KLKKKL','KLSE','KQ11', 'KS11',\n",
    "            'KWc1', 'KWc2', 'KWc3','LCOc1', 'LCOc2', 'LCOc3','LWBc1', 'LWBc2', 'LWBc3','MCCc1', 'MCCc2', 'MCCc3','MXSCKL','Oc1', 'Oc2', 'Oc3','PEPTKL','RRc1', 'RRc2', 'RRc3','RSc1', 'RSc2', 'RSc3',\n",
    "            'Sc1', 'Sc2', 'Sc3','SIMEKL','SOPSKL','SSEC', 'THPBKL', 'Wc1', 'Wc2', 'Wc3'\n",
    "           ]\n",
    "col_names_asis = ['ds','high','low','open','ric']\n",
    "col_names_tobe = ['ds','high','low','open','y']\n",
    "\n",
    "\n",
    "def get_secret():\n",
    "    # See https://docs.aws.amazon.com/secretsmanager/latest/apireference/API_GetSecretValue.html\n",
    "    secret_name = \"prod/sagemaker\"\n",
    "    region_name = \"ap-northeast-2\"\n",
    "    \n",
    "    # Create a Secrets Manager client\n",
    "    session = boto3.session.Session()\n",
    "    client = session.client(\n",
    "        service_name='secretsmanager',\n",
    "        region_name=region_name\n",
    "    )\n",
    "    try:\n",
    "        get_secret_value_response = client.get_secret_value(\n",
    "            SecretId='prod/sagemaker',\n",
    "        )\n",
    "    except ClientError as e:\n",
    "        if e.response['Error']['Code'] == 'DecryptionFailureException': # Secrets Manager can't decrypt the protected secret text using the provided KMS key.\n",
    "            raise e\n",
    "        elif e.response['Error']['Code'] == 'InternalServiceErrorException': # An error occurred on the server side.\n",
    "            raise e\n",
    "        elif e.response['Error']['Code'] == 'InvalidParameterException': # You provided an invalid value for a parameter.\n",
    "            raise e\n",
    "        elif e.response['Error']['Code'] == 'InvalidRequestException': # You provided a parameter value that is not valid for the current state of the resource.\n",
    "            raise e\n",
    "        elif e.response['Error']['Code'] == 'ResourceNotFoundException': # We can't find the resource that you asked for.\n",
    "            raise e\n",
    "    else:\n",
    "        if 'SecretString' in get_secret_value_response:\n",
    "            secret = get_secret_value_response['SecretString']\n",
    "            return secret\n",
    "        else:\n",
    "            decoded_binary_secret = base64.b64decode(get_secret_value_response['SecretBinary'])\n",
    "            return decoded_binary_secret\n",
    "        \n",
    "def fill_missing_dates(df_in : pd.DataFrame,\n",
    "                       freq : str\n",
    "                      ) -> pd.DataFrame : \n",
    "    df = df_in.copy()\n",
    "    if df[\"ds\"].dtype == np.int64:\n",
    "            df.loc[:, \"ds\"] = df.loc[:, \"ds\"].astype(str)\n",
    "    df.loc[:, \"ds\"] = pd.to_datetime(df.loc[:, \"ds\"])\n",
    "    r = pd.date_range(start = df[\"ds\"].min(),\n",
    "                      end = df[\"ds\"].max(),\n",
    "                      freq = freq)\n",
    "    df = df.set_index(\"ds\").reindex(r).rename_axis(\"ds\").reset_index()\n",
    "    return df\n",
    "\n",
    "def fill_missing_price_value(df: pd.DataFrame, col: str, limit_linear : int = 20 ) -> pd.DataFrame :\n",
    "    initial_is_na = sum(df[col].isnull())\n",
    "    series = df.loc[:, col].astype(float)\n",
    "    series = series.interpolate(method=\"linear\", limit=limit_linear, limit_direction=\"both\")\n",
    "    series = [0 if v < 0 else v for v in series]\n",
    "    df[col] = series\n",
    "    return df\n",
    "\n",
    "def scaling_value(df : pd.DataFrame,\n",
    "                  col_name : str,\n",
    "                  ric,\n",
    "                  s3_resource,\n",
    "                  BUCKET_NAME_USECASE,\n",
    "                  S3_PATH_GOLDEN) -> tuple:\n",
    "    series = df[col_name].values\n",
    "    scaler = MinMaxScaler()\n",
    "    series = series.reshape(-1,1)\n",
    "    scaler.fit(series)\n",
    "    series = scaler.transform(series)\n",
    "    # with tempfile.TemporaryFile() as fp:\n",
    "    #     joblib.dump(scaler, fp)\n",
    "    #     fp.seek(0)\n",
    "    #     s3_resource.put_object(Body = fp.read(),\n",
    "    #                            Bucket = BUCKET_NAME_USECASE,\n",
    "    #                            Key = f\"{S3_PATH_GOLDEN}/scaler-files/{KST.strftime('%Y%d%m-%H%M%S')}/{ric}_{col_name}_scaler.pkl\")\n",
    "    return series\n",
    "\n",
    "\n",
    "if __name__=='__main__':\n",
    "\n",
    "    keychain = json.loads(get_secret())\n",
    "    ACCESS_KEY_ID = keychain['ACCESS_KEY_ID_ent']\n",
    "    ACCESS_SECRET_KEY = keychain['ACCESS_SECRET_KEY_ent']\n",
    "\n",
    "    BUCKET_NAME_USECASE = keychain['BUCKET_NAME_USECASE_ent']\n",
    "    S3_PATH_STAGE = keychain['S3_PATH_STAGE']\n",
    "    S3_PATH_GOLDEN = keychain['S3_PATH_GOLDEN']\n",
    "    S3_PATH_TRAIN = keychain['S3_PATH_TRAIN']\n",
    "    S3_PATH_log = keychain['S3_PATH_LOG']\n",
    "    boto_session = boto3.Session(ACCESS_KEY_ID, ACCESS_SECRET_KEY)\n",
    "\n",
    "    region = boto_session.region_name\n",
    "\n",
    "    s3_resource = boto_session.resource('s3')\n",
    "    parser = argparse.ArgumentParser()\n",
    "    parser.add_argument(\"--train_test_split_date\",\n",
    "                        type = str,\n",
    "                        help = 'train과 test을 구분할 분기점을 설정한다')\n",
    "\n",
    "    args, _ = parser.parse_known_args()\n",
    "    print(\"Received arguments {}\".format(args))\n",
    "\n",
    "    # 1. 데이터 찾아서 읽기\n",
    "    f_path_list= []\n",
    "    for f_path in glob.glob('{}/**/*.csv'.format('/opt/ml/processing/input'), recursive=True):\n",
    "        print(\"Reading input data from {}\".format(f_path))\n",
    "        f_path_list.append(f_path)\n",
    "        \n",
    "    if len(f_path_list) == 1:\n",
    "        df_sum = pd.read_csv(f_path_list[0])  # 열 삭제 == 컬럼선별\n",
    "    else:\n",
    "        df_sum = pd.DataFrame()\n",
    "        for file in f_path_list:\n",
    "            df_tmp = pd.read_csv(file)\n",
    "            df_sum = pd.concat([df_sum, df_tmp])\n",
    "    # 2. 첫번쨰 전처리 단계--\n",
    "    df_list = OrderedDict()\n",
    "    ## RIC 코드 선별\n",
    "    df_tmp1 = df_sum[df_sum['RIC'].isin(ric_list)]\n",
    "    ## 열 삭제 == 컬럼선별\n",
    "    df_tmp1 = df_tmp1[['Date', 'HIGH', 'LOW', 'OPEN', 'CLOSE','RIC']]\n",
    "    ## 형변환\n",
    "    df_tmp1.loc[:, \"Date\"] = pd.to_datetime(df_tmp1.loc[:, \"Date\"])\n",
    "    ## 데이터 셋으로 만들기\n",
    "    for name in ric_list:\n",
    "        df_tmp2 = df_tmp1[df_tmp1['RIC'] == name]\n",
    "        df_tmp2 = df_tmp2.drop('RIC', axis=1)\n",
    "        df_list[name] = df_tmp2[df_tmp2['Date'] >= '2014-07-02'].reset_index(drop = True)\n",
    "    # 3. 첫번쨰 전처리 단계--\n",
    "\n",
    "    col_names = ['ds','high','low','open','y']\n",
    "    for n,x in df_list.items():\n",
    "        df_list[n].columns = col_names\n",
    "        df_list[n].loc[:, \"ds\"] = pd.to_datetime(df_list[n].loc[:, \"ds\"])\n",
    "        df_list[n].loc[:, \"high\"] = df_list[n].loc[:, \"high\"].astype(np.float32)\n",
    "        df_list[n].loc[:, \"low\"] = df_list[n].loc[:, \"low\"].astype(np.float32)\n",
    "        df_list[n].loc[:, \"open\"] = df_list[n].loc[:, \"open\"].astype(np.float32)\n",
    "        df_list[n].loc[:, \"y\"] = df_list[n].loc[:, \"y\"].astype(np.float32)\n",
    "\n",
    "    # 4.\n",
    "    for df_one in df_list.items():\n",
    "        name = df_one[0]\n",
    "        value = df_one[1]\n",
    "        df_list[name]  = fill_missing_dates(value, 'B')\n",
    "        num_added = len(df_list[name]) - len(value)\n",
    "        is_na = sum(df_list[name]['y'].isnull())\n",
    "\n",
    "    for df_one in df_list.items():\n",
    "        name = df_one[0]\n",
    "        value = df_one[1]\n",
    "        df_proc1 = fill_missing_price_value(value, 'y')\n",
    "        df_proc1 = fill_missing_price_value(value, 'high')\n",
    "        df_proc1 = fill_missing_price_value(value, 'low')\n",
    "        df_proc1 = fill_missing_price_value(value, 'open')\n",
    "        df_list[name] = df_proc1\n",
    "    # 5. Scaling\n",
    "    scale_dir = os.path.join(os.getcwd(), 'preprocessing','scaler-files')\n",
    "    os.makedirs(scale_dir, exist_ok=True)\n",
    "    s3_client = boto_session.client('s3')\n",
    "\n",
    "\n",
    "    for ric, value in df_list.items():\n",
    "        for col in ['y','high','open','low']:\n",
    "            value.loc[:, col] = scaling_value(value, col, ric, s3_client, BUCKET_NAME_USECASE, S3_PATH_GOLDEN)\n",
    "        df_list[name] = value\n",
    "\n",
    "\n",
    "    df_golden = pd.DataFrame()\n",
    "    for name, value in df_list.items():\n",
    "        value = value.assign(ric = name)\n",
    "        df_golden = pd.concat([df_golden, value])\n",
    "    df_golden = df_golden.reset_index(drop = True)\n",
    "    split_date = args.train_test_split_date\n",
    "\n",
    "    df_train = df_golden[df_golden['ds'] < split_date]\n",
    "    output_train_path = os.path.join('/opt/ml/processing/train', 'train.csv') # 출력파일 저장될 경로 지정\n",
    "    df_train.to_csv(output_train_path, index = False)\n",
    "    \n",
    "    df_test = df_golden[df_golden['ds'] >= split_date]\n",
    "    output_test_path = os.path.join('/opt/ml/processing/test', 'test.csv') # 출력파일 저장될 경로 지정\n",
    "    df_test.to_csv(output_test_path, index = False)\n",
    "    "
   ]
  },
  {
   "cell_type": "code",
   "execution_count": null,
   "id": "9cf0fb69-3dd9-4ad5-a02c-fe95ba0e194c",
   "metadata": {},
   "outputs": [],
   "source": [
    "keychain = json.loads(get_secret())\n",
    "ACCESS_KEY_ID = keychain['ACCESS_KEY_ID_ent']\n",
    "ACCESS_SECRET_KEY = keychain['ACCESS_SECRET_KEY_ent']\n",
    "\n",
    "BUCKET_NAME_USECASE = keychain['BUCKET_NAME_USECASE_ent']\n",
    "S3_PATH_STAGE = keychain['S3_PATH_STAGE']\n",
    "S3_PATH_GOLDEN = keychain['S3_PATH_GOLDEN']\n",
    "S3_PATH_TRAIN = keychain['S3_PATH_TRAIN']\n",
    "S3_PATH_log = keychain['S3_PATH_LOG']\n",
    "\n",
    "boto_session = boto3.Session(ACCESS_KEY_ID, ACCESS_SECRET_KEY)\n",
    "sm_session = sagemaker.Session(boto_session = boto_session)\n",
    "region = boto_session.region_name"
   ]
  },
  {
   "cell_type": "code",
   "execution_count": 454,
   "id": "f25c8d6d-6a28-49fb-ad11-c9086a507f55",
   "metadata": {},
   "outputs": [
    {
     "name": "stdout",
     "output_type": "stream",
     "text": [
      "/home/ec2-user/SageMaker/palm-oil-price-forecast/data/raw/2022/10/20/1666263427.0/raw.csv\n"
     ]
    }
   ],
   "source": [
    "# for f in glob.glob('{}/**/*.csv'.format('/opt/ml/processing/input'), recursive=True):\n",
    "    # print(f)\n",
    "for f in glob.glob('{}/**/*.csv'.format('/home/ec2-user/SageMaker/palm-oil-price-forecast'), recursive=True):\n",
    "    print(f)"
   ]
  },
  {
   "cell_type": "markdown",
   "id": "91b22cdc-ae62-4f74-83c4-473f855889dc",
   "metadata": {},
   "source": [
    "코드실행전 반드시 살펴보아야 함!\n",
    "- 'AmazonSageMakerServiceCatalogProductsUseRole'에 해당 리소스를 접근할 권한을 가지고 있는가!"
   ]
  },
  {
   "cell_type": "code",
   "execution_count": 81,
   "id": "558da78d-a2b7-4732-9eae-55a6de11f388",
   "metadata": {},
   "outputs": [
    {
     "name": "stdout",
     "output_type": "stream",
     "text": [
      "\n",
      "Job Name:  sagemaker-scikit-learn-2022-10-25-22-51-41-106\n",
      "Inputs:  [{'InputName': 'stage_data', 'AppManaged': False, 'S3Input': {'S3Uri': 's3://palm-oil-price-forecast/golden-data/2022/10/26/stage.csv', 'LocalPath': '/opt/ml/processing/input', 'S3DataType': 'S3Prefix', 'S3InputMode': 'File', 'S3DataDistributionType': 'FullyReplicated', 'S3CompressionType': 'None'}}, {'InputName': 'code', 'AppManaged': False, 'S3Input': {'S3Uri': 's3://sagemaker-ap-northeast-2-276114397529/sagemaker-scikit-learn-2022-10-25-22-51-41-106/input/code/preprocessing.py', 'LocalPath': '/opt/ml/processing/input/code', 'S3DataType': 'S3Prefix', 'S3InputMode': 'File', 'S3DataDistributionType': 'FullyReplicated', 'S3CompressionType': 'None'}}]\n",
      "Outputs:  [{'OutputName': 'train_data', 'AppManaged': False, 'S3Output': {'S3Uri': 's3://sagemaker-ap-northeast-2-276114397529/sagemaker-scikit-learn-2022-10-25-22-51-41-106/output/train_data', 'LocalPath': '/opt/ml/processing/train', 'S3UploadMode': 'EndOfJob'}}, {'OutputName': 'test_data', 'AppManaged': False, 'S3Output': {'S3Uri': 's3://sagemaker-ap-northeast-2-276114397529/sagemaker-scikit-learn-2022-10-25-22-51-41-106/output/test_data', 'LocalPath': '/opt/ml/processing/test', 'S3UploadMode': 'EndOfJob'}}]\n",
      ".........................\u001b[34m/miniconda3/lib/python3.7/site-packages/sklearn/externals/joblib/externals/cloudpickle/cloudpickle.py:47: DeprecationWarning: the imp module is deprecated in favour of importlib; see the module's documentation for alternative uses\n",
      "  import imp\u001b[0m\n",
      "\u001b[34m/miniconda3/lib/python3.7/site-packages/sklearn/utils/validation.py:37: DeprecationWarning: distutils Version classes are deprecated. Use packaging.version instead.\n",
      "  LARGE_SPARSE_SUPPORTED = LooseVersion(scipy_version) >= '0.14.0'\u001b[0m\n",
      "\u001b[34mReceived arguments Namespace(train_test_split_date='2022-10-01')\u001b[0m\n",
      "\u001b[34mReading input data from /opt/ml/processing/input/stage.csv\u001b[0m\n",
      "\n"
     ]
    }
   ],
   "source": [
    "from sagemaker.processing import ProcessingInput, ProcessingOutput\n",
    "import boto3\n",
    "import sagemaker\n",
    "from sagemaker import get_execution_role\n",
    "from sagemaker.sklearn.processing import SKLearnProcessor\n",
    "\n",
    "# region = boto_session.region_name\n",
    "role = get_execution_role()\n",
    "sklearn_processor = SKLearnProcessor(framework_version = \"0.20.0\",\n",
    "                                     role = role,\n",
    "                                     instance_type = \"ml.m5.xlarge\",\n",
    "                                     instance_count = 1\n",
    "                                    )\n",
    "\n",
    "s3_uri = 's3://{}/{}/{}/{}'.format(BUCKET_NAME_USECASE, \n",
    "                                S3_PATH_GOLDEN,\n",
    "                                KST.strftime('%Y/%m/%d'),\n",
    "                                '{}.csv'.format('stage'),\n",
    "                               )\n",
    "\n",
    "sklearn_processor.run(\n",
    "    code = \"preprocessing.py\",\n",
    "    inputs = [\n",
    "        ProcessingInput(\n",
    "            source = s3_uri,\n",
    "            input_name = 'stage_data',\n",
    "            # s3_input = s3_input,\n",
    "            destination = \"/opt/ml/processing/input\")],\n",
    "    outputs = [\n",
    "        ProcessingOutput(\n",
    "            output_name = \"train_data\",\n",
    "            source = \"/opt/ml/processing/train\"),\n",
    "        ProcessingOutput(\n",
    "            output_name = \"test_data\",\n",
    "            source = \"/opt/ml/processing/test\")],\n",
    "    arguments=[\"--train_test_split_date\", \"2022-10-01\"],\n",
    ")\n",
    "\n",
    "preprocessing_job_description = sklearn_processor.jobs[-1].describe()\n"
   ]
  },
  {
   "cell_type": "code",
   "execution_count": 83,
   "id": "be838a3e-0c2b-45fa-93ce-eb46295cfaae",
   "metadata": {},
   "outputs": [
    {
     "data": {
      "text/plain": [
       "{'ProcessingInputs': [{'InputName': 'stage_data',\n",
       "   'AppManaged': False,\n",
       "   'S3Input': {'S3Uri': 's3://palm-oil-price-forecast/golden-data/2022/10/26/stage.csv',\n",
       "    'LocalPath': '/opt/ml/processing/input',\n",
       "    'S3DataType': 'S3Prefix',\n",
       "    'S3InputMode': 'File',\n",
       "    'S3DataDistributionType': 'FullyReplicated',\n",
       "    'S3CompressionType': 'None'}},\n",
       "  {'InputName': 'code',\n",
       "   'AppManaged': False,\n",
       "   'S3Input': {'S3Uri': 's3://sagemaker-ap-northeast-2-276114397529/sagemaker-scikit-learn-2022-10-25-22-51-41-106/input/code/preprocessing.py',\n",
       "    'LocalPath': '/opt/ml/processing/input/code',\n",
       "    'S3DataType': 'S3Prefix',\n",
       "    'S3InputMode': 'File',\n",
       "    'S3DataDistributionType': 'FullyReplicated',\n",
       "    'S3CompressionType': 'None'}}],\n",
       " 'ProcessingOutputConfig': {'Outputs': [{'OutputName': 'train_data',\n",
       "    'S3Output': {'S3Uri': 's3://sagemaker-ap-northeast-2-276114397529/sagemaker-scikit-learn-2022-10-25-22-51-41-106/output/train_data',\n",
       "     'LocalPath': '/opt/ml/processing/train',\n",
       "     'S3UploadMode': 'EndOfJob'},\n",
       "    'AppManaged': False},\n",
       "   {'OutputName': 'test_data',\n",
       "    'S3Output': {'S3Uri': 's3://sagemaker-ap-northeast-2-276114397529/sagemaker-scikit-learn-2022-10-25-22-51-41-106/output/test_data',\n",
       "     'LocalPath': '/opt/ml/processing/test',\n",
       "     'S3UploadMode': 'EndOfJob'},\n",
       "    'AppManaged': False}]},\n",
       " 'ProcessingJobName': 'sagemaker-scikit-learn-2022-10-25-22-51-41-106',\n",
       " 'ProcessingResources': {'ClusterConfig': {'InstanceCount': 1,\n",
       "   'InstanceType': 'ml.m5.xlarge',\n",
       "   'VolumeSizeInGB': 30}},\n",
       " 'StoppingCondition': {'MaxRuntimeInSeconds': 86400},\n",
       " 'AppSpecification': {'ImageUri': '366743142698.dkr.ecr.ap-northeast-2.amazonaws.com/sagemaker-scikit-learn:0.20.0-cpu-py3',\n",
       "  'ContainerEntrypoint': ['python3',\n",
       "   '/opt/ml/processing/input/code/preprocessing.py'],\n",
       "  'ContainerArguments': ['--train_test_split_date', '2022-10-01']},\n",
       " 'RoleArn': 'arn:aws:iam::276114397529:role/service-role/AmazonSageMakerServiceCatalogProductsUseRole',\n",
       " 'ProcessingJobArn': 'arn:aws:sagemaker:ap-northeast-2:276114397529:processing-job/sagemaker-scikit-learn-2022-10-25-22-51-41-106',\n",
       " 'ProcessingJobStatus': 'Completed',\n",
       " 'ProcessingEndTime': datetime.datetime(2022, 10, 25, 22, 55, 54, 670000, tzinfo=tzlocal()),\n",
       " 'ProcessingStartTime': datetime.datetime(2022, 10, 25, 22, 55, 25, 631000, tzinfo=tzlocal()),\n",
       " 'LastModifiedTime': datetime.datetime(2022, 10, 25, 22, 55, 55, 164000, tzinfo=tzlocal()),\n",
       " 'CreationTime': datetime.datetime(2022, 10, 25, 22, 51, 41, 363000, tzinfo=tzlocal()),\n",
       " 'ResponseMetadata': {'RequestId': '7c680458-581d-4d50-acc3-319571426e17',\n",
       "  'HTTPStatusCode': 200,\n",
       "  'HTTPHeaders': {'x-amzn-requestid': '7c680458-581d-4d50-acc3-319571426e17',\n",
       "   'content-type': 'application/x-amz-json-1.1',\n",
       "   'content-length': '2070',\n",
       "   'date': 'Tue, 25 Oct 2022 22:56:22 GMT'},\n",
       "  'RetryAttempts': 0}}"
      ]
     },
     "execution_count": 83,
     "metadata": {},
     "output_type": "execute_result"
    }
   ],
   "source": [
    "preprocessing_job_description"
   ]
  },
  {
   "cell_type": "code",
   "execution_count": 84,
   "id": "97e68e48-3ea0-40e5-85ab-6f7d1f74aba3",
   "metadata": {},
   "outputs": [
    {
     "data": {
      "text/plain": [
       "{'Outputs': [{'OutputName': 'train_data',\n",
       "   'S3Output': {'S3Uri': 's3://sagemaker-ap-northeast-2-276114397529/sagemaker-scikit-learn-2022-10-25-22-51-41-106/output/train_data',\n",
       "    'LocalPath': '/opt/ml/processing/train',\n",
       "    'S3UploadMode': 'EndOfJob'},\n",
       "   'AppManaged': False},\n",
       "  {'OutputName': 'test_data',\n",
       "   'S3Output': {'S3Uri': 's3://sagemaker-ap-northeast-2-276114397529/sagemaker-scikit-learn-2022-10-25-22-51-41-106/output/test_data',\n",
       "    'LocalPath': '/opt/ml/processing/test',\n",
       "    'S3UploadMode': 'EndOfJob'},\n",
       "   'AppManaged': False}]}"
      ]
     },
     "execution_count": 84,
     "metadata": {},
     "output_type": "execute_result"
    }
   ],
   "source": [
    "preprocessing_job_description[\"ProcessingOutputConfig\"]"
   ]
  },
  {
   "cell_type": "code",
   "execution_count": 85,
   "id": "45317c4e-da3f-424a-a4d2-973d4ad635e2",
   "metadata": {},
   "outputs": [],
   "source": [
    "output_config = preprocessing_job_description[\"ProcessingOutputConfig\"]\n",
    "for output in output_config[\"Outputs\"]:\n",
    "    if output[\"OutputName\"] == \"train_data\":\n",
    "        preprocessed_training_data = output[\"S3Output\"][\"S3Uri\"]\n",
    "    if output[\"OutputName\"] == \"test_data\":\n",
    "        preprocessed_test_data = output[\"S3Output\"][\"S3Uri\"]"
   ]
  },
  {
   "cell_type": "code",
   "execution_count": 86,
   "id": "cd2eb8af-902e-46a3-85fd-48f62cd72986",
   "metadata": {},
   "outputs": [
    {
     "data": {
      "text/plain": [
       "{'Outputs': [{'OutputName': 'train_data',\n",
       "   'S3Output': {'S3Uri': 's3://sagemaker-ap-northeast-2-276114397529/sagemaker-scikit-learn-2022-10-25-22-51-41-106/output/train_data',\n",
       "    'LocalPath': '/opt/ml/processing/train',\n",
       "    'S3UploadMode': 'EndOfJob'},\n",
       "   'AppManaged': False},\n",
       "  {'OutputName': 'test_data',\n",
       "   'S3Output': {'S3Uri': 's3://sagemaker-ap-northeast-2-276114397529/sagemaker-scikit-learn-2022-10-25-22-51-41-106/output/test_data',\n",
       "    'LocalPath': '/opt/ml/processing/test',\n",
       "    'S3UploadMode': 'EndOfJob'},\n",
       "   'AppManaged': False}]}"
      ]
     },
     "execution_count": 86,
     "metadata": {},
     "output_type": "execute_result"
    }
   ],
   "source": [
    "output_config"
   ]
  },
  {
   "cell_type": "markdown",
   "id": "6175d9b3-87eb-4e92-be23-94a09ee3fb99",
   "metadata": {},
   "source": [
    "# 2. SageMaker Training을 이용한 학습\n",
    "1. [Autogluon 홈페이지](https://auto.gluon.ai/stable/tutorials/cloud_fit_deploy/cloud-aws-sagemaker-training.html)   \n",
    "    아쉽다. 이거 쓰고 싶었는데, TabularPredictor만 지원하는거 같아서 패스 [참고](https://github.com/aws/amazon-sagemaker-examples/blob/main/advanced_functionality/autogluon-tabular-containers/ag_model.py)\n",
    "2. [유동님 링크](https://github.com/lunarian60/sagemaker-processing/blob/main/scikit_learn_data_processing.ipynb) => 1) 참고자료(1)  \n",
    "    Training using the pre-processed data에서 보면, Sklearn으로 Linear Regressor를 진행하는데, 우리 프로젝트에서는 AutoGluon을 사용하기로 하였다. 우선 Linear Reggressor로 진행을 하고 생각해보자.\n",
    "3. DeepAR   \n",
    "    AutoGluon으로 어떻게 할지 감이 잘 안온다. [Time series forecasting with DeepAR - Synthetic data](https://sagemaker-examples.readthedocs.io/en/latest/introduction_to_amazon_algorithms/deepar_synthetic/deepar_synthetic.html) 이걸로 감을 잡아보자"
   ]
  },
  {
   "cell_type": "markdown",
   "id": "d7554452-c603-4dbe-a5ca-de74716ea80f",
   "metadata": {},
   "source": [
    "## 1) Notebook에서 테스트\n",
    "우선 제대로 되는지 테스트하자"
   ]
  },
  {
   "cell_type": "code",
   "execution_count": 3,
   "id": "a0a04d5a-bf34-4342-b5f8-f7d00ed4733f",
   "metadata": {},
   "outputs": [
    {
     "name": "stdout",
     "output_type": "stream",
     "text": [
      "Looking in indexes: https://pypi.org/simple, https://pip.repos.neuron.amazonaws.com\n",
      "Collecting autogluon\n",
      "  Using cached autogluon-0.5.2-py3-none-any.whl (9.6 kB)\n",
      "Collecting autogluon.vision==0.5.2\n",
      "  Using cached autogluon.vision-0.5.2-py3-none-any.whl (48 kB)\n",
      "Collecting autogluon.multimodal==0.5.2\n",
      "  Using cached autogluon.multimodal-0.5.2-py3-none-any.whl (149 kB)\n",
      "Collecting autogluon.features==0.5.2\n",
      "  Using cached autogluon.features-0.5.2-py3-none-any.whl (59 kB)\n",
      "Collecting autogluon.core[all]==0.5.2\n",
      "  Using cached autogluon.core-0.5.2-py3-none-any.whl (210 kB)\n",
      "Collecting autogluon.timeseries[all]==0.5.2\n",
      "  Using cached autogluon.timeseries-0.5.2-py3-none-any.whl (65 kB)\n",
      "Collecting autogluon.tabular[all]==0.5.2\n",
      "  Using cached autogluon.tabular-0.5.2-py3-none-any.whl (274 kB)\n",
      "Collecting autogluon.text==0.5.2\n",
      "  Using cached autogluon.text-0.5.2-py3-none-any.whl (61 kB)\n",
      "Collecting pandas!=1.4.0,<1.5,>=1.2.5\n",
      "  Using cached pandas-1.3.5-cp37-cp37m-manylinux_2_17_x86_64.manylinux2014_x86_64.whl (11.3 MB)\n",
      "Requirement already satisfied: numpy<1.23,>=1.21 in /home/ec2-user/anaconda3/envs/mxnet_p37/lib/python3.7/site-packages (from autogluon.core[all]==0.5.2->autogluon) (1.21.5)\n",
      "Requirement already satisfied: scipy<1.8.0,>=1.5.4 in /home/ec2-user/anaconda3/envs/mxnet_p37/lib/python3.7/site-packages (from autogluon.core[all]==0.5.2->autogluon) (1.7.3)\n",
      "Requirement already satisfied: requests in /home/ec2-user/anaconda3/envs/mxnet_p37/lib/python3.7/site-packages (from autogluon.core[all]==0.5.2->autogluon) (2.28.1)\n",
      "Collecting dask<=2021.11.2,>=2021.09.1\n",
      "  Using cached dask-2021.11.2-py3-none-any.whl (1.0 MB)\n",
      "Requirement already satisfied: boto3 in /home/ec2-user/anaconda3/envs/mxnet_p37/lib/python3.7/site-packages (from autogluon.core[all]==0.5.2->autogluon) (1.24.89)\n",
      "Collecting distributed<=2021.11.2,>=2021.09.1\n",
      "  Using cached distributed-2021.11.2-py3-none-any.whl (802 kB)\n",
      "Collecting autogluon.common==0.5.2\n",
      "  Using cached autogluon.common-0.5.2-py3-none-any.whl (37 kB)\n",
      "Requirement already satisfied: matplotlib in /home/ec2-user/anaconda3/envs/mxnet_p37/lib/python3.7/site-packages (from autogluon.core[all]==0.5.2->autogluon) (3.3.4)\n",
      "Collecting scikit-learn<1.1,>=1.0.0\n",
      "  Using cached scikit_learn-1.0.2-cp37-cp37m-manylinux_2_17_x86_64.manylinux2014_x86_64.whl (24.8 MB)\n",
      "Requirement already satisfied: tqdm>=4.38.0 in /home/ec2-user/anaconda3/envs/mxnet_p37/lib/python3.7/site-packages (from autogluon.core[all]==0.5.2->autogluon) (4.57.0)\n",
      "Collecting hyperopt<0.2.8,>=0.2.7\n",
      "  Using cached hyperopt-0.2.7-py2.py3-none-any.whl (1.6 MB)\n",
      "Collecting ray[tune]<1.14,>=1.13\n",
      "  Using cached ray-1.13.0-cp37-cp37m-manylinux2014_x86_64.whl (54.5 MB)\n",
      "Requirement already satisfied: psutil<6,>=5.7.3 in /home/ec2-user/anaconda3/envs/mxnet_p37/lib/python3.7/site-packages (from autogluon.features==0.5.2->autogluon) (5.8.0)\n",
      "Requirement already satisfied: torch<1.13,>=1.9 in /home/ec2-user/anaconda3/envs/mxnet_p37/lib/python3.7/site-packages (from autogluon.multimodal==0.5.2->autogluon) (1.12.1)\n",
      "Collecting transformers<4.21.0,>=4.18.0\n",
      "  Using cached transformers-4.20.1-py3-none-any.whl (4.4 MB)\n",
      "Collecting torchtext<0.14.0\n",
      "  Using cached torchtext-0.13.1-cp37-cp37m-manylinux1_x86_64.whl (1.9 MB)\n",
      "Collecting torchvision<0.14.0\n",
      "  Using cached torchvision-0.13.1-cp37-cp37m-manylinux1_x86_64.whl (19.1 MB)\n",
      "Requirement already satisfied: sentencepiece<0.2.0,>=0.1.95 in /home/ec2-user/anaconda3/envs/mxnet_p37/lib/python3.7/site-packages (from autogluon.multimodal==0.5.2->autogluon) (0.1.95)\n",
      "Collecting fairscale<=0.4.6,>=0.4.5\n",
      "  Using cached fairscale-0.4.6-py3-none-any.whl\n",
      "Collecting scikit-image<0.20.0,>=0.19.1\n",
      "  Using cached scikit_image-0.19.3-cp37-cp37m-manylinux_2_12_x86_64.manylinux2010_x86_64.whl (13.5 MB)\n",
      "Requirement already satisfied: nltk<4.0.0,>=3.4.5 in /home/ec2-user/anaconda3/envs/mxnet_p37/lib/python3.7/site-packages (from autogluon.multimodal==0.5.2->autogluon) (3.7)\n",
      "Collecting timm<0.6.0\n",
      "  Using cached timm-0.5.4-py3-none-any.whl (431 kB)\n",
      "Requirement already satisfied: smart-open<5.3.0,>=5.2.1 in /home/ec2-user/anaconda3/envs/mxnet_p37/lib/python3.7/site-packages (from autogluon.multimodal==0.5.2->autogluon) (5.2.1)\n",
      "Requirement already satisfied: omegaconf<2.2.0,>=2.1.1 in /home/ec2-user/anaconda3/envs/mxnet_p37/lib/python3.7/site-packages (from autogluon.multimodal==0.5.2->autogluon) (2.1.2)\n",
      "Requirement already satisfied: Pillow<9.1.0,>=9.0.1 in /home/ec2-user/anaconda3/envs/mxnet_p37/lib/python3.7/site-packages (from autogluon.multimodal==0.5.2->autogluon) (9.0.1)\n",
      "Collecting pytorch-metric-learning<1.4.0,>=1.3.0\n",
      "  Using cached pytorch_metric_learning-1.3.2-py3-none-any.whl (109 kB)\n",
      "Collecting pytorch-lightning<1.7.0,>=1.6.0\n",
      "  Using cached pytorch_lightning-1.6.5-py3-none-any.whl (585 kB)\n",
      "Collecting nlpaug<=1.1.10,>=1.1.10\n",
      "  Using cached nlpaug-1.1.10-py3-none-any.whl (410 kB)\n",
      "Requirement already satisfied: protobuf<=3.18.1 in /home/ec2-user/anaconda3/envs/mxnet_p37/lib/python3.7/site-packages (from autogluon.multimodal==0.5.2->autogluon) (3.18.1)\n",
      "Collecting torchmetrics<0.8.0,>=0.7.2\n",
      "  Using cached torchmetrics-0.7.3-py3-none-any.whl (398 kB)\n",
      "Requirement already satisfied: nptyping<1.5.0,>=1.4.4 in /home/ec2-user/anaconda3/envs/mxnet_p37/lib/python3.7/site-packages (from autogluon.multimodal==0.5.2->autogluon) (1.4.4)\n",
      "Requirement already satisfied: networkx<3.0,>=2.3 in /home/ec2-user/anaconda3/envs/mxnet_p37/lib/python3.7/site-packages (from autogluon.tabular[all]==0.5.2->autogluon) (2.5)\n",
      "Collecting fastai<2.8,>=2.3.1\n",
      "  Using cached fastai-2.7.9-py3-none-any.whl (225 kB)\n",
      "Collecting catboost<1.1,>=1.0\n",
      "  Using cached catboost-1.0.6-cp37-none-manylinux1_x86_64.whl (76.6 MB)\n",
      "Collecting lightgbm<3.4,>=3.3\n",
      "  Using cached lightgbm-3.3.3-py3-none-manylinux1_x86_64.whl (2.0 MB)\n",
      "Collecting xgboost<1.5,>=1.4\n",
      "  Using cached xgboost-1.4.2-py3-none-manylinux2010_x86_64.whl (166.7 MB)\n",
      "Collecting autogluon-contrib-nlp==0.0.1b20220208\n",
      "  Using cached autogluon_contrib_nlp-0.0.1b20220208-py3-none-any.whl (157 kB)\n",
      "Collecting gluonts<0.10.0,>=0.8.0\n",
      "  Using cached gluonts-0.9.9-py3-none-any.whl (2.8 MB)\n",
      "Collecting pmdarima~=1.8.2\n",
      "  Using cached pmdarima-1.8.5-cp37-cp37m-manylinux_2_17_x86_64.manylinux2014_x86_64.manylinux_2_24_x86_64.whl (1.4 MB)\n",
      "Collecting sktime~=0.11.4\n",
      "  Using cached sktime-0.11.4-py3-none-any.whl (6.7 MB)\n",
      "Collecting tbats~=1.1\n",
      "  Using cached tbats-1.1.1-py3-none-any.whl (43 kB)\n",
      "Collecting gluoncv<0.10.6,>=0.10.5\n",
      "  Using cached gluoncv-0.10.5.post0-py2.py3-none-any.whl (1.3 MB)\n",
      "Requirement already satisfied: tokenizers>=0.9.4 in /home/ec2-user/anaconda3/envs/mxnet_p37/lib/python3.7/site-packages (from autogluon-contrib-nlp==0.0.1b20220208->autogluon.text==0.5.2->autogluon) (0.12.1)\n",
      "Requirement already satisfied: sacremoses>=0.0.38 in /home/ec2-user/anaconda3/envs/mxnet_p37/lib/python3.7/site-packages (from autogluon-contrib-nlp==0.0.1b20220208->autogluon.text==0.5.2->autogluon) (0.0.53)\n",
      "Collecting flake8\n",
      "  Using cached flake8-5.0.4-py2.py3-none-any.whl (61 kB)\n",
      "Requirement already satisfied: pyarrow in /home/ec2-user/anaconda3/envs/mxnet_p37/lib/python3.7/site-packages (from autogluon-contrib-nlp==0.0.1b20220208->autogluon.text==0.5.2->autogluon) (7.0.0)\n",
      "Collecting sacrebleu\n",
      "  Using cached sacrebleu-2.3.1-py3-none-any.whl (118 kB)\n",
      "Requirement already satisfied: regex in /home/ec2-user/anaconda3/envs/mxnet_p37/lib/python3.7/site-packages (from autogluon-contrib-nlp==0.0.1b20220208->autogluon.text==0.5.2->autogluon) (2022.3.15)\n",
      "Collecting contextvars\n",
      "  Using cached contextvars-2.4-py3-none-any.whl\n",
      "Requirement already satisfied: yacs>=0.1.6 in /home/ec2-user/anaconda3/envs/mxnet_p37/lib/python3.7/site-packages (from autogluon-contrib-nlp==0.0.1b20220208->autogluon.text==0.5.2->autogluon) (0.1.8)\n",
      "Requirement already satisfied: plotly in /home/ec2-user/anaconda3/envs/mxnet_p37/lib/python3.7/site-packages (from catboost<1.1,>=1.0->autogluon.tabular[all]==0.5.2->autogluon) (5.6.0)\n",
      "Requirement already satisfied: six in /home/ec2-user/anaconda3/envs/mxnet_p37/lib/python3.7/site-packages (from catboost<1.1,>=1.0->autogluon.tabular[all]==0.5.2->autogluon) (1.15.0)\n",
      "Requirement already satisfied: graphviz in /home/ec2-user/anaconda3/envs/mxnet_p37/cpu/lib/python3.7/site-packages (from catboost<1.1,>=1.0->autogluon.tabular[all]==0.5.2->autogluon) (0.8.4)\n",
      "Requirement already satisfied: packaging>=20.0 in /home/ec2-user/anaconda3/envs/mxnet_p37/lib/python3.7/site-packages (from dask<=2021.11.2,>=2021.09.1->autogluon.core[all]==0.5.2->autogluon) (21.3)\n",
      "Requirement already satisfied: partd>=0.3.10 in /home/ec2-user/anaconda3/envs/mxnet_p37/lib/python3.7/site-packages (from dask<=2021.11.2,>=2021.09.1->autogluon.core[all]==0.5.2->autogluon) (1.1.0)\n",
      "Requirement already satisfied: cloudpickle>=1.1.1 in /home/ec2-user/anaconda3/envs/mxnet_p37/lib/python3.7/site-packages (from dask<=2021.11.2,>=2021.09.1->autogluon.core[all]==0.5.2->autogluon) (1.6.0)\n",
      "Requirement already satisfied: pyyaml in /home/ec2-user/anaconda3/envs/mxnet_p37/lib/python3.7/site-packages (from dask<=2021.11.2,>=2021.09.1->autogluon.core[all]==0.5.2->autogluon) (5.4.1)\n",
      "Requirement already satisfied: fsspec>=0.6.0 in /home/ec2-user/anaconda3/envs/mxnet_p37/lib/python3.7/site-packages (from dask<=2021.11.2,>=2021.09.1->autogluon.core[all]==0.5.2->autogluon) (0.8.7)\n",
      "Requirement already satisfied: toolz>=0.8.2 in /home/ec2-user/anaconda3/envs/mxnet_p37/lib/python3.7/site-packages (from dask<=2021.11.2,>=2021.09.1->autogluon.core[all]==0.5.2->autogluon) (0.11.1)\n",
      "Requirement already satisfied: msgpack>=0.6.0 in /home/ec2-user/anaconda3/envs/mxnet_p37/lib/python3.7/site-packages (from distributed<=2021.11.2,>=2021.09.1->autogluon.core[all]==0.5.2->autogluon) (1.0.0)\n",
      "Requirement already satisfied: sortedcontainers!=2.0.0,!=2.0.1 in /home/ec2-user/anaconda3/envs/mxnet_p37/lib/python3.7/site-packages (from distributed<=2021.11.2,>=2021.09.1->autogluon.core[all]==0.5.2->autogluon) (2.3.0)\n",
      "Requirement already satisfied: tblib>=1.6.0 in /home/ec2-user/anaconda3/envs/mxnet_p37/lib/python3.7/site-packages (from distributed<=2021.11.2,>=2021.09.1->autogluon.core[all]==0.5.2->autogluon) (1.6.0)\n",
      "Requirement already satisfied: click>=6.6 in /home/ec2-user/anaconda3/envs/mxnet_p37/lib/python3.7/site-packages (from distributed<=2021.11.2,>=2021.09.1->autogluon.core[all]==0.5.2->autogluon) (7.1.2)\n",
      "Requirement already satisfied: jinja2 in /home/ec2-user/anaconda3/envs/mxnet_p37/lib/python3.7/site-packages (from distributed<=2021.11.2,>=2021.09.1->autogluon.core[all]==0.5.2->autogluon) (3.0.3)\n",
      "Requirement already satisfied: tornado>=5 in /home/ec2-user/anaconda3/envs/mxnet_p37/lib/python3.7/site-packages (from distributed<=2021.11.2,>=2021.09.1->autogluon.core[all]==0.5.2->autogluon) (6.1)\n",
      "Requirement already satisfied: setuptools in /home/ec2-user/anaconda3/envs/mxnet_p37/lib/python3.7/site-packages (from distributed<=2021.11.2,>=2021.09.1->autogluon.core[all]==0.5.2->autogluon) (49.6.0.post20210108)\n",
      "Requirement already satisfied: zict>=0.1.3 in /home/ec2-user/anaconda3/envs/mxnet_p37/lib/python3.7/site-packages (from distributed<=2021.11.2,>=2021.09.1->autogluon.core[all]==0.5.2->autogluon) (2.0.0)\n",
      "Collecting fastcore<1.6,>=1.4.5\n",
      "  Using cached fastcore-1.5.27-py3-none-any.whl (67 kB)\n",
      "Collecting spacy<4\n",
      "  Using cached spacy-3.4.2-cp37-cp37m-manylinux_2_17_x86_64.manylinux2014_x86_64.whl (6.4 MB)\n",
      "Requirement already satisfied: pip in /home/ec2-user/anaconda3/envs/mxnet_p37/lib/python3.7/site-packages (from fastai<2.8,>=2.3.1->autogluon.tabular[all]==0.5.2->autogluon) (22.0.4)\n",
      "Collecting fastprogress>=0.2.4\n",
      "  Using cached fastprogress-1.0.3-py3-none-any.whl (12 kB)\n",
      "Collecting fastdownload<2,>=0.0.5\n",
      "  Using cached fastdownload-0.0.7-py3-none-any.whl (12 kB)\n",
      "Collecting autocfg\n",
      "  Using cached autocfg-0.0.8-py3-none-any.whl (13 kB)\n",
      "Requirement already satisfied: portalocker in /home/ec2-user/anaconda3/envs/mxnet_p37/lib/python3.7/site-packages (from gluoncv<0.10.6,>=0.10.5->autogluon.vision==0.5.2->autogluon) (2.6.0)\n",
      "Requirement already satisfied: opencv-python in /home/ec2-user/anaconda3/envs/mxnet_p37/lib/python3.7/site-packages (from gluoncv<0.10.6,>=0.10.5->autogluon.vision==0.5.2->autogluon) (4.5.1.48)\n",
      "Requirement already satisfied: pydantic~=1.1 in /home/ec2-user/anaconda3/envs/mxnet_p37/lib/python3.7/site-packages (from gluonts<0.10.0,>=0.8.0->autogluon.timeseries[all]==0.5.2->autogluon) (1.10.2)\n",
      "Requirement already satisfied: typing-extensions~=4.0 in /home/ec2-user/anaconda3/envs/mxnet_p37/lib/python3.7/site-packages (from gluonts<0.10.0,>=0.8.0->autogluon.timeseries[all]==0.5.2->autogluon) (4.1.1)\n",
      "Collecting holidays>=0.9\n",
      "  Using cached holidays-0.16-py3-none-any.whl (184 kB)\n",
      "Requirement already satisfied: py4j in /home/ec2-user/anaconda3/envs/mxnet_p37/lib/python3.7/site-packages (from hyperopt<0.2.8,>=0.2.7->autogluon.core[all]==0.5.2->autogluon) (0.10.9.5)\n",
      "Requirement already satisfied: future in /home/ec2-user/anaconda3/envs/mxnet_p37/lib/python3.7/site-packages (from hyperopt<0.2.8,>=0.2.7->autogluon.core[all]==0.5.2->autogluon) (0.18.2)\n",
      "Requirement already satisfied: wheel in /home/ec2-user/anaconda3/envs/mxnet_p37/lib/python3.7/site-packages (from lightgbm<3.4,>=3.3->autogluon.tabular[all]==0.5.2->autogluon) (0.36.2)\n",
      "Requirement already satisfied: kiwisolver>=1.0.1 in /home/ec2-user/anaconda3/envs/mxnet_p37/lib/python3.7/site-packages (from matplotlib->autogluon.core[all]==0.5.2->autogluon) (1.3.1)\n",
      "Requirement already satisfied: pyparsing!=2.0.4,!=2.1.2,!=2.1.6,>=2.0.3 in /home/ec2-user/anaconda3/envs/mxnet_p37/lib/python3.7/site-packages (from matplotlib->autogluon.core[all]==0.5.2->autogluon) (2.4.7)\n",
      "Requirement already satisfied: cycler>=0.10 in /home/ec2-user/anaconda3/envs/mxnet_p37/lib/python3.7/site-packages (from matplotlib->autogluon.core[all]==0.5.2->autogluon) (0.10.0)\n",
      "Requirement already satisfied: python-dateutil>=2.1 in /home/ec2-user/anaconda3/envs/mxnet_p37/lib/python3.7/site-packages (from matplotlib->autogluon.core[all]==0.5.2->autogluon) (2.8.1)\n",
      "Requirement already satisfied: decorator>=4.3.0 in /home/ec2-user/anaconda3/envs/mxnet_p37/lib/python3.7/site-packages (from networkx<3.0,>=2.3->autogluon.tabular[all]==0.5.2->autogluon) (4.4.2)\n",
      "Requirement already satisfied: joblib in /home/ec2-user/anaconda3/envs/mxnet_p37/lib/python3.7/site-packages (from nltk<4.0.0,>=3.4.5->autogluon.multimodal==0.5.2->autogluon) (1.0.1)\n",
      "Requirement already satisfied: typish>=1.7.0 in /home/ec2-user/anaconda3/envs/mxnet_p37/lib/python3.7/site-packages (from nptyping<1.5.0,>=1.4.4->autogluon.multimodal==0.5.2->autogluon) (1.9.3)\n",
      "Requirement already satisfied: antlr4-python3-runtime==4.8 in /home/ec2-user/anaconda3/envs/mxnet_p37/lib/python3.7/site-packages (from omegaconf<2.2.0,>=2.1.1->autogluon.multimodal==0.5.2->autogluon) (4.8)\n",
      "Requirement already satisfied: pytz>=2017.3 in /home/ec2-user/anaconda3/envs/mxnet_p37/lib/python3.7/site-packages (from pandas!=1.4.0,<1.5,>=1.2.5->autogluon.core[all]==0.5.2->autogluon) (2021.1)\n",
      "Requirement already satisfied: Cython!=0.29.18,>=0.29 in /home/ec2-user/anaconda3/envs/mxnet_p37/lib/python3.7/site-packages (from pmdarima~=1.8.2->autogluon.timeseries[all]==0.5.2->autogluon) (0.29.22)\n",
      "Requirement already satisfied: urllib3 in /home/ec2-user/anaconda3/envs/mxnet_p37/lib/python3.7/site-packages (from pmdarima~=1.8.2->autogluon.timeseries[all]==0.5.2->autogluon) (1.26.8)\n",
      "Requirement already satisfied: statsmodels!=0.12.0,>=0.11 in /home/ec2-user/anaconda3/envs/mxnet_p37/lib/python3.7/site-packages (from pmdarima~=1.8.2->autogluon.timeseries[all]==0.5.2->autogluon) (0.12.2)\n",
      "Requirement already satisfied: pyDeprecate>=0.3.1 in /home/ec2-user/anaconda3/envs/mxnet_p37/lib/python3.7/site-packages (from pytorch-lightning<1.7.0,>=1.6.0->autogluon.multimodal==0.5.2->autogluon) (0.3.2)\n",
      "Collecting tensorboard>=2.2.0\n",
      "  Using cached tensorboard-2.10.1-py3-none-any.whl (5.9 MB)\n",
      "Collecting fsspec[http]!=2021.06.0,>=2021.05.0\n",
      "  Using cached fsspec-2022.10.0-py3-none-any.whl (138 kB)\n",
      "Collecting grpcio<=1.43.0,>=1.28.1\n",
      "  Using cached grpcio-1.43.0-cp37-cp37m-manylinux_2_17_x86_64.manylinux2014_x86_64.whl (4.1 MB)\n",
      "Collecting virtualenv\n",
      "  Using cached virtualenv-20.16.6-py3-none-any.whl (8.8 MB)\n",
      "Requirement already satisfied: aiosignal in /home/ec2-user/anaconda3/envs/mxnet_p37/lib/python3.7/site-packages (from ray[tune]<1.14,>=1.13->autogluon.core[all]==0.5.2->autogluon) (1.2.0)\n",
      "Requirement already satisfied: attrs in /home/ec2-user/anaconda3/envs/mxnet_p37/lib/python3.7/site-packages (from ray[tune]<1.14,>=1.13->autogluon.core[all]==0.5.2->autogluon) (20.3.0)\n",
      "Requirement already satisfied: frozenlist in /home/ec2-user/anaconda3/envs/mxnet_p37/lib/python3.7/site-packages (from ray[tune]<1.14,>=1.13->autogluon.core[all]==0.5.2->autogluon) (1.3.0)\n",
      "Requirement already satisfied: filelock in /home/ec2-user/anaconda3/envs/mxnet_p37/lib/python3.7/site-packages (from ray[tune]<1.14,>=1.13->autogluon.core[all]==0.5.2->autogluon) (3.0.12)\n",
      "Requirement already satisfied: jsonschema in /home/ec2-user/anaconda3/envs/mxnet_p37/lib/python3.7/site-packages (from ray[tune]<1.14,>=1.13->autogluon.core[all]==0.5.2->autogluon) (3.2.0)\n",
      "Collecting tensorboardX>=1.9\n",
      "  Using cached tensorboardX-2.5.1-py2.py3-none-any.whl (125 kB)\n",
      "Requirement already satisfied: tabulate in /home/ec2-user/anaconda3/envs/mxnet_p37/lib/python3.7/site-packages (from ray[tune]<1.14,>=1.13->autogluon.core[all]==0.5.2->autogluon) (0.8.9)\n",
      "Requirement already satisfied: charset-normalizer<3,>=2 in /home/ec2-user/anaconda3/envs/mxnet_p37/lib/python3.7/site-packages (from requests->autogluon.core[all]==0.5.2->autogluon) (2.0.12)\n",
      "Requirement already satisfied: idna<4,>=2.5 in /home/ec2-user/anaconda3/envs/mxnet_p37/lib/python3.7/site-packages (from requests->autogluon.core[all]==0.5.2->autogluon) (2.10)\n",
      "Requirement already satisfied: certifi>=2017.4.17 in /home/ec2-user/anaconda3/envs/mxnet_p37/lib/python3.7/site-packages (from requests->autogluon.core[all]==0.5.2->autogluon) (2021.10.8)\n",
      "Requirement already satisfied: imageio>=2.4.1 in /home/ec2-user/anaconda3/envs/mxnet_p37/lib/python3.7/site-packages (from scikit-image<0.20.0,>=0.19.1->autogluon.multimodal==0.5.2->autogluon) (2.9.0)\n",
      "Requirement already satisfied: tifffile>=2019.7.26 in /home/ec2-user/anaconda3/envs/mxnet_p37/lib/python3.7/site-packages (from scikit-image<0.20.0,>=0.19.1->autogluon.multimodal==0.5.2->autogluon) (2021.2.1)\n",
      "Requirement already satisfied: PyWavelets>=1.1.1 in /home/ec2-user/anaconda3/envs/mxnet_p37/lib/python3.7/site-packages (from scikit-image<0.20.0,>=0.19.1->autogluon.multimodal==0.5.2->autogluon) (1.1.1)\n",
      "Requirement already satisfied: threadpoolctl>=2.0.0 in /home/ec2-user/anaconda3/envs/mxnet_p37/lib/python3.7/site-packages (from scikit-learn<1.1,>=1.0.0->autogluon.core[all]==0.5.2->autogluon) (2.1.0)\n",
      "Collecting deprecated>=1.2.13\n",
      "  Using cached Deprecated-1.2.13-py2.py3-none-any.whl (9.6 kB)\n",
      "Collecting numba>=0.53\n",
      "  Using cached numba-0.56.3-cp37-cp37m-manylinux2014_x86_64.manylinux_2_17_x86_64.whl (3.5 MB)\n",
      "Collecting huggingface-hub<1.0,>=0.1.0\n",
      "  Using cached huggingface_hub-0.10.1-py3-none-any.whl (163 kB)\n",
      "Requirement already satisfied: importlib-metadata in /home/ec2-user/anaconda3/envs/mxnet_p37/lib/python3.7/site-packages (from transformers<4.21.0,>=4.18.0->autogluon.multimodal==0.5.2->autogluon) (3.7.0)\n",
      "Requirement already satisfied: botocore<1.28.0,>=1.27.89 in /home/ec2-user/anaconda3/envs/mxnet_p37/lib/python3.7/site-packages (from boto3->autogluon.core[all]==0.5.2->autogluon) (1.27.89)\n",
      "Requirement already satisfied: s3transfer<0.7.0,>=0.6.0 in /home/ec2-user/anaconda3/envs/mxnet_p37/lib/python3.7/site-packages (from boto3->autogluon.core[all]==0.5.2->autogluon) (0.6.0)\n",
      "Requirement already satisfied: jmespath<2.0.0,>=0.7.1 in /home/ec2-user/anaconda3/envs/mxnet_p37/lib/python3.7/site-packages (from boto3->autogluon.core[all]==0.5.2->autogluon) (0.10.0)\n",
      "Requirement already satisfied: wrapt<2,>=1.10 in /home/ec2-user/anaconda3/envs/mxnet_p37/lib/python3.7/site-packages (from deprecated>=1.2.13->sktime~=0.11.4->autogluon.timeseries[all]==0.5.2->autogluon) (1.12.1)\n",
      "Requirement already satisfied: aiohttp!=4.0.0a0,!=4.0.0a1 in /home/ec2-user/anaconda3/envs/mxnet_p37/lib/python3.7/site-packages (from fsspec[http]!=2021.06.0,>=2021.05.0->pytorch-lightning<1.7.0,>=1.6.0->autogluon.multimodal==0.5.2->autogluon) (3.8.1)\n",
      "Requirement already satisfied: korean-lunar-calendar in /home/ec2-user/anaconda3/envs/mxnet_p37/lib/python3.7/site-packages (from holidays>=0.9->gluonts<0.10.0,>=0.8.0->autogluon.timeseries[all]==0.5.2->autogluon) (0.3.1)\n",
      "Collecting hijri-converter\n",
      "  Using cached hijri_converter-2.2.4-py3-none-any.whl (14 kB)\n",
      "Collecting convertdate>=2.3.0\n",
      "  Using cached convertdate-2.4.0-py3-none-any.whl (47 kB)\n",
      "Collecting llvmlite<0.40,>=0.39.0dev0\n",
      "  Using cached llvmlite-0.39.1-cp37-cp37m-manylinux_2_17_x86_64.manylinux2014_x86_64.whl (34.6 MB)\n",
      "Requirement already satisfied: locket in /home/ec2-user/anaconda3/envs/mxnet_p37/lib/python3.7/site-packages (from partd>=0.3.10->dask<=2021.11.2,>=2021.09.1->autogluon.core[all]==0.5.2->autogluon) (0.2.0)\n",
      "Collecting thinc<8.2.0,>=8.1.0\n",
      "  Using cached thinc-8.1.5-cp37-cp37m-manylinux_2_17_x86_64.manylinux2014_x86_64.whl (806 kB)\n",
      "Collecting catalogue<2.1.0,>=2.0.6\n",
      "  Using cached catalogue-2.0.8-py3-none-any.whl (17 kB)\n",
      "Collecting preshed<3.1.0,>=3.0.2\n",
      "  Using cached preshed-3.0.8-cp37-cp37m-manylinux_2_5_x86_64.manylinux1_x86_64.manylinux_2_17_x86_64.manylinux2014_x86_64.whl (126 kB)\n",
      "Requirement already satisfied: murmurhash<1.1.0,>=0.28.0 in /home/ec2-user/anaconda3/envs/mxnet_p37/lib/python3.7/site-packages (from spacy<4->fastai<2.8,>=2.3.1->autogluon.tabular[all]==0.5.2->autogluon) (1.0.9)\n",
      "Collecting srsly<3.0.0,>=2.4.3\n",
      "  Using cached srsly-2.4.5-cp37-cp37m-manylinux_2_17_x86_64.manylinux2014_x86_64.whl (490 kB)\n",
      "Requirement already satisfied: spacy-legacy<3.1.0,>=3.0.10 in /home/ec2-user/anaconda3/envs/mxnet_p37/lib/python3.7/site-packages (from spacy<4->fastai<2.8,>=2.3.1->autogluon.tabular[all]==0.5.2->autogluon) (3.0.10)\n",
      "Collecting pathy>=0.3.5\n",
      "  Using cached pathy-0.6.2-py3-none-any.whl (42 kB)\n",
      "Requirement already satisfied: typer<0.5.0,>=0.3.0 in /home/ec2-user/anaconda3/envs/mxnet_p37/lib/python3.7/site-packages (from spacy<4->fastai<2.8,>=2.3.1->autogluon.tabular[all]==0.5.2->autogluon) (0.4.2)\n",
      "Requirement already satisfied: wasabi<1.1.0,>=0.9.1 in /home/ec2-user/anaconda3/envs/mxnet_p37/lib/python3.7/site-packages (from spacy<4->fastai<2.8,>=2.3.1->autogluon.tabular[all]==0.5.2->autogluon) (0.10.1)\n",
      "Collecting langcodes<4.0.0,>=3.2.0\n",
      "  Using cached langcodes-3.3.0-py3-none-any.whl (181 kB)\n",
      "Requirement already satisfied: spacy-loggers<2.0.0,>=1.0.0 in /home/ec2-user/anaconda3/envs/mxnet_p37/lib/python3.7/site-packages (from spacy<4->fastai<2.8,>=2.3.1->autogluon.tabular[all]==0.5.2->autogluon) (1.0.3)\n",
      "Requirement already satisfied: cymem<2.1.0,>=2.0.2 in /home/ec2-user/anaconda3/envs/mxnet_p37/lib/python3.7/site-packages (from spacy<4->fastai<2.8,>=2.3.1->autogluon.tabular[all]==0.5.2->autogluon) (2.0.7)\n",
      "Requirement already satisfied: patsy>=0.5 in /home/ec2-user/anaconda3/envs/mxnet_p37/lib/python3.7/site-packages (from statsmodels!=0.12.0,>=0.11->pmdarima~=1.8.2->autogluon.timeseries[all]==0.5.2->autogluon) (0.5.1)\n",
      "Collecting google-auth-oauthlib<0.5,>=0.4.1\n",
      "  Using cached google_auth_oauthlib-0.4.6-py2.py3-none-any.whl (18 kB)\n",
      "Collecting absl-py>=0.4\n",
      "  Using cached absl_py-1.3.0-py3-none-any.whl (124 kB)\n",
      "Collecting google-auth<3,>=1.6.3\n",
      "  Using cached google_auth-2.13.0-py2.py3-none-any.whl (174 kB)\n",
      "Requirement already satisfied: tensorboard-data-server<0.7.0,>=0.6.0 in /home/ec2-user/anaconda3/envs/mxnet_p37/lib/python3.7/site-packages (from tensorboard>=2.2.0->pytorch-lightning<1.7.0,>=1.6.0->autogluon.multimodal==0.5.2->autogluon) (0.6.1)\n",
      "Collecting markdown>=2.6.8\n",
      "  Using cached Markdown-3.4.1-py3-none-any.whl (93 kB)\n",
      "Requirement already satisfied: tensorboard-plugin-wit>=1.6.0 in /home/ec2-user/anaconda3/envs/mxnet_p37/lib/python3.7/site-packages (from tensorboard>=2.2.0->pytorch-lightning<1.7.0,>=1.6.0->autogluon.multimodal==0.5.2->autogluon) (1.8.1)\n",
      "Requirement already satisfied: werkzeug>=1.0.1 in /home/ec2-user/anaconda3/envs/mxnet_p37/lib/python3.7/site-packages (from tensorboard>=2.2.0->pytorch-lightning<1.7.0,>=1.6.0->autogluon.multimodal==0.5.2->autogluon) (2.0.3)\n",
      "Requirement already satisfied: heapdict in /home/ec2-user/anaconda3/envs/mxnet_p37/lib/python3.7/site-packages (from zict>=0.1.3->distributed<=2021.11.2,>=2021.09.1->autogluon.core[all]==0.5.2->autogluon) (1.0.1)\n",
      "Collecting immutables>=0.9\n",
      "  Using cached immutables-0.19-cp37-cp37m-manylinux_2_5_x86_64.manylinux1_x86_64.manylinux_2_17_x86_64.manylinux2014_x86_64.whl (117 kB)\n",
      "Requirement already satisfied: pyflakes<2.6.0,>=2.5.0 in /home/ec2-user/anaconda3/envs/mxnet_p37/lib/python3.7/site-packages (from flake8->autogluon-contrib-nlp==0.0.1b20220208->autogluon.text==0.5.2->autogluon) (2.5.0)\n",
      "Requirement already satisfied: mccabe<0.8.0,>=0.7.0 in /home/ec2-user/anaconda3/envs/mxnet_p37/lib/python3.7/site-packages (from flake8->autogluon-contrib-nlp==0.0.1b20220208->autogluon.text==0.5.2->autogluon) (0.7.0)\n",
      "Requirement already satisfied: pycodestyle<2.10.0,>=2.9.0 in /home/ec2-user/anaconda3/envs/mxnet_p37/lib/python3.7/site-packages (from flake8->autogluon-contrib-nlp==0.0.1b20220208->autogluon.text==0.5.2->autogluon) (2.9.1)\n",
      "Requirement already satisfied: zipp>=0.5 in /home/ec2-user/anaconda3/envs/mxnet_p37/lib/python3.7/site-packages (from importlib-metadata->transformers<4.21.0,>=4.18.0->autogluon.multimodal==0.5.2->autogluon) (3.4.0)\n",
      "Requirement already satisfied: MarkupSafe>=2.0 in /home/ec2-user/anaconda3/envs/mxnet_p37/lib/python3.7/site-packages (from jinja2->distributed<=2021.11.2,>=2021.09.1->autogluon.core[all]==0.5.2->autogluon) (2.1.1)\n",
      "Requirement already satisfied: pyrsistent>=0.14.0 in /home/ec2-user/anaconda3/envs/mxnet_p37/lib/python3.7/site-packages (from jsonschema->ray[tune]<1.14,>=1.13->autogluon.core[all]==0.5.2->autogluon) (0.17.3)\n",
      "Requirement already satisfied: tenacity>=6.2.0 in /home/ec2-user/anaconda3/envs/mxnet_p37/lib/python3.7/site-packages (from plotly->catboost<1.1,>=1.0->autogluon.tabular[all]==0.5.2->autogluon) (8.0.1)\n",
      "Requirement already satisfied: colorama in /home/ec2-user/anaconda3/envs/mxnet_p37/lib/python3.7/site-packages (from sacrebleu->autogluon-contrib-nlp==0.0.1b20220208->autogluon.text==0.5.2->autogluon) (0.4.3)\n",
      "Requirement already satisfied: lxml in /home/ec2-user/anaconda3/envs/mxnet_p37/lib/python3.7/site-packages (from sacrebleu->autogluon-contrib-nlp==0.0.1b20220208->autogluon.text==0.5.2->autogluon) (4.8.0)\n",
      "Collecting virtualenv\n",
      "  Using cached virtualenv-20.16.5-py3-none-any.whl (8.8 MB)\n",
      "  Using cached virtualenv-20.16.4-py3-none-any.whl (8.8 MB)\n",
      "  Using cached virtualenv-20.16.3-py2.py3-none-any.whl (8.8 MB)\n",
      "  Using cached virtualenv-20.16.2-py2.py3-none-any.whl (8.8 MB)\n",
      "Collecting filelock\n",
      "  Using cached filelock-3.8.0-py3-none-any.whl (10 kB)\n",
      "Requirement already satisfied: platformdirs<3,>=2 in /home/ec2-user/anaconda3/envs/mxnet_p37/lib/python3.7/site-packages (from virtualenv->ray[tune]<1.14,>=1.13->autogluon.core[all]==0.5.2->autogluon) (2.5.1)\n",
      "Requirement already satisfied: distlib<1,>=0.3.1 in /home/ec2-user/anaconda3/envs/mxnet_p37/lib/python3.7/site-packages (from virtualenv->ray[tune]<1.14,>=1.13->autogluon.core[all]==0.5.2->autogluon) (0.3.6)\n",
      "Requirement already satisfied: yarl<2.0,>=1.0 in /home/ec2-user/anaconda3/envs/mxnet_p37/lib/python3.7/site-packages (from aiohttp!=4.0.0a0,!=4.0.0a1->fsspec[http]!=2021.06.0,>=2021.05.0->pytorch-lightning<1.7.0,>=1.6.0->autogluon.multimodal==0.5.2->autogluon) (1.6.3)\n",
      "Requirement already satisfied: async-timeout<5.0,>=4.0.0a3 in /home/ec2-user/anaconda3/envs/mxnet_p37/lib/python3.7/site-packages (from aiohttp!=4.0.0a0,!=4.0.0a1->fsspec[http]!=2021.06.0,>=2021.05.0->pytorch-lightning<1.7.0,>=1.6.0->autogluon.multimodal==0.5.2->autogluon) (4.0.2)\n",
      "Requirement already satisfied: multidict<7.0,>=4.5 in /home/ec2-user/anaconda3/envs/mxnet_p37/lib/python3.7/site-packages (from aiohttp!=4.0.0a0,!=4.0.0a1->fsspec[http]!=2021.06.0,>=2021.05.0->pytorch-lightning<1.7.0,>=1.6.0->autogluon.multimodal==0.5.2->autogluon) (5.1.0)\n",
      "Requirement already satisfied: asynctest==0.13.0 in /home/ec2-user/anaconda3/envs/mxnet_p37/lib/python3.7/site-packages (from aiohttp!=4.0.0a0,!=4.0.0a1->fsspec[http]!=2021.06.0,>=2021.05.0->pytorch-lightning<1.7.0,>=1.6.0->autogluon.multimodal==0.5.2->autogluon) (0.13.0)\n",
      "Requirement already satisfied: pymeeus<=1,>=0.3.13 in /home/ec2-user/anaconda3/envs/mxnet_p37/lib/python3.7/site-packages (from convertdate>=2.3.0->holidays>=0.9->gluonts<0.10.0,>=0.8.0->autogluon.timeseries[all]==0.5.2->autogluon) (0.5.11)\n",
      "Collecting cachetools<6.0,>=2.0.0\n",
      "  Using cached cachetools-5.2.0-py3-none-any.whl (9.3 kB)\n",
      "Requirement already satisfied: pyasn1-modules>=0.2.1 in /home/ec2-user/anaconda3/envs/mxnet_p37/lib/python3.7/site-packages (from google-auth<3,>=1.6.3->tensorboard>=2.2.0->pytorch-lightning<1.7.0,>=1.6.0->autogluon.multimodal==0.5.2->autogluon) (0.2.8)\n",
      "Requirement already satisfied: rsa<5,>=3.1.4 in /home/ec2-user/anaconda3/envs/mxnet_p37/lib/python3.7/site-packages (from google-auth<3,>=1.6.3->tensorboard>=2.2.0->pytorch-lightning<1.7.0,>=1.6.0->autogluon.multimodal==0.5.2->autogluon) (4.7.2)\n",
      "Collecting requests-oauthlib>=0.7.0\n",
      "  Using cached requests_oauthlib-1.3.1-py2.py3-none-any.whl (23 kB)\n",
      "Collecting markdown>=2.6.8\n",
      "  Using cached Markdown-3.4-py3-none-any.whl (93 kB)\n",
      "  Using cached Markdown-3.3.7-py3-none-any.whl (97 kB)\n",
      "  Using cached Markdown-3.3.6-py3-none-any.whl (97 kB)\n",
      "  Using cached Markdown-3.3.4-py3-none-any.whl (97 kB)\n",
      "Collecting confection<1.0.0,>=0.0.1\n",
      "  Using cached confection-0.0.3-py3-none-any.whl (32 kB)\n",
      "Collecting blis<0.8.0,>=0.7.8\n",
      "  Using cached blis-0.7.9-cp37-cp37m-manylinux_2_17_x86_64.manylinux2014_x86_64.whl (10.2 MB)\n",
      "Requirement already satisfied: pyasn1<0.5.0,>=0.4.6 in /home/ec2-user/anaconda3/envs/mxnet_p37/lib/python3.7/site-packages (from pyasn1-modules>=0.2.1->google-auth<3,>=1.6.3->tensorboard>=2.2.0->pytorch-lightning<1.7.0,>=1.6.0->autogluon.multimodal==0.5.2->autogluon) (0.4.8)\n",
      "Requirement already satisfied: oauthlib>=3.0.0 in /home/ec2-user/anaconda3/envs/mxnet_p37/lib/python3.7/site-packages (from requests-oauthlib>=0.7.0->google-auth-oauthlib<0.5,>=0.4.1->tensorboard>=2.2.0->pytorch-lightning<1.7.0,>=1.6.0->autogluon.multimodal==0.5.2->autogluon) (3.2.2)\n",
      "Installing collected packages: tensorboardX, sacrebleu, preshed, llvmlite, langcodes, immutables, hijri-converter, grpcio, fsspec, filelock, fastprogress, deprecated, convertdate, catalogue, cachetools, blis, autocfg, absl-py, xgboost, virtualenv, torchvision, torchtext, torchmetrics, srsly, scikit-learn, scikit-image, requests-oauthlib, pathy, pandas, numba, markdown, hyperopt, huggingface-hub, holidays, google-auth, flake8, fastcore, fairscale, dask, contextvars, transformers, timm, ray, pytorch-metric-learning, nlpaug, lightgbm, google-auth-oauthlib, gluonts, gluoncv, fastdownload, distributed, confection, catboost, autogluon-contrib-nlp, thinc, tensorboard, sktime, pmdarima, tbats, spacy, pytorch-lightning, autogluon.common, fastai, autogluon.features, autogluon.core, autogluon.vision, autogluon.timeseries, autogluon.tabular, autogluon.multimodal, autogluon.text, autogluon\n",
      "\u001b[33m  WARNING: The script sacrebleu is installed in '/home/ec2-user/.local/bin' which is not on PATH.\n",
      "  Consider adding this directory to PATH or, if you prefer to suppress this warning, use --no-warn-script-location.\u001b[0m\u001b[33m\n",
      "\u001b[0m\u001b[33m  WARNING: The script censusgeocode is installed in '/home/ec2-user/.local/bin' which is not on PATH.\n",
      "  Consider adding this directory to PATH or, if you prefer to suppress this warning, use --no-warn-script-location.\u001b[0m\u001b[33m\n",
      "\u001b[0m\u001b[33m  WARNING: The script virtualenv is installed in '/home/ec2-user/.local/bin' which is not on PATH.\n",
      "  Consider adding this directory to PATH or, if you prefer to suppress this warning, use --no-warn-script-location.\u001b[0m\u001b[33m\n",
      "\u001b[0m\u001b[33m  WARNING: The script skivi is installed in '/home/ec2-user/.local/bin' which is not on PATH.\n",
      "  Consider adding this directory to PATH or, if you prefer to suppress this warning, use --no-warn-script-location.\u001b[0m\u001b[33m\n",
      "\u001b[0m\u001b[33m  WARNING: The script pathy is installed in '/home/ec2-user/.local/bin' which is not on PATH.\n",
      "  Consider adding this directory to PATH or, if you prefer to suppress this warning, use --no-warn-script-location.\u001b[0m\u001b[33m\n",
      "\u001b[0m\u001b[33m  WARNING: The script markdown_py is installed in '/home/ec2-user/.local/bin' which is not on PATH.\n",
      "  Consider adding this directory to PATH or, if you prefer to suppress this warning, use --no-warn-script-location.\u001b[0m\u001b[33m\n",
      "\u001b[0m\u001b[33m  WARNING: The script hyperopt-mongo-worker is installed in '/home/ec2-user/.local/bin' which is not on PATH.\n",
      "  Consider adding this directory to PATH or, if you prefer to suppress this warning, use --no-warn-script-location.\u001b[0m\u001b[33m\n",
      "\u001b[0m\u001b[33m  WARNING: The script huggingface-cli is installed in '/home/ec2-user/.local/bin' which is not on PATH.\n",
      "  Consider adding this directory to PATH or, if you prefer to suppress this warning, use --no-warn-script-location.\u001b[0m\u001b[33m\n",
      "\u001b[0m\u001b[33m  WARNING: The script flake8 is installed in '/home/ec2-user/.local/bin' which is not on PATH.\n",
      "  Consider adding this directory to PATH or, if you prefer to suppress this warning, use --no-warn-script-location.\u001b[0m\u001b[33m\n",
      "\u001b[0m\u001b[33m  WARNING: The script transformers-cli is installed in '/home/ec2-user/.local/bin' which is not on PATH.\n",
      "  Consider adding this directory to PATH or, if you prefer to suppress this warning, use --no-warn-script-location.\u001b[0m\u001b[33m\n",
      "\u001b[0m\u001b[33m  WARNING: The scripts ray, ray-operator, rllib, serve and tune are installed in '/home/ec2-user/.local/bin' which is not on PATH.\n",
      "  Consider adding this directory to PATH or, if you prefer to suppress this warning, use --no-warn-script-location.\u001b[0m\u001b[33m\n",
      "\u001b[0m\u001b[33m  WARNING: The script google-oauthlib-tool is installed in '/home/ec2-user/.local/bin' which is not on PATH.\n",
      "  Consider adding this directory to PATH or, if you prefer to suppress this warning, use --no-warn-script-location.\u001b[0m\u001b[33m\n",
      "\u001b[0m\u001b[33m  WARNING: The scripts dask-scheduler, dask-ssh and dask-worker are installed in '/home/ec2-user/.local/bin' which is not on PATH.\n",
      "  Consider adding this directory to PATH or, if you prefer to suppress this warning, use --no-warn-script-location.\u001b[0m\u001b[33m\n",
      "\u001b[0m\u001b[33m  WARNING: The script tensorboard is installed in '/home/ec2-user/.local/bin' which is not on PATH.\n",
      "  Consider adding this directory to PATH or, if you prefer to suppress this warning, use --no-warn-script-location.\u001b[0m\u001b[33m\n",
      "\u001b[0m\u001b[33m  WARNING: The script spacy is installed in '/home/ec2-user/.local/bin' which is not on PATH.\n",
      "  Consider adding this directory to PATH or, if you prefer to suppress this warning, use --no-warn-script-location.\u001b[0m\u001b[33m\n",
      "\u001b[0m\u001b[33m  WARNING: The script configure_accelerate is installed in '/home/ec2-user/.local/bin' which is not on PATH.\n",
      "  Consider adding this directory to PATH or, if you prefer to suppress this warning, use --no-warn-script-location.\u001b[0m\u001b[33m\n",
      "\u001b[0mSuccessfully installed absl-py-1.3.0 autocfg-0.0.8 autogluon-0.5.2 autogluon-contrib-nlp-0.0.1b20220208 autogluon.common-0.5.2 autogluon.core-0.5.2 autogluon.features-0.5.2 autogluon.multimodal-0.5.2 autogluon.tabular-0.5.2 autogluon.text-0.5.2 autogluon.timeseries-0.5.2 autogluon.vision-0.5.2 blis-0.7.9 cachetools-5.2.0 catalogue-2.0.8 catboost-1.0.6 confection-0.0.3 contextvars-2.4 convertdate-2.4.0 dask-2021.11.2 deprecated-1.2.13 distributed-2021.11.2 fairscale-0.4.6 fastai-2.7.9 fastcore-1.5.27 fastdownload-0.0.7 fastprogress-1.0.3 filelock-3.8.0 flake8-5.0.4 fsspec-2022.10.0 gluoncv-0.10.5.post0 gluonts-0.9.9 google-auth-2.13.0 google-auth-oauthlib-0.4.6 grpcio-1.43.0 hijri-converter-2.2.4 holidays-0.16 huggingface-hub-0.10.1 hyperopt-0.2.7 immutables-0.19 langcodes-3.3.0 lightgbm-3.3.3 llvmlite-0.39.1 markdown-3.3.4 nlpaug-1.1.10 numba-0.56.3 pandas-1.3.5 pathy-0.6.2 pmdarima-1.8.5 preshed-3.0.8 pytorch-lightning-1.6.5 pytorch-metric-learning-1.3.2 ray-1.13.0 requests-oauthlib-1.3.1 sacrebleu-2.3.1 scikit-image-0.19.3 scikit-learn-1.0.2 sktime-0.11.4 spacy-3.4.2 srsly-2.4.5 tbats-1.1.1 tensorboard-2.10.1 tensorboardX-2.5.1 thinc-8.1.5 timm-0.5.4 torchmetrics-0.7.3 torchtext-0.13.1 torchvision-0.13.1 transformers-4.20.1 virtualenv-20.16.2 xgboost-1.4.2\n",
      "\u001b[33mWARNING: You are using pip version 22.0.4; however, version 22.3 is available.\n",
      "You should consider upgrading via the '/home/ec2-user/anaconda3/envs/mxnet_p37/bin/python -m pip install --upgrade pip' command.\u001b[0m\u001b[33m\n",
      "\u001b[0m"
     ]
    }
   ],
   "source": [
    "# !pip3 install -U pip\n",
    "# !pip3 install -U setuptools wheel\n",
    "\n",
    "# # CPU version of pytorch has smaller footprint - see installation instructions in\n",
    "# # pytorch documentation - https://pytorch.org/get-started/locally/\n",
    "# !pip3 install torch==1.12+cpu torchvision==0.13.0+cpu torchtext==0.13.0 -f https://download.pytorch.org/whl/cpu/torch_stable.html\n",
    "\n",
    "!pip install autogluon --user"
   ]
  },
  {
   "cell_type": "code",
   "execution_count": 5,
   "id": "4ef181b0-5f36-4314-a0b8-dcf59424889f",
   "metadata": {},
   "outputs": [
    {
     "name": "stdout",
     "output_type": "stream",
     "text": [
      "Looking in indexes: https://pypi.org/simple, https://pip.repos.neuron.amazonaws.com\n",
      "Collecting mxnet==1.9\n",
      "  Downloading mxnet-1.9.0-py3-none-manylinux2014_x86_64.whl (47.3 MB)\n",
      "\u001b[2K     \u001b[90m━━━━━━━━━━━━━━━━━━━━━━━━━━━━━━━━━━━━━━━━\u001b[0m \u001b[32m47.3/47.3 MB\u001b[0m \u001b[31m37.5 MB/s\u001b[0m eta \u001b[36m0:00:00\u001b[0m00:01\u001b[0m00:01\u001b[0m\n",
      "\u001b[?25hRequirement already satisfied: numpy<2.0.0,>1.16.0 in /home/ec2-user/anaconda3/envs/mxnet_p37/lib/python3.7/site-packages (from mxnet==1.9) (1.21.5)\n",
      "Requirement already satisfied: requests<3,>=2.20.0 in /home/ec2-user/anaconda3/envs/mxnet_p37/lib/python3.7/site-packages (from mxnet==1.9) (2.28.1)\n",
      "Requirement already satisfied: graphviz<0.9.0,>=0.8.1 in /home/ec2-user/anaconda3/envs/mxnet_p37/cpu/lib/python3.7/site-packages (from mxnet==1.9) (0.8.4)\n",
      "Requirement already satisfied: urllib3<1.27,>=1.21.1 in /home/ec2-user/anaconda3/envs/mxnet_p37/lib/python3.7/site-packages (from requests<3,>=2.20.0->mxnet==1.9) (1.26.8)\n",
      "Requirement already satisfied: idna<4,>=2.5 in /home/ec2-user/anaconda3/envs/mxnet_p37/lib/python3.7/site-packages (from requests<3,>=2.20.0->mxnet==1.9) (2.10)\n",
      "Requirement already satisfied: certifi>=2017.4.17 in /home/ec2-user/anaconda3/envs/mxnet_p37/lib/python3.7/site-packages (from requests<3,>=2.20.0->mxnet==1.9) (2021.10.8)\n",
      "Requirement already satisfied: charset-normalizer<3,>=2 in /home/ec2-user/anaconda3/envs/mxnet_p37/lib/python3.7/site-packages (from requests<3,>=2.20.0->mxnet==1.9) (2.0.12)\n",
      "Installing collected packages: mxnet\n",
      "Successfully installed mxnet-1.9.0\n",
      "\u001b[33mWARNING: You are using pip version 22.0.4; however, version 22.3 is available.\n",
      "You should consider upgrading via the '/home/ec2-user/anaconda3/envs/mxnet_p37/bin/python -m pip install --upgrade pip' command.\u001b[0m\u001b[33m\n",
      "\u001b[0m"
     ]
    }
   ],
   "source": [
    "!pip install mxnet==1.9 --user"
   ]
  },
  {
   "cell_type": "code",
   "execution_count": 2,
   "id": "ccb5d786-0cd6-4fe0-a936-74e16c650859",
   "metadata": {},
   "outputs": [],
   "source": [
    "from autogluon.timeseries import TimeSeriesPredictor, TimeSeriesDataFrame\n",
    "import pandas as pd\n"
   ]
  },
  {
   "cell_type": "code",
   "execution_count": 3,
   "id": "39e24257-af81-4ec8-b208-9e61baca2e7a",
   "metadata": {},
   "outputs": [],
   "source": [
    "preprocessed_training_data = 's3://sagemaker-ap-northeast-2-276114397529/sagemaker-scikit-learn-2022-10-25-22-51-41-106/output/train_data'\n",
    "preprocessed_test_data = 's3://sagemaker-ap-northeast-2-276114397529/sagemaker-scikit-learn-2022-10-25-22-51-41-106/output/test_data'"
   ]
  },
  {
   "cell_type": "code",
   "execution_count": 19,
   "id": "4bae44e3-0d21-404b-9f2d-7d02872d9b9e",
   "metadata": {},
   "outputs": [],
   "source": [
    "keychain = json.loads(get_secret())\n",
    "ACCESS_KEY_ID = keychain['ACCESS_KEY_ID_ent']\n",
    "ACCESS_SECRET_KEY = keychain['ACCESS_SECRET_KEY_ent']\n",
    "\n",
    "BUCKET_NAME_USECASE = keychain['BUCKET_NAME_USECASE_ent']\n",
    "S3_PATH_STAGE = keychain['S3_PATH_STAGE']\n",
    "S3_PATH_GOLDEN = keychain['S3_PATH_GOLDEN']\n",
    "S3_PATH_TRAIN = keychain['S3_PATH_TRAIN']\n",
    "S3_PATH_log = keychain['S3_PATH_LOG']\n",
    "\n",
    "boto_session = boto3.Session(ACCESS_KEY_ID, ACCESS_SECRET_KEY)\n",
    "sm_session = sagemaker.Session(boto_session = boto_session)\n",
    "region = boto_session.region_name\n",
    "role = sagemaker.get_execution_role()"
   ]
  },
  {
   "cell_type": "code",
   "execution_count": 13,
   "id": "171d1865-63f6-400b-92e7-1cf2a056f110",
   "metadata": {},
   "outputs": [
    {
     "name": "stdout",
     "output_type": "stream",
     "text": [
      "s3://sagemaker-ap-northeast-2-276114397529/sagemaker-scikit-learn-2022-10-25-22-51-41-106/output/train_data\n",
      "s3://sagemaker-ap-northeast-2-276114397529/sagemaker-scikit-learn-2022-10-25-22-51-41-106/output/test_data\n",
      "AWS Region: ap-northeast-2\n",
      "RoleArn: arn:aws:iam::276114397529:role/service-role/AmazonSageMakerServiceCatalogProductsUseRole\n"
     ]
    }
   ],
   "source": [
    "# 2. 최하단에 처리됬던 부분 확인용\n",
    "print(preprocessed_training_data)\n",
    "print(preprocessed_test_data)\n",
    "print(\"AWS Region: {}\".format(region))\n",
    "print(\"RoleArn: {}\".format(role))"
   ]
  },
  {
   "cell_type": "markdown",
   "id": "25ffcb5a-770c-4f44-b612-d96d497496dd",
   "metadata": {},
   "source": [
    "### (1) 데이터 불러오고 AutoGluon TimeSeries로 만들어주기"
   ]
  },
  {
   "cell_type": "code",
   "execution_count": 20,
   "id": "f90c32ca-95c4-4d68-bc7c-9c6ebc761318",
   "metadata": {},
   "outputs": [
    {
     "data": {
      "text/html": [
       "<div>\n",
       "<style scoped>\n",
       "    .dataframe tbody tr th:only-of-type {\n",
       "        vertical-align: middle;\n",
       "    }\n",
       "\n",
       "    .dataframe tbody tr th {\n",
       "        vertical-align: top;\n",
       "    }\n",
       "\n",
       "    .dataframe thead th {\n",
       "        text-align: right;\n",
       "    }\n",
       "</style>\n",
       "<table border=\"1\" class=\"dataframe\">\n",
       "  <thead>\n",
       "    <tr style=\"text-align: right;\">\n",
       "      <th></th>\n",
       "      <th>ds</th>\n",
       "      <th>high</th>\n",
       "      <th>low</th>\n",
       "      <th>open</th>\n",
       "      <th>y</th>\n",
       "      <th>ric</th>\n",
       "    </tr>\n",
       "  </thead>\n",
       "  <tbody>\n",
       "    <tr>\n",
       "      <th>0</th>\n",
       "      <td>2014-07-02</td>\n",
       "      <td>0.208453</td>\n",
       "      <td>0.214707</td>\n",
       "      <td>0.211996</td>\n",
       "      <td>0.205457</td>\n",
       "      <td>BOc1</td>\n",
       "    </tr>\n",
       "    <tr>\n",
       "      <th>1</th>\n",
       "      <td>2014-07-03</td>\n",
       "      <td>0.203925</td>\n",
       "      <td>0.212535</td>\n",
       "      <td>0.205891</td>\n",
       "      <td>0.206828</td>\n",
       "      <td>BOc1</td>\n",
       "    </tr>\n",
       "    <tr>\n",
       "      <th>2</th>\n",
       "      <td>2014-07-04</td>\n",
       "      <td>0.202868</td>\n",
       "      <td>0.210673</td>\n",
       "      <td>0.206273</td>\n",
       "      <td>0.205304</td>\n",
       "      <td>BOc1</td>\n",
       "    </tr>\n",
       "    <tr>\n",
       "      <th>3</th>\n",
       "      <td>2014-07-07</td>\n",
       "      <td>0.201811</td>\n",
       "      <td>0.208812</td>\n",
       "      <td>0.206654</td>\n",
       "      <td>0.203780</td>\n",
       "      <td>BOc1</td>\n",
       "    </tr>\n",
       "    <tr>\n",
       "      <th>4</th>\n",
       "      <td>2014-07-08</td>\n",
       "      <td>0.200151</td>\n",
       "      <td>0.203692</td>\n",
       "      <td>0.204976</td>\n",
       "      <td>0.195245</td>\n",
       "      <td>BOc1</td>\n",
       "    </tr>\n",
       "  </tbody>\n",
       "</table>\n",
       "</div>"
      ],
      "text/plain": [
       "           ds      high       low      open         y   ric\n",
       "0  2014-07-02  0.208453  0.214707  0.211996  0.205457  BOc1\n",
       "1  2014-07-03  0.203925  0.212535  0.205891  0.206828  BOc1\n",
       "2  2014-07-04  0.202868  0.210673  0.206273  0.205304  BOc1\n",
       "3  2014-07-07  0.201811  0.208812  0.206654  0.203780  BOc1\n",
       "4  2014-07-08  0.200151  0.203692  0.204976  0.195245  BOc1"
      ]
     },
     "execution_count": 20,
     "metadata": {},
     "output_type": "execute_result"
    }
   ],
   "source": [
    "df_train= pd.read_csv(os.path.join(preprocessed_training_data,\n",
    "                                   'train.csv'))\n",
    "df_train.head()"
   ]
  },
  {
   "cell_type": "markdown",
   "id": "0102ee9a-993b-4d2d-85b1-0f9b9f226f9c",
   "metadata": {},
   "source": [
    "`ImportError: Install s3fs to access S3` => !pip install s3fs --upgrade\n"
   ]
  },
  {
   "cell_type": "code",
   "execution_count": 21,
   "id": "36190a0c-b5d1-4abe-9973-4197f43299c6",
   "metadata": {},
   "outputs": [
    {
     "data": {
      "text/html": [
       "<div>\n",
       "<style scoped>\n",
       "    .dataframe tbody tr th:only-of-type {\n",
       "        vertical-align: middle;\n",
       "    }\n",
       "\n",
       "    .dataframe tbody tr th {\n",
       "        vertical-align: top;\n",
       "    }\n",
       "\n",
       "    .dataframe thead th {\n",
       "        text-align: right;\n",
       "    }\n",
       "</style>\n",
       "<table border=\"1\" class=\"dataframe\">\n",
       "  <thead>\n",
       "    <tr style=\"text-align: right;\">\n",
       "      <th></th>\n",
       "      <th>ds</th>\n",
       "      <th>high</th>\n",
       "      <th>low</th>\n",
       "      <th>open</th>\n",
       "      <th>y</th>\n",
       "      <th>ric</th>\n",
       "    </tr>\n",
       "  </thead>\n",
       "  <tbody>\n",
       "    <tr>\n",
       "      <th>0</th>\n",
       "      <td>2022-10-03</td>\n",
       "      <td>0.630642</td>\n",
       "      <td>0.633881</td>\n",
       "      <td>0.618437</td>\n",
       "      <td>0.638470</td>\n",
       "      <td>BOc1</td>\n",
       "    </tr>\n",
       "    <tr>\n",
       "      <th>1</th>\n",
       "      <td>2022-10-04</td>\n",
       "      <td>0.654792</td>\n",
       "      <td>0.677319</td>\n",
       "      <td>0.662088</td>\n",
       "      <td>0.665142</td>\n",
       "      <td>BOc1</td>\n",
       "    </tr>\n",
       "    <tr>\n",
       "      <th>2</th>\n",
       "      <td>2022-10-05</td>\n",
       "      <td>0.657057</td>\n",
       "      <td>0.659479</td>\n",
       "      <td>0.666819</td>\n",
       "      <td>0.671087</td>\n",
       "      <td>BOc1</td>\n",
       "    </tr>\n",
       "    <tr>\n",
       "      <th>3</th>\n",
       "      <td>2022-10-06</td>\n",
       "      <td>0.664906</td>\n",
       "      <td>0.668942</td>\n",
       "      <td>0.667277</td>\n",
       "      <td>0.680994</td>\n",
       "      <td>BOc1</td>\n",
       "    </tr>\n",
       "    <tr>\n",
       "      <th>4</th>\n",
       "      <td>2022-10-07</td>\n",
       "      <td>0.683774</td>\n",
       "      <td>0.710673</td>\n",
       "      <td>0.693987</td>\n",
       "      <td>0.687243</td>\n",
       "      <td>BOc1</td>\n",
       "    </tr>\n",
       "  </tbody>\n",
       "</table>\n",
       "</div>"
      ],
      "text/plain": [
       "           ds      high       low      open         y   ric\n",
       "0  2022-10-03  0.630642  0.633881  0.618437  0.638470  BOc1\n",
       "1  2022-10-04  0.654792  0.677319  0.662088  0.665142  BOc1\n",
       "2  2022-10-05  0.657057  0.659479  0.666819  0.671087  BOc1\n",
       "3  2022-10-06  0.664906  0.668942  0.667277  0.680994  BOc1\n",
       "4  2022-10-07  0.683774  0.710673  0.693987  0.687243  BOc1"
      ]
     },
     "execution_count": 21,
     "metadata": {},
     "output_type": "execute_result"
    }
   ],
   "source": [
    "df_test = pd.read_csv(os.path.join(preprocessed_test_data,\n",
    "                                   'test.csv'))\n",
    "df_test.head()"
   ]
  },
  {
   "cell_type": "code",
   "execution_count": 27,
   "id": "16b18415-8a7b-4ddc-ad9e-bd97f4dbeb65",
   "metadata": {},
   "outputs": [],
   "source": [
    "df_train.loc[:, \"ds\"] = pd.to_datetime(df_train.loc[:, \"ds\"])\n",
    "df_test.loc[:, \"ds\"] = pd.to_datetime(df_test.loc[:, \"ds\"])"
   ]
  },
  {
   "cell_type": "code",
   "execution_count": 55,
   "id": "7667633e-886e-4719-bb92-85142f56a9f2",
   "metadata": {},
   "outputs": [
    {
     "name": "stdout",
     "output_type": "stream",
     "text": [
      "                        high       low      open         y\n",
      "item_id timestamp                                         \n",
      "BOc1    2014-07-02  0.208453  0.214707  0.211996  0.205457\n",
      "        2014-07-03  0.203925  0.212535  0.205891  0.206828\n",
      "        2014-07-04  0.202868  0.210673  0.206273  0.205304\n",
      "        2014-07-07  0.201811  0.208812  0.206654  0.203780\n",
      "        2014-07-08  0.200151  0.203692  0.204976  0.195245\n"
     ]
    },
    {
     "data": {
      "text/plain": [
       "<matplotlib.legend.Legend at 0x7ff0fdaa15d0>"
      ]
     },
     "execution_count": 55,
     "metadata": {},
     "output_type": "execute_result"
    },
    {
     "data": {
      "image/png": "[encoded data removed]",
      "text/plain": [
       "<Figure size 1440x216 with 1 Axes>"
      ]
     },
     "metadata": {
      "needs_background": "light"
     },
     "output_type": "display_data"
    }
   ],
   "source": [
    "train_data = TimeSeriesDataFrame.from_data_frame(\n",
    "    df_train,\n",
    "    id_column=\"ric\",\n",
    "    timestamp_column=\"ds\",\n",
    ")\n",
    "\n",
    "plt.figure(figsize=(20, 3))\n",
    "print(train_data.head())\n",
    "for ric in [\"FCPOc3\", \"RSc2\"]:\n",
    "    plt.plot(train_data.loc[ric]['y'], label=ric)\n",
    "plt.legend()"
   ]
  },
  {
   "cell_type": "code",
   "execution_count": 54,
   "id": "c13004a5-ccbf-4be5-b0a8-4338a80ab2a3",
   "metadata": {},
   "outputs": [
    {
     "name": "stdout",
     "output_type": "stream",
     "text": [
      "                        high       low      open         y\n",
      "item_id timestamp                                         \n",
      "BOc1    2022-10-03  0.630642  0.633881  0.618437  0.638470\n",
      "        2022-10-04  0.654792  0.677319  0.662088  0.665142\n",
      "        2022-10-05  0.657057  0.659479  0.666819  0.671087\n",
      "        2022-10-06  0.664906  0.668942  0.667277  0.680994\n",
      "        2022-10-07  0.683774  0.710673  0.693987  0.687243\n"
     ]
    },
    {
     "data": {
      "text/plain": [
       "<matplotlib.legend.Legend at 0x7ff0fdb14c50>"
      ]
     },
     "execution_count": 54,
     "metadata": {},
     "output_type": "execute_result"
    },
    {
     "data": {
      "image/png": "[encoded data removed]",
      "text/plain": [
       "<Figure size 1440x216 with 1 Axes>"
      ]
     },
     "metadata": {
      "needs_background": "light"
     },
     "output_type": "display_data"
    }
   ],
   "source": [
    "test_data = TimeSeriesDataFrame.from_data_frame(\n",
    "    df_test,\n",
    "    id_column=\"ric\",\n",
    "    timestamp_column=\"ds\",\n",
    ")\n",
    "\n",
    "plt.figure(figsize=(20, 3))\n",
    "print(test_data.head())\n",
    "for ric in [\"FCPOc3\", \"RSc2\"]:\n",
    "    plt.plot(test_data.loc[ric]['y'], label=ric)\n",
    "plt.legend()"
   ]
  },
  {
   "cell_type": "code",
   "execution_count": 120,
   "id": "7264359e-9640-4a5d-86d3-e655e7fd71bd",
   "metadata": {},
   "outputs": [
    {
     "name": "stdout",
     "output_type": "stream",
     "text": [
      "2014-07-02 00:00:00 ~ 2022-09-30 00:00:00\n"
     ]
    }
   ],
   "source": [
    "print(train_data.loc[\"FCPOc3\"][\"y\"].index.min(), '~', train_data.loc[\"FCPOc3\"][\"y\"].index.max())"
   ]
  },
  {
   "cell_type": "markdown",
   "id": "abdd4440-55d2-46b6-bf4b-66c05dde33e1",
   "metadata": {},
   "source": [
    "### (2) 모델 검증을 위한 step별로 밟기 위한 데이터 셋 나누기"
   ]
  },
  {
   "cell_type": "code",
   "execution_count": 48,
   "id": "ea85ac8d-ce66-4a36-84b2-3d81df68d491",
   "metadata": {},
   "outputs": [],
   "source": [
    "train_data = train_data.sort_index(ascending=True)#이거 안해주면 UnsortedIndexError: 'MultiIndex slicing requires the index to be lexsorted: slicing on levels [1], lexsort depth 0'\n",
    "\n",
    "prediction_length = 30\n",
    "\n",
    "train_data_01, test_data_01 = train_data.split_by_time(pd.Timestamp(2022,9,1))\n",
    "train_data_02, test_data_02 = train_data_01.split_by_time(pd.Timestamp(2022,8,1))\n",
    "train_data_03, test_data_03 = train_data_02.split_by_time(pd.Timestamp(2022,7,1))\n",
    "train_data_04, test_data_04 = train_data_03.split_by_time(pd.Timestamp(2022,6,1))\n",
    "train_data_05, test_data_05 = train_data_04.split_by_time(pd.Timestamp(2022,5,1))\n"
   ]
  },
  {
   "cell_type": "code",
   "execution_count": 130,
   "id": "4e811fc4-805b-42a4-855b-21773a475ec0",
   "metadata": {},
   "outputs": [
    {
     "name": "stdout",
     "output_type": "stream",
     "text": [
      "Validation dataset Sep\n",
      "Train:\t 2014-07-02 00:00:00 ~ 2022-08-31 00:00:00\n",
      "Test:\t 2022-09-01 00:00:00 ~ 2022-09-30 00:00:00\n",
      "Validation dataset Aug\n",
      "Train:\t 2014-07-02 00:00:00 ~ 2022-07-29 00:00:00\n",
      "Test:\t 2022-08-01 00:00:00 ~ 2022-08-31 00:00:00\n",
      "Validation dataset Jul\n",
      "Train:\t 2014-07-02 00:00:00 ~ 2022-06-30 00:00:00\n",
      "Test:\t 2022-07-01 00:00:00 ~ 2022-07-29 00:00:00\n",
      "Validation dataset Jun\n",
      "Train:\t 2014-07-02 00:00:00 ~ 2022-05-31 00:00:00\n",
      "Test:\t 2022-06-01 00:00:00 ~ 2022-06-30 00:00:00\n",
      "Validation dataset May\n",
      "Train:\t 2014-07-02 00:00:00 ~ 2022-04-29 00:00:00\n",
      "Test:\t 2022-06-01 00:00:00 ~ 2022-05-31 00:00:00\n"
     ]
    }
   ],
   "source": [
    "print('Validation dataset Sep')\n",
    "print('Train:\\t',train_data_01.loc[\"FCPOc3\"][\"y\"].index.min(),'~',train_data_01.loc[\"FCPOc3\"][\"y\"].index.max())\n",
    "print('Test:\\t',test_data_01.loc[\"FCPOc3\"][\"y\"].index.min(),'~',test_data_01.loc[\"FCPOc3\"][\"y\"].index.max())\n",
    "print('Validation dataset Aug')\n",
    "print('Train:\\t',train_data_02.loc[\"FCPOc3\"][\"y\"].index.min(),'~',train_data_02.loc[\"FCPOc3\"][\"y\"].index.max())\n",
    "print('Test:\\t',test_data_02.loc[\"FCPOc3\"][\"y\"].index.min(),'~',test_data_02.loc[\"FCPOc3\"][\"y\"].index.max())\n",
    "print('Validation dataset Jul')\n",
    "print('Train:\\t',train_data_03.loc[\"FCPOc3\"][\"y\"].index.min(),'~',train_data_03.loc[\"FCPOc3\"][\"y\"].index.max())\n",
    "print('Test:\\t',test_data_03.loc[\"FCPOc3\"][\"y\"].index.min(),'~',test_data_03.loc[\"FCPOc3\"][\"y\"].index.max())\n",
    "print('Validation dataset Jun')\n",
    "print('Train:\\t',train_data_04.loc[\"FCPOc3\"][\"y\"].index.min(),'~',train_data_04.loc[\"FCPOc3\"][\"y\"].index.max())\n",
    "print('Test:\\t',test_data_04.loc[\"FCPOc3\"][\"y\"].index.min(),'~',test_data_04.loc[\"FCPOc3\"][\"y\"].index.max())\n",
    "print('Validation dataset May')\n",
    "print('Train:\\t',train_data_04.loc[\"FCPOc3\"][\"y\"].index.min(),'~',train_data_05.loc[\"FCPOc3\"][\"y\"].index.max())\n",
    "print('Test:\\t',test_data_04.loc[\"FCPOc3\"][\"y\"].index.min(),'~',test_data_05.loc[\"FCPOc3\"][\"y\"].index.max())\n"
   ]
  },
  {
   "cell_type": "markdown",
   "id": "9469f169-0ab1-448d-8787-4e67b15f9c69",
   "metadata": {},
   "source": [
    "### (3) Model training for each data set"
   ]
  },
  {
   "cell_type": "code",
   "execution_count": 131,
   "id": "510a4b37-de73-4479-91a2-12472860f27f",
   "metadata": {},
   "outputs": [
    {
     "name": "stdout",
     "output_type": "stream",
     "text": [
      "Validation dataset Sep\n",
      "Train:\t 2014-07-02 00:00:00 ~ 2022-08-31 00:00:00\n",
      "Test:\t 2022-09-01 00:00:00 ~ 2022-09-30 00:00:00\n"
     ]
    }
   ],
   "source": [
    "print('Validation dataset Sep')\n",
    "print('Train:\\t',train_data_01.loc[\"FCPOc3\"][\"y\"].index.min(),'~',train_data_01.loc[\"FCPOc3\"][\"y\"].index.max())\n",
    "print('Test:\\t',test_data_01.loc[\"FCPOc3\"][\"y\"].index.min(),'~',test_data_01.loc[\"FCPOc3\"][\"y\"].index.max())"
   ]
  },
  {
   "cell_type": "code",
   "execution_count": 136,
   "id": "36454ed6-2c25-4ecd-8a93-6f4f94c7b034",
   "metadata": {},
   "outputs": [
    {
     "data": {
      "text/plain": [
       "22"
      ]
     },
     "execution_count": 136,
     "metadata": {},
     "output_type": "execute_result"
    }
   ],
   "source": [
    "len(test_data_01.loc[\"FCPOc3\"][\"y\"])"
   ]
  },
  {
   "cell_type": "code",
   "execution_count": 187,
   "id": "aeec9f97-9550-4394-8288-84a4a9fca872",
   "metadata": {},
   "outputs": [],
   "source": [
    "val01_model_path = \"model/autogluon-FCPOc3-t1-val01({}-{})\".format(train_data_01.loc[\"FCPOc3\"][\"y\"].index.min().strftime('%Y%m%d'),\n",
    "                                                                   train_data_01.loc[\"FCPOc3\"][\"y\"].index.max().strftime('%Y%m%d'))\n",
    "prediction_length = 30"
   ]
  },
  {
   "cell_type": "code",
   "execution_count": 189,
   "id": "09d4d8a5-39eb-4e73-a890-590270dfe7ee",
   "metadata": {},
   "outputs": [
    {
     "data": {
      "text/plain": [
       "'model/autogluon-FCPOc3-t1-val01(20140702-20220831)'"
      ]
     },
     "execution_count": 189,
     "metadata": {},
     "output_type": "execute_result"
    }
   ],
   "source": [
    "val01_model_path"
   ]
  },
  {
   "cell_type": "code",
   "execution_count": 191,
   "id": "f545e76f-597c-4f7c-8a4f-69afaa35d08f",
   "metadata": {},
   "outputs": [
    {
     "name": "stderr",
     "output_type": "stream",
     "text": [
      "Learner random seed set to 0\n",
      "presets is set to low_quality\n",
      "================ TimeSeriesPredictor ================\n",
      "TimeSeriesPredictor.fit() called\n",
      "Setting presets to: low_quality\n",
      "Fitting with arguments:\n",
      "{'evaluation_metric': 'MAPE',\n",
      " 'hyperparameter_tune_kwargs': None,\n",
      " 'hyperparameters': 'toy',\n",
      " 'prediction_length': 30,\n",
      " 'target_column': 'y',\n",
      " 'time_limit': None}\n",
      "Provided training data set with 215166 rows, 101 items. Average time series length is 2130.3564356435645.\n",
      "Training artifacts will be saved to: /home/ec2-user/SageMaker/palm-oil-price-forecast/model/autogluon-FCPOc3-t1-val01(20140702-20220831)\n",
      "=====================================================\n",
      "Provided columns ['high', 'low', 'open'] will not be used.\n",
      "Validation data is None, will hold the last prediction_length 30 time steps out to use as validation set.\n",
      "AutoGluon will save models to model/autogluon-FCPOc3-t1-val01(20140702-20220831)/\n",
      "\n",
      "Starting training. Start time is 2022-10-27 14:54:27\n",
      "Models that will be trained: ['AutoETS', 'SimpleFeedForward', 'DeepAR', 'ARIMA', 'Transformer']\n",
      "Training timeseries model AutoETS. \n",
      "\t-0.0925       = Validation score (-MAPE)\n",
      "\t18.03   s     = Training runtime\n",
      "\t7.78    s     = Validation (prediction) runtime\n",
      "Training timeseries model SimpleFeedForward. \n",
      "\t-0.0957       = Validation score (-MAPE)\n",
      "\t3.49    s     = Training runtime\n",
      "\t0.64    s     = Validation (prediction) runtime\n",
      "Training timeseries model DeepAR. \n",
      "\t-0.0966       = Validation score (-MAPE)\n",
      "\t9.27    s     = Training runtime\n",
      "\t1.43    s     = Validation (prediction) runtime\n",
      "Training timeseries model ARIMA. \n",
      "\t-0.1067       = Validation score (-MAPE)\n",
      "\t33.98   s     = Training runtime\n",
      "\t11.31   s     = Validation (prediction) runtime\n",
      "Training timeseries model Transformer. \n",
      "\t-0.1010       = Validation score (-MAPE)\n",
      "\t5.86    s     = Training runtime\n",
      "\t2.44    s     = Validation (prediction) runtime\n",
      "Fitting simple weighted ensemble.\n",
      "\t-0.0909       = Validation score (-MAPE)\n",
      "\t57.53   s     = Training runtime\n",
      "\t22.16   s     = Validation (prediction) runtime\n",
      "Training complete. Models trained: ['AutoETS', 'SimpleFeedForward', 'DeepAR', 'ARIMA', 'Transformer', 'WeightedEnsemble']\n",
      "Total runtime: 176.06 s\n",
      "Best model: WeightedEnsemble\n",
      "Best model score: -0.0909\n"
     ]
    },
    {
     "name": "stdout",
     "output_type": "stream",
     "text": [
      "CPU times: user 4min 55s, sys: 1.97 s, total: 4min 57s\n",
      "Wall time: 2min 56s\n"
     ]
    },
    {
     "data": {
      "text/plain": [
       "<autogluon.timeseries.predictor.TimeSeriesPredictor at 0x7fefba2803d0>"
      ]
     },
     "execution_count": 191,
     "metadata": {},
     "output_type": "execute_result"
    }
   ],
   "source": [
    "%%time\n",
    "predictor_val01 = TimeSeriesPredictor(\n",
    "    path = val01_model_path,\n",
    "    target ='y',\n",
    "    prediction_length = prediction_length,\n",
    "    eval_metric = \"MAPE\",\n",
    ")\n",
    "predictor_val01.fit(\n",
    "    train_data=train_data_01,\n",
    "    presets=\"low_quality\"\n",
    ")"
   ]
  },
  {
   "cell_type": "code",
   "execution_count": 193,
   "id": "f89ca1a0-dabf-4788-95fa-b35f575198c0",
   "metadata": {},
   "outputs": [
    {
     "name": "stderr",
     "output_type": "stream",
     "text": [
      "Additional data provided, testing on additional data. Resulting leaderboard will be sorted according to test score (`score_test`).\n",
      "Cannot score with model AutoETS. An error occurred: division by zero\n",
      "Cannot score with model SimpleFeedForward. An error occurred: division by zero\n",
      "Cannot score with model DeepAR. An error occurred: division by zero\n",
      "Cannot score with model ARIMA. An error occurred: division by zero\n",
      "Cannot score with model Transformer. An error occurred: division by zero\n",
      "Cannot score with model WeightedEnsemble. An error occurred: division by zero\n"
     ]
    },
    {
     "name": "stdout",
     "output_type": "stream",
     "text": [
      "CPU times: user 1.31 s, sys: 52 ms, total: 1.36 s\n",
      "Wall time: 1.35 s\n"
     ]
    }
   ],
   "source": [
    "%%time\n",
    "predictor_val01_lb = predictor_val01.leaderboard(test_data_01, silent=True)\n",
    "predictor_val01_lb.to_csv(os.path.join(os.getcwd(),val01_model_path,'leaderboard.csv'))"
   ]
  },
  {
   "cell_type": "code",
   "execution_count": 216,
   "id": "85a47b07-dddf-42dd-a24f-7613b4f49d9c",
   "metadata": {},
   "outputs": [
    {
     "name": "stderr",
     "output_type": "stream",
     "text": [
      "Different set of items than those provided during training were provided for prediction. The model AutoETS will be re-trained on newly provided data\n",
      "Different set of items than those provided during training were provided for prediction. The model ARIMA will be re-trained on newly provided data\n"
     ]
    },
    {
     "name": "stdout",
     "output_type": "stream",
     "text": [
      "CPU times: user 1min 28s, sys: 212 ms, total: 1min 28s\n",
      "Wall time: 1min 15s\n"
     ]
    }
   ],
   "source": [
    "%%time\n",
    "predictions_val01_model01 = predictor_val01.predict(data = train_data_01,\n",
    "                                                    model = predictor_val01_lb['model'][0])"
   ]
  },
  {
   "cell_type": "code",
   "execution_count": 217,
   "id": "fc57bc98-27e8-454c-a474-6329e9c63297",
   "metadata": {},
   "outputs": [],
   "source": [
    "val01_result = pd.merge(test_data_01.loc['FCPOc3']['y'], predictions_val01_model01.loc['FCPOc3'], \n",
    "                        left_index=True, right_index=True, \n",
    "                        how='left')"
   ]
  },
  {
   "cell_type": "code",
   "execution_count": 221,
   "id": "d4bd763f-38a1-41e9-9782-5bd34b39d711",
   "metadata": {},
   "outputs": [
    {
     "data": {
      "text/plain": [
       "<matplotlib.legend.Legend at 0x7fefba3684d0>"
      ]
     },
     "execution_count": 221,
     "metadata": {},
     "output_type": "execute_result"
    },
    {
     "data": {
      "image/png": "[encoded data removed]",
      "text/plain": [
       "<Figure size 6000x900 with 1 Axes>"
      ]
     },
     "metadata": {
      "needs_background": "light"
     },
     "output_type": "display_data"
    }
   ],
   "source": [
    "plt.figure(figsize=(20, 3),dpi=300)\n",
    "plt.plot(val01_result['y'], label='real')\n",
    "plt.plot(val01_result['mean'], label='prediction')\n",
    "plt.legend()"
   ]
  },
  {
   "cell_type": "code",
   "execution_count": 222,
   "id": "0e12593a-fea5-4688-b745-f7a5791d82ba",
   "metadata": {},
   "outputs": [],
   "source": [
    "val01_result.to_csv(os.path.join(os.getcwd(),val01_model_path,'prediction.csv'))"
   ]
  },
  {
   "cell_type": "code",
   "execution_count": 223,
   "id": "458f47b1-3bd9-425e-b887-3a9fe9350ddb",
   "metadata": {},
   "outputs": [
    {
     "name": "stderr",
     "output_type": "stream",
     "text": [
      "Uploaded /home/ec2-user/SageMaker/palm-oil-price-forecast/model/autogluon-FCPOc3-t1-val01(20140702-20220812)/utils/data/val.pkl to trained-model/autogluon-FCPOc3-t1-val01(20140702-20220812)/utils/data/val.pkl: : 25it [00:05,  4.85it/s]                                                                                      "
     ]
    },
    {
     "name": "stdout",
     "output_type": "stream",
     "text": [
      "Successfully uploaded /home/ec2-user/SageMaker/palm-oil-price-forecast/model to S3 trained-model\n"
     ]
    },
    {
     "name": "stderr",
     "output_type": "stream",
     "text": [
      "\n"
     ]
    }
   ],
   "source": [
    "import os\n",
    "from tqdm import tqdm\n",
    "\n",
    "def upload_folder_to_s3(s3_client, s3bucket, input_dir, s3_path):\n",
    "    pbar = tqdm(os.walk(input_dir))\n",
    "    for path, subdirs, files in pbar:\n",
    "        for file in files:\n",
    "            dest_path = path.replace(input_dir, \"\").replace(os.sep, '/')\n",
    "            s3_file = f'{s3_path}/{dest_path}/{file}'.replace('//', '/')\n",
    "            local_file = os.path.join(path, file)\n",
    "            s3_client.upload_file(local_file, s3bucket, s3_file)\n",
    "            pbar.set_description(f'Uploaded {local_file} to {s3_file}')\n",
    "    print(f\"Successfully uploaded {input_dir} to S3 {s3_path}\")\n",
    "    \n",
    "s3_client = boto3.client('s3', aws_access_key_id=ACCESS_KEY_ID, aws_secret_access_key=ACCESS_SECRET_KEY)\n",
    "upload_folder_to_s3(s3_client, BUCKET_NAME_USECASE, os.path.join(os.getcwd(),'model'), S3_PATH_TRAIN)"
   ]
  },
  {
   "cell_type": "code",
   "execution_count": 224,
   "id": "e20b032e-c242-4b53-b59b-a1353d913ef5",
   "metadata": {},
   "outputs": [
    {
     "data": {
      "text/html": [
       "<div>\n",
       "<style scoped>\n",
       "    .dataframe tbody tr th:only-of-type {\n",
       "        vertical-align: middle;\n",
       "    }\n",
       "\n",
       "    .dataframe tbody tr th {\n",
       "        vertical-align: top;\n",
       "    }\n",
       "\n",
       "    .dataframe thead th {\n",
       "        text-align: right;\n",
       "    }\n",
       "</style>\n",
       "<table border=\"1\" class=\"dataframe\">\n",
       "  <thead>\n",
       "    <tr style=\"text-align: right;\">\n",
       "      <th></th>\n",
       "      <th>model</th>\n",
       "      <th>score_test</th>\n",
       "      <th>score_val</th>\n",
       "      <th>pred_time_test</th>\n",
       "      <th>pred_time_val</th>\n",
       "      <th>fit_time_marginal</th>\n",
       "      <th>fit_order</th>\n",
       "    </tr>\n",
       "  </thead>\n",
       "  <tbody>\n",
       "    <tr>\n",
       "      <th>0</th>\n",
       "      <td>WeightedEnsemble</td>\n",
       "      <td>NaN</td>\n",
       "      <td>-0.090938</td>\n",
       "      <td>NaN</td>\n",
       "      <td>22.162412</td>\n",
       "      <td>57.526312</td>\n",
       "      <td>6</td>\n",
       "    </tr>\n",
       "    <tr>\n",
       "      <th>1</th>\n",
       "      <td>Transformer</td>\n",
       "      <td>NaN</td>\n",
       "      <td>-0.100963</td>\n",
       "      <td>NaN</td>\n",
       "      <td>2.438139</td>\n",
       "      <td>5.858733</td>\n",
       "      <td>5</td>\n",
       "    </tr>\n",
       "    <tr>\n",
       "      <th>2</th>\n",
       "      <td>SimpleFeedForward</td>\n",
       "      <td>NaN</td>\n",
       "      <td>-0.095750</td>\n",
       "      <td>NaN</td>\n",
       "      <td>0.637415</td>\n",
       "      <td>3.493169</td>\n",
       "      <td>2</td>\n",
       "    </tr>\n",
       "    <tr>\n",
       "      <th>3</th>\n",
       "      <td>DeepAR</td>\n",
       "      <td>NaN</td>\n",
       "      <td>-0.096641</td>\n",
       "      <td>NaN</td>\n",
       "      <td>1.427172</td>\n",
       "      <td>9.265490</td>\n",
       "      <td>3</td>\n",
       "    </tr>\n",
       "    <tr>\n",
       "      <th>4</th>\n",
       "      <td>AutoETS</td>\n",
       "      <td>NaN</td>\n",
       "      <td>-0.092504</td>\n",
       "      <td>NaN</td>\n",
       "      <td>7.776823</td>\n",
       "      <td>18.029280</td>\n",
       "      <td>1</td>\n",
       "    </tr>\n",
       "    <tr>\n",
       "      <th>5</th>\n",
       "      <td>ARIMA</td>\n",
       "      <td>NaN</td>\n",
       "      <td>-0.106740</td>\n",
       "      <td>NaN</td>\n",
       "      <td>11.310034</td>\n",
       "      <td>33.975685</td>\n",
       "      <td>4</td>\n",
       "    </tr>\n",
       "  </tbody>\n",
       "</table>\n",
       "</div>"
      ],
      "text/plain": [
       "               model  score_test  score_val  pred_time_test  pred_time_val  \\\n",
       "0   WeightedEnsemble         NaN  -0.090938             NaN      22.162412   \n",
       "1        Transformer         NaN  -0.100963             NaN       2.438139   \n",
       "2  SimpleFeedForward         NaN  -0.095750             NaN       0.637415   \n",
       "3             DeepAR         NaN  -0.096641             NaN       1.427172   \n",
       "4            AutoETS         NaN  -0.092504             NaN       7.776823   \n",
       "5              ARIMA         NaN  -0.106740             NaN      11.310034   \n",
       "\n",
       "   fit_time_marginal  fit_order  \n",
       "0          57.526312          6  \n",
       "1           5.858733          5  \n",
       "2           3.493169          2  \n",
       "3           9.265490          3  \n",
       "4          18.029280          1  \n",
       "5          33.975685          4  "
      ]
     },
     "execution_count": 224,
     "metadata": {},
     "output_type": "execute_result"
    }
   ],
   "source": [
    "predictor_val01_lb"
   ]
  },
  {
   "cell_type": "code",
   "execution_count": null,
   "id": "40ac3001-c782-4aeb-9dce-cca0217ca6c1",
   "metadata": {},
   "outputs": [],
   "source": [
    "# Specify the model source\n",
    "model_url = \"s3://your-bucket-name/model.tar.gz\"\n",
    "\n",
    "modelpackage_inference_specification =  {\n",
    "    \"InferenceSpecification\": {\n",
    "        \"Containers\": [\n",
    "            {\n",
    "                \"Image\": '257758044811.dkr.ecr.us-east-2.amazonaws.com/sagemaker-xgboost:1.2-1',\n",
    "                \"ModelDataUrl\": model_url\n",
    "            }\n",
    "        ],\n",
    "        \"SupportedContentTypes\": [ \"text/csv\" ],\n",
    "        \"SupportedResponseMIMETypes\": [ \"text/csv\" ],\n",
    "    }\n",
    "}\n",
    "\n",
    "# Alternatively, you can specify the model source like this:\n",
    "# modelpackage_inference_specification[\"InferenceSpecification\"][\"Containers\"][0][\"ModelDataUrl\"]=model_url\n",
    "\n",
    "create_model_package_input_dict = {\n",
    "    \"ModelPackageGroupName\" : model_package_group_name,\n",
    "    \"ModelPackageDescription\" : \"Model to detect 3 different types of irises (Setosa, Versicolour, and Virginica)\",\n",
    "    \"ModelApprovalStatus\" : \"PendingManualApproval\"\n",
    "}\n",
    "create_model_package_input_dict.update(modelpackage_inference_specification)"
   ]
  },
  {
   "cell_type": "code",
   "execution_count": 144,
   "id": "fc15c7de-e1cb-4192-9e92-6b0409143b15",
   "metadata": {},
   "outputs": [
    {
     "data": {
      "image/png": "[encoded data removed]",
      "text/plain": [
       "<Figure size 2160x504 with 3 Axes>"
      ]
     },
     "metadata": {
      "needs_background": "light"
     },
     "output_type": "display_data"
    }
   ],
   "source": [
    "# ytrue = train_data_01.loc['FCPOc3'][\"y\"]\n",
    "# ypred_model01 = predictions_val01_model01.loc['FCPOc3']\n",
    "# ypred_model02 = predictions_val01_model02.loc['FCPOc3']\n",
    "# ypred_model03 = predictions_val01_model03.loc['FCPOc3']\n",
    "\n",
    "# ytrue_test = test_data_01.loc['FCPOc3'][\"y\"][-prediction_length:]\n",
    "\n",
    "# fig, axs = plt.subplots(1, 3, figsize=(30, 7))\n",
    "\n",
    "# fig.suptitle('AutoGluon Validation 01')\n",
    "\n",
    "# axs[0].plot(ytrue[-180:], label=\"Training Data\")\n",
    "# axs[0].plot(ytrue_test, label=\"Actual\", color=\"black\")\n",
    "# axs[0].plot(ypred_model01[\"mean\"], label=\"Forecasts\", color=\"red\")\n",
    "# axs[0].fill_between(ypred_model01.index, ypred_model01[\"0.1\"], ypred_model01[\"0.9\"], color=\"red\", alpha=0.1)\n",
    "# axs[0].set_title('WeightedEnsemble Mean Forecasts')\n",
    "\n",
    "# axs[1].plot(ytrue[-180:], label=\"Training Data\")\n",
    "# axs[1].plot(ytrue_test, label=\"Actual\", color=\"black\")\n",
    "# axs[1].plot(ypred_model02[\"mean\"], label=\"Forecasts\", color=\"green\")\n",
    "# axs[1].fill_between(ypred_model02.index, ypred_model02[\"0.1\"], ypred_model02[\"0.9\"], color=\"green\", alpha=0.1)\n",
    "# axs[1].set_title('DeepAR/T1 Mean Forecasts')\n",
    "\n",
    "\n",
    "# axs[2].plot(ytrue[-180:], label=\"Training Data\")\n",
    "# axs[2].plot(ytrue_test, label=\"Actual\", color=\"black\")\n",
    "# axs[2].plot(ypred_model03[\"mean\"], label=\"Forecasts\", color=\"blue\")\n",
    "# axs[2].fill_between(ypred_model03.index, ypred_model03[\"0.1\"], ypred_model03[\"0.9\"], color=\"blue\", alpha=0.1)\n",
    "# axs[2].set_title('SimpleFeedForward/T2 Mean Forecasts')\n",
    "\n",
    "# plt.tight_layout()\n",
    "# plt.show()"
   ]
  },
  {
   "cell_type": "code",
   "execution_count": null,
   "id": "9fd8d8b3-aa9c-4e8c-bfc6-4f6461a047d1",
   "metadata": {},
   "outputs": [],
   "source": [
    "import os\n",
    "import sys\n",
    "import boto3\n",
    "\n",
    "# get an access token, local (from) directory, and S3 (to) directory\n",
    "# from the command-line\n",
    "# local_directory, bucket, destination = sys.argv[1:4]\n",
    "local_directory = os.path.join(os.getcwd(),'model')\n",
    "bucket = BUCKET_NAME_USECASE\n",
    "destination = S3_PATH_TRAIN\n",
    "\n",
    "client = boto3.client('s3')\n",
    "\n",
    "# enumerate local files recursively\n",
    "for root, dirs, files in os.walk(local_directory):\n",
    "    for filename in files:\n",
    "\n",
    "    # construct the full local path\n",
    "        local_path = os.path.join(root, filename)\n",
    "\n",
    "        # construct the full Dropbox path\n",
    "        relative_path = os.path.relpath(local_path, local_directory)\n",
    "        s3_path = os.path.join(destination, relative_path)\n",
    "\n",
    "        # relative_path = os.path.relpath(os.path.join(root, filename))\n",
    "\n",
    "        print('Searching {} in {}'.format(s3_path, bucket))\n",
    "        try:\n",
    "            client.head_object(Bucket=bucket, Key=s3_path)\n",
    "            print(\"Path found on S3! Skipping {}...\".format(s3_path))\n",
    "\n",
    "            # try:\n",
    "                # client.delete_object(Bucket=bucket, Key=s3_path)\n",
    "            # except:\n",
    "                # print \"Unable to delete %s...\" % s3_path\n",
    "        except:\n",
    "            print(\"Uploading {}...\".format(s3_path))\n",
    "            client.upload_file(local_path, bucket, s3_path)"
   ]
  },
  {
   "cell_type": "code",
   "execution_count": null,
   "id": "0a8ed554-327e-400d-bcb2-6a64711a2c02",
   "metadata": {},
   "outputs": [],
   "source": [
    "%%time\n",
    "predictor_val02 = TimeSeriesPredictor(\n",
    "    path=\"model/autogluon-FCPOc3-t1-val02(20140702~20220701)\",\n",
    "    target='y',\n",
    "    prediction_length=prediction_length,\n",
    "    eval_metric=\"MAPE\",\n",
    ")\n",
    "predictor_val02.fit(\n",
    "    train_data=train_data_02,\n",
    "    presets=\"good_quality\"\n",
    ")"
   ]
  },
  {
   "cell_type": "code",
   "execution_count": null,
   "id": "350a8161-1c84-4732-b79c-f9dd0dab9ac6",
   "metadata": {},
   "outputs": [],
   "source": [
    "%%time\n",
    "predictor_val02.leaderboard(test_data_02, silent=True)"
   ]
  },
  {
   "cell_type": "code",
   "execution_count": null,
   "id": "c067314d-1b2e-4da9-9b7d-98ec61d7aa39",
   "metadata": {},
   "outputs": [],
   "source": [
    "%%time\n",
    "predictions_val02_model01 = predictor_val02.predict(data = train_data_02,\n",
    "                                                             model = 'WeightedEnsemble')\n",
    "predictions_val02_model02 = predictor_val02.predict(data = train_data_02,\n",
    "                                                        model = 'Transformer/T1')\n",
    "predictions_val02_model03 = predictor_val02.predict(data = train_data_02,\n",
    "                                                   model = 'Transformer/T2')"
   ]
  },
  {
   "cell_type": "code",
   "execution_count": null,
   "id": "5f9a7be0-cb7f-45e8-a42f-802f8c7c1f1b",
   "metadata": {},
   "outputs": [],
   "source": [
    "ytrue = train_data_02.loc['FCPOc3'][\"y\"]\n",
    "ypred_model01 = predictions_val02_model01.loc['FCPOc3']\n",
    "ypred_model02 = predictions_val02_model02.loc['FCPOc3']\n",
    "ypred_model03 = predictions_val02_model03.loc['FCPOc3']\n",
    "\n",
    "ytrue_test = test_data_02.loc['FCPOc3'][\"y\"][-prediction_length:]\n",
    "\n",
    "fig, axs = plt.subplots(1, 3, figsize=(30, 7))\n",
    "\n",
    "fig.suptitle('AutoGluon Validation 02')\n",
    "\n",
    "axs[0].plot(ytrue[-180:], label=\"Training Data\")\n",
    "axs[0].plot(ytrue_test, label=\"Actual\", color=\"black\")\n",
    "axs[0].plot(ypred_model01[\"mean\"], label=\"Forecasts\", color=\"red\")\n",
    "axs[0].fill_between(ypred_model01.index, ypred_model01[\"0.1\"], ypred_model01[\"0.9\"], color=\"red\", alpha=0.1)\n",
    "axs[0].set_title('WeightedEnsemble Mean Forecasts')\n",
    "\n",
    "axs[1].plot(ytrue[-180:], label=\"Training Data\")\n",
    "axs[1].plot(ytrue_test, label=\"Actual\", color=\"black\")\n",
    "axs[1].plot(ypred_model02[\"mean\"], label=\"Forecasts\", color=\"green\")\n",
    "axs[1].fill_between(ypred_model02.index, ypred_model02[\"0.1\"], ypred_model02[\"0.9\"], color=\"green\", alpha=0.1)\n",
    "axs[1].set_title('Transformer/T1 Mean Forecasts')\n",
    "\n",
    "\n",
    "axs[2].plot(ytrue[-180:], label=\"Training Data\")\n",
    "axs[2].plot(ytrue_test, label=\"Actual\", color=\"black\")\n",
    "axs[2].plot(ypred_model03[\"mean\"], label=\"Forecasts\", color=\"blue\")\n",
    "axs[2].fill_between(ypred_model03.index, ypred_model03[\"0.1\"], ypred_model03[\"0.9\"], color=\"blue\", alpha=0.1)\n",
    "axs[2].set_title('Transformer/T2 Mean Forecasts')\n",
    "\n",
    "\n",
    "fig.supxlabel('Date')\n",
    "fig.supylabel('Price(MYR)')\n",
    "plt.tight_layout()\n",
    "plt.show()"
   ]
  },
  {
   "cell_type": "code",
   "execution_count": null,
   "id": "9a1045f8-cae1-4019-88b8-fd437b198b80",
   "metadata": {},
   "outputs": [],
   "source": []
  },
  {
   "cell_type": "code",
   "execution_count": null,
   "id": "a9783480-eaae-4cb1-b4cf-0cdf603e073e",
   "metadata": {},
   "outputs": [],
   "source": [
    "%%time\n",
    "predictor_val03 = TimeSeriesPredictor(\n",
    "    path=\"model/autogluon-FCPOc3-t1-val03(20140702~20220520)\",\n",
    "    target='y',\n",
    "    prediction_length=prediction_length,\n",
    "    eval_metric=\"MAPE\",\n",
    ")\n",
    "predictor_val03.fit(\n",
    "    train_data=train_data_03,\n",
    "    presets=\"good_quality\"\n",
    ")"
   ]
  },
  {
   "cell_type": "code",
   "execution_count": null,
   "id": "d9c6fa33-e232-4120-9729-5796348c411a",
   "metadata": {},
   "outputs": [],
   "source": [
    "%%time\n",
    "predictor_val03.leaderboard(test_data_03, silent=True)"
   ]
  },
  {
   "cell_type": "code",
   "execution_count": null,
   "id": "6104e342-d994-48db-8647-e14673740e0f",
   "metadata": {},
   "outputs": [],
   "source": [
    "%%time\n",
    "predictions_val03_model01 = predictor_val03.predict(data = train_data_03,\n",
    "                                                             model = 'ARIMA/T1')\n",
    "predictions_val03_model02 = predictor_val03.predict(data = train_data_03,\n",
    "                                                        model = 'Transformer/T1')\n",
    "predictions_val03_model03 = predictor_val03.predict(data = train_data_03,\n",
    "                                                   model = 'DeepAR/T1')"
   ]
  },
  {
   "cell_type": "code",
   "execution_count": null,
   "id": "2a442464-f5bd-4cf1-a06c-4f5e710651d4",
   "metadata": {},
   "outputs": [],
   "source": [
    "ytrue = train_data_03.loc['FCPOc3'][\"y\"]\n",
    "ypred_model01 = predictions_val03_model01.loc['FCPOc3']\n",
    "ypred_model02 = predictions_val03_model02.loc['FCPOc3']\n",
    "ypred_model03 = predictions_val03_model03.loc['FCPOc3']\n",
    "\n",
    "ytrue_test = test_data_03.loc['FCPOc3'][\"y\"][-prediction_length:]\n",
    "\n",
    "fig, axs = plt.subplots(1, 3, figsize=(30, 7))\n",
    "\n",
    "fig.suptitle('AutoGluon Validation 03')\n",
    "\n",
    "axs[0].plot(ytrue[-180:], label=\"Training Data\")\n",
    "axs[0].plot(ytrue_test, label=\"Actual\", color=\"black\")\n",
    "axs[0].plot(ypred_model01[\"mean\"], label=\"Forecasts\", color=\"red\")\n",
    "axs[0].fill_between(ypred_model01.index, ypred_model01[\"0.1\"], ypred_model01[\"0.9\"], color=\"red\", alpha=0.1)\n",
    "axs[0].set_title('ARIMA/T1 Mean Forecasts')\n",
    "\n",
    "axs[1].plot(ytrue[-180:], label=\"Training Data\")\n",
    "axs[1].plot(ytrue_test, label=\"Actual\", color=\"black\")\n",
    "axs[1].plot(ypred_model02[\"mean\"], label=\"Forecasts\", color=\"green\")\n",
    "axs[1].fill_between(ypred_model02.index, ypred_model02[\"0.1\"], ypred_model02[\"0.9\"], color=\"green\", alpha=0.1)\n",
    "axs[1].set_title('Transformer/T1 Mean Forecasts')\n",
    "\n",
    "\n",
    "axs[2].plot(ytrue[-180:], label=\"Training Data\")\n",
    "axs[2].plot(ytrue_test, label=\"Actual\", color=\"black\")\n",
    "axs[2].plot(ypred_model03[\"mean\"], label=\"Forecasts\", color=\"blue\")\n",
    "axs[2].fill_between(ypred_model03.index, ypred_model03[\"0.1\"], ypred_model03[\"0.9\"], color=\"blue\", alpha=0.1)\n",
    "axs[2].set_title('DeepAR/T1 Mean Forecasts')\n",
    "\n",
    "\n",
    "fig.supxlabel('Date')\n",
    "fig.supylabel('Price(MYR)')\n",
    "plt.tight_layout()\n",
    "plt.show()"
   ]
  },
  {
   "cell_type": "code",
   "execution_count": null,
   "id": "eae10df2-a273-4604-ad27-7746b95f0bfe",
   "metadata": {},
   "outputs": [],
   "source": []
  },
  {
   "cell_type": "code",
   "execution_count": null,
   "id": "0e991f04-7514-4bf8-ad75-ca60e41d8338",
   "metadata": {},
   "outputs": [],
   "source": [
    "%%time\n",
    "predictions_val03_model04 = predictor_val03.predict(data = train_data_03,\n",
    "                                                             model = 'AutoETS/T1')\n",
    "predictions_val03_model05 = predictor_val03.predict(data = train_data_03,\n",
    "                                                        model = 'WeightedEnsemble')\n",
    "predictions_val03_model06 = predictor_val03.predict(data = train_data_03,\n",
    "                                                   model = 'DeepAR/T2')"
   ]
  },
  {
   "cell_type": "code",
   "execution_count": null,
   "id": "82e47551-d30d-4d1b-87a3-bbd66df0573b",
   "metadata": {},
   "outputs": [],
   "source": [
    "ytrue = train_data_03.loc['FCPOc3'][\"y\"]\n",
    "ypred_model01 = predictions_val03_model04.loc['FCPOc3']\n",
    "ypred_model02 = predictions_val03_model05.loc['FCPOc3']\n",
    "ypred_model03 = predictions_val03_model06.loc['FCPOc3']\n",
    "\n",
    "ytrue_test = test_data_03.loc['FCPOc3'][\"y\"][-prediction_length:]\n",
    "\n",
    "fig, axs = plt.subplots(1, 3, figsize=(30, 7))\n",
    "\n",
    "fig.suptitle('AutoGluon Validation 03')\n",
    "\n",
    "axs[0].plot(ytrue[-180:], label=\"Training Data\")\n",
    "axs[0].plot(ytrue_test, label=\"Actual\", color=\"black\")\n",
    "axs[0].plot(ypred_model01[\"mean\"], label=\"Forecasts\", color=\"red\")\n",
    "axs[0].fill_between(ypred_model01.index, ypred_model01[\"0.1\"], ypred_model01[\"0.9\"], color=\"red\", alpha=0.1)\n",
    "axs[0].set_title('AutoETS/T1 Mean Forecasts')\n",
    "\n",
    "axs[1].plot(ytrue[-180:], label=\"Training Data\")\n",
    "axs[1].plot(ytrue_test, label=\"Actual\", color=\"black\")\n",
    "axs[1].plot(ypred_model02[\"mean\"], label=\"Forecasts\", color=\"green\")\n",
    "axs[1].fill_between(ypred_model02.index, ypred_model02[\"0.1\"], ypred_model02[\"0.9\"], color=\"green\", alpha=0.1)\n",
    "axs[1].set_title('WeightedEnsemble Mean Forecasts')\n",
    "\n",
    "\n",
    "axs[2].plot(ytrue[-180:], label=\"Training Data\")\n",
    "axs[2].plot(ytrue_test, label=\"Actual\", color=\"black\")\n",
    "axs[2].plot(ypred_model03[\"mean\"], label=\"Forecasts\", color=\"blue\")\n",
    "axs[2].fill_between(ypred_model03.index, ypred_model03[\"0.1\"], ypred_model03[\"0.9\"], color=\"blue\", alpha=0.1)\n",
    "axs[2].set_title('DeepAR/T2 Mean Forecasts')\n",
    "\n",
    "\n",
    "fig.supxlabel('Date')\n",
    "fig.supylabel('Price(MYR)')\n",
    "plt.tight_layout()\n",
    "plt.show()"
   ]
  },
  {
   "cell_type": "code",
   "execution_count": null,
   "id": "a678b3ff-3aa9-48cc-be33-ce3adf1b8df1",
   "metadata": {},
   "outputs": [],
   "source": []
  },
  {
   "cell_type": "code",
   "execution_count": null,
   "id": "58dc5c9d-1b81-4812-b20f-cd11b2f651f9",
   "metadata": {},
   "outputs": [],
   "source": [
    "%%time\n",
    "predictor_val04 = TimeSeriesPredictor(\n",
    "    path=\"model/autogluon-FCPOc3-t1-val04(20140702~20220408)\",\n",
    "    target='y',\n",
    "    prediction_length=prediction_length,\n",
    "    eval_metric=\"MAPE\",\n",
    ")\n",
    "predictor_val04.fit(\n",
    "    train_data=train_data_04,\n",
    "    presets=\"good_quality\"\n",
    ")"
   ]
  },
  {
   "cell_type": "code",
   "execution_count": null,
   "id": "6fc6112f-4b26-41c9-adc8-623f02065eed",
   "metadata": {},
   "outputs": [],
   "source": [
    "%%time\n",
    "predictor_val04.leaderboard(test_data_04, silent=True)"
   ]
  },
  {
   "cell_type": "code",
   "execution_count": null,
   "id": "c7bf4f87-71b1-4318-bf84-a62ea3aa0ead",
   "metadata": {},
   "outputs": [],
   "source": [
    "%%time\n",
    "predictions_val04_model01 = predictor_val04.predict(data = train_data_04,\n",
    "                                                             model = 'AutoETS/T1')\n",
    "predictions_val04_model02 = predictor_val04.predict(data = train_data_04,\n",
    "                                                        model = 'ARIMA/T1')\n",
    "predictions_val04_model03 = predictor_val04.predict(data = train_data_04,\n",
    "                                                   model = 'WeightedEnsemble')"
   ]
  },
  {
   "cell_type": "code",
   "execution_count": null,
   "id": "5729569a-a8d3-4955-9314-7d618d0fa83c",
   "metadata": {},
   "outputs": [],
   "source": [
    "ytrue = train_data_04.loc['FCPOc3'][\"y\"]\n",
    "ypred_model01 = predictions_val04_model01.loc['FCPOc3']\n",
    "ypred_model02 = predictions_val04_model02.loc['FCPOc3']\n",
    "ypred_model03 = predictions_val04_model03.loc['FCPOc3']\n",
    "\n",
    "ytrue_test = test_data_04.loc['FCPOc3'][\"y\"][-prediction_length:]\n",
    "\n",
    "fig, axs = plt.subplots(1, 3, figsize=(30, 7))\n",
    "\n",
    "fig.suptitle('AutoGluon Validation 04')\n",
    "\n",
    "axs[0].plot(ytrue[-180:], label=\"Training Data\")\n",
    "axs[0].plot(ytrue_test, label=\"Actual\", color=\"black\")\n",
    "axs[0].plot(ypred_model01[\"mean\"], label=\"Forecasts\", color=\"red\")\n",
    "axs[0].fill_between(ypred_model01.index, ypred_model01[\"0.1\"], ypred_model01[\"0.9\"], color=\"red\", alpha=0.1)\n",
    "axs[0].set_title('AutoETS Mean Forecasts')\n",
    "\n",
    "axs[1].plot(ytrue[-180:], label=\"Training Data\")\n",
    "axs[1].plot(ytrue_test, label=\"Actual\", color=\"black\")\n",
    "axs[1].plot(ypred_model02[\"mean\"], label=\"Forecasts\", color=\"green\")\n",
    "axs[1].fill_between(ypred_model02.index, ypred_model02[\"0.1\"], ypred_model02[\"0.9\"], color=\"green\", alpha=0.1)\n",
    "axs[1].set_title('ARIMA/T1 Mean Forecasts')\n",
    "\n",
    "\n",
    "axs[2].plot(ytrue[-180:], label=\"Training Data\")\n",
    "axs[2].plot(ytrue_test, label=\"Actual\", color=\"black\")\n",
    "axs[2].plot(ypred_model03[\"mean\"], label=\"Forecasts\", color=\"blue\")\n",
    "axs[2].fill_between(ypred_model03.index, ypred_model03[\"0.1\"], ypred_model03[\"0.9\"], color=\"blue\", alpha=0.1)\n",
    "axs[2].set_title('WeightedEnsemble Mean Forecasts')\n",
    "\n",
    "\n",
    "fig.supxlabel('Date')\n",
    "fig.supylabel('Price(MYR)')\n",
    "plt.tight_layout()\n",
    "plt.show()"
   ]
  },
  {
   "cell_type": "code",
   "execution_count": null,
   "id": "0d9d1f9f-1bea-4342-80cf-95f0e63c53f6",
   "metadata": {},
   "outputs": [],
   "source": []
  },
  {
   "cell_type": "code",
   "execution_count": null,
   "id": "1310aba5-2501-4b35-905f-539da99fcfd4",
   "metadata": {},
   "outputs": [],
   "source": [
    "%%time\n",
    "predictor_val05 = TimeSeriesPredictor(\n",
    "    path=\"model/autogluon-FCPOc3-t1-val05(20140702~20220225)\",\n",
    "    target='y',\n",
    "    prediction_length=prediction_length,\n",
    "    eval_metric=\"MAPE\",\n",
    ")\n",
    "predictor_val05.fit(\n",
    "    train_data=train_data_05,\n",
    "    presets=\"good_quality\"\n",
    ")"
   ]
  },
  {
   "cell_type": "code",
   "execution_count": null,
   "id": "15810107-cdb1-4063-b744-f6dd18d6f02d",
   "metadata": {},
   "outputs": [],
   "source": [
    "%%time\n",
    "predictor_val05.leaderboard(test_data_05, silent=True)"
   ]
  },
  {
   "cell_type": "code",
   "execution_count": null,
   "id": "85203fc9-bbc1-4739-afb9-f5742513305a",
   "metadata": {},
   "outputs": [],
   "source": [
    "%%time\n",
    "predictions_val05_model01 = predictor_val05.predict(data = train_data_05,\n",
    "                                                             model = 'Transformer/T1')\n",
    "predictions_val05_model02 = predictor_val05.predict(data = train_data_05,\n",
    "                                                        model = 'WeightedEnsemble')\n",
    "predictions_val05_model03 = predictor_val05.predict(data = train_data_05,\n",
    "                                                   model = 'Transformer/T2')"
   ]
  },
  {
   "cell_type": "code",
   "execution_count": null,
   "id": "ad5ec73b-d5fc-434b-9e65-68e74eef7800",
   "metadata": {},
   "outputs": [],
   "source": [
    "ytrue = train_data_05.loc['FCPOc3'][\"y\"]\n",
    "ypred_model01 = predictions_val05_model01.loc['FCPOc3']\n",
    "ypred_model02 = predictions_val05_model02.loc['FCPOc3']\n",
    "ypred_model03 = predictions_val05_model03.loc['FCPOc3']\n",
    "\n",
    "ytrue_test = test_data_05.loc['FCPOc3'][\"y\"][-prediction_length:]\n",
    "\n",
    "fig, axs = plt.subplots(1, 3, figsize=(30, 7))\n",
    "\n",
    "fig.suptitle('AutoGluon Validation 05')\n",
    "\n",
    "axs[0].plot(ytrue[-120:], label=\"Training Data\")\n",
    "axs[0].plot(ytrue_test, label=\"Actual\", color=\"black\")\n",
    "axs[0].plot(ypred_model01[\"mean\"], label=\"Forecasts\", color=\"red\")\n",
    "axs[0].fill_between(ypred_model01.index, ypred_model01[\"0.1\"], ypred_model01[\"0.9\"], color=\"red\", alpha=0.1)\n",
    "axs[0].set_title('Transformer/T1 Mean Forecasts')\n",
    "\n",
    "axs[1].plot(ytrue[-60:], label=\"Training Data\")\n",
    "axs[1].plot(ytrue_test, label=\"Actual\", color=\"black\")\n",
    "axs[1].plot(ypred_model02[\"mean\"], label=\"Forecasts\", color=\"green\")\n",
    "axs[1].fill_between(ypred_model02.index, ypred_model02[\"0.1\"], ypred_model02[\"0.9\"], color=\"green\", alpha=0.1)\n",
    "axs[1].set_title('WeightedEnsemble Mean Forecasts')\n",
    "\n",
    "\n",
    "axs[2].plot(ytrue[-60:], label=\"Training Data\")\n",
    "axs[2].plot(ytrue_test, label=\"Actual\", color=\"black\")\n",
    "axs[2].plot(ypred_model03[\"mean\"], label=\"Forecasts\", color=\"blue\")\n",
    "axs[2].fill_between(ypred_model03.index, ypred_model03[\"0.1\"], ypred_model03[\"0.9\"], color=\"blue\", alpha=0.1)\n",
    "axs[2].set_title('Transformer/T2 Mean Forecasts')\n",
    "\n",
    "\n",
    "fig.supxlabel('Date')\n",
    "fig.supylabel('Price(MYR)')\n",
    "plt.tight_layout()\n",
    "plt.show()"
   ]
  },
  {
   "cell_type": "code",
   "execution_count": null,
   "id": "56168b93-8221-465a-8c81-af4bf419c6aa",
   "metadata": {},
   "outputs": [],
   "source": []
  },
  {
   "cell_type": "markdown",
   "id": "87eb66b2-99ed-4d32-a253-3043a4560211",
   "metadata": {},
   "source": [
    "## n) 마지막! 스크립트화 하자"
   ]
  },
  {
   "cell_type": "markdown",
   "id": "4ef9840b-cdb3-4b70-8e94-f890204dd4e7",
   "metadata": {},
   "source": [
    "### (1) 참고자료(1): 유동님 Github\n",
    "- Training using the pre-processed data 부터 시작\n",
    "- 여기서는 Linear로 진행했기 때문에 우선 돌아가는지 테스트차 categorical 변수 빼고 진행해보자."
   ]
  },
  {
   "cell_type": "code",
   "execution_count": 59,
   "id": "4eded764-6af5-450f-8b67-a7f20752ea42",
   "metadata": {},
   "outputs": [],
   "source": [
    "from sagemaker.sklearn.estimator import SKLearn\n",
    "from sagemaker import get_execution_role\n",
    "\n",
    "sklearn = SKLearn(\n",
    "    entry_point=\"train.py\",\n",
    "    framework_version=\"1.0-1\",\n",
    "    instance_type=\"ml.m5.xlarge\",\n",
    "    role=role\n",
    "\n",
    ")"
   ]
  },
  {
   "cell_type": "markdown",
   "id": "040c2e63-bc0a-451f-ad81-f068b9aa0d7f",
   "metadata": {},
   "source": [
    "```python\n",
    "%%writefile train.py\n",
    "\n",
    "import os\n",
    "\n",
    "import pandas as pd\n",
    "from sklearn.linear_model import LogisticRegression\n",
    "# from sklearn.externals import joblib\n",
    "import joblib\n",
    "\n",
    "if __name__ == \"__main__\":\n",
    "    training_data_directory = \"/opt/ml/input/data/train\"\n",
    "    train_features_data = os.path.join(training_data_directory, \"train_features.csv\")\n",
    "    train_labels_data = os.path.join(training_data_directory, \"train_labels.csv\")\n",
    "    print(\"Reading input data\")\n",
    "    X_train = pd.read_csv(train_features_data, header=None)\n",
    "    y_train = pd.read_csv(train_labels_data, header=None)\n",
    "\n",
    "    model = LogisticRegression(class_weight=\"balanced\", solver=\"lbfgs\")\n",
    "    print(\"Training LR model\")\n",
    "    model.fit(X_train, y_train)\n",
    "    model_output_directory = os.path.join(\"/opt/ml/model\", \"model.joblib\")\n",
    "    print(\"Saving model to {}\".format(model_output_directory))\n",
    "    joblib.dump(model, model_output_directory)\n",
    "```"
   ]
  },
  {
   "cell_type": "code",
   "execution_count": 73,
   "id": "8c489b7d-2348-4a62-8b9c-d2c0f01d66d9",
   "metadata": {},
   "outputs": [
    {
     "name": "stdout",
     "output_type": "stream",
     "text": [
      "Overwriting train.py\n"
     ]
    }
   ],
   "source": [
    "%%writefile train.py\n",
    "\n",
    "import os\n",
    "\n",
    "import pandas as pd\n",
    "from sklearn.linear_model import LogisticRegression\n",
    "# from sklearn.externals import joblib\n",
    "import joblib\n",
    "\n",
    "\n",
    "if __name__ == \"__main__\":\n",
    "    training_data_directory = \"/opt/ml/input/data/train\"\n",
    "    train_path = os.path.join(training_data_directory, 'train.csv')#\"train_features.csv\")\n",
    "    # train_labels_data = os.path.join(training_data_directory, \"train_labels.csv\")\n",
    "    print(\"Reading input data\")\n",
    "    df_train = pd.read_csv(train_path)\n",
    "    df_train = df_train[df_train['ric'] == 'FCPOc3']\n",
    "    print(df_train)\n",
    "    X_train = df_train[['ds','high','low','open']]\n",
    "    y_train = df_train[['ds','y']]\n",
    "\n",
    "    model = LogisticRegression(class_weight=\"balanced\", solver=\"lbfgs\")\n",
    "    print(\"Training LR model\")\n",
    "    model.fit(X_train, y_train)\n",
    "    model_output_directory = os.path.join(\"/opt/ml/model\", \"model.joblib\")\n",
    "    print(\"Saving model to {}\".format(model_output_directory))\n",
    "    joblib.dump(model, model_output_directory)"
   ]
  },
  {
   "cell_type": "markdown",
   "id": "291e3fb6-1f7f-46b9-be41-ecca4bbc0a18",
   "metadata": {},
   "source": [
    "train.py 트레이닝 스크립트는 트레이닝 데이터를 사용하여 logistic regression 모델을 만들고, 다음 디렉토리에 /opt/ml/model 모델을 저장합니다. Amazon SageMaker 는 tar 파일을 만들고다름과 같은 이름으로 model.tar.gz S3 에 업로드 합니다."
   ]
  },
  {
   "cell_type": "markdown",
   "id": "e649c4ac-bf38-40d3-99be-a24382616665",
   "metadata": {},
   "source": [
    "만들어진 train.py 스트립트를 사용하여 모델을 트레이닝 합니다."
   ]
  },
  {
   "cell_type": "code",
   "execution_count": 74,
   "id": "89ffe1f8-1266-4381-aad8-76f5e39268c3",
   "metadata": {},
   "outputs": [
    {
     "name": "stdout",
     "output_type": "stream",
     "text": [
      "2022-10-27 13:00:33 Starting - Starting the training job...\n",
      "2022-10-27 13:00:59 Starting - Preparing the instances for trainingProfilerReport-1666875633: InProgress\n",
      "......\n",
      "2022-10-27 13:02:02 Downloading - Downloading input data...\n",
      "2022-10-27 13:02:22 Training - Downloading the training image.....\u001b[34m2022-10-27 13:03:10,517 sagemaker-containers INFO     Imported framework sagemaker_sklearn_container.training\u001b[0m\n",
      "\u001b[34m2022-10-27 13:03:10,520 sagemaker-training-toolkit INFO     No GPUs detected (normal if no gpus installed)\u001b[0m\n",
      "\u001b[34m2022-10-27 13:03:10,528 sagemaker_sklearn_container.training INFO     Invoking user training script.\u001b[0m\n",
      "\u001b[34m2022-10-27 13:03:10,853 sagemaker-training-toolkit INFO     No GPUs detected (normal if no gpus installed)\u001b[0m\n",
      "\u001b[34m2022-10-27 13:03:10,867 sagemaker-training-toolkit INFO     No GPUs detected (normal if no gpus installed)\u001b[0m\n",
      "\u001b[34m2022-10-27 13:03:10,878 sagemaker-training-toolkit INFO     No GPUs detected (normal if no gpus installed)\u001b[0m\n",
      "\u001b[34m2022-10-27 13:03:10,887 sagemaker-training-toolkit INFO     Invoking user script\u001b[0m\n",
      "\u001b[34mTraining Env:\u001b[0m\n",
      "\u001b[34m{\n",
      "    \"additional_framework_parameters\": {},\n",
      "    \"channel_input_dirs\": {\n",
      "        \"train\": \"/opt/ml/input/data/train\"\n",
      "    },\n",
      "    \"current_host\": \"algo-1\",\n",
      "    \"framework_module\": \"sagemaker_sklearn_container.training:main\",\n",
      "    \"hosts\": [\n",
      "        \"algo-1\"\n",
      "    ],\n",
      "    \"hyperparameters\": {},\n",
      "    \"input_config_dir\": \"/opt/ml/input/config\",\n",
      "    \"input_data_config\": {\n",
      "        \"train\": {\n",
      "            \"TrainingInputMode\": \"File\",\n",
      "            \"S3DistributionType\": \"FullyReplicated\",\n",
      "            \"RecordWrapperType\": \"None\"\n",
      "        }\n",
      "    },\n",
      "    \"input_dir\": \"/opt/ml/input\",\n",
      "    \"is_master\": true,\n",
      "    \"job_name\": \"sagemaker-scikit-learn-2022-10-27-13-00-33-321\",\n",
      "    \"log_level\": 20,\n",
      "    \"master_hostname\": \"algo-1\",\n",
      "    \"model_dir\": \"/opt/ml/model\",\n",
      "    \"module_dir\": \"s3://sagemaker-ap-northeast-2-276114397529/sagemaker-scikit-learn-2022-10-27-13-00-33-321/source/sourcedir.tar.gz\",\n",
      "    \"module_name\": \"train\",\n",
      "    \"network_interface_name\": \"eth0\",\n",
      "    \"num_cpus\": 4,\n",
      "    \"num_gpus\": 0,\n",
      "    \"output_data_dir\": \"/opt/ml/output/data\",\n",
      "    \"output_dir\": \"/opt/ml/output\",\n",
      "    \"output_intermediate_dir\": \"/opt/ml/output/intermediate\",\n",
      "    \"resource_config\": {\n",
      "        \"current_host\": \"algo-1\",\n",
      "        \"current_instance_type\": \"ml.m5.xlarge\",\n",
      "        \"current_group_name\": \"homogeneousCluster\",\n",
      "        \"hosts\": [\n",
      "            \"algo-1\"\n",
      "        ],\n",
      "        \"instance_groups\": [\n",
      "            {\n",
      "                \"instance_group_name\": \"homogeneousCluster\",\n",
      "                \"instance_type\": \"ml.m5.xlarge\",\n",
      "                \"hosts\": [\n",
      "                    \"algo-1\"\n",
      "                ]\n",
      "            }\n",
      "        ],\n",
      "        \"network_interface_name\": \"eth0\"\n",
      "    },\n",
      "    \"user_entry_point\": \"train.py\"\u001b[0m\n",
      "\u001b[34m}\u001b[0m\n",
      "\u001b[34mEnvironment variables:\u001b[0m\n",
      "\u001b[34mSM_HOSTS=[\"algo-1\"]\u001b[0m\n",
      "\u001b[34mSM_NETWORK_INTERFACE_NAME=eth0\u001b[0m\n",
      "\u001b[34mSM_HPS={}\u001b[0m\n",
      "\u001b[34mSM_USER_ENTRY_POINT=train.py\u001b[0m\n",
      "\u001b[34mSM_FRAMEWORK_PARAMS={}\u001b[0m\n",
      "\u001b[34mSM_RESOURCE_CONFIG={\"current_group_name\":\"homogeneousCluster\",\"current_host\":\"algo-1\",\"current_instance_type\":\"ml.m5.xlarge\",\"hosts\":[\"algo-1\"],\"instance_groups\":[{\"hosts\":[\"algo-1\"],\"instance_group_name\":\"homogeneousCluster\",\"instance_type\":\"ml.m5.xlarge\"}],\"network_interface_name\":\"eth0\"}\u001b[0m\n",
      "\u001b[34mSM_INPUT_DATA_CONFIG={\"train\":{\"RecordWrapperType\":\"None\",\"S3DistributionType\":\"FullyReplicated\",\"TrainingInputMode\":\"File\"}}\u001b[0m\n",
      "\u001b[34mSM_OUTPUT_DATA_DIR=/opt/ml/output/data\u001b[0m\n",
      "\u001b[34mSM_CHANNELS=[\"train\"]\u001b[0m\n",
      "\u001b[34mSM_CURRENT_HOST=algo-1\u001b[0m\n",
      "\u001b[34mSM_MODULE_NAME=train\u001b[0m\n",
      "\u001b[34mSM_LOG_LEVEL=20\u001b[0m\n",
      "\u001b[34mSM_FRAMEWORK_MODULE=sagemaker_sklearn_container.training:main\u001b[0m\n",
      "\u001b[34mSM_INPUT_DIR=/opt/ml/input\u001b[0m\n",
      "\u001b[34mSM_INPUT_CONFIG_DIR=/opt/ml/input/config\u001b[0m\n",
      "\u001b[34mSM_OUTPUT_DIR=/opt/ml/output\u001b[0m\n",
      "\u001b[34mSM_NUM_CPUS=4\u001b[0m\n",
      "\u001b[34mSM_NUM_GPUS=0\u001b[0m\n",
      "\u001b[34mSM_MODEL_DIR=/opt/ml/model\u001b[0m\n",
      "\u001b[34mSM_MODULE_DIR=s3://sagemaker-ap-northeast-2-276114397529/sagemaker-scikit-learn-2022-10-27-13-00-33-321/source/sourcedir.tar.gz\u001b[0m\n",
      "\u001b[34mSM_TRAINING_ENV={\"additional_framework_parameters\":{},\"channel_input_dirs\":{\"train\":\"/opt/ml/input/data/train\"},\"current_host\":\"algo-1\",\"framework_module\":\"sagemaker_sklearn_container.training:main\",\"hosts\":[\"algo-1\"],\"hyperparameters\":{},\"input_config_dir\":\"/opt/ml/input/config\",\"input_data_config\":{\"train\":{\"RecordWrapperType\":\"None\",\"S3DistributionType\":\"FullyReplicated\",\"TrainingInputMode\":\"File\"}},\"input_dir\":\"/opt/ml/input\",\"is_master\":true,\"job_name\":\"sagemaker-scikit-learn-2022-10-27-13-00-33-321\",\"log_level\":20,\"master_hostname\":\"algo-1\",\"model_dir\":\"/opt/ml/model\",\"module_dir\":\"s3://sagemaker-ap-northeast-2-276114397529/sagemaker-scikit-learn-2022-10-27-13-00-33-321/source/sourcedir.tar.gz\",\"module_name\":\"train\",\"network_interface_name\":\"eth0\",\"num_cpus\":4,\"num_gpus\":0,\"output_data_dir\":\"/opt/ml/output/data\",\"output_dir\":\"/opt/ml/output\",\"output_intermediate_dir\":\"/opt/ml/output/intermediate\",\"resource_config\":{\"current_group_name\":\"homogeneousCluster\",\"current_host\":\"algo-1\",\"current_instance_type\":\"ml.m5.xlarge\",\"hosts\":[\"algo-1\"],\"instance_groups\":[{\"hosts\":[\"algo-1\"],\"instance_group_name\":\"homogeneousCluster\",\"instance_type\":\"ml.m5.xlarge\"}],\"network_interface_name\":\"eth0\"},\"user_entry_point\":\"train.py\"}\u001b[0m\n",
      "\u001b[34mSM_USER_ARGS=[]\u001b[0m\n",
      "\u001b[34mSM_OUTPUT_INTERMEDIATE_DIR=/opt/ml/output/intermediate\u001b[0m\n",
      "\u001b[34mSM_CHANNEL_TRAIN=/opt/ml/input/data/train\u001b[0m\n",
      "\u001b[34mPYTHONPATH=/opt/ml/code:/miniconda3/bin:/miniconda3/lib/python38.zip:/miniconda3/lib/python3.8:/miniconda3/lib/python3.8/lib-dynload:/miniconda3/lib/python3.8/site-packages\u001b[0m\n",
      "\u001b[34mInvoking script with the following command:\u001b[0m\n",
      "\u001b[34m/miniconda3/bin/python train.py\u001b[0m\n",
      "\u001b[34mReading input data\n",
      "               ds      high       low      open         y     ric\u001b[0m\n",
      "\u001b[34m94732  2014-07-02  0.099180  0.108661  0.102986  0.106931  FCPOc3\u001b[0m\n",
      "\u001b[34m94733  2014-07-03  0.097688  0.109864  0.103178  0.106359  FCPOc3\u001b[0m\n",
      "\u001b[34m94734  2014-07-04  0.098620  0.107458  0.105283  0.102158  FCPOc3\u001b[0m\n",
      "\u001b[34m94735  2014-07-07  0.096943  0.107057  0.100881  0.104449  FCPOc3\u001b[0m\n",
      "\u001b[34m94736  2014-07-08  0.095451  0.104050  0.102221  0.098721  FCPOc3\u001b[0m\n",
      "\u001b[34m...           ...       ...       ...       ...       ...     ...\u001b[0m\n",
      "\u001b[34m96880  2022-09-26  0.319351  0.314354  0.330590  0.319649  FCPOc3\u001b[0m\n",
      "\u001b[34m96881  2022-09-27  0.314131  0.315557  0.320636  0.316212  FCPOc3\u001b[0m\n",
      "\u001b[34m96882  2022-09-28  0.308538  0.272053  0.316616  0.259500  FCPOc3\u001b[0m\n",
      "\u001b[34m96883  2022-09-29  0.278896  0.274860  0.265314  0.281650  FCPOc3\u001b[0m\n",
      "\u001b[34m96884  2022-09-30  0.288218  0.289695  0.284648  0.295780  FCPOc3\u001b[0m\n",
      "\u001b[34m[2153 rows x 6 columns]\u001b[0m\n",
      "\u001b[34mTraining LR model\u001b[0m\n",
      "\u001b[34mTraceback (most recent call last):\n",
      "  File \"train.py\", line 23, in <module>\n",
      "    model.fit(X_train, y_train)\n",
      "  File \"/miniconda3/lib/python3.8/site-packages/sklearn/linear_model/_logistic.py\", line 1508, in fit\n",
      "    X, y = self._validate_data(\n",
      "  File \"/miniconda3/lib/python3.8/site-packages/sklearn/base.py\", line 581, in _validate_data\n",
      "    X, y = check_X_y(X, y, **check_params)\n",
      "  File \"/miniconda3/lib/python3.8/site-packages/sklearn/utils/validation.py\", line 964, in check_X_y\n",
      "    X = check_array(\n",
      "  File \"/miniconda3/lib/python3.8/site-packages/sklearn/utils/validation.py\", line 746, in check_array\n",
      "    array = np.asarray(array, order=order, dtype=dtype)\n",
      "  File \"/miniconda3/lib/python3.8/site-packages/numpy/core/_asarray.py\", line 83, in asarray\n",
      "    return array(a, dtype, copy=False, order=order)\n",
      "  File \"/miniconda3/lib/python3.8/site-packages/pandas/core/generic.py\", line 1781, in __array__\n",
      "    return np.asarray(self._values, dtype=dtype)\n",
      "  File \"/miniconda3/lib/python3.8/site-packages/numpy/core/_asarray.py\", line 83, in asarray\n",
      "    return array(a, dtype, copy=False, order=order)\u001b[0m\n",
      "\u001b[34mValueError: could not convert string to float: '2014-07-02'\u001b[0m\n",
      "\u001b[34m2022-10-27 13:03:12,458 sagemaker-containers ERROR    Reporting training FAILURE\u001b[0m\n",
      "\u001b[34m2022-10-27 13:03:12,458 sagemaker-containers ERROR    framework error: \u001b[0m\n",
      "\u001b[34mTraceback (most recent call last):\n",
      "  File \"/miniconda3/lib/python3.8/site-packages/sagemaker_containers/_trainer.py\", line 84, in train\n",
      "    entrypoint()\n",
      "  File \"/miniconda3/lib/python3.8/site-packages/sagemaker_sklearn_container/training.py\", line 39, in main\n",
      "    train(environment.Environment())\n",
      "  File \"/miniconda3/lib/python3.8/site-packages/sagemaker_sklearn_container/training.py\", line 31, in train\n",
      "    entry_point.run(uri=training_environment.module_dir,\n",
      "  File \"/miniconda3/lib/python3.8/site-packages/sagemaker_training/entry_point.py\", line 99, in run\n",
      "    return runner.get(runner_type, user_entry_point, args, env_vars, extra_opts).run(\n",
      "  File \"/miniconda3/lib/python3.8/site-packages/sagemaker_training/process.py\", line 286, in run\n",
      "    process = check_error(\n",
      "  File \"/miniconda3/lib/python3.8/site-packages/sagemaker_training/process.py\", line 204, in check_error\n",
      "    raise error_class(\u001b[0m\n",
      "\u001b[34msagemaker_training.errors.ExecuteUserScriptError: ExecuteUserScriptError:\u001b[0m\n",
      "\u001b[34mExitCode 1\u001b[0m\n",
      "\u001b[34mErrorMessage \"\"\u001b[0m\n",
      "\u001b[34mCommand \"/miniconda3/bin/python train.py\"\u001b[0m\n",
      "\u001b[34mExecuteUserScriptError:\u001b[0m\n",
      "\u001b[34mExitCode 1\u001b[0m\n",
      "\u001b[34mErrorMessage \"\"\u001b[0m\n",
      "\u001b[34mCommand \"/miniconda3/bin/python train.py\"\u001b[0m\n",
      "\n",
      "2022-10-27 13:03:24 Uploading - Uploading generated training model\n",
      "2022-10-27 13:03:24 Failed - Training job failed\n"
     ]
    },
    {
     "ename": "UnexpectedStatusException",
     "evalue": "Error for Training job sagemaker-scikit-learn-2022-10-27-13-00-33-321: Failed. Reason: AlgorithmError: framework error: \nTraceback (most recent call last):\n  File \"/miniconda3/lib/python3.8/site-packages/sagemaker_containers/_trainer.py\", line 84, in train\n    entrypoint()\n  File \"/miniconda3/lib/python3.8/site-packages/sagemaker_sklearn_container/training.py\", line 39, in main\n    train(environment.Environment())\n  File \"/miniconda3/lib/python3.8/site-packages/sagemaker_sklearn_container/training.py\", line 31, in train\n    entry_point.run(uri=training_environment.module_dir,\n  File \"/miniconda3/lib/python3.8/site-packages/sagemaker_training/entry_point.py\", line 99, in run\n    return runner.get(runner_type, user_entry_point, args, env_vars, extra_opts).run(\n  File \"/miniconda3/lib/python3.8/site-packages/sagemaker_training/process.py\", line 286, in run\n    process = check_error(\n  File \"/miniconda3/lib/python3.8/site-packages/sagemaker_training/process.py\", line 204, in check_error\n    raise error_class(\nsagemaker_training.errors.ExecuteUserScriptError: ExecuteUserScriptError:\nExitCode 1\nError",
     "output_type": "error",
     "traceback": [
      "\u001b[0;31m---------------------------------------------------------------------------\u001b[0m",
      "\u001b[0;31mUnexpectedStatusException\u001b[0m                 Traceback (most recent call last)",
      "\u001b[0;32m/tmp/ipykernel_20074/1991948391.py\u001b[0m in \u001b[0;36m<cell line: 1>\u001b[0;34m()\u001b[0m\n\u001b[0;32m----> 1\u001b[0;31m \u001b[0msklearn\u001b[0m\u001b[0;34m.\u001b[0m\u001b[0mfit\u001b[0m\u001b[0;34m(\u001b[0m\u001b[0;34m{\u001b[0m\u001b[0;34m\"train\"\u001b[0m\u001b[0;34m:\u001b[0m \u001b[0mpreprocessed_training_data\u001b[0m\u001b[0;34m}\u001b[0m\u001b[0;34m)\u001b[0m\u001b[0;34m\u001b[0m\u001b[0;34m\u001b[0m\u001b[0m\n\u001b[0m\u001b[1;32m      2\u001b[0m \u001b[0mtraining_job_description\u001b[0m \u001b[0;34m=\u001b[0m \u001b[0msklearn\u001b[0m\u001b[0;34m.\u001b[0m\u001b[0mjobs\u001b[0m\u001b[0;34m[\u001b[0m\u001b[0;34m-\u001b[0m\u001b[0;36m1\u001b[0m\u001b[0;34m]\u001b[0m\u001b[0;34m.\u001b[0m\u001b[0mdescribe\u001b[0m\u001b[0;34m(\u001b[0m\u001b[0;34m)\u001b[0m\u001b[0;34m\u001b[0m\u001b[0;34m\u001b[0m\u001b[0m\n\u001b[1;32m      3\u001b[0m model_data_s3_uri = \"{}{}/{}\".format(\n\u001b[1;32m      4\u001b[0m     \u001b[0mtraining_job_description\u001b[0m\u001b[0;34m[\u001b[0m\u001b[0;34m\"OutputDataConfig\"\u001b[0m\u001b[0;34m]\u001b[0m\u001b[0;34m[\u001b[0m\u001b[0;34m\"S3OutputPath\"\u001b[0m\u001b[0;34m]\u001b[0m\u001b[0;34m,\u001b[0m\u001b[0;34m\u001b[0m\u001b[0;34m\u001b[0m\u001b[0m\n\u001b[1;32m      5\u001b[0m     \u001b[0mtraining_job_description\u001b[0m\u001b[0;34m[\u001b[0m\u001b[0;34m\"TrainingJobName\"\u001b[0m\u001b[0;34m]\u001b[0m\u001b[0;34m,\u001b[0m\u001b[0;34m\u001b[0m\u001b[0;34m\u001b[0m\u001b[0m\n",
      "\u001b[0;32m~/anaconda3/envs/tensorflow2_p38/lib/python3.8/site-packages/sagemaker/workflow/pipeline_context.py\u001b[0m in \u001b[0;36mwrapper\u001b[0;34m(*args, **kwargs)\u001b[0m\n\u001b[1;32m    246\u001b[0m             \u001b[0;32mreturn\u001b[0m \u001b[0mself_instance\u001b[0m\u001b[0;34m.\u001b[0m\u001b[0msagemaker_session\u001b[0m\u001b[0;34m.\u001b[0m\u001b[0mcontext\u001b[0m\u001b[0;34m\u001b[0m\u001b[0;34m\u001b[0m\u001b[0m\n\u001b[1;32m    247\u001b[0m \u001b[0;34m\u001b[0m\u001b[0m\n\u001b[0;32m--> 248\u001b[0;31m         \u001b[0;32mreturn\u001b[0m \u001b[0mrun_func\u001b[0m\u001b[0;34m(\u001b[0m\u001b[0;34m*\u001b[0m\u001b[0margs\u001b[0m\u001b[0;34m,\u001b[0m \u001b[0;34m**\u001b[0m\u001b[0mkwargs\u001b[0m\u001b[0;34m)\u001b[0m\u001b[0;34m\u001b[0m\u001b[0;34m\u001b[0m\u001b[0m\n\u001b[0m\u001b[1;32m    249\u001b[0m \u001b[0;34m\u001b[0m\u001b[0m\n\u001b[1;32m    250\u001b[0m     \u001b[0;32mreturn\u001b[0m \u001b[0mwrapper\u001b[0m\u001b[0;34m\u001b[0m\u001b[0;34m\u001b[0m\u001b[0m\n",
      "\u001b[0;32m~/anaconda3/envs/tensorflow2_p38/lib/python3.8/site-packages/sagemaker/estimator.py\u001b[0m in \u001b[0;36mfit\u001b[0;34m(self, inputs, wait, logs, job_name, experiment_config)\u001b[0m\n\u001b[1;32m   1099\u001b[0m         \u001b[0mself\u001b[0m\u001b[0;34m.\u001b[0m\u001b[0mjobs\u001b[0m\u001b[0;34m.\u001b[0m\u001b[0mappend\u001b[0m\u001b[0;34m(\u001b[0m\u001b[0mself\u001b[0m\u001b[0;34m.\u001b[0m\u001b[0mlatest_training_job\u001b[0m\u001b[0;34m)\u001b[0m\u001b[0;34m\u001b[0m\u001b[0;34m\u001b[0m\u001b[0m\n\u001b[1;32m   1100\u001b[0m         \u001b[0;32mif\u001b[0m \u001b[0mwait\u001b[0m\u001b[0;34m:\u001b[0m\u001b[0;34m\u001b[0m\u001b[0;34m\u001b[0m\u001b[0m\n\u001b[0;32m-> 1101\u001b[0;31m             \u001b[0mself\u001b[0m\u001b[0;34m.\u001b[0m\u001b[0mlatest_training_job\u001b[0m\u001b[0;34m.\u001b[0m\u001b[0mwait\u001b[0m\u001b[0;34m(\u001b[0m\u001b[0mlogs\u001b[0m\u001b[0;34m=\u001b[0m\u001b[0mlogs\u001b[0m\u001b[0;34m)\u001b[0m\u001b[0;34m\u001b[0m\u001b[0;34m\u001b[0m\u001b[0m\n\u001b[0m\u001b[1;32m   1102\u001b[0m \u001b[0;34m\u001b[0m\u001b[0m\n\u001b[1;32m   1103\u001b[0m     \u001b[0;32mdef\u001b[0m \u001b[0m_compilation_job_name\u001b[0m\u001b[0;34m(\u001b[0m\u001b[0mself\u001b[0m\u001b[0;34m)\u001b[0m\u001b[0;34m:\u001b[0m\u001b[0;34m\u001b[0m\u001b[0;34m\u001b[0m\u001b[0m\n",
      "\u001b[0;32m~/anaconda3/envs/tensorflow2_p38/lib/python3.8/site-packages/sagemaker/estimator.py\u001b[0m in \u001b[0;36mwait\u001b[0;34m(self, logs)\u001b[0m\n\u001b[1;32m   2198\u001b[0m         \u001b[0;31m# If logs are requested, call logs_for_jobs.\u001b[0m\u001b[0;34m\u001b[0m\u001b[0;34m\u001b[0m\u001b[0;34m\u001b[0m\u001b[0m\n\u001b[1;32m   2199\u001b[0m         \u001b[0;32mif\u001b[0m \u001b[0mlogs\u001b[0m \u001b[0;34m!=\u001b[0m \u001b[0;34m\"None\"\u001b[0m\u001b[0;34m:\u001b[0m\u001b[0;34m\u001b[0m\u001b[0;34m\u001b[0m\u001b[0m\n\u001b[0;32m-> 2200\u001b[0;31m             \u001b[0mself\u001b[0m\u001b[0;34m.\u001b[0m\u001b[0msagemaker_session\u001b[0m\u001b[0;34m.\u001b[0m\u001b[0mlogs_for_job\u001b[0m\u001b[0;34m(\u001b[0m\u001b[0mself\u001b[0m\u001b[0;34m.\u001b[0m\u001b[0mjob_name\u001b[0m\u001b[0;34m,\u001b[0m \u001b[0mwait\u001b[0m\u001b[0;34m=\u001b[0m\u001b[0;32mTrue\u001b[0m\u001b[0;34m,\u001b[0m \u001b[0mlog_type\u001b[0m\u001b[0;34m=\u001b[0m\u001b[0mlogs\u001b[0m\u001b[0;34m)\u001b[0m\u001b[0;34m\u001b[0m\u001b[0;34m\u001b[0m\u001b[0m\n\u001b[0m\u001b[1;32m   2201\u001b[0m         \u001b[0;32melse\u001b[0m\u001b[0;34m:\u001b[0m\u001b[0;34m\u001b[0m\u001b[0;34m\u001b[0m\u001b[0m\n\u001b[1;32m   2202\u001b[0m             \u001b[0mself\u001b[0m\u001b[0;34m.\u001b[0m\u001b[0msagemaker_session\u001b[0m\u001b[0;34m.\u001b[0m\u001b[0mwait_for_job\u001b[0m\u001b[0;34m(\u001b[0m\u001b[0mself\u001b[0m\u001b[0;34m.\u001b[0m\u001b[0mjob_name\u001b[0m\u001b[0;34m)\u001b[0m\u001b[0;34m\u001b[0m\u001b[0;34m\u001b[0m\u001b[0m\n",
      "\u001b[0;32m~/anaconda3/envs/tensorflow2_p38/lib/python3.8/site-packages/sagemaker/session.py\u001b[0m in \u001b[0;36mlogs_for_job\u001b[0;34m(self, job_name, wait, poll, log_type)\u001b[0m\n\u001b[1;32m   3875\u001b[0m \u001b[0;34m\u001b[0m\u001b[0m\n\u001b[1;32m   3876\u001b[0m         \u001b[0;32mif\u001b[0m \u001b[0mwait\u001b[0m\u001b[0;34m:\u001b[0m\u001b[0;34m\u001b[0m\u001b[0;34m\u001b[0m\u001b[0m\n\u001b[0;32m-> 3877\u001b[0;31m             \u001b[0mself\u001b[0m\u001b[0;34m.\u001b[0m\u001b[0m_check_job_status\u001b[0m\u001b[0;34m(\u001b[0m\u001b[0mjob_name\u001b[0m\u001b[0;34m,\u001b[0m \u001b[0mdescription\u001b[0m\u001b[0;34m,\u001b[0m \u001b[0;34m\"TrainingJobStatus\"\u001b[0m\u001b[0;34m)\u001b[0m\u001b[0;34m\u001b[0m\u001b[0;34m\u001b[0m\u001b[0m\n\u001b[0m\u001b[1;32m   3878\u001b[0m             \u001b[0;32mif\u001b[0m \u001b[0mdot\u001b[0m\u001b[0;34m:\u001b[0m\u001b[0;34m\u001b[0m\u001b[0;34m\u001b[0m\u001b[0m\n\u001b[1;32m   3879\u001b[0m                 \u001b[0mprint\u001b[0m\u001b[0;34m(\u001b[0m\u001b[0;34m)\u001b[0m\u001b[0;34m\u001b[0m\u001b[0;34m\u001b[0m\u001b[0m\n",
      "\u001b[0;32m~/anaconda3/envs/tensorflow2_p38/lib/python3.8/site-packages/sagemaker/session.py\u001b[0m in \u001b[0;36m_check_job_status\u001b[0;34m(self, job, desc, status_key_name)\u001b[0m\n\u001b[1;32m   3413\u001b[0m                     \u001b[0mactual_status\u001b[0m\u001b[0;34m=\u001b[0m\u001b[0mstatus\u001b[0m\u001b[0;34m,\u001b[0m\u001b[0;34m\u001b[0m\u001b[0;34m\u001b[0m\u001b[0m\n\u001b[1;32m   3414\u001b[0m                 )\n\u001b[0;32m-> 3415\u001b[0;31m             raise exceptions.UnexpectedStatusException(\n\u001b[0m\u001b[1;32m   3416\u001b[0m                 \u001b[0mmessage\u001b[0m\u001b[0;34m=\u001b[0m\u001b[0mmessage\u001b[0m\u001b[0;34m,\u001b[0m\u001b[0;34m\u001b[0m\u001b[0;34m\u001b[0m\u001b[0m\n\u001b[1;32m   3417\u001b[0m                 \u001b[0mallowed_statuses\u001b[0m\u001b[0;34m=\u001b[0m\u001b[0;34m[\u001b[0m\u001b[0;34m\"Completed\"\u001b[0m\u001b[0;34m,\u001b[0m \u001b[0;34m\"Stopped\"\u001b[0m\u001b[0;34m]\u001b[0m\u001b[0;34m,\u001b[0m\u001b[0;34m\u001b[0m\u001b[0;34m\u001b[0m\u001b[0m\n",
      "\u001b[0;31mUnexpectedStatusException\u001b[0m: Error for Training job sagemaker-scikit-learn-2022-10-27-13-00-33-321: Failed. Reason: AlgorithmError: framework error: \nTraceback (most recent call last):\n  File \"/miniconda3/lib/python3.8/site-packages/sagemaker_containers/_trainer.py\", line 84, in train\n    entrypoint()\n  File \"/miniconda3/lib/python3.8/site-packages/sagemaker_sklearn_container/training.py\", line 39, in main\n    train(environment.Environment())\n  File \"/miniconda3/lib/python3.8/site-packages/sagemaker_sklearn_container/training.py\", line 31, in train\n    entry_point.run(uri=training_environment.module_dir,\n  File \"/miniconda3/lib/python3.8/site-packages/sagemaker_training/entry_point.py\", line 99, in run\n    return runner.get(runner_type, user_entry_point, args, env_vars, extra_opts).run(\n  File \"/miniconda3/lib/python3.8/site-packages/sagemaker_training/process.py\", line 286, in run\n    process = check_error(\n  File \"/miniconda3/lib/python3.8/site-packages/sagemaker_training/process.py\", line 204, in check_error\n    raise error_class(\nsagemaker_training.errors.ExecuteUserScriptError: ExecuteUserScriptError:\nExitCode 1\nError"
     ]
    }
   ],
   "source": [
    "sklearn.fit({\"train\": preprocessed_training_data})\n",
    "training_job_description = sklearn.jobs[-1].describe()\n",
    "model_data_s3_uri = \"{}{}/{}\".format(\n",
    "    training_job_description[\"OutputDataConfig\"][\"S3OutputPath\"],\n",
    "    training_job_description[\"TrainingJobName\"],\n",
    "    \"output/model.tar.gz\",\n",
    ")"
   ]
  },
  {
   "cell_type": "markdown",
   "id": "7ad621b3-82e7-497d-9169-89448da77dd4",
   "metadata": {},
   "source": [
    "### (2) 참고자료(2): DeepAR"
   ]
  },
  {
   "cell_type": "code",
   "execution_count": null,
   "id": "a7afbab2-5e81-4f3d-9123-e1c1e7409927",
   "metadata": {},
   "outputs": [],
   "source": [
    "%%writefile train.py\n",
    "\n",
    "import argparse\n",
    "import os\n",
    "from pprint import pprint\n",
    "\n",
    "import yaml\n",
    "from autogluon.tabular import TabularDataset, TabularPredictor\n",
    "\n",
    "\n",
    "def get_input_path(path):\n",
    "    file = os.listdir(path)[0]\n",
    "    if len(os.listdir(path)) > 1:\n",
    "        print(f\"WARN: more than one file is found in {channel} directory\")\n",
    "    print(f\"Using {file}\")\n",
    "    filename = f\"{path}/{file}\"\n",
    "    return filename\n",
    "\n",
    "\n",
    "def get_env_if_present(name):\n",
    "    result = None\n",
    "    if name in os.environ:\n",
    "        result = os.environ[name]\n",
    "    return result\n",
    "\n",
    "\n",
    "if __name__ == \"__main__\":\n",
    "    # Disable Autotune\n",
    "    os.environ[\"MXNET_CUDNN_AUTOTUNE_DEFAULT\"] = \"0\"\n",
    "\n",
    "    # ------------------------------------------------------------ Arguments parsing\n",
    "    print(\"Starting AG\")\n",
    "    parser = argparse.ArgumentParser()\n",
    "\n",
    "    # Data, model, and output directories\n",
    "    parser.add_argument(\n",
    "        \"--output-data-dir\", type=str, default=get_env_if_present(\"SM_OUTPUT_DATA_DIR\")\n",
    "    )\n",
    "    parser.add_argument(\"--model-dir\", type=str, default=get_env_if_present(\"SM_MODEL_DIR\"))\n",
    "    parser.add_argument(\"--n_gpus\", type=str, default=get_env_if_present(\"SM_NUM_GPUS\"))\n",
    "    parser.add_argument(\"--training_dir\", type=str, default=get_env_if_present(\"SM_CHANNEL_TRAIN\"))\n",
    "    parser.add_argument(\n",
    "        \"--test_dir\", type=str, required=False, default=get_env_if_present(\"SM_CHANNEL_TEST\")\n",
    "    )\n",
    "    parser.add_argument(\"--ag_config\", type=str, default=get_env_if_present(\"SM_CHANNEL_CONFIG\"))\n",
    "\n",
    "    args, _ = parser.parse_known_args()\n",
    "\n",
    "    print(f\"Args: {args}\")\n",
    "\n",
    "    # See SageMaker-specific environment variables: https://sagemaker.readthedocs.io/en/stable/overview.html#prepare-a-training-script\n",
    "    os.makedirs(args.output_data_dir, mode=0o777, exist_ok=True)\n",
    "\n",
    "    config_file = get_input_path(args.ag_config)\n",
    "    with open(config_file) as f:\n",
    "        config = yaml.safe_load(f)  # AutoGluon-specific config\n",
    "\n",
    "    if args.n_gpus:\n",
    "        config[\"num_gpus\"] = int(args.n_gpus)\n",
    "\n",
    "    print(\"Running training job with the config:\")\n",
    "    pprint(config)\n",
    "\n",
    "    # ---------------------------------------------------------------- Training\n",
    "\n",
    "    train_file = get_input_path(args.training_dir)\n",
    "    train_data = TabularDataset(train_file)\n",
    "\n",
    "    ag_predictor_args = config[\"ag_predictor_args\"]\n",
    "    ag_predictor_args[\"path\"] = args.model_dir\n",
    "    ag_fit_args = config[\"ag_fit_args\"]\n",
    "\n",
    "    predictor = TabularPredictor(**ag_predictor_args).fit(train_data, **ag_fit_args)\n",
    "\n",
    "    # --------------------------------------------------------------- Inference\n",
    "\n",
    "    if args.test_dir:\n",
    "        test_file = get_input_path(args.test_dir)\n",
    "        test_data = TabularDataset(test_file)\n",
    "\n",
    "        # Predictions\n",
    "        y_pred_proba = predictor.predict_proba(test_data)\n",
    "        if config.get(\"output_prediction_format\", \"csv\") == \"parquet\":\n",
    "            y_pred_proba.to_parquet(f\"{args.output_data_dir}/predictions.parquet\")\n",
    "        else:\n",
    "            y_pred_proba.to_csv(f\"{args.output_data_dir}/predictions.csv\")\n",
    "\n",
    "        # Leaderboard\n",
    "        if config.get(\"leaderboard\", False):\n",
    "            lb = predictor.leaderboard(test_data, silent=False)\n",
    "            lb.to_csv(f\"{args.output_data_dir}/leaderboard.csv\")\n",
    "\n",
    "        # Feature importance\n",
    "        if config.get(\"feature_importance\", False):\n",
    "            feature_importance = predictor.feature_importance(test_data)\n",
    "            feature_importance.to_csv(f\"{args.output_data_dir}/feature_importance.csv\")\n",
    "    else:\n",
    "        if config.get(\"leaderboard\", False):\n",
    "            lb = predictor.leaderboard(silent=False)\n",
    "            lb.to_csv(f\"{args.output_data_dir}/leaderboard.csv\")"
   ]
  },
  {
   "cell_type": "code",
   "execution_count": 105,
   "id": "0feb322e-00b0-40a1-ab14-b5974f69b07e",
   "metadata": {},
   "outputs": [
    {
     "name": "stdout",
     "output_type": "stream",
     "text": [
      "Writing config-med.yaml\n"
     ]
    }
   ],
   "source": [
    "%%writefile config-med.yaml\n",
    "# AutoGluon Predictor constructor arguments\n",
    "# - see https://github.com/awslabs/autogluon/blob/ef3a5312dc2eaa0c6afde042d671860ac42cbafb/tabular/src/autogluon/tabular/predictor/predictor.py#L51-L159\n",
    "ag_predictor_args:\n",
    "    eval_metric: 'MAPE' #roc_auc\n",
    "    #target: 'y'\n",
    "    #prediction_length = 30\n",
    "    #path: \"model/autogluon-FCPOc3-t1-val01(20140702-20220812)\"\n",
    "    \n",
    "# AutoGluon Predictor.fit arguments\n",
    "# - see https://github.com/awslabs/autogluon/blob/ef3a5312dc2eaa0c6afde042d671860ac42cbafb/tabular/src/autogluon/tabular/predictor/predictor.py#L280-L651\n",
    "ag_fit_args:\n",
    "    presets: 'good_quality' #presets: \"medium_quality_faster_train\"\n",
    "    #num_bag_folds: 2\n",
    "    #num_bag_sets: 1\n",
    "    #num_stack_levels: 0\n",
    "\n",
    "output_prediction_format: csv  # predictions output format: csv or parquet\n",
    "feature_importance: true       # calculate and save feature importance if true\n",
    "leaderboard: true              # save leaderboard output if true"
   ]
  },
  {
   "cell_type": "code",
   "execution_count": 106,
   "id": "188d1c88-ec81-4ba8-9917-918333ad4c14",
   "metadata": {},
   "outputs": [
    {
     "ename": "ModuleNotFoundError",
     "evalue": "No module named 'ag_model'",
     "output_type": "error",
     "traceback": [
      "\u001b[0;31m---------------------------------------------------------------------------\u001b[0m",
      "\u001b[0;31mModuleNotFoundError\u001b[0m                       Traceback (most recent call last)",
      "\u001b[0;32m/tmp/ipykernel_9912/1954559346.py\u001b[0m in \u001b[0;36m<cell line: 1>\u001b[0;34m()\u001b[0m\n\u001b[0;32m----> 1\u001b[0;31m from ag_model import (\n\u001b[0m\u001b[1;32m      2\u001b[0m     \u001b[0mAutoGluonTraining\u001b[0m\u001b[0;34m,\u001b[0m\u001b[0;34m\u001b[0m\u001b[0;34m\u001b[0m\u001b[0m\n\u001b[1;32m      3\u001b[0m     \u001b[0mAutoGluonInferenceModel\u001b[0m\u001b[0;34m,\u001b[0m\u001b[0;34m\u001b[0m\u001b[0;34m\u001b[0m\u001b[0m\n\u001b[1;32m      4\u001b[0m     \u001b[0mAutoGluonTabularPredictor\u001b[0m\u001b[0;34m,\u001b[0m\u001b[0;34m\u001b[0m\u001b[0;34m\u001b[0m\u001b[0m\n\u001b[1;32m      5\u001b[0m )\n",
      "\u001b[0;31mModuleNotFoundError\u001b[0m: No module named 'ag_model'"
     ]
    }
   ],
   "source": [
    "from ag_model import (\n",
    "    AutoGluonTraining,\n",
    "    AutoGluonInferenceModel,\n",
    "    AutoGluonTabularPredictor,\n",
    ")"
   ]
  },
  {
   "cell_type": "code",
   "execution_count": 98,
   "id": "f22998d4-e017-4c7e-9b2b-a87eed8469ad",
   "metadata": {},
   "outputs": [
    {
     "name": "stdout",
     "output_type": "stream",
     "text": [
      "366743142698.dkr.ecr.ap-northeast-2.amazonaws.com/sagemaker-xgboost:1.2-1\n"
     ]
    }
   ],
   "source": [
    "import sagemaker\n",
    "\n",
    "# Helper wrappers referred earlier\n",
    "from ag_model import (\n",
    "    AutoGluonTraining,\n",
    "    AutoGluonInferenceModel,\n",
    "    AutoGluonTabularPredictor,\n",
    ")\n",
    "from sagemaker import utils\n",
    "\n",
    "role = sagemaker.get_execution_role()\n",
    "sagemaker_session = sagemaker.session.Session()\n",
    "region = sagemaker_session._region_name\n",
    "\n",
    "bucket = sagemaker_session.default_bucket()\n",
    "s3_prefix = f\"autogluon_sm/{utils.sagemaker_timestamp()}\"\n",
    "output_path = f\"s3://{bucket}/{s3_prefix}/output/\""
   ]
  },
  {
   "cell_type": "code",
   "execution_count": null,
   "id": "fd898cab-0bc9-4401-8aae-d2a4a3325159",
   "metadata": {},
   "outputs": [],
   "source": [
    "ag = AutoGluonTraining(\n",
    "    role=role,\n",
    "    entry_point=\"scripts/tabular_train.py\",\n",
    "    region=region,\n",
    "    instance_count=1,\n",
    "    instance_type=\"ml.m5.2xlarge\",\n",
    "    framework_version=\"0.4\",\n",
    "    py_version=\"py38\",\n",
    "    base_job_name=\"autogluon-tabular-train\",\n",
    ")"
   ]
  },
  {
   "cell_type": "code",
   "execution_count": null,
   "id": "0e83bbca-a0ba-49c5-9e41-5bd5c2e79323",
   "metadata": {},
   "outputs": [],
   "source": [
    "s3_prefix = f\"autogluon_sm/{utils.sagemaker_timestamp()}\"\n",
    "train_input = ag.sagemaker_session.upload_data(\n",
    "    path=os.path.join(\"data\", \"train.csv\"), key_prefix=s3_prefix\n",
    ")\n",
    "eval_input = ag.sagemaker_session.upload_data(\n",
    "    path=os.path.join(\"data\", \"test.csv\"), key_prefix=s3_prefix\n",
    ")\n",
    "config_input = ag.sagemaker_session.upload_data(\n",
    "    path=os.path.join(\"config\", \"config-med.yaml\"), key_prefix=s3_prefix\n",
    ")\n",
    "\n",
    "job_name = utils.unique_name_from_base(\"test-autogluon-image\")\n",
    "ag.fit(\n",
    "    {\"config\": config_input, \"train\": train_input, \"test\": eval_input},\n",
    "    job_name=job_name,\n",
    ")"
   ]
  },
  {
   "cell_type": "code",
   "execution_count": null,
   "id": "eda72f89-0ea5-455c-a857-aea16569dee2",
   "metadata": {},
   "outputs": [],
   "source": []
  },
  {
   "cell_type": "code",
   "execution_count": null,
   "id": "1d11b51b-5804-4857-859c-aeabeeb7698f",
   "metadata": {},
   "outputs": [],
   "source": []
  },
  {
   "cell_type": "markdown",
   "id": "6a27514d-ef22-46e7-9306-92df44088f0c",
   "metadata": {},
   "source": [
    "---"
   ]
  },
  {
   "cell_type": "code",
   "execution_count": null,
   "id": "0785f5e4-2be5-4223-b194-67424ba9b7d6",
   "metadata": {},
   "outputs": [],
   "source": [
    "boto_sesssion = boto3.Session(ACCESS_KEY_ID,\n",
    "                              ACCESS_SECRET_KEY)\n",
    "# region = re.region_name\n",
    "\n",
    "session = sagemaker.Session(boto_session = boto_session)\n",
    "s3_session = boto_sesssion.resource('s3')\n",
    "bucket = s3_session.Bucket(BUCKET_NAME_USECASE)\n",
    "    # S3_PATH_STAGE = keychain['S3_PATH_STAGE']\n",
    "    # S3_PATH_GOLDEN = keychain['S3_PATH_GOLDEN']\n",
    "    # S3_PATH_TRAIN = keychain['S3_PATH_TRAIN']\n",
    "    # S3_PATH_log = keychain['S3_PATH_LOG']\n",
    "bucket = s3_resource.Bucket(bucket_name)\n",
    "timestamp_suffix = strftime('%Y-%m-%d-%H-%M-%S', gmtime())\n",
    "\n",
    "prefix = 'sagemaker/link-prediction-developer-guide-' + timestamp_suffix\n",
    "\n",
    "role = os.environ[\"SAGEMAKER_ROLE\"]\n",
    "\n",
    "sm = boto_session.client(service_name='sagemaker',region_name=region)"
   ]
  },
  {
   "cell_type": "code",
   "execution_count": 221,
   "id": "898d7135-391c-41f0-bcb8-ed2d08e0141e",
   "metadata": {},
   "outputs": [
    {
     "ename": "TypeError",
     "evalue": "makedirs() got an unexpected keyword argument 'existok'",
     "output_type": "error",
     "traceback": [
      "\u001b[0;31m---------------------------------------------------------------------------\u001b[0m",
      "\u001b[0;31mTypeError\u001b[0m                                 Traceback (most recent call last)",
      "\u001b[0;32m/tmp/ipykernel_9259/852392905.py\u001b[0m in \u001b[0;36m<cell line: 9>\u001b[0;34m()\u001b[0m\n\u001b[1;32m      7\u001b[0m \u001b[0;34m\u001b[0m\u001b[0m\n\u001b[1;32m      8\u001b[0m \u001b[0mdata_dir\u001b[0m \u001b[0;34m=\u001b[0m \u001b[0mos\u001b[0m\u001b[0;34m.\u001b[0m\u001b[0mpath\u001b[0m\u001b[0;34m.\u001b[0m\u001b[0mjoin\u001b[0m\u001b[0;34m(\u001b[0m\u001b[0mos\u001b[0m\u001b[0;34m.\u001b[0m\u001b[0mgetcwd\u001b[0m\u001b[0;34m(\u001b[0m\u001b[0;34m)\u001b[0m\u001b[0;34m,\u001b[0m \u001b[0;34m'data'\u001b[0m\u001b[0;34m)\u001b[0m\u001b[0;34m\u001b[0m\u001b[0;34m\u001b[0m\u001b[0m\n\u001b[0;32m----> 9\u001b[0;31m \u001b[0mos\u001b[0m\u001b[0;34m.\u001b[0m\u001b[0mmakedirs\u001b[0m\u001b[0;34m(\u001b[0m\u001b[0mdata_dir\u001b[0m\u001b[0;34m,\u001b[0m \u001b[0mexistok\u001b[0m\u001b[0;34m=\u001b[0m\u001b[0;32mTrue\u001b[0m\u001b[0;34m)\u001b[0m\u001b[0;34m\u001b[0m\u001b[0;34m\u001b[0m\u001b[0m\n\u001b[0m\u001b[1;32m     10\u001b[0m \u001b[0;34m\u001b[0m\u001b[0m\n\u001b[1;32m     11\u001b[0m \u001b[0mtrain_dir\u001b[0m \u001b[0;34m=\u001b[0m \u001b[0mos\u001b[0m\u001b[0;34m.\u001b[0m\u001b[0mpath\u001b[0m\u001b[0;34m.\u001b[0m\u001b[0mjoin\u001b[0m\u001b[0;34m(\u001b[0m\u001b[0mos\u001b[0m\u001b[0;34m.\u001b[0m\u001b[0mgetcwd\u001b[0m\u001b[0;34m(\u001b[0m\u001b[0;34m)\u001b[0m\u001b[0;34m,\u001b[0m \u001b[0;34m'data/train'\u001b[0m\u001b[0;34m)\u001b[0m\u001b[0;34m\u001b[0m\u001b[0;34m\u001b[0m\u001b[0m\n",
      "\u001b[0;31mTypeError\u001b[0m: makedirs() got an unexpected keyword argument 'existok'"
     ]
    }
   ],
   "source": [
    "import os\n",
    "import sagemaker\n",
    "import tensorflow as tf\n",
    "\n",
    "sess = sagemaker.Session()\n",
    "bucket = sess.default_bucket() \n",
    "\n",
    "data_dir = os.path.join(os.getcwd(), 'data')\n",
    "os.makedirs(data_dir, existok=True)\n",
    "\n",
    "raw_dir = os.path.join(os.getcwd(), 'data/raw')\n",
    "os.makedirs(raw_dir, exist_ok=True)"
   ]
  },
  {
   "cell_type": "markdown",
   "id": "88ca76ec-024d-4451-93a2-201d170799b3",
   "metadata": {},
   "source": [
    "1. SageMaker Processing을 이용한 데이터 전처리(정제)\n",
    "**워크플로우**\n",
    "   1. 필요한 데이터셋 불러오기\n",
    "   2. np.save()로 배열을 NumPy format의 바이너리 파일로 저장하기 (Save a single array to a binary file in NumPy format)\n",
    "   3. S3에 업로드\n",
    "   4. SageMaker Processing을 이용한 데이터 전처리   \n",
    "   5. 학습과 테스트를 위해 레이블 생성 & 저장.\n",
    "   \n",
    "**SageMaker Processing?**\n",
    "- SageMaker 노트북 서버와 분리된 독립적 환경에서 테라바이트 수준의 데이터를 변환처리 가능.   \n",
    "- 일반적으로 Prototyping 작업에 사용되는 노트북은 SageMaker 일반 사양에서 실행하며 전처리, 학습, 모델 호스팅과 같은 작업은 강력한 사양의 인스턴스에서 실행.    \n",
    "- SageMaker Processing은 Scikit-learn이 기본 탑재되어 있으며 **Bring Your Own Container** 옵션으로 다양한 데이터 정제 작업을 별도 독립된 환경에서 실행 가능"
   ]
  },
  {
   "cell_type": "code",
   "execution_count": null,
   "id": "1006556e-afd9-4e63-b6b2-829f98dbed59",
   "metadata": {},
   "outputs": [],
   "source": [
    "import numpy as np\n",
    "from tensorflow.python.keras.datasets import boston_housing\n",
    "from sklearn.preprocessing import StandardScaler\n",
    "import glob\n",
    "\n",
    "(x_train, y_train), (x_test, y_test) = boston_housing.load_data()\n",
    "\n",
    "np.save(os.path.join(raw_dir, 'x_train.npy'), x_train)\n",
    "np.save(os.path.join(raw_dir, 'x_test.npy'), x_test)\n",
    "np.save(os.path.join(train_dir, 'y_train.npy'), y_train)\n",
    "np.save(os.path.join(test_dir, 'y_test.npy'), y_test)\n",
    "\n",
    "s3_prefix = 'tf-2-workflow'\n",
    "rawdata_s3_prefix = '{}/data/raw'.format(s3_prefix)\n",
    "raw_s3 = sess.upload_data(path='./data/raw/', key_prefix=rawdata_s3_prefix)\n",
    "print(raw_s3)"
   ]
  },
  {
   "cell_type": "code",
   "execution_count": null,
   "id": "f016712b-ec3e-44db-b87a-03130747eb41",
   "metadata": {},
   "outputs": [],
   "source": [
    "import os\n",
    "os.listdir('{}'.format('./data/raw'))"
   ]
  },
  {
   "cell_type": "code",
   "execution_count": null,
   "id": "88041e53-a00a-4022-90b9-32f57e25c7b9",
   "metadata": {},
   "outputs": [],
   "source": [
    "glob.glob('{}/*.npy'.format('./data/raw'))"
   ]
  },
  {
   "cell_type": "code",
   "execution_count": null,
   "id": "50c16bb9-2d62-48c0-b3ad-119d46de9957",
   "metadata": {},
   "outputs": [],
   "source": [
    "%%writefile preprocessing.py\n",
    "\n",
    "import glob\n",
    "import numpy as np\n",
    "import os\n",
    "from sklearn.preprocessing import StandardScaler\n",
    "\n",
    "if __name__=='__main__':\n",
    "    input_files = glob.glob('{}/*.npy'.format('/opt/ml/processing/input')) # 입력파일 로드 경로 지정\n",
    "    print('\\nINPUT FILE LIST: \\n{}\\n'.format(input_files))\n",
    "    scaler = StandardScaler()\n",
    "    for file in input_files:\n",
    "        raw = np.load(file)\n",
    "        transformed = scaler.fit_transform(raw)\n",
    "        if 'train' in file:\n",
    "            output_path = os.path.join('/opt/ml/processing/train', 'x_train.npy') # 출력파일 저장될 경로 지정\n",
    "            np.save(output_path, transformed)\n",
    "            print('SAVED TRANSFORMED TRAINING DATA FILE\\n')\n",
    "        else: \n",
    "            output_path = os.path.join('/opt/ml/processing/test', 'x_test.npy') # 출력파일 저장될 경로 지정\n",
    "            np.save(output_path, transformed)\n",
    "            print('SAVED TRANSFORMED TEST DATA FILE\\n')"
   ]
  },
  {
   "cell_type": "markdown",
   "id": "e79b6106-1dff-4860-a8f4-6e7a714ef887",
   "metadata": {},
   "source": [
    "SKLearnProcessor 오브젝트(for SageMaker Processing 작업)  \n",
    "- 오브젝트 생성시 사용할 인스턴스 타입과 몇개의 인스턴스를 사용할 지 정의할 수 있다. \n",
    "- 보스턴 집값 데이터셋은 매우 작은 데이터이지만 SageMaker Processing의 클러스터링 작업이 어떻게 실행하는지 보기 위해 두 개의 인스턴스를 사용."
   ]
  },
  {
   "cell_type": "code",
   "execution_count": null,
   "id": "421d27ad-1143-4be1-a82c-3f241f1bbc22",
   "metadata": {},
   "outputs": [],
   "source": [
    "from sagemaker import get_execution_role\n",
    "from sagemaker.sklearn.processing import SKLearnProcessor\n",
    "\n",
    "processing_tags = [{'Key': 'cost-center',\n",
    "                    'Value': 'TF2WorkflowProcessing'}]\n",
    "\n",
    "sklearn_processor1 = SKLearnProcessor(framework_version='0.23-1',\n",
    "                                     role=get_execution_role(),\n",
    "                                     instance_type='ml.m5.xlarge',\n",
    "                                     instance_count=2,\n",
    "                                     tags=processing_tags)"
   ]
  },
  {
   "cell_type": "markdown",
   "id": "7dd2e65f-4f27-4cfe-b074-49dbebee1cb9",
   "metadata": {},
   "source": [
    "- 이제 데이터 파일을 인스턴스에 동일하게 분산하기 위해\n",
    "- ProcessingInput 오브젝트에 SharedByS3Key 분산타입을 지정. \n",
    "- 이때, 만약 n개의 인스턴스를 선언했다면 각 인스턴스는 1/n 파일을 S3로부터 받게 될 것. \n",
    "- 실행에는 3분 정도 소요되며 대부분 Cluster를 구성하는 시간이 차지함. \n",
    "- 작업종료시 Cluster는 SageMaker에 의해 자동으로 삭제될 예정"
   ]
  },
  {
   "cell_type": "code",
   "execution_count": null,
   "id": "38956acc-1b92-41c2-b75d-f3298f6ece4d",
   "metadata": {},
   "outputs": [],
   "source": [
    "'{}/train'.format(output_destination)"
   ]
  },
  {
   "cell_type": "code",
   "execution_count": null,
   "id": "6ccde741-5af0-422f-94c2-83c1b83b2e6a",
   "metadata": {},
   "outputs": [],
   "source": [
    "from sagemaker.processing import ProcessingInput, ProcessingOutput\n",
    "from time import gmtime, strftime \n",
    "\n",
    "processing_job_name = \"tf-2-workflow-{}\".format(strftime(\"%d-%H-%M-%S\", gmtime()))\n",
    "\n",
    "output_destination = 's3://{}/{}/data'.format(bucket, s3_prefix)\n",
    "\n",
    "sklearn_processor.run(code='preprocessing.py',\n",
    "                      job_name=processing_job_name,\n",
    "                      inputs=[ProcessingInput(\n",
    "                        source=raw_s3,\n",
    "                        destination='/opt/ml/processing/input',\n",
    "                        s3_data_distribution_type='ShardedByS3Key')],\n",
    "                      outputs=[ProcessingOutput(output_name='train',\n",
    "                                                destination='{}/train'.format(output_destination),\n",
    "                                                source='/opt/ml/processing/train'),\n",
    "                               ProcessingOutput(output_name='test',\n",
    "                                                destination='{}/test'.format(output_destination),\n",
    "                                                source='/opt/ml/processing/test')])\n",
    "\n",
    "preprocessing_job_description = sklearn_processor.jobs[-1].describe()"
   ]
  },
  {
   "cell_type": "markdown",
   "id": "397a13d6-c341-44ba-896f-381e715dd441",
   "metadata": {},
   "source": [
    "SageMaker Processing 작업의 출력 로그 \n",
    "- 두가지 색상으로 각 인스턴스의 로그를 볼 수 있다.\n",
    "- 각 인스턴스가 서로 다른 파일을 받은 것을 확인할 수 있다.\n",
    "- 만약 ShardedByS3Key 분산타입을 사용하지 않았다면 각 인스턴스는 복사본을 받음. \n",
    "- 대부분의 stateless 데이터 전처리(정제)에서는 n개의 인스턴스에 동일하게 파일을 분산함으로써 대략 n만큼 작업속도를 향상시킬 수 있다.\n",
    " \n",
    "본 작업결과를 로컬에 저장 후, 다음으로 Prototype 훈련과 추론을 작성하자."
   ]
  },
  {
   "cell_type": "code",
   "execution_count": null,
   "id": "667a7211-20d6-4548-831b-7b1e8e4f2284",
   "metadata": {},
   "outputs": [],
   "source": [
    "train_in_s3 = '{}/train/x_train.npy'.format(output_destination)\n",
    "test_in_s3 = '{}/test/x_test.npy'.format(output_destination)\n",
    "!aws s3 cp {train_in_s3} ./data/train/x_train.npy\n",
    "!aws s3 cp {test_in_s3} ./data/test/x_test.npy"
   ]
  },
  {
   "cell_type": "markdown",
   "id": "5c863666-efd8-43ea-ae06-53b582028d51",
   "metadata": {},
   "source": [
    "## 2. SageMaker local 모드를 이용한 학습과 추론(Training & Inference)\n",
    "**SageMaker에서 로컬 모드**\n",
    "- 작성한 코드를 강력한 Cluster에서 실행하기 전, 코드가 기대한 방식으로 동작하는지 로컬에서 확인할 수 있는지 확인하는 방식. \n",
    "- 로컬모드 학습을 위해서는 docker-compose 또는 nvidia-docker-compose (GPU 인스턴스인 경우)의 설치가 필요. \n",
    "- 다음 셀은 docker-compose 또는 nvidia-docker-compose를 설치&구성"
   ]
  },
  {
   "cell_type": "code",
   "execution_count": null,
   "id": "fda64193-cc87-4879-8324-499b491e8803",
   "metadata": {},
   "outputs": [],
   "source": [
    "!wget -q https://raw.githubusercontent.com/aws-samples/amazon-sagemaker-script-mode/master/local_mode_setup.sh\n",
    "!wget -q https://raw.githubusercontent.com/aws-samples/amazon-sagemaker-script-mode/master/daemon.json    "
   ]
  },
  {
   "cell_type": "code",
   "execution_count": null,
   "id": "5ff07882-0a00-4bf3-8523-03f3bb26375c",
   "metadata": {},
   "outputs": [],
   "source": [
    "!/bin/bash ./local_mode_setup.sh"
   ]
  },
  {
   "cell_type": "markdown",
   "id": "cc2dcc8f-36cc-4f0c-b4d7-3b339527f6aa",
   "metadata": {},
   "source": [
    "**Tensorflow Estimator 구성**\n",
    "- 로컬모드 학습을 위한 Estimator를 구성하는 주요 파라미터\n",
    "    - `train_instance_type`: 학습이 실행될 하드웨어 종류. CPU환경에서 로컬모드는 단순히 local 로 지정함. GPU가 필요한 경우엔 local_gpu로 지정.\n",
    "    - `git_config`: Estimator가 코드를 Git Repository에서 가져오게 함.\n",
    "    - `Other parameters of note`: Dictionary 형식으로 알고리즘의 하이퍼파라메터 지정 & Boolean 형식으로 Script Mode를 이용할 것인지 지정.\n",
    "\n",
    "여기서 우리는 주로 코드가 잘 동작하는지 확인하기 위해 로컬모드를 사용한다는 점을 기억하십시오. 우리는 불필요한 학습시간을 절약하기 위해, 전체 학습을 위한 큰 epoch 대신, 코드가 적절히 동작하는지 확인할 수 있는 정도의 작은 epoch으로 학습을 실행할 것입니다."
   ]
  },
  {
   "cell_type": "code",
   "execution_count": null,
   "id": "a8183717-73b4-4eb8-b7b8-b01c9374ac22",
   "metadata": {},
   "outputs": [],
   "source": [
    "%%writefile train.py\n",
    "\n",
    "import argparse\n",
    "import numpy as np\n",
    "import os\n",
    "import tensorflow as tf\n",
    "\n",
    "from model_def import get_model\n",
    "\n",
    "os.environ['TF_CPP_MIN_LOG_LEVEL'] = '3' \n",
    "\n",
    "\n",
    "def parse_args():\n",
    "\n",
    "    parser = argparse.ArgumentParser()\n",
    "\n",
    "    # 사용자가 전달한 하이퍼 파라미터를 command-line argument로 전달받아 사용함\n",
    "    parser.add_argument('--epochs', type=int, default=1)\n",
    "    parser.add_argument('--batch_size', type=int, default=64)\n",
    "    parser.add_argument('--learning_rate', type=float, default=0.1)\n",
    "\n",
    "    # data directories\n",
    "    parser.add_argument('--train', type=str, default=os.environ.get('SM_CHANNEL_TRAIN'))\n",
    "    parser.add_argument('--test', type=str, default=os.environ.get('SM_CHANNEL_TEST'))\n",
    "\n",
    "    # model directory: we will use the default set by SageMaker, /opt/ml/model\n",
    "    parser.add_argument('--model_dir', type=str, default=os.environ.get('SM_MODEL_DIR'))\n",
    "\n",
    "    return parser.parse_known_args()\n",
    "\n",
    "\n",
    "def get_train_data(train_dir):\n",
    "\n",
    "    x_train = np.load(os.path.join(train_dir, 'x_train.npy'))\n",
    "    y_train = np.load(os.path.join(train_dir, 'y_train.npy'))\n",
    "    print('x train', x_train.shape,'y train', y_train.shape)\n",
    "\n",
    "    return x_train, y_train\n",
    "\n",
    "\n",
    "def get_test_data(test_dir):\n",
    "\n",
    "    x_test = np.load(os.path.join(test_dir, 'x_test.npy'))\n",
    "    y_test = np.load(os.path.join(test_dir, 'y_test.npy'))\n",
    "    print('x test', x_test.shape,'y test', y_test.shape)\n",
    "\n",
    "    return x_test, y_test\n",
    "\n",
    "\n",
    "if __name__ == \"__main__\":\n",
    "\n",
    "    # 환경변수 또는 사용자 지정 hyperparameter로 전달된 argument를 읽는다.\n",
    "    args, _ = parse_args()\n",
    "\n",
    "    # training data를 가져온다. 위 코드에서 읽은 argument 중 'train'으로 전달된 값을 사용함. \n",
    "    # parse_args()를 통해 환경변수 'SM_CHANNEL_TRAIN'로 전달된 경로 'opt/ml/input/train/'가 'arg.train'으로 지정됨\n",
    "    x_train, y_train = get_train_data(args.train)\n",
    "    x_test, y_test = get_test_data(args.test)\n",
    "\n",
    "    device = '/cpu:0' \n",
    "    print(device)\n",
    "    batch_size = args.batch_size\n",
    "    epochs = args.epochs\n",
    "    learning_rate = args.learning_rate\n",
    "    print('batch_size = {}, epochs = {}, learning rate = {}'.format(batch_size, epochs, learning_rate))\n",
    "\n",
    "    with tf.device(device):\n",
    "\n",
    "        model = get_model()\n",
    "        optimizer = tf.keras.optimizers.SGD(learning_rate)\n",
    "        model.compile(optimizer=optimizer, loss='mse')    \n",
    "        model.fit(x_train, y_train, batch_size=batch_size, epochs=epochs,\n",
    "                  validation_data=(x_test, y_test))\n",
    "\n",
    "        # evaluate on test set\n",
    "        scores = model.evaluate(x_test, y_test, batch_size, verbose=2)\n",
    "        print(\"\\nTest MSE :\", scores)\n",
    "\n",
    "        # 결과모델 저장 - 'args.model_dir'에는 'SM_MODEL_DIR' 환경변수를 통해 지정된 '/opt/ml/model/' 경로가 지정된다.\n",
    "        model.save(args.model_dir + '/1')"
   ]
  },
  {
   "cell_type": "code",
   "execution_count": null,
   "id": "6928e45c-5651-4615-89f2-6c7515c1d38c",
   "metadata": {},
   "outputs": [],
   "source": [
    "!pygmentize train.py"
   ]
  },
  {
   "cell_type": "code",
   "execution_count": null,
   "id": "ac0af16f-9722-4689-999e-5de8448b2fea",
   "metadata": {},
   "outputs": [],
   "source": [
    "from sagemaker.tensorflow import TensorFlow\n",
    "\n",
    "git_config = {'repo': 'https://github.com/aws-samples/amazon-sagemaker-script-mode', \n",
    "              'branch': 'master'}\n",
    "\n",
    "train_instance_type = 'local'\n",
    "hyperparameters = {'epochs': 5, 'batch_size': 128, 'learning_rate': 0.01}\n",
    "local_estimator = TensorFlow(git_config=git_config,\n",
    "                             source_dir='tf-2-workflow-smpipelines/train_model',\n",
    "                             entry_point='train.py',\n",
    "                             instance_type=train_instance_type,\n",
    "                             instance_count=1,\n",
    "                             hyperparameters=hyperparameters,\n",
    "                             role=sagemaker.get_execution_role(),\n",
    "                             base_job_name='tf-2-workflow',\n",
    "                             framework_version='2.3.1',\n",
    "                             py_version='py37',\n",
    "                             script_mode=True)"
   ]
  },
  {
   "cell_type": "code",
   "execution_count": null,
   "id": "09a41a87-7f48-4d91-a81f-d1c51954184d",
   "metadata": {},
   "outputs": [],
   "source": [
    "inputs = {'train': f'file://{train_dir}',\n",
    "          'test': f'file://{test_dir}'}\n",
    "\n",
    "local_estimator.fit(inputs)"
   ]
  },
  {
   "cell_type": "markdown",
   "id": "dbb30b18-7519-4d27-80e0-4d8f39682a83",
   "metadata": {},
   "source": [
    "## 3. SageMaker hosted training을 이용한 학습과 추론\n",
    "프로젝트의 프로토타이핑 단계가 완료되면 SageMaker hosted training 기능이 학습 작업, 특히 대규모 분산 교육에 선호됩니다.    \n",
    "노트북 환경이나 SageMaker local 모드에서의 training과는 달리 hosted training에서는 실제 학습 자체가 노트북 환경이 아니라    \n",
    "SageMaker에서 관리하는 더 강력한 시스템의 별도 클러스터에서 이루어진다.    \n",
    "호스트 교육 시작 전 데이터가 S3 또는 Amazon EFS 또는 Amazon FSX for Lustre 파일 시스템에 있어야 합니다.   \n",
    "지금 S3에 업로드하고 업로드가 성공했는지 확인합니다.   "
   ]
  },
  {
   "cell_type": "code",
   "execution_count": null,
   "id": "1e62a6b2-9464-4ba8-b372-2909f2cc7ba8",
   "metadata": {},
   "outputs": [],
   "source": [
    "s3_prefix = 'tf-2-workflow'\n",
    "\n",
    "traindata_s3_prefix = '{}/data/train'.format(s3_prefix)\n",
    "testdata_s3_prefix = '{}/data/test'.format(s3_prefix)"
   ]
  },
  {
   "cell_type": "code",
   "execution_count": null,
   "id": "8642d6a5-ae10-4536-8611-1f17d1975e03",
   "metadata": {},
   "outputs": [],
   "source": [
    "train_s3 = sess.upload_data(path='./data/train/', key_prefix=traindata_s3_prefix)\n",
    "test_s3 = sess.upload_data(path='./data/test/', key_prefix=testdata_s3_prefix)\n",
    "\n",
    "inputs = {'train':train_s3, 'test': test_s3}\n",
    "\n",
    "print(inputs)"
   ]
  },
  {
   "cell_type": "markdown",
   "id": "330e5170-403d-403e-9407-8d116c6cbccf",
   "metadata": {},
   "source": [
    "### 환경설정\n",
    "- train_instance_type: SageMaker ML 인스턴스 유형(이 경우 c5 컴퓨팅 최적화 인스턴스 유형)으로 설정되었다는 점을 제외하면 SageMaker Local Mode Estimator와 유사합니다.\n",
    "\n",
    "- Git configuration : Git 저장소에서 training 스크립트를 Pull해서 다양한 팀 구성원의 컴퓨터에 서로 다른 스크립트를 분산시키는 대신 팀이 동일한 소스 제어 코드를 공유하도록 합니다.\n",
    "\n",
    "- Training metrics : Training 작업 진행상황을 확인할 수 있습니다. 코드와 컨테이너로 기록된 모든 Metric은 regular expression 을 사용하여 지정할 수 있습니다. Metric은 결과리뷰에 활용 할 수 있는 Amazon CloudWatch 모니터링 서비스로 전송됩니다.\n",
    "\n",
    "- Tags: 비용 할당 및 기타 목적을 위해 SageMaker Training job, SageMaker Processing job 및 SageMaker Endpoint(아래 참조) 혹은 기타 리소스로 표기할 수 있습니다.\n",
    "\n",
    "- Hyperparameters: 위 프로토타이핑 단계에서 사용된 것보다 긴 에폭 수를 전달합니다. 프로토타이핑이 완료된 후 시작된 hosted Training의 경우 Model training이 코드와 연관된 오류 없이 진행되어 개선되고 낮은 lower validation loss로 수렴될 것으로 예상하여 모델을 더 많은 기간 동안 교육할 수 있습니다."
   ]
  },
  {
   "cell_type": "code",
   "execution_count": null,
   "id": "8947ffa9-2f72-451b-b9ab-1296c2458cf3",
   "metadata": {},
   "outputs": [],
   "source": [
    "git_config = {'repo': 'https://github.com/aws-samples/amazon-sagemaker-script-mode', \n",
    "              'branch': 'master'}\n"
   ]
  },
  {
   "cell_type": "code",
   "execution_count": null,
   "id": "e7bf7f38-a248-4b90-b5ad-e42b9aca9766",
   "metadata": {},
   "outputs": [],
   "source": [
    "\n",
    "from sagemaker.tensorflow import TensorFlow\n",
    "\n",
    "train_instance_type = 'ml.c5.xlarge'\n",
    "git_config = {'repo': 'https://github.com/aws-samples/amazon-sagemaker-script-mode', \n",
    "              'branch': 'master'}\n",
    "training_metrics = [\n",
    "   {\n",
    "        \"Name\": \"training:loss\",\n",
    "        \"Regex\": \".*step - loss: ([0-9\\\\.]+) - val_loss: [0-9\\\\.]+ - batch: [0-9\\\\.]+.*\",\n",
    "    },\n",
    "    {\n",
    "        \"Name\": \"validation:loss\",\n",
    "        \"Regex\": \".*step - loss: [0-9\\\\.]+ - val_loss: ([0-9\\\\.]+) - batch: [0-9\\\\.]+.*\",\n",
    "    }\n",
    "]\n",
    "training_tags = [{'Key': 'cost-center', 'Value': 'TF2WorkflowTraining'}]\n",
    "hyperparameters = {'epochs': 30, 'batch_size': 128, 'learning_rate': 0.01}\n",
    "\n",
    "hosted_estimator = TensorFlow(\n",
    "                       git_config = git_config,\n",
    "                       metric_definitions = training_metrics,\n",
    "                       tags = training_tags,\n",
    "                       source_dir = 'tf-2-workflow-smpipelines/train_model',\n",
    "                       entry_point = 'train.py',\n",
    "                       instance_type = train_instance_type,\n",
    "                       instance_count = 1,\n",
    "                       hyperparameters = hyperparameters,\n",
    "                       role=sagemaker.get_execution_role(),\n",
    "                       base_job_name = 'tf-2-workflow',\n",
    "                       framework_version = '2.3.1',\n",
    "                       py_version = 'py37',\n",
    "                       script_mode = True)"
   ]
  },
  {
   "cell_type": "code",
   "execution_count": null,
   "id": "5886f1e7-eb8c-4828-8e28-0db872a5f945",
   "metadata": {},
   "outputs": [],
   "source": [
    "hosted_estimator.fit(inputs)"
   ]
  },
  {
   "cell_type": "code",
   "execution_count": null,
   "id": "d6e412c3-6f26-447c-bbaa-adba163a5d4d",
   "metadata": {},
   "outputs": [],
   "source": [
    "!aws s3 cp {hosted_estimator.model_data} ./model/model.tar.gz"
   ]
  },
  {
   "cell_type": "code",
   "execution_count": null,
   "id": "14dc6cd4-6fda-44c2-bc2c-4ba4dd3ae213",
   "metadata": {},
   "outputs": [],
   "source": [
    "!tar -xvzf ./model/model.tar.gz -C ./model"
   ]
  },
  {
   "cell_type": "markdown",
   "id": "a6dd4047-cdb7-41f4-bd5f-b2403fb3fb81",
   "metadata": {},
   "source": [
    "## 4. 모델 하이퍼파라미터 튜닝(SageMaker Automatic Model Tuning)\n",
    "이제 더 나은 모델을 만들기 위해 하이퍼 파라미터를 조정해보자. \n",
    "- 문제점: 모델을 훈련시키는데 직관적으로 최적의 하이퍼 파라미터 값을 선택하는 것은 어려울 수 있으며, 일반적으로 수동으로 수행할 경우 시간이 매우 많이 소요된다. \n",
    "- 해결책: SageMaker Automatic Model Tuning은 하이퍼파라미터 조정 프로세스 자동화\n",
    "- 워크플로우:\n",
    "  - 튜닝하고자 하는 하이퍼 파라미터 지정 \n",
    "  - 각 파라미터를 튜닝할 값의 범위 지정 \n",
    "  - 최적화할 목표 메트릭을 지정(RMSE, MAPE 등) \n",
    "\n",
    "### 하이퍼파라미터 튜닝?\n",
    "- 최적의 하이퍼 파라미터 조합은 데이터와 알고리즘에 따라 달라짐. \n",
    "- 몇몇 알고리즘에는 조정 가능한 하이퍼 파라미터가 많이 있으며 그 중 몇개는 하이퍼 파라미터 값에 매우 민감함. \n",
    "- 대부분은 모델 fit과 하이퍼 파라미터 값이 비선형 관계다. \n",
    "- SageMaker Automatic Model Tuning은 하이퍼파라미터 조정 프로세스를 자동화하는 데 도움 줌. \n",
    "- 최상의 모델 성능을 가진 세트를 찾기 위해 서로 다른 하이퍼파라미터 조합으로 여러 교육 작업을 실행합니다.\n",
    "\n"
   ]
  },
  {
   "cell_type": "code",
   "execution_count": null,
   "id": "3ee937fd-1ef1-421d-8b24-411a15db92ae",
   "metadata": {},
   "outputs": [],
   "source": [
    "from sagemaker.tuner import IntegerParameter, CategoricalParameter, ContinuousParameter, HyperparameterTuner\n",
    "\n",
    "hyperparameter_ranges = {\n",
    "  'learning_rate': ContinuousParameter(0.001, 0.2, scaling_type=\"Logarithmic\"),\n",
    "  'epochs': IntegerParameter(10, 50),\n",
    "  'batch_size': IntegerParameter(64, 256),\n",
    "}\n",
    "\n",
    "metric_definitions = [{'Name': 'loss',\n",
    "                       'Regex': ' loss: ([0-9\\\\.]+)'},\n",
    "                     {'Name': 'val_loss',\n",
    "                       'Regex': ' val_loss: ([0-9\\\\.]+)'}]\n",
    "\n",
    "objective_metric_name = 'val_loss'\n",
    "objective_type = 'Minimize'\n",
    "\n",
    "tuning_tags = [{'Key': 'cost-center', 'Value': 'TF2WorkflowTuning'}]"
   ]
  },
  {
   "cell_type": "markdown",
   "id": "61506bcf-f382-489e-8c2a-389cfd7d4761",
   "metadata": {},
   "source": [
    "하이퍼 파라미터를 `HyperparameterTuner`로 지정합니다.\n",
    "- 튜닝 작업은 많은 training job이 실행된 후에 완료됩니다.\n",
    "- 병렬 처리를 사용할지도 지정할 수 있다, \n",
    "  - 아래 예시를 보면 max jobs을 15, max_parallel_jobs를 5로 두어서 3(15/5)개의 시리즈가 완료되면, 튜닝 작업이 완료된다는 것을 의미한다. \n",
    "  - 기본값은 Bayesian Optimization으로 이는 이전 training job 그룹의 결과에 영향을 받기 때문에 모든 작업을 병렬로 실행하는 것이 아니라(15/15) 병렬 작업 그룹으로 나누워서 진행한다. 만약 더 많은 병렬 작업을 사용하면 튜닝이 더 빨리 완료되지만 최적화 정확도가 저하될 수 있다.\n",
    "   \n",
    "- 하이퍼 파라미터 튜너 `fit`을 호출하여 하이퍼 파라미터 조정 작업을 시작할 수 있습니다.\n",
    "- 튜닝 작업을 완료하는 데 약 10분이 걸릴 수 있습니다. \n",
    "- 기다리는동안 tunning job 내 (개별 training 작업에 대한 메타데이터)와 (결과를 포함한 튜닝 작업의 상태)는 Hyperparameter tuning jobs 패널 내 SageMaker Console에서 확인할 수 있다."
   ]
  },
  {
   "cell_type": "code",
   "execution_count": null,
   "id": "54e11d2a-fe91-4e2b-b85b-e3000f45115e",
   "metadata": {},
   "outputs": [],
   "source": [
    "tuner = HyperparameterTuner(hosted_estimator,\n",
    "                            objective_metric_name,\n",
    "                            hyperparameter_ranges,\n",
    "                            metric_definitions,\n",
    "                            max_jobs = 15,\n",
    "                            max_parallel_jobs = 5,\n",
    "                            objective_type = objective_type,\n",
    "                            tags = tuning_tags)\n",
    "\n",
    "tuning_job_name = \"tf-2-workflow-{}\".format(strftime(\"%d-%H-%M-%S\", gmtime()))\n",
    "tuner.fit(inputs, job_name=tuning_job_name)\n",
    "tuner.wait()"
   ]
  },
  {
   "cell_type": "markdown",
   "id": "1772e948-abfb-43c6-b2c8-255f3088ec01",
   "metadata": {},
   "source": [
    "튜닝작업이 완료된 후에는 SageMaker Python SDK의 HyperparameterTuningJobAnalytics 오브젝트를 통해 성능 순서로 튜닝작업을 리스트업해 봅니다. 다양한 튜닝작업 결과 중 최고의 검증 오류(validation loss)를 가지는 top 5 작업을 조회합니다. 그리고 FinalObjectiveValue 컬럼을 참고하십시오. 튜닝작업마다 작업결과는 다양하지만 최고로 선정된 튜닝작업의 검증오류는 호스팅 환경에서 실행했던 (단순히 epoch값만 조정했던) 학습작업에 비해 현저히 낮은 것을 확인할 수 있습니다."
   ]
  },
  {
   "cell_type": "code",
   "execution_count": null,
   "id": "17243368-ad17-4aa9-9ec7-877534c0ed59",
   "metadata": {},
   "outputs": [],
   "source": [
    "tuner_metrics = sagemaker.HyperparameterTuningJobAnalytics(tuning_job_name)\n",
    "tuner_metrics.dataframe().sort_values(['FinalObjectiveValue'], ascending=True).head(5)"
   ]
  },
  {
   "cell_type": "markdown",
   "id": "f46e6d2a-3478-4061-b9a5-f55b84b64ec1",
   "metadata": {},
   "source": [
    "전체 학습시간과 학습작업 상태는 다음 라인의 코드로 확인할 수 있습니다. 자동 조기종료(early stopping) 여부의 디폴트 설정이 off 이기 때문에, 학습작업은 모두 완전하게 실행되었을 것입니다. 자세한 튜닝작업의 예제는 다음 [HPO_Analyze_TuningJob_Results.ipynb](https://github.com/aws/amazon-sagemaker-examples/blob/main/hyperparameter_tuning/analyze_results/HPO_Analyze_TuningJob_Results.ipynb) 노트북을 참조합니다."
   ]
  },
  {
   "cell_type": "code",
   "execution_count": null,
   "id": "e02f08fe-14af-409b-b885-118f58abc46a",
   "metadata": {},
   "outputs": [],
   "source": [
    "total_time = tuner_metrics.dataframe()['TrainingElapsedTimeSeconds'].sum() / 3600\n",
    "print(\"The total training time is {:.2f} hours\".format(total_time))\n",
    "tuner_metrics.dataframe()['TrainingJobStatus'].value_counts()"
   ]
  },
  {
   "cell_type": "markdown",
   "id": "86bb1271-acc1-430e-9853-11abc78f50aa",
   "metadata": {},
   "source": [
    "## 5. SageMaker Hosted training 작업 Endpoint 만들기\n",
    "자동 모델 튜닝작업에서 학습된 결과는 간단한 과정으로 운영환경에 배포할 수 있습니다.    \n",
    "가장 간편한 방식은 SageMaker 호스팅 엔드포인트를 사용하여 학습모델로부터 실시간 예측서비스를 구현하는 것입니다. (배치 변환 작업(Batch Transform jobs) 또한 비동기방식으로 대량 데이터에 대해 오프라인 예측을 실행할 수 있는 좋은 방식입니다.) 엔드포인트는 학습작업에서 생성한 Tensorflow 저장모델을 가져와서 Tensorflow 서빙 컨테이너에 배포할 것입니다. 이 작업은 다음 한 줄의 코드로 가능합니다.\n",
    "\n",
    "보다 구체적으로, HyperparameterTuner 오브젝트의 deploy 명령을 호출하면 해당 튜닝 작업에서 최고로 선택된 모델을 SageMaker 호스팅 엔드포인트에 배포하게 됩니다. 호스팅환경으로의 배포 작업은 로컬모드 엔드포인트의 작업에 비하여 수분이상 더 소요될 수 있습니다. (추론코드 프로토타이핑이 목적일 때에는 로컬모드도 좋은 옵션일 수 있습니다.)"
   ]
  },
  {
   "cell_type": "code",
   "execution_count": null,
   "id": "48cbdc62-ce4a-4ff2-b7d5-12a14fd39706",
   "metadata": {},
   "outputs": [],
   "source": [
    "tuning_predictor = tuner.deploy(initial_instance_count=1, instance_type='ml.m5.xlarge')"
   ]
  },
  {
   "cell_type": "code",
   "execution_count": null,
   "id": "e3605ab8-cbe7-4772-80cd-4e11c488aa90",
   "metadata": {},
   "outputs": [],
   "source": [
    "방금 배포한 엔드포인트에서 예측을 실행해 봅니다."
   ]
  },
  {
   "cell_type": "code",
   "execution_count": null,
   "id": "67a1edbd-b682-4823-b006-c52dbb8c9bce",
   "metadata": {},
   "outputs": [],
   "source": [
    "results = tuning_predictor.predict(x_test[:10])['predictions'] \n",
    "flat_list = [float('%.1f'%(item)) for sublist in results for item in sublist]\n",
    "print('predictions: \\t{}'.format(np.array(flat_list)))\n",
    "print('target values: \\t{}'.format(y_test[:10].round(decimals=1)))"
   ]
  },
  {
   "cell_type": "code",
   "execution_count": null,
   "id": "932b13b5-a3b1-4805-8897-99d07c2d7031",
   "metadata": {},
   "outputs": [],
   "source": [
    "추가 요금이 청구되지 않도록 엔드포인트를 삭제합니다."
   ]
  },
  {
   "cell_type": "code",
   "execution_count": null,
   "id": "4f8248d8-daad-4cdc-a7bb-f2e578708d36",
   "metadata": {},
   "outputs": [],
   "source": [
    "sess.delete_endpoint(tuning_predictor.endpoint)"
   ]
  },
  {
   "cell_type": "markdown",
   "id": "25d7a0f1-347f-443b-a53e-e411a49de26c",
   "metadata": {},
   "source": [
    "## 5. AWS Step Functions Data Science SDK를 이용하여 학습과 배포 단계 자동화"
   ]
  },
  {
   "cell_type": "code",
   "execution_count": null,
   "id": "a1a9a27f-09a0-4370-bab7-f79b66f63270",
   "metadata": {},
   "outputs": [],
   "source": []
  }
 ],
 "metadata": {
  "kernelspec": {
   "display_name": "conda_mxnet_p37",
   "language": "python",
   "name": "conda_mxnet_p37"
  },
  "language_info": {
   "codemirror_mode": {
    "name": "ipython",
    "version": 3
   },
   "file_extension": ".py",
   "mimetype": "text/x-python",
   "name": "python",
   "nbconvert_exporter": "python",
   "pygments_lexer": "ipython3",
   "version": "3.7.10"
  }
 },
 "nbformat": 4,
 "nbformat_minor": 5
}
