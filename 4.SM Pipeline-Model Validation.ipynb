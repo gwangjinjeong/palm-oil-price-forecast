{
 "cells": [
  {
   "cell_type": "code",
   "execution_count": 1,
   "id": "95b63e57-b89e-453d-ae13-c4ed75c5bf1d",
   "metadata": {},
   "outputs": [],
   "source": [
    "LOCAL_MODE = False"
   ]
  },
  {
   "cell_type": "markdown",
   "id": "84b92b83-c7aa-49b1-a1ed-a976c863c1a9",
   "metadata": {},
   "source": [
    "# 0. 환경설정"
   ]
  },
  {
   "cell_type": "code",
   "execution_count": 2,
   "id": "81535be4-39fc-4dd8-a95c-9d83f6fdd9c2",
   "metadata": {},
   "outputs": [],
   "source": [
    "import argparse\n",
    "import os\n",
    "import requests\n",
    "import tempfile\n",
    "import subprocess, sys\n",
    "\n",
    "import pandas as pd\n",
    "import numpy as np\n",
    "from glob import glob\n",
    "import copy\n",
    "from collections import OrderedDict\n",
    "from pathlib import Path\n",
    "import joblib\n",
    "\n",
    "from sklearn.compose import ColumnTransformer\n",
    "from sklearn.impute import SimpleImputer\n",
    "from sklearn.pipeline import Pipeline\n",
    "from sklearn.preprocessing import StandardScaler, MinMaxScaler, OneHotEncoder\n",
    "\n",
    "import logging\n",
    "import logging.handlers\n",
    "\n",
    "import json\n",
    "import base64\n",
    "import boto3\n",
    "import sagemaker\n",
    "from botocore.client import Config\n",
    "from botocore.exceptions import ClientError\n",
    "\n",
    "import time\n",
    "from datetime import datetime as dt\n",
    "import datetime\n",
    "from pytz import timezone\n",
    "from dateutil.relativedelta import *"
   ]
  },
  {
   "cell_type": "code",
   "execution_count": 3,
   "id": "b79a1a68-de80-4877-a7ec-76b7b5823aec",
   "metadata": {},
   "outputs": [],
   "source": [
    "def get_secret():\n",
    "    # See https://docs.aws.amazon.com/secretsmanager/latest/apireference/API_GetSecretValue.html\n",
    "    secret_name = \"prod/sagemaker\"\n",
    "    region_name = \"ap-northeast-2\"\n",
    "    \n",
    "    # Create a Secrets Manager client\n",
    "    session = boto3.session.Session()\n",
    "    client = session.client(\n",
    "        service_name='secretsmanager',\n",
    "        region_name=region_name\n",
    "    )\n",
    "    try:\n",
    "        get_secret_value_response = client.get_secret_value(\n",
    "            SecretId='prod/sagemaker',\n",
    "        )\n",
    "    except ClientError as e:\n",
    "        if e.response['Error']['Code'] == 'DecryptionFailureException': # Secrets Manager can't decrypt the protected secret text using the provided KMS key.\n",
    "            raise e\n",
    "        elif e.response['Error']['Code'] == 'InternalServiceErrorException': # An error occurred on the server side.\n",
    "            raise e\n",
    "        elif e.response['Error']['Code'] == 'InvalidParameterException': # You provided an invalid value for a parameter.\n",
    "            raise e\n",
    "        elif e.response['Error']['Code'] == 'InvalidRequestException': # You provided a parameter value that is not valid for the current state of the resource.\n",
    "            raise e\n",
    "        elif e.response['Error']['Code'] == 'ResourceNotFoundException': # We can't find the resource that you asked for.\n",
    "            raise e\n",
    "    else:\n",
    "        if 'SecretString' in get_secret_value_response:\n",
    "            secret = get_secret_value_response['SecretString']\n",
    "            return secret\n",
    "        else:\n",
    "            decoded_binary_secret = base64.b64decode(get_secret_value_response['SecretBinary'])\n",
    "            return decoded_binary_secret\n",
    "\n",
    "keychain = json.loads(get_secret())\n",
    "ACCESS_KEY_ID = keychain['ACCESS_KEY_ID_ent']\n",
    "ACCESS_SECRET_KEY = keychain['ACCESS_SECRET_KEY_ent']\n",
    "\n",
    "BUCKET_NAME_USECASE = keychain['BUCKET_NAME_USECASE_ent']\n",
    "S3_PATH_STAGE = keychain['S3_PATH_STAGE']\n",
    "S3_PATH_GOLDEN = keychain['S3_PATH_GOLDEN']\n",
    "S3_PATH_TRAIN = keychain['S3_PATH_TRAIN']\n",
    "S3_PATH_log = keychain['S3_PATH_LOG']\n",
    "S3_PATH_FORECAST = keychain['S3_PATH_FORECAST']\n",
    "\n",
    "boto3_session = boto3.Session(ACCESS_KEY_ID, ACCESS_SECRET_KEY)\n",
    "sm_session = sagemaker.Session(boto_session = boto3_session)\n",
    "region = boto3_session.region_name\n",
    "\n",
    "s3_resource = boto3_session.resource('s3')\n",
    "bucket = s3_resource.Bucket(BUCKET_NAME_USECASE)\n",
    "s3_client = boto3_session.client('s3')\n",
    "sm_client = boto3.client('sagemaker',\n",
    "                         aws_access_key_id = ACCESS_KEY_ID,\n",
    "                         aws_secret_access_key = ACCESS_SECRET_KEY,\n",
    "                         region_name = 'ap-northeast-2')"
   ]
  },
  {
   "cell_type": "code",
   "execution_count": 23,
   "id": "a8f4a081-5216-488d-89e4-994dab68146d",
   "metadata": {},
   "outputs": [
    {
     "name": "stdout",
     "output_type": "stream",
     "text": [
      "Overwriting src/model_validation.py\n"
     ]
    }
   ],
   "source": [
    "%%writefile src/model_validation.py\n",
    "\n",
    "import glob\n",
    "import os\n",
    "import pandas as pd\n",
    "import time\n",
    "from datetime import datetime as dt\n",
    "import argparse\n",
    "import json\n",
    "import boto3\n",
    "from io import StringIO, BytesIO\n",
    "import joblib\n",
    "import sys\n",
    "import subprocess\n",
    "import logging\n",
    "import logging.handlers\n",
    "\n",
    "import tarfile\n",
    "\n",
    "\n",
    "###############################\n",
    "######### util 함수 설정 ##########\n",
    "###############################\n",
    "def _get_logger():\n",
    "    loglevel = logging.DEBUG\n",
    "    l = logging.getLogger(__name__)\n",
    "    if not l.hasHandlers():\n",
    "        l.setLevel(loglevel)\n",
    "        logging.getLogger().addHandler(logging.StreamHandler(sys.stdout))        \n",
    "        l.handler_set = True\n",
    "    return l  \n",
    "logger = _get_logger()\n",
    "\n",
    "def get_secret():\n",
    "    secret_name = \"prod/sagemaker\"\n",
    "    region_name = \"ap-northeast-2\"\n",
    "\n",
    "    session = boto3.session.Session()\n",
    "    client = session.client(\n",
    "        service_name='secretsmanager',\n",
    "        region_name=region_name\n",
    "    )\n",
    "    try:\n",
    "        get_secret_value_response = client.get_secret_value(\n",
    "            SecretId='prod/sagemaker',\n",
    "        )\n",
    "    except ClientError as e:\n",
    "        if e.response['Error']['Code'] == 'DecryptionFailureException': # Secrets Manager can't decrypt the protected secret text using the provided KMS key.\n",
    "            raise e\n",
    "        elif e.response['Error']['Code'] == 'InternalServiceErrorException': # An error occurred on the server side.\n",
    "            raise e\n",
    "        elif e.response['Error']['Code'] == 'InvalidParameterException': # You provided an invalid value for a parameter.\n",
    "            raise e\n",
    "        elif e.response['Error']['Code'] == 'InvalidRequestException': # You provided a parameter value that is not valid for the current state of the resource.\n",
    "            raise e\n",
    "        elif e.response['Error']['Code'] == 'ResourceNotFoundException': # We can't find the resource that you asked for.\n",
    "            raise e\n",
    "    else:\n",
    "        if 'SecretString' in get_secret_value_response:\n",
    "            secret = get_secret_value_response['SecretString']\n",
    "            return secret\n",
    "        else:\n",
    "            decoded_binary_secret = base64.b64decode(get_secret_value_response['SecretBinary'])\n",
    "            return decoded_binary_secret\n",
    "\n",
    "def convert_series_to_description(leaderboard : pd.Series):\n",
    "    return ','.join(leaderboard.loc[0,['model','score_test','score_val']].to_string().split())\n",
    "\n",
    "def get_bucket_key_from_uri(uri):\n",
    "    uri_aws_path = uri.split('//')[1]\n",
    "    uri_bucket = uri_aws_path.rsplit('/')[0]\n",
    "    uri_file_path = '/'.join(uri_aws_path.rsplit('/')[1:])\n",
    "    return uri_bucket, uri_file_path\n",
    "\n",
    "if __name__=='__main__':\n",
    "    ################################\n",
    "    ###### 커맨드 인자 파싱   ##########\n",
    "    ################################    \n",
    "    parser = argparse.ArgumentParser()\n",
    "    parser.add_argument('--base_input_path', type=str, default=\"/opt/ml/processing/input\")   \n",
    "    parser.add_argument('--s3_model_uri', type=str, default=\"/opt/ml/processing/model\")   \n",
    "    parser.add_argument('--model_package_group_name', type=str, default='palm-oil-price-forecast')   \n",
    "    args = parser.parse_args()     \n",
    "\n",
    "    logger.info(\"######### Argument Info ####################################\")\n",
    "    logger.info(f\"args.base_input_path: {args.base_input_path}\")\n",
    "    logger.info(f\"args.s3_model_uri: {args.s3_model_uri}\")\n",
    "    logger.info(f\"args.model_package_group_name: {args.model_package_group_name}\")\n",
    "    \n",
    "    base_input_path = args.base_input_path\n",
    "    s3_model_uri = args.s3_model_uri\n",
    "    model_package_group_name = args.model_package_group_name\n",
    "    \n",
    "    ############################################\n",
    "    ###### Secret Manager에서 키값 가져오기  #######\n",
    "    ########################################### \n",
    "    logger.info(f\"\\n### Loading Key value from Secret Manager\")\n",
    "    \n",
    "    keychain = json.loads(get_secret())\n",
    "    ACCESS_KEY_ID = keychain['ACCESS_KEY_ID_ent']\n",
    "    ACCESS_SECRET_KEY = keychain['ACCESS_SECRET_KEY_ent']\n",
    "\n",
    "    BUCKET_NAME_USECASE = keychain['BUCKET_NAME_USECASE_ent']\n",
    "    S3_PATH_STAGE = keychain['S3_PATH_STAGE']\n",
    "    S3_PATH_GOLDEN = keychain['S3_PATH_GOLDEN']\n",
    "    S3_PATH_TRAIN = keychain['S3_PATH_TRAIN']\n",
    "    S3_PATH_log = keychain['S3_PATH_LOG']\n",
    "    boto3_session = boto3.Session(ACCESS_KEY_ID, ACCESS_SECRET_KEY)\n",
    "\n",
    "    region = boto3_session.region_name\n",
    "\n",
    "    s3_resource = boto3_session.resource('s3')\n",
    "    s3_client = boto3_session.client('s3')\n",
    "    sm_client = boto3.client('sagemaker',\n",
    "                             aws_access_key_id = ACCESS_KEY_ID,\n",
    "                             aws_secret_access_key = ACCESS_SECRET_KEY,\n",
    "                             region_name = 'ap-northeast-2')\n",
    "    \n",
    "    ############################################\n",
    "    ##### Model, Leaderboard 파일 가져오기 #####\n",
    "    ########################################### \n",
    "    logger.info(f\"\\n### Loading Model, Leaderboard zip files \")\n",
    "    logger.info(f\"\\n#### Extract output.tar.gz and Read a Leaderboard \")\n",
    "    ## 22.11.29 추가: 이전 step인, step_train에서 model.tar.gz의 uri는 가져올 수 있었지만, output.tar.gz는 못가져왔다. 이를 model.tar.gz에서 output.tar.gz으로 바꾸는방식으로 우회하자\n",
    "    leaderboard_uri = s3_model_uri.replace('model.tar.gz','output.tar.gz')#,f'{base_input_path}/output.tar.gz'\n",
    "    logger.info(f\"\\n#### output.tar.gz uri : {leaderboard_uri}\")\n",
    "    output_bucket, output_key = get_bucket_key_from_uri(leaderboard_uri)  \n",
    "    output_obj = s3_client.get_object(Bucket = output_bucket, Key = output_key)\n",
    "   \n",
    "    logger.info(\"\\n######### Model zip file extraction ####################################\")\n",
    "    with tarfile.open(fileobj=output_obj['Body'], mode='r|gz') as file:\n",
    "        file.extractall(base_input_path)    \n",
    "    logger.info(f\"file list in {base_input_path}: {os.listdir(base_input_path)}\")        \n",
    "    \n",
    "    # if leaderboard_path.endswith(\"tar.gz\"):\n",
    "    #     tar = tarfile.open(leaderboard_path, \"r:gz\")\n",
    "    #     tar.extractall(base_input_path)\n",
    "    #     tar.close()\n",
    "    # elif leaderboard_path.endswith(\"tar\"):\n",
    "    #     tar = tarfile.open(leaderboard_path, \"r:\")\n",
    "    #     tar.extractall(base_input_path)\n",
    "    #     tar.close()\n",
    "\n",
    "    leaderboard = pd.read_csv(f'{base_input_path}/leaderboard.csv').sort_values(by = ['score_val', 'score_test'],\n",
    "                                                                                ascending = False)\n",
    "    logger.info(f\"leaderboard train sample: head(5) \\n {leaderboard.head()}\")\n",
    "    logger.info(f\"\\n#### Set  \")\n",
    "    model_package_group_name = model_package_group_name\n",
    "    modelpackage_inference_specification =  {\n",
    "        \"InferenceSpecification\": {\n",
    "            \"Containers\": [\n",
    "                {\n",
    "                    \"Image\": '763104351884.dkr.ecr.ap-northeast-2.amazonaws.com/autogluon-inference:0.4-cpu-py38',\n",
    "                    \"ModelDataUrl\": s3_model_uri#'#args.model_path_uri\n",
    "                }\n",
    "            ],\n",
    "            \"SupportedContentTypes\": [ \"text/csv\" ],\n",
    "            \"SupportedResponseMIMETypes\": [ \"text/csv\" ],\n",
    "        }\n",
    "    }\n",
    "    if len(leaderboard[leaderboard['score_val'] > -0.13]) > 0:\n",
    "        logger.info(f\"\\n#### Pass the first performance filtering\")\n",
    "        \n",
    "        create_model_package_input_dict = {\n",
    "            \"ModelPackageGroupName\" : model_package_group_name,\n",
    "            \"ModelPackageDescription\" : convert_series_to_description(leaderboard),\n",
    "            \"ModelApprovalStatus\" : \"PendingManualApproval\"\n",
    "        }\n",
    "        create_model_package_input_dict.update(modelpackage_inference_specification)\n",
    "        create_model_package_response = sm_client.create_model_package(**create_model_package_input_dict)\n",
    "        model_package_arn = create_model_package_response[\"ModelPackageArn\"]\n",
    "        logger.info('### Passed ModelPackage Version ARN : {}'.format(model_package_arn))\n",
    "        \n",
    "    else:\n",
    "        logger.info(f\"\\n#### None of them passed the filtering\")\n",
    "        create_model_package_input_dict = {\n",
    "            \"ModelPackageGroupName\" : model_package_group_name,\n",
    "            \"ModelPackageDescription\" : convert_series_to_description(leaderboard),\n",
    "            \"ModelApprovalStatus\" : \"Rejected\"\n",
    "        }\n",
    "        create_model_package_input_dict.update(modelpackage_inference_specification)\n",
    "        create_model_package_response = sm_client.create_model_package(**create_model_package_input_dict)\n",
    "        model_package_arn = create_model_package_response[\"ModelPackageArn\"]\n",
    "        logger.info('### Rejected ModelPackage Version ARN : {}'.format(model_package_arn))"
   ]
  },
  {
   "cell_type": "code",
   "execution_count": 5,
   "id": "4fc72fec-e727-4634-abae-3eeea38c75d6",
   "metadata": {},
   "outputs": [
    {
     "name": "stdout",
     "output_type": "stream",
     "text": [
      "Stored 'model_validation_code' (str)\n"
     ]
    }
   ],
   "source": [
    "model_validation_code = 'src/model_validation.py'\n",
    "%store model_validation_code"
   ]
  },
  {
   "cell_type": "code",
   "execution_count": 6,
   "id": "12c8f9d3-d976-4f6d-a685-9ade98b54ba3",
   "metadata": {},
   "outputs": [
    {
     "name": "stdout",
     "output_type": "stream",
     "text": [
      "Stored variables and their in-db values:\n",
      "bucket                             -> 'palm-oil-price-forecast'\n",
      "leaderboard_uri                    -> 's3://palm-oil-price-forecast/trained-model/2022/1\n",
      "model_validation_code              -> 'src/model_validation.py'\n",
      "preproc_data_dir                   -> 's3://palm-oil-price-forecast/golden-data/2022/11/\n",
      "preprocessed_stage_uri             -> 's3://palm-oil-price-forecast/golden-data/2022/11/\n",
      "preprocessed_test_uri              -> 's3://palm-oil-price-forecast/golden-data/2022/11/\n",
      "preprocessed_train_uri             -> 's3://palm-oil-price-forecast/golden-data/2022/11/\n",
      "preprocessing_code                 -> 'src/preprocessing.py'\n",
      "project_prefix                     -> 'palm-oil-price-forecast'\n",
      "stage_data_uri                     -> 's3://palm-oil-price-forecast/staged-data'\n",
      "test_data_uri                      -> 's3://palm-oil-price-forecast/golden-data/2022/11/\n",
      "train_data_uri                     -> 's3://palm-oil-price-forecast/golden-data/2022/11/\n",
      "train_model_uri                    -> 's3://palm-oil-price-forecast/trained-model/2022/1\n",
      "training_code                      -> 'src/train.py'\n"
     ]
    }
   ],
   "source": [
    "%store "
   ]
  },
  {
   "cell_type": "code",
   "execution_count": 7,
   "id": "224de32f-be04-4de9-96c0-28dcf74849d5",
   "metadata": {},
   "outputs": [],
   "source": [
    "%store -r"
   ]
  },
  {
   "cell_type": "code",
   "execution_count": 8,
   "id": "f1ff623a-5a3a-47b9-a427-e1c9fa49a1bc",
   "metadata": {},
   "outputs": [
    {
     "name": "stdout",
     "output_type": "stream",
     "text": [
      "2022-11-28 09:05:06    2984726 trained-model/2022/11/28/pipelines-5c2k5eti372r-Palm-oil-forecast-Tr-IcBejQCKws/output/model.tar.gz\n"
     ]
    }
   ],
   "source": [
    "!aws s3 ls {train_model_uri} --recursive"
   ]
  },
  {
   "cell_type": "code",
   "execution_count": 9,
   "id": "4919deb0-edb6-4306-a2e8-840dde300f75",
   "metadata": {},
   "outputs": [
    {
     "name": "stdout",
     "output_type": "stream",
     "text": [
      "2022-11-28 09:05:07        442 trained-model/2022/11/28/pipelines-5c2k5eti372r-Palm-oil-forecast-Tr-IcBejQCKws/output/output.tar.gz\n"
     ]
    }
   ],
   "source": [
    "!aws s3 ls {leaderboard_uri} --recursive"
   ]
  },
  {
   "cell_type": "markdown",
   "id": "48076217-25da-4928-95d6-7b901c548edc",
   "metadata": {},
   "source": [
    "# 1. 모델 검증 파이프라인 의 스텝(Step) 생성\n",
    "## 1) 모델 검증 파이프라인 변수 생성\n",
    "파이프라인에서 사용할 파이프라인 파라미터를 정의합니다. 파이프라인을 스케줄하고 실행할 때 파라미터를 이용하여 실행조건을 커스마이징할 수 있습니다. 파라미터를 이용하면 파이프라인 실행시마다 매번 파이프라인 정의를 수정하지 않아도 됩니다.\n",
    "\n",
    "지원되는 파라미터 타입은 다음과 같습니다:\n",
    "\n",
    "- ParameterString - 파이썬 타입에서 str\n",
    "- ParameterInteger - 파이썬 타입에서 int\n",
    "- ParameterFloat - 파이썬 타입에서 float\n",
    "이들 파라미터를 정의할 때 디폴트 값을 지정할 수 있으며 파이프라인 실행시 재지정할 수도 있습니다. 지정하는 디폴트 값은 파라미터 타입과 일치하여야 합니다.\n",
    "\n",
    "본 노트북에서 사용하는 파라미터는 다음과 같습니다.\n",
    "\n",
    "- processing_instance_type - 프로세싱 작업에서 사용할 ml.* 인스턴스 타입\n",
    "- processing_instance_count - 프로세싱 작업에서 사용할 인스턴스 개수\n",
    "- validation_instance_type - 학습작업에서 사용할 ml.* 인스턴스 타입\n",
    "- model_approval_status - 학습된 모델을 CI/CD를 목적으로 등록할 때의 승인 상태 (디폴트는 \"PendingManualApproval\")\n",
    "- input_data - 입력데이터에 대한 S3 버킷 URI\n",
    "파이프라인의 각 스텝에서 사용할 변수를 파라미터 변수로서 정의 합니다."
   ]
  },
  {
   "cell_type": "code",
   "execution_count": 11,
   "id": "f653b941-926b-4f60-9422-42450f1dbda7",
   "metadata": {},
   "outputs": [],
   "source": [
    "from sagemaker.workflow.parameters import (\n",
    "    ParameterInteger,\n",
    "    ParameterString,\n",
    ")\n",
    "model_validation_instance_count = ParameterInteger(\n",
    "    name=\"ModelValidationInstanceCount\",\n",
    "    default_value=1\n",
    ")\n",
    "model_validation_instance_type = ParameterString(\n",
    "    name=\"ModelValidationInstanceType\",\n",
    "    default_value='ml.c5.xlarge'\n",
    ")\n",
    "input_model_uri = ParameterString(\n",
    "    name=\"InputModelData\",\n",
    "    default_value = train_model_uri,\n",
    ")\n",
    "input_leaderboard_data = ParameterString(\n",
    "    name=\"Input_Leaderboard_Data\",\n",
    "    default_value = leaderboard_uri,\n",
    ")\n",
    "split_date = '2022-10-31'"
   ]
  },
  {
   "cell_type": "markdown",
   "id": "631d82ec-9aa5-47b7-bac4-81fa00e04b79",
   "metadata": {},
   "source": [
    "## 2) 로컬에서 테스트"
   ]
  },
  {
   "cell_type": "code",
   "execution_count": null,
   "id": "ed3a27bf-ec1b-450b-b16a-9d673acde734",
   "metadata": {},
   "outputs": [],
   "source": [
    "if LOCAL_MODE:\n",
    "    # 도커 컨테이너 입력 폴더: staged data가 들어가는 부분\n",
    "    base_preproc_input_dir = 'opt/ml/processing/input'\n",
    "    os.makedirs(base_preproc_input_dir, exist_ok=True)\n",
    "\n",
    "    # 도커 컨테이너 기본 출력 폴더\n",
    "    base_output_dir = 'opt/ml/processing/output'\n",
    "    os.makedirs(base_output_dir, exist_ok=True)\n",
    "\n",
    "    # 도커 컨테이너 출력 폴더: stage 데이터셋이 들어가는 부분\n",
    "    base_preproc_output_stage_dir = f'{base_output_dir}/stage'\n",
    "    os.makedirs(base_preproc_output_stage_dir, exist_ok=True)\n",
    "\n",
    "    # 도커 컨테이너 출력 폴더: train 데이터셋이 들어가는 부분\n",
    "    base_preproc_output_train_dir = f'{base_output_dir}/train'\n",
    "    os.makedirs(base_preproc_output_train_dir, exist_ok=True)\n",
    "\n",
    "    # 도커 컨테이너 출력 폴더: test 데이터셋이 들어가는 부분\n",
    "    base_preproc_output_test_dir =  f'{base_output_dir}/test'\n",
    "    os.makedirs(base_preproc_output_test_dir, exist_ok=True)\n"
   ]
  },
  {
   "cell_type": "code",
   "execution_count": 14,
   "id": "73e2c713-90d8-4147-8b75-d3a951379045",
   "metadata": {},
   "outputs": [],
   "source": [
    "if LOCAL_MODE:\n",
    "    # 도커 컨테이너 입력 폴더: staged data가 들어가는 부분\n",
    "    base_input_dir = 'opt/ml/processing/input'\n",
    "    os.makedirs(base_input_dir, exist_ok=True)\n",
    "\n",
    "    # 도커 컨테이너 모델 폴더: model 데이터가 압축해제되고 실행되는곳\n",
    "    base_model_dir = 'opt/ml/model' \n",
    "    os.makedirs(base_model_dir, exist_ok=True)\n",
    "    \n",
    "    model_package_group_name = '"
   ]
  },
  {
   "cell_type": "code",
   "execution_count": 15,
   "id": "03bcfb8a-daa3-4411-b3ca-6bf23bb36ef3",
   "metadata": {},
   "outputs": [
    {
     "name": "stdout",
     "output_type": "stream",
     "text": [
      "download: s3://palm-oil-price-forecast/trained-model/2022/11/26/pipelines-vrnf2bg3ujuy-Palm-oil-forecast-Tr-4suokL1ZzD/output/output.tar.gz to opt/ml/processing/input/output.tar.gz\n"
     ]
    }
   ],
   "source": [
    "!aws s3 cp {leaderboard_uri} {base_input_dir}"
   ]
  },
  {
   "cell_type": "code",
   "execution_count": 16,
   "id": "32c49a37-bd36-4d8b-a87e-fd46e7fb4082",
   "metadata": {},
   "outputs": [
    {
     "name": "stdout",
     "output_type": "stream",
     "text": [
      "download: s3://palm-oil-price-forecast/trained-model/2022/11/26/pipelines-vrnf2bg3ujuy-Palm-oil-forecast-Tr-4suokL1ZzD/output/model.tar.gz to opt/ml/model/model.tar.gz\n"
     ]
    }
   ],
   "source": [
    "!aws s3 cp {train_model_uri} {base_model_dir}"
   ]
  },
  {
   "cell_type": "code",
   "execution_count": 24,
   "id": "5248fe65-e583-4f65-b72d-7a9d67c041c7",
   "metadata": {},
   "outputs": [
    {
     "name": "stdout",
     "output_type": "stream",
     "text": [
      "######### Argument Info ####################################\n",
      "args.base_input_path: opt/ml/processing/input\n",
      "args.s3_model_uri: s3://palm-oil-price-forecast/trained-model/2022/11/26/pipelines-vrnf2bg3ujuy-Palm-oil-forecast-Tr-4suokL1ZzD/output/model.tar.gz\n",
      "args.model_package_group_name: palm-oil-price-forecast\n",
      "\n",
      "### Loading Key value from Secret Manager\n",
      "\n",
      "### Loading Model, Leaderboard zip files \n",
      "\n",
      "#### Extract output.tar.gz and Read a Leaderboard \n",
      "leaderboard train sample: head(5) \n",
      "               model  score_test  ...  fit_time_marginal  fit_order\n",
      "0  WeightedEnsemble         NaN  ...          76.943682          6\n",
      "3             Naive         NaN  ...           0.000711          1\n",
      "1             Theta         NaN  ...           0.000511          4\n",
      "5             ARIMA         NaN  ...           0.000502          5\n",
      "4               ETS         NaN  ...           0.000520          3\n",
      "\n",
      "[5 rows x 7 columns]\n",
      "\n",
      "#### Set  \n",
      "\n",
      "#### Pass the first performance filtering\n",
      "### Passed ModelPackage Version ARN : arn:aws:sagemaker:ap-northeast-2:276114397529:model-package/palm-oil-price-forecast/17\n"
     ]
    }
   ],
   "source": [
    "!python src/model_validation.py --base_input_path {base_input_dir} \\\n",
    "                                --s3_model_uri {train_model_uri} \\\n",
    "                                --model_package_group_name {bucket} \\"
   ]
  },
  {
   "cell_type": "code",
   "execution_count": 34,
   "id": "7827145f-4e0f-4d1a-ab90-fc40ad601df7",
   "metadata": {},
   "outputs": [],
   "source": [
    "def tewt(leaderboard : pd.Series):\n",
    "    return ','.join(leaderboard.loc[0,['model','score_test','score_val']].to_string().split())\n"
   ]
  },
  {
   "cell_type": "code",
   "execution_count": 37,
   "id": "cbcc8162-38c7-4a09-b39e-b43e3080c7bc",
   "metadata": {},
   "outputs": [
    {
     "data": {
      "text/plain": [
       "'model,WeightedEnsemble,score_test,NaN,score_val,-0.115708'"
      ]
     },
     "execution_count": 37,
     "metadata": {},
     "output_type": "execute_result"
    }
   ],
   "source": [
    "tewt(pd.read_csv('opt/ml/processing/input/leaderboard.csv'))"
   ]
  },
  {
   "cell_type": "markdown",
   "id": "f3ab3e03-992c-4cf8-82a6-c4ed92362660",
   "metadata": {},
   "source": [
    "## 3) 모델 검증 프로세서 정의\n",
    "전처리의 내장 SKLearnProcessor 를 통해서 sklearn_processor 오브젝트를 생성 합니다."
   ]
  },
  {
   "cell_type": "code",
   "execution_count": 12,
   "id": "f6d645c9-fe96-499e-b83e-fdc1f2900195",
   "metadata": {},
   "outputs": [
    {
     "name": "stderr",
     "output_type": "stream",
     "text": [
      "The input argument instance_type of function (sagemaker.image_uris.retrieve) is a pipeline variable (<class 'sagemaker.workflow.parameters.ParameterString'>), which is not allowed. The default_value of this Parameter object will be used to override it. Please make sure the default_value is valid.\n"
     ]
    }
   ],
   "source": [
    "from sagemaker import get_execution_role\n",
    "from sagemaker.sklearn.processing import SKLearnProcessor\n",
    "\n",
    "framework_version = \"0.23-1\"\n",
    "\n",
    "sklearn_processor = SKLearnProcessor(\n",
    "    framework_version = framework_version,\n",
    "    instance_type = model_validation_instance_type,\n",
    "    instance_count = model_validation_instance_count,\n",
    "    base_job_name = \"Palm_oil_forecast-Autogluon052-sklearn0231\",\n",
    "    role = sagemaker.get_execution_role(),\n",
    ")"
   ]
  },
  {
   "cell_type": "markdown",
   "id": "7237f6e8-990e-4a31-a107-eeec3c39164a",
   "metadata": {},
   "source": [
    "## 4) 모델 검증 단계 정의\n",
    "처리 단계에서는 아래와 같은 주요 인자가 있습니다.\n",
    "단계 이름\n",
    "- processor 기술: 위에서 생성한 processor 오브젝트를 제공\n",
    "- inputs: S3의 경로를 기술하고, 다커안에서의 다운로드 폴더(destination)을 기술 합니다.\n",
    "- outputs: 처리 결과가 저장될 다커안에서의 폴더 경로를 기술합니다.\n",
    "\n",
    "도커안의 결과 파일이 저장 후에 자동으로 S3로 업로딩을 합니다.\n",
    "- job_arguments: 사용자 정의의 인자를 기술 합니다.\n",
    "- code: 전처리 코드의 경로를 기술 합니다.\n",
    "처리 단계의 상세한 사항은 여기를 보세요. --> 처리 단계, Processing Step"
   ]
  },
  {
   "cell_type": "code",
   "execution_count": 13,
   "id": "f4f81331-a5ec-46ad-ada8-c52f2487a762",
   "metadata": {},
   "outputs": [],
   "source": [
    "from sagemaker.processing import ProcessingInput, ProcessingOutput\n",
    "from sagemaker.workflow.steps import ProcessingStep\n",
    "\n",
    "step_model_validaion = ProcessingStep(\n",
    "    name = \"Palm_oil_forecast-Model_validation\",\n",
    "    processor = sklearn_processor,\n",
    "    inputs=[\n",
    "            ProcessingInput(\n",
    "                source = leaderboard_uri,\n",
    "                destination = \"/opt/ml/processing/input\")\n",
    "        ],\n",
    "    job_arguments=[\"--s3_model_uri\", train_model_uri],    \n",
    "    code = model_validation_code\n",
    ")"
   ]
  },
  {
   "cell_type": "markdown",
   "id": "516d68ee-062d-47c5-8fef-7456a43c7a35",
   "metadata": {},
   "source": [
    "## 5) 파리마터, 단계, 조건을 조합하여 최종 파이프라인 정의 및 실행\n",
    "이제 지금까지 생성한 단계들을 하나의 파이프라인으로 조합하고 실행하도록 하겠습니다.\n",
    "\n",
    "파이프라인은 name, parameters, steps 속성이 필수적으로 필요합니다. 여기서 파이프라인의 이름은 (account, region) 조합에 대하여 유일(unique))해야 합니다.\n",
    "\n",
    "주의:\n",
    "\n",
    "- 정의에 사용한 모든 파라미터가 존재해야 합니다.\n",
    "- 파이프라인으로 전달된 단계(step)들은 실행순서와는 무관합니다. SageMaker Pipeline은 단계가 실행되고 완료될 수 있도록 의존관계를를 해석합니다.\n",
    "- [알림] 정의한 stpes 이 복수개이면 복수개를 기술합니다. 만약에 step 간에 의존성이 있으면, 명시적으로 기술하지 않아도 같이 실행 됩니다."
   ]
  },
  {
   "cell_type": "markdown",
   "id": "330ba1ed-7e76-4387-8f4f-529c01ea7577",
   "metadata": {},
   "source": [
    "### 5-1) 파이프라인 정의"
   ]
  },
  {
   "cell_type": "code",
   "execution_count": 14,
   "id": "9bd22d35-46ab-4a30-8387-af000fe44dd5",
   "metadata": {},
   "outputs": [],
   "source": [
    "from sagemaker.workflow.pipeline import Pipeline\n",
    "\n",
    "pipeline_name = project_prefix\n",
    "pipeline = Pipeline(name = pipeline_name,\n",
    "                    parameters = [\n",
    "                        model_validation_instance_type, \n",
    "                        model_validation_instance_count,\n",
    "                        input_leaderboard_data\n",
    "                    ],\n",
    "                    steps = [step_model_validaion],\n",
    ")"
   ]
  },
  {
   "cell_type": "markdown",
   "id": "49a93c78-c482-4244-b20b-4cd921d04037",
   "metadata": {},
   "source": [
    "### 5-2) 파이프라인 정의 확인"
   ]
  },
  {
   "cell_type": "code",
   "execution_count": 15,
   "id": "177fb252-7e0c-4f4b-9290-e1fc9e9594df",
   "metadata": {},
   "outputs": [
    {
     "data": {
      "text/plain": [
       "{'Version': '2020-12-01',\n",
       " 'Metadata': {},\n",
       " 'Parameters': [{'Name': 'ModelValidationInstanceType',\n",
       "   'Type': 'String',\n",
       "   'DefaultValue': 'ml.c5.xlarge'},\n",
       "  {'Name': 'ModelValidationInstanceCount',\n",
       "   'Type': 'Integer',\n",
       "   'DefaultValue': 1},\n",
       "  {'Name': 'Input_Leaderboard_Data',\n",
       "   'Type': 'String',\n",
       "   'DefaultValue': 's3://palm-oil-price-forecast/trained-model/2022/11/28/pipelines-5c2k5eti372r-Palm-oil-forecast-Tr-IcBejQCKws/output/output.tar.gz'}],\n",
       " 'PipelineExperimentConfig': {'ExperimentName': {'Get': 'Execution.PipelineName'},\n",
       "  'TrialName': {'Get': 'Execution.PipelineExecutionId'}},\n",
       " 'Steps': [{'Name': 'Palm_oil_forecast-Model_validation',\n",
       "   'Type': 'Processing',\n",
       "   'Arguments': {'ProcessingResources': {'ClusterConfig': {'InstanceType': {'Get': 'Parameters.ModelValidationInstanceType'},\n",
       "      'InstanceCount': {'Get': 'Parameters.ModelValidationInstanceCount'},\n",
       "      'VolumeSizeInGB': 30}},\n",
       "    'AppSpecification': {'ImageUri': '366743142698.dkr.ecr.ap-northeast-2.amazonaws.com/sagemaker-scikit-learn:0.23-1-cpu-py3',\n",
       "     'ContainerArguments': ['--s3_model_uri',\n",
       "      's3://palm-oil-price-forecast/trained-model/2022/11/28/pipelines-5c2k5eti372r-Palm-oil-forecast-Tr-IcBejQCKws/output/model.tar.gz'],\n",
       "     'ContainerEntrypoint': ['python3',\n",
       "      '/opt/ml/processing/input/code/model_validation.py']},\n",
       "    'RoleArn': 'arn:aws:iam::276114397529:role/service-role/AmazonSageMakerServiceCatalogProductsUseRole',\n",
       "    'ProcessingInputs': [{'InputName': 'input-1',\n",
       "      'AppManaged': False,\n",
       "      'S3Input': {'S3Uri': 's3://palm-oil-price-forecast/trained-model/2022/11/28/pipelines-5c2k5eti372r-Palm-oil-forecast-Tr-IcBejQCKws/output/output.tar.gz',\n",
       "       'LocalPath': '/opt/ml/processing/input',\n",
       "       'S3DataType': 'S3Prefix',\n",
       "       'S3InputMode': 'File',\n",
       "       'S3DataDistributionType': 'FullyReplicated',\n",
       "       'S3CompressionType': 'None'}},\n",
       "     {'InputName': 'code',\n",
       "      'AppManaged': False,\n",
       "      'S3Input': {'S3Uri': 's3://sagemaker-ap-northeast-2-276114397529/Palm_oil_forecast-Model_validation-0e5c405ff69c8ee99ba2d955b0810166/input/code/model_validation.py',\n",
       "       'LocalPath': '/opt/ml/processing/input/code',\n",
       "       'S3DataType': 'S3Prefix',\n",
       "       'S3InputMode': 'File',\n",
       "       'S3DataDistributionType': 'FullyReplicated',\n",
       "       'S3CompressionType': 'None'}}]}}]}"
      ]
     },
     "execution_count": 15,
     "metadata": {},
     "output_type": "execute_result"
    }
   ],
   "source": [
    "import json\n",
    "\n",
    "definition = json.loads(pipeline.definition())\n",
    "definition"
   ]
  },
  {
   "cell_type": "markdown",
   "id": "e30dfd3f-bab2-48e2-9050-22609453370b",
   "metadata": {
    "tags": []
   },
   "source": [
    "### 5-3) 파이프라인 정의를 제출하고 실행하기\n",
    "파이프라인 정의를 파이프라인 서비스에 제출합니다. 함께 전달되는 역할(role)을 이용하여 AWS에서 파이프라인을 생성하고 작업의 각 단계를 실행할 것입니다."
   ]
  },
  {
   "cell_type": "code",
   "execution_count": 16,
   "id": "44ed5b88-5ee1-465c-8032-8b05bfee4087",
   "metadata": {},
   "outputs": [],
   "source": [
    "pipeline.upsert(role_arn=sagemaker.get_execution_role())\n",
    "execution = pipeline.start()"
   ]
  },
  {
   "cell_type": "code",
   "execution_count": 17,
   "id": "f3681565-3e30-48cc-a041-81467692bd12",
   "metadata": {},
   "outputs": [
    {
     "data": {
      "text/plain": [
       "{'PipelineArn': 'arn:aws:sagemaker:ap-northeast-2:276114397529:pipeline/palm-oil-price-forecast',\n",
       " 'PipelineExecutionArn': 'arn:aws:sagemaker:ap-northeast-2:276114397529:pipeline/palm-oil-price-forecast/execution/8oygdfkxnz4d',\n",
       " 'PipelineExecutionDisplayName': 'execution-1669626590683',\n",
       " 'PipelineExecutionStatus': 'Executing',\n",
       " 'CreationTime': datetime.datetime(2022, 11, 28, 9, 9, 50, 611000, tzinfo=tzlocal()),\n",
       " 'LastModifiedTime': datetime.datetime(2022, 11, 28, 9, 9, 50, 611000, tzinfo=tzlocal()),\n",
       " 'CreatedBy': {},\n",
       " 'LastModifiedBy': {},\n",
       " 'ResponseMetadata': {'RequestId': 'af10743f-5776-43aa-866a-42fae25da9b0',\n",
       "  'HTTPStatusCode': 200,\n",
       "  'HTTPHeaders': {'x-amzn-requestid': 'af10743f-5776-43aa-866a-42fae25da9b0',\n",
       "   'content-type': 'application/x-amz-json-1.1',\n",
       "   'content-length': '421',\n",
       "   'date': 'Mon, 28 Nov 2022 09:09:49 GMT'},\n",
       "  'RetryAttempts': 0}}"
      ]
     },
     "execution_count": 17,
     "metadata": {},
     "output_type": "execute_result"
    }
   ],
   "source": [
    "execution.describe()"
   ]
  },
  {
   "cell_type": "code",
   "execution_count": 18,
   "id": "d6f0cc33-b2ba-47c4-b84b-690dd12060b7",
   "metadata": {},
   "outputs": [
    {
     "name": "stdout",
     "output_type": "stream",
     "text": [
      "CPU times: user 118 ms, sys: 18.3 ms, total: 137 ms\n",
      "Wall time: 4min 32s\n"
     ]
    }
   ],
   "source": [
    "%%time\n",
    "start = time.time()\n",
    "\n",
    "pipeline.upsert(role_arn = sagemaker.get_execution_role())\n",
    "execution = pipeline.start()\n",
    "#실행이 완료될 때까지 기다린다.\n",
    "execution.wait() \n",
    "end = time.time()"
   ]
  },
  {
   "cell_type": "code",
   "execution_count": 19,
   "id": "26fd52bf-60c8-48c6-9e20-9d6cd098ae03",
   "metadata": {},
   "outputs": [
    {
     "name": "stdout",
     "output_type": "stream",
     "text": [
      "model validation 시간 : 272.1 sec\n",
      "model validation 시간 : 4.5 min\n"
     ]
    }
   ],
   "source": [
    "print(f\"model validation 시간 : {end - start:.1f} sec\")\n",
    "print(f\"model validation 시간 : {((end - start)/60):.1f} min\")"
   ]
  },
  {
   "cell_type": "markdown",
   "id": "e01134f3-370f-4fac-9ee7-0adb63b76ced",
   "metadata": {},
   "source": [
    "- 2022년 11월 26일 Model validation : 4.5min"
   ]
  },
  {
   "cell_type": "code",
   "execution_count": 20,
   "id": "1dc85625-21a2-4d38-9ed8-fba8bf71475b",
   "metadata": {},
   "outputs": [
    {
     "data": {
      "text/plain": [
       "{'PipelineArn': 'arn:aws:sagemaker:ap-northeast-2:276114397529:pipeline/palm-oil-price-forecast',\n",
       " 'PipelineExecutionArn': 'arn:aws:sagemaker:ap-northeast-2:276114397529:pipeline/palm-oil-price-forecast/execution/ihllruxjmyz4',\n",
       " 'PipelineExecutionDisplayName': 'execution-1669626592798',\n",
       " 'PipelineExecutionStatus': 'Succeeded',\n",
       " 'PipelineExperimentConfig': {'ExperimentName': 'palm-oil-price-forecast',\n",
       "  'TrialName': 'ihllruxjmyz4'},\n",
       " 'CreationTime': datetime.datetime(2022, 11, 28, 9, 9, 52, 696000, tzinfo=tzlocal()),\n",
       " 'LastModifiedTime': datetime.datetime(2022, 11, 28, 9, 14, 10, 690000, tzinfo=tzlocal()),\n",
       " 'CreatedBy': {},\n",
       " 'LastModifiedBy': {},\n",
       " 'ResponseMetadata': {'RequestId': '53a4b375-bbba-4667-978a-d56c0ab0870f',\n",
       "  'HTTPStatusCode': 200,\n",
       "  'HTTPHeaders': {'x-amzn-requestid': '53a4b375-bbba-4667-978a-d56c0ab0870f',\n",
       "   'content-type': 'application/x-amz-json-1.1',\n",
       "   'content-length': '519',\n",
       "   'date': 'Mon, 28 Nov 2022 09:14:23 GMT'},\n",
       "  'RetryAttempts': 0}}"
      ]
     },
     "execution_count": 20,
     "metadata": {},
     "output_type": "execute_result"
    }
   ],
   "source": [
    "execution.describe()"
   ]
  },
  {
   "cell_type": "code",
   "execution_count": 21,
   "id": "df6f8c12-87f0-42f0-8dc3-431072192104",
   "metadata": {},
   "outputs": [
    {
     "data": {
      "text/plain": [
       "[{'StepName': 'Palm_oil_forecast-Model_validation',\n",
       "  'StartTime': datetime.datetime(2022, 11, 28, 9, 9, 54, 843000, tzinfo=tzlocal()),\n",
       "  'EndTime': datetime.datetime(2022, 11, 28, 9, 14, 10, 445000, tzinfo=tzlocal()),\n",
       "  'StepStatus': 'Succeeded',\n",
       "  'AttemptCount': 0,\n",
       "  'Metadata': {'ProcessingJob': {'Arn': 'arn:aws:sagemaker:ap-northeast-2:276114397529:processing-job/pipelines-ihllruxjmyz4-palm-oil-forecast-mo-slyyvl4vmm'}}}]"
      ]
     },
     "execution_count": 21,
     "metadata": {},
     "output_type": "execute_result"
    }
   ],
   "source": [
    "#실행된 단계들을 리스트업. 파이프라인의 단계실행 서비스에 의해 시작되거나 완료된 단계를 보여준다.\n",
    "execution.list_steps()"
   ]
  },
  {
   "cell_type": "code",
   "execution_count": 22,
   "id": "0e865fb0-9557-4a77-89c2-750afcdb454e",
   "metadata": {},
   "outputs": [
    {
     "data": {
      "text/plain": [
       "{'ProcessingInputs': [{'InputName': 'input-1',\n",
       "   'AppManaged': False,\n",
       "   'S3Input': {'S3Uri': 's3://palm-oil-price-forecast/trained-model/2022/11/28/pipelines-5c2k5eti372r-Palm-oil-forecast-Tr-IcBejQCKws/output/output.tar.gz',\n",
       "    'LocalPath': '/opt/ml/processing/input',\n",
       "    'S3DataType': 'S3Prefix',\n",
       "    'S3InputMode': 'File',\n",
       "    'S3DataDistributionType': 'FullyReplicated',\n",
       "    'S3CompressionType': 'None'}},\n",
       "  {'InputName': 'code',\n",
       "   'AppManaged': False,\n",
       "   'S3Input': {'S3Uri': 's3://sagemaker-ap-northeast-2-276114397529/Palm_oil_forecast-Model_validation-0e5c405ff69c8ee99ba2d955b0810166/input/code/model_validation.py',\n",
       "    'LocalPath': '/opt/ml/processing/input/code',\n",
       "    'S3DataType': 'S3Prefix',\n",
       "    'S3InputMode': 'File',\n",
       "    'S3DataDistributionType': 'FullyReplicated',\n",
       "    'S3CompressionType': 'None'}}],\n",
       " 'ProcessingJobName': 'pipelines-ihllruxjmyz4-Palm-oil-forecast-Mo-SlYYVl4VmM',\n",
       " 'ProcessingResources': {'ClusterConfig': {'InstanceCount': 1,\n",
       "   'InstanceType': 'ml.c5.xlarge',\n",
       "   'VolumeSizeInGB': 30}},\n",
       " 'StoppingCondition': {'MaxRuntimeInSeconds': 86400},\n",
       " 'AppSpecification': {'ImageUri': '366743142698.dkr.ecr.ap-northeast-2.amazonaws.com/sagemaker-scikit-learn:0.23-1-cpu-py3',\n",
       "  'ContainerEntrypoint': ['python3',\n",
       "   '/opt/ml/processing/input/code/model_validation.py'],\n",
       "  'ContainerArguments': ['--s3_model_uri',\n",
       "   's3://palm-oil-price-forecast/trained-model/2022/11/28/pipelines-5c2k5eti372r-Palm-oil-forecast-Tr-IcBejQCKws/output/model.tar.gz']},\n",
       " 'RoleArn': 'arn:aws:iam::276114397529:role/service-role/AmazonSageMakerServiceCatalogProductsUseRole',\n",
       " 'ExperimentConfig': {'ExperimentName': 'palm-oil-price-forecast',\n",
       "  'TrialName': 'ihllruxjmyz4'},\n",
       " 'ProcessingJobArn': 'arn:aws:sagemaker:ap-northeast-2:276114397529:processing-job/pipelines-ihllruxjmyz4-palm-oil-forecast-mo-slyyvl4vmm',\n",
       " 'ProcessingJobStatus': 'Completed',\n",
       " 'ProcessingEndTime': datetime.datetime(2022, 11, 28, 9, 14, 9, 655000, tzinfo=tzlocal()),\n",
       " 'ProcessingStartTime': datetime.datetime(2022, 11, 28, 9, 13, 57, 574000, tzinfo=tzlocal()),\n",
       " 'LastModifiedTime': datetime.datetime(2022, 11, 28, 9, 14, 10, 33000, tzinfo=tzlocal()),\n",
       " 'CreationTime': datetime.datetime(2022, 11, 28, 9, 9, 55, 499000, tzinfo=tzlocal()),\n",
       " 'ResponseMetadata': {'RequestId': 'd64f5aa8-8d6e-4f08-9ca0-035c965ab756',\n",
       "  'HTTPStatusCode': 200,\n",
       "  'HTTPHeaders': {'x-amzn-requestid': 'd64f5aa8-8d6e-4f08-9ca0-035c965ab756',\n",
       "   'content-type': 'application/x-amz-json-1.1',\n",
       "   'content-length': '1857',\n",
       "   'date': 'Mon, 28 Nov 2022 09:14:24 GMT'},\n",
       "  'RetryAttempts': 0}}"
      ]
     },
     "execution_count": 22,
     "metadata": {},
     "output_type": "execute_result"
    }
   ],
   "source": [
    "response = execution.list_steps()\n",
    "proc_arn = response[-1]['Metadata']['ProcessingJob']['Arn'] # index -1은 가장 처음 실행 step\n",
    "proc_job_name = proc_arn.split('/')[-1] # Processing job name만 추출\n",
    "response = sm_client.describe_processing_job(ProcessingJobName = proc_job_name)\n",
    "response"
   ]
  },
  {
   "cell_type": "code",
   "execution_count": null,
   "id": "b69da58f-0802-4922-b388-c3164485a1e5",
   "metadata": {},
   "outputs": [],
   "source": []
  }
 ],
 "metadata": {
  "kernelspec": {
   "display_name": "conda_python3",
   "language": "python",
   "name": "conda_python3"
  },
  "language_info": {
   "codemirror_mode": {
    "name": "ipython",
    "version": 3
   },
   "file_extension": ".py",
   "mimetype": "text/x-python",
   "name": "python",
   "nbconvert_exporter": "python",
   "pygments_lexer": "ipython3",
   "version": "3.8.12"
  }
 },
 "nbformat": 4,
 "nbformat_minor": 5
}
