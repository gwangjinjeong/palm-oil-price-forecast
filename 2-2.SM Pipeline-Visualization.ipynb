{
 "cells": [
  {
   "cell_type": "code",
   "execution_count": 1,
   "id": "54492411-030c-47c1-be61-8480d911d441",
   "metadata": {
    "tags": []
   },
   "outputs": [],
   "source": [
    "LOCAL_MODE = False"
   ]
  },
  {
   "cell_type": "markdown",
   "id": "84b92b83-c7aa-49b1-a1ed-a976c863c1a9",
   "metadata": {},
   "source": [
    "# 0. 환경설정"
   ]
  },
  {
   "cell_type": "code",
   "execution_count": 2,
   "id": "81535be4-39fc-4dd8-a95c-9d83f6fdd9c2",
   "metadata": {
    "tags": []
   },
   "outputs": [],
   "source": [
    "import argparse\n",
    "import os\n",
    "import requests\n",
    "import tempfile\n",
    "import subprocess, sys\n",
    "\n",
    "import pandas as pd\n",
    "import numpy as np\n",
    "from glob import glob\n",
    "import copy\n",
    "from collections import OrderedDict\n",
    "from pathlib import Path\n",
    "import joblib\n",
    "\n",
    "import logging\n",
    "import logging.handlers\n",
    "\n",
    "import json\n",
    "import base64\n",
    "import boto3\n",
    "import sagemaker\n",
    "from botocore.client import Config\n",
    "from botocore.exceptions import ClientError\n",
    "\n",
    "import time\n",
    "from datetime import datetime as dt\n",
    "import datetime\n",
    "from pytz import timezone\n",
    "from dateutil.relativedelta import *"
   ]
  },
  {
   "cell_type": "code",
   "execution_count": 3,
   "id": "98babf82-8a8e-4780-9ce2-4edabd92969a",
   "metadata": {
    "tags": []
   },
   "outputs": [
    {
     "name": "stdout",
     "output_type": "stream",
     "text": [
      "Start job time: 2023-03-21 12:55:18.465732\n"
     ]
    }
   ],
   "source": [
    "# 한국 시간\n",
    "KST = dt.today() + relativedelta(hours=9)\n",
    "KST_aday_before = KST - relativedelta(days=1) \n",
    "yyyy, mm, dd = str(KST_aday_before.year), str(KST_aday_before.month).zfill(2), str(KST_aday_before.day).zfill(2)\n",
    "print(f\"Start job time: {KST}\")"
   ]
  },
  {
   "cell_type": "code",
   "execution_count": 4,
   "id": "b79a1a68-de80-4877-a7ec-76b7b5823aec",
   "metadata": {
    "tags": []
   },
   "outputs": [],
   "source": [
    "def get_secret():\n",
    "    secret_name = \"dev/ForecastPalmOilPrice\"\n",
    "    region_name = \"ap-northeast-2\"\n",
    "    \n",
    "    # Create a Secrets Manager client\n",
    "    session = boto3.session.Session()\n",
    "    client = session.client(\n",
    "        service_name='secretsmanager',\n",
    "        region_name=region_name,\n",
    "    )\n",
    "\n",
    "    try:\n",
    "        get_secret_value_response = client.get_secret_value(\n",
    "            SecretId=secret_name\n",
    "        )\n",
    "    except ClientError as e:\n",
    "        if e.response['Error']['Code'] == 'DecryptionFailureException': # Secrets Manager can't decrypt the protected secret text using the provided KMS key.\n",
    "            raise e\n",
    "        elif e.response['Error']['Code'] == 'InternalServiceErrorException': # An error occurred on the server side.\n",
    "            raise e\n",
    "        elif e.response['Error']['Code'] == 'InvalidParameterException': # You provided an invalid value for a parameter.\n",
    "            raise e\n",
    "        elif e.response['Error']['Code'] == 'InvalidRequestException': # You provided a parameter value that is not valid for the current state of the resource.\n",
    "            raise e\n",
    "        elif e.response['Error']['Code'] == 'ResourceNotFoundException': # We can't find the resource that you asked for.\n",
    "            raise e\n",
    "    else:\n",
    "        if 'SecretString' in get_secret_value_response:\n",
    "            secret = get_secret_value_response['SecretString']\n",
    "            return secret\n",
    "        else:\n",
    "            decoded_binary_secret = base64.b64decode(get_secret_value_response['SecretBinary'])\n",
    "            return decoded_binary_secret\n",
    "\n",
    "keychain = json.loads(get_secret())\n",
    "ACCESS_KEY_ID = keychain['AWS_ACCESS_KEY_ID']\n",
    "ACCESS_SECRET_KEY = keychain['AWS_ACCESS_SECRET_KEY']\n",
    "\n",
    "BUCKET_NAME_USECASE = keychain['PROJECT_BUCKET_NAME']\n",
    "DATALAKE_BUCKET_NAME = keychain['DATALAKE_BUCKET_NAME']\n",
    "\n",
    "S3_PATH_REUTER = keychain['S3_PATH_REUTER']\n",
    "S3_PATH_WWO = keychain['S3_PATH_WWO']\n",
    "S3_PATH_STAGE = keychain['S3_PATH_STAGE']\n",
    "S3_PATH_GOLDEN = keychain['S3_PATH_GOLDEN']\n",
    "S3_PATH_TRAIN = keychain['S3_PATH_TRAIN']\n",
    "S3_PATH_FORECAST = keychain['S3_PATH_PREDICTION']\n",
    "\n",
    "region = 'ap-northeast-2'\n",
    "boto3_session = boto3.Session(aws_access_key_id = ACCESS_KEY_ID,\n",
    "                              aws_secret_access_key = ACCESS_SECRET_KEY,\n",
    "                              region_name = region)\n",
    "sm_session = sagemaker.Session(boto_session = boto3_session)\n",
    "\n",
    "s3_resource = boto3_session.resource('s3')\n",
    "palmoil_bucket = s3_resource.Bucket(BUCKET_NAME_USECASE)\n",
    "datalake_bucket = s3_resource.Bucket(DATALAKE_BUCKET_NAME)\n",
    "\n",
    "sm_client = boto3_session.client('sagemaker')\n",
    "qs_client = boto3_session.client('quicksight')\n",
    "s3_client = boto3_session.client('s3')\n",
    "sts_client = boto3_session.client(\"sts\")"
   ]
  },
  {
   "cell_type": "code",
   "execution_count": 49,
   "id": "a8f4a081-5216-488d-89e4-994dab68146d",
   "metadata": {
    "tags": []
   },
   "outputs": [
    {
     "name": "stdout",
     "output_type": "stream",
     "text": [
      "Overwriting src/v1.2/visualization.py\n"
     ]
    }
   ],
   "source": [
    "%%writefile src/v1.2/visualization.py\n",
    "\n",
    "import argparse\n",
    "import os\n",
    "import requests\n",
    "import tempfile\n",
    "import subprocess, sys\n",
    "import json\n",
    "\n",
    "import glob\n",
    "import pandas as pd\n",
    "import joblib\n",
    "import pickle\n",
    "import tarfile\n",
    "from io import StringIO, BytesIO\n",
    "\n",
    "import logging\n",
    "import logging.handlers\n",
    "\n",
    "import time\n",
    "import calendar\n",
    "from datetime import datetime as dt\n",
    "\n",
    "import boto3\n",
    "\n",
    "\n",
    "###############################\n",
    "######### util 함수 설정 ##########\n",
    "###############################\n",
    "def _get_logger():\n",
    "    loglevel = logging.DEBUG\n",
    "    l = logging.getLogger(__name__)\n",
    "    if not l.hasHandlers():\n",
    "        l.setLevel(loglevel)\n",
    "        logging.getLogger().addHandler(logging.StreamHandler(sys.stdout))        \n",
    "        l.handler_set = True\n",
    "    return l  \n",
    "logger = _get_logger()\n",
    "\n",
    "def get_secret():\n",
    "    secret_name = \"dev/ForecastPalmOilPrice\"\n",
    "    region_name = \"ap-northeast-2\"\n",
    "    \n",
    "    # Create a Secrets Manager client\n",
    "    session = boto3.session.Session()\n",
    "    client = session.client(\n",
    "        service_name='secretsmanager',\n",
    "        region_name=region_name,\n",
    "    )\n",
    "\n",
    "    try:\n",
    "        get_secret_value_response = client.get_secret_value(\n",
    "            SecretId=secret_name\n",
    "        )\n",
    "    except ClientError as e:\n",
    "        if e.response['Error']['Code'] == 'DecryptionFailureException': # Secrets Manager can't decrypt the protected secret text using the provided KMS key.\n",
    "            raise e\n",
    "        elif e.response['Error']['Code'] == 'InternalServiceErrorException': # An error occurred on the server side.\n",
    "            raise e\n",
    "        elif e.response['Error']['Code'] == 'InvalidParameterException': # You provided an invalid value for a parameter.\n",
    "            raise e\n",
    "        elif e.response['Error']['Code'] == 'InvalidRequestException': # You provided a parameter value that is not valid for the current state of the resource.\n",
    "            raise e\n",
    "        elif e.response['Error']['Code'] == 'ResourceNotFoundException': # We can't find the resource that you asked for.\n",
    "            raise e\n",
    "    else:\n",
    "        if 'SecretString' in get_secret_value_response:\n",
    "            secret = get_secret_value_response['SecretString']\n",
    "            return secret\n",
    "        else:\n",
    "            decoded_binary_secret = base64.b64decode(get_secret_value_response['SecretBinary'])\n",
    "            return decoded_binary_secret\n",
    "        \n",
    "\n",
    "def register_manifest(source_path,\n",
    "                      target_path,\n",
    "                      s3_client,\n",
    "                      BUCKET_NAME_USECASE):\n",
    "    template_json = {\"fileLocations\": [{\"URIPrefixes\": []}],\n",
    "                     \"globalUploadSettings\": {\n",
    "                         \"format\": \"CSV\",\n",
    "                         \"delimiter\": \",\"\n",
    "                     }}\n",
    "    paginator = s3_client.get_paginator('list_objects_v2')\n",
    "    response_iterator = paginator.paginate(Bucket = BUCKET_NAME_USECASE,\n",
    "                                           Prefix = source_path.split(BUCKET_NAME_USECASE+'/')[1]\n",
    "                                          )\n",
    "    for page in response_iterator:\n",
    "        logger.info(f\"\\n#### page {page}\")\n",
    "        for content in page['Contents']:\n",
    "            template_json['fileLocations'][0]['URIPrefixes'].append(f's3://{BUCKET_NAME_USECASE}/'+content['Key'])\n",
    "    with open(f'./manifest_testing.manifest', 'w') as f:\n",
    "        json.dump(template_json, f, indent=2)\n",
    "\n",
    "    res = s3_client.upload_file('./manifest_testing.manifest',\n",
    "                                BUCKET_NAME_USECASE,\n",
    "                                f\"{target_path.split(BUCKET_NAME_USECASE+'/')[1]}/visual_validation.manifest\")\n",
    "    return f\"{target_path.split(BUCKET_NAME_USECASE+'/')[1]}/visual_validation.manifest\"\n",
    "    \n",
    "\n",
    "def refresh_of_spice_datasets(user_account_id,\n",
    "                              qs_data_name,\n",
    "                              manifest_file_path,\n",
    "                              BUCKET_NAME_USECASE,\n",
    "                              qs_client):\n",
    "    \n",
    "    ds_list = qs_client.list_data_sources(AwsAccountId=user_account_id)\n",
    "    datasource_ids = [summary[\"DataSourceId\"] for summary in ds_list[\"DataSources\"] if qs_data_name in summary[\"Name\"]]    \n",
    "    for datasource_id in datasource_ids:\n",
    "        response = qs_client.update_data_source(\n",
    "            AwsAccountId=user_account_id,\n",
    "            DataSourceId=datasource_id,\n",
    "            Name=qs_data_name,\n",
    "            DataSourceParameters={\n",
    "                'S3Parameters': {\n",
    "                    'ManifestFileLocation': {\n",
    "                        'Bucket': BUCKET_NAME_USECASE,\n",
    "                        'Key':  manifest_file_path\n",
    "                    },\n",
    "                },\n",
    "            })\n",
    "        logger.info(f\"datasource_id:{datasource_id} 의 manifest를 업데이트: {response}\")\n",
    "    \n",
    "    res = qs_client.list_data_sets(AwsAccountId = user_account_id)\n",
    "    datasets_ids = [summary[\"DataSetId\"] for summary in res[\"DataSetSummaries\"] if qs_data_name in summary[\"Name\"]]\n",
    "    ingestion_ids = []\n",
    "\n",
    "    for dataset_id in datasets_ids:\n",
    "        try:\n",
    "            ingestion_id = str(calendar.timegm(time.gmtime()))\n",
    "            qs_client.create_ingestion(DataSetId = dataset_id,\n",
    "                                       IngestionId = ingestion_id,\n",
    "                                       AwsAccountId = user_account_id)\n",
    "            ingestion_ids.append(ingestion_id)\n",
    "        except Exception as e:\n",
    "            logger.info(e)\n",
    "            pass\n",
    "    for ingestion_id, dataset_id in zip(ingestion_ids, datasets_ids):\n",
    "        while True:\n",
    "            response = qs_client.describe_ingestion(DataSetId = dataset_id,\n",
    "                                                    IngestionId = ingestion_id,\n",
    "                                                    AwsAccountId = user_account_id)\n",
    "            if response['Ingestion']['IngestionStatus'] in ('INITIALIZED', 'QUEUED', 'RUNNING'):\n",
    "                time.sleep(5)     #change sleep time according to your dataset size\n",
    "            elif response['Ingestion']['IngestionStatus'] == 'COMPLETED':\n",
    "                print(\"refresh completed. RowsIngested {0}, RowsDropped {1}, IngestionTimeInSeconds {2}, IngestionSizeInBytes {3}\".format(\n",
    "                    response['Ingestion']['RowInfo']['RowsIngested'],\n",
    "                    response['Ingestion']['RowInfo']['RowsDropped'],\n",
    "                    response['Ingestion']['IngestionTimeInSeconds'],\n",
    "                    response['Ingestion']['IngestionSizeInBytes']))\n",
    "                break\n",
    "            else:\n",
    "                logger.info(\"refresh failed for {0}! - status {1}\".format(dataset_id,\n",
    "                                                                          response['Ingestion']['IngestionStatus']))\n",
    "                break\n",
    "    return response\n",
    "        \n",
    "def parse_args():\n",
    "    parser = argparse.ArgumentParser()\n",
    "    parser.add_argument(\"--source_path\", type=str, help='prediction_data')\n",
    "    parser.add_argument(\"--qs_data_name\", type=str, default='forecast_result')\n",
    "    parser.add_argument('--model_package_group_name', type=str, default = BUCKET_NAME_USECASE)  \n",
    "    return parser.parse_args()\n",
    "        \n",
    "if __name__=='__main__':\n",
    "    ############################################\n",
    "    ###### Secret Manager에서 키값 가져오기  #######\n",
    "    ########################################### \n",
    "    logger.info(f\"\\n### Loading Key value from Secret Manager\")\n",
    "    keychain = json.loads(get_secret())\n",
    "    ACCESS_KEY_ID = keychain['AWS_ACCESS_KEY_ID']\n",
    "    ACCESS_SECRET_KEY = keychain['AWS_ACCESS_SECRET_KEY']\n",
    "    BUCKET_NAME_USECASE = keychain['PROJECT_BUCKET_NAME']\n",
    "    DATALAKE_BUCKET_NAME = keychain['DATALAKE_BUCKET_NAME']\n",
    "    S3_PATH_REUTER = keychain['S3_PATH_REUTER']\n",
    "    S3_PATH_WWO = keychain['S3_PATH_WWO']\n",
    "    S3_PATH_STAGE = keychain['S3_PATH_STAGE']\n",
    "    S3_PATH_GOLDEN = keychain['S3_PATH_GOLDEN']\n",
    "    S3_PATH_TRAIN = keychain['S3_PATH_TRAIN']\n",
    "    S3_PATH_FORECAST = keychain['S3_PATH_PREDICTION']\n",
    "    \n",
    "    boto3_session = boto3.Session(aws_access_key_id = ACCESS_KEY_ID,\n",
    "                                  aws_secret_access_key = ACCESS_SECRET_KEY,\n",
    "                                  region_name = 'ap-northeast-2')\n",
    "    \n",
    "    s3_client = boto3_session.client('s3')\n",
    "    sm_client = boto3_session.client('sagemaker')\n",
    "    qs_client = boto3_session.client('quicksight')\n",
    "\n",
    "    sts_client = boto3_session.client(\"sts\")\n",
    "    user_account_id = sts_client.get_caller_identity()[\"Account\"]\n",
    "    ######################################\n",
    "    ## 커맨드 인자, Hyperparameters 처리 ##\n",
    "    ######################################  \n",
    "    logger.info(\"######### Argument Info ####################################\")\n",
    "    logger.info(\"### start training code\")    \n",
    "    logger.info(\"### Argument Info ###\")\n",
    "    args = parse_args()             \n",
    "    logger.info(f\"args.source_path: {args.source_path}\")\n",
    "    logger.info(f\"args.qs_data_name: {args.qs_data_name}\")\n",
    "    logger.info(f\"args.model_package_group_name: {args.model_package_group_name}\")\n",
    " \n",
    "    source_path = args.source_path\n",
    "    qs_data_name = args.qs_data_name    \n",
    "    model_package_group_name = args.model_package_group_name\n",
    "    \n",
    "    target_path = source_path.rsplit('/',1)[0]+'/manifest'\n",
    "    logger.info(f\"\\n#### target_path : {target_path}\")\n",
    "\n",
    "    logger.info(f\"\\n#### register_manifest\")\n",
    "    manifest_file_path = register_manifest(source_path, \n",
    "                                           target_path,\n",
    "                                           s3_client,\n",
    "                                           BUCKET_NAME_USECASE)\n",
    "    logger.info(f'### manifest_file_path : {manifest_file_path}')\n",
    "    logger.info(f\"\\n#### refresh_of_spice_datasets\")\n",
    "    res = refresh_of_spice_datasets(user_account_id,\n",
    "                                    qs_data_name,\n",
    "                                    manifest_file_path,\n",
    "                                    BUCKET_NAME_USECASE,\n",
    "                                    qs_client)\n",
    "    logger.info(f'### refresh_of_spice_datasets : {res}')"
   ]
  },
  {
   "cell_type": "code",
   "execution_count": 50,
   "id": "5e06b8b8-f376-470c-aca1-960fc5fbe30a",
   "metadata": {
    "tags": []
   },
   "outputs": [
    {
     "name": "stdout",
     "output_type": "stream",
     "text": [
      "upload: src/v1.2/visualization.py to s3://crude-palm-oil-prices-forecast/src/visualization.py\n"
     ]
    }
   ],
   "source": [
    "!aws s3 cp 'src/v1.2/visualization.py' 's3://crude-palm-oil-prices-forecast/src/visualization.py' --exclude \".ipynb_checkpoints*\""
   ]
  },
  {
   "cell_type": "code",
   "execution_count": 51,
   "id": "02432ec8-bcbb-4bb9-8e47-0544ccef2e3c",
   "metadata": {
    "tags": []
   },
   "outputs": [
    {
     "name": "stdout",
     "output_type": "stream",
     "text": [
      "Stored 'visualization_code' (str)\n"
     ]
    }
   ],
   "source": [
    "visualization_code = 's3://crude-palm-oil-prices-forecast/src/visualization.py'\n",
    "%store visualization_code"
   ]
  },
  {
   "cell_type": "code",
   "execution_count": 39,
   "id": "12c8f9d3-d976-4f6d-a685-9ade98b54ba3",
   "metadata": {
    "tags": []
   },
   "outputs": [
    {
     "name": "stdout",
     "output_type": "stream",
     "text": [
      "Stored variables and their in-db values:\n",
      "model_validation_code             -> 's3://crude-palm-oil-prices-forecast/src/model_val\n",
      "prediction_code                   -> 's3://crude-palm-oil-prices-forecast/src/predictio\n",
      "visualization_code                -> 's3://crude-palm-oil-prices-forecast/src/visualiza\n"
     ]
    }
   ],
   "source": [
    "%store"
   ]
  },
  {
   "cell_type": "code",
   "execution_count": 40,
   "id": "224de32f-be04-4de9-96c0-28dcf74849d5",
   "metadata": {
    "tags": []
   },
   "outputs": [],
   "source": [
    "%store -r"
   ]
  },
  {
   "cell_type": "markdown",
   "id": "48076217-25da-4928-95d6-7b901c548edc",
   "metadata": {},
   "source": [
    "# 1. 모델 빌딩 파이프라인 의 스텝(Step) 생성\n",
    "## 1) 모델 빌딩 파이프라인 변수 생성\n",
    "파이프라인에서 사용할 파이프라인 파라미터를 정의합니다. 파이프라인을 스케줄하고 실행할 때 파라미터를 이용하여 실행조건을 커스마이징할 수 있습니다. 파라미터를 이용하면 파이프라인 실행시마다 매번 파이프라인 정의를 수정하지 않아도 됩니다.\n",
    "\n",
    "지원되는 파라미터 타입은 다음과 같습니다:\n",
    "\n",
    "- ParameterString - 파이썬 타입에서 str\n",
    "- ParameterInteger - 파이썬 타입에서 int\n",
    "- ParameterFloat - 파이썬 타입에서 float\n",
    "이들 파라미터를 정의할 때 디폴트 값을 지정할 수 있으며 파이프라인 실행시 재지정할 수도 있습니다. 지정하는 디폴트 값은 파라미터 타입과 일치하여야 합니다.\n",
    "\n",
    "본 노트북에서 사용하는 파라미터는 다음과 같습니다.\n",
    "\n",
    "- processing_instance_type - 프로세싱 작업에서 사용할 ml.* 인스턴스 타입\n",
    "- processing_instance_count - 프로세싱 작업에서 사용할 인스턴스 개수\n",
    "- training_instance_type - 학습작업에서 사용할 ml.* 인스턴스 타입\n",
    "- model_approval_status - 학습된 모델을 CI/CD를 목적으로 등록할 때의 승인 상태 (디폴트는 \"PendingManualApproval\")\n",
    "- input_data - 입력데이터에 대한 S3 버킷 URI\n",
    "파이프라인의 각 스텝에서 사용할 변수를 파라미터 변수로서 정의 합니다."
   ]
  },
  {
   "cell_type": "markdown",
   "id": "fba6ac9a-4cc8-40c9-a806-640a68491491",
   "metadata": {},
   "source": [
    "# 2. 파이프라인 정의 및 실행"
   ]
  },
  {
   "cell_type": "code",
   "execution_count": 39,
   "id": "df8b63ae-e7fb-47ca-a77e-1c8166c2d098",
   "metadata": {
    "tags": []
   },
   "outputs": [],
   "source": [
    "from sagemaker.workflow.parameters import (ParameterInteger,\n",
    "                                           ParameterString,\n",
    "                                          )\n",
    "\n",
    "visualization_instance_type = ParameterString(\n",
    "    name = \"VisualizationInstanceType\",\n",
    "    default_value = \"ml.m5.xlarge\"\n",
    ")\n",
    "visualization_instance_count = ParameterInteger(\n",
    "    name = \"VisualizationInstanceCount\",\n",
    "    default_value = 1\n",
    ")"
   ]
  },
  {
   "cell_type": "code",
   "execution_count": 43,
   "id": "19f465bf-1e81-4b04-a4cc-cf2d8bb750e3",
   "metadata": {
    "tags": []
   },
   "outputs": [
    {
     "data": {
      "text/plain": [
       "'predicted-data/2023/03/19/1679292475.0/manifest'"
      ]
     },
     "execution_count": 43,
     "metadata": {},
     "output_type": "execute_result"
    }
   ],
   "source": [
    "(prediction_input_path.rsplit('/',1)[0]+'/manifest').split(BUCKET_NAME_USECASE+'/')[1]"
   ]
  },
  {
   "cell_type": "code",
   "execution_count": 9,
   "id": "86a6f103-5983-4375-bb88-3bc8b6dd8436",
   "metadata": {
    "tags": []
   },
   "outputs": [
    {
     "name": "stdout",
     "output_type": "stream",
     "text": [
      "s3://crude-palm-oil-prices-forecast/predicted-data/2023/03/20/1679292475.0/result\n"
     ]
    }
   ],
   "source": [
    "prediction_input_path = f\"s3://{BUCKET_NAME_USECASE}/{S3_PATH_FORECAST}/{yyyy}/{mm}/{dd}/1679292475.0/result\"\n",
    "print(prediction_input_path)\n",
    "\n",
    "\n",
    "# print(prediction_input_path.rsplit('/',1)[0]+'/manifest'.split(BUCKET_NAME_USECASE+'/')[1])"
   ]
  },
  {
   "cell_type": "markdown",
   "id": "19daa987-bf59-43fb-bdbb-d565281b69e1",
   "metadata": {
    "tags": []
   },
   "source": [
    "## 1) 스텝정의"
   ]
  },
  {
   "cell_type": "markdown",
   "id": "aa05730c-afab-4b71-80b0-0eef9f61ec4a",
   "metadata": {},
   "source": [
    "### (2) ScriptProcessor 진행"
   ]
  },
  {
   "cell_type": "code",
   "execution_count": 52,
   "id": "e77c5fb0-9f70-4432-bbed-316ff2063d68",
   "metadata": {
    "tags": []
   },
   "outputs": [
    {
     "name": "stderr",
     "output_type": "stream",
     "text": [
      "The input argument instance_type of function (sagemaker.image_uris.retrieve) is a pipeline variable (<class 'sagemaker.workflow.parameters.ParameterString'>), which is not allowed. The default_value of this Parameter object will be used to override it. Please make sure the default_value is valid.\n"
     ]
    }
   ],
   "source": [
    "from sagemaker.sklearn.processing import SKLearnProcessor\n",
    "from sagemaker import get_execution_role\n",
    "\n",
    "skframework_version = \"1.0-1\"#\"0.23-1\"\n",
    "role = sagemaker.get_execution_role()\n",
    "\n",
    "skprocessor_visualization = SKLearnProcessor(\n",
    "    framework_version = skframework_version,\n",
    "    instance_type = visualization_instance_type,\n",
    "    instance_count = visualization_instance_count,\n",
    "    base_job_name = f\"{BUCKET_NAME_USECASE}(Visualization)\",\n",
    "    role = role,\n",
    ")"
   ]
  },
  {
   "cell_type": "code",
   "execution_count": 22,
   "id": "32141108-c830-467e-81ef-48fe5616cb17",
   "metadata": {
    "tags": []
   },
   "outputs": [
    {
     "data": {
      "text/plain": [
       "'s3://crude-palm-oil-prices-forecast/predicted-data/2023/03/20/1679292475.0/result'"
      ]
     },
     "execution_count": 22,
     "metadata": {},
     "output_type": "execute_result"
    }
   ],
   "source": [
    "prediction_input_path"
   ]
  },
  {
   "cell_type": "code",
   "execution_count": 25,
   "id": "22fd5665-9321-4a38-a4d1-3edbcabaf4b1",
   "metadata": {
    "tags": []
   },
   "outputs": [
    {
     "name": "stdout",
     "output_type": "stream",
     "text": [
      "2023-03-22 23:22:16       4356 prediction_result.csv\n"
     ]
    }
   ],
   "source": [
    "!aws s3 ls 's3://crude-palm-oil-prices-forecast/predicted-data/2023/03/22/1679559317.0/result/'\n",
    "# s3://crude-palm-oil-prices-forecast/predicted-data/2023/03/22/1679559317.0/manifest/visual_validation.manifest"
   ]
  },
  {
   "cell_type": "code",
   "execution_count": 26,
   "id": "f379dbd8-15fc-48d5-b251-fdbad5c126f4",
   "metadata": {
    "tags": []
   },
   "outputs": [],
   "source": [
    "prediction_input_path = 's3://crude-palm-oil-prices-forecast/predicted-data/2023/03/22/1679559317.0/result/'"
   ]
  },
  {
   "cell_type": "code",
   "execution_count": null,
   "id": "91624431-f6ad-4c82-919a-0f4051f7f9f7",
   "metadata": {},
   "outputs": [],
   "source": []
  },
  {
   "cell_type": "code",
   "execution_count": 53,
   "id": "76d55b47-0219-4c29-88ad-3379b066424a",
   "metadata": {
    "tags": []
   },
   "outputs": [],
   "source": [
    "from sagemaker.processing import ProcessingInput, ProcessingOutput\n",
    "from sagemaker.workflow.steps import ProcessingStep\n",
    "\n",
    "step_visualization = ProcessingStep(\n",
    "    name = f\"{BUCKET_NAME_USECASE}-Visualization\",\n",
    "    processor = skprocessor_visualization,\n",
    "    inputs = [],\n",
    "    outputs = [],\n",
    "    job_arguments = [\"--source_path\", prediction_input_path,\n",
    "                     \"--qs_data_name\", 'forecast_result',\n",
    "                     \"--model_package_group_name\", BUCKET_NAME_USECASE], \n",
    "    code = visualization_code,\n",
    ")"
   ]
  },
  {
   "cell_type": "markdown",
   "id": "1bbaf87a-1928-4c66-a610-9b9253418ab3",
   "metadata": {
    "tags": []
   },
   "source": [
    "### 1) 스텝 정의"
   ]
  },
  {
   "cell_type": "markdown",
   "id": "d93bab7b-2164-4783-b3e0-ce403ba46742",
   "metadata": {},
   "source": [
    "### 1) 파이프라인 실행"
   ]
  },
  {
   "cell_type": "code",
   "execution_count": 54,
   "id": "81969598-17df-42d6-a5dd-d1eb846295e0",
   "metadata": {
    "tags": []
   },
   "outputs": [],
   "source": [
    "from sagemaker.workflow.pipeline import Pipeline\n",
    "from sagemaker.workflow.steps import ProcessingStep\n",
    "\n",
    "pipeline = Pipeline(name = BUCKET_NAME_USECASE,\n",
    "                    parameters = [\n",
    "                        visualization_instance_type,        \n",
    "                        visualization_instance_count,\n",
    "                    ],\n",
    "                    steps=[step_visualization]\n",
    ")"
   ]
  },
  {
   "cell_type": "code",
   "execution_count": 55,
   "id": "76430e25-1a89-407b-ad21-c8ec5bbac6cd",
   "metadata": {
    "tags": []
   },
   "outputs": [
    {
     "data": {
      "text/plain": [
       "{'Version': '2020-12-01',\n",
       " 'Metadata': {},\n",
       " 'Parameters': [{'Name': 'VisualizationInstanceType',\n",
       "   'Type': 'String',\n",
       "   'DefaultValue': 'ml.m5.xlarge'},\n",
       "  {'Name': 'VisualizationInstanceCount',\n",
       "   'Type': 'Integer',\n",
       "   'DefaultValue': 1}],\n",
       " 'PipelineExperimentConfig': {'ExperimentName': {'Get': 'Execution.PipelineName'},\n",
       "  'TrialName': {'Get': 'Execution.PipelineExecutionId'}},\n",
       " 'Steps': [{'Name': 'crude-palm-oil-prices-forecast-Visualization',\n",
       "   'Type': 'Processing',\n",
       "   'Arguments': {'ProcessingResources': {'ClusterConfig': {'InstanceType': {'Get': 'Parameters.VisualizationInstanceType'},\n",
       "      'InstanceCount': {'Get': 'Parameters.VisualizationInstanceCount'},\n",
       "      'VolumeSizeInGB': 30}},\n",
       "    'AppSpecification': {'ImageUri': '366743142698.dkr.ecr.ap-northeast-2.amazonaws.com/sagemaker-scikit-learn:1.0-1-cpu-py3',\n",
       "     'ContainerArguments': ['--source_path',\n",
       "      's3://crude-palm-oil-prices-forecast/predicted-data/2023/03/22/1679559317.0/result/',\n",
       "      '--qs_data_name',\n",
       "      'forecast_result',\n",
       "      '--model_package_group_name',\n",
       "      'crude-palm-oil-prices-forecast'],\n",
       "     'ContainerEntrypoint': ['python3',\n",
       "      '/opt/ml/processing/input/code/visualization.py']},\n",
       "    'RoleArn': 'arn:aws:iam::108594546720:role/service-role/AmazonSageMaker-ExecutionRole-20220901T154875',\n",
       "    'ProcessingInputs': [{'InputName': 'code',\n",
       "      'AppManaged': False,\n",
       "      'S3Input': {'S3Uri': 's3://crude-palm-oil-prices-forecast/src/visualization.py',\n",
       "       'LocalPath': '/opt/ml/processing/input/code',\n",
       "       'S3DataType': 'S3Prefix',\n",
       "       'S3InputMode': 'File',\n",
       "       'S3DataDistributionType': 'FullyReplicated',\n",
       "       'S3CompressionType': 'None'}}]}}]}"
      ]
     },
     "execution_count": 55,
     "metadata": {},
     "output_type": "execute_result"
    }
   ],
   "source": [
    "import json\n",
    "\n",
    "definition = json.loads(pipeline.definition())\n",
    "definition"
   ]
  },
  {
   "cell_type": "code",
   "execution_count": 56,
   "id": "028b7c73-408a-4e8f-804f-f2fe5208fd8b",
   "metadata": {
    "tags": []
   },
   "outputs": [
    {
     "name": "stdout",
     "output_type": "stream",
     "text": [
      "CPU times: user 587 ms, sys: 4.62 ms, total: 592 ms\n",
      "Wall time: 4min 34s\n"
     ]
    }
   ],
   "source": [
    "%%time\n",
    "start = time.time()\n",
    "pipeline.upsert(role_arn=sagemaker.get_execution_role())\n",
    "execution = pipeline.start()\n",
    "execution.wait() #실행이 완료될 때까지 기다린다.\n",
    "end = time.time()"
   ]
  },
  {
   "cell_type": "code",
   "execution_count": 57,
   "id": "74b72d8b-5ac2-4316-b2f4-9c9b22611e9a",
   "metadata": {
    "tags": []
   },
   "outputs": [
    {
     "name": "stdout",
     "output_type": "stream",
     "text": [
      "visualization 시간 : 274.0 sec\n",
      "visualization 시간 : 4.6 min\n"
     ]
    }
   ],
   "source": [
    "print(f\"visualization 시간 : {end - start:.1f} sec\")\n",
    "print(f\"visualization 시간 : {((end - start)/60):.1f} min\")"
   ]
  },
  {
   "cell_type": "markdown",
   "id": "abadc1ed-bee6-4a4e-9177-d53c77620d80",
   "metadata": {},
   "source": [
    "[2022년 11월 29일]\n",
    "- prediction 시간 : 423.1 sec\n",
    "- prediction 시간 : 7.1 min"
   ]
  },
  {
   "cell_type": "code",
   "execution_count": 57,
   "id": "0185ef7f-af33-479b-a24c-a012f132c445",
   "metadata": {
    "tags": []
   },
   "outputs": [
    {
     "data": {
      "text/plain": [
       "{'PipelineArn': 'arn:aws:sagemaker:ap-northeast-2:108594546720:pipeline/crude-palm-oil-prices-forecast',\n",
       " 'PipelineExecutionArn': 'arn:aws:sagemaker:ap-northeast-2:108594546720:pipeline/crude-palm-oil-prices-forecast/execution/03tvfcaaprlz',\n",
       " 'PipelineExecutionDisplayName': 'execution-1677737728133',\n",
       " 'PipelineExecutionStatus': 'Succeeded',\n",
       " 'PipelineExperimentConfig': {'ExperimentName': 'crude-palm-oil-prices-forecast',\n",
       "  'TrialName': '03tvfcaaprlz'},\n",
       " 'CreationTime': datetime.datetime(2023, 3, 2, 6, 15, 27, 687000, tzinfo=tzlocal()),\n",
       " 'LastModifiedTime': datetime.datetime(2023, 3, 2, 6, 26, 57, 655000, tzinfo=tzlocal()),\n",
       " 'CreatedBy': {},\n",
       " 'LastModifiedBy': {},\n",
       " 'ResponseMetadata': {'RequestId': '78e05f6b-51a4-40ce-9736-816ef89db047',\n",
       "  'HTTPStatusCode': 200,\n",
       "  'HTTPHeaders': {'x-amzn-requestid': '78e05f6b-51a4-40ce-9736-816ef89db047',\n",
       "   'content-type': 'application/x-amz-json-1.1',\n",
       "   'content-length': '541',\n",
       "   'date': 'Thu, 02 Mar 2023 06:28:05 GMT'},\n",
       "  'RetryAttempts': 0}}"
      ]
     },
     "execution_count": 57,
     "metadata": {},
     "output_type": "execute_result"
    }
   ],
   "source": [
    "execution.describe()"
   ]
  },
  {
   "cell_type": "code",
   "execution_count": 58,
   "id": "fd8e4b95-c006-4732-8fae-888c3eb8a528",
   "metadata": {
    "tags": []
   },
   "outputs": [
    {
     "data": {
      "text/plain": [
       "[{'StepName': 'crude-palm-oil-prices-forecast-Visualization',\n",
       "  'StartTime': datetime.datetime(2023, 3, 2, 6, 15, 29, 846000, tzinfo=tzlocal()),\n",
       "  'EndTime': datetime.datetime(2023, 3, 2, 6, 26, 57, 79000, tzinfo=tzlocal()),\n",
       "  'StepStatus': 'Succeeded',\n",
       "  'AttemptCount': 0,\n",
       "  'Metadata': {'ProcessingJob': {'Arn': 'arn:aws:sagemaker:ap-northeast-2:108594546720:processing-job/pipelines-03tvfcaaprlz-crude-palm-oil-price-dbgzcq8j0f'}}}]"
      ]
     },
     "execution_count": 58,
     "metadata": {},
     "output_type": "execute_result"
    }
   ],
   "source": [
    "execution.list_steps()"
   ]
  },
  {
   "cell_type": "code",
   "execution_count": null,
   "id": "44b5f240-3e7c-430e-b440-52b5996f0d01",
   "metadata": {},
   "outputs": [],
   "source": []
  },
  {
   "cell_type": "code",
   "execution_count": null,
   "id": "a0f8593e-6d7c-4a4b-9d8d-95696a46ec10",
   "metadata": {},
   "outputs": [],
   "source": [
    "model_approval_status = ParameterString(\n",
    "    name=\"ModelApprovalStatus\", default_value=\"PendingManualApproval\"\n",
    ")"
   ]
  }
 ],
 "metadata": {
  "kernelspec": {
   "display_name": "conda_python3",
   "language": "python",
   "name": "conda_python3"
  },
  "language_info": {
   "codemirror_mode": {
    "name": "ipython",
    "version": 3
   },
   "file_extension": ".py",
   "mimetype": "text/x-python",
   "name": "python",
   "nbconvert_exporter": "python",
   "pygments_lexer": "ipython3",
   "version": "3.10.8"
  }
 },
 "nbformat": 4,
 "nbformat_minor": 5
}
