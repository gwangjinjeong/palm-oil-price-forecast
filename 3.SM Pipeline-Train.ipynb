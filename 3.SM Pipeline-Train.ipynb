{
 "cells": [
  {
   "cell_type": "markdown",
   "id": "84b92b83-c7aa-49b1-a1ed-a976c863c1a9",
   "metadata": {},
   "source": [
    "# 0. 환경설정"
   ]
  },
  {
   "cell_type": "code",
   "execution_count": 1,
   "id": "81535be4-39fc-4dd8-a95c-9d83f6fdd9c2",
   "metadata": {},
   "outputs": [],
   "source": [
    "import argparse\n",
    "import os\n",
    "import requests\n",
    "import tempfile\n",
    "import subprocess, sys\n",
    "\n",
    "import pandas as pd\n",
    "import numpy as np\n",
    "from glob import glob\n",
    "import copy\n",
    "from collections import OrderedDict\n",
    "from pathlib import Path\n",
    "import joblib\n",
    "\n",
    "from sklearn.compose import ColumnTransformer\n",
    "from sklearn.impute import SimpleImputer\n",
    "from sklearn.pipeline import Pipeline\n",
    "from sklearn.preprocessing import StandardScaler, MinMaxScaler, OneHotEncoder\n",
    "\n",
    "import logging\n",
    "import logging.handlers\n",
    "\n",
    "import json\n",
    "import base64\n",
    "import boto3\n",
    "import sagemaker\n",
    "from botocore.client import Config\n",
    "from botocore.exceptions import ClientError\n",
    "\n",
    "import time\n",
    "from datetime import datetime as dt\n",
    "import datetime\n",
    "from pytz import timezone\n",
    "from dateutil.relativedelta import *"
   ]
  },
  {
   "cell_type": "code",
   "execution_count": 2,
   "id": "658e91e1-944c-4fb1-9c04-474d982ba91a",
   "metadata": {},
   "outputs": [],
   "source": [
    "%store -r"
   ]
  },
  {
   "cell_type": "code",
   "execution_count": 3,
   "id": "203e2960-c6b7-4e05-a5e1-f7caecfcdb10",
   "metadata": {},
   "outputs": [
    {
     "name": "stdout",
     "output_type": "stream",
     "text": [
      "Stored variables and their in-db values:\n",
      "bucket                                  -> 'palm-oil-price-forecast'\n",
      "preproc_data_dir                        -> 's3://palm-oil-price-forecast/golden-data/2022/12/\n",
      "preprocessing_code                      -> 'src/v1.1/preprocessing.py'\n",
      "project_prefix                          -> 'palm-oil-price-forecast'\n",
      "stage_data_uri                          -> 's3://palm-oil-price-forecast/staged-data'\n",
      "test_data_uri                           -> 's3://palm-oil-price-forecast/golden-data/2022/12/\n",
      "test_preproc_dir_artifact1              -> 's3://palm-oil-price-forecast/golden-data/2022/12/\n",
      "test_preproc_dir_artifact2              -> 's3://palm-oil-price-forecast/golden-data/2022/12/\n",
      "test_preproc_dir_artifact3              -> 's3://palm-oil-price-forecast/golden-data/2022/12/\n",
      "test_preproc_dir_artifact4              -> 's3://palm-oil-price-forecast/golden-data/2022/12/\n",
      "test_preproc_dir_artifact5              -> 's3://palm-oil-price-forecast/golden-data/2022/12/\n",
      "train_data_uri                          -> 's3://palm-oil-price-forecast/golden-data/2022/12/\n",
      "train_preproc_dir_artifact1             -> 's3://palm-oil-price-forecast/golden-data/2022/12/\n",
      "train_preproc_dir_artifact2             -> 's3://palm-oil-price-forecast/golden-data/2022/12/\n",
      "train_preproc_dir_artifact3             -> 's3://palm-oil-price-forecast/golden-data/2022/12/\n",
      "train_preproc_dir_artifact4             -> 's3://palm-oil-price-forecast/golden-data/2022/12/\n",
      "train_preproc_dir_artifact5             -> 's3://palm-oil-price-forecast/golden-data/2022/12/\n"
     ]
    }
   ],
   "source": [
    "%store"
   ]
  },
  {
   "cell_type": "code",
   "execution_count": 4,
   "id": "b79a1a68-de80-4877-a7ec-76b7b5823aec",
   "metadata": {},
   "outputs": [],
   "source": [
    "def get_secret():\n",
    "    # See https://docs.aws.amazon.com/secretsmanager/latest/apireference/API_GetSecretValue.html\n",
    "    secret_name = \"prod/sagemaker\"\n",
    "    region_name = \"ap-northeast-2\"\n",
    "    \n",
    "    # Create a Secrets Manager client\n",
    "    session = boto3.session.Session()\n",
    "    client = session.client(\n",
    "        service_name='secretsmanager',\n",
    "        region_name=region_name\n",
    "    )\n",
    "    try:\n",
    "        get_secret_value_response = client.get_secret_value(\n",
    "            SecretId='prod/sagemaker',\n",
    "        )\n",
    "    except ClientError as e:\n",
    "        if e.response['Error']['Code'] == 'DecryptionFailureException': # Secrets Manager can't decrypt the protected secret text using the provided KMS key.\n",
    "            raise e\n",
    "        elif e.response['Error']['Code'] == 'InternalServiceErrorException': # An error occurred on the server side.\n",
    "            raise e\n",
    "        elif e.response['Error']['Code'] == 'InvalidParameterException': # You provided an invalid value for a parameter.\n",
    "            raise e\n",
    "        elif e.response['Error']['Code'] == 'InvalidRequestException': # You provided a parameter value that is not valid for the current state of the resource.\n",
    "            raise e\n",
    "        elif e.response['Error']['Code'] == 'ResourceNotFoundException': # We can't find the resource that you asked for.\n",
    "            raise e\n",
    "    else:\n",
    "        if 'SecretString' in get_secret_value_response:\n",
    "            secret = get_secret_value_response['SecretString']\n",
    "            return secret\n",
    "        else:\n",
    "            decoded_binary_secret = base64.b64decode(get_secret_value_response['SecretBinary'])\n",
    "            return decoded_binary_secret\n",
    "\n",
    "keychain = json.loads(get_secret())\n",
    "ACCESS_KEY_ID = keychain['ACCESS_KEY_ID_ent']\n",
    "ACCESS_SECRET_KEY = keychain['ACCESS_SECRET_KEY_ent']\n",
    "\n",
    "BUCKET_NAME_USECASE = keychain['BUCKET_NAME_USECASE_ent']\n",
    "S3_PATH_STAGE = keychain['S3_PATH_STAGE']\n",
    "S3_PATH_GOLDEN = keychain['S3_PATH_GOLDEN']\n",
    "S3_PATH_TRAIN = keychain['S3_PATH_TRAIN']\n",
    "S3_PATH_log = keychain['S3_PATH_LOG']\n",
    "S3_PATH_FORECAST = keychain['S3_PATH_FORECAST']\n",
    "\n",
    "boto3_session = boto3.Session(ACCESS_KEY_ID, ACCESS_SECRET_KEY)\n",
    "sm_session = sagemaker.Session(boto_session = boto3_session)\n",
    "region = boto3_session.region_name\n",
    "\n",
    "s3_resource = boto3_session.resource('s3')\n",
    "bucket = s3_resource.Bucket(BUCKET_NAME_USECASE)\n",
    "s3_client = boto3_session.client('s3')\n",
    "sm_client = boto3.client('sagemaker',\n",
    "                         aws_access_key_id = ACCESS_KEY_ID,\n",
    "                         aws_secret_access_key = ACCESS_SECRET_KEY,\n",
    "                         region_name = 'ap-northeast-2')"
   ]
  },
  {
   "cell_type": "code",
   "execution_count": 7,
   "id": "a8f4a081-5216-488d-89e4-994dab68146d",
   "metadata": {},
   "outputs": [
    {
     "name": "stdout",
     "output_type": "stream",
     "text": [
      "Overwriting src/v1.1/train.py\n"
     ]
    }
   ],
   "source": [
    "%%writefile src/v1.1/train.py\n",
    "\n",
    "import os\n",
    "import sys\n",
    "import pickle\n",
    "\n",
    "import argparse\n",
    "import pandas as pd\n",
    "import json\n",
    "\n",
    "from autogluon.timeseries import TimeSeriesPredictor, TimeSeriesDataFrame\n",
    "from autogluon.timeseries.splitter import MultiWindowSplitter\n",
    "\n",
    "import joblib # from sklearn.externals import joblib\n",
    "\n",
    "import logging\n",
    "import logging.handlers\n",
    "\n",
    "from dateutil.relativedelta import *\n",
    "from datetime import datetime as dt\n",
    "\n",
    "KST = dt.today() + relativedelta(hours=9)\n",
    "\n",
    "###############################\n",
    "######### util 함수 설정 ##########\n",
    "###############################\n",
    "def _get_logger():\n",
    "    '''\n",
    "    로깅을 위해 파이썬 로거를 사용\n",
    "    # https://stackoverflow.com/questions/17745914/python-logging-module-is-printing-lines-multiple-times\n",
    "    '''\n",
    "    loglevel = logging.DEBUG\n",
    "    l = logging.getLogger(__name__)\n",
    "    if not l.hasHandlers():\n",
    "        l.setLevel(loglevel)\n",
    "        logging.getLogger().addHandler(logging.StreamHandler(sys.stdout))        \n",
    "        l.handler_set = True\n",
    "    return l  \n",
    "logger = _get_logger()\n",
    "\n",
    "def parse_args():\n",
    "    parser = argparse.ArgumentParser()\n",
    "\n",
    "    parser.add_argument('--output_data_dir', type = str, default = os.environ.get('SM_OUTPUT_DATA_DIR'))\n",
    "    parser.add_argument(\"--model_dir\", type=str, default=os.environ[\"SM_MODEL_DIR\"])\n",
    "    parser.add_argument(\"--train_dir\", type=str, default=os.environ[\"SM_CHANNEL_TRAIN\"])\n",
    "    parser.add_argument(\"--test_dir\", type=str, default=os.environ[\"SM_CHANNEL_TEST\"])\n",
    "    parser.add_argument('--item', type = str, default = 'FCPOc3')\n",
    "    parser.add_argument('--target', type = str, default = 'y')\n",
    "    parser.add_argument('--metric', type = str, default = 'MAPE')    \n",
    "    parser.add_argument('--quality', type = str, default = 'low_quality')    \n",
    "    \n",
    "    \n",
    "    return parser.parse_args()\n",
    "\n",
    "if __name__ == \"__main__\":\n",
    "    ###################################\n",
    "    ## 커맨드 인자, Hyperparameters 처리 ##\n",
    "    ###################################        \n",
    "\n",
    "    logger.info(f\"### start training code\")    \n",
    "    args = parse_args()\n",
    "\n",
    "    logger.info(\"### Argument Info ###\")\n",
    "    logger.info(f\"args.output_data_dir: {args.output_data_dir}\")    \n",
    "    logger.info(f\"args.model_dir: {args.model_dir}\")        \n",
    "    logger.info(f\"args.train_dir: {args.train_dir}\")   \n",
    "    logger.info(f\"args.test_dir: {args.test_dir}\")   \n",
    "    logger.info(f\"args.item: {args.item}\")   \n",
    "    logger.info(f\"args.target: {args.target}\")    \n",
    "    logger.info(f\"args.metric: {args.metric}\")   \n",
    "    logger.info(f\"args.quality: {args.quality}\")   \n",
    "    \n",
    "    output_data_dir = args.output_data_dir\n",
    "    model_dir = args.model_dir\n",
    "    train_dir = args.train_dir\n",
    "    test_dir = args.test_dir\n",
    "    item = args.item\n",
    "    target = args.target\n",
    "    metric = args.metric\n",
    "    quality = args.quality\n",
    "    logger.info(f\"{os.listdir(train_dir)}\")\n",
    "   \n",
    "    logger.info(\"### Reading input data\")\n",
    "    df_train= pd.read_csv(os.path.join(train_dir, 'train_fold1.csv'))\n",
    "    df_test = pd.read_csv(os.path.join(test_dir, 'test_fold1.csv'))        \n",
    "    \n",
    "    logger.info(\"### Convert TimeSeriesDataFrame\")\n",
    "    df_train.loc[:, \"ds\"] = pd.to_datetime(df_train.loc[:, \"ds\"])\n",
    "    df_test.loc[:, \"ds\"] = pd.to_datetime(df_test.loc[:, \"ds\"])\n",
    "    tdf_train = TimeSeriesDataFrame.from_data_frame(\n",
    "        df_train,\n",
    "        id_column=\"ric\",\n",
    "        timestamp_column=\"ds\",\n",
    "    )\n",
    "    tdf_test = TimeSeriesDataFrame.from_data_frame(\n",
    "        df_test,\n",
    "        id_column=\"ric\",\n",
    "        timestamp_column=\"ds\",\n",
    "    )\n",
    "\n",
    "    logger.info(\"### Show the range of date for training and test\")    \n",
    "    logger.info('Item:\\t', item)\n",
    "    logger.info('Target:\\t', target)   \n",
    "    logger.info('Train:\\t',tdf_train.loc[item][target].index.min(),'~',tdf_train.loc[item][target].index.max())\n",
    "    logger.info('Test:\\t',tdf_test.loc[item][target].index.min(),'~',tdf_test.loc[item][target].index.max())\n",
    "    logger.info('The number of test data:',len(tdf_test.loc[item][target]))\n",
    "    \n",
    "    logger.info(\"### Training AutoGluon Model\")    \n",
    "    predictor = TimeSeriesPredictor(\n",
    "        path = model_dir,\n",
    "        target = target,\n",
    "        prediction_length = len(tdf_test.loc[item][target]),\n",
    "        eval_metric = metric,\n",
    "    )\n",
    "    predictor.fit(\n",
    "        train_data = tdf_train,\n",
    "        presets = quality\n",
    "    )    \n",
    "    logger.info(\"Saving model to {}\".format(model_dir))\n",
    "    \n",
    "    # 원래라면 Validation dataset이 input으로 들어와서 leaderboard와 prediction을 해야한다.\n",
    "    # 근데, 여기서는 아니다. 이번 사이클에서는 test data까지 모두 산출한다음에 넣는것으로 진행하자.\n",
    "    predictor_leaderboard = predictor.leaderboard(tdf_test, silent = True)\n",
    "    predictor_leaderboard = predictor_leaderboard.sort_values(by = ['score_val', 'score_test'],\n",
    "                                                              ascending = False)\n",
    "    predictor_leaderboard.to_csv(os.path.join(output_data_dir,'leaderboard.csv'), index = False)\n",
    "                          \n",
    "    logger.info(f\"predictor_leaderboard sample: head(2) \\n {predictor_leaderboard.head(2)}\")\n",
    "    prediction_ag_model = predictor.predict(tdf_train)\n",
    "    logger.info(f\"prediction_ag_model sample: head(2) \\n {prediction_ag_model.head(2)}\")\n",
    "    \n",
    "    prediction_result = pd.merge(tdf_test.loc['FCPOc3']['y'], prediction_ag_model.loc['FCPOc3'],\n",
    "                                 left_index = True, right_index = True, how = 'left')\n",
    "    prediction_result.to_csv(f'{output_dir}/prediction_result.csv')                          "
   ]
  },
  {
   "cell_type": "code",
   "execution_count": 8,
   "id": "12c8f9d3-d976-4f6d-a685-9ade98b54ba3",
   "metadata": {},
   "outputs": [
    {
     "name": "stdout",
     "output_type": "stream",
     "text": [
      "Stored variables and their in-db values:\n",
      "bucket                                  -> 'palm-oil-price-forecast'\n",
      "preproc_data_dir                        -> 's3://palm-oil-price-forecast/golden-data/2022/12/\n",
      "preprocessing_code                      -> 'src/v1.1/preprocessing.py'\n",
      "project_prefix                          -> 'palm-oil-price-forecast'\n",
      "stage_data_uri                          -> 's3://palm-oil-price-forecast/staged-data'\n",
      "test_data_uri                           -> 's3://palm-oil-price-forecast/golden-data/2022/12/\n",
      "test_preproc_dir_artifact1              -> 's3://palm-oil-price-forecast/golden-data/2022/12/\n",
      "test_preproc_dir_artifact2              -> 's3://palm-oil-price-forecast/golden-data/2022/12/\n",
      "test_preproc_dir_artifact3              -> 's3://palm-oil-price-forecast/golden-data/2022/12/\n",
      "test_preproc_dir_artifact4              -> 's3://palm-oil-price-forecast/golden-data/2022/12/\n",
      "test_preproc_dir_artifact5              -> 's3://palm-oil-price-forecast/golden-data/2022/12/\n",
      "train_data_uri                          -> 's3://palm-oil-price-forecast/golden-data/2022/12/\n",
      "train_preproc_dir_artifact1             -> 's3://palm-oil-price-forecast/golden-data/2022/12/\n",
      "train_preproc_dir_artifact2             -> 's3://palm-oil-price-forecast/golden-data/2022/12/\n",
      "train_preproc_dir_artifact3             -> 's3://palm-oil-price-forecast/golden-data/2022/12/\n",
      "train_preproc_dir_artifact4             -> 's3://palm-oil-price-forecast/golden-data/2022/12/\n",
      "train_preproc_dir_artifact5             -> 's3://palm-oil-price-forecast/golden-data/2022/12/\n"
     ]
    }
   ],
   "source": [
    "%store"
   ]
  },
  {
   "cell_type": "code",
   "execution_count": 9,
   "id": "224de32f-be04-4de9-96c0-28dcf74849d5",
   "metadata": {},
   "outputs": [
    {
     "name": "stdout",
     "output_type": "stream",
     "text": [
      "Stored 'training_code' (str)\n"
     ]
    }
   ],
   "source": [
    "training_code = 'src/v1.1/train.py'\n",
    "%store training_code"
   ]
  },
  {
   "cell_type": "code",
   "execution_count": 8,
   "id": "f1ff623a-5a3a-47b9-a427-e1c9fa49a1bc",
   "metadata": {},
   "outputs": [],
   "source": [
    "# !aws s3 ls s3://palm-oil-price-forecast/golden-data/2022/11/24 --recursive"
   ]
  },
  {
   "cell_type": "code",
   "execution_count": 10,
   "id": "307f4a3c-5e2f-4a08-b813-4d66c057180d",
   "metadata": {},
   "outputs": [
    {
     "data": {
      "text/html": [
       "<div>\n",
       "<style scoped>\n",
       "    .dataframe tbody tr th:only-of-type {\n",
       "        vertical-align: middle;\n",
       "    }\n",
       "\n",
       "    .dataframe tbody tr th {\n",
       "        vertical-align: top;\n",
       "    }\n",
       "\n",
       "    .dataframe thead th {\n",
       "        text-align: right;\n",
       "    }\n",
       "</style>\n",
       "<table border=\"1\" class=\"dataframe\">\n",
       "  <thead>\n",
       "    <tr style=\"text-align: right;\">\n",
       "      <th></th>\n",
       "      <th>ds</th>\n",
       "      <th>high</th>\n",
       "      <th>low</th>\n",
       "      <th>open</th>\n",
       "      <th>y</th>\n",
       "      <th>ric</th>\n",
       "    </tr>\n",
       "  </thead>\n",
       "  <tbody>\n",
       "    <tr>\n",
       "      <th>0</th>\n",
       "      <td>2014-07-02</td>\n",
       "      <td>38.959999</td>\n",
       "      <td>38.480000</td>\n",
       "      <td>38.869999</td>\n",
       "      <td>38.470001</td>\n",
       "      <td>BOc1</td>\n",
       "    </tr>\n",
       "    <tr>\n",
       "      <th>1</th>\n",
       "      <td>2014-07-03</td>\n",
       "      <td>38.660000</td>\n",
       "      <td>38.340000</td>\n",
       "      <td>38.470001</td>\n",
       "      <td>38.560001</td>\n",
       "      <td>BOc1</td>\n",
       "    </tr>\n",
       "    <tr>\n",
       "      <th>2</th>\n",
       "      <td>2014-07-04</td>\n",
       "      <td>38.590000</td>\n",
       "      <td>38.219999</td>\n",
       "      <td>38.495001</td>\n",
       "      <td>38.460001</td>\n",
       "      <td>BOc1</td>\n",
       "    </tr>\n",
       "    <tr>\n",
       "      <th>3</th>\n",
       "      <td>2014-07-07</td>\n",
       "      <td>38.520000</td>\n",
       "      <td>38.099998</td>\n",
       "      <td>38.520000</td>\n",
       "      <td>38.360001</td>\n",
       "      <td>BOc1</td>\n",
       "    </tr>\n",
       "    <tr>\n",
       "      <th>4</th>\n",
       "      <td>2014-07-08</td>\n",
       "      <td>38.410000</td>\n",
       "      <td>37.770000</td>\n",
       "      <td>38.410000</td>\n",
       "      <td>37.799999</td>\n",
       "      <td>BOc1</td>\n",
       "    </tr>\n",
       "  </tbody>\n",
       "</table>\n",
       "</div>"
      ],
      "text/plain": [
       "           ds       high        low       open          y   ric\n",
       "0  2014-07-02  38.959999  38.480000  38.869999  38.470001  BOc1\n",
       "1  2014-07-03  38.660000  38.340000  38.470001  38.560001  BOc1\n",
       "2  2014-07-04  38.590000  38.219999  38.495001  38.460001  BOc1\n",
       "3  2014-07-07  38.520000  38.099998  38.520000  38.360001  BOc1\n",
       "4  2014-07-08  38.410000  37.770000  38.410000  37.799999  BOc1"
      ]
     },
     "execution_count": 10,
     "metadata": {},
     "output_type": "execute_result"
    }
   ],
   "source": [
    "df_train = pd.read_csv(train_preproc_dir_artifact1)\n",
    "df_train.head()"
   ]
  },
  {
   "cell_type": "code",
   "execution_count": 11,
   "id": "3d38364c-ab87-403a-be98-d4d1c12132ef",
   "metadata": {},
   "outputs": [
    {
     "data": {
      "text/html": [
       "<div>\n",
       "<style scoped>\n",
       "    .dataframe tbody tr th:only-of-type {\n",
       "        vertical-align: middle;\n",
       "    }\n",
       "\n",
       "    .dataframe tbody tr th {\n",
       "        vertical-align: top;\n",
       "    }\n",
       "\n",
       "    .dataframe thead th {\n",
       "        text-align: right;\n",
       "    }\n",
       "</style>\n",
       "<table border=\"1\" class=\"dataframe\">\n",
       "  <thead>\n",
       "    <tr style=\"text-align: right;\">\n",
       "      <th></th>\n",
       "      <th>ds</th>\n",
       "      <th>high</th>\n",
       "      <th>low</th>\n",
       "      <th>open</th>\n",
       "      <th>y</th>\n",
       "      <th>ric</th>\n",
       "    </tr>\n",
       "  </thead>\n",
       "  <tbody>\n",
       "    <tr>\n",
       "      <th>0</th>\n",
       "      <td>2022-11-23</td>\n",
       "      <td>75.010002</td>\n",
       "      <td>73.239998</td>\n",
       "      <td>73.839996</td>\n",
       "      <td>74.889999</td>\n",
       "      <td>BOc1</td>\n",
       "    </tr>\n",
       "    <tr>\n",
       "      <th>1</th>\n",
       "      <td>2022-11-24</td>\n",
       "      <td>75.165001</td>\n",
       "      <td>73.825001</td>\n",
       "      <td>74.375000</td>\n",
       "      <td>74.689999</td>\n",
       "      <td>BOc1</td>\n",
       "    </tr>\n",
       "    <tr>\n",
       "      <th>2</th>\n",
       "      <td>2022-11-25</td>\n",
       "      <td>75.320000</td>\n",
       "      <td>74.410004</td>\n",
       "      <td>74.910004</td>\n",
       "      <td>74.489998</td>\n",
       "      <td>BOc1</td>\n",
       "    </tr>\n",
       "    <tr>\n",
       "      <th>3</th>\n",
       "      <td>2022-11-28</td>\n",
       "      <td>76.309998</td>\n",
       "      <td>73.120003</td>\n",
       "      <td>74.410004</td>\n",
       "      <td>76.059998</td>\n",
       "      <td>BOc1</td>\n",
       "    </tr>\n",
       "    <tr>\n",
       "      <th>4</th>\n",
       "      <td>2022-11-29</td>\n",
       "      <td>77.070000</td>\n",
       "      <td>75.330002</td>\n",
       "      <td>76.040001</td>\n",
       "      <td>76.250000</td>\n",
       "      <td>BOc1</td>\n",
       "    </tr>\n",
       "  </tbody>\n",
       "</table>\n",
       "</div>"
      ],
      "text/plain": [
       "           ds       high        low       open          y   ric\n",
       "0  2022-11-23  75.010002  73.239998  73.839996  74.889999  BOc1\n",
       "1  2022-11-24  75.165001  73.825001  74.375000  74.689999  BOc1\n",
       "2  2022-11-25  75.320000  74.410004  74.910004  74.489998  BOc1\n",
       "3  2022-11-28  76.309998  73.120003  74.410004  76.059998  BOc1\n",
       "4  2022-11-29  77.070000  75.330002  76.040001  76.250000  BOc1"
      ]
     },
     "execution_count": 11,
     "metadata": {},
     "output_type": "execute_result"
    }
   ],
   "source": [
    "df_test = pd.read_csv(test_preproc_dir_artifact1)\n",
    "df_test.head()"
   ]
  },
  {
   "cell_type": "code",
   "execution_count": 12,
   "id": "836aee7f-d787-4bec-a4fd-017c65413c25",
   "metadata": {},
   "outputs": [
    {
     "data": {
      "text/html": [
       "<div>\n",
       "<style scoped>\n",
       "    .dataframe tbody tr th:only-of-type {\n",
       "        vertical-align: middle;\n",
       "    }\n",
       "\n",
       "    .dataframe tbody tr th {\n",
       "        vertical-align: top;\n",
       "    }\n",
       "\n",
       "    .dataframe thead th {\n",
       "        text-align: right;\n",
       "    }\n",
       "</style>\n",
       "<table border=\"1\" class=\"dataframe\">\n",
       "  <thead>\n",
       "    <tr style=\"text-align: right;\">\n",
       "      <th></th>\n",
       "      <th>ds</th>\n",
       "      <th>high</th>\n",
       "      <th>low</th>\n",
       "      <th>open</th>\n",
       "      <th>y</th>\n",
       "      <th>ric</th>\n",
       "    </tr>\n",
       "  </thead>\n",
       "  <tbody>\n",
       "    <tr>\n",
       "      <th>2216</th>\n",
       "      <td>2022-12-16</td>\n",
       "      <td>776.00</td>\n",
       "      <td>764.00</td>\n",
       "      <td>770.00</td>\n",
       "      <td>770.000</td>\n",
       "      <td>Wc3</td>\n",
       "    </tr>\n",
       "    <tr>\n",
       "      <th>2217</th>\n",
       "      <td>2022-12-19</td>\n",
       "      <td>772.50</td>\n",
       "      <td>752.75</td>\n",
       "      <td>766.25</td>\n",
       "      <td>761.750</td>\n",
       "      <td>Wc3</td>\n",
       "    </tr>\n",
       "    <tr>\n",
       "      <th>2218</th>\n",
       "      <td>2022-12-20</td>\n",
       "      <td>778.50</td>\n",
       "      <td>756.50</td>\n",
       "      <td>763.25</td>\n",
       "      <td>770.625</td>\n",
       "      <td>Wc3</td>\n",
       "    </tr>\n",
       "    <tr>\n",
       "      <th>2219</th>\n",
       "      <td>2022-12-21</td>\n",
       "      <td>784.50</td>\n",
       "      <td>760.25</td>\n",
       "      <td>760.25</td>\n",
       "      <td>779.500</td>\n",
       "      <td>Wc3</td>\n",
       "    </tr>\n",
       "    <tr>\n",
       "      <th>2220</th>\n",
       "      <td>2022-12-22</td>\n",
       "      <td>788.25</td>\n",
       "      <td>771.25</td>\n",
       "      <td>779.75</td>\n",
       "      <td>773.000</td>\n",
       "      <td>Wc3</td>\n",
       "    </tr>\n",
       "  </tbody>\n",
       "</table>\n",
       "</div>"
      ],
      "text/plain": [
       "              ds    high     low    open        y  ric\n",
       "2216  2022-12-16  776.00  764.00  770.00  770.000  Wc3\n",
       "2217  2022-12-19  772.50  752.75  766.25  761.750  Wc3\n",
       "2218  2022-12-20  778.50  756.50  763.25  770.625  Wc3\n",
       "2219  2022-12-21  784.50  760.25  760.25  779.500  Wc3\n",
       "2220  2022-12-22  788.25  771.25  779.75  773.000  Wc3"
      ]
     },
     "execution_count": 12,
     "metadata": {},
     "output_type": "execute_result"
    }
   ],
   "source": [
    "df_test.tail()"
   ]
  },
  {
   "cell_type": "markdown",
   "id": "48076217-25da-4928-95d6-7b901c548edc",
   "metadata": {},
   "source": [
    "# 1. 모델 빌딩 파이프라인 의 스텝(Step) 생성\n",
    "## 1) 모델 빌딩 파이프라인 변수 생성\n",
    "파이프라인에서 사용할 파이프라인 파라미터를 정의합니다. 파이프라인을 스케줄하고 실행할 때 파라미터를 이용하여 실행조건을 커스마이징할 수 있습니다. 파라미터를 이용하면 파이프라인 실행시마다 매번 파이프라인 정의를 수정하지 않아도 됩니다.\n",
    "\n",
    "지원되는 파라미터 타입은 다음과 같습니다:\n",
    "\n",
    "- ParameterString - 파이썬 타입에서 str\n",
    "- ParameterInteger - 파이썬 타입에서 int\n",
    "- ParameterFloat - 파이썬 타입에서 float\n",
    "이들 파라미터를 정의할 때 디폴트 값을 지정할 수 있으며 파이프라인 실행시 재지정할 수도 있습니다. 지정하는 디폴트 값은 파라미터 타입과 일치하여야 합니다.\n",
    "\n",
    "본 노트북에서 사용하는 파라미터는 다음과 같습니다.\n",
    "\n",
    "- processing_instance_type - 프로세싱 작업에서 사용할 ml.* 인스턴스 타입\n",
    "- processing_instance_count - 프로세싱 작업에서 사용할 인스턴스 개수\n",
    "- training_instance_type - 학습작업에서 사용할 ml.* 인스턴스 타입\n",
    "- model_approval_status - 학습된 모델을 CI/CD를 목적으로 등록할 때의 승인 상태 (디폴트는 \"PendingManualApproval\")\n",
    "- input_data - 입력데이터에 대한 S3 버킷 URI\n",
    "파이프라인의 각 스텝에서 사용할 변수를 파라미터 변수로서 정의 합니다."
   ]
  },
  {
   "cell_type": "code",
   "execution_count": 13,
   "id": "f653b941-926b-4f60-9422-42450f1dbda7",
   "metadata": {},
   "outputs": [],
   "source": [
    "from sagemaker.workflow.parameters import (ParameterInteger,\n",
    "                                           ParameterString,\n",
    "                                          )\n",
    "\n",
    "train_instance_type = ParameterString(\n",
    "    name = \"TrainingInstanceType\",\n",
    "    default_value = \"ml.m5.xlarge\"\n",
    ")\n",
    "train_instance_count = ParameterInteger(\n",
    "    name = \"TrainInstanceCount\",\n",
    "    default_value = 1\n",
    ")\n",
    "input_train_data = ParameterString(\n",
    "    name = \"InputTrainData\",\n",
    "    default_value = train_preproc_dir_artifact1,\n",
    ")\n",
    "input_test_data = ParameterString(\n",
    "    name = \"InputTestData\",\n",
    "    default_value = test_preproc_dir_artifact1,\n",
    ")"
   ]
  },
  {
   "cell_type": "markdown",
   "id": "07c87d4e-19c8-4aa0-a2fc-9494154f7657",
   "metadata": {},
   "source": [
    "## 2) 파라미터 세팅\n"
   ]
  },
  {
   "cell_type": "code",
   "execution_count": 14,
   "id": "2f6da1d4-84f1-4cc4-be53-85bbba7a0444",
   "metadata": {},
   "outputs": [
    {
     "name": "stdout",
     "output_type": "stream",
     "text": [
      "estimator_output_path:  s3://palm-oil-price-forecast/trained-model/2022/12/23\n"
     ]
    }
   ],
   "source": [
    "from sagemaker.mxnet import MXNet\n",
    "\n",
    "KST = dt.today() + relativedelta(hours=9)\n",
    "estimator_output_path = f\"s3://{BUCKET_NAME_USECASE}/{S3_PATH_TRAIN}/{KST.strftime('%Y/%m/%d')}\"\n",
    "print(\"estimator_output_path: \", estimator_output_path)\n",
    "\n",
    "mxnet_estimator = MXNet(\n",
    "    base_job_name = 'Palm_oil_forecast-Train-autogluon060', # prefix\n",
    "    role = sagemaker.get_execution_role(),\n",
    "    entry_point = 'train.py',\n",
    "    source_dir = \"src/v1.1\", # requirement.txt\n",
    "    code_location = estimator_output_path,\n",
    "    output_path = estimator_output_path,\n",
    "    instance_type = train_instance_type,\n",
    "    instance_count = train_instance_count,\n",
    "    framework_version = '1.9.0',\n",
    "    py_version = 'py38',\n",
    "    hyperparameters={\"item\" :'FCPOc3',\n",
    "                     \"target\" : 'y',\n",
    "                     \"metric\" : 'MAPE',\n",
    "                     \"quality\" : 'fast_training'\n",
    "                    },  \n",
    "\n",
    ")"
   ]
  },
  {
   "cell_type": "markdown",
   "id": "3e1a2a48-9b65-4f92-a30f-26c018a19545",
   "metadata": {},
   "source": [
    "## 3) 모델 훈련 스탭 생성\n",
    "스텝 생성시에 위에서 생성한 Estimator 입력 및 입력 데이타로서 전처리 데이터가 존재하는 S3 경로를 제공합니다."
   ]
  },
  {
   "cell_type": "markdown",
   "id": "f0fe3015-8133-4035-993a-42d987e0a138",
   "metadata": {},
   "source": [
    "```python\n",
    "step_train = TrainingStep(\n",
    "    name=\"Palm_oil_forecast-Autogluon052-Train\",\n",
    "    estimator=xgb_train,\n",
    "    inputs={\n",
    "        \"train\": TrainingInput(\n",
    "            s3_data=step_process.properties.ProcessingOutputConfig.Outputs[\n",
    "                \"train\"\n",
    "            ].S3Output.S3Uri,\n",
    "            content_type=\"text/csv\"\n",
    "        ),\n",
    "    },\n",
    ")\n",
    "```"
   ]
  },
  {
   "cell_type": "code",
   "execution_count": 15,
   "id": "4bc08fd0-e3b2-4078-9e07-bca7d704b53a",
   "metadata": {},
   "outputs": [],
   "source": [
    "from sagemaker.inputs import TrainingInput\n",
    "from sagemaker.workflow.steps import TrainingStep\n",
    "\n",
    "step_train = TrainingStep(\n",
    "    name = 'Palm_oil_forecast-Train-autogluon060',\n",
    "    estimator = mxnet_estimator,\n",
    "    inputs = {\n",
    "        \"train\" : TrainingInput(\n",
    "            s3_data = input_train_data,\n",
    "            content_type = \"text/csv\"\n",
    "        ),\n",
    "        \"test\" : TrainingInput(\n",
    "            s3_data = input_test_data,\n",
    "            content_type = \"text/csv\"\n",
    "        ),\n",
    "    },\n",
    ")"
   ]
  },
  {
   "cell_type": "markdown",
   "id": "d93bab7b-2164-4783-b3e0-ce403ba46742",
   "metadata": {},
   "source": [
    "# 2. 파이프라인 실행"
   ]
  },
  {
   "cell_type": "code",
   "execution_count": 16,
   "id": "944e0215-30fd-4661-bc34-b676d67a68c2",
   "metadata": {},
   "outputs": [],
   "source": [
    "from sagemaker.workflow.pipeline import Pipeline\n",
    "\n",
    "pipeline_name = project_prefix\n",
    "pipeline = Pipeline(name = pipeline_name,\n",
    "                    parameters = [train_instance_type,        \n",
    "                                  train_instance_count,         \n",
    "                                  input_train_data,\n",
    "                                  input_test_data,\n",
    "                                 ],\n",
    "                    steps=[step_train],\n",
    ")"
   ]
  },
  {
   "cell_type": "code",
   "execution_count": 17,
   "id": "76430e25-1a89-407b-ad21-c8ec5bbac6cd",
   "metadata": {},
   "outputs": [
    {
     "name": "stderr",
     "output_type": "stream",
     "text": [
      "The input argument instance_type of function (sagemaker.image_uris.retrieve) is a pipeline variable (<class 'sagemaker.workflow.parameters.ParameterString'>), which is not allowed. The default_value of this Parameter object will be used to override it. Please make sure the default_value is valid.\n"
     ]
    },
    {
     "data": {
      "text/plain": [
       "{'Version': '2020-12-01',\n",
       " 'Metadata': {},\n",
       " 'Parameters': [{'Name': 'TrainingInstanceType',\n",
       "   'Type': 'String',\n",
       "   'DefaultValue': 'ml.m5.xlarge'},\n",
       "  {'Name': 'TrainInstanceCount', 'Type': 'Integer', 'DefaultValue': 1},\n",
       "  {'Name': 'InputTrainData',\n",
       "   'Type': 'String',\n",
       "   'DefaultValue': 's3://palm-oil-price-forecast/golden-data/2022/12/23/train_fold1.csv'},\n",
       "  {'Name': 'InputTestData',\n",
       "   'Type': 'String',\n",
       "   'DefaultValue': 's3://palm-oil-price-forecast/golden-data/2022/12/23/test_fold1.csv'}],\n",
       " 'PipelineExperimentConfig': {'ExperimentName': {'Get': 'Execution.PipelineName'},\n",
       "  'TrialName': {'Get': 'Execution.PipelineExecutionId'}},\n",
       " 'Steps': [{'Name': 'Palm_oil_forecast-Train-autogluon060',\n",
       "   'Type': 'Training',\n",
       "   'Arguments': {'AlgorithmSpecification': {'TrainingInputMode': 'File',\n",
       "     'TrainingImage': '763104351884.dkr.ecr.ap-northeast-2.amazonaws.com/mxnet-training:1.9.0-cpu-py38',\n",
       "     'EnableSageMakerMetricsTimeSeries': True},\n",
       "    'OutputDataConfig': {'S3OutputPath': 's3://palm-oil-price-forecast/trained-model/2022/12/23'},\n",
       "    'StoppingCondition': {'MaxRuntimeInSeconds': 86400},\n",
       "    'ResourceConfig': {'VolumeSizeInGB': 30,\n",
       "     'InstanceCount': {'Get': 'Parameters.TrainInstanceCount'},\n",
       "     'InstanceType': {'Get': 'Parameters.TrainingInstanceType'}},\n",
       "    'RoleArn': 'arn:aws:iam::276114397529:role/service-role/AmazonSageMakerServiceCatalogProductsUseRole',\n",
       "    'InputDataConfig': [{'DataSource': {'S3DataSource': {'S3DataType': 'S3Prefix',\n",
       "        'S3Uri': {'Get': 'Parameters.InputTrainData'},\n",
       "        'S3DataDistributionType': 'FullyReplicated'}},\n",
       "      'ContentType': 'text/csv',\n",
       "      'ChannelName': 'train'},\n",
       "     {'DataSource': {'S3DataSource': {'S3DataType': 'S3Prefix',\n",
       "        'S3Uri': {'Get': 'Parameters.InputTestData'},\n",
       "        'S3DataDistributionType': 'FullyReplicated'}},\n",
       "      'ContentType': 'text/csv',\n",
       "      'ChannelName': 'test'}],\n",
       "    'HyperParameters': {'item': '\"FCPOc3\"',\n",
       "     'target': '\"y\"',\n",
       "     'metric': '\"MAPE\"',\n",
       "     'quality': '\"fast_training\"',\n",
       "     'sagemaker_submit_directory': '\"s3://palm-oil-price-forecast/trained-model/2022/12/23/Palm_oil_forecast-Train-autogluon060-bb422339d0d85acf34a2f1b0c2669374/source/sourcedir.tar.gz\"',\n",
       "     'sagemaker_program': '\"train.py\"',\n",
       "     'sagemaker_container_log_level': '20',\n",
       "     'sagemaker_region': '\"ap-northeast-2\"'},\n",
       "    'DebugHookConfig': {'S3OutputPath': 's3://palm-oil-price-forecast/trained-model/2022/12/23',\n",
       "     'CollectionConfigurations': []},\n",
       "    'ProfilerRuleConfigurations': [{'RuleConfigurationName': 'ProfilerReport-1671785969',\n",
       "      'RuleEvaluatorImage': '578805364391.dkr.ecr.ap-northeast-2.amazonaws.com/sagemaker-debugger-rules:latest',\n",
       "      'RuleParameters': {'rule_to_invoke': 'ProfilerReport'}}],\n",
       "    'ProfilerConfig': {'S3OutputPath': 's3://palm-oil-price-forecast/trained-model/2022/12/23'}}}]}"
      ]
     },
     "execution_count": 17,
     "metadata": {},
     "output_type": "execute_result"
    }
   ],
   "source": [
    "import json\n",
    "\n",
    "definition = json.loads(pipeline.definition())\n",
    "definition"
   ]
  },
  {
   "cell_type": "markdown",
   "id": "9266c6b2-6faf-4b1e-9fa6-e5323e749ff2",
   "metadata": {},
   "source": [
    "에러조심\n",
    "- ValueError: TimeSeriesPredictor does not yet support missing values. Please make sure that the provided data contains no NaNs.\n"
   ]
  },
  {
   "cell_type": "code",
   "execution_count": 18,
   "id": "028b7c73-408a-4e8f-804f-f2fe5208fd8b",
   "metadata": {},
   "outputs": [
    {
     "name": "stderr",
     "output_type": "stream",
     "text": [
      "The input argument instance_type of function (sagemaker.image_uris.retrieve) is a pipeline variable (<class 'sagemaker.workflow.parameters.ParameterString'>), which is not allowed. The default_value of this Parameter object will be used to override it. Please make sure the default_value is valid.\n"
     ]
    },
    {
     "ename": "WaiterError",
     "evalue": "Waiter PipelineExecutionComplete failed: Waiter encountered a terminal failure state: For expression \"PipelineExecutionStatus\" we matched expected path: \"Failed\"",
     "output_type": "error",
     "traceback": [
      "\u001b[0;31m---------------------------------------------------------------------------\u001b[0m",
      "\u001b[0;31mWaiterError\u001b[0m                               Traceback (most recent call last)",
      "\u001b[0;32m<timed exec>\u001b[0m in \u001b[0;36m<module>\u001b[0;34m\u001b[0m\n",
      "\u001b[0;32m~/anaconda3/envs/python3/lib/python3.8/site-packages/sagemaker/workflow/pipeline.py\u001b[0m in \u001b[0;36mwait\u001b[0;34m(self, delay, max_attempts)\u001b[0m\n\u001b[1;32m    584\u001b[0m             \u001b[0mwaiter_id\u001b[0m\u001b[0;34m,\u001b[0m \u001b[0mmodel\u001b[0m\u001b[0;34m,\u001b[0m \u001b[0mself\u001b[0m\u001b[0;34m.\u001b[0m\u001b[0msagemaker_session\u001b[0m\u001b[0;34m.\u001b[0m\u001b[0msagemaker_client\u001b[0m\u001b[0;34m\u001b[0m\u001b[0;34m\u001b[0m\u001b[0m\n\u001b[1;32m    585\u001b[0m         )\n\u001b[0;32m--> 586\u001b[0;31m         \u001b[0mwaiter\u001b[0m\u001b[0;34m.\u001b[0m\u001b[0mwait\u001b[0m\u001b[0;34m(\u001b[0m\u001b[0mPipelineExecutionArn\u001b[0m\u001b[0;34m=\u001b[0m\u001b[0mself\u001b[0m\u001b[0;34m.\u001b[0m\u001b[0marn\u001b[0m\u001b[0;34m)\u001b[0m\u001b[0;34m\u001b[0m\u001b[0;34m\u001b[0m\u001b[0m\n\u001b[0m\u001b[1;32m    587\u001b[0m \u001b[0;34m\u001b[0m\u001b[0m\n\u001b[1;32m    588\u001b[0m \u001b[0;34m\u001b[0m\u001b[0m\n",
      "\u001b[0;32m~/anaconda3/envs/python3/lib/python3.8/site-packages/botocore/waiter.py\u001b[0m in \u001b[0;36mwait\u001b[0;34m(self, **kwargs)\u001b[0m\n\u001b[1;32m     53\u001b[0m     \u001b[0;31m# method.\u001b[0m\u001b[0;34m\u001b[0m\u001b[0;34m\u001b[0m\u001b[0;34m\u001b[0m\u001b[0m\n\u001b[1;32m     54\u001b[0m     \u001b[0;32mdef\u001b[0m \u001b[0mwait\u001b[0m\u001b[0;34m(\u001b[0m\u001b[0mself\u001b[0m\u001b[0;34m,\u001b[0m \u001b[0;34m**\u001b[0m\u001b[0mkwargs\u001b[0m\u001b[0;34m)\u001b[0m\u001b[0;34m:\u001b[0m\u001b[0;34m\u001b[0m\u001b[0;34m\u001b[0m\u001b[0m\n\u001b[0;32m---> 55\u001b[0;31m         \u001b[0mWaiter\u001b[0m\u001b[0;34m.\u001b[0m\u001b[0mwait\u001b[0m\u001b[0;34m(\u001b[0m\u001b[0mself\u001b[0m\u001b[0;34m,\u001b[0m \u001b[0;34m**\u001b[0m\u001b[0mkwargs\u001b[0m\u001b[0;34m)\u001b[0m\u001b[0;34m\u001b[0m\u001b[0;34m\u001b[0m\u001b[0m\n\u001b[0m\u001b[1;32m     56\u001b[0m \u001b[0;34m\u001b[0m\u001b[0m\n\u001b[1;32m     57\u001b[0m     wait.__doc__ = WaiterDocstring(\n",
      "\u001b[0;32m~/anaconda3/envs/python3/lib/python3.8/site-packages/botocore/waiter.py\u001b[0m in \u001b[0;36mwait\u001b[0;34m(self, **kwargs)\u001b[0m\n\u001b[1;32m    373\u001b[0m                     \u001b[0macceptor\u001b[0m\u001b[0;34m.\u001b[0m\u001b[0mexplanation\u001b[0m\u001b[0;34m\u001b[0m\u001b[0;34m\u001b[0m\u001b[0m\n\u001b[1;32m    374\u001b[0m                 )\n\u001b[0;32m--> 375\u001b[0;31m                 raise WaiterError(\n\u001b[0m\u001b[1;32m    376\u001b[0m                     \u001b[0mname\u001b[0m\u001b[0;34m=\u001b[0m\u001b[0mself\u001b[0m\u001b[0;34m.\u001b[0m\u001b[0mname\u001b[0m\u001b[0;34m,\u001b[0m\u001b[0;34m\u001b[0m\u001b[0;34m\u001b[0m\u001b[0m\n\u001b[1;32m    377\u001b[0m                     \u001b[0mreason\u001b[0m\u001b[0;34m=\u001b[0m\u001b[0mreason\u001b[0m\u001b[0;34m,\u001b[0m\u001b[0;34m\u001b[0m\u001b[0;34m\u001b[0m\u001b[0m\n",
      "\u001b[0;31mWaiterError\u001b[0m: Waiter PipelineExecutionComplete failed: Waiter encountered a terminal failure state: For expression \"PipelineExecutionStatus\" we matched expected path: \"Failed\""
     ]
    }
   ],
   "source": [
    "%%time\n",
    "start = time.time()\n",
    "pipeline.upsert(role_arn=sagemaker.get_execution_role())\n",
    "execution = pipeline.start()\n",
    "execution.wait()\n",
    "end = time.time()"
   ]
  },
  {
   "cell_type": "code",
   "execution_count": 19,
   "id": "74b72d8b-5ac2-4316-b2f4-9c9b22611e9a",
   "metadata": {},
   "outputs": [
    {
     "ename": "NameError",
     "evalue": "name 'end' is not defined",
     "output_type": "error",
     "traceback": [
      "\u001b[0;31m---------------------------------------------------------------------------\u001b[0m",
      "\u001b[0;31mNameError\u001b[0m                                 Traceback (most recent call last)",
      "\u001b[0;32m/tmp/ipykernel_30655/2568911073.py\u001b[0m in \u001b[0;36m<cell line: 1>\u001b[0;34m()\u001b[0m\n\u001b[0;32m----> 1\u001b[0;31m \u001b[0mprint\u001b[0m\u001b[0;34m(\u001b[0m\u001b[0;34mf\"training 시간 : {end - start:.1f} sec\"\u001b[0m\u001b[0;34m)\u001b[0m\u001b[0;34m\u001b[0m\u001b[0;34m\u001b[0m\u001b[0m\n\u001b[0m\u001b[1;32m      2\u001b[0m \u001b[0mprint\u001b[0m\u001b[0;34m(\u001b[0m\u001b[0;34mf\"training 시간 : {((end - start)/60):.1f} min\"\u001b[0m\u001b[0;34m)\u001b[0m\u001b[0;34m\u001b[0m\u001b[0;34m\u001b[0m\u001b[0m\n",
      "\u001b[0;31mNameError\u001b[0m: name 'end' is not defined"
     ]
    }
   ],
   "source": [
    "print(f\"training 시간 : {end - start:.1f} sec\")\n",
    "print(f\"training 시간 : {((end - start)/60):.1f} min\")"
   ]
  },
  {
   "cell_type": "markdown",
   "id": "976b331d-992d-43bf-9a15-d8d1afd4fa8c",
   "metadata": {},
   "source": [
    "   \n",
    "- [2022년 11월 25일] training 시간 : 513.4sec(8.6min)"
   ]
  },
  {
   "cell_type": "code",
   "execution_count": 18,
   "id": "0185ef7f-af33-479b-a24c-a012f132c445",
   "metadata": {},
   "outputs": [
    {
     "data": {
      "text/plain": [
       "{'PipelineArn': 'arn:aws:sagemaker:ap-northeast-2:276114397529:pipeline/palm-oil-price-forecast',\n",
       " 'PipelineExecutionArn': 'arn:aws:sagemaker:ap-northeast-2:276114397529:pipeline/palm-oil-price-forecast/execution/5c2k5eti372r',\n",
       " 'PipelineExecutionDisplayName': 'execution-1669625818711',\n",
       " 'PipelineExecutionStatus': 'Succeeded',\n",
       " 'PipelineExperimentConfig': {'ExperimentName': 'palm-oil-price-forecast',\n",
       "  'TrialName': '5c2k5eti372r'},\n",
       " 'CreationTime': datetime.datetime(2022, 11, 28, 8, 56, 58, 646000, tzinfo=tzlocal()),\n",
       " 'LastModifiedTime': datetime.datetime(2022, 11, 28, 9, 5, 14, 734000, tzinfo=tzlocal()),\n",
       " 'CreatedBy': {},\n",
       " 'LastModifiedBy': {},\n",
       " 'ResponseMetadata': {'RequestId': '14828b58-346f-4a9c-a42a-d92850e3e460',\n",
       "  'HTTPStatusCode': 200,\n",
       "  'HTTPHeaders': {'x-amzn-requestid': '14828b58-346f-4a9c-a42a-d92850e3e460',\n",
       "   'content-type': 'application/x-amz-json-1.1',\n",
       "   'content-length': '520',\n",
       "   'date': 'Mon, 28 Nov 2022 09:05:30 GMT'},\n",
       "  'RetryAttempts': 0}}"
      ]
     },
     "execution_count": 18,
     "metadata": {},
     "output_type": "execute_result"
    }
   ],
   "source": [
    "execution.describe()"
   ]
  },
  {
   "cell_type": "code",
   "execution_count": 28,
   "id": "fd8e4b95-c006-4732-8fae-888c3eb8a528",
   "metadata": {},
   "outputs": [
    {
     "data": {
      "text/plain": [
       "[{'StepName': 'Palm_oil_forecast-Train-autogluon060',\n",
       "  'StartTime': datetime.datetime(2022, 11, 28, 8, 56, 59, 993000, tzinfo=tzlocal()),\n",
       "  'EndTime': datetime.datetime(2022, 11, 28, 9, 5, 14, 414000, tzinfo=tzlocal()),\n",
       "  'StepStatus': 'Succeeded',\n",
       "  'AttemptCount': 0,\n",
       "  'Metadata': {'TrainingJob': {'Arn': 'arn:aws:sagemaker:ap-northeast-2:276114397529:training-job/pipelines-5c2k5eti372r-Palm-oil-forecast-Tr-IcBejQCKws'}}}]"
      ]
     },
     "execution_count": 28,
     "metadata": {},
     "output_type": "execute_result"
    }
   ],
   "source": [
    "response = execution.list_steps()\n",
    "response"
   ]
  },
  {
   "cell_type": "code",
   "execution_count": 29,
   "id": "160da2ad-6ada-447d-bc19-758f5e4d53d6",
   "metadata": {},
   "outputs": [
    {
     "data": {
      "text/plain": [
       "'pipelines-5c2k5eti372r-Palm-oil-forecast-Tr-IcBejQCKws'"
      ]
     },
     "execution_count": 29,
     "metadata": {},
     "output_type": "execute_result"
    }
   ],
   "source": [
    "proc_arn = response[0]['Metadata']['TrainingJob']['Arn']\n",
    "train_job_name = proc_arn.split('/')[-1]\n",
    "response = sm_client.describe_training_job(TrainingJobName = train_job_name)\n",
    "response['TrainingJobName']"
   ]
  },
  {
   "cell_type": "code",
   "execution_count": 32,
   "id": "ce04b03d-3854-4c8c-88f6-e6efb3b529ef",
   "metadata": {},
   "outputs": [
    {
     "data": {
      "text/plain": [
       "<sagemaker.workflow.properties.Properties at 0x7f4e9441d940>"
      ]
     },
     "execution_count": 32,
     "metadata": {},
     "output_type": "execute_result"
    }
   ],
   "source": [
    "step_train.properties.ModelArtifacts.S3ModelArtifacts"
   ]
  },
  {
   "cell_type": "markdown",
   "id": "5fd13972-8484-4195-b1f6-78db7fb9189f",
   "metadata": {},
   "source": [
    "# 3. 모델 아티펙트 경로 추출"
   ]
  },
  {
   "cell_type": "code",
   "execution_count": 21,
   "id": "06695418-5246-47b4-8a48-d7159973d7bb",
   "metadata": {},
   "outputs": [],
   "source": [
    "def get_train_artifact(execution, client):\n",
    "    response = execution.list_steps()\n",
    "    proc_arn = response[0]['Metadata']['TrainingJob']['Arn']\n",
    "    train_job_name = proc_arn.split('/')[-1]\n",
    "    response = client.describe_training_job(TrainingJobName = train_job_name)\n",
    "    train_model_uri = response['ModelArtifacts']['S3ModelArtifacts']\n",
    "    return train_model_uri"
   ]
  },
  {
   "cell_type": "code",
   "execution_count": 22,
   "id": "f11638ed-6c65-41f9-980b-5ae050ebbde4",
   "metadata": {},
   "outputs": [
    {
     "name": "stdout",
     "output_type": "stream",
     "text": [
      "train_model_uri: \n",
      " s3://palm-oil-price-forecast/trained-model/2022/11/28/pipelines-5c2k5eti372r-Palm-oil-forecast-Tr-IcBejQCKws/output/model.tar.gz\n",
      "\n",
      "leaderboard_uri: \n",
      " s3://palm-oil-price-forecast/trained-model/2022/11/28/pipelines-5c2k5eti372r-Palm-oil-forecast-Tr-IcBejQCKws/output/output.tar.gz\n"
     ]
    }
   ],
   "source": [
    "train_model_uri = get_train_artifact(execution, sm_client)\n",
    "leaderboard_uri = train_model_uri.replace('model.tar.gz','output.tar.gz')\n",
    "print(\"train_model_uri: \\n\", train_model_uri)\n",
    "print(\"\\nleaderboard_uri: \\n\", leaderboard_uri)"
   ]
  },
  {
   "cell_type": "code",
   "execution_count": 23,
   "id": "5710a38f-5220-4551-89aa-f461380e1552",
   "metadata": {},
   "outputs": [
    {
     "name": "stdout",
     "output_type": "stream",
     "text": [
      "Stored 'train_model_uri' (str)\n",
      "Stored 'leaderboard_uri' (str)\n"
     ]
    }
   ],
   "source": [
    "%store train_model_uri\n",
    "%store leaderboard_uri"
   ]
  },
  {
   "cell_type": "code",
   "execution_count": null,
   "id": "17034199-6269-4814-871a-835a674d3fde",
   "metadata": {},
   "outputs": [],
   "source": []
  }
 ],
 "metadata": {
  "kernelspec": {
   "display_name": "conda_python3",
   "language": "python",
   "name": "conda_python3"
  },
  "language_info": {
   "codemirror_mode": {
    "name": "ipython",
    "version": 3
   },
   "file_extension": ".py",
   "mimetype": "text/x-python",
   "name": "python",
   "nbconvert_exporter": "python",
   "pygments_lexer": "ipython3",
   "version": "3.8.12"
  }
 },
 "nbformat": 4,
 "nbformat_minor": 5
}
