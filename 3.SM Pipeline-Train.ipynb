{
 "cells": [
  {
   "cell_type": "markdown",
   "id": "90a6f8c0-afa1-49f4-8815-58ae74398438",
   "metadata": {},
   "source": [
    "```python\n",
    "!pip install llvmlite --ignore-installed\n",
    "!pip install autogluon\n",
    "```"
   ]
  },
  {
   "cell_type": "markdown",
   "id": "84b92b83-c7aa-49b1-a1ed-a976c863c1a9",
   "metadata": {},
   "source": [
    "# 0. 환경설정"
   ]
  },
  {
   "cell_type": "code",
   "execution_count": 1,
   "id": "81535be4-39fc-4dd8-a95c-9d83f6fdd9c2",
   "metadata": {},
   "outputs": [],
   "source": [
    "import argparse\n",
    "import os\n",
    "import requests\n",
    "import tempfile\n",
    "import subprocess, sys\n",
    "\n",
    "import pandas as pd\n",
    "import numpy as np\n",
    "from glob import glob\n",
    "import copy\n",
    "from collections import OrderedDict\n",
    "from pathlib import Path\n",
    "import joblib\n",
    "\n",
    "from sklearn.compose import ColumnTransformer\n",
    "from sklearn.impute import SimpleImputer\n",
    "from sklearn.pipeline import Pipeline\n",
    "from sklearn.preprocessing import StandardScaler, MinMaxScaler, OneHotEncoder\n",
    "\n",
    "\n",
    "import logging\n",
    "import logging.handlers\n",
    "\n",
    "import json\n",
    "import base64\n",
    "import boto3\n",
    "import sagemaker\n",
    "from botocore.client import Config\n",
    "from botocore.exceptions import ClientError\n",
    "\n",
    "import time\n",
    "from datetime import datetime as dt\n",
    "import datetime\n",
    "from pytz import timezone\n",
    "from dateutil.relativedelta import *"
   ]
  },
  {
   "cell_type": "code",
   "execution_count": 2,
   "id": "658e91e1-944c-4fb1-9c04-474d982ba91a",
   "metadata": {},
   "outputs": [],
   "source": [
    "%store -r"
   ]
  },
  {
   "cell_type": "code",
   "execution_count": 3,
   "id": "203e2960-c6b7-4e05-a5e1-f7caecfcdb10",
   "metadata": {},
   "outputs": [
    {
     "name": "stdout",
     "output_type": "stream",
     "text": [
      "Stored variables and their in-db values:\n",
      "KST_aday_before                   -> datetime.datetime(2023, 2, 26, 7, 51, 52, 826075)\n",
      "datalake_base_path                -> 's3://ai-data-lake/crude-palm-oil-prices-forecast'\n",
      "golden_data_dir                   -> 's3://crude-palm-oil-prices-forecast/golden-data/2\n",
      "leaderboard_base_path             -> 's3://crude-palm-oil-prices-forecast/trained-model\n",
      "manifest_base_path                -> 's3://crude-palm-oil-prices-forecast/trained-model\n",
      "model_base_path                   -> 's3://crude-palm-oil-prices-forecast/trained-model\n",
      "model_validation_code             -> 'src/v1.2/model_validation.py'\n",
      "num_fold                          -> '3'\n",
      "prediction_base_path              -> 's3://crude-palm-oil-prices-forecast/trained-model\n",
      "preprocessing_code                -> 's3://crude-palm-oil-prices-forecast/src/preproces\n",
      "project_prefix                    -> 'crude-palm-oil-prices-forecast'\n",
      "raw_data_path                     -> 's3://ai-data-lake/crude-palm-oil-prices-forecast/\n",
      "scaler_data_dir                   -> 's3://crude-palm-oil-prices-forecast/golden-data/2\n",
      "scaler_switch                     -> '1'\n",
      "split_end                         -> '2023-02-27'\n",
      "split_start                       -> '2018-01-01'\n",
      "staged_data_dir                   -> 's3://crude-palm-oil-prices-forecast/staged-data/2\n",
      "test_data_dir                     -> 's3://crude-palm-oil-prices-forecast/golden-data/2\n",
      "train_data_dir                    -> 's3://crude-palm-oil-prices-forecast/golden-data/2\n",
      "trained_model_dir                 -> 's3://crude-palm-oil-prices-forecast/trained-model\n",
      "training_code                     -> 's3://crude-palm-oil-prices-forecast/src/train.py'\n",
      "usecase_base_path                 -> 's3://crude-palm-oil-prices-forecast'\n"
     ]
    }
   ],
   "source": [
    "%store"
   ]
  },
  {
   "cell_type": "code",
   "execution_count": 4,
   "id": "b79a1a68-de80-4877-a7ec-76b7b5823aec",
   "metadata": {},
   "outputs": [],
   "source": [
    "def get_secret():\n",
    "    secret_name = \"dev/ForecastPalmOilPrice\"\n",
    "    region_name = \"ap-northeast-2\"\n",
    "    \n",
    "    # Create a Secrets Manager client\n",
    "    session = boto3.session.Session()\n",
    "    client = session.client(\n",
    "        service_name='secretsmanager',\n",
    "        region_name=region_name,\n",
    "    )\n",
    "\n",
    "    try:\n",
    "        get_secret_value_response = client.get_secret_value(\n",
    "            SecretId=secret_name\n",
    "        )\n",
    "    except ClientError as e:\n",
    "        if e.response['Error']['Code'] == 'DecryptionFailureException': # Secrets Manager can't decrypt the protected secret text using the provided KMS key.\n",
    "            raise e\n",
    "        elif e.response['Error']['Code'] == 'InternalServiceErrorException': # An error occurred on the server side.\n",
    "            raise e\n",
    "        elif e.response['Error']['Code'] == 'InvalidParameterException': # You provided an invalid value for a parameter.\n",
    "            raise e\n",
    "        elif e.response['Error']['Code'] == 'InvalidRequestException': # You provided a parameter value that is not valid for the current state of the resource.\n",
    "            raise e\n",
    "        elif e.response['Error']['Code'] == 'ResourceNotFoundException': # We can't find the resource that you asked for.\n",
    "            raise e\n",
    "    else:\n",
    "        if 'SecretString' in get_secret_value_response:\n",
    "            secret = get_secret_value_response['SecretString']\n",
    "            return secret\n",
    "        else:\n",
    "            decoded_binary_secret = base64.b64decode(get_secret_value_response['SecretBinary'])\n",
    "            return decoded_binary_secret\n",
    "\n",
    "keychain = json.loads(get_secret())\n",
    "ACCESS_KEY_ID = keychain['AWS_ACCESS_KEY_ID']\n",
    "ACCESS_SECRET_KEY = keychain['AWS_ACCESS_SECRET_KEY']\n",
    "\n",
    "BUCKET_NAME_USECASE = keychain['PROJECT_BUCKET_NAME']\n",
    "DATALAKE_BUCKET_NAME = keychain['DATALAKE_BUCKET_NAME']\n",
    "\n",
    "S3_PATH_REUTER = keychain['S3_PATH_REUTER']\n",
    "S3_PATH_WWO = keychain['S3_PATH_WWO']\n",
    "S3_PATH_STAGE = keychain['S3_PATH_STAGE']\n",
    "S3_PATH_GOLDEN = keychain['S3_PATH_GOLDEN']\n",
    "S3_PATH_TRAIN = keychain['S3_PATH_TRAIN']\n",
    "S3_PATH_FORECAST = keychain['S3_PATH_PREDICTION']\n",
    "\n",
    "boto3_session = boto3.Session(ACCESS_KEY_ID, ACCESS_SECRET_KEY)\n",
    "sm_session = sagemaker.Session(boto_session = boto3_session)\n",
    "region = boto3_session.region_name\n",
    "\n",
    "s3_resource = boto3_session.resource('s3')\n",
    "palmoil_bucket = s3_resource.Bucket(BUCKET_NAME_USECASE)\n",
    "datalake_bucket = s3_resource.Bucket(DATALAKE_BUCKET_NAME)\n",
    "\n",
    "s3_client = boto3_session.client('s3')\n",
    "sm_client = boto3.client('sagemaker',\n",
    "                         aws_access_key_id = ACCESS_KEY_ID,\n",
    "                         aws_secret_access_key = ACCESS_SECRET_KEY,\n",
    "                         region_name = 'ap-northeast-2')"
   ]
  },
  {
   "cell_type": "code",
   "execution_count": 26,
   "id": "a8f4a081-5216-488d-89e4-994dab68146d",
   "metadata": {},
   "outputs": [
    {
     "name": "stdout",
     "output_type": "stream",
     "text": [
      "Overwriting src/v1.2/train.py\n"
     ]
    }
   ],
   "source": [
    "%%writefile src/v1.2/train.py\n",
    "\n",
    "import argparse\n",
    "import os\n",
    "import requests\n",
    "import tempfile\n",
    "import subprocess, sys\n",
    "import json\n",
    "\n",
    "import glob\n",
    "import pandas as pd\n",
    "import joblib # from sklearn.externals import joblib\n",
    "import pickle\n",
    "import tarfile # model registry에는 uri만 등록된다.\n",
    "from io import StringIO, BytesIO\n",
    "\n",
    "import logging\n",
    "import logging.handlers\n",
    "from logging.config import dictConfig\n",
    "\n",
    "from dateutil.relativedelta import *\n",
    "from datetime import datetime as dt\n",
    "import time\n",
    "\n",
    "import boto3\n",
    "\n",
    "KST = dt.today() + relativedelta(hours=9)\n",
    "\n",
    "###############################\n",
    "######### util 함수 설정 ##########\n",
    "###############################\n",
    "def _get_logger():\n",
    "    '''\n",
    "    로깅을 위해 파이썬 로거를 사용\n",
    "    # https://stackoverflow.com/questions/17745914/python-logging-module-is-printing-lines-multiple-times\n",
    "    '''\n",
    "    loglevel = logging.DEBUG\n",
    "    l = logging.getLogger(__name__)\n",
    "    if not l.hasHandlers():\n",
    "        l.setLevel(loglevel)\n",
    "        logging.getLogger().addHandler(logging.StreamHandler(sys.stdout))        \n",
    "        l.handler_set = True\n",
    "    return l  \n",
    "logger = _get_logger()\n",
    "\n",
    "def parse_args():\n",
    "    parser = argparse.ArgumentParser()\n",
    "    parser.add_argument(\"--train_dir\", type=str, default='/opt/ml/processing/input/train')\n",
    "    parser.add_argument(\"--test_dir\", type=str, default='/opt/ml/processing/input/test')\n",
    "    parser.add_argument('--output_dir', type = str, default = '/opt/ml/processing/output')\n",
    "    parser.add_argument('--item', type = str, default = 'FCPOc3')\n",
    "    parser.add_argument('--target', type = str, default = 'y')\n",
    "    parser.add_argument('--metric', type = str, default = 'MAPE')    \n",
    "    parser.add_argument('--quality', type = str, default = 'fast_training')    \n",
    "    return parser.parse_args()\n",
    "\n",
    "def create_tarfile(source_dir, output_filename=None):\n",
    "    ''' create a tarfile from a source directory'''\n",
    "    if output_filename == None:\n",
    "        output_filename = \"%s/tmptar.tar\" %(tempfile.mkdtemp())\n",
    "    with tarfile.open(output_filename, \"w:gz\") as tar:\n",
    "        tar.add(source_dir, arcname=os.path.basename(source_dir))\n",
    "    return output_filename \n",
    "\n",
    "def make_tarfile(source_dir, output_filename):\n",
    "    with tarfile.open(output_filename, \"w:gz\") as tar:\n",
    "        tar.add(source_dir, arcname=os.path.basename(source_dir))\n",
    "    return os.path.join(source_dir, output_filename)\n",
    "\n",
    "if __name__ == \"__main__\":\n",
    "    ############################################\n",
    "    ########## 필요 라이브러리 설치  ###########\n",
    "    ########################################### \n",
    "    subprocess.check_call([sys.executable, '-m', 'pip', 'install', 'autogluon==0.6.1'])\n",
    "    from autogluon.timeseries import TimeSeriesDataFrame, TimeSeriesPredictor\n",
    "    \n",
    "    ######################################\n",
    "    ## 커맨드 인자, Hyperparameters 처리 ##\n",
    "    ######################################\n",
    "    logger.info(\"######### Argument Info ####################################\")\n",
    "    logger.info(\"### start training code\")    \n",
    "    logger.info(\"### Argument Info ###\")\n",
    "    args = parse_args()\n",
    "        \n",
    "    logger.info(f\"args.train_dir: {args.train_dir}\")   \n",
    "    logger.info(f\"args.test_dir: {args.test_dir}\")   \n",
    "    logger.info(f\"args.output_dir: {args.output_dir}\")    \n",
    "    logger.info(f\"args.item: {args.item}\")   \n",
    "    logger.info(f\"args.target: {args.target}\")    \n",
    "    logger.info(f\"args.metric: {args.metric}\")   \n",
    "    logger.info(f\"args.quality: {args.quality}\")   \n",
    "    \n",
    "    train_dir = args.train_dir\n",
    "    test_dir = args.test_dir\n",
    "    output_dir = args.output_dir\n",
    "    prediction_dir = os.path.join(output_dir, 'prediction')\n",
    "    leaderboard_dir = os.path.join(output_dir, 'leaderboard')\n",
    "    model_dir = os.path.join(output_dir, 'model')\n",
    "    \n",
    "    for path in [prediction_dir, leaderboard_dir, model_dir]:\n",
    "        if not os.path.exists(path):\n",
    "            os.mkdir(path)\n",
    "    item = args.item\n",
    "    target = args.target\n",
    "    metric = args.metric\n",
    "    quality = args.quality\n",
    "    \n",
    "    trlist = sorted(os.listdir(train_dir))\n",
    "    telist = sorted(os.listdir(test_dir))\n",
    "    \n",
    "    logger.info(f\"the list of train data {trlist}\")\n",
    "    logger.info(f\"the list of train data {telist}\")\n",
    "    \n",
    "    for train_file, test_file in zip(trlist, telist):\n",
    "        logger.info(\"### Reading input data\")\n",
    "        logger.info(f\"### train data: {train_file}\")\n",
    "        logger.info(f\"### test data: {test_file}\")\n",
    "        \n",
    "        df_train = pd.read_csv(os.path.join(train_dir, train_file))\n",
    "        df_test = pd.read_csv(os.path.join(test_dir, test_file))      \n",
    "        # df_train = df_train[df_train['ric'] != 'MCCc3']\n",
    "        # df_test = df_test[df_test['ric'] != 'MCCc3']\n",
    "        \n",
    "        logger.info(\"### Convert TimeSeriesDataFrame\")\n",
    "        df_train.loc[:, \"ds\"] = pd.to_datetime(df_train.loc[:, \"ds\"])\n",
    "        df_test.loc[:, \"ds\"] = pd.to_datetime(df_test.loc[:, \"ds\"])\n",
    "\n",
    "        tdf_train = TimeSeriesDataFrame.from_data_frame(\n",
    "            df_train,\n",
    "            id_column=\"ric\",\n",
    "            timestamp_column=\"ds\",\n",
    "        )\n",
    "        tdf_test = TimeSeriesDataFrame.from_data_frame(\n",
    "            df_test,\n",
    "            id_column=\"ric\",\n",
    "            timestamp_column=\"ds\",\n",
    "        )\n",
    "\n",
    "        logger.info(\"### Show the range of date for training and test\")    \n",
    "        logger.info('Item:', item)\n",
    "        logger.info('Target:', target)   \n",
    "        logger.info('Train:',tdf_train.loc[item][target].index.min(),'~',tdf_train.loc[item][target].index.max())\n",
    "        logger.info('Test:',tdf_test.loc[item][target].index.min(),'~',tdf_test.loc[item][target].index.max())\n",
    "        logger.info('The number of test data:',len(tdf_test.loc[item][target]))\n",
    "\n",
    "        logger.info(\"### Training AutoGluon Model\")    \n",
    "        predictor = TimeSeriesPredictor(\n",
    "            path = model_dir,\n",
    "            target = target,\n",
    "            prediction_length = len(tdf_test.loc[item][target]),\n",
    "            eval_metric = metric,\n",
    "        )\n",
    "        predictor.fit(\n",
    "            train_data = tdf_train,\n",
    "            presets = quality\n",
    "        )\n",
    "        logger.info(\"the list of data in model_dir {}\".format(os.listdir(model_dir)))\n",
    "        tar_file_path = make_tarfile(model_dir, f'{model_dir}/model.tar.gz')\n",
    "        logger.info(\"Saving model to {}\".format(tar_file_path))\n",
    "\n",
    "        predictor_leaderboard = predictor.leaderboard(tdf_test, silent = True)\n",
    "        predictor_leaderboard = predictor_leaderboard.sort_values(by = ['score_val', 'score_test'],\n",
    "                                                                  ascending = False)\n",
    "        predictor_leaderboard.to_csv(os.path.join(leaderboard_dir,\n",
    "                                                  f'leaderboard-{test_file}'),\n",
    "                                     index = False)\n",
    "        logger.info(f\"predictor_leaderboard sample: head(2) \\n {predictor_leaderboard.head(2)}\")\n",
    "        \n",
    "        top_model_name = predictor_leaderboard.loc[0, 'model']\n",
    "        # second_model_name = predictor_leaderboard.loc[1, 'model']\n",
    "        \n",
    "        prediction_ag_model_01 = predictor.predict(data = tdf_train,\n",
    "                                                   model = top_model_name)\n",
    "#         prediction_ag_model_02 = predictor.predict(data = tdf_train,\n",
    "#                                                    model = second_model_name)\n",
    "        pred_result_01 = pd.merge(tdf_test.loc['FCPOc3']['y'], prediction_ag_model_01.loc['FCPOc3'],\n",
    "                                  left_index = True, right_index = True, how = 'left')\n",
    "        pred_result_01.to_csv(os.path.join(prediction_dir,\n",
    "                                           f'pred-{top_model_name}-{test_file}'))   \n",
    "        # pred_result_02 = pd.merge(tdf_test.loc['FCPOc3']['y'], prediction_ag_model_02.loc['FCPOc3'],\n",
    "        #                           left_index = True, right_index = True, how = 'left')\n",
    "        # pred_result_02.to_csv(os.path.join(prediction_dir,\n",
    "        #                                    f'pred-{second_model_name}-{test_file}'))   "
   ]
  },
  {
   "cell_type": "code",
   "execution_count": 6,
   "id": "12c8f9d3-d976-4f6d-a685-9ade98b54ba3",
   "metadata": {},
   "outputs": [
    {
     "name": "stdout",
     "output_type": "stream",
     "text": [
      "Stored variables and their in-db values:\n",
      "KST_aday_before                   -> datetime.datetime(2023, 2, 26, 7, 51, 52, 826075)\n",
      "datalake_base_path                -> 's3://ai-data-lake/crude-palm-oil-prices-forecast'\n",
      "golden_data_dir                   -> 's3://crude-palm-oil-prices-forecast/golden-data/2\n",
      "leaderboard_base_path             -> 's3://crude-palm-oil-prices-forecast/trained-model\n",
      "manifest_base_path                -> 's3://crude-palm-oil-prices-forecast/trained-model\n",
      "model_base_path                   -> 's3://crude-palm-oil-prices-forecast/trained-model\n",
      "model_validation_code             -> 'src/v1.2/model_validation.py'\n",
      "num_fold                          -> '3'\n",
      "prediction_base_path              -> 's3://crude-palm-oil-prices-forecast/trained-model\n",
      "preprocessing_code                -> 's3://crude-palm-oil-prices-forecast/src/preproces\n",
      "project_prefix                    -> 'crude-palm-oil-prices-forecast'\n",
      "raw_data_path                     -> 's3://ai-data-lake/crude-palm-oil-prices-forecast/\n",
      "scaler_data_dir                   -> 's3://crude-palm-oil-prices-forecast/golden-data/2\n",
      "scaler_switch                     -> '1'\n",
      "split_end                         -> '2023-02-27'\n",
      "split_start                       -> '2018-01-01'\n",
      "staged_data_dir                   -> 's3://crude-palm-oil-prices-forecast/staged-data/2\n",
      "test_data_dir                     -> 's3://crude-palm-oil-prices-forecast/golden-data/2\n",
      "train_data_dir                    -> 's3://crude-palm-oil-prices-forecast/golden-data/2\n",
      "trained_model_dir                 -> 's3://crude-palm-oil-prices-forecast/trained-model\n",
      "training_code                     -> 's3://crude-palm-oil-prices-forecast/src/train.py'\n",
      "usecase_base_path                 -> 's3://crude-palm-oil-prices-forecast'\n"
     ]
    }
   ],
   "source": [
    "%store"
   ]
  },
  {
   "cell_type": "code",
   "execution_count": null,
   "id": "69950ba7-0b32-46d6-a50d-d8634ba65dc8",
   "metadata": {},
   "outputs": [],
   "source": [
    "!aws s3 cp 'src/v1.2/train.py' 's3://crude-palm-oil-prices-forecast/src/train.py' --exclude \".ipynb_checkpoints*\""
   ]
  },
  {
   "cell_type": "code",
   "execution_count": 7,
   "id": "224de32f-be04-4de9-96c0-28dcf74849d5",
   "metadata": {},
   "outputs": [
    {
     "name": "stdout",
     "output_type": "stream",
     "text": [
      "Stored 'training_code' (str)\n"
     ]
    }
   ],
   "source": [
    "training_code = 's3://crude-palm-oil-prices-forecast/src/v1.2/train.py'\n",
    "%store training_code"
   ]
  },
  {
   "cell_type": "code",
   "execution_count": 9,
   "id": "3fd59979-f331-44f7-b1c8-57ae2d1ce371",
   "metadata": {},
   "outputs": [],
   "source": [
    "# print(KST_aday_before)"
   ]
  },
  {
   "cell_type": "code",
   "execution_count": 10,
   "id": "f1ff623a-5a3a-47b9-a427-e1c9fa49a1bc",
   "metadata": {},
   "outputs": [],
   "source": [
    "# !aws s3 ls s3://crude-palm-oil-prices-forecast/golden-data/2023/02/07 --recursive |grep -v 'golden-data/2023/02/07/scaler-files/*'"
   ]
  },
  {
   "cell_type": "markdown",
   "id": "48076217-25da-4928-95d6-7b901c548edc",
   "metadata": {},
   "source": [
    "# 1. 모델 빌딩 파이프라인 의 스텝(Step) 생성\n",
    "## 1) 모델 빌딩 파이프라인 변수 생성\n",
    "파이프라인에서 사용할 파이프라인 파라미터를 정의합니다. 파이프라인을 스케줄하고 실행할 때 파라미터를 이용하여 실행조건을 커스마이징할 수 있습니다. 파라미터를 이용하면 파이프라인 실행시마다 매번 파이프라인 정의를 수정하지 않아도 됩니다.\n",
    "\n",
    "지원되는 파라미터 타입은 다음과 같습니다:\n",
    "\n",
    "- ParameterString - 파이썬 타입에서 str\n",
    "- ParameterInteger - 파이썬 타입에서 int\n",
    "- ParameterFloat - 파이썬 타입에서 float\n",
    "이들 파라미터를 정의할 때 디폴트 값을 지정할 수 있으며 파이프라인 실행시 재지정할 수도 있습니다. 지정하는 디폴트 값은 파라미터 타입과 일치하여야 합니다.\n",
    "\n",
    "본 노트북에서 사용하는 파라미터는 다음과 같습니다.\n",
    "\n",
    "- processing_instance_type - 프로세싱 작업에서 사용할 ml.* 인스턴스 타입\n",
    "- processing_instance_count - 프로세싱 작업에서 사용할 인스턴스 개수\n",
    "- training_instance_type - 학습작업에서 사용할 ml.* 인스턴스 타입\n",
    "- model_approval_status - 학습된 모델을 CI/CD를 목적으로 등록할 때의 승인 상태 (디폴트는 \"PendingManualApproval\")\n",
    "- input_data - 입력데이터에 대한 S3 버킷 URI\n",
    "파이프라인의 각 스텝에서 사용할 변수를 파라미터 변수로서 정의 합니다."
   ]
  },
  {
   "cell_type": "code",
   "execution_count": 8,
   "id": "42d0bde4-d189-4042-9873-26ce31371b19",
   "metadata": {},
   "outputs": [
    {
     "name": "stdout",
     "output_type": "stream",
     "text": [
      "2023 02 26\n"
     ]
    }
   ],
   "source": [
    "yyyy, mm, dd = str(KST_aday_before.year), str(KST_aday_before.month).zfill(2), str(KST_aday_before.day).zfill(2)\n",
    "print(yyyy,mm,dd)"
   ]
  },
  {
   "cell_type": "code",
   "execution_count": 9,
   "id": "f653b941-926b-4f60-9422-42450f1dbda7",
   "metadata": {},
   "outputs": [],
   "source": [
    "from sagemaker.workflow.parameters import (ParameterInteger,\n",
    "                                           ParameterString,\n",
    "                                          )\n",
    "\n",
    "train_instance_type = ParameterString(\n",
    "    name = \"TrainingInstanceType\",\n",
    "    default_value = \"ml.m5.xlarge\"\n",
    ")\n",
    "train_instance_count = ParameterInteger(\n",
    "    name = \"TrainInstanceCount\",\n",
    "    default_value = 1\n",
    ")\n",
    "input_golden_data_path = ParameterString(\n",
    "    name = \"InputGoldenDataPath\",\n",
    "    default_value = golden_data_dir,\n",
    ")\n",
    "input_train_path = ParameterString(\n",
    "    name = \"InputTrainPath\",\n",
    "    default_value = train_data_dir,\n",
    ")\n",
    "input_test_path = ParameterString(\n",
    "    name = \"InputTestPath\",\n",
    "    default_value = test_data_dir,\n",
    ")"
   ]
  },
  {
   "cell_type": "markdown",
   "id": "07c87d4e-19c8-4aa0-a2fc-9494154f7657",
   "metadata": {},
   "source": [
    "## 2) 프로세서 단계 정의\n"
   ]
  },
  {
   "cell_type": "code",
   "execution_count": 10,
   "id": "da76df35-2a6a-4c04-a842-71b776e7fb7d",
   "metadata": {},
   "outputs": [],
   "source": [
    "from sagemaker.image_uris import retrieve\n",
    "from sagemaker.processing import ScriptProcessor, ProcessingInput, ProcessingOutput"
   ]
  },
  {
   "cell_type": "code",
   "execution_count": 11,
   "id": "db72fc31-f016-480d-bead-e28100218d4c",
   "metadata": {},
   "outputs": [],
   "source": [
    "item = 'FCPOc3'\n",
    "target = 'y'\n",
    "metric = 'MAPE'\n",
    "quality = 'fast_training'#'medium_quality'#'fast_training'"
   ]
  },
  {
   "cell_type": "code",
   "execution_count": 12,
   "id": "2f6da1d4-84f1-4cc4-be53-85bbba7a0444",
   "metadata": {},
   "outputs": [
    {
     "name": "stderr",
     "output_type": "stream",
     "text": [
      "The input argument instance_type of function (sagemaker.image_uris.retrieve) is a pipeline variable (<class 'sagemaker.workflow.parameters.ParameterString'>), which is not allowed. The default_value of this Parameter object will be used to override it. Please make sure the default_value is valid.\n"
     ]
    }
   ],
   "source": [
    "role = sagemaker.get_execution_role()\n",
    "image_uri = retrieve(framework='mxnet',\n",
    "                     region='ap-northeast-2',\n",
    "                     version='1.9.0',\n",
    "                     py_version='py38',\n",
    "                     image_scope='training',\n",
    "                     instance_type=train_instance_type)\n",
    "\n",
    "script_processor_training = ScriptProcessor(\n",
    "    command=['python3'],\n",
    "    image_uri=image_uri,\n",
    "    instance_type = train_instance_type,\n",
    "    instance_count = train_instance_count,\n",
    "    base_job_name = f\"{BUCKET_NAME_USECASE}(Train Model)\",\n",
    "    role = role,\n",
    ")"
   ]
  },
  {
   "cell_type": "markdown",
   "id": "3e1a2a48-9b65-4f92-a30f-26c018a19545",
   "metadata": {},
   "source": [
    "## 3) 모델 훈련 파이프라인 스탭 단계 정의\n",
    "스텝 생성시에 위에서 생성한 Estimator 입력 및 입력 데이타로서 전처리 데이터가 존재하는 S3 경로를 제공합니다."
   ]
  },
  {
   "cell_type": "code",
   "execution_count": 13,
   "id": "273459d7-26d8-439f-b987-b0f4738188b6",
   "metadata": {},
   "outputs": [
    {
     "data": {
      "text/plain": [
       "'s3://crude-palm-oil-prices-forecast/trained-model/2023/02/26/1677484312.0'"
      ]
     },
     "execution_count": 13,
     "metadata": {},
     "output_type": "execute_result"
    }
   ],
   "source": [
    "trained_model_dir"
   ]
  },
  {
   "cell_type": "code",
   "execution_count": 27,
   "id": "e3ee52a5-48d2-40f0-a9e4-d100df629835",
   "metadata": {},
   "outputs": [],
   "source": [
    "from sagemaker.processing import ProcessingInput, ProcessingOutput\n",
    "from sagemaker.workflow.steps import ProcessingStep\n",
    "\n",
    "step_training = ProcessingStep(\n",
    "    name = f\"{BUCKET_NAME_USECASE}-Training\",\n",
    "    processor = script_processor_training,\n",
    "    inputs=[\n",
    "        ProcessingInput(input_name = 'input_train_path',\n",
    "                        source = input_train_path,\n",
    "                        destination = \"/opt/ml/processing/input/train\"),\n",
    "        ProcessingInput(input_name = 'input_test_path',\n",
    "                        source = input_test_path,\n",
    "                        destination = \"/opt/ml/processing/input/test\"),\n",
    "    ],\n",
    "    outputs=[\n",
    "        ProcessingOutput(output_name = \"prediction_data\",\n",
    "                         source = \"/opt/ml/processing/output/prediction\",\n",
    "                         destination = f'{trained_model_dir}/prediction'),\n",
    "        ProcessingOutput(output_name = \"leaderboard_data\",\n",
    "                         source = \"/opt/ml/processing/output/leaderboard\",\n",
    "                         destination = f'{trained_model_dir}/leaderboard'),        \n",
    "        ProcessingOutput(output_name = \"model_data\",\n",
    "                         source = \"/opt/ml/processing/output/model\",\n",
    "                         destination = f'{trained_model_dir}/model')\n",
    "        ],\n",
    "    job_arguments = [\"--item\", item,\n",
    "                     \"--target\", target,\n",
    "                     \"--metric\", metric,\n",
    "                     \"--quality\", quality],\n",
    "    code = training_code\n",
    ")\n"
   ]
  },
  {
   "cell_type": "code",
   "execution_count": 21,
   "id": "379ed94d-174e-4abe-9c07-4e30c80aa188",
   "metadata": {},
   "outputs": [],
   "source": [
    "#     parser.add_argument('--output_data_dir', type = str, default = os.environ.get('SM_OUTPUT_DATA_DIR'))\n",
    "#     parser.add_argument(\"--model_dir\", type=str, default=os.environ[\"SM_MODEL_DIR\"])\n",
    "#     parser.add_argument(\"--train_dir\", type=str, default=os.environ[\"SM_CHANNEL_TRAIN\"])\n",
    "#     parser.add_argument(\"--test_dir\", type=str, default=os.environ[\"SM_CHANNEL_TEST\"])\n",
    "#     parser.add_argument('--item', type = str, default = 'FCPOc3')\n",
    "#     parser.add_argument('--target', type = str, default = 'y')\n",
    "#     parser.add_argument('--metric', type = str, default = 'MAPE')    \n",
    "#     parser.add_argument('--quality', type = str, default = 'low_quality')    "
   ]
  },
  {
   "cell_type": "markdown",
   "id": "d93bab7b-2164-4783-b3e0-ce403ba46742",
   "metadata": {},
   "source": [
    "# 2. 파이프라인 실행"
   ]
  },
  {
   "cell_type": "code",
   "execution_count": 28,
   "id": "944e0215-30fd-4661-bc34-b676d67a68c2",
   "metadata": {},
   "outputs": [],
   "source": [
    "from sagemaker.workflow.pipeline import Pipeline\n",
    "from sagemaker.workflow.steps import ProcessingStep\n",
    "\n",
    "pipeline = Pipeline(name = BUCKET_NAME_USECASE,\n",
    "                    parameters = [train_instance_type,        \n",
    "                                  train_instance_count,         \n",
    "                                  input_train_path,\n",
    "                                  input_test_path,\n",
    "                                 ],\n",
    "                    steps=[step_training],\n",
    ")"
   ]
  },
  {
   "cell_type": "code",
   "execution_count": 29,
   "id": "76430e25-1a89-407b-ad21-c8ec5bbac6cd",
   "metadata": {},
   "outputs": [
    {
     "data": {
      "text/plain": [
       "{'Version': '2020-12-01',\n",
       " 'Metadata': {},\n",
       " 'Parameters': [{'Name': 'TrainingInstanceType',\n",
       "   'Type': 'String',\n",
       "   'DefaultValue': 'ml.m5.xlarge'},\n",
       "  {'Name': 'TrainInstanceCount', 'Type': 'Integer', 'DefaultValue': 1},\n",
       "  {'Name': 'InputTrainPath',\n",
       "   'Type': 'String',\n",
       "   'DefaultValue': 's3://crude-palm-oil-prices-forecast/golden-data/2023/02/26/1677484312.0/train'},\n",
       "  {'Name': 'InputTestPath',\n",
       "   'Type': 'String',\n",
       "   'DefaultValue': 's3://crude-palm-oil-prices-forecast/golden-data/2023/02/26/1677484312.0/test'}],\n",
       " 'PipelineExperimentConfig': {'ExperimentName': {'Get': 'Execution.PipelineName'},\n",
       "  'TrialName': {'Get': 'Execution.PipelineExecutionId'}},\n",
       " 'Steps': [{'Name': 'crude-palm-oil-prices-forecast-Training',\n",
       "   'Type': 'Processing',\n",
       "   'Arguments': {'ProcessingResources': {'ClusterConfig': {'InstanceType': {'Get': 'Parameters.TrainingInstanceType'},\n",
       "      'InstanceCount': {'Get': 'Parameters.TrainInstanceCount'},\n",
       "      'VolumeSizeInGB': 30}},\n",
       "    'AppSpecification': {'ImageUri': '763104351884.dkr.ecr.ap-northeast-2.amazonaws.com/mxnet-training:1.9.0-cpu-py38',\n",
       "     'ContainerArguments': ['--item',\n",
       "      'FCPOc3',\n",
       "      '--target',\n",
       "      'y',\n",
       "      '--metric',\n",
       "      'MAPE',\n",
       "      '--quality',\n",
       "      'fast_training'],\n",
       "     'ContainerEntrypoint': ['python3',\n",
       "      '/opt/ml/processing/input/code/train.py']},\n",
       "    'RoleArn': 'arn:aws:iam::108594546720:role/service-role/AmazonSageMaker-ExecutionRole-20220901T154875',\n",
       "    'ProcessingInputs': [{'InputName': 'input_train_path',\n",
       "      'AppManaged': False,\n",
       "      'S3Input': {'S3Uri': {'Get': 'Parameters.InputTrainPath'},\n",
       "       'LocalPath': '/opt/ml/processing/input/train',\n",
       "       'S3DataType': 'S3Prefix',\n",
       "       'S3InputMode': 'File',\n",
       "       'S3DataDistributionType': 'FullyReplicated',\n",
       "       'S3CompressionType': 'None'}},\n",
       "     {'InputName': 'input_test_path',\n",
       "      'AppManaged': False,\n",
       "      'S3Input': {'S3Uri': {'Get': 'Parameters.InputTestPath'},\n",
       "       'LocalPath': '/opt/ml/processing/input/test',\n",
       "       'S3DataType': 'S3Prefix',\n",
       "       'S3InputMode': 'File',\n",
       "       'S3DataDistributionType': 'FullyReplicated',\n",
       "       'S3CompressionType': 'None'}},\n",
       "     {'InputName': 'code',\n",
       "      'AppManaged': False,\n",
       "      'S3Input': {'S3Uri': 's3://sagemaker-ap-northeast-2-108594546720/crude-palm-oil-prices-forecast-Training-08f8192b066c43925206e46065093e4e/input/code/train.py',\n",
       "       'LocalPath': '/opt/ml/processing/input/code',\n",
       "       'S3DataType': 'S3Prefix',\n",
       "       'S3InputMode': 'File',\n",
       "       'S3DataDistributionType': 'FullyReplicated',\n",
       "       'S3CompressionType': 'None'}}],\n",
       "    'ProcessingOutputConfig': {'Outputs': [{'OutputName': 'prediction_data',\n",
       "       'AppManaged': False,\n",
       "       'S3Output': {'S3Uri': 's3://crude-palm-oil-prices-forecast/trained-model/2023/02/26/1677484312.0/prediction',\n",
       "        'LocalPath': '/opt/ml/processing/output/prediction',\n",
       "        'S3UploadMode': 'EndOfJob'}},\n",
       "      {'OutputName': 'leaderboard_data',\n",
       "       'AppManaged': False,\n",
       "       'S3Output': {'S3Uri': 's3://crude-palm-oil-prices-forecast/trained-model/2023/02/26/1677484312.0/leaderboard',\n",
       "        'LocalPath': '/opt/ml/processing/output/leaderboard',\n",
       "        'S3UploadMode': 'EndOfJob'}},\n",
       "      {'OutputName': 'model_data',\n",
       "       'AppManaged': False,\n",
       "       'S3Output': {'S3Uri': 's3://crude-palm-oil-prices-forecast/trained-model/2023/02/26/1677484312.0/model',\n",
       "        'LocalPath': '/opt/ml/processing/output/model',\n",
       "        'S3UploadMode': 'EndOfJob'}}]}}}]}"
      ]
     },
     "execution_count": 29,
     "metadata": {},
     "output_type": "execute_result"
    }
   ],
   "source": [
    "import json\n",
    "\n",
    "definition = json.loads(pipeline.definition())\n",
    "definition"
   ]
  },
  {
   "cell_type": "markdown",
   "id": "9266c6b2-6faf-4b1e-9fa6-e5323e749ff2",
   "metadata": {},
   "source": [
    "에러조심\n",
    "- ValueError: TimeSeriesPredictor does not yet support missing values. Please make sure that the provided data contains no NaNs.\n"
   ]
  },
  {
   "cell_type": "code",
   "execution_count": 30,
   "id": "028b7c73-408a-4e8f-804f-f2fe5208fd8b",
   "metadata": {},
   "outputs": [
    {
     "name": "stdout",
     "output_type": "stream",
     "text": [
      "CPU times: user 1.26 s, sys: 18.9 ms, total: 1.28 s\n",
      "Wall time: 12min 41s\n"
     ]
    }
   ],
   "source": [
    "%%time\n",
    "start = time.time()\n",
    "pipeline.upsert(role_arn=sagemaker.get_execution_role())\n",
    "execution = pipeline.start()\n",
    "execution.wait()\n",
    "end = time.time()"
   ]
  },
  {
   "cell_type": "code",
   "execution_count": 31,
   "id": "74b72d8b-5ac2-4316-b2f4-9c9b22611e9a",
   "metadata": {},
   "outputs": [
    {
     "name": "stdout",
     "output_type": "stream",
     "text": [
      "training 시간 : 12.7 min(761.5 sec)\n"
     ]
    }
   ],
   "source": [
    "print(f\"training 시간 : {((end - start)/60):.1f} min({end - start:.1f} sec)\")"
   ]
  },
  {
   "cell_type": "markdown",
   "id": "976b331d-992d-43bf-9a15-d8d1afd4fa8c",
   "metadata": {},
   "source": [
    "   \n",
    "- [2022년 11월 25일] training 시간 : 513.4sec(8.6min)\n",
    "- [2023년 01월 21일] training 시간 : 16.1 min(965.5 sec)\n",
    "- [2023년 02월 27일] training 시간 : 14.1 min(848.0 sec)"
   ]
  },
  {
   "cell_type": "code",
   "execution_count": 32,
   "id": "0185ef7f-af33-479b-a24c-a012f132c445",
   "metadata": {},
   "outputs": [
    {
     "data": {
      "text/plain": [
       "{'PipelineArn': 'arn:aws:sagemaker:ap-northeast-2:108594546720:pipeline/crude-palm-oil-prices-forecast',\n",
       " 'PipelineExecutionArn': 'arn:aws:sagemaker:ap-northeast-2:108594546720:pipeline/crude-palm-oil-prices-forecast/execution/ei618738nqd8',\n",
       " 'PipelineExecutionDisplayName': 'execution-1677573005922',\n",
       " 'PipelineExecutionStatus': 'Succeeded',\n",
       " 'PipelineExperimentConfig': {'ExperimentName': 'crude-palm-oil-prices-forecast',\n",
       "  'TrialName': 'ei618738nqd8'},\n",
       " 'CreationTime': datetime.datetime(2023, 2, 28, 8, 30, 5, 802000, tzinfo=tzlocal()),\n",
       " 'LastModifiedTime': datetime.datetime(2023, 2, 28, 8, 42, 36, 829000, tzinfo=tzlocal()),\n",
       " 'CreatedBy': {},\n",
       " 'LastModifiedBy': {},\n",
       " 'ResponseMetadata': {'RequestId': '5f3eed44-a04f-42c6-827c-67fe54f2a1a6',\n",
       "  'HTTPStatusCode': 200,\n",
       "  'HTTPHeaders': {'x-amzn-requestid': '5f3eed44-a04f-42c6-827c-67fe54f2a1a6',\n",
       "   'content-type': 'application/x-amz-json-1.1',\n",
       "   'content-length': '541',\n",
       "   'date': 'Tue, 28 Feb 2023 08:59:50 GMT'},\n",
       "  'RetryAttempts': 0}}"
      ]
     },
     "execution_count": 32,
     "metadata": {},
     "output_type": "execute_result"
    }
   ],
   "source": [
    "execution.describe()"
   ]
  },
  {
   "cell_type": "code",
   "execution_count": 33,
   "id": "fd8e4b95-c006-4732-8fae-888c3eb8a528",
   "metadata": {},
   "outputs": [
    {
     "data": {
      "text/plain": [
       "[{'StepName': 'crude-palm-oil-prices-forecast-Training',\n",
       "  'StartTime': datetime.datetime(2023, 2, 28, 8, 30, 6, 749000, tzinfo=tzlocal()),\n",
       "  'EndTime': datetime.datetime(2023, 2, 28, 8, 42, 36, 625000, tzinfo=tzlocal()),\n",
       "  'StepStatus': 'Succeeded',\n",
       "  'AttemptCount': 0,\n",
       "  'Metadata': {'ProcessingJob': {'Arn': 'arn:aws:sagemaker:ap-northeast-2:108594546720:processing-job/pipelines-ei618738nqd8-crude-palm-oil-price-ccawdktqlf'}}}]"
      ]
     },
     "execution_count": 33,
     "metadata": {},
     "output_type": "execute_result"
    }
   ],
   "source": [
    "response = execution.list_steps()\n",
    "response"
   ]
  },
  {
   "cell_type": "code",
   "execution_count": 34,
   "id": "160da2ad-6ada-447d-bc19-758f5e4d53d6",
   "metadata": {},
   "outputs": [
    {
     "data": {
      "text/plain": [
       "{'ProcessingInputs': [{'InputName': 'input_train_path',\n",
       "   'AppManaged': False,\n",
       "   'S3Input': {'S3Uri': 's3://crude-palm-oil-prices-forecast/golden-data/2023/02/26/1677484312.0/train',\n",
       "    'LocalPath': '/opt/ml/processing/input/train',\n",
       "    'S3DataType': 'S3Prefix',\n",
       "    'S3InputMode': 'File',\n",
       "    'S3DataDistributionType': 'FullyReplicated',\n",
       "    'S3CompressionType': 'None'}},\n",
       "  {'InputName': 'input_test_path',\n",
       "   'AppManaged': False,\n",
       "   'S3Input': {'S3Uri': 's3://crude-palm-oil-prices-forecast/golden-data/2023/02/26/1677484312.0/test',\n",
       "    'LocalPath': '/opt/ml/processing/input/test',\n",
       "    'S3DataType': 'S3Prefix',\n",
       "    'S3InputMode': 'File',\n",
       "    'S3DataDistributionType': 'FullyReplicated',\n",
       "    'S3CompressionType': 'None'}},\n",
       "  {'InputName': 'code',\n",
       "   'AppManaged': False,\n",
       "   'S3Input': {'S3Uri': 's3://sagemaker-ap-northeast-2-108594546720/crude-palm-oil-prices-forecast-Training-08f8192b066c43925206e46065093e4e/input/code/train.py',\n",
       "    'LocalPath': '/opt/ml/processing/input/code',\n",
       "    'S3DataType': 'S3Prefix',\n",
       "    'S3InputMode': 'File',\n",
       "    'S3DataDistributionType': 'FullyReplicated',\n",
       "    'S3CompressionType': 'None'}}],\n",
       " 'ProcessingOutputConfig': {'Outputs': [{'OutputName': 'prediction_data',\n",
       "    'S3Output': {'S3Uri': 's3://crude-palm-oil-prices-forecast/trained-model/2023/02/26/1677484312.0/prediction',\n",
       "     'LocalPath': '/opt/ml/processing/output/prediction',\n",
       "     'S3UploadMode': 'EndOfJob'},\n",
       "    'AppManaged': False},\n",
       "   {'OutputName': 'leaderboard_data',\n",
       "    'S3Output': {'S3Uri': 's3://crude-palm-oil-prices-forecast/trained-model/2023/02/26/1677484312.0/leaderboard',\n",
       "     'LocalPath': '/opt/ml/processing/output/leaderboard',\n",
       "     'S3UploadMode': 'EndOfJob'},\n",
       "    'AppManaged': False},\n",
       "   {'OutputName': 'model_data',\n",
       "    'S3Output': {'S3Uri': 's3://crude-palm-oil-prices-forecast/trained-model/2023/02/26/1677484312.0/model',\n",
       "     'LocalPath': '/opt/ml/processing/output/model',\n",
       "     'S3UploadMode': 'EndOfJob'},\n",
       "    'AppManaged': False}]},\n",
       " 'ProcessingJobName': 'pipelines-ei618738nqd8-crude-palm-oil-price-cCaWdkTqLf',\n",
       " 'ProcessingResources': {'ClusterConfig': {'InstanceCount': 1,\n",
       "   'InstanceType': 'ml.m5.xlarge',\n",
       "   'VolumeSizeInGB': 30}},\n",
       " 'StoppingCondition': {'MaxRuntimeInSeconds': 86400},\n",
       " 'AppSpecification': {'ImageUri': '763104351884.dkr.ecr.ap-northeast-2.amazonaws.com/mxnet-training:1.9.0-cpu-py38',\n",
       "  'ContainerEntrypoint': ['python3', '/opt/ml/processing/input/code/train.py'],\n",
       "  'ContainerArguments': ['--item',\n",
       "   'FCPOc3',\n",
       "   '--target',\n",
       "   'y',\n",
       "   '--metric',\n",
       "   'MAPE',\n",
       "   '--quality',\n",
       "   'fast_training']},\n",
       " 'RoleArn': 'arn:aws:iam::108594546720:role/service-role/AmazonSageMaker-ExecutionRole-20220901T154875',\n",
       " 'ExperimentConfig': {'ExperimentName': 'crude-palm-oil-prices-forecast',\n",
       "  'TrialName': 'ei618738nqd8'},\n",
       " 'ProcessingJobArn': 'arn:aws:sagemaker:ap-northeast-2:108594546720:processing-job/pipelines-ei618738nqd8-crude-palm-oil-price-ccawdktqlf',\n",
       " 'ProcessingJobStatus': 'Completed',\n",
       " 'ProcessingEndTime': datetime.datetime(2023, 2, 28, 8, 42, 35, 548000, tzinfo=tzlocal()),\n",
       " 'ProcessingStartTime': datetime.datetime(2023, 2, 28, 8, 33, 57, 748000, tzinfo=tzlocal()),\n",
       " 'LastModifiedTime': datetime.datetime(2023, 2, 28, 8, 42, 36, 136000, tzinfo=tzlocal()),\n",
       " 'CreationTime': datetime.datetime(2023, 2, 28, 8, 30, 7, 373000, tzinfo=tzlocal()),\n",
       " 'ResponseMetadata': {'RequestId': 'cba0732e-48cd-4627-aab2-b8553b1d08ce',\n",
       "  'HTTPStatusCode': 200,\n",
       "  'HTTPHeaders': {'x-amzn-requestid': 'cba0732e-48cd-4627-aab2-b8553b1d08ce',\n",
       "   'content-type': 'application/x-amz-json-1.1',\n",
       "   'content-length': '2781',\n",
       "   'date': 'Tue, 28 Feb 2023 08:59:50 GMT'},\n",
       "  'RetryAttempts': 0}}"
      ]
     },
     "execution_count": 34,
     "metadata": {},
     "output_type": "execute_result"
    }
   ],
   "source": [
    "proc_arn = response[0]['Metadata']['ProcessingJob']['Arn']\n",
    "proc_job_name = proc_arn.split('/')[-1]\n",
    "response = sm_client.describe_processing_job(ProcessingJobName = proc_job_name)\n",
    "response"
   ]
  },
  {
   "cell_type": "code",
   "execution_count": 35,
   "id": "ce04b03d-3854-4c8c-88f6-e6efb3b529ef",
   "metadata": {},
   "outputs": [],
   "source": [
    "# step_train.properties.ModelArtifacts.S3ModelArtifacts"
   ]
  },
  {
   "cell_type": "markdown",
   "id": "5fd13972-8484-4195-b1f6-78db7fb9189f",
   "metadata": {},
   "source": [
    "# 3. 모델 아티펙트 경로 추출"
   ]
  },
  {
   "cell_type": "code",
   "execution_count": 36,
   "id": "06695418-5246-47b4-8a48-d7159973d7bb",
   "metadata": {},
   "outputs": [],
   "source": [
    "def get_proc_artifact(execution, client, kind=0):\n",
    "    '''\n",
    "    kind: 0 --> prediction\n",
    "    kind: 1 --> leaderboard\n",
    "    kind: 2 --> model\n",
    "    '''\n",
    "    response = execution.list_steps()\n",
    "    proc_arn = response[-1]['Metadata']['ProcessingJob']['Arn'] # index -1은 가장 처음 실행 step\n",
    "    proc_job_name = proc_arn.split('/')[-1] # Processing job name만 추출\n",
    "    response = client.describe_processing_job(ProcessingJobName = proc_job_name)\n",
    "    file_uri = response['ProcessingOutputConfig']['Outputs'][kind]['S3Output']['S3Uri']\n",
    "    return file_uri"
   ]
  },
  {
   "cell_type": "code",
   "execution_count": 37,
   "id": "f11638ed-6c65-41f9-980b-5ae050ebbde4",
   "metadata": {},
   "outputs": [
    {
     "name": "stdout",
     "output_type": "stream",
     "text": [
      "- prediction_base_path: \n",
      " s3://crude-palm-oil-prices-forecast/trained-model/2023/02/26/1677484312.0/prediction\n",
      "\n",
      "- leaderboard_base_path: \n",
      " s3://crude-palm-oil-prices-forecast/trained-model/2023/02/26/1677484312.0/leaderboard\n",
      "\n",
      "- model_base_path: \n",
      " s3://crude-palm-oil-prices-forecast/trained-model/2023/02/26/1677484312.0/model\n"
     ]
    }
   ],
   "source": [
    "prediction_base_path = get_proc_artifact(execution, sm_client, kind=0)\n",
    "leaderboard_base_path = get_proc_artifact(execution, sm_client, kind=1)\n",
    "model_base_path = get_proc_artifact(execution, sm_client, kind=2)\n",
    "print(\"- prediction_base_path: \\n\", prediction_base_path)\n",
    "print(\"\\n- leaderboard_base_path: \\n\", leaderboard_base_path)\n",
    "print(\"\\n- model_base_path: \\n\", model_base_path)"
   ]
  },
  {
   "cell_type": "code",
   "execution_count": 29,
   "id": "edf74388-5f40-4801-9ab6-935396f42b84",
   "metadata": {},
   "outputs": [
    {
     "name": "stdout",
     "output_type": "stream",
     "text": [
      "\n",
      "- manifest_base_path: \n",
      " s3://crude-palm-oil-prices-forecast/trained-model/2023/02/26/1677484312.0/manifest\n"
     ]
    }
   ],
   "source": [
    "manifest_base_path = model_base_path.rsplit('/',1)[0] + '/manifest'\n",
    "print(\"\\n- manifest_base_path: \\n\", manifest_base_path)"
   ]
  },
  {
   "cell_type": "code",
   "execution_count": 30,
   "id": "5710a38f-5220-4551-89aa-f461380e1552",
   "metadata": {},
   "outputs": [
    {
     "name": "stdout",
     "output_type": "stream",
     "text": [
      "Stored 'prediction_base_path' (str)\n",
      "Stored 'leaderboard_base_path' (str)\n",
      "Stored 'model_base_path' (str)\n",
      "Stored 'manifest_base_path' (str)\n"
     ]
    }
   ],
   "source": [
    "%store prediction_base_path\n",
    "%store leaderboard_base_path\n",
    "%store model_base_path\n",
    "%store manifest_base_path"
   ]
  },
  {
   "cell_type": "code",
   "execution_count": 38,
   "id": "17034199-6269-4814-871a-835a674d3fde",
   "metadata": {},
   "outputs": [
    {
     "name": "stdout",
     "output_type": "stream",
     "text": [
      "- prediction_base_path: \n",
      " s3://crude-palm-oil-prices-forecast/trained-model/2023/02/26/1677484312.0/prediction\n",
      "\n",
      "- leaderboard_base_path: \n",
      " s3://crude-palm-oil-prices-forecast/trained-model/2023/02/26/1677484312.0/leaderboard\n",
      "\n",
      "- model_base_path: \n",
      " s3://crude-palm-oil-prices-forecast/trained-model/2023/02/26/1677484312.0/model\n",
      "\n",
      "- manifest_base_path: \n",
      " s3://crude-palm-oil-prices-forecast/trained-model/2023/02/26/1677484312.0/manifest\n"
     ]
    }
   ],
   "source": [
    "print(\"- prediction_base_path: \\n\", prediction_base_path)\n",
    "print(\"\\n- leaderboard_base_path: \\n\", leaderboard_base_path)\n",
    "print(\"\\n- model_base_path: \\n\", model_base_path)\n",
    "print(\"\\n- manifest_base_path: \\n\", manifest_base_path)"
   ]
  },
  {
   "cell_type": "code",
   "execution_count": 32,
   "id": "d5167516-b001-441c-88df-a663b65567f6",
   "metadata": {},
   "outputs": [],
   "source": [
    "# cd workspace"
   ]
  },
  {
   "cell_type": "code",
   "execution_count": 33,
   "id": "171ae7f2-6041-4d5c-b2c7-e3a02bbb47b8",
   "metadata": {},
   "outputs": [],
   "source": [
    "# import pandas as pd\n",
    "\n",
    "# df_pred = pd.read_csv('prediction-test_fold1.csv')"
   ]
  },
  {
   "cell_type": "code",
   "execution_count": 34,
   "id": "8c5db846-b735-4bd6-8430-549280b96ee0",
   "metadata": {},
   "outputs": [],
   "source": [
    "# np.array(df_pred['mean']).reshape(-1,1)"
   ]
  },
  {
   "cell_type": "code",
   "execution_count": 35,
   "id": "8d6e9c62-4b0b-4c9d-8152-9c9ccf3b980f",
   "metadata": {},
   "outputs": [],
   "source": [
    "# import joblib\n",
    "# import numpy as np\n",
    "# from sklearn.preprocessing import MinMaxScaler\n",
    "\n",
    "# # scaler = MinMaxScaler()\n",
    "\n",
    "# scaler = joblib.load('./FCPOc3_y_scaler.pkl') \n",
    "\n",
    "# # scaler.inverse_transform(df_pred['y'])[:, [0]]\n",
    "\n",
    "# # rescaled_actual = scaler.inverse_transform(df_pred['y'].values.reshape(-1,1))\n",
    "# rescaled_y = scaler.inverse_transform(np.array(df_pred['y']).reshape(-1,1))\n",
    "\n",
    "# rescaled_pred = scaler.inverse_transform(np.array(df_pred['mean']).reshape(-1,1))\n",
    "\n"
   ]
  },
  {
   "cell_type": "code",
   "execution_count": 36,
   "id": "f9060f17-fac3-4deb-b485-470a407c7302",
   "metadata": {},
   "outputs": [],
   "source": [
    "# rescaled_y"
   ]
  },
  {
   "cell_type": "code",
   "execution_count": 37,
   "id": "7870cff8-3f9a-4079-8f27-5dca1b592b42",
   "metadata": {},
   "outputs": [],
   "source": [
    "# rescaled_pred"
   ]
  },
  {
   "cell_type": "code",
   "execution_count": null,
   "id": "d42f434b-1fc9-4a7c-9a44-7f7219677b6d",
   "metadata": {},
   "outputs": [],
   "source": []
  }
 ],
 "metadata": {
  "kernelspec": {
   "display_name": "conda_python3",
   "language": "python",
   "name": "conda_python3"
  },
  "language_info": {
   "codemirror_mode": {
    "name": "ipython",
    "version": 3
   },
   "file_extension": ".py",
   "mimetype": "text/x-python",
   "name": "python",
   "nbconvert_exporter": "python",
   "pygments_lexer": "ipython3",
   "version": "3.10.8"
  }
 },
 "nbformat": 4,
 "nbformat_minor": 5
}
