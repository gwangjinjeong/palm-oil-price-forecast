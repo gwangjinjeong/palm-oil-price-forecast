{
 "cells": [
  {
   "cell_type": "code",
   "execution_count": 1,
   "id": "54492411-030c-47c1-be61-8480d911d441",
   "metadata": {
    "tags": []
   },
   "outputs": [],
   "source": [
    "LOCAL_MODE = False"
   ]
  },
  {
   "cell_type": "markdown",
   "id": "84b92b83-c7aa-49b1-a1ed-a976c863c1a9",
   "metadata": {},
   "source": [
    "# 0. 환경설정"
   ]
  },
  {
   "cell_type": "code",
   "execution_count": 3,
   "id": "81535be4-39fc-4dd8-a95c-9d83f6fdd9c2",
   "metadata": {
    "tags": []
   },
   "outputs": [],
   "source": [
    "import argparse\n",
    "import os\n",
    "import requests\n",
    "import tempfile\n",
    "import subprocess, sys\n",
    "\n",
    "import pandas as pd\n",
    "import numpy as np\n",
    "from glob import glob\n",
    "import copy\n",
    "from collections import OrderedDict\n",
    "from pathlib import Path\n",
    "import joblib\n",
    "\n",
    "import logging\n",
    "import logging.handlers\n",
    "\n",
    "import json\n",
    "import base64\n",
    "import boto3\n",
    "import sagemaker\n",
    "from botocore.client import Config\n",
    "from botocore.exceptions import ClientError\n",
    "\n",
    "import time\n",
    "from datetime import datetime as dt\n",
    "import datetime\n",
    "from pytz import timezone\n",
    "from dateutil.relativedelta import *"
   ]
  },
  {
   "cell_type": "code",
   "execution_count": 4,
   "id": "98babf82-8a8e-4780-9ce2-4edabd92969a",
   "metadata": {
    "tags": []
   },
   "outputs": [
    {
     "name": "stdout",
     "output_type": "stream",
     "text": [
      "Start job time: 2023-03-21 13:13:44.426338\n"
     ]
    }
   ],
   "source": [
    "# 한국 시간\n",
    "KST = dt.today() + relativedelta(hours=9)\n",
    "KST_aday_before = KST - relativedelta(days=1) \n",
    "yyyy, mm, dd = str(KST_aday_before.year), str(KST_aday_before.month).zfill(2), str(KST_aday_before.day).zfill(2)\n",
    "print(f\"Start job time: {KST}\")"
   ]
  },
  {
   "cell_type": "code",
   "execution_count": 99,
   "id": "b79a1a68-de80-4877-a7ec-76b7b5823aec",
   "metadata": {
    "tags": []
   },
   "outputs": [],
   "source": [
    "def get_secret():\n",
    "    secret_name = \"dev/ForecastPalmOilPrice\"\n",
    "    region_name = \"ap-northeast-2\"\n",
    "    \n",
    "    # Create a Secrets Manager client\n",
    "    session = boto3.session.Session()\n",
    "    client = session.client(\n",
    "        service_name='secretsmanager',\n",
    "        region_name=region_name,\n",
    "    )\n",
    "\n",
    "    try:\n",
    "        get_secret_value_response = client.get_secret_value(\n",
    "            SecretId=secret_name\n",
    "        )\n",
    "    except ClientError as e:\n",
    "        if e.response['Error']['Code'] == 'DecryptionFailureException': # Secrets Manager can't decrypt the protected secret text using the provided KMS key.\n",
    "            raise e\n",
    "        elif e.response['Error']['Code'] == 'InternalServiceErrorException': # An error occurred on the server side.\n",
    "            raise e\n",
    "        elif e.response['Error']['Code'] == 'InvalidParameterException': # You provided an invalid value for a parameter.\n",
    "            raise e\n",
    "        elif e.response['Error']['Code'] == 'InvalidRequestException': # You provided a parameter value that is not valid for the current state of the resource.\n",
    "            raise e\n",
    "        elif e.response['Error']['Code'] == 'ResourceNotFoundException': # We can't find the resource that you asked for.\n",
    "            raise e\n",
    "    else:\n",
    "        if 'SecretString' in get_secret_value_response:\n",
    "            secret = get_secret_value_response['SecretString']\n",
    "            return secret\n",
    "        else:\n",
    "            decoded_binary_secret = base64.b64decode(get_secret_value_response['SecretBinary'])\n",
    "            return decoded_binary_secret\n",
    "\n",
    "keychain = json.loads(get_secret())\n",
    "ACCESS_KEY_ID = keychain['AWS_ACCESS_KEY_ID']\n",
    "ACCESS_SECRET_KEY = keychain['AWS_ACCESS_SECRET_KEY']\n",
    "\n",
    "BUCKET_NAME_USECASE = keychain['PROJECT_BUCKET_NAME']\n",
    "DATALAKE_BUCKET_NAME = keychain['DATALAKE_BUCKET_NAME']\n",
    "\n",
    "S3_PATH_REUTER = keychain['S3_PATH_REUTER']\n",
    "S3_PATH_WWO = keychain['S3_PATH_WWO']\n",
    "S3_PATH_STAGE = keychain['S3_PATH_STAGE']\n",
    "S3_PATH_GOLDEN = keychain['S3_PATH_GOLDEN']\n",
    "S3_PATH_TRAIN = keychain['S3_PATH_TRAIN']\n",
    "S3_PATH_FORECAST = keychain['S3_PATH_PREDICTION']\n",
    "\n",
    "region = 'ap-northeast-2'\n",
    "boto3_session = boto3.Session(aws_access_key_id = ACCESS_KEY_ID,\n",
    "                              aws_secret_access_key = ACCESS_SECRET_KEY,\n",
    "                              region_name = region)\n",
    "sm_session = sagemaker.Session(boto_session = boto3_session)\n",
    "\n",
    "s3_resource = boto3_session.resource('s3')\n",
    "palmoil_bucket = s3_resource.Bucket(BUCKET_NAME_USECASE)\n",
    "datalake_bucket = s3_resource.Bucket(DATALAKE_BUCKET_NAME)\n",
    "\n",
    "sm_client = boto3_session.client('sagemaker')\n",
    "qs_client = boto3_session.client('quicksight')\n",
    "s3_client = boto3_session.client('s3')\n",
    "sts_client = boto3_session.client(\"sts\")"
   ]
  },
  {
   "cell_type": "code",
   "execution_count": 15,
   "id": "149224b0-4214-453c-8406-265cd1be7ee2",
   "metadata": {
    "tags": []
   },
   "outputs": [
    {
     "name": "stdout",
     "output_type": "stream",
     "text": [
      "Overwriting src/v1.2/prediction-autogluon.py\n"
     ]
    }
   ],
   "source": [
    "%%writefile src/v1.2/prediction-autogluon.py\n",
    "\n",
    "import argparse\n",
    "import os\n",
    "import requests\n",
    "import tempfile\n",
    "import subprocess, sys\n",
    "import json\n",
    "\n",
    "import glob\n",
    "import pandas as pd\n",
    "import joblib\n",
    "import pickle\n",
    "import tarfile\n",
    "from io import StringIO, BytesIO\n",
    "\n",
    "import logging\n",
    "import logging.handlers\n",
    "\n",
    "import time\n",
    "from datetime import datetime as dt\n",
    "\n",
    "import boto3\n",
    "\n",
    "\n",
    "###############################\n",
    "######### util 함수 설정 ##########\n",
    "###############################\n",
    "def _get_logger():\n",
    "    loglevel = logging.DEBUG\n",
    "    l = logging.getLogger(__name__)\n",
    "    if not l.hasHandlers():\n",
    "        l.setLevel(loglevel)\n",
    "        logging.getLogger().addHandler(logging.StreamHandler(sys.stdout))        \n",
    "        l.handler_set = True\n",
    "    return l  \n",
    "logger = _get_logger()\n",
    "\n",
    "def get_bucket_key_from_uri(uri):\n",
    "    uri_aws_path = uri.split('//')[1]\n",
    "    uri_bucket = uri_aws_path.rsplit('/')[0]\n",
    "    uri_file_path = '/'.join(uri_aws_path.rsplit('/')[1:])\n",
    "    return uri_bucket, uri_file_path\n",
    "\n",
    "def get_secret():\n",
    "    secret_name = \"dev/ForecastPalmOilPrice\"\n",
    "    region_name = \"ap-northeast-2\"\n",
    "    \n",
    "    # Create a Secrets Manager client\n",
    "    session = boto3.session.Session()\n",
    "    client = session.client(\n",
    "        service_name='secretsmanager',\n",
    "        region_name=region_name,\n",
    "    )\n",
    "\n",
    "    try:\n",
    "        get_secret_value_response = client.get_secret_value(\n",
    "            SecretId=secret_name\n",
    "        )\n",
    "    except ClientError as e:\n",
    "        if e.response['Error']['Code'] == 'DecryptionFailureException': # Secrets Manager can't decrypt the protected secret text using the provided KMS key.\n",
    "            raise e\n",
    "        elif e.response['Error']['Code'] == 'InternalServiceErrorException': # An error occurred on the server side.\n",
    "            raise e\n",
    "        elif e.response['Error']['Code'] == 'InvalidParameterException': # You provided an invalid value for a parameter.\n",
    "            raise e\n",
    "        elif e.response['Error']['Code'] == 'InvalidRequestException': # You provided a parameter value that is not valid for the current state of the resource.\n",
    "            raise e\n",
    "        elif e.response['Error']['Code'] == 'ResourceNotFoundException': # We can't find the resource that you asked for.\n",
    "            raise e\n",
    "    else:\n",
    "        if 'SecretString' in get_secret_value_response:\n",
    "            secret = get_secret_value_response['SecretString']\n",
    "            return secret\n",
    "        else:\n",
    "            decoded_binary_secret = base64.b64decode(get_secret_value_response['SecretBinary'])\n",
    "            return decoded_binary_secret\n",
    "        \n",
    "def parse_args():\n",
    "    parser = argparse.ArgumentParser()\n",
    "    parser.add_argument('--output_dir', type = str, default = \"/opt/ml/processing/output\", help='예측 결과값이 저장되는 곳, Inference 결과가 저장된다.')\n",
    "    parser.add_argument('--ml_algorithm_name', type=str, default = 'Autogluon')  \n",
    "    parser.add_argument('--model_package_group_name', type=str, default = BUCKET_NAME_USECASE)  \n",
    "    parser.add_argument('--qs_data_name', type=str, default = 'forecast result')    \n",
    "\n",
    "    return parser.parse_args()\n",
    "        \n",
    "if __name__=='__main__':\n",
    "    ########################################### \n",
    "    subprocess.check_call([sys.executable, '-m', 'pip', 'install', 'autogluon==0.6.1'])\n",
    "    from autogluon.timeseries import TimeSeriesDataFrame, TimeSeriesPredictor\n",
    "    \n",
    "    ############################################\n",
    "    ###### Secret Manager에서 키값 가져오기  #######\n",
    "    ########################################### \n",
    "    logger.info(f\"\\n### Loading Key value from Secret Manager\")\n",
    "    keychain = json.loads(get_secret())\n",
    "    ACCESS_KEY_ID = keychain['AWS_ACCESS_KEY_ID']\n",
    "    ACCESS_SECRET_KEY = keychain['AWS_ACCESS_SECRET_KEY']\n",
    "    BUCKET_NAME_USECASE = keychain['PROJECT_BUCKET_NAME']\n",
    "    DATALAKE_BUCKET_NAME = keychain['DATALAKE_BUCKET_NAME']\n",
    "    S3_PATH_REUTER = keychain['S3_PATH_REUTER']\n",
    "    S3_PATH_WWO = keychain['S3_PATH_WWO']\n",
    "    S3_PATH_STAGE = keychain['S3_PATH_STAGE']\n",
    "    S3_PATH_GOLDEN = keychain['S3_PATH_GOLDEN']\n",
    "    S3_PATH_TRAIN = keychain['S3_PATH_TRAIN']\n",
    "    S3_PATH_FORECAST = keychain['S3_PATH_PREDICTION']\n",
    "    \n",
    "    boto3_session = boto3.Session(aws_access_key_id = ACCESS_KEY_ID,\n",
    "                                  aws_secret_access_key = ACCESS_SECRET_KEY,\n",
    "                                  region_name = 'ap-northeast-2')\n",
    "    \n",
    "    s3_client = boto3_session.client('s3')\n",
    "    sm_client = boto3_session.client('sagemaker')\n",
    "    qs_client = boto3_session.client('quicksight')\n",
    "\n",
    "    sts_client = boto3_session.client(\"sts\")\n",
    "    user_account_id = sts_client.get_caller_identity()[\"Account\"]\n",
    "    ######################################\n",
    "    ## 커맨드 인자, Hyperparameters 처리 ##\n",
    "    ######################################  \n",
    "    logger.info(\"######### Argument Info ####################################\")\n",
    "    logger.info(\"### start training code\")    \n",
    "    logger.info(\"### Argument Info ###\")\n",
    "    args = parse_args()             \n",
    "    logger.info(f\"args.output_dir: {args.output_dir}\")\n",
    "    logger.info(f\"args.ml_algorithm_name: {args.ml_algorithm_name}\")\n",
    "    logger.info(f\"args.model_package_group_name: {args.model_package_group_name}\")\n",
    "    logger.info(f\"args.qs_data_name: {args.qs_data_name}\")\n",
    "# prediction_output_path = f\"s3://crude-palm-oil-prices-forecast/predicted-data/2023/03/19/1679292475.0/result\"\n",
    "\n",
    "    output_dir = args.output_dir\n",
    "    ml_algorithm_name = args.ml_algorithm_name\n",
    "    model_package_group_name = args.model_package_group_name\n",
    "    qs_data_name = args.qs_data_name\n",
    "\n",
    "    model_dir = f'{output_dir}/model'\n",
    "    os.makedirs(model_dir, exist_ok=True)\n",
    "    \n",
    "    result_dir = f'{output_dir}/result'\n",
    "    os.makedirs(result_dir, exist_ok=True)\n",
    "\n",
    "    manifest_base_path = f'{output_dir}/manifest'\n",
    "    os.makedirs(manifest_base_path, exist_ok=True)\n",
    "    ##########################################################\n",
    "    ###### 적합한 모델의 URI 찾고, 탑 성능 모델 이름 가져오기 ##########\n",
    "    #########################################################\n",
    "    logger.info(\"\\n######### Finding suitable model uri ####################################\")\n",
    "    model_registry_list = sm_client.list_model_packages(ModelPackageGroupName = model_package_group_name)['ModelPackageSummaryList']\n",
    "    for model in model_registry_list:\n",
    "        if (model['ModelPackageGroupName'] == model_package_group_name and\n",
    "            model['ModelApprovalStatus'] == 'Approved' and\n",
    "            model['ModelPackageDescription'] == ml_algorithm_name):\n",
    "            mr_arn = model['ModelPackageArn']\n",
    "            break\n",
    "    model_spec = sm_client.describe_model_package(ModelPackageName=mr_arn)\n",
    "    train_data_dir = model_spec['CustomerMetadataProperties']['train_data']\n",
    "    test_data_dir = model_spec['CustomerMetadataProperties']['test_data']\n",
    "    \n",
    "    s3_model_uri = model_spec['InferenceSpecification']['Containers'][0]['ModelDataUrl']\n",
    "    champion_model = model_spec['CustomerMetadataProperties']['champion_model']\n",
    "\n",
    "    logger.info(f\"Found suitable model uri: {s3_model_uri}\")\n",
    "    logger.info(f\"And top model name: {champion_model}\")\n",
    "    \n",
    "    logger.info(\"\\n#########Download suitable model file  ####################################\")\n",
    "    model_bucket, model_key = get_bucket_key_from_uri(s3_model_uri)  \n",
    "    logger.info(f\"\\nmodel_bucket: {model_bucket}, model_key: {model_key}  ####################################\")\n",
    "    model_obj = s3_client.get_object(Bucket = model_bucket, Key = model_key)\n",
    "    \n",
    "    ##########################################################\n",
    "    ###### 모델 압축 풀고 TimeseriesDataFrame으로 변환 ##########\n",
    "    #########################################################\n",
    "    logger.info(\"\\n######### Model zip file extraction ####################################\")\n",
    "    with tarfile.open(fileobj=model_obj['Body'], mode='r|gz') as file:\n",
    "        file.extractall(output_dir)\n",
    "    logger.info(f\"list in {model_dir}: {os.listdir(model_dir)}\")\n",
    "    logger.info(\"\\n######### Convert df_test dataframe into TimeSeriesDataFrame  ###########\")        \n",
    "    df_train = pd.read_csv(os.path.join(train_data_dir, 'train_fold1.csv'))\n",
    "    df_test = pd.read_csv(os.path.join(test_data_dir, 'test_fold1.csv'))\n",
    "    sum_df = pd.concat([df_train, df_test]).reset_index(drop = True)\n",
    "    sum_df.loc[:, \"ds\"] = pd.to_datetime(sum_df.loc[:, \"ds\"])\n",
    "    \n",
    "    tdf_train = TimeSeriesDataFrame.from_data_frame(\n",
    "        sum_df,\n",
    "        id_column=\"ric\",\n",
    "        timestamp_column=\"ds\",\n",
    "    )\n",
    "    logger.info(f\"sum_df sample: head(2) \\n {sum_df.head(2)}\")\n",
    "    logger.info(f\"sum_df sample: tail(2) \\n {sum_df.tail(2)}\")\n",
    "\n",
    "    ################################\n",
    "    ###### Prediction 시작 ##########\n",
    "    ###############################\n",
    "    logger.info(\"\\n######### Start prediction  ###########\")        \n",
    "    loaded_trainer = pickle.load(open(f\"{model_dir}/models/trainer.pkl\", 'rb'))\n",
    "    logger.info(f\"loaded_trainer: {loaded_trainer}\")\n",
    "    prediction_ag_model = loaded_trainer.predict(data = tdf_train,\n",
    "                                                 model = champion_model)\n",
    "    logger.info(f\"prediction_ag_model sample: head(2) \\n {prediction_ag_model.head(2)}\")\n",
    "    prediction_result = prediction_ag_model.loc['FCPOc3']\n",
    "    logger.info(f\"prediction_ag_model sample: head(2) \\n {prediction_result.head(2)}\")\n",
    "    prediction_result.to_csv(f'{result_dir}/prediction_result.csv')"
   ]
  },
  {
   "cell_type": "code",
   "execution_count": 23,
   "id": "a8f4a081-5216-488d-89e4-994dab68146d",
   "metadata": {
    "tags": []
   },
   "outputs": [
    {
     "name": "stdout",
     "output_type": "stream",
     "text": [
      "Overwriting src/v1.2/visualization.py\n"
     ]
    }
   ],
   "source": [
    "%%writefile src/v1.2/visualization.py\n",
    "\n",
    "import argparse\n",
    "import os\n",
    "import requests\n",
    "import tempfile\n",
    "import subprocess, sys\n",
    "import json\n",
    "\n",
    "import glob\n",
    "import pandas as pd\n",
    "import joblib\n",
    "import pickle\n",
    "import tarfile\n",
    "from io import StringIO, BytesIO\n",
    "\n",
    "import logging\n",
    "import logging.handlers\n",
    "\n",
    "import time\n",
    "import calendar\n",
    "from datetime import datetime as dt\n",
    "\n",
    "import boto3\n",
    "\n",
    "\n",
    "###############################\n",
    "######### util 함수 설정 ##########\n",
    "###############################\n",
    "def _get_logger():\n",
    "    loglevel = logging.DEBUG\n",
    "    l = logging.getLogger(__name__)\n",
    "    if not l.hasHandlers():\n",
    "        l.setLevel(loglevel)\n",
    "        logging.getLogger().addHandler(logging.StreamHandler(sys.stdout))        \n",
    "        l.handler_set = True\n",
    "    return l  \n",
    "logger = _get_logger()\n",
    "\n",
    "def get_secret():\n",
    "    secret_name = \"dev/ForecastPalmOilPrice\"\n",
    "    region_name = \"ap-northeast-2\"\n",
    "    \n",
    "    # Create a Secrets Manager client\n",
    "    session = boto3.session.Session()\n",
    "    client = session.client(\n",
    "        service_name='secretsmanager',\n",
    "        region_name=region_name,\n",
    "    )\n",
    "\n",
    "    try:\n",
    "        get_secret_value_response = client.get_secret_value(\n",
    "            SecretId=secret_name\n",
    "        )\n",
    "    except ClientError as e:\n",
    "        if e.response['Error']['Code'] == 'DecryptionFailureException': # Secrets Manager can't decrypt the protected secret text using the provided KMS key.\n",
    "            raise e\n",
    "        elif e.response['Error']['Code'] == 'InternalServiceErrorException': # An error occurred on the server side.\n",
    "            raise e\n",
    "        elif e.response['Error']['Code'] == 'InvalidParameterException': # You provided an invalid value for a parameter.\n",
    "            raise e\n",
    "        elif e.response['Error']['Code'] == 'InvalidRequestException': # You provided a parameter value that is not valid for the current state of the resource.\n",
    "            raise e\n",
    "        elif e.response['Error']['Code'] == 'ResourceNotFoundException': # We can't find the resource that you asked for.\n",
    "            raise e\n",
    "    else:\n",
    "        if 'SecretString' in get_secret_value_response:\n",
    "            secret = get_secret_value_response['SecretString']\n",
    "            return secret\n",
    "        else:\n",
    "            decoded_binary_secret = base64.b64decode(get_secret_value_response['SecretBinary'])\n",
    "            return decoded_binary_secret\n",
    "        \n",
    "\n",
    "def register_manifest(source_path,\n",
    "                      target_path,\n",
    "                      s3_client,\n",
    "                      BUCKET_NAME_USECASE):\n",
    "    template_json = {\"fileLocations\": [{\"URIPrefixes\": []}],\n",
    "                     \"globalUploadSettings\": {\n",
    "                         \"format\": \"CSV\",\n",
    "                         \"delimiter\": \",\"\n",
    "                     }}\n",
    "    paginator = s3_client.get_paginator('list_objects_v2')\n",
    "    response_iterator = paginator.paginate(Bucket = BUCKET_NAME_USECASE,\n",
    "                                           Prefix = source_path.split(BUCKET_NAME_USECASE+'/')[1]\n",
    "                                          )\n",
    "    for page in response_iterator:\n",
    "        logger.info(f\"\\n#### page {page}\")\n",
    "        for content in page['Contents']:\n",
    "            template_json['fileLocations'][0]['URIPrefixes'].append(f's3://{BUCKET_NAME_USECASE}/'+content['Key'])\n",
    "    with open(f'./manifest_testing.manifest', 'w') as f:\n",
    "        json.dump(template_json, f, indent=2)\n",
    "\n",
    "    res = s3_client.upload_file('./manifest_testing.manifest',\n",
    "                                BUCKET_NAME_USECASE,\n",
    "                                f\"{target_path.split(BUCKET_NAME_USECASE+'/')[1]}/visual_validation.manifest\")\n",
    "    return f\"{target_path.split(BUCKET_NAME_USECASE+'/')[1]}/visual_validation.manifest\"\n",
    "    \n",
    "\n",
    "def refresh_of_spice_datasets(user_account_id,\n",
    "                              qs_data_name,\n",
    "                              manifest_file_path,\n",
    "                              BUCKET_NAME_USECASE,\n",
    "                              qs_client):\n",
    "    \n",
    "    ds_list = qs_client.list_data_sources(AwsAccountId=user_account_id)\n",
    "    datasource_ids = [summary[\"DataSourceId\"] for summary in ds_list[\"DataSources\"] if qs_data_name in summary[\"Name\"]]    \n",
    "    for datasource_id in datasource_ids:\n",
    "        response = qs_client.update_data_source(\n",
    "            AwsAccountId=user_account_id,\n",
    "            DataSourceId=datasource_id,\n",
    "            Name=qs_data_name,\n",
    "            DataSourceParameters={\n",
    "                'S3Parameters': {\n",
    "                    'ManifestFileLocation': {\n",
    "                        'Bucket': BUCKET_NAME_USECASE,\n",
    "                        'Key':  manifest_file_path\n",
    "                    },\n",
    "                },\n",
    "            })\n",
    "        logger.info(f\"datasource_id:{datasource_id} 의 manifest를 업데이트: {response}\")\n",
    "    \n",
    "    res = qs_client.list_data_sets(AwsAccountId = user_account_id)\n",
    "    datasets_ids = [summary[\"DataSetId\"] for summary in res[\"DataSetSummaries\"] if qs_data_name in summary[\"Name\"]]\n",
    "    ingestion_ids = []\n",
    "\n",
    "    for dataset_id in datasets_ids:\n",
    "        try:\n",
    "            ingestion_id = str(calendar.timegm(time.gmtime()))\n",
    "            qs_client.create_ingestion(DataSetId = dataset_id,\n",
    "                                       IngestionId = ingestion_id,\n",
    "                                       AwsAccountId = user_account_id)\n",
    "            ingestion_ids.append(ingestion_id)\n",
    "        except Exception as e:\n",
    "            logger.info(e)\n",
    "            pass\n",
    "    for ingestion_id, dataset_id in zip(ingestion_ids, datasets_ids):\n",
    "        while True:\n",
    "            response = qs_client.describe_ingestion(DataSetId = dataset_id,\n",
    "                                                    IngestionId = ingestion_id,\n",
    "                                                    AwsAccountId = user_account_id)\n",
    "            if response['Ingestion']['IngestionStatus'] in ('INITIALIZED', 'QUEUED', 'RUNNING'):\n",
    "                time.sleep(5)     #change sleep time according to your dataset size\n",
    "            elif response['Ingestion']['IngestionStatus'] == 'COMPLETED':\n",
    "                print(\"refresh completed. RowsIngested {0}, RowsDropped {1}, IngestionTimeInSeconds {2}, IngestionSizeInBytes {3}\".format(\n",
    "                    response['Ingestion']['RowInfo']['RowsIngested'],\n",
    "                    response['Ingestion']['RowInfo']['RowsDropped'],\n",
    "                    response['Ingestion']['IngestionTimeInSeconds'],\n",
    "                    response['Ingestion']['IngestionSizeInBytes']))\n",
    "                break\n",
    "            else:\n",
    "                logger.info(\"refresh failed for {0}! - status {1}\".format(dataset_id,\n",
    "                                                                          response['Ingestion']['IngestionStatus']))\n",
    "                break\n",
    "    return response\n",
    "        \n",
    "def parse_args():\n",
    "    parser = argparse.ArgumentParser()\n",
    "    parser.add_argument(\"--source_path\", type=str, help='prediction_data')\n",
    "    parser.add_argument(\"--qs_data_name\", type=str, default='forecast_result')\n",
    "    parser.add_argument('--model_package_group_name', type=str, default = BUCKET_NAME_USECASE)  \n",
    "    return parser.parse_args()\n",
    "        \n",
    "if __name__=='__main__':\n",
    "    ############################################\n",
    "    ###### Secret Manager에서 키값 가져오기  #######\n",
    "    ########################################### \n",
    "    logger.info(f\"\\n### Loading Key value from Secret Manager\")\n",
    "    keychain = json.loads(get_secret())\n",
    "    ACCESS_KEY_ID = keychain['AWS_ACCESS_KEY_ID']\n",
    "    ACCESS_SECRET_KEY = keychain['AWS_ACCESS_SECRET_KEY']\n",
    "    BUCKET_NAME_USECASE = keychain['PROJECT_BUCKET_NAME']\n",
    "    DATALAKE_BUCKET_NAME = keychain['DATALAKE_BUCKET_NAME']\n",
    "    S3_PATH_REUTER = keychain['S3_PATH_REUTER']\n",
    "    S3_PATH_WWO = keychain['S3_PATH_WWO']\n",
    "    S3_PATH_STAGE = keychain['S3_PATH_STAGE']\n",
    "    S3_PATH_GOLDEN = keychain['S3_PATH_GOLDEN']\n",
    "    S3_PATH_TRAIN = keychain['S3_PATH_TRAIN']\n",
    "    S3_PATH_FORECAST = keychain['S3_PATH_PREDICTION']\n",
    "    \n",
    "    boto3_session = boto3.Session(aws_access_key_id = ACCESS_KEY_ID,\n",
    "                                  aws_secret_access_key = ACCESS_SECRET_KEY,\n",
    "                                  region_name = 'ap-northeast-2')\n",
    "    \n",
    "    s3_client = boto3_session.client('s3')\n",
    "    sm_client = boto3_session.client('sagemaker')\n",
    "    qs_client = boto3_session.client('quicksight')\n",
    "\n",
    "    sts_client = boto3_session.client(\"sts\")\n",
    "    user_account_id = sts_client.get_caller_identity()[\"Account\"]\n",
    "    ######################################\n",
    "    ## 커맨드 인자, Hyperparameters 처리 ##\n",
    "    ######################################  \n",
    "    logger.info(\"######### Argument Info ####################################\")\n",
    "    logger.info(\"### start training code\")    \n",
    "    logger.info(\"### Argument Info ###\")\n",
    "    args = parse_args()             \n",
    "    logger.info(f\"args.source_path: {args.source_path}\")\n",
    "    logger.info(f\"args.qs_data_name: {args.qs_data_name}\")\n",
    "    logger.info(f\"args.model_package_group_name: {args.model_package_group_name}\")\n",
    " \n",
    "    source_path = args.source_path\n",
    "    qs_data_name = args.qs_data_name    \n",
    "    model_package_group_name = args.model_package_group_name\n",
    "    \n",
    "    target_path = source_path.rsplit('/',1)[0]+'/manifest'\n",
    "    logger.info(f\"\\n#### target_path : {target_path}\")\n",
    "\n",
    "    logger.info(f\"\\n#### register_manifest\")\n",
    "    manifest_file_path = register_manifest(source_path, \n",
    "                                           target_path,\n",
    "                                           s3_client,\n",
    "                                           BUCKET_NAME_USECASE)\n",
    "    logger.info(f'### manifest_file_path : {manifest_file_path}')\n",
    "    logger.info(f\"\\n#### refresh_of_spice_datasets\")\n",
    "    res = refresh_of_spice_datasets(user_account_id,\n",
    "                                    qs_data_name,\n",
    "                                    manifest_file_path,\n",
    "                                    BUCKET_NAME_USECASE,\n",
    "                                    qs_client)\n",
    "    logger.info(f'### refresh_of_spice_datasets : {res}')"
   ]
  },
  {
   "cell_type": "code",
   "execution_count": 24,
   "id": "5e06b8b8-f376-470c-aca1-960fc5fbe30a",
   "metadata": {
    "tags": []
   },
   "outputs": [
    {
     "name": "stdout",
     "output_type": "stream",
     "text": [
      "upload: src/v1.2/prediction-autogluon.py to s3://crude-palm-oil-prices-forecast/src/prediction-autogluon.py\n",
      "upload: src/v1.2/model_validation.py to s3://crude-palm-oil-prices-forecast/src/model_validation.py\n",
      "upload: src/v1.2/train.py to s3://crude-palm-oil-prices-forecast/src/train.py\n",
      "upload: src/v1.2/prediction.py to s3://crude-palm-oil-prices-forecast/src/prediction.py\n",
      "upload: src/v1.2/visualization.py to s3://crude-palm-oil-prices-forecast/src/visualization.py\n",
      "upload: src/v1.2/preprocessing.py to s3://crude-palm-oil-prices-forecast/src/preprocessing.py\n"
     ]
    }
   ],
   "source": [
    "!aws s3 cp 'src/v1.2' 's3://crude-palm-oil-prices-forecast/src' --recursive --exclude \".ipynb_checkpoints*\""
   ]
  },
  {
   "cell_type": "code",
   "execution_count": 25,
   "id": "02432ec8-bcbb-4bb9-8e47-0544ccef2e3c",
   "metadata": {
    "tags": []
   },
   "outputs": [
    {
     "name": "stdout",
     "output_type": "stream",
     "text": [
      "Stored 'prediction_code' (str)\n",
      "Stored 'visualization_code' (str)\n"
     ]
    }
   ],
   "source": [
    "prediction_code = 's3://crude-palm-oil-prices-forecast/src/prediction-autogluon.py'\n",
    "visualization_code = 's3://crude-palm-oil-prices-forecast/src/visualization.py'\n",
    "%store prediction_code\n",
    "%store visualization_code"
   ]
  },
  {
   "cell_type": "code",
   "execution_count": 9,
   "id": "12c8f9d3-d976-4f6d-a685-9ade98b54ba3",
   "metadata": {
    "tags": []
   },
   "outputs": [
    {
     "name": "stdout",
     "output_type": "stream",
     "text": [
      "Stored variables and their in-db values:\n",
      "prediction_code                -> 's3://crude-palm-oil-prices-forecast/src/predictio\n",
      "visualization_code             -> 's3://crude-palm-oil-prices-forecast/src/visualiza\n"
     ]
    }
   ],
   "source": [
    "%store"
   ]
  },
  {
   "cell_type": "code",
   "execution_count": 10,
   "id": "224de32f-be04-4de9-96c0-28dcf74849d5",
   "metadata": {
    "tags": []
   },
   "outputs": [],
   "source": [
    "%store -r"
   ]
  },
  {
   "cell_type": "markdown",
   "id": "48076217-25da-4928-95d6-7b901c548edc",
   "metadata": {},
   "source": [
    "# 1. 모델 빌딩 파이프라인 의 스텝(Step) 생성\n",
    "## 1) 모델 빌딩 파이프라인 변수 생성\n",
    "파이프라인에서 사용할 파이프라인 파라미터를 정의합니다. 파이프라인을 스케줄하고 실행할 때 파라미터를 이용하여 실행조건을 커스마이징할 수 있습니다. 파라미터를 이용하면 파이프라인 실행시마다 매번 파이프라인 정의를 수정하지 않아도 됩니다.\n",
    "\n",
    "지원되는 파라미터 타입은 다음과 같습니다:\n",
    "\n",
    "- ParameterString - 파이썬 타입에서 str\n",
    "- ParameterInteger - 파이썬 타입에서 int\n",
    "- ParameterFloat - 파이썬 타입에서 float\n",
    "이들 파라미터를 정의할 때 디폴트 값을 지정할 수 있으며 파이프라인 실행시 재지정할 수도 있습니다. 지정하는 디폴트 값은 파라미터 타입과 일치하여야 합니다.\n",
    "\n",
    "본 노트북에서 사용하는 파라미터는 다음과 같습니다.\n",
    "\n",
    "- processing_instance_type - 프로세싱 작업에서 사용할 ml.* 인스턴스 타입\n",
    "- processing_instance_count - 프로세싱 작업에서 사용할 인스턴스 개수\n",
    "- training_instance_type - 학습작업에서 사용할 ml.* 인스턴스 타입\n",
    "- model_approval_status - 학습된 모델을 CI/CD를 목적으로 등록할 때의 승인 상태 (디폴트는 \"PendingManualApproval\")\n",
    "- input_data - 입력데이터에 대한 S3 버킷 URI\n",
    "파이프라인의 각 스텝에서 사용할 변수를 파라미터 변수로서 정의 합니다."
   ]
  },
  {
   "cell_type": "markdown",
   "id": "fba6ac9a-4cc8-40c9-a806-640a68491491",
   "metadata": {},
   "source": [
    "# 2. 파이프라인 정의 및 실행"
   ]
  },
  {
   "cell_type": "code",
   "execution_count": 26,
   "id": "df8b63ae-e7fb-47ca-a77e-1c8166c2d098",
   "metadata": {
    "tags": []
   },
   "outputs": [],
   "source": [
    "from sagemaker.workflow.parameters import (ParameterInteger,\n",
    "                                           ParameterString,\n",
    "                                          )\n",
    "prediction_instance_type = ParameterString(\n",
    "    name = \"PredctionInstanceType\",\n",
    "    default_value = \"ml.m5.xlarge\"\n",
    ")\n",
    "prediction_instance_count = ParameterInteger(\n",
    "    name = \"PredctionInstanceCount\",\n",
    "    default_value = 1\n",
    ")\n",
    "visualization_instance_type = ParameterString(\n",
    "    name = \"VisualizationInstanceType\",\n",
    "    default_value = \"ml.m5.xlarge\"\n",
    ")\n",
    "visualization_instance_count = ParameterInteger(\n",
    "    name = \"VisualizationInstanceCount\",\n",
    "    default_value = 1\n",
    ")"
   ]
  },
  {
   "cell_type": "code",
   "execution_count": 12,
   "id": "86a6f103-5983-4375-bb88-3bc8b6dd8436",
   "metadata": {
    "tags": []
   },
   "outputs": [
    {
     "name": "stdout",
     "output_type": "stream",
     "text": [
      "s3://crude-palm-oil-prices-forecast/predicted-data/2023/03/19/1679292475.0/result\n",
      "s3://crude-palm-oil-prices-forecast/predicted-data/2023/03/19/1679292475.0/manifest\n"
     ]
    }
   ],
   "source": [
    "prediction_input_path = f\"s3://{BUCKET_NAME_USECASE}/{S3_PATH_FORECAST}/{yyyy}/{mm}/{dd}/1679292475.0/result\"\n",
    "manifest_base_path = f\"s3://{BUCKET_NAME_USECASE}/{S3_PATH_FORECAST}/{yyyy}/{mm}/{dd}/1679292475.0/manifest\"\n",
    "print(prediction_input_path)\n",
    "print(manifest_base_path)"
   ]
  },
  {
   "cell_type": "markdown",
   "id": "19daa987-bf59-43fb-bdbb-d565281b69e1",
   "metadata": {
    "tags": []
   },
   "source": [
    "## 1) 스텝정의"
   ]
  },
  {
   "cell_type": "markdown",
   "id": "aa05730c-afab-4b71-80b0-0eef9f61ec4a",
   "metadata": {},
   "source": [
    "### (2) ScriptProcessor 진행"
   ]
  },
  {
   "cell_type": "code",
   "execution_count": 27,
   "id": "e77c5fb0-9f70-4432-bbed-316ff2063d68",
   "metadata": {
    "tags": []
   },
   "outputs": [],
   "source": [
    "from sagemaker import get_execution_role\n",
    "from sagemaker.image_uris import retrieve\n",
    "from sagemaker.processing import ScriptProcessor, ProcessingInput, ProcessingOutput\n",
    "from sagemaker.sklearn.processing import SKLearnProcessor\n",
    "\n",
    "role = sagemaker.get_execution_role()\n",
    "image_uri = retrieve(framework='mxnet',\n",
    "                     region='ap-northeast-2',\n",
    "                     version='1.9.0',\n",
    "                     py_version='py38',\n",
    "                     image_scope='training',\n",
    "                     instance_type=\"ml.m5.xlarge\")\n",
    "\n",
    "script_processor_prediction = ScriptProcessor(\n",
    "    command=['python3'],\n",
    "    image_uri=image_uri,\n",
    "    instance_type = prediction_instance_type,\n",
    "    instance_count = prediction_instance_count,\n",
    "    base_job_name = f\"{BUCKET_NAME_USECASE}(Prediction)\",\n",
    "    role = role,\n",
    ")\n",
    "\n",
    "\n",
    "skframework_version = \"1.0-1\"#\"0.23-1\"\n",
    "skprocessor_visualization = SKLearnProcessor(\n",
    "    framework_version = skframework_version,\n",
    "    instance_type = \"ml.t3.medium\",\n",
    "    instance_count = 1,\n",
    "    base_job_name = f\"{BUCKET_NAME_USECASE}(Visualization)\",\n",
    "    role = role,\n",
    ")"
   ]
  },
  {
   "cell_type": "code",
   "execution_count": 22,
   "id": "678dc946-822c-4d55-9a92-8357dd565ae7",
   "metadata": {
    "tags": []
   },
   "outputs": [],
   "source": [
    "prediction_output_path = f\"s3://crude-palm-oil-prices-forecast/predicted-data/2023/03/19/1679292475.0/result\""
   ]
  },
  {
   "cell_type": "code",
   "execution_count": 28,
   "id": "76d55b47-0219-4c29-88ad-3379b066424a",
   "metadata": {
    "tags": []
   },
   "outputs": [],
   "source": [
    "from sagemaker.processing import ProcessingInput, ProcessingOutput\n",
    "from sagemaker.workflow.steps import ProcessingStep\n",
    "\n",
    "step_prediction = ProcessingStep(\n",
    "    name = f\"{BUCKET_NAME_USECASE}-Prediction\",\n",
    "    processor = script_processor_prediction,\n",
    "    inputs=[],\n",
    "    outputs=[\n",
    "        ProcessingOutput(output_name = \"prediction_data\",\n",
    "                         source = \"/opt/ml/processing/output/result\",\n",
    "                         destination = prediction_output_path)\n",
    "        ],\n",
    "    job_arguments = [\"--model_package_group_name\", BUCKET_NAME_USECASE,\n",
    "                     \"--ml_algorithm_name\", 'Autogluon'],\n",
    "    code = prediction_code\n",
    ")\n",
    "\n",
    "step_visualization = ProcessingStep(\n",
    "    name = f\"{BUCKET_NAME_USECASE}-Visualization\",\n",
    "    processor = skprocessor_visualization,\n",
    "    job_arguments = [\"--source_path\", step_prediction.properties.ProcessingOutputConfig.Outputs[\"prediction_data\"].S3Output.S3Uri,\n",
    "                     \"--qs_data_name\", 'forecast result',\n",
    "                     \"--model_package_group_name\", BUCKET_NAME_USECASE], \n",
    "    code = visualization_code,\n",
    ")\n",
    "\n"
   ]
  },
  {
   "cell_type": "markdown",
   "id": "1bbaf87a-1928-4c66-a610-9b9253418ab3",
   "metadata": {
    "tags": []
   },
   "source": [
    "### 1) 스텝 정의"
   ]
  },
  {
   "cell_type": "markdown",
   "id": "d93bab7b-2164-4783-b3e0-ce403ba46742",
   "metadata": {},
   "source": [
    "### 1) 파이프라인 실행"
   ]
  },
  {
   "cell_type": "code",
   "execution_count": 29,
   "id": "81969598-17df-42d6-a5dd-d1eb846295e0",
   "metadata": {
    "tags": []
   },
   "outputs": [],
   "source": [
    "from sagemaker.workflow.pipeline import Pipeline\n",
    "from sagemaker.workflow.steps import ProcessingStep\n",
    "\n",
    "pipeline = Pipeline(name = BUCKET_NAME_USECASE,\n",
    "                    parameters = [\n",
    "                        visualization_instance_type,        \n",
    "                        visualization_instance_count,\n",
    "                        prediction_instance_type,        \n",
    "                        prediction_instance_count,\n",
    "                    ],\n",
    "                    steps=[step_visualization,\n",
    "                          step_prediction]\n",
    ")"
   ]
  },
  {
   "cell_type": "code",
   "execution_count": 30,
   "id": "76430e25-1a89-407b-ad21-c8ec5bbac6cd",
   "metadata": {
    "tags": []
   },
   "outputs": [
    {
     "data": {
      "text/plain": [
       "{'Version': '2020-12-01',\n",
       " 'Metadata': {},\n",
       " 'Parameters': [{'Name': 'VisualizationInstanceType',\n",
       "   'Type': 'String',\n",
       "   'DefaultValue': 'ml.m5.xlarge'},\n",
       "  {'Name': 'VisualizationInstanceCount', 'Type': 'Integer', 'DefaultValue': 1},\n",
       "  {'Name': 'PredctionInstanceType',\n",
       "   'Type': 'String',\n",
       "   'DefaultValue': 'ml.m5.xlarge'},\n",
       "  {'Name': 'PredctionInstanceCount', 'Type': 'Integer', 'DefaultValue': 1}],\n",
       " 'PipelineExperimentConfig': {'ExperimentName': {'Get': 'Execution.PipelineName'},\n",
       "  'TrialName': {'Get': 'Execution.PipelineExecutionId'}},\n",
       " 'Steps': [{'Name': 'crude-palm-oil-prices-forecast-Visualization',\n",
       "   'Type': 'Processing',\n",
       "   'Arguments': {'ProcessingResources': {'ClusterConfig': {'InstanceType': 'ml.t3.medium',\n",
       "      'InstanceCount': 1,\n",
       "      'VolumeSizeInGB': 30}},\n",
       "    'AppSpecification': {'ImageUri': '366743142698.dkr.ecr.ap-northeast-2.amazonaws.com/sagemaker-scikit-learn:1.0-1-cpu-py3',\n",
       "     'ContainerArguments': ['--source_path',\n",
       "      {'Get': \"Steps.crude-palm-oil-prices-forecast-Prediction.ProcessingOutputConfig.Outputs['prediction_data'].S3Output.S3Uri\"},\n",
       "      '--qs_data_name',\n",
       "      'forecast result',\n",
       "      '--model_package_group_name',\n",
       "      'crude-palm-oil-prices-forecast'],\n",
       "     'ContainerEntrypoint': ['python3',\n",
       "      '/opt/ml/processing/input/code/visualization.py']},\n",
       "    'RoleArn': 'arn:aws:iam::108594546720:role/service-role/AmazonSageMaker-ExecutionRole-20220901T154875',\n",
       "    'ProcessingInputs': [{'InputName': 'code',\n",
       "      'AppManaged': False,\n",
       "      'S3Input': {'S3Uri': 's3://crude-palm-oil-prices-forecast/src/visualization.py',\n",
       "       'LocalPath': '/opt/ml/processing/input/code',\n",
       "       'S3DataType': 'S3Prefix',\n",
       "       'S3InputMode': 'File',\n",
       "       'S3DataDistributionType': 'FullyReplicated',\n",
       "       'S3CompressionType': 'None'}}]}},\n",
       "  {'Name': 'crude-palm-oil-prices-forecast-Prediction',\n",
       "   'Type': 'Processing',\n",
       "   'Arguments': {'ProcessingResources': {'ClusterConfig': {'InstanceType': {'Get': 'Parameters.PredctionInstanceType'},\n",
       "      'InstanceCount': {'Get': 'Parameters.PredctionInstanceCount'},\n",
       "      'VolumeSizeInGB': 30}},\n",
       "    'AppSpecification': {'ImageUri': '763104351884.dkr.ecr.ap-northeast-2.amazonaws.com/mxnet-training:1.9.0-cpu-py38',\n",
       "     'ContainerArguments': ['--model_package_group_name',\n",
       "      'crude-palm-oil-prices-forecast',\n",
       "      '--ml_algorithm_name',\n",
       "      'Autogluon'],\n",
       "     'ContainerEntrypoint': ['python3',\n",
       "      '/opt/ml/processing/input/code/prediction-autogluon.py']},\n",
       "    'RoleArn': 'arn:aws:iam::108594546720:role/service-role/AmazonSageMaker-ExecutionRole-20220901T154875',\n",
       "    'ProcessingInputs': [{'InputName': 'code',\n",
       "      'AppManaged': False,\n",
       "      'S3Input': {'S3Uri': 's3://crude-palm-oil-prices-forecast/src/prediction-autogluon.py',\n",
       "       'LocalPath': '/opt/ml/processing/input/code',\n",
       "       'S3DataType': 'S3Prefix',\n",
       "       'S3InputMode': 'File',\n",
       "       'S3DataDistributionType': 'FullyReplicated',\n",
       "       'S3CompressionType': 'None'}}],\n",
       "    'ProcessingOutputConfig': {'Outputs': [{'OutputName': 'prediction_data',\n",
       "       'AppManaged': False,\n",
       "       'S3Output': {'S3Uri': 's3://crude-palm-oil-prices-forecast/predicted-data/2023/03/19/1679292475.0/result',\n",
       "        'LocalPath': '/opt/ml/processing/output/result',\n",
       "        'S3UploadMode': 'EndOfJob'}}]}}}]}"
      ]
     },
     "execution_count": 30,
     "metadata": {},
     "output_type": "execute_result"
    }
   ],
   "source": [
    "import json\n",
    "\n",
    "definition = json.loads(pipeline.definition())\n",
    "definition"
   ]
  },
  {
   "cell_type": "code",
   "execution_count": null,
   "id": "028b7c73-408a-4e8f-804f-f2fe5208fd8b",
   "metadata": {
    "tags": []
   },
   "outputs": [],
   "source": [
    "%%time\n",
    "start = time.time()\n",
    "pipeline.upsert(role_arn=sagemaker.get_execution_role())\n",
    "execution = pipeline.start()\n",
    "execution.wait() #실행이 완료될 때까지 기다린다.\n",
    "end = time.time()"
   ]
  },
  {
   "cell_type": "code",
   "execution_count": 56,
   "id": "74b72d8b-5ac2-4316-b2f4-9c9b22611e9a",
   "metadata": {
    "tags": []
   },
   "outputs": [
    {
     "name": "stdout",
     "output_type": "stream",
     "text": [
      "visualization 시간 : 696.5 sec\n",
      "visualization 시간 : 11.6 min\n"
     ]
    }
   ],
   "source": [
    "print(f\"visualization 시간 : {end - start:.1f} sec\")\n",
    "print(f\"visualization 시간 : {((end - start)/60):.1f} min\")"
   ]
  },
  {
   "cell_type": "markdown",
   "id": "abadc1ed-bee6-4a4e-9177-d53c77620d80",
   "metadata": {},
   "source": [
    "[2022년 11월 29일]\n",
    "- prediction 시간 : 423.1 sec\n",
    "- prediction 시간 : 7.1 min"
   ]
  },
  {
   "cell_type": "code",
   "execution_count": 57,
   "id": "0185ef7f-af33-479b-a24c-a012f132c445",
   "metadata": {
    "tags": []
   },
   "outputs": [
    {
     "data": {
      "text/plain": [
       "{'PipelineArn': 'arn:aws:sagemaker:ap-northeast-2:108594546720:pipeline/crude-palm-oil-prices-forecast',\n",
       " 'PipelineExecutionArn': 'arn:aws:sagemaker:ap-northeast-2:108594546720:pipeline/crude-palm-oil-prices-forecast/execution/03tvfcaaprlz',\n",
       " 'PipelineExecutionDisplayName': 'execution-1677737728133',\n",
       " 'PipelineExecutionStatus': 'Succeeded',\n",
       " 'PipelineExperimentConfig': {'ExperimentName': 'crude-palm-oil-prices-forecast',\n",
       "  'TrialName': '03tvfcaaprlz'},\n",
       " 'CreationTime': datetime.datetime(2023, 3, 2, 6, 15, 27, 687000, tzinfo=tzlocal()),\n",
       " 'LastModifiedTime': datetime.datetime(2023, 3, 2, 6, 26, 57, 655000, tzinfo=tzlocal()),\n",
       " 'CreatedBy': {},\n",
       " 'LastModifiedBy': {},\n",
       " 'ResponseMetadata': {'RequestId': '78e05f6b-51a4-40ce-9736-816ef89db047',\n",
       "  'HTTPStatusCode': 200,\n",
       "  'HTTPHeaders': {'x-amzn-requestid': '78e05f6b-51a4-40ce-9736-816ef89db047',\n",
       "   'content-type': 'application/x-amz-json-1.1',\n",
       "   'content-length': '541',\n",
       "   'date': 'Thu, 02 Mar 2023 06:28:05 GMT'},\n",
       "  'RetryAttempts': 0}}"
      ]
     },
     "execution_count": 57,
     "metadata": {},
     "output_type": "execute_result"
    }
   ],
   "source": [
    "execution.describe()"
   ]
  },
  {
   "cell_type": "code",
   "execution_count": 58,
   "id": "fd8e4b95-c006-4732-8fae-888c3eb8a528",
   "metadata": {
    "tags": []
   },
   "outputs": [
    {
     "data": {
      "text/plain": [
       "[{'StepName': 'crude-palm-oil-prices-forecast-Visualization',\n",
       "  'StartTime': datetime.datetime(2023, 3, 2, 6, 15, 29, 846000, tzinfo=tzlocal()),\n",
       "  'EndTime': datetime.datetime(2023, 3, 2, 6, 26, 57, 79000, tzinfo=tzlocal()),\n",
       "  'StepStatus': 'Succeeded',\n",
       "  'AttemptCount': 0,\n",
       "  'Metadata': {'ProcessingJob': {'Arn': 'arn:aws:sagemaker:ap-northeast-2:108594546720:processing-job/pipelines-03tvfcaaprlz-crude-palm-oil-price-dbgzcq8j0f'}}}]"
      ]
     },
     "execution_count": 58,
     "metadata": {},
     "output_type": "execute_result"
    }
   ],
   "source": [
    "execution.list_steps()"
   ]
  },
  {
   "cell_type": "code",
   "execution_count": 40,
   "id": "fb9f656b-484e-4b5d-a892-e7a6e35effed",
   "metadata": {
    "tags": []
   },
   "outputs": [],
   "source": [
    "manifest_file_path = 'predicted-data/2023/03/19/1679292475.0/manifest'"
   ]
  },
  {
   "cell_type": "code",
   "execution_count": 140,
   "id": "473d3d94-0c8f-4d60-9808-96608057e764",
   "metadata": {
    "tags": []
   },
   "outputs": [
    {
     "data": {
      "text/plain": [
       "{'ResponseMetadata': {'RequestId': '9fdcb5f0-d1c2-490e-ae28-427785bd6006',\n",
       "  'HTTPStatusCode': 200,\n",
       "  'HTTPHeaders': {'date': 'Thu, 23 Mar 2023 12:26:55 GMT',\n",
       "   'content-type': 'application/json',\n",
       "   'content-length': '2831',\n",
       "   'connection': 'keep-alive',\n",
       "   'x-amzn-requestid': '9fdcb5f0-d1c2-490e-ae28-427785bd6006'},\n",
       "  'RetryAttempts': 0},\n",
       " 'Status': 200,\n",
       " 'DataSetSummaries': [{'Arn': 'arn:aws:quicksight:ap-northeast-2:108594546720:dataset/1cdca429-9aa2-4623-8ee0-d48452d5090e',\n",
       "   'DataSetId': '1cdca429-9aa2-4623-8ee0-d48452d5090e',\n",
       "   'Name': 'Sales Pipeline',\n",
       "   'CreatedTime': datetime.datetime(2023, 2, 1, 1, 30, 9, 892000, tzinfo=tzlocal()),\n",
       "   'LastUpdatedTime': datetime.datetime(2023, 2, 1, 1, 30, 25, 864000, tzinfo=tzlocal()),\n",
       "   'ImportMode': 'SPICE',\n",
       "   'RowLevelPermissionTagConfigurationApplied': False,\n",
       "   'ColumnLevelPermissionRulesApplied': False},\n",
       "  {'Arn': 'arn:aws:quicksight:ap-northeast-2:108594546720:dataset/2269eae0-2254-494a-a998-b94b7c4686e9',\n",
       "   'DataSetId': '2269eae0-2254-494a-a998-b94b7c4686e9',\n",
       "   'Name': 'forecast_result',\n",
       "   'CreatedTime': datetime.datetime(2023, 3, 21, 3, 51, 34, 492000, tzinfo=tzlocal()),\n",
       "   'LastUpdatedTime': datetime.datetime(2023, 3, 23, 12, 23, 22, 871000, tzinfo=tzlocal()),\n",
       "   'ImportMode': 'SPICE',\n",
       "   'RowLevelPermissionTagConfigurationApplied': False,\n",
       "   'ColumnLevelPermissionRulesApplied': False},\n",
       "  {'Arn': 'arn:aws:quicksight:ap-northeast-2:108594546720:dataset/4cbc75b3-f2d4-48aa-ac0e-a757cd1e371c',\n",
       "   'DataSetId': '4cbc75b3-f2d4-48aa-ac0e-a757cd1e371c',\n",
       "   'Name': 'inference_result',\n",
       "   'CreatedTime': datetime.datetime(2023, 3, 22, 23, 2, 1, 254000, tzinfo=tzlocal()),\n",
       "   'LastUpdatedTime': datetime.datetime(2023, 3, 22, 23, 2, 16, 583000, tzinfo=tzlocal()),\n",
       "   'ImportMode': 'SPICE',\n",
       "   'RowLevelPermissionTagConfigurationApplied': False,\n",
       "   'ColumnLevelPermissionRulesApplied': False},\n",
       "  {'Arn': 'arn:aws:quicksight:ap-northeast-2:108594546720:dataset/58cb683a-4b74-4bca-bc13-0c99e00eb098',\n",
       "   'DataSetId': '58cb683a-4b74-4bca-bc13-0c99e00eb098',\n",
       "   'Name': 'Business Review',\n",
       "   'CreatedTime': datetime.datetime(2023, 2, 1, 1, 30, 9, 822000, tzinfo=tzlocal()),\n",
       "   'LastUpdatedTime': datetime.datetime(2023, 2, 1, 1, 30, 25, 437000, tzinfo=tzlocal()),\n",
       "   'ImportMode': 'SPICE',\n",
       "   'RowLevelPermissionTagConfigurationApplied': False,\n",
       "   'ColumnLevelPermissionRulesApplied': False},\n",
       "  {'Arn': 'arn:aws:quicksight:ap-northeast-2:108594546720:dataset/6b77714c-3563-4f78-a6cb-95f2ee81b248',\n",
       "   'DataSetId': '6b77714c-3563-4f78-a6cb-95f2ee81b248',\n",
       "   'Name': 'Web and Social Media Analytics',\n",
       "   'CreatedTime': datetime.datetime(2023, 2, 1, 1, 30, 9, 940000, tzinfo=tzlocal()),\n",
       "   'LastUpdatedTime': datetime.datetime(2023, 2, 1, 1, 30, 25, 595000, tzinfo=tzlocal()),\n",
       "   'ImportMode': 'SPICE',\n",
       "   'RowLevelPermissionTagConfigurationApplied': False,\n",
       "   'ColumnLevelPermissionRulesApplied': False},\n",
       "  {'Arn': 'arn:aws:quicksight:ap-northeast-2:108594546720:dataset/e7166dd8-3d36-4aff-b17c-402b15f807d6',\n",
       "   'DataSetId': 'e7166dd8-3d36-4aff-b17c-402b15f807d6',\n",
       "   'Name': 'People Overview',\n",
       "   'CreatedTime': datetime.datetime(2023, 2, 1, 1, 30, 9, 997000, tzinfo=tzlocal()),\n",
       "   'LastUpdatedTime': datetime.datetime(2023, 2, 1, 1, 30, 25, 187000, tzinfo=tzlocal()),\n",
       "   'ImportMode': 'SPICE',\n",
       "   'RowLevelPermissionTagConfigurationApplied': False,\n",
       "   'ColumnLevelPermissionRulesApplied': False},\n",
       "  {'Arn': 'arn:aws:quicksight:ap-northeast-2:108594546720:dataset/ec67c34f-9838-4f43-8756-ae4302f85f34',\n",
       "   'DataSetId': 'ec67c34f-9838-4f43-8756-ae4302f85f34',\n",
       "   'Name': 'model_result',\n",
       "   'CreatedTime': datetime.datetime(2023, 1, 31, 23, 5, 7, 964000, tzinfo=tzlocal()),\n",
       "   'LastUpdatedTime': datetime.datetime(2023, 3, 23, 10, 59, 27, 877000, tzinfo=tzlocal()),\n",
       "   'ImportMode': 'SPICE',\n",
       "   'RowLevelPermissionTagConfigurationApplied': False,\n",
       "   'ColumnLevelPermissionRulesApplied': False}],\n",
       " 'RequestId': '9fdcb5f0-d1c2-490e-ae28-427785bd6006'}"
      ]
     },
     "execution_count": 140,
     "metadata": {},
     "output_type": "execute_result"
    }
   ],
   "source": [
    "qs_client.list_data_sets(AwsAccountId='108594546720')"
   ]
  },
  {
   "cell_type": "code",
   "execution_count": 141,
   "id": "b9653a64-689f-4e6c-93c8-8ef99b9b832d",
   "metadata": {
    "tags": []
   },
   "outputs": [
    {
     "data": {
      "text/plain": [
       "{'ResponseMetadata': {'RequestId': '9db99fe2-204d-4da4-af3c-6f68aeb9b7c7',\n",
       "  'HTTPStatusCode': 200,\n",
       "  'HTTPHeaders': {'date': 'Thu, 23 Mar 2023 12:27:16 GMT',\n",
       "   'content-type': 'application/json',\n",
       "   'content-length': '12030',\n",
       "   'connection': 'keep-alive',\n",
       "   'x-amzn-requestid': '9db99fe2-204d-4da4-af3c-6f68aeb9b7c7'},\n",
       "  'RetryAttempts': 0},\n",
       " 'Status': 200,\n",
       " 'DataSources': [{'Arn': 'arn:aws:quicksight:ap-northeast-2:108594546720:datasource/8c2f563f-9a63-4faf-80d2-c1fc61a9a8cd',\n",
       "   'DataSourceId': '8c2f563f-9a63-4faf-80d2-c1fc61a9a8cd',\n",
       "   'Name': 'Sales Pipeline',\n",
       "   'Type': 'S3',\n",
       "   'Status': 'UPDATE_SUCCESSFUL',\n",
       "   'CreatedTime': datetime.datetime(2023, 2, 1, 1, 30, 8, 776000, tzinfo=tzlocal()),\n",
       "   'LastUpdatedTime': datetime.datetime(2023, 2, 1, 1, 30, 8, 886000, tzinfo=tzlocal()),\n",
       "   'DataSourceParameters': {'S3Parameters': {'ManifestFileLocation': {'Bucket': 'spaceneedle-samplefiles.prod.ap-northeast-2',\n",
       "      'Key': 'sales/manifest.json'}}}},\n",
       "  {'Arn': 'arn:aws:quicksight:ap-northeast-2:108594546720:datasource/5308e376-ab57-440f-b38d-acf9eb635113',\n",
       "   'DataSourceId': '5308e376-ab57-440f-b38d-acf9eb635113',\n",
       "   'Name': 'forecast_result',\n",
       "   'Type': 'S3',\n",
       "   'Status': 'UPDATE_SUCCESSFUL',\n",
       "   'CreatedTime': datetime.datetime(2023, 3, 23, 6, 11, 0, 680000, tzinfo=tzlocal()),\n",
       "   'LastUpdatedTime': datetime.datetime(2023, 3, 23, 12, 23, 6, 657000, tzinfo=tzlocal()),\n",
       "   'DataSourceParameters': {'S3Parameters': {'ManifestFileLocation': {'Bucket': 'crude-palm-oil-prices-forecast',\n",
       "      'Key': 'predicted-data/2023/03/22/1679559317.0/result/manifest/visual_validation.manifest'}}}},\n",
       "  {'Arn': 'arn:aws:quicksight:ap-northeast-2:108594546720:datasource/5308e376-ab57-440f-b38d-acf9eb635993',\n",
       "   'DataSourceId': '5308e376-ab57-440f-b38d-acf9eb635993',\n",
       "   'Name': 'model_result',\n",
       "   'Type': 'S3',\n",
       "   'Status': 'UPDATE_SUCCESSFUL',\n",
       "   'CreatedTime': datetime.datetime(2023, 1, 31, 23, 1, 17, 949000, tzinfo=tzlocal()),\n",
       "   'LastUpdatedTime': datetime.datetime(2023, 3, 22, 22, 3, 57, 730000, tzinfo=tzlocal()),\n",
       "   'DataSourceParameters': {'S3Parameters': {'ManifestFileLocation': {'Bucket': 'crude-palm-oil-prices-forecast',\n",
       "      'Key': 'trained-model/2023/03/22/1679551713.0/manifest/visual_validation.manifest'}}}},\n",
       "  {'Arn': 'arn:aws:quicksight:ap-northeast-2:108594546720:datasource/ad01076d-cfff-41e4-a50d-aab9fb1aab25',\n",
       "   'DataSourceId': 'ad01076d-cfff-41e4-a50d-aab9fb1aab25',\n",
       "   'Name': 'inference_result',\n",
       "   'Type': 'S3',\n",
       "   'Status': 'CREATION_SUCCESSFUL',\n",
       "   'CreatedTime': datetime.datetime(2023, 3, 22, 23, 1, 49, 602000, tzinfo=tzlocal()),\n",
       "   'LastUpdatedTime': datetime.datetime(2023, 3, 22, 23, 1, 49, 602000, tzinfo=tzlocal())},\n",
       "  {'Arn': 'arn:aws:quicksight:ap-northeast-2:108594546720:datasource/dcb10d8e-7dd7-432d-9af1-05d31e836cc1',\n",
       "   'DataSourceId': 'dcb10d8e-7dd7-432d-9af1-05d31e836cc1',\n",
       "   'Name': 'forecast_result',\n",
       "   'Type': 'S3',\n",
       "   'Status': 'UPDATE_SUCCESSFUL',\n",
       "   'CreatedTime': datetime.datetime(2023, 3, 21, 3, 51, 29, 700000, tzinfo=tzlocal()),\n",
       "   'LastUpdatedTime': datetime.datetime(2023, 3, 23, 12, 23, 6, 968000, tzinfo=tzlocal()),\n",
       "   'DataSourceParameters': {'S3Parameters': {'ManifestFileLocation': {'Bucket': 'crude-palm-oil-prices-forecast',\n",
       "      'Key': 'predicted-data/2023/03/22/1679559317.0/result/manifest/visual_validation.manifest'}}}},\n",
       "  {'Arn': 'arn:aws:quicksight:ap-northeast-2:108594546720:datasource/string',\n",
       "   'DataSourceId': 'string',\n",
       "   'Name': 'forecast_result',\n",
       "   'Type': 'S3',\n",
       "   'Status': 'UPDATE_SUCCESSFUL',\n",
       "   'CreatedTime': datetime.datetime(2023, 3, 23, 6, 8, 40, 233000, tzinfo=tzlocal()),\n",
       "   'LastUpdatedTime': datetime.datetime(2023, 3, 23, 12, 23, 7, 280000, tzinfo=tzlocal()),\n",
       "   'DataSourceParameters': {'S3Parameters': {'ManifestFileLocation': {'Bucket': 'crude-palm-oil-prices-forecast',\n",
       "      'Key': 'predicted-data/2023/03/22/1679559317.0/result/manifest/visual_validation.manifest'}}}},\n",
       "  {'Arn': 'arn:aws:quicksight:ap-northeast-2:108594546720:datasource/b87f301d-faa0-4e51-b260-832073a1564d',\n",
       "   'DataSourceId': 'b87f301d-faa0-4e51-b260-832073a1564d',\n",
       "   'Name': 'Web and Social Media Analytics',\n",
       "   'Type': 'S3',\n",
       "   'Status': 'UPDATE_SUCCESSFUL',\n",
       "   'CreatedTime': datetime.datetime(2023, 2, 1, 1, 30, 8, 777000, tzinfo=tzlocal()),\n",
       "   'LastUpdatedTime': datetime.datetime(2023, 2, 1, 1, 30, 8, 887000, tzinfo=tzlocal()),\n",
       "   'DataSourceParameters': {'S3Parameters': {'ManifestFileLocation': {'Bucket': 'spaceneedle-samplefiles.prod.ap-northeast-2',\n",
       "      'Key': 'marketing/manifest.json'}}}},\n",
       "  {'Arn': 'arn:aws:quicksight:ap-northeast-2:108594546720:datasource/e0fdfcd5-aebf-456c-bc2f-3a505ff3938f',\n",
       "   'DataSourceId': 'e0fdfcd5-aebf-456c-bc2f-3a505ff3938f',\n",
       "   'Name': 'Business Review',\n",
       "   'Type': 'S3',\n",
       "   'Status': 'UPDATE_SUCCESSFUL',\n",
       "   'CreatedTime': datetime.datetime(2023, 2, 1, 1, 30, 8, 777000, tzinfo=tzlocal()),\n",
       "   'LastUpdatedTime': datetime.datetime(2023, 2, 1, 1, 30, 8, 866000, tzinfo=tzlocal()),\n",
       "   'DataSourceParameters': {'S3Parameters': {'ManifestFileLocation': {'Bucket': 'spaceneedle-samplefiles.prod.ap-northeast-2',\n",
       "      'Key': 'revenue/manifest.json'}}}},\n",
       "  {'Arn': 'arn:aws:quicksight:ap-northeast-2:108594546720:datasource/ed97e6ba-f183-4d25-83f3-3cc4bff71258',\n",
       "   'DataSourceId': 'ed97e6ba-f183-4d25-83f3-3cc4bff71258',\n",
       "   'Name': 'People Overview',\n",
       "   'Type': 'S3',\n",
       "   'Status': 'UPDATE_SUCCESSFUL',\n",
       "   'CreatedTime': datetime.datetime(2023, 2, 1, 1, 30, 8, 773000, tzinfo=tzlocal()),\n",
       "   'LastUpdatedTime': datetime.datetime(2023, 2, 1, 1, 30, 8, 895000, tzinfo=tzlocal()),\n",
       "   'DataSourceParameters': {'S3Parameters': {'ManifestFileLocation': {'Bucket': 'spaceneedle-samplefiles.prod.ap-northeast-2',\n",
       "      'Key': 'hr/manifest.json'}}}},\n",
       "  {'Arn': 'arn:aws:quicksight:ap-northeast-2:108594546720:datasource/79c28a95-6ef6-4b69-a80a-2fb85181eec0',\n",
       "   'DataSourceId': '79c28a95-6ef6-4b69-a80a-2fb85181eec0',\n",
       "   'Name': 'prediction_result.csv',\n",
       "   'Type': 'FILE',\n",
       "   'CreatedTime': datetime.datetime(2023, 1, 15, 23, 19, 0, 559000, tzinfo=tzlocal()),\n",
       "   'LastUpdatedTime': datetime.datetime(2023, 1, 15, 23, 19, 0, 797000, tzinfo=tzlocal())}],\n",
       " 'RequestId': '9db99fe2-204d-4da4-af3c-6f68aeb9b7c7'}"
      ]
     },
     "execution_count": 141,
     "metadata": {},
     "output_type": "execute_result"
    }
   ],
   "source": [
    "qs_client.list_data_sources(AwsAccountId='108594546720')"
   ]
  },
  {
   "cell_type": "code",
   "execution_count": 78,
   "id": "59212cc8-4ddd-47b9-9ced-6377eb0cf899",
   "metadata": {
    "tags": []
   },
   "outputs": [],
   "source": [
    "template_json = {\"fileLocations\": [{\"URIPrefixes\": []}],\n",
    "                 \"globalUploadSettings\": {\n",
    "                     \"format\": \"CSV\",\n",
    "                     \"delimiter\": \",\"\n",
    "                 }}\n",
    "source_path = 's3://crude-palm-oil-prices-forecast/predicted-data/2023/03/22/1679559317.0/result'\n",
    "target_path = source_path.rsplit('/',1)[0]+'/manifest'\n",
    "\n",
    "paginator = s3_client.get_paginator('list_objects_v2')\n",
    "response_iterator = paginator.paginate(Bucket = BUCKET_NAME_USECASE,\n",
    "                                       Prefix = source_path.split(BUCKET_NAME_USECASE+'/')[1]\n",
    "                                      )\n",
    "for page in response_iterator:\n",
    "    for content in page['Contents']:\n",
    "        template_json['fileLocations'][0]['URIPrefixes'].append(f's3://{BUCKET_NAME_USECASE}/'+content['Key'])\n",
    "    with open(f'./manifest_testing.manifest', 'w') as f:\n",
    "        json.dump(template_json, f, indent=2)\n",
    "\n",
    "    res = s3_client.upload_file('./manifest_testing.manifest',\n",
    "                                BUCKET_NAME_USECASE,\n",
    "                                f\"{target_path.split(BUCKET_NAME_USECASE+'/')[1]}/visual_validation.manifest\")\n",
    "    manifest_file_path = f\"{target_path.split(BUCKET_NAME_USECASE+'/')[1]}/visual_validation.manifest\""
   ]
  },
  {
   "cell_type": "code",
   "execution_count": 46,
   "id": "78c2fd27-0e9b-4cb5-b7a3-3135ed43a6a4",
   "metadata": {
    "tags": []
   },
   "outputs": [
    {
     "name": "stdout",
     "output_type": "stream",
     "text": [
      "2023-03-20 09:07:32        260 visual_validation.manifest\n"
     ]
    }
   ],
   "source": [
    "!aws s3 ls 's3://crude-palm-oil-prices-forecast/predicted-data/2023/03/19/1679292475.0/manifest/visual_validation.manifest'"
   ]
  },
  {
   "cell_type": "code",
   "execution_count": 83,
   "id": "da850a6d-57f7-4377-a621-31da8ef629e0",
   "metadata": {
    "tags": []
   },
   "outputs": [],
   "source": [
    "def refresh_of_spice_datasets(user_account_id,\n",
    "                              qs_data_name,\n",
    "                              manifest_file_path,\n",
    "                              BUCKET_NAME_USECASE,\n",
    "                              qs_client):\n",
    "    \n",
    "    ds_list = qs_client.list_data_sources(AwsAccountId=user_account_id)\n",
    "    datasource_ids = [summary[\"DataSourceId\"] for summary in ds_list[\"DataSources\"] if qs_data_name in summary[\"Name\"]]    \n",
    "    for datasource_id in datasource_ids:\n",
    "        response = qs_client.update_data_source(\n",
    "            AwsAccountId=user_account_id,\n",
    "            DataSourceId=datasource_id,\n",
    "            Name=qs_data_name,\n",
    "            DataSourceParameters={\n",
    "                'S3Parameters': {\n",
    "                    'ManifestFileLocation': {\n",
    "                        'Bucket': BUCKET_NAME_USECASE,\n",
    "                        'Key':  manifest_file_path\n",
    "                    },\n",
    "                },\n",
    "            })\n",
    "        print(f\"datasource_id:{datasource_id} 의 manifest를 업데이트: {response}\")\n",
    "    \n",
    "    res = qs_client.list_data_sets(AwsAccountId = user_account_id)\n",
    "    datasets_ids = [summary[\"DataSetId\"] for summary in res[\"DataSetSummaries\"] if qs_data_name in summary[\"Name\"]]\n",
    "    ingestion_ids = []\n",
    "\n",
    "    for dataset_id in datasets_ids:\n",
    "        try:\n",
    "            ingestion_id = str(calendar.timegm(time.gmtime()))\n",
    "            qs_client.create_ingestion(DataSetId = dataset_id,\n",
    "                                       IngestionId = ingestion_id,\n",
    "                                       AwsAccountId = user_account_id)\n",
    "            ingestion_ids.append(ingestion_id)\n",
    "        except Exception as e:\n",
    "            print(e)\n",
    "            pass\n",
    "    for ingestion_id, dataset_id in zip(ingestion_ids, datasets_ids):\n",
    "        while True:\n",
    "            response = qs_client.describe_ingestion(DataSetId = dataset_id,\n",
    "                                                    IngestionId = ingestion_id,\n",
    "                                                    AwsAccountId = user_account_id)\n",
    "            if response['Ingestion']['IngestionStatus'] in ('INITIALIZED', 'QUEUED', 'RUNNING'):\n",
    "                time.sleep(5)     #change sleep time according to your dataset size\n",
    "            elif response['Ingestion']['IngestionStatus'] == 'COMPLETED':\n",
    "                print(\"refresh completed. RowsIngested {0}, RowsDropped {1}, IngestionTimeInSeconds {2}, IngestionSizeInBytes {3}\".format(\n",
    "                    response['Ingestion']['RowInfo']['RowsIngested'],\n",
    "                    response['Ingestion']['RowInfo']['RowsDropped'],\n",
    "                    response['Ingestion']['IngestionTimeInSeconds'],\n",
    "                    response['Ingestion']['IngestionSizeInBytes']))\n",
    "                break\n",
    "            else:\n",
    "                print(\"refresh failed for {0}! - status {1}\".format(dataset_id,\n",
    "                                                                          response['Ingestion']['IngestionStatus']))\n",
    "                break\n",
    "    return response"
   ]
  },
  {
   "cell_type": "code",
   "execution_count": 107,
   "id": "499f6411-8b84-4a1f-b3cb-6ee3f84b3353",
   "metadata": {
    "tags": []
   },
   "outputs": [],
   "source": [
    "def register_manifest(source_path,\n",
    "                      target_path,\n",
    "                      s3_client,\n",
    "                      BUCKET_NAME_USECASE):\n",
    "    template_json = {\"fileLocations\": [{\"URIPrefixes\": []}],\n",
    "                     \"globalUploadSettings\": {\n",
    "                         \"format\": \"CSV\",\n",
    "                         \"delimiter\": \",\"\n",
    "                     }}\n",
    "    paginator = s3_client.get_paginator('list_objects_v2')\n",
    "    response_iterator = paginator.paginate(Bucket = BUCKET_NAME_USECASE,\n",
    "                                           Prefix = source_path.split(BUCKET_NAME_USECASE+'/')[1]\n",
    "                                          )\n",
    "    for page in response_iterator:\n",
    "        for content in page['Contents']:\n",
    "            template_json['fileLocations'][0]['URIPrefixes'].append(f's3://{BUCKET_NAME_USECASE}/'+content['Key'])\n",
    "    with open(f'./manifest_testing.manifest', 'w') as f:\n",
    "        json.dump(template_json, f, indent=2)\n",
    "\n",
    "    res = s3_client.upload_file('./manifest_testing.manifest',\n",
    "                                BUCKET_NAME_USECASE,\n",
    "                                f\"{target_path.split(BUCKET_NAME_USECASE+'/')[1]}/visual_validation.manifest\")\n",
    "    return f\"{target_path.split(BUCKET_NAME_USECASE+'/')[1]}/visual_validation.manifest\"\n",
    "    \n",
    "def refresh_of_spice_datasets(user_account_id,\n",
    "                              qs_data_name,\n",
    "                              manifest_file_path,\n",
    "                              BUCKET_NAME_USECASE,\n",
    "                              qs_client):\n",
    "    \n",
    "    ds_list = qs_client.list_data_sources(AwsAccountId='108594546720')\n",
    "    datasource_ids = [summary[\"DataSourceId\"] for summary in ds_list[\"DataSources\"] if qs_data_name in summary[\"Name\"]]    \n",
    "    for datasource_id in datasource_ids:\n",
    "        response = qs_client.update_data_source(\n",
    "            AwsAccountId=user_account_id,\n",
    "            DataSourceId=datasource_id,\n",
    "            Name=qs_data_name,\n",
    "            DataSourceParameters={\n",
    "                'S3Parameters': {\n",
    "                    'ManifestFileLocation': {\n",
    "                        'Bucket': BUCKET_NAME_USECASE,\n",
    "                        'Key':  manifest_file_path\n",
    "                    },\n",
    "                },\n",
    "            })\n",
    "        print(f\"datasource_id:{datasource_id} 의 manifest를 업데이트: {response}\")\n",
    "    \n",
    "    res = qs_client.list_data_sets(AwsAccountId = user_account_id)\n",
    "    datasets_ids = [summary[\"DataSetId\"] for summary in res[\"DataSetSummaries\"] if qs_data_name in summary[\"Name\"]]\n",
    "    ingestion_ids = []\n",
    "\n",
    "    for dataset_id in datasets_ids:\n",
    "        try:\n",
    "            ingestion_id = str(calendar.timegm(time.gmtime()))\n",
    "            qs_client.create_ingestion(DataSetId = dataset_id,\n",
    "                                       IngestionId = ingestion_id,\n",
    "                                       AwsAccountId = user_account_id)\n",
    "            ingestion_ids.append(ingestion_id)\n",
    "        except Exception as e:\n",
    "            print(e)\n",
    "            pass\n",
    "    for ingestion_id, dataset_id in zip(ingestion_ids, datasets_ids):\n",
    "        while True:\n",
    "            response = qs_client.describe_ingestion(DataSetId = dataset_id,\n",
    "                                                    IngestionId = ingestion_id,\n",
    "                                                    AwsAccountId = user_account_id)\n",
    "            if response['Ingestion']['IngestionStatus'] in ('INITIALIZED', 'QUEUED', 'RUNNING'):\n",
    "                time.sleep(5)     #change sleep time according to your dataset size\n",
    "            elif response['Ingestion']['IngestionStatus'] == 'COMPLETED':\n",
    "                print(\"refresh completed. RowsIngested {0}, RowsDropped {1}, IngestionTimeInSeconds {2}, IngestionSizeInBytes {3}\".format(\n",
    "                    response['Ingestion']['RowInfo']['RowsIngested'],\n",
    "                    response['Ingestion']['RowInfo']['RowsDropped'],\n",
    "                    response['Ingestion']['IngestionTimeInSeconds'],\n",
    "                    response['Ingestion']['IngestionSizeInBytes']))\n",
    "                break\n",
    "            else:\n",
    "                print(\"refresh failed for {0}! - status {1}\".format(dataset_id,\n",
    "                                                                          response['Ingestion']['IngestionStatus']))\n",
    "                break\n",
    "    return response"
   ]
  },
  {
   "cell_type": "code",
   "execution_count": null,
   "id": "772b2edd-0293-4fb9-bf23-e844e408e970",
   "metadata": {},
   "outputs": [],
   "source": [
    "user_account_id = '108594546720'\n",
    "qs_data_name = 'forecast_result'\n",
    "datasource_id = 'dcb10d8e-7dd7-432d-9af1-05d31e836cc1'\n",
    "\n",
    "source_path = 's3://crude-palm-oil-prices-forecast/predicted-data/2023/03/22/1679559317.0/result'\n",
    "target_path = source_path.rsplit('/',1)[0]+'/manifest'\n",
    "# source_path = "
   ]
  },
  {
   "cell_type": "code",
   "execution_count": 101,
   "id": "2781cc8a-8e1e-4b5f-8ae5-d08e68f0bf5e",
   "metadata": {
    "tags": []
   },
   "outputs": [],
   "source": [
    "source_path = 's3://crude-palm-oil-prices-forecast/trained-model/2023/03/22/1679551713.0/manifest'\n",
    "target_path = 's3://crude-palm-oil-prices-forecast/trained-model/2023/03/22/1679551713.0/prediction'"
   ]
  },
  {
   "cell_type": "code",
   "execution_count": 104,
   "id": "63a0b704-5b38-49ca-9224-ddb0a24a4e4a",
   "metadata": {
    "tags": []
   },
   "outputs": [],
   "source": [
    "manifest_file_path = register_manifest(source_path,\n",
    "                  target_path,\n",
    "                  s3_client,\n",
    "                  BUCKET_NAME_USECASE)"
   ]
  },
  {
   "cell_type": "code",
   "execution_count": 108,
   "id": "0cdb0564-74a5-42d5-b3e4-3bf608d74f4e",
   "metadata": {
    "tags": []
   },
   "outputs": [
    {
     "name": "stdout",
     "output_type": "stream",
     "text": [
      "datasource_id:dcb10d8e-7dd7-432d-9af1-05d31e836cc1 의 manifest를 업데이트: {'ResponseMetadata': {'RequestId': 'b16d7d85-e878-437b-b055-3892bd2041c2', 'HTTPStatusCode': 202, 'HTTPHeaders': {'date': 'Thu, 23 Mar 2023 06:00:29 GMT', 'content-type': 'application/json', 'content-length': '245', 'connection': 'keep-alive', 'x-amzn-requestid': 'b16d7d85-e878-437b-b055-3892bd2041c2'}, 'RetryAttempts': 0}, 'Status': 202, 'Arn': 'arn:aws:quicksight:ap-northeast-2:108594546720:datasource/dcb10d8e-7dd7-432d-9af1-05d31e836cc1', 'DataSourceId': 'dcb10d8e-7dd7-432d-9af1-05d31e836cc1', 'UpdateStatus': 'UPDATE_IN_PROGRESS', 'RequestId': 'b16d7d85-e878-437b-b055-3892bd2041c2'}\n",
      "refresh completed. RowsIngested 14, RowsDropped 0, IngestionTimeInSeconds 17, IngestionSizeInBytes 1848\n"
     ]
    },
    {
     "data": {
      "text/plain": [
       "{'ResponseMetadata': {'RequestId': '755dfab4-be22-4b31-9d02-a5118fb78bef',\n",
       "  'HTTPStatusCode': 200,\n",
       "  'HTTPHeaders': {'date': 'Thu, 23 Mar 2023 06:00:51 GMT',\n",
       "   'content-type': 'application/json',\n",
       "   'content-length': '584',\n",
       "   'connection': 'keep-alive',\n",
       "   'x-amzn-requestid': '755dfab4-be22-4b31-9d02-a5118fb78bef'},\n",
       "  'RetryAttempts': 0},\n",
       " 'Status': 200,\n",
       " 'Ingestion': {'Arn': 'arn:aws:quicksight:ap-northeast-2:108594546720:dataset/2269eae0-2254-494a-a998-b94b7c4686e9/ingestion/1679551229',\n",
       "  'IngestionId': '1679551229',\n",
       "  'IngestionStatus': 'COMPLETED',\n",
       "  'ErrorInfo': {},\n",
       "  'RowInfo': {'RowsIngested': 14, 'RowsDropped': 0, 'TotalRowsInDataset': 14},\n",
       "  'CreatedTime': datetime.datetime(2023, 3, 23, 6, 0, 29, 769000, tzinfo=tzlocal()),\n",
       "  'IngestionTimeInSeconds': 17,\n",
       "  'IngestionSizeInBytes': 1848,\n",
       "  'RequestSource': 'MANUAL',\n",
       "  'RequestType': 'FULL_REFRESH'},\n",
       " 'RequestId': '755dfab4-be22-4b31-9d02-a5118fb78bef'}"
      ]
     },
     "execution_count": 108,
     "metadata": {},
     "output_type": "execute_result"
    }
   ],
   "source": [
    "refresh_of_spice_datasets(user_account_id,\n",
    "                              qs_data_name,\n",
    "                              manifest_file_path,\n",
    "                              BUCKET_NAME_USECASE,\n",
    "                              qs_client)"
   ]
  },
  {
   "cell_type": "code",
   "execution_count": 118,
   "id": "228bdd39-388c-4d5a-b42a-490d4978281c",
   "metadata": {
    "tags": []
   },
   "outputs": [],
   "source": [
    "response = qs_client.create_data_source(\n",
    "    AwsAccountId=user_account_id,\n",
    "    DataSourceId='5308e376-ab57-440f-b38d-acf9eb635113',\n",
    "    Name='final_forecast_result',\n",
    "    Type='S3',\n",
    "    DataSourceParameters={\n",
    "        'S3Parameters': {\n",
    "            'ManifestFileLocation': {\n",
    "                'Bucket': BUCKET_NAME_USECASE,\n",
    "                'Key': manifest_file_path\n",
    "            }}}\n",
    "    )"
   ]
  },
  {
   "cell_type": "code",
   "execution_count": 119,
   "id": "e887de74-25bf-4fed-ba42-807ba5b1e630",
   "metadata": {
    "tags": []
   },
   "outputs": [
    {
     "data": {
      "text/plain": [
       "{'ResponseMetadata': {'RequestId': 'cc62258f-03e3-44f0-9537-1cecbecbe324',\n",
       "  'HTTPStatusCode': 202,\n",
       "  'HTTPHeaders': {'date': 'Thu, 23 Mar 2023 06:11:00 GMT',\n",
       "   'content-type': 'application/json',\n",
       "   'content-length': '249',\n",
       "   'connection': 'keep-alive',\n",
       "   'x-amzn-requestid': 'cc62258f-03e3-44f0-9537-1cecbecbe324'},\n",
       "  'RetryAttempts': 0},\n",
       " 'Status': 202,\n",
       " 'Arn': 'arn:aws:quicksight:ap-northeast-2:108594546720:datasource/5308e376-ab57-440f-b38d-acf9eb635113',\n",
       " 'DataSourceId': '5308e376-ab57-440f-b38d-acf9eb635113',\n",
       " 'CreationStatus': 'CREATION_IN_PROGRESS',\n",
       " 'RequestId': 'cc62258f-03e3-44f0-9537-1cecbecbe324'}"
      ]
     },
     "execution_count": 119,
     "metadata": {},
     "output_type": "execute_result"
    }
   ],
   "source": [
    "response"
   ]
  },
  {
   "cell_type": "code",
   "execution_count": 117,
   "id": "fdbf165e-f940-4dbe-b30c-2e868b25fcaf",
   "metadata": {
    "tags": []
   },
   "outputs": [
    {
     "data": {
      "text/plain": [
       "{'ResponseMetadata': {'RequestId': '985c791d-a9be-46cb-9540-dc7137654174',\n",
       "  'HTTPStatusCode': 202,\n",
       "  'HTTPHeaders': {'date': 'Thu, 23 Mar 2023 06:08:40 GMT',\n",
       "   'content-type': 'application/json',\n",
       "   'content-length': '189',\n",
       "   'connection': 'keep-alive',\n",
       "   'x-amzn-requestid': '985c791d-a9be-46cb-9540-dc7137654174'},\n",
       "  'RetryAttempts': 0},\n",
       " 'Status': 202,\n",
       " 'Arn': 'arn:aws:quicksight:ap-northeast-2:108594546720:datasource/string',\n",
       " 'DataSourceId': 'string',\n",
       " 'CreationStatus': 'CREATION_IN_PROGRESS',\n",
       " 'RequestId': '985c791d-a9be-46cb-9540-dc7137654174'}"
      ]
     },
     "execution_count": 117,
     "metadata": {},
     "output_type": "execute_result"
    }
   ],
   "source": [
    "while True:\n",
    "    response = qs_client.create_data_source(DataSourceId = dataset_id,\n",
    "                                            IngestionId = ingestion_id,\n",
    "                                            AwsAccountId = user_account_id)\n",
    "    if response['Ingestion']['IngestionStatus'] in ('INITIALIZED', 'QUEUED', 'RUNNING'):\n",
    "        time.sleep(5)     #change sleep time according to your dataset size\n",
    "    elif response['Ingestion']['IngestionStatus'] == 'COMPLETED':\n",
    "        print(\"refresh completed. RowsIngested {0}, RowsDropped {1}, IngestionTimeInSeconds {2}, IngestionSizeInBytes {3}\".format(\n",
    "            response['Ingestion']['RowInfo']['RowsIngested'],\n",
    "            response['Ingestion']['RowInfo']['RowsDropped'],\n",
    "            response['Ingestion']['IngestionTimeInSeconds'],\n",
    "            response['Ingestion']['IngestionSizeInBytes']))\n",
    "        break\n",
    "    else:\n",
    "        print(\"refresh failed for {0}! - status {1}\".format(dataset_id,\n",
    "                                                                  response['Ingestion']['IngestionStatus']))\n",
    "        break"
   ]
  },
  {
   "cell_type": "code",
   "execution_count": 111,
   "id": "a5a1b025-bb7d-4cb5-8309-a47e169b23a2",
   "metadata": {
    "tags": []
   },
   "outputs": [
    {
     "data": {
      "text/plain": [
       "'arn:aws:iam::108594546720:role/service-role/AmazonSageMaker-ExecutionRole-20220901T154875'"
      ]
     },
     "execution_count": 111,
     "metadata": {},
     "output_type": "execute_result"
    }
   ],
   "source": [
    "sagemaker.get_execuation_role()"
   ]
  },
  {
   "cell_type": "code",
   "execution_count": 120,
   "id": "1384bbc0-8f39-44c8-8ccc-f4d383eb1806",
   "metadata": {
    "tags": []
   },
   "outputs": [
    {
     "data": {
      "text/plain": [
       "{'ResponseMetadata': {'RequestId': 'cc62258f-03e3-44f0-9537-1cecbecbe324',\n",
       "  'HTTPStatusCode': 202,\n",
       "  'HTTPHeaders': {'date': 'Thu, 23 Mar 2023 06:11:00 GMT',\n",
       "   'content-type': 'application/json',\n",
       "   'content-length': '249',\n",
       "   'connection': 'keep-alive',\n",
       "   'x-amzn-requestid': 'cc62258f-03e3-44f0-9537-1cecbecbe324'},\n",
       "  'RetryAttempts': 0},\n",
       " 'Status': 202,\n",
       " 'Arn': 'arn:aws:quicksight:ap-northeast-2:108594546720:datasource/5308e376-ab57-440f-b38d-acf9eb635113',\n",
       " 'DataSourceId': '5308e376-ab57-440f-b38d-acf9eb635113',\n",
       " 'CreationStatus': 'CREATION_IN_PROGRESS',\n",
       " 'RequestId': 'cc62258f-03e3-44f0-9537-1cecbecbe324'}"
      ]
     },
     "execution_count": 120,
     "metadata": {},
     "output_type": "execute_result"
    }
   ],
   "source": [
    "response"
   ]
  },
  {
   "cell_type": "code",
   "execution_count": 130,
   "id": "70f82f66-cb0c-4dcb-9292-6cc01d065b1b",
   "metadata": {
    "tags": []
   },
   "outputs": [
    {
     "name": "stdout",
     "output_type": "stream",
     "text": [
      "wait 5s\n",
      "wait 5s\n",
      "wait 5s\n",
      "wait 5s\n",
      "wait 5s\n",
      "wait 5s\n",
      "wait 5s\n",
      "wait 5s\n",
      "wait 5s\n"
     ]
    },
    {
     "ename": "KeyboardInterrupt",
     "evalue": "",
     "output_type": "error",
     "traceback": [
      "\u001b[0;31m---------------------------------------------------------------------------\u001b[0m",
      "\u001b[0;31mKeyboardInterrupt\u001b[0m                         Traceback (most recent call last)",
      "Cell \u001b[0;32mIn[130], line 23\u001b[0m\n\u001b[1;32m      9\u001b[0m response \u001b[38;5;241m=\u001b[39m qs_client\u001b[38;5;241m.\u001b[39mupdate_data_source(\n\u001b[1;32m     10\u001b[0m     AwsAccountId\u001b[38;5;241m=\u001b[39muser_account_id,\n\u001b[1;32m     11\u001b[0m     DataSourceId\u001b[38;5;241m=\u001b[39mdatasource_id,\n\u001b[0;32m   (...)\u001b[0m\n\u001b[1;32m     20\u001b[0m     }\n\u001b[1;32m     21\u001b[0m )\n\u001b[1;32m     22\u001b[0m \u001b[38;5;28;01mif\u001b[39;00m response[\u001b[38;5;124m'\u001b[39m\u001b[38;5;124mUpdateStatus\u001b[39m\u001b[38;5;124m'\u001b[39m] \u001b[38;5;129;01min\u001b[39;00m (\u001b[38;5;124m'\u001b[39m\u001b[38;5;124mUPDATE_IN_PROGRESS\u001b[39m\u001b[38;5;124m'\u001b[39m, \u001b[38;5;124m'\u001b[39m\u001b[38;5;124mCREATION_IN_PROGRESS\u001b[39m\u001b[38;5;124m'\u001b[39m):\n\u001b[0;32m---> 23\u001b[0m     \u001b[43mtime\u001b[49m\u001b[38;5;241;43m.\u001b[39;49m\u001b[43msleep\u001b[49m\u001b[43m(\u001b[49m\u001b[38;5;241;43m5\u001b[39;49m\u001b[43m)\u001b[49m     \u001b[38;5;66;03m#change sleep time according to your dataset size\u001b[39;00m\n\u001b[1;32m     24\u001b[0m     \u001b[38;5;28mprint\u001b[39m(\u001b[38;5;124m'\u001b[39m\u001b[38;5;124mwait 5s\u001b[39m\u001b[38;5;124m'\u001b[39m)\n\u001b[1;32m     25\u001b[0m \u001b[38;5;28;01melif\u001b[39;00m response[\u001b[38;5;124m'\u001b[39m\u001b[38;5;124mUpdateStatus\u001b[39m\u001b[38;5;124m'\u001b[39m] \u001b[38;5;241m==\u001b[39m \u001b[38;5;124m'\u001b[39m\u001b[38;5;124mUPDATE_SUCCESSFUL\u001b[39m\u001b[38;5;124m'\u001b[39m:\n",
      "\u001b[0;31mKeyboardInterrupt\u001b[0m: "
     ]
    }
   ],
   "source": [
    "user_account_id = '108594546720'\n",
    "qs_data_name = 'forecast_result'\n",
    "datasource_id = 'dcb10d8e-7dd7-432d-9af1-05d31e836cc1'\n",
    "\n",
    "ds_list = qs_client.list_data_sources(AwsAccountId=user_account_id)\n",
    "datasource_ids = [summary[\"DataSourceId\"] for summary in ds_list[\"DataSources\"] if qs_data_name in summary[\"Name\"]]    \n",
    "for datasource_id in datasource_ids:\n",
    "    while True:\n",
    "        response = qs_client.update_data_source(\n",
    "            AwsAccountId=user_account_id,\n",
    "            DataSourceId=datasource_id,\n",
    "            Name=qs_data_name,\n",
    "            DataSourceParameters={\n",
    "                'S3Parameters': {\n",
    "                    'ManifestFileLocation': {\n",
    "                        'Bucket': BUCKET_NAME_USECASE,\n",
    "                        'Key':  manifest_file_path\n",
    "                    },\n",
    "                },\n",
    "            }\n",
    "        )\n",
    "        if response['UpdateStatus'] in ('UPDATE_IN_PROGRESS', 'CREATION_IN_PROGRESS'):\n",
    "            time.sleep(5)     #change sleep time according to your dataset size\n",
    "            print('wait 5s')\n",
    "        elif response['UpdateStatus'] == 'UPDATE_SUCCESSFUL':\n",
    "            print(\"refresh completed. RowsIngested {0}, RowsDropped {1}, IngestionTimeInSeconds {2}, IngestionSizeInBytes {3}\".format(\n",
    "                response['Ingestion']['RowInfo']['RowsIngested'],\n",
    "                response['Ingestion']['RowInfo']['RowsDropped'],\n",
    "                response['Ingestion']['IngestionTimeInSeconds'],\n",
    "                response['Ingestion']['IngestionSizeInBytes']))\n",
    "            break\n",
    "        else:\n",
    "            print(\"refresh failed for {0}! - status {1}\".format(dataset_id,\n",
    "                                                                          response['Ingestion']['IngestionStatus']))\n",
    "            break\n",
    "    print(f\"datasource_id:{datasource_id} 의 manifest를 업데이트: {response}\")"
   ]
  },
  {
   "cell_type": "code",
   "execution_count": null,
   "id": "2f29f217-7fe3-45bb-ac9e-5e5694aa1fa9",
   "metadata": {},
   "outputs": [],
   "source": [
    "'CREATION_IN_PROGRESS'|'CREATION_SUCCESSFUL'|'CREATION_FAILED'|'UPDATE_IN_PROGRESS'|'UPDATE_SUCCESSFUL'|'UPDATE_FAILED'|'DELETED',"
   ]
  },
  {
   "cell_type": "code",
   "execution_count": 121,
   "id": "55e574a4-6438-42b4-aaf3-e9bee0afd354",
   "metadata": {
    "tags": []
   },
   "outputs": [],
   "source": [
    "test = {\n",
    "   \"ResponseMetadata\":{\n",
    "      \"RequestId\":\"cf098a88-9f8a-4d85-a7a1-5fbb0fd7be41\",\n",
    "      \"HTTPStatusCode\":202,\n",
    "      \"HTTPHeaders\":{\n",
    "         \"date\":\"Thu, 23 Mar 2023 05:32:19 GMT\",\n",
    "         \"content-type\":\"application/json\",\n",
    "         \"content-length\":\"245\",\n",
    "         \"connection\":\"keep-alive\",\n",
    "         \"x-amzn-requestid\":\"cf098a88-9f8a-4d85-a7a1-5fbb0fd7be41\"\n",
    "      },\n",
    "      \"RetryAttempts\":0\n",
    "   },\n",
    "   \"Status\":202,\n",
    "   \"Arn\":\"arn:aws:quicksight:ap-northeast-2:108594546720:datasource/dcb10d8e-7dd7-432d-9af1-05d31e836cc1\",\n",
    "   \"DataSourceId\":\"dcb10d8e-7dd7-432d-9af1-05d31e836cc1\",\n",
    "   \"UpdateStatus\":\"UPDATE_IN_PROGRESS\",\n",
    "   \"RequestId\":\"cf098a88-9f8a-4d85-a7a1-5fbb0fd7be41\"\n",
    "}"
   ]
  },
  {
   "cell_type": "code",
   "execution_count": 122,
   "id": "8ef063b0-e86f-451a-b043-f6595926db5b",
   "metadata": {
    "tags": []
   },
   "outputs": [
    {
     "data": {
      "text/plain": [
       "'UPDATE_IN_PROGRESS'"
      ]
     },
     "execution_count": 122,
     "metadata": {},
     "output_type": "execute_result"
    }
   ],
   "source": [
    "test['UpdateStatus']"
   ]
  },
  {
   "cell_type": "code",
   "execution_count": 132,
   "id": "43d9ba29-3fe1-453f-8737-a00e9630cbb9",
   "metadata": {
    "tags": []
   },
   "outputs": [
    {
     "data": {
      "text/plain": [
       "'trained-model/2023/03/22/1679551713.0/prediction/visual_validation.manifest'"
      ]
     },
     "execution_count": 132,
     "metadata": {},
     "output_type": "execute_result"
    }
   ],
   "source": [
    "manifest_file_path"
   ]
  },
  {
   "cell_type": "code",
   "execution_count": 131,
   "id": "f1043aca-b4ec-4e04-a4a1-421c26c69071",
   "metadata": {
    "tags": []
   },
   "outputs": [
    {
     "name": "stdout",
     "output_type": "stream",
     "text": [
      "datasource_id:5308e376-ab57-440f-b38d-acf9eb635113 의 manifest를 업데이트: {'ResponseMetadata': {'RequestId': '4a2ffa37-c67d-4825-9637-fb1ea0982db5', 'HTTPStatusCode': 202, 'HTTPHeaders': {'date': 'Thu, 23 Mar 2023 07:46:27 GMT', 'content-type': 'application/json', 'content-length': '245', 'connection': 'keep-alive', 'x-amzn-requestid': '4a2ffa37-c67d-4825-9637-fb1ea0982db5'}, 'RetryAttempts': 0}, 'Status': 202, 'Arn': 'arn:aws:quicksight:ap-northeast-2:108594546720:datasource/5308e376-ab57-440f-b38d-acf9eb635113', 'DataSourceId': '5308e376-ab57-440f-b38d-acf9eb635113', 'UpdateStatus': 'UPDATE_IN_PROGRESS', 'RequestId': '4a2ffa37-c67d-4825-9637-fb1ea0982db5'}\n",
      "datasource_id:dcb10d8e-7dd7-432d-9af1-05d31e836cc1 의 manifest를 업데이트: {'ResponseMetadata': {'RequestId': 'e5eea517-c6e7-4636-9828-ec3038f5ebf2', 'HTTPStatusCode': 202, 'HTTPHeaders': {'date': 'Thu, 23 Mar 2023 07:46:28 GMT', 'content-type': 'application/json', 'content-length': '245', 'connection': 'keep-alive', 'x-amzn-requestid': 'e5eea517-c6e7-4636-9828-ec3038f5ebf2'}, 'RetryAttempts': 0}, 'Status': 202, 'Arn': 'arn:aws:quicksight:ap-northeast-2:108594546720:datasource/dcb10d8e-7dd7-432d-9af1-05d31e836cc1', 'DataSourceId': 'dcb10d8e-7dd7-432d-9af1-05d31e836cc1', 'UpdateStatus': 'UPDATE_IN_PROGRESS', 'RequestId': 'e5eea517-c6e7-4636-9828-ec3038f5ebf2'}\n",
      "datasource_id:string 의 manifest를 업데이트: {'ResponseMetadata': {'RequestId': '86f6bced-9ce4-4a26-affb-2e3d9cd457d5', 'HTTPStatusCode': 202, 'HTTPHeaders': {'date': 'Thu, 23 Mar 2023 07:46:28 GMT', 'content-type': 'application/json', 'content-length': '185', 'connection': 'keep-alive', 'x-amzn-requestid': '86f6bced-9ce4-4a26-affb-2e3d9cd457d5'}, 'RetryAttempts': 0}, 'Status': 202, 'Arn': 'arn:aws:quicksight:ap-northeast-2:108594546720:datasource/string', 'DataSourceId': 'string', 'UpdateStatus': 'UPDATE_IN_PROGRESS', 'RequestId': '86f6bced-9ce4-4a26-affb-2e3d9cd457d5'}\n",
      "refresh completed. RowsIngested 14, RowsDropped 0, IngestionTimeInSeconds 17, IngestionSizeInBytes 1848\n"
     ]
    },
    {
     "data": {
      "text/plain": [
       "{'ResponseMetadata': {'RequestId': 'b4be940c-8803-46ce-9f72-b350e076b5be',\n",
       "  'HTTPStatusCode': 200,\n",
       "  'HTTPHeaders': {'date': 'Thu, 23 Mar 2023 07:46:50 GMT',\n",
       "   'content-type': 'application/json',\n",
       "   'content-length': '584',\n",
       "   'connection': 'keep-alive',\n",
       "   'x-amzn-requestid': 'b4be940c-8803-46ce-9f72-b350e076b5be'},\n",
       "  'RetryAttempts': 0},\n",
       " 'Status': 200,\n",
       " 'Ingestion': {'Arn': 'arn:aws:quicksight:ap-northeast-2:108594546720:dataset/2269eae0-2254-494a-a998-b94b7c4686e9/ingestion/1679557588',\n",
       "  'IngestionId': '1679557588',\n",
       "  'IngestionStatus': 'COMPLETED',\n",
       "  'ErrorInfo': {},\n",
       "  'RowInfo': {'RowsIngested': 14, 'RowsDropped': 0, 'TotalRowsInDataset': 14},\n",
       "  'CreatedTime': datetime.datetime(2023, 3, 23, 7, 46, 28, 628000, tzinfo=tzlocal()),\n",
       "  'IngestionTimeInSeconds': 17,\n",
       "  'IngestionSizeInBytes': 1848,\n",
       "  'RequestSource': 'MANUAL',\n",
       "  'RequestType': 'FULL_REFRESH'},\n",
       " 'RequestId': 'b4be940c-8803-46ce-9f72-b350e076b5be'}"
      ]
     },
     "execution_count": 131,
     "metadata": {},
     "output_type": "execute_result"
    }
   ],
   "source": [
    "user_account_id = '108594546720'\n",
    "qs_data_name = 'forecast_result'\n",
    "datasource_id = 'dcb10d8e-7dd7-432d-9af1-05d31e836cc1'\n",
    "\n",
    "refresh_of_spice_datasets(user_account_id, qs_data_name, manifest_file_path, BUCKET_NAME_USECASE, qs_client)"
   ]
  },
  {
   "cell_type": "code",
   "execution_count": 59,
   "id": "d9d03cb1-23ec-42fd-a269-3aaf397064ba",
   "metadata": {
    "tags": []
   },
   "outputs": [
    {
     "name": "stdout",
     "output_type": "stream",
     "text": [
      "dcb10d8e-7dd7-432d-9af1-05d31e836cc1\n",
      "datasource_id:dcb10d8e-7dd7-432d-9af1-05d31e836cc1 의 manifest를 업데이트: {'ResponseMetadata': {'RequestId': '0ab328aa-ba5c-406a-b63a-7f9674543971', 'HTTPStatusCode': 202, 'HTTPHeaders': {'date': 'Wed, 22 Mar 2023 23:16:09 GMT', 'content-type': 'application/json', 'content-length': '245', 'connection': 'keep-alive', 'x-amzn-requestid': '0ab328aa-ba5c-406a-b63a-7f9674543971'}, 'RetryAttempts': 0}, 'Status': 202, 'Arn': 'arn:aws:quicksight:ap-northeast-2:108594546720:datasource/dcb10d8e-7dd7-432d-9af1-05d31e836cc1', 'DataSourceId': 'dcb10d8e-7dd7-432d-9af1-05d31e836cc1', 'UpdateStatus': 'UPDATE_IN_PROGRESS', 'RequestId': '0ab328aa-ba5c-406a-b63a-7f9674543971'}\n"
     ]
    }
   ],
   "source": [
    "for datasource_id in datasource_ids:\n",
    "    print(datasource_id)\n",
    "    response = qs_client.update_data_source(\n",
    "        AwsAccountId='108594546720',\n",
    "        DataSourceId='dcb10d8e-7dd7-432d-9af1-05d31e836cc1',\n",
    "        Name=qs_data_name,\n",
    "        DataSourceParameters={\n",
    "            'S3Parameters': {\n",
    "                'ManifestFileLocation': {\n",
    "                    'Bucket': 'crude-palm-oil-prices-forecast',\n",
    "                    'Key':  'predicted-data/2023/03/19/1679292475.0/manifest/visual_validation.manifest'\n",
    "                },\n",
    "        }})\n",
    "    print(f\"datasource_id:{datasource_id} 의 manifest를 업데이트: {response}\")\n"
   ]
  },
  {
   "cell_type": "code",
   "execution_count": 137,
   "id": "f8f29ecd-3ae2-4d14-987b-c05e518d814b",
   "metadata": {
    "tags": []
   },
   "outputs": [
    {
     "name": "stdout",
     "output_type": "stream",
     "text": [
      "hi\n"
     ]
    }
   ],
   "source": [
    "print('hi')"
   ]
  },
  {
   "cell_type": "code",
   "execution_count": 135,
   "id": "26ff7e04-1765-496b-8ffb-cff96205c725",
   "metadata": {
    "tags": []
   },
   "outputs": [
    {
     "name": "stdout",
     "output_type": "stream",
     "text": [
      "datasource_id:5308e376-ab57-440f-b38d-acf9eb635113 의 manifest를 업데이트: {'ResponseMetadata': {'RequestId': 'f8ec7816-ddaf-469c-b54c-7e058ef2c72f', 'HTTPStatusCode': 202, 'HTTPHeaders': {'date': 'Thu, 23 Mar 2023 11:24:23 GMT', 'content-type': 'application/json', 'content-length': '245', 'connection': 'keep-alive', 'x-amzn-requestid': 'f8ec7816-ddaf-469c-b54c-7e058ef2c72f'}, 'RetryAttempts': 0}, 'Status': 202, 'Arn': 'arn:aws:quicksight:ap-northeast-2:108594546720:datasource/5308e376-ab57-440f-b38d-acf9eb635113', 'DataSourceId': '5308e376-ab57-440f-b38d-acf9eb635113', 'UpdateStatus': 'UPDATE_IN_PROGRESS', 'RequestId': 'f8ec7816-ddaf-469c-b54c-7e058ef2c72f'}\n",
      "datasource_id:dcb10d8e-7dd7-432d-9af1-05d31e836cc1 의 manifest를 업데이트: {'ResponseMetadata': {'RequestId': 'cfee156e-7c62-4c7f-a9c6-935171ef61bc', 'HTTPStatusCode': 202, 'HTTPHeaders': {'date': 'Thu, 23 Mar 2023 11:24:23 GMT', 'content-type': 'application/json', 'content-length': '245', 'connection': 'keep-alive', 'x-amzn-requestid': 'cfee156e-7c62-4c7f-a9c6-935171ef61bc'}, 'RetryAttempts': 0}, 'Status': 202, 'Arn': 'arn:aws:quicksight:ap-northeast-2:108594546720:datasource/dcb10d8e-7dd7-432d-9af1-05d31e836cc1', 'DataSourceId': 'dcb10d8e-7dd7-432d-9af1-05d31e836cc1', 'UpdateStatus': 'UPDATE_IN_PROGRESS', 'RequestId': 'cfee156e-7c62-4c7f-a9c6-935171ef61bc'}\n",
      "datasource_id:string 의 manifest를 업데이트: {'ResponseMetadata': {'RequestId': 'e40a8c3e-6d73-4450-9a29-1c5c369470f3', 'HTTPStatusCode': 202, 'HTTPHeaders': {'date': 'Thu, 23 Mar 2023 11:24:24 GMT', 'content-type': 'application/json', 'content-length': '185', 'connection': 'keep-alive', 'x-amzn-requestid': 'e40a8c3e-6d73-4450-9a29-1c5c369470f3'}, 'RetryAttempts': 0}, 'Status': 202, 'Arn': 'arn:aws:quicksight:ap-northeast-2:108594546720:datasource/string', 'DataSourceId': 'string', 'UpdateStatus': 'UPDATE_IN_PROGRESS', 'RequestId': 'e40a8c3e-6d73-4450-9a29-1c5c369470f3'}\n"
     ]
    }
   ],
   "source": [
    "ds_list = qs_client.list_data_sources(AwsAccountId=user_account_id)\n",
    "datasource_ids = [summary[\"DataSourceId\"] for summary in ds_list[\"DataSources\"] if qs_data_name in summary[\"Name\"]]    \n",
    "for datasource_id in datasource_ids:\n",
    "    response = qs_client.update_data_source(\n",
    "        AwsAccountId=user_account_id,\n",
    "        DataSourceId=datasource_id,\n",
    "        Name=qs_data_name,\n",
    "        DataSourceParameters={\n",
    "            'S3Parameters': {\n",
    "                'ManifestFileLocation': {\n",
    "                    'Bucket': 'crude-palm-oil-prices-forecast',\n",
    "                    'Key':  'predicted-data/2023/03/20/1679390006.0/manifest/visual_validation.manifest'\n",
    "                },\n",
    "            },\n",
    "        })\n",
    "    print(f\"datasource_id:{datasource_id} 의 manifest를 업데이트: {response}\")"
   ]
  },
  {
   "cell_type": "code",
   "execution_count": 139,
   "id": "4ddaaf83-ffc8-41f4-a247-82f90394adae",
   "metadata": {
    "tags": []
   },
   "outputs": [
    {
     "data": {
      "text/plain": [
       "['5308e376-ab57-440f-b38d-acf9eb635113',\n",
       " 'dcb10d8e-7dd7-432d-9af1-05d31e836cc1',\n",
       " 'string']"
      ]
     },
     "execution_count": 139,
     "metadata": {},
     "output_type": "execute_result"
    }
   ],
   "source": [
    "datasource_ids"
   ]
  },
  {
   "cell_type": "code",
   "execution_count": 74,
   "id": "44b5f240-3e7c-430e-b440-52b5996f0d01",
   "metadata": {
    "tags": []
   },
   "outputs": [
    {
     "name": "stdout",
     "output_type": "stream",
     "text": [
      "refresh completed. RowsIngested 22, RowsDropped 0, IngestionTimeInSeconds 16, IngestionSizeInBytes 2904\n"
     ]
    }
   ],
   "source": [
    "import calendar\n",
    "user_account_id = '108594546720'\n",
    "qs_data_name = 'forecast_result'\n",
    "# datasource_id = 'dcb10d8e-7dd7-432d-9af1-05d31e836cc1'\n",
    "\n",
    "\n",
    "res = qs_client.list_data_sets(AwsAccountId = user_account_id)\n",
    "datasets_ids = [summary[\"DataSetId\"] for summary in res[\"DataSetSummaries\"] if qs_data_name in summary[\"Name\"]]\n",
    "ingestion_ids = []\n",
    "\n",
    "for dataset_id in datasets_ids:\n",
    "    try:\n",
    "        ingestion_id = str(calendar.timegm(time.gmtime()))\n",
    "        qs_client.create_ingestion(DataSetId = dataset_id,\n",
    "                                   IngestionId = ingestion_id,\n",
    "                                   AwsAccountId = user_account_id)\n",
    "        ingestion_ids.append(ingestion_id)\n",
    "    except Exception as e:\n",
    "        print(e)\n",
    "        pass\n",
    "for ingestion_id, dataset_id in zip(ingestion_ids, datasets_ids):\n",
    "    while True:\n",
    "        response = qs_client.describe_ingestion(DataSetId = dataset_id,\n",
    "                                                IngestionId = ingestion_id,\n",
    "                                                AwsAccountId = user_account_id)\n",
    "        if response['Ingestion']['IngestionStatus'] in ('INITIALIZED', 'QUEUED', 'RUNNING'):\n",
    "            time.sleep(5)     #change sleep time according to your dataset size\n",
    "        elif response['Ingestion']['IngestionStatus'] == 'COMPLETED':\n",
    "            print(\"refresh completed. RowsIngested {0}, RowsDropped {1}, IngestionTimeInSeconds {2}, IngestionSizeInBytes {3}\".format(\n",
    "                response['Ingestion']['RowInfo']['RowsIngested'],\n",
    "                response['Ingestion']['RowInfo']['RowsDropped'],\n",
    "                response['Ingestion']['IngestionTimeInSeconds'],\n",
    "                response['Ingestion']['IngestionSizeInBytes']))\n",
    "            break\n",
    "        else:\n",
    "            print(\"refresh failed for {0}! - status {1}\".format(dataset_id,\n",
    "                                                                      response['Ingestion']['IngestionStatus']))\n",
    "            break"
   ]
  },
  {
   "cell_type": "code",
   "execution_count": null,
   "id": "a0f8593e-6d7c-4a4b-9d8d-95696a46ec10",
   "metadata": {},
   "outputs": [],
   "source": [
    "model_approval_status = ParameterString(\n",
    "    name=\"ModelApprovalStatus\", default_value=\"PendingManualApproval\"\n",
    ")"
   ]
  }
 ],
 "metadata": {
  "kernelspec": {
   "display_name": "conda_python3",
   "language": "python",
   "name": "conda_python3"
  },
  "language_info": {
   "codemirror_mode": {
    "name": "ipython",
    "version": 3
   },
   "file_extension": ".py",
   "mimetype": "text/x-python",
   "name": "python",
   "nbconvert_exporter": "python",
   "pygments_lexer": "ipython3",
   "version": "3.10.8"
  }
 },
 "nbformat": 4,
 "nbformat_minor": 5
}
