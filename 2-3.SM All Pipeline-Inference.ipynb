{
 "cells": [
  {
   "cell_type": "markdown",
   "id": "eacfd0c1-66cb-479a-b9f4-9b3df4fe77ac",
   "metadata": {
    "tags": []
   },
   "source": [
    "# SageMaker 모델 빌드 파이프라인을 이용한 모델 빌드 오케스트레이션\n",
    "Amazon SageMaker Model building pipeline은 머신러닝 워크플로우를 개발하는 데이터 과학자, 엔지니어들에게 SageMaker작업과 재생산가능한 머신러닝 파이프라인을 오케스트레이션하는 기능을 제공합니다. 또한 커스텀빌드된 모델을 실시간 추론환경이나 배치변환을 통한 추론 실행환경으로 배포하거나, 생성된 아티팩트의 계보(lineage)를 추적하는 기능을 제공합니다. 이 기능들을 통해 모델 아티팩트를 배포하고, 업무환경에서의 워크플로우를 배포/모니터링하고, 간단한 인터페이스를 통해 아티팩트의 계보 추적하고, 머신러닝 애플리케이션 개발의 베스트 프렉티스를 도입하여, 보다 안정적인 머신러닝 애플리케이션 운영환경을 구현할 수 있습니다.\n",
    "\n",
    "SageMaker pipeline 서비스는 JSON 선언으로 구현된 SageMaker Pipeline DSL(Domain Specific Language, 도메인종속언어)를 지원합니다. 이 DSL은 파이프라인 파라마터와 SageMaker 작업단계의 DAG(Directed Acyclic Graph)를 정의합니다. SageMaker Python SDK를 이용하면 이 파이프라인 DSL의 생성을 보다 간편하게 할 수 있습니다."
   ]
  },
  {
   "cell_type": "code",
   "execution_count": 1,
   "id": "54492411-030c-47c1-be61-8480d911d441",
   "metadata": {
    "tags": []
   },
   "outputs": [],
   "source": [
    "LOCAL_MODE = False"
   ]
  },
  {
   "cell_type": "markdown",
   "id": "84b92b83-c7aa-49b1-a1ed-a976c863c1a9",
   "metadata": {},
   "source": [
    "# 0. 사용 코드"
   ]
  },
  {
   "cell_type": "markdown",
   "id": "e25f378c-efb4-4416-a89f-6fb0eae22c03",
   "metadata": {
    "jp-MarkdownHeadingCollapsed": true,
    "tags": []
   },
   "source": [
    "### 0-1. prediction-autogluon"
   ]
  },
  {
   "cell_type": "code",
   "execution_count": 2,
   "id": "149224b0-4214-453c-8406-265cd1be7ee2",
   "metadata": {
    "tags": []
   },
   "outputs": [
    {
     "name": "stdout",
     "output_type": "stream",
     "text": [
      "Overwriting src/v2.0/prediction-autogluon.py\n"
     ]
    }
   ],
   "source": [
    "%%writefile src/v2.0/prediction-autogluon.py\n",
    "\n",
    "import argparse\n",
    "import os\n",
    "import requests\n",
    "import tempfile\n",
    "import subprocess, sys\n",
    "import json\n",
    "\n",
    "import glob\n",
    "import pandas as pd\n",
    "import joblib\n",
    "import pickle\n",
    "import tarfile\n",
    "from io import StringIO, BytesIO\n",
    "\n",
    "import logging\n",
    "import logging.handlers\n",
    "\n",
    "import time\n",
    "from datetime import datetime as dt\n",
    "\n",
    "import boto3\n",
    "\n",
    "\n",
    "###############################\n",
    "######### util 함수 설정 ##########\n",
    "###############################\n",
    "def _get_logger():\n",
    "    loglevel = logging.DEBUG\n",
    "    l = logging.getLogger(__name__)\n",
    "    if not l.hasHandlers():\n",
    "        l.setLevel(loglevel)\n",
    "        logging.getLogger().addHandler(logging.StreamHandler(sys.stdout))        \n",
    "        l.handler_set = True\n",
    "    return l  \n",
    "logger = _get_logger()\n",
    "\n",
    "def get_bucket_key_from_uri(uri):\n",
    "    uri_aws_path = uri.split('//')[1]\n",
    "    uri_bucket = uri_aws_path.rsplit('/')[0]\n",
    "    uri_file_path = '/'.join(uri_aws_path.rsplit('/')[1:])\n",
    "    return uri_bucket, uri_file_path\n",
    "\n",
    "def get_secret():\n",
    "    secret_name = \"dev/ForecastPalmOilPrice\"\n",
    "    region_name = \"ap-northeast-2\"\n",
    "    \n",
    "    # Create a Secrets Manager client\n",
    "    session = boto3.session.Session()\n",
    "    client = session.client(\n",
    "        service_name='secretsmanager',\n",
    "        region_name=region_name,\n",
    "    )\n",
    "\n",
    "    try:\n",
    "        get_secret_value_response = client.get_secret_value(\n",
    "            SecretId=secret_name\n",
    "        )\n",
    "    except ClientError as e:\n",
    "        if e.response['Error']['Code'] == 'DecryptionFailureException': # Secrets Manager can't decrypt the protected secret text using the provided KMS key.\n",
    "            raise e\n",
    "        elif e.response['Error']['Code'] == 'InternalServiceErrorException': # An error occurred on the server side.\n",
    "            raise e\n",
    "        elif e.response['Error']['Code'] == 'InvalidParameterException': # You provided an invalid value for a parameter.\n",
    "            raise e\n",
    "        elif e.response['Error']['Code'] == 'InvalidRequestException': # You provided a parameter value that is not valid for the current state of the resource.\n",
    "            raise e\n",
    "        elif e.response['Error']['Code'] == 'ResourceNotFoundException': # We can't find the resource that you asked for.\n",
    "            raise e\n",
    "    else:\n",
    "        if 'SecretString' in get_secret_value_response:\n",
    "            secret = get_secret_value_response['SecretString']\n",
    "            return secret\n",
    "        else:\n",
    "            decoded_binary_secret = base64.b64decode(get_secret_value_response['SecretBinary'])\n",
    "            return decoded_binary_secret\n",
    "        \n",
    "def parse_args():\n",
    "    parser = argparse.ArgumentParser()\n",
    "    parser.add_argument('--output_dir', type = str, default = \"/opt/ml/processing/output\", help='예측 결과값이 저장되는 곳, Inference 결과가 저장된다.')\n",
    "    parser.add_argument('--ml_algorithm_name', type=str, default = 'Autogluon')  \n",
    "    parser.add_argument('--model_package_group_name', type=str, default = BUCKET_NAME_USECASE)  \n",
    "    parser.add_argument('--qs_data_name', type=str, default = 'forecast result')    \n",
    "\n",
    "    return parser.parse_args()\n",
    "        \n",
    "if __name__=='__main__':\n",
    "    ########################################### \n",
    "    subprocess.check_call([sys.executable, '-m', 'pip', 'install', 'autogluon==0.6.1'])\n",
    "    from autogluon.timeseries import TimeSeriesDataFrame, TimeSeriesPredictor\n",
    "    \n",
    "    ############################################\n",
    "    ###### Secret Manager에서 키값 가져오기  #######\n",
    "    ########################################### \n",
    "    logger.info(f\"\\n### Loading Key value from Secret Manager\")\n",
    "    keychain = json.loads(get_secret())\n",
    "    ACCESS_KEY_ID = keychain['AWS_ACCESS_KEY_ID']\n",
    "    ACCESS_SECRET_KEY = keychain['AWS_ACCESS_SECRET_KEY']\n",
    "    BUCKET_NAME_USECASE = keychain['PROJECT_BUCKET_NAME']\n",
    "    DATALAKE_BUCKET_NAME = keychain['DATALAKE_BUCKET_NAME']\n",
    "    S3_PATH_REUTER = keychain['S3_PATH_REUTER']\n",
    "    S3_PATH_WWO = keychain['S3_PATH_WWO']\n",
    "    S3_PATH_STAGE = keychain['S3_PATH_STAGE']\n",
    "    S3_PATH_GOLDEN = keychain['S3_PATH_GOLDEN']\n",
    "    S3_PATH_TRAIN = keychain['S3_PATH_TRAIN']\n",
    "    S3_PATH_FORECAST = keychain['S3_PATH_PREDICTION']\n",
    "    \n",
    "    boto3_session = boto3.Session(aws_access_key_id = ACCESS_KEY_ID,\n",
    "                                  aws_secret_access_key = ACCESS_SECRET_KEY,\n",
    "                                  region_name = 'ap-northeast-2')\n",
    "    \n",
    "    s3_client = boto3_session.client('s3')\n",
    "    sm_client = boto3_session.client('sagemaker')\n",
    "    qs_client = boto3_session.client('quicksight')\n",
    "\n",
    "    sts_client = boto3_session.client(\"sts\")\n",
    "    user_account_id = sts_client.get_caller_identity()[\"Account\"]\n",
    "    ######################################\n",
    "    ## 커맨드 인자, Hyperparameters 처리 ##\n",
    "    ######################################  \n",
    "    logger.info(\"######### Argument Info ####################################\")\n",
    "    logger.info(\"### start training code\")    \n",
    "    logger.info(\"### Argument Info ###\")\n",
    "    args = parse_args()             \n",
    "    logger.info(f\"args.output_dir: {args.output_dir}\")\n",
    "    logger.info(f\"args.ml_algorithm_name: {args.ml_algorithm_name}\")\n",
    "    logger.info(f\"args.model_package_group_name: {args.model_package_group_name}\")\n",
    "    logger.info(f\"args.qs_data_name: {args.qs_data_name}\")\n",
    "# prediction_output_path = f\"s3://crude-palm-oil-prices-forecast/predicted-data/2023/03/19/1679292475.0/result\"\n",
    "\n",
    "    output_dir = args.output_dir\n",
    "    ml_algorithm_name = args.ml_algorithm_name\n",
    "    model_package_group_name = args.model_package_group_name\n",
    "    qs_data_name = args.qs_data_name\n",
    "\n",
    "    model_dir = f'{output_dir}/model'\n",
    "    os.makedirs(model_dir, exist_ok=True)\n",
    "    \n",
    "    result_dir = f'{output_dir}/result'\n",
    "    os.makedirs(result_dir, exist_ok=True)\n",
    "\n",
    "    manifest_base_path = f'{output_dir}/manifest'\n",
    "    os.makedirs(manifest_base_path, exist_ok=True)\n",
    "    ##########################################################\n",
    "    ###### 적합한 모델의 URI 찾고, 탑 성능 모델 이름 가져오기 ##########\n",
    "    #########################################################\n",
    "    logger.info(\"\\n######### Finding suitable model uri ####################################\")\n",
    "    model_registry_list = sm_client.list_model_packages(ModelPackageGroupName = model_package_group_name)['ModelPackageSummaryList']\n",
    "    for model in model_registry_list:\n",
    "        if (model['ModelPackageGroupName'] == model_package_group_name and\n",
    "            model['ModelApprovalStatus'] == 'Approved' and\n",
    "            model['ModelPackageDescription'] == ml_algorithm_name):\n",
    "            mr_arn = model['ModelPackageArn']\n",
    "            break\n",
    "    model_spec = sm_client.describe_model_package(ModelPackageName=mr_arn)\n",
    "    train_data_dir = model_spec['CustomerMetadataProperties']['train_data']\n",
    "    test_data_dir = model_spec['CustomerMetadataProperties']['test_data']\n",
    "    \n",
    "    s3_model_uri = model_spec['InferenceSpecification']['Containers'][0]['ModelDataUrl']\n",
    "    champion_model = model_spec['CustomerMetadataProperties']['champion_model']\n",
    "\n",
    "    logger.info(f\"Found suitable model uri: {s3_model_uri}\")\n",
    "    logger.info(f\"And top model name: {champion_model}\")\n",
    "    \n",
    "    logger.info(\"\\n#########Download suitable model file  ####################################\")\n",
    "    model_bucket, model_key = get_bucket_key_from_uri(s3_model_uri)  \n",
    "    logger.info(f\"\\nmodel_bucket: {model_bucket}, model_key: {model_key}  ####################################\")\n",
    "    model_obj = s3_client.get_object(Bucket = model_bucket, Key = model_key)\n",
    "    \n",
    "    ##########################################################\n",
    "    ###### 모델 압축 풀고 TimeseriesDataFrame으로 변환 ##########\n",
    "    #########################################################\n",
    "    logger.info(\"\\n######### Model zip file extraction ####################################\")\n",
    "    with tarfile.open(fileobj=model_obj['Body'], mode='r|gz') as file:\n",
    "        file.extractall(output_dir)\n",
    "    logger.info(f\"list in {model_dir}: {os.listdir(model_dir)}\")\n",
    "    logger.info(\"\\n######### Convert df_test dataframe into TimeSeriesDataFrame  ###########\")        \n",
    "    df_train = pd.read_csv(os.path.join(train_data_dir, 'train_fold1.csv'))\n",
    "    df_test = pd.read_csv(os.path.join(test_data_dir, 'test_fold1.csv'))\n",
    "    sum_df = pd.concat([df_train, df_test]).reset_index(drop = True)\n",
    "    sum_df.loc[:, \"ds\"] = pd.to_datetime(sum_df.loc[:, \"ds\"])\n",
    "    \n",
    "    tdf_train = TimeSeriesDataFrame.from_data_frame(\n",
    "        sum_df,\n",
    "        id_column=\"ric\",\n",
    "        timestamp_column=\"ds\",\n",
    "    )\n",
    "    logger.info(f\"sum_df sample: head(2) \\n {sum_df.head(2)}\")\n",
    "    logger.info(f\"sum_df sample: tail(2) \\n {sum_df.tail(2)}\")\n",
    "\n",
    "    ################################\n",
    "    ###### Prediction 시작 ##########\n",
    "    ###############################\n",
    "    logger.info(\"\\n######### Start prediction  ###########\")        \n",
    "    loaded_trainer = pickle.load(open(f\"{model_dir}/models/trainer.pkl\", 'rb'))\n",
    "    logger.info(f\"loaded_trainer: {loaded_trainer}\")\n",
    "    prediction_ag_model = loaded_trainer.predict(data = tdf_train,\n",
    "                                                 model = champion_model)\n",
    "    logger.info(f\"prediction_ag_model sample: head(2) \\n {prediction_ag_model.head(2)}\")\n",
    "    prediction_result = prediction_ag_model.loc['FCPOc3']\n",
    "    logger.info(f\"prediction_ag_model sample: head(2) \\n {prediction_result.head(2)}\")\n",
    "    prediction_result.to_csv(f'{result_dir}/prediction_result.csv')"
   ]
  },
  {
   "cell_type": "markdown",
   "id": "7932b07c-b98d-4b26-9d14-5b074b44d572",
   "metadata": {
    "tags": []
   },
   "source": [
    "### 0-2. visualization"
   ]
  },
  {
   "cell_type": "code",
   "execution_count": 3,
   "id": "a8f4a081-5216-488d-89e4-994dab68146d",
   "metadata": {
    "tags": []
   },
   "outputs": [
    {
     "name": "stdout",
     "output_type": "stream",
     "text": [
      "Overwriting src/v2.0/visualization.py\n"
     ]
    }
   ],
   "source": [
    "%%writefile src/v2.0/visualization.py\n",
    "\n",
    "import argparse\n",
    "import os\n",
    "import requests\n",
    "import tempfile\n",
    "import subprocess, sys\n",
    "import json\n",
    "\n",
    "import glob\n",
    "import pandas as pd\n",
    "import joblib\n",
    "import pickle\n",
    "import tarfile\n",
    "from io import StringIO, BytesIO\n",
    "\n",
    "import logging\n",
    "import logging.handlers\n",
    "\n",
    "import time\n",
    "import calendar\n",
    "from datetime import datetime as dt\n",
    "\n",
    "import boto3\n",
    "\n",
    "\n",
    "###############################\n",
    "######### util 함수 설정 ##########\n",
    "###############################\n",
    "def _get_logger():\n",
    "    loglevel = logging.DEBUG\n",
    "    l = logging.getLogger(__name__)\n",
    "    if not l.hasHandlers():\n",
    "        l.setLevel(loglevel)\n",
    "        logging.getLogger().addHandler(logging.StreamHandler(sys.stdout))        \n",
    "        l.handler_set = True\n",
    "    return l  \n",
    "logger = _get_logger()\n",
    "\n",
    "def get_secret():\n",
    "    secret_name = \"dev/ForecastPalmOilPrice\"\n",
    "    region_name = \"ap-northeast-2\"\n",
    "    \n",
    "    # Create a Secrets Manager client\n",
    "    session = boto3.session.Session()\n",
    "    client = session.client(\n",
    "        service_name='secretsmanager',\n",
    "        region_name=region_name,\n",
    "    )\n",
    "\n",
    "    try:\n",
    "        get_secret_value_response = client.get_secret_value(\n",
    "            SecretId=secret_name\n",
    "        )\n",
    "    except ClientError as e:\n",
    "        if e.response['Error']['Code'] == 'DecryptionFailureException': # Secrets Manager can't decrypt the protected secret text using the provided KMS key.\n",
    "            raise e\n",
    "        elif e.response['Error']['Code'] == 'InternalServiceErrorException': # An error occurred on the server side.\n",
    "            raise e\n",
    "        elif e.response['Error']['Code'] == 'InvalidParameterException': # You provided an invalid value for a parameter.\n",
    "            raise e\n",
    "        elif e.response['Error']['Code'] == 'InvalidRequestException': # You provided a parameter value that is not valid for the current state of the resource.\n",
    "            raise e\n",
    "        elif e.response['Error']['Code'] == 'ResourceNotFoundException': # We can't find the resource that you asked for.\n",
    "            raise e\n",
    "    else:\n",
    "        if 'SecretString' in get_secret_value_response:\n",
    "            secret = get_secret_value_response['SecretString']\n",
    "            return secret\n",
    "        else:\n",
    "            decoded_binary_secret = base64.b64decode(get_secret_value_response['SecretBinary'])\n",
    "            return decoded_binary_secret\n",
    "        \n",
    "\n",
    "def register_manifest(source_path,\n",
    "                      target_path,\n",
    "                      s3_client,\n",
    "                      BUCKET_NAME_USECASE):\n",
    "    template_json = {\"fileLocations\": [{\"URIPrefixes\": []}],\n",
    "                     \"globalUploadSettings\": {\n",
    "                         \"format\": \"CSV\",\n",
    "                         \"delimiter\": \",\"\n",
    "                     }}\n",
    "    paginator = s3_client.get_paginator('list_objects_v2')\n",
    "    response_iterator = paginator.paginate(Bucket = BUCKET_NAME_USECASE,\n",
    "                                           Prefix = source_path.split(BUCKET_NAME_USECASE+'/')[1]\n",
    "                                          )\n",
    "    for page in response_iterator:\n",
    "        logger.info(f\"\\n#### page {page}\")\n",
    "        for content in page['Contents']:\n",
    "            template_json['fileLocations'][0]['URIPrefixes'].append(f's3://{BUCKET_NAME_USECASE}/'+content['Key'])\n",
    "    with open(f'./manifest_testing.manifest', 'w') as f:\n",
    "        json.dump(template_json, f, indent=2)\n",
    "\n",
    "    res = s3_client.upload_file('./manifest_testing.manifest',\n",
    "                                BUCKET_NAME_USECASE,\n",
    "                                f\"{target_path.split(BUCKET_NAME_USECASE+'/')[1]}/visual_validation.manifest\")\n",
    "    return f\"{target_path.split(BUCKET_NAME_USECASE+'/')[1]}/visual_validation.manifest\"\n",
    "    \n",
    "\n",
    "def refresh_of_spice_datasets(user_account_id,\n",
    "                              qs_data_name,\n",
    "                              manifest_file_path,\n",
    "                              BUCKET_NAME_USECASE,\n",
    "                              qs_client):\n",
    "    \n",
    "    ds_list = qs_client.list_data_sources(AwsAccountId=user_account_id)\n",
    "    datasource_ids = [summary[\"DataSourceId\"] for summary in ds_list[\"DataSources\"] if qs_data_name in summary[\"Name\"]]    \n",
    "    for datasource_id in datasource_ids:\n",
    "        response = qs_client.update_data_source(\n",
    "            AwsAccountId=user_account_id,\n",
    "            DataSourceId=datasource_id,\n",
    "            Name=qs_data_name,\n",
    "            DataSourceParameters={\n",
    "                'S3Parameters': {\n",
    "                    'ManifestFileLocation': {\n",
    "                        'Bucket': BUCKET_NAME_USECASE,\n",
    "                        'Key':  manifest_file_path\n",
    "                    },\n",
    "                },\n",
    "            })\n",
    "        logger.info(f\"datasource_id:{datasource_id} 의 manifest를 업데이트: {response}\")\n",
    "    \n",
    "    res = qs_client.list_data_sets(AwsAccountId = user_account_id)\n",
    "    datasets_ids = [summary[\"DataSetId\"] for summary in res[\"DataSetSummaries\"] if qs_data_name in summary[\"Name\"]]\n",
    "    ingestion_ids = []\n",
    "\n",
    "    for dataset_id in datasets_ids:\n",
    "        try:\n",
    "            ingestion_id = str(calendar.timegm(time.gmtime()))\n",
    "            qs_client.create_ingestion(DataSetId = dataset_id,\n",
    "                                       IngestionId = ingestion_id,\n",
    "                                       AwsAccountId = user_account_id)\n",
    "            ingestion_ids.append(ingestion_id)\n",
    "        except Exception as e:\n",
    "            logger.info(e)\n",
    "            pass\n",
    "    for ingestion_id, dataset_id in zip(ingestion_ids, datasets_ids):\n",
    "        while True:\n",
    "            response = qs_client.describe_ingestion(DataSetId = dataset_id,\n",
    "                                                    IngestionId = ingestion_id,\n",
    "                                                    AwsAccountId = user_account_id)\n",
    "            if response['Ingestion']['IngestionStatus'] in ('INITIALIZED', 'QUEUED', 'RUNNING'):\n",
    "                time.sleep(5)     #change sleep time according to your dataset size\n",
    "            elif response['Ingestion']['IngestionStatus'] == 'COMPLETED':\n",
    "                print(\"refresh completed. RowsIngested {0}, RowsDropped {1}, IngestionTimeInSeconds {2}, IngestionSizeInBytes {3}\".format(\n",
    "                    response['Ingestion']['RowInfo']['RowsIngested'],\n",
    "                    response['Ingestion']['RowInfo']['RowsDropped'],\n",
    "                    response['Ingestion']['IngestionTimeInSeconds'],\n",
    "                    response['Ingestion']['IngestionSizeInBytes']))\n",
    "                break\n",
    "            else:\n",
    "                response = \"refresh failed for {0}! - status {1}\".format(dataset_id, response['Ingestion']['IngestionStatus'])\n",
    "                break\n",
    "    return response\n",
    "        \n",
    "def parse_args():\n",
    "    parser = argparse.ArgumentParser()\n",
    "    parser.add_argument(\"--source_path\", type=str, help='prediction_data')\n",
    "    parser.add_argument(\"--qs_data_name\", type=str, default='forecast_result')\n",
    "    parser.add_argument('--model_package_group_name', type=str, default = BUCKET_NAME_USECASE)  \n",
    "    return parser.parse_args()\n",
    "        \n",
    "if __name__=='__main__':\n",
    "    ############################################\n",
    "    ###### Secret Manager에서 키값 가져오기  #######\n",
    "    ########################################### \n",
    "    logger.info(f\"\\n### Loading Key value from Secret Manager\")\n",
    "    keychain = json.loads(get_secret())\n",
    "    ACCESS_KEY_ID = keychain['AWS_ACCESS_KEY_ID']\n",
    "    ACCESS_SECRET_KEY = keychain['AWS_ACCESS_SECRET_KEY']\n",
    "    BUCKET_NAME_USECASE = keychain['PROJECT_BUCKET_NAME']\n",
    "    DATALAKE_BUCKET_NAME = keychain['DATALAKE_BUCKET_NAME']\n",
    "    S3_PATH_REUTER = keychain['S3_PATH_REUTER']\n",
    "    S3_PATH_WWO = keychain['S3_PATH_WWO']\n",
    "    S3_PATH_STAGE = keychain['S3_PATH_STAGE']\n",
    "    S3_PATH_GOLDEN = keychain['S3_PATH_GOLDEN']\n",
    "    S3_PATH_TRAIN = keychain['S3_PATH_TRAIN']\n",
    "    S3_PATH_FORECAST = keychain['S3_PATH_PREDICTION']\n",
    "    \n",
    "    boto3_session = boto3.Session(aws_access_key_id = ACCESS_KEY_ID,\n",
    "                                  aws_secret_access_key = ACCESS_SECRET_KEY,\n",
    "                                  region_name = 'ap-northeast-2')\n",
    "    \n",
    "    s3_client = boto3_session.client('s3')\n",
    "    sm_client = boto3_session.client('sagemaker')\n",
    "    qs_client = boto3_session.client('quicksight')\n",
    "\n",
    "    sts_client = boto3_session.client(\"sts\")\n",
    "    user_account_id = sts_client.get_caller_identity()[\"Account\"]\n",
    "    ######################################\n",
    "    ## 커맨드 인자, Hyperparameters 처리 ##\n",
    "    ######################################  \n",
    "    logger.info(\"######### Argument Info ####################################\")\n",
    "    logger.info(\"### start training code\")    \n",
    "    logger.info(\"### Argument Info ###\")\n",
    "    args = parse_args()             \n",
    "    logger.info(f\"args.source_path: {args.source_path}\")\n",
    "    logger.info(f\"args.qs_data_name: {args.qs_data_name}\")\n",
    "    logger.info(f\"args.model_package_group_name: {args.model_package_group_name}\")\n",
    " \n",
    "    source_path = args.source_path\n",
    "    qs_data_name = args.qs_data_name    \n",
    "    model_package_group_name = args.model_package_group_name\n",
    "    \n",
    "    target_path = source_path.rsplit('/',1)[0]+'/manifest'\n",
    "    logger.info(f\"\\n#### target_path : {target_path}\")\n",
    "\n",
    "    logger.info(f\"\\n#### register_manifest\")\n",
    "    manifest_file_path = register_manifest(source_path, \n",
    "                                           target_path,\n",
    "                                           s3_client,\n",
    "                                           BUCKET_NAME_USECASE)\n",
    "    logger.info(f'### manifest_file_path : {manifest_file_path}')\n",
    "    logger.info(f\"\\n#### refresh_of_spice_datasets\")\n",
    "    res = refresh_of_spice_datasets(user_account_id,\n",
    "                                    qs_data_name,\n",
    "                                    manifest_file_path,\n",
    "                                    BUCKET_NAME_USECASE,\n",
    "                                    qs_client)\n",
    "    logger.info(f'### refresh_of_spice_datasets : {res}')"
   ]
  },
  {
   "cell_type": "markdown",
   "id": "a3bc09cc-b875-4dea-b1b7-88971cccb149",
   "metadata": {},
   "source": [
    "# 1. 환경설정"
   ]
  },
  {
   "cell_type": "markdown",
   "id": "a1070fed-38dc-4fe0-898d-c0c8f9f03b03",
   "metadata": {},
   "source": [
    "## 1.1 라이브러리 및 변수 로딩"
   ]
  },
  {
   "cell_type": "code",
   "execution_count": 4,
   "id": "c4da5737-00a0-4042-9a74-e1127ffa983c",
   "metadata": {
    "tags": []
   },
   "outputs": [],
   "source": [
    "import argparse\n",
    "import os\n",
    "import requests\n",
    "import tempfile\n",
    "import subprocess, sys\n",
    "\n",
    "import pandas as pd\n",
    "import numpy as np\n",
    "from glob import glob\n",
    "import copy\n",
    "from collections import OrderedDict\n",
    "from pathlib import Path\n",
    "import joblib\n",
    "\n",
    "import logging\n",
    "import logging.handlers\n",
    "\n",
    "import json\n",
    "import base64\n",
    "import boto3\n",
    "import sagemaker\n",
    "from botocore.client import Config\n",
    "from botocore.exceptions import ClientError\n",
    "\n",
    "import time\n",
    "from datetime import datetime as dt\n",
    "import calendar\n",
    "import datetime\n",
    "from pytz import timezone\n",
    "from dateutil.relativedelta import *\n",
    "\n",
    "from sagemaker.mxnet import MXNet\n",
    "from sagemaker.sklearn.processing import SKLearnProcessor\n",
    "from sagemaker import get_execution_role\n",
    "from sagemaker.image_uris import retrieve\n",
    "from sagemaker.processing import ScriptProcessor, ProcessingInput, ProcessingOutput\n",
    "from sagemaker.workflow.steps import ProcessingStep, TrainingStep\n",
    "from sagemaker.inputs import TrainingInput"
   ]
  },
  {
   "cell_type": "code",
   "execution_count": 5,
   "id": "9dcb91b8-1962-4cf8-a0da-5ba89fce95eb",
   "metadata": {
    "tags": []
   },
   "outputs": [
    {
     "name": "stdout",
     "output_type": "stream",
     "text": [
      "Start job time: 2023-03-24 17:34:03.054723\n"
     ]
    }
   ],
   "source": [
    "# 한국 시간\n",
    "KST = dt.today() + relativedelta(hours=9)\n",
    "KST_aday_before = KST - relativedelta(days=1) \n",
    "yyyy, mm, dd = str(KST_aday_before.year), str(KST_aday_before.month).zfill(2), str(KST_aday_before.day).zfill(2)\n",
    "print(f\"Start job time: {KST}\")"
   ]
  },
  {
   "cell_type": "code",
   "execution_count": 6,
   "id": "0f59318e-dd85-4fa2-8ee2-cbaff3f5fba8",
   "metadata": {
    "tags": []
   },
   "outputs": [
    {
     "name": "stdout",
     "output_type": "stream",
     "text": [
      "Code version: 2.0\n"
     ]
    }
   ],
   "source": [
    "# 코드 버전\n",
    "code_version = '2.0'\n",
    "print(f\"Code version: {code_version}\")"
   ]
  },
  {
   "cell_type": "code",
   "execution_count": 7,
   "id": "783bd394-c44a-478b-bb76-0fd1b07c0ced",
   "metadata": {
    "tags": []
   },
   "outputs": [],
   "source": [
    "def get_secret():\n",
    "    secret_name = \"dev/ForecastPalmOilPrice\"\n",
    "    region_name = \"ap-northeast-2\"\n",
    "    \n",
    "    # Create a Secrets Manager client\n",
    "    session = boto3.session.Session()\n",
    "    client = session.client(\n",
    "        service_name='secretsmanager',\n",
    "        region_name=region_name,\n",
    "    )\n",
    "    try:\n",
    "        get_secret_value_response = client.get_secret_value(\n",
    "            SecretId=secret_name\n",
    "        )\n",
    "    except ClientError as e:\n",
    "        if e.response['Error']['Code'] == 'DecryptionFailureException': # Secrets Manager can't decrypt the protected secret text using the provided KMS key.\n",
    "            raise e\n",
    "        elif e.response['Error']['Code'] == 'InternalServiceErrorException': # An error occurred on the server side.\n",
    "            raise e\n",
    "        elif e.response['Error']['Code'] == 'InvalidParameterException': # You provided an invalid value for a parameter.\n",
    "            raise e\n",
    "        elif e.response['Error']['Code'] == 'InvalidRequestException': # You provided a parameter value that is not valid for the current state of the resource.\n",
    "            raise e\n",
    "        elif e.response['Error']['Code'] == 'ResourceNotFoundException': # We can't find the resource that you asked for.\n",
    "            raise e\n",
    "    else:\n",
    "        if 'SecretString' in get_secret_value_response:\n",
    "            secret = get_secret_value_response['SecretString']\n",
    "            return secret\n",
    "        else:\n",
    "            decoded_binary_secret = base64.b64decode(get_secret_value_response['SecretBinary'])\n",
    "            return decoded_binary_secret\n",
    "\n",
    "keychain = json.loads(get_secret())\n",
    "ACCESS_KEY_ID = keychain['AWS_ACCESS_KEY_ID']\n",
    "ACCESS_SECRET_KEY = keychain['AWS_ACCESS_SECRET_KEY']\n",
    "BUCKET_NAME_USECASE = keychain['PROJECT_BUCKET_NAME']\n",
    "DATALAKE_BUCKET_NAME = keychain['DATALAKE_BUCKET_NAME']\n",
    "S3_PATH_REUTER = keychain['S3_PATH_REUTER']\n",
    "S3_PATH_WWO = keychain['S3_PATH_WWO']\n",
    "S3_PATH_STAGE = keychain['S3_PATH_STAGE']\n",
    "S3_PATH_GOLDEN = keychain['S3_PATH_GOLDEN']\n",
    "S3_PATH_TRAIN = keychain['S3_PATH_TRAIN']\n",
    "S3_PATH_FORECAST = keychain['S3_PATH_PREDICTION']\n",
    "\n",
    "boto3_session = boto3.Session(aws_access_key_id = ACCESS_KEY_ID,\n",
    "                              aws_secret_access_key = ACCESS_SECRET_KEY,\n",
    "                              region_name = 'ap-northeast-2')\n",
    "\n",
    "s3_client = boto3_session.client('s3')\n",
    "sm_client = boto3_session.client('sagemaker')\n",
    "qs_client = boto3_session.client('quicksight')\n",
    "\n",
    "sts_client = boto3_session.client(\"sts\")\n",
    "user_account_id = sts_client.get_caller_identity()[\"Account\"]"
   ]
  },
  {
   "cell_type": "code",
   "execution_count": 8,
   "id": "5e06b8b8-f376-470c-aca1-960fc5fbe30a",
   "metadata": {
    "tags": []
   },
   "outputs": [
    {
     "name": "stdout",
     "output_type": "stream",
     "text": [
      "upload: src/v2.0/preprocessing.py to s3://crude-palm-oil-prices-forecast/src/preprocessing.py\n",
      "upload: src/v2.0/train.py to s3://crude-palm-oil-prices-forecast/src/train.py\n",
      "upload: src/v2.0/prediction-autogluon.py to s3://crude-palm-oil-prices-forecast/src/prediction-autogluon.py\n",
      "upload: src/v2.0/model_validation.py to s3://crude-palm-oil-prices-forecast/src/model_validation.py\n",
      "upload: src/v2.0/visualization.py to s3://crude-palm-oil-prices-forecast/src/visualization.py\n"
     ]
    }
   ],
   "source": [
    "!aws s3 cp 'src/v2.0' 's3://crude-palm-oil-prices-forecast/src' --recursive --exclude \".ipynb_checkpoints*\""
   ]
  },
  {
   "cell_type": "code",
   "execution_count": 9,
   "id": "02432ec8-bcbb-4bb9-8e47-0544ccef2e3c",
   "metadata": {
    "tags": []
   },
   "outputs": [
    {
     "name": "stdout",
     "output_type": "stream",
     "text": [
      "Stored 'prediction_code' (str)\n",
      "Stored 'visualization_code' (str)\n"
     ]
    }
   ],
   "source": [
    "prediction_code = 's3://crude-palm-oil-prices-forecast/src/prediction-autogluon.py'\n",
    "visualization_code = 's3://crude-palm-oil-prices-forecast/src/visualization.py'\n",
    "%store prediction_code\n",
    "%store visualization_code"
   ]
  },
  {
   "cell_type": "markdown",
   "id": "54c96b98-e8f5-4285-9f30-22543640c598",
   "metadata": {},
   "source": [
    "# 2. 모델 빌딩 파이프라인 의 스텝(Step) 생성"
   ]
  },
  {
   "cell_type": "markdown",
   "id": "f5da182e-881e-4ecd-8c13-e7015b617db1",
   "metadata": {},
   "source": [
    "## 2.1 모델 빌딩 파이프라인 변수 생성\n",
    "파이프라인에서 사용할 파이프라인 파라미터를 정의합니다. 파이프라인을 스케줄하고 실행할 때 파라미터를 이용하여 실행조건을 커스마이징할 수 있습니다. 파라미터를 이용하면 파이프라인 실행시마다 매번 파이프라인 정의를 수정하지 않아도 됩니다.\n",
    "\n",
    "지원되는 파라미터 타입은 다음과 같습니다:\n",
    "\n",
    "- ParameterString - 파이썬 타입에서 str\n",
    "- ParameterInteger - 파이썬 타입에서 int\n",
    "- ParameterFloat - 파이썬 타입에서 float\n",
    "이들 파라미터를 정의할 때 디폴트 값을 지정할 수 있으며 파이프라인 실행시 재지정할 수도 있습니다. 지정하는 디폴트 값은 파라미터 타입과 일치하여야 합니다.\n",
    "\n",
    "본 노트북에서 사용하는 파라미터는 다음과 같습니다.\n",
    "\n",
    "- processing_instance_type - 프로세싱 작업에서 사용할 ml.* 인스턴스 타입\n",
    "- processing_instance_count - 프로세싱 작업에서 사용할 인스턴스 개수\n",
    "- training_instance_type - 학습작업에서 사용할 ml.* 인스턴스 타입\n",
    "- model_approval_status - 학습된 모델을 CI/CD를 목적으로 등록할 때의 승인 상태 (디폴트는 \"PendingManualApproval\")\n",
    "- input_data - 입력데이터에 대한 S3 버킷 URI\n",
    "파이프라인의 각 스텝에서 사용할 변수를 파라미터 변수로서 정의 합니다."
   ]
  },
  {
   "cell_type": "code",
   "execution_count": 10,
   "id": "df8b63ae-e7fb-47ca-a77e-1c8166c2d098",
   "metadata": {
    "tags": []
   },
   "outputs": [],
   "source": [
    "from sagemaker.workflow.parameters import (ParameterInteger,\n",
    "                                           ParameterString,\n",
    "                                          )\n",
    "###################\n",
    "## 1) 모델 inference 위한 파이프라인 변수  ####################################\n",
    "###################\n",
    "prediction_instance_type = ParameterString(\n",
    "    name = \"PredctionInstanceType\",\n",
    "    default_value = \"ml.m5.xlarge\"\n",
    ")\n",
    "prediction_instance_count = ParameterInteger(\n",
    "    name = \"PredctionInstanceCount\",\n",
    "    default_value = 1\n",
    ")\n",
    "###################\n",
    "## 2) 모델 시각화 등록위한 파이프라인 변수  ####################################\n",
    "###################\n",
    "\n",
    "visualization_instance_type = ParameterString(\n",
    "    name = \"VisualizationInstanceType\",\n",
    "    default_value = \"ml.m5.xlarge\"\n",
    ")\n",
    "visualization_instance_count = ParameterInteger(\n",
    "    name = \"VisualizationInstanceCount\",\n",
    "    default_value = 1\n",
    ")"
   ]
  },
  {
   "cell_type": "markdown",
   "id": "fba6ac9a-4cc8-40c9-a806-640a68491491",
   "metadata": {},
   "source": [
    "## 2.2 프로세서 단계 정의"
   ]
  },
  {
   "cell_type": "code",
   "execution_count": 11,
   "id": "e77c5fb0-9f70-4432-bbed-316ff2063d68",
   "metadata": {
    "tags": []
   },
   "outputs": [
    {
     "name": "stderr",
     "output_type": "stream",
     "text": [
      "The input argument instance_type of function (sagemaker.image_uris.retrieve) is a pipeline variable (<class 'sagemaker.workflow.parameters.ParameterString'>), which is not allowed. The default_value of this Parameter object will be used to override it. Please make sure the default_value is valid.\n"
     ]
    }
   ],
   "source": [
    "from sagemaker import get_execution_role\n",
    "from sagemaker.image_uris import retrieve\n",
    "from sagemaker.processing import ScriptProcessor, ProcessingInput, ProcessingOutput\n",
    "from sagemaker.sklearn.processing import SKLearnProcessor\n",
    "\n",
    "###################\n",
    "# 1) 모델 예측 ###\n",
    "##################\n",
    "role = sagemaker.get_execution_role()\n",
    "image_uri = retrieve(framework='mxnet',\n",
    "                     region='ap-northeast-2',\n",
    "                     version='1.9.0',\n",
    "                     py_version='py38',\n",
    "                     image_scope='training',\n",
    "                     instance_type=\"ml.m5.xlarge\")\n",
    "\n",
    "script_processor_prediction = ScriptProcessor(\n",
    "    command=['python3'],\n",
    "    image_uri=image_uri,\n",
    "    instance_type = prediction_instance_type,\n",
    "    instance_count = prediction_instance_count,\n",
    "    base_job_name = f\"{BUCKET_NAME_USECASE}(Prediction)\",\n",
    "    role = role,\n",
    ")\n",
    "\n",
    "############################\n",
    "# 2) 시각화 데이터 업데이트###\n",
    "############################\n",
    "skframework_version = \"1.0-1\"#\"0.23-1\"\n",
    "skprocessor_visualization = SKLearnProcessor(\n",
    "    framework_version = skframework_version,\n",
    "    instance_type = visualization_instance_type,\n",
    "    instance_count = visualization_instance_count,\n",
    "    base_job_name = f\"{BUCKET_NAME_USECASE}(Visualization)\",\n",
    "    role = role,\n",
    ")"
   ]
  },
  {
   "cell_type": "markdown",
   "id": "d95fa26f-fdb3-4676-9fe2-2aeb218c7260",
   "metadata": {},
   "source": [
    "## 2.3 파이프라인 스텝 단계 정의"
   ]
  },
  {
   "cell_type": "code",
   "execution_count": 13,
   "id": "76d55b47-0219-4c29-88ad-3379b066424a",
   "metadata": {
    "tags": []
   },
   "outputs": [],
   "source": [
    "from sagemaker.processing import ProcessingInput, ProcessingOutput\n",
    "from sagemaker.workflow.steps import ProcessingStep\n",
    "\n",
    "###################\n",
    "# 1) 모델 예측 ###\n",
    "##################\n",
    "step_prediction = ProcessingStep(\n",
    "    name = f\"{BUCKET_NAME_USECASE}-Prediction\",\n",
    "    processor = script_processor_prediction,\n",
    "    inputs=[],\n",
    "    outputs=[\n",
    "        ProcessingOutput(output_name = \"prediction_data\",\n",
    "                         source = \"/opt/ml/processing/output/result\",\n",
    "                         destination = 's3://crude-palm-oil-prices-forecast/trained-model/2023/03/23/1679675822.0/prediction')\n",
    "        ],\n",
    "    job_arguments = [\"--model_package_group_name\", BUCKET_NAME_USECASE,\n",
    "                     \"--ml_algorithm_name\", 'Autogluon'],\n",
    "    code = prediction_code\n",
    ")\n",
    "############################\n",
    "# 2) 시각화 데이터 업데이트###\n",
    "############################\n",
    "step_visualization = ProcessingStep(\n",
    "    name = f\"{BUCKET_NAME_USECASE}-Visualization\",\n",
    "    processor = skprocessor_visualization,\n",
    "    job_arguments = [\"--source_path\", step_prediction.properties.ProcessingOutputConfig.Outputs[\"prediction_data\"].S3Output.S3Uri,\n",
    "                     \"--qs_data_name\", 'forecast result',\n",
    "                     \"--model_package_group_name\", BUCKET_NAME_USECASE], \n",
    "    code = visualization_code,\n",
    ")"
   ]
  },
  {
   "cell_type": "markdown",
   "id": "1bbaf87a-1928-4c66-a610-9b9253418ab3",
   "metadata": {
    "tags": []
   },
   "source": [
    "# 3. 최종 파이프라인 정의 및 실행"
   ]
  },
  {
   "cell_type": "markdown",
   "id": "d93bab7b-2164-4783-b3e0-ce403ba46742",
   "metadata": {},
   "source": [
    "### 3.1 최종 파이프라인 정의\n",
    "1. prediction: model registry에 있는 데이터를 미래 원자재 예측\n",
    "2. visualization: quicksight data source의 참조 manifest를 최신으로 업이트\n",
    "     \n",
    "참조하자: [MLOps Pipeline](https://aws.amazon.com/ko/blogs/machine-learning/deploy-an-mlops-solution-that-hosts-your-model-endpoints-in-aws-lambda/)"
   ]
  },
  {
   "cell_type": "code",
   "execution_count": 14,
   "id": "81969598-17df-42d6-a5dd-d1eb846295e0",
   "metadata": {
    "tags": []
   },
   "outputs": [],
   "source": [
    "from sagemaker.workflow.pipeline import Pipeline\n",
    "from sagemaker.workflow.steps import ProcessingStep\n",
    "\n",
    "pipeline = Pipeline(name = BUCKET_NAME_USECASE,\n",
    "                    parameters = [\n",
    "                        prediction_instance_type,        \n",
    "                        prediction_instance_count,\n",
    "                        visualization_instance_type,        \n",
    "                        visualization_instance_count,\n",
    "                        ],\n",
    "                    steps=[step_prediction,\n",
    "                           step_visualization\n",
    "                          ]\n",
    ")"
   ]
  },
  {
   "cell_type": "markdown",
   "id": "27b20aa2-daab-49a2-a976-4c4dbc6db982",
   "metadata": {},
   "source": [
    "### 3.2 파이프라인 정의 확인"
   ]
  },
  {
   "cell_type": "code",
   "execution_count": 15,
   "id": "76430e25-1a89-407b-ad21-c8ec5bbac6cd",
   "metadata": {
    "tags": []
   },
   "outputs": [
    {
     "data": {
      "text/plain": [
       "{'Version': '2020-12-01',\n",
       " 'Metadata': {},\n",
       " 'Parameters': [{'Name': 'PredctionInstanceType',\n",
       "   'Type': 'String',\n",
       "   'DefaultValue': 'ml.m5.xlarge'},\n",
       "  {'Name': 'PredctionInstanceCount', 'Type': 'Integer', 'DefaultValue': 1},\n",
       "  {'Name': 'VisualizationInstanceType',\n",
       "   'Type': 'String',\n",
       "   'DefaultValue': 'ml.m5.xlarge'},\n",
       "  {'Name': 'VisualizationInstanceCount',\n",
       "   'Type': 'Integer',\n",
       "   'DefaultValue': 1}],\n",
       " 'PipelineExperimentConfig': {'ExperimentName': {'Get': 'Execution.PipelineName'},\n",
       "  'TrialName': {'Get': 'Execution.PipelineExecutionId'}},\n",
       " 'Steps': [{'Name': 'crude-palm-oil-prices-forecast-Prediction',\n",
       "   'Type': 'Processing',\n",
       "   'Arguments': {'ProcessingResources': {'ClusterConfig': {'InstanceType': {'Get': 'Parameters.PredctionInstanceType'},\n",
       "      'InstanceCount': {'Get': 'Parameters.PredctionInstanceCount'},\n",
       "      'VolumeSizeInGB': 30}},\n",
       "    'AppSpecification': {'ImageUri': '763104351884.dkr.ecr.ap-northeast-2.amazonaws.com/mxnet-training:1.9.0-cpu-py38',\n",
       "     'ContainerArguments': ['--model_package_group_name',\n",
       "      'crude-palm-oil-prices-forecast',\n",
       "      '--ml_algorithm_name',\n",
       "      'Autogluon'],\n",
       "     'ContainerEntrypoint': ['python3',\n",
       "      '/opt/ml/processing/input/code/prediction-autogluon.py']},\n",
       "    'RoleArn': 'arn:aws:iam::108594546720:role/service-role/AmazonSageMaker-ExecutionRole-20220901T154875',\n",
       "    'ProcessingInputs': [{'InputName': 'code',\n",
       "      'AppManaged': False,\n",
       "      'S3Input': {'S3Uri': 's3://crude-palm-oil-prices-forecast/src/prediction-autogluon.py',\n",
       "       'LocalPath': '/opt/ml/processing/input/code',\n",
       "       'S3DataType': 'S3Prefix',\n",
       "       'S3InputMode': 'File',\n",
       "       'S3DataDistributionType': 'FullyReplicated',\n",
       "       'S3CompressionType': 'None'}}],\n",
       "    'ProcessingOutputConfig': {'Outputs': [{'OutputName': 'prediction_data',\n",
       "       'AppManaged': False,\n",
       "       'S3Output': {'S3Uri': 's3://crude-palm-oil-prices-forecast/trained-model/2023/03/23/1679675822.0/prediction',\n",
       "        'LocalPath': '/opt/ml/processing/output/result',\n",
       "        'S3UploadMode': 'EndOfJob'}}]}}},\n",
       "  {'Name': 'crude-palm-oil-prices-forecast-Visualization',\n",
       "   'Type': 'Processing',\n",
       "   'Arguments': {'ProcessingResources': {'ClusterConfig': {'InstanceType': {'Get': 'Parameters.VisualizationInstanceType'},\n",
       "      'InstanceCount': {'Get': 'Parameters.VisualizationInstanceCount'},\n",
       "      'VolumeSizeInGB': 30}},\n",
       "    'AppSpecification': {'ImageUri': '366743142698.dkr.ecr.ap-northeast-2.amazonaws.com/sagemaker-scikit-learn:1.0-1-cpu-py3',\n",
       "     'ContainerArguments': ['--source_path',\n",
       "      {'Get': \"Steps.crude-palm-oil-prices-forecast-Prediction.ProcessingOutputConfig.Outputs['prediction_data'].S3Output.S3Uri\"},\n",
       "      '--qs_data_name',\n",
       "      'forecast result',\n",
       "      '--model_package_group_name',\n",
       "      'crude-palm-oil-prices-forecast'],\n",
       "     'ContainerEntrypoint': ['python3',\n",
       "      '/opt/ml/processing/input/code/visualization.py']},\n",
       "    'RoleArn': 'arn:aws:iam::108594546720:role/service-role/AmazonSageMaker-ExecutionRole-20220901T154875',\n",
       "    'ProcessingInputs': [{'InputName': 'code',\n",
       "      'AppManaged': False,\n",
       "      'S3Input': {'S3Uri': 's3://crude-palm-oil-prices-forecast/src/visualization.py',\n",
       "       'LocalPath': '/opt/ml/processing/input/code',\n",
       "       'S3DataType': 'S3Prefix',\n",
       "       'S3InputMode': 'File',\n",
       "       'S3DataDistributionType': 'FullyReplicated',\n",
       "       'S3CompressionType': 'None'}}]}}]}"
      ]
     },
     "execution_count": 15,
     "metadata": {},
     "output_type": "execute_result"
    }
   ],
   "source": [
    "import json\n",
    "\n",
    "definition = json.loads(pipeline.definition())\n",
    "definition"
   ]
  },
  {
   "cell_type": "markdown",
   "id": "f9fcc308-4ea7-4608-bd95-630e427d41d2",
   "metadata": {},
   "source": [
    "### 3.3 파이프라인 정의를 제출하고 실행하기"
   ]
  },
  {
   "cell_type": "code",
   "execution_count": 16,
   "id": "028b7c73-408a-4e8f-804f-f2fe5208fd8b",
   "metadata": {
    "tags": []
   },
   "outputs": [
    {
     "ename": "WaiterError",
     "evalue": "Waiter PipelineExecutionComplete failed: Waiter encountered a terminal failure state: For expression \"PipelineExecutionStatus\" we matched expected path: \"Failed\"",
     "output_type": "error",
     "traceback": [
      "\u001b[0;31m---------------------------------------------------------------------------\u001b[0m",
      "\u001b[0;31mWaiterError\u001b[0m                               Traceback (most recent call last)",
      "File \u001b[0;32m<timed exec>:4\u001b[0m\n",
      "File \u001b[0;32m~/anaconda3/envs/python3/lib/python3.10/site-packages/sagemaker/workflow/pipeline.py:586\u001b[0m, in \u001b[0;36m_PipelineExecution.wait\u001b[0;34m(self, delay, max_attempts)\u001b[0m\n\u001b[1;32m    557\u001b[0m model \u001b[38;5;241m=\u001b[39m botocore\u001b[38;5;241m.\u001b[39mwaiter\u001b[38;5;241m.\u001b[39mWaiterModel(\n\u001b[1;32m    558\u001b[0m     {\n\u001b[1;32m    559\u001b[0m         \u001b[38;5;124m\"\u001b[39m\u001b[38;5;124mversion\u001b[39m\u001b[38;5;124m\"\u001b[39m: \u001b[38;5;241m2\u001b[39m,\n\u001b[0;32m   (...)\u001b[0m\n\u001b[1;32m    581\u001b[0m     }\n\u001b[1;32m    582\u001b[0m )\n\u001b[1;32m    583\u001b[0m waiter \u001b[38;5;241m=\u001b[39m botocore\u001b[38;5;241m.\u001b[39mwaiter\u001b[38;5;241m.\u001b[39mcreate_waiter_with_client(\n\u001b[1;32m    584\u001b[0m     waiter_id, model, \u001b[38;5;28mself\u001b[39m\u001b[38;5;241m.\u001b[39msagemaker_session\u001b[38;5;241m.\u001b[39msagemaker_client\n\u001b[1;32m    585\u001b[0m )\n\u001b[0;32m--> 586\u001b[0m \u001b[43mwaiter\u001b[49m\u001b[38;5;241;43m.\u001b[39;49m\u001b[43mwait\u001b[49m\u001b[43m(\u001b[49m\u001b[43mPipelineExecutionArn\u001b[49m\u001b[38;5;241;43m=\u001b[39;49m\u001b[38;5;28;43mself\u001b[39;49m\u001b[38;5;241;43m.\u001b[39;49m\u001b[43marn\u001b[49m\u001b[43m)\u001b[49m\n",
      "File \u001b[0;32m~/anaconda3/envs/python3/lib/python3.10/site-packages/botocore/waiter.py:55\u001b[0m, in \u001b[0;36mcreate_waiter_with_client.<locals>.wait\u001b[0;34m(self, **kwargs)\u001b[0m\n\u001b[1;32m     54\u001b[0m \u001b[38;5;28;01mdef\u001b[39;00m \u001b[38;5;21mwait\u001b[39m(\u001b[38;5;28mself\u001b[39m, \u001b[38;5;241m*\u001b[39m\u001b[38;5;241m*\u001b[39mkwargs):\n\u001b[0;32m---> 55\u001b[0m     \u001b[43mWaiter\u001b[49m\u001b[38;5;241;43m.\u001b[39;49m\u001b[43mwait\u001b[49m\u001b[43m(\u001b[49m\u001b[38;5;28;43mself\u001b[39;49m\u001b[43m,\u001b[49m\u001b[43m \u001b[49m\u001b[38;5;241;43m*\u001b[39;49m\u001b[38;5;241;43m*\u001b[39;49m\u001b[43mkwargs\u001b[49m\u001b[43m)\u001b[49m\n",
      "File \u001b[0;32m~/anaconda3/envs/python3/lib/python3.10/site-packages/botocore/waiter.py:375\u001b[0m, in \u001b[0;36mWaiter.wait\u001b[0;34m(self, **kwargs)\u001b[0m\n\u001b[1;32m    371\u001b[0m \u001b[38;5;28;01mif\u001b[39;00m current_state \u001b[38;5;241m==\u001b[39m \u001b[38;5;124m'\u001b[39m\u001b[38;5;124mfailure\u001b[39m\u001b[38;5;124m'\u001b[39m:\n\u001b[1;32m    372\u001b[0m     reason \u001b[38;5;241m=\u001b[39m \u001b[38;5;124m'\u001b[39m\u001b[38;5;124mWaiter encountered a terminal failure state: \u001b[39m\u001b[38;5;132;01m%s\u001b[39;00m\u001b[38;5;124m'\u001b[39m \u001b[38;5;241m%\u001b[39m (\n\u001b[1;32m    373\u001b[0m         acceptor\u001b[38;5;241m.\u001b[39mexplanation\n\u001b[1;32m    374\u001b[0m     )\n\u001b[0;32m--> 375\u001b[0m     \u001b[38;5;28;01mraise\u001b[39;00m WaiterError(\n\u001b[1;32m    376\u001b[0m         name\u001b[38;5;241m=\u001b[39m\u001b[38;5;28mself\u001b[39m\u001b[38;5;241m.\u001b[39mname,\n\u001b[1;32m    377\u001b[0m         reason\u001b[38;5;241m=\u001b[39mreason,\n\u001b[1;32m    378\u001b[0m         last_response\u001b[38;5;241m=\u001b[39mresponse,\n\u001b[1;32m    379\u001b[0m     )\n\u001b[1;32m    380\u001b[0m \u001b[38;5;28;01mif\u001b[39;00m num_attempts \u001b[38;5;241m>\u001b[39m\u001b[38;5;241m=\u001b[39m max_attempts:\n\u001b[1;32m    381\u001b[0m     \u001b[38;5;28;01mif\u001b[39;00m last_matched_acceptor \u001b[38;5;129;01mis\u001b[39;00m \u001b[38;5;28;01mNone\u001b[39;00m:\n",
      "\u001b[0;31mWaiterError\u001b[0m: Waiter PipelineExecutionComplete failed: Waiter encountered a terminal failure state: For expression \"PipelineExecutionStatus\" we matched expected path: \"Failed\""
     ]
    }
   ],
   "source": [
    "%%time\n",
    "start = time.time()\n",
    "pipeline.upsert(role_arn=sagemaker.get_execution_role())\n",
    "execution = pipeline.start()\n",
    "execution.wait() #실행이 완료될 때까지 기다린다.\n",
    "end = time.time()"
   ]
  },
  {
   "cell_type": "code",
   "execution_count": 17,
   "id": "74b72d8b-5ac2-4316-b2f4-9c9b22611e9a",
   "metadata": {
    "tags": []
   },
   "outputs": [
    {
     "ename": "NameError",
     "evalue": "name 'end' is not defined",
     "output_type": "error",
     "traceback": [
      "\u001b[0;31m---------------------------------------------------------------------------\u001b[0m",
      "\u001b[0;31mNameError\u001b[0m                                 Traceback (most recent call last)",
      "Cell \u001b[0;32mIn[17], line 1\u001b[0m\n\u001b[0;32m----> 1\u001b[0m \u001b[38;5;28mprint\u001b[39m(\u001b[38;5;124mf\u001b[39m\u001b[38;5;124m\"\u001b[39m\u001b[38;5;124mvisualization 시간 : \u001b[39m\u001b[38;5;132;01m{\u001b[39;00m\u001b[43mend\u001b[49m\u001b[38;5;250m \u001b[39m\u001b[38;5;241m-\u001b[39m\u001b[38;5;250m \u001b[39mstart\u001b[38;5;132;01m:\u001b[39;00m\u001b[38;5;124m.1f\u001b[39m\u001b[38;5;132;01m}\u001b[39;00m\u001b[38;5;124m sec\u001b[39m\u001b[38;5;124m\"\u001b[39m)\n\u001b[1;32m      2\u001b[0m \u001b[38;5;28mprint\u001b[39m(\u001b[38;5;124mf\u001b[39m\u001b[38;5;124m\"\u001b[39m\u001b[38;5;124mvisualization 시간 : \u001b[39m\u001b[38;5;132;01m{\u001b[39;00m((end\u001b[38;5;250m \u001b[39m\u001b[38;5;241m-\u001b[39m\u001b[38;5;250m \u001b[39mstart)\u001b[38;5;241m/\u001b[39m\u001b[38;5;241m60\u001b[39m)\u001b[38;5;132;01m:\u001b[39;00m\u001b[38;5;124m.1f\u001b[39m\u001b[38;5;132;01m}\u001b[39;00m\u001b[38;5;124m min\u001b[39m\u001b[38;5;124m\"\u001b[39m)\n",
      "\u001b[0;31mNameError\u001b[0m: name 'end' is not defined"
     ]
    }
   ],
   "source": [
    "print(f\"visualization 시간 : {end - start:.1f} sec\")\n",
    "print(f\"visualization 시간 : {((end - start)/60):.1f} min\")"
   ]
  },
  {
   "cell_type": "markdown",
   "id": "abadc1ed-bee6-4a4e-9177-d53c77620d80",
   "metadata": {},
   "source": [
    "[2022년 11월 29일]\n",
    "- prediction 시간 : 423.1 sec\n",
    "- prediction 시간 : 7.1 min"
   ]
  },
  {
   "cell_type": "markdown",
   "id": "915635e9-1c01-4911-b648-90ba2d9cdbd5",
   "metadata": {},
   "source": [
    "### 3.4 Debug Model Validation "
   ]
  },
  {
   "cell_type": "code",
   "execution_count": 18,
   "id": "0185ef7f-af33-479b-a24c-a012f132c445",
   "metadata": {
    "tags": []
   },
   "outputs": [
    {
     "data": {
      "text/plain": [
       "{'PipelineArn': 'arn:aws:sagemaker:ap-northeast-2:108594546720:pipeline/crude-palm-oil-prices-forecast',\n",
       " 'PipelineExecutionArn': 'arn:aws:sagemaker:ap-northeast-2:108594546720:pipeline/crude-palm-oil-prices-forecast/execution/25mjsvejllfl',\n",
       " 'PipelineExecutionDisplayName': 'execution-1679647134739',\n",
       " 'PipelineExecutionStatus': 'Failed',\n",
       " 'PipelineExperimentConfig': {'ExperimentName': 'crude-palm-oil-prices-forecast',\n",
       "  'TrialName': '25mjsvejllfl'},\n",
       " 'FailureReason': 'Step failure: One or multiple steps failed.',\n",
       " 'CreationTime': datetime.datetime(2023, 3, 24, 8, 38, 54, 585000, tzinfo=tzlocal()),\n",
       " 'LastModifiedTime': datetime.datetime(2023, 3, 24, 8, 49, 50, 854000, tzinfo=tzlocal()),\n",
       " 'CreatedBy': {},\n",
       " 'LastModifiedBy': {},\n",
       " 'ResponseMetadata': {'RequestId': 'e131c821-030d-479e-a76f-dd64d4567822',\n",
       "  'HTTPStatusCode': 200,\n",
       "  'HTTPHeaders': {'x-amzn-requestid': 'e131c821-030d-479e-a76f-dd64d4567822',\n",
       "   'content-type': 'application/x-amz-json-1.1',\n",
       "   'content-length': '600',\n",
       "   'date': 'Fri, 24 Mar 2023 08:57:13 GMT'},\n",
       "  'RetryAttempts': 0}}"
      ]
     },
     "execution_count": 18,
     "metadata": {},
     "output_type": "execute_result"
    }
   ],
   "source": [
    "execution.describe()"
   ]
  },
  {
   "cell_type": "code",
   "execution_count": 19,
   "id": "fd8e4b95-c006-4732-8fae-888c3eb8a528",
   "metadata": {
    "tags": []
   },
   "outputs": [
    {
     "data": {
      "text/plain": [
       "[{'StepName': 'crude-palm-oil-prices-forecast-Visualization',\n",
       "  'StartTime': datetime.datetime(2023, 3, 24, 8, 45, 39, 826000, tzinfo=tzlocal()),\n",
       "  'EndTime': datetime.datetime(2023, 3, 24, 8, 49, 50, 559000, tzinfo=tzlocal()),\n",
       "  'StepStatus': 'Failed',\n",
       "  'AttemptCount': 0,\n",
       "  'FailureReason': 'ClientError: AlgorithmError: See job logs for more information',\n",
       "  'Metadata': {'ProcessingJob': {'Arn': 'arn:aws:sagemaker:ap-northeast-2:108594546720:processing-job/pipelines-25mjsvejllfl-crude-palm-oil-price-aqjzzxvj2s'}}},\n",
       " {'StepName': 'crude-palm-oil-prices-forecast-Prediction',\n",
       "  'StartTime': datetime.datetime(2023, 3, 24, 8, 38, 56, 641000, tzinfo=tzlocal()),\n",
       "  'EndTime': datetime.datetime(2023, 3, 24, 8, 45, 39, 343000, tzinfo=tzlocal()),\n",
       "  'StepStatus': 'Succeeded',\n",
       "  'AttemptCount': 0,\n",
       "  'Metadata': {'ProcessingJob': {'Arn': 'arn:aws:sagemaker:ap-northeast-2:108594546720:processing-job/pipelines-25mjsvejllfl-crude-palm-oil-price-poakw3jekp'}}}]"
      ]
     },
     "execution_count": 19,
     "metadata": {},
     "output_type": "execute_result"
    }
   ],
   "source": [
    "execution.list_steps()"
   ]
  },
  {
   "cell_type": "code",
   "execution_count": 20,
   "id": "2daf7835-18fc-43b2-9f80-d9485b3358ee",
   "metadata": {
    "tags": []
   },
   "outputs": [
    {
     "data": {
      "text/plain": [
       "{'ProcessingInputs': [{'InputName': 'code',\n",
       "   'AppManaged': False,\n",
       "   'S3Input': {'S3Uri': 's3://crude-palm-oil-prices-forecast/src/visualization.py',\n",
       "    'LocalPath': '/opt/ml/processing/input/code',\n",
       "    'S3DataType': 'S3Prefix',\n",
       "    'S3InputMode': 'File',\n",
       "    'S3DataDistributionType': 'FullyReplicated',\n",
       "    'S3CompressionType': 'None'}}],\n",
       " 'ProcessingJobName': 'pipelines-25mjsvejllfl-crude-palm-oil-price-AQjzzxvJ2s',\n",
       " 'ProcessingResources': {'ClusterConfig': {'InstanceCount': 1,\n",
       "   'InstanceType': 'ml.m5.xlarge',\n",
       "   'VolumeSizeInGB': 30}},\n",
       " 'StoppingCondition': {'MaxRuntimeInSeconds': 86400},\n",
       " 'AppSpecification': {'ImageUri': '366743142698.dkr.ecr.ap-northeast-2.amazonaws.com/sagemaker-scikit-learn:1.0-1-cpu-py3',\n",
       "  'ContainerEntrypoint': ['python3',\n",
       "   '/opt/ml/processing/input/code/visualization.py'],\n",
       "  'ContainerArguments': ['--source_path',\n",
       "   's3://crude-palm-oil-prices-forecast/trained-model/2023/03/23/1679675822.0/prediction',\n",
       "   '--qs_data_name',\n",
       "   'forecast result',\n",
       "   '--model_package_group_name',\n",
       "   'crude-palm-oil-prices-forecast']},\n",
       " 'RoleArn': 'arn:aws:iam::108594546720:role/service-role/AmazonSageMaker-ExecutionRole-20220901T154875',\n",
       " 'ExperimentConfig': {'ExperimentName': 'crude-palm-oil-prices-forecast',\n",
       "  'TrialName': '25mjsvejllfl'},\n",
       " 'ProcessingJobArn': 'arn:aws:sagemaker:ap-northeast-2:108594546720:processing-job/pipelines-25mjsvejllfl-crude-palm-oil-price-aqjzzxvj2s',\n",
       " 'ProcessingJobStatus': 'Failed',\n",
       " 'FailureReason': 'AlgorithmError: See job logs for more information',\n",
       " 'ProcessingEndTime': datetime.datetime(2023, 3, 24, 8, 49, 49, 330000, tzinfo=tzlocal()),\n",
       " 'ProcessingStartTime': datetime.datetime(2023, 3, 24, 8, 49, 36, 376000, tzinfo=tzlocal()),\n",
       " 'LastModifiedTime': datetime.datetime(2023, 3, 24, 8, 49, 49, 716000, tzinfo=tzlocal()),\n",
       " 'CreationTime': datetime.datetime(2023, 3, 24, 8, 45, 40, 498000, tzinfo=tzlocal()),\n",
       " 'ResponseMetadata': {'RequestId': '5cae3ef4-eed0-42b6-a427-8304b536feb5',\n",
       "  'HTTPStatusCode': 200,\n",
       "  'HTTPHeaders': {'x-amzn-requestid': '5cae3ef4-eed0-42b6-a427-8304b536feb5',\n",
       "   'content-type': 'application/x-amz-json-1.1',\n",
       "   'content-length': '1543',\n",
       "   'date': 'Fri, 24 Mar 2023 08:57:15 GMT'},\n",
       "  'RetryAttempts': 0}}"
      ]
     },
     "execution_count": 20,
     "metadata": {},
     "output_type": "execute_result"
    }
   ],
   "source": [
    "processing_response = execution.list_steps()[0]\n",
    "processing_arn = processing_response['Metadata']['ProcessingJob']['Arn'] # index -1은 가장 처음 실행 step\n",
    "processing_job_name = processing_arn.split('/')[-1] # Processing job name만 추출\n",
    "processing_response = sm_client.describe_processing_job(ProcessingJobName = processing_job_name)\n",
    "processing_response"
   ]
  },
  {
   "cell_type": "code",
   "execution_count": null,
   "id": "28ec4507-9b81-44d5-bab3-0ec7db824a28",
   "metadata": {},
   "outputs": [],
   "source": []
  }
 ],
 "metadata": {
  "kernelspec": {
   "display_name": "conda_python3",
   "language": "python",
   "name": "conda_python3"
  },
  "language_info": {
   "codemirror_mode": {
    "name": "ipython",
    "version": 3
   },
   "file_extension": ".py",
   "mimetype": "text/x-python",
   "name": "python",
   "nbconvert_exporter": "python",
   "pygments_lexer": "ipython3",
   "version": "3.10.8"
  }
 },
 "nbformat": 4,
 "nbformat_minor": 5
}
