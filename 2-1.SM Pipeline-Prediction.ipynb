{
 "cells": [
  {
   "cell_type": "markdown",
   "id": "071a1921-8271-4ebc-a0de-e8709f2e485c",
   "metadata": {},
   "source": [
    "# 질문\n",
    "1. 시작점이 Prediction 스텝인데 1-3 Model Validation Step의 인자값을 불러와서 Predcition Processing한테 줄 수 있는 방법이 없을까요?\n",
    "2. Quicksight Refresh Now는 왜 업데이트에 왜 한계가 있을까요? `WaiterError: Waiter PipelineExecutionComplete failed: Max attempts exceeded`\n",
    "3. Sagemaker Processor가 끝나고 Lambda가 실행되게 하려면 어떻게 해야하나요?\n",
    "4. S3에 데이터가 업데이트가 되는것이 Trigger가 되어서 Sagemaker Processor가 실행되게 하려면 어떻게 해야한아ㅛ?"
   ]
  },
  {
   "cell_type": "code",
   "execution_count": 1,
   "id": "54492411-030c-47c1-be61-8480d911d441",
   "metadata": {
    "tags": []
   },
   "outputs": [],
   "source": [
    "LOCAL_MODE = False"
   ]
  },
  {
   "cell_type": "markdown",
   "id": "84b92b83-c7aa-49b1-a1ed-a976c863c1a9",
   "metadata": {},
   "source": [
    "# 0. 환경설정"
   ]
  },
  {
   "cell_type": "code",
   "execution_count": 2,
   "id": "81535be4-39fc-4dd8-a95c-9d83f6fdd9c2",
   "metadata": {
    "tags": []
   },
   "outputs": [],
   "source": [
    "import argparse\n",
    "import os\n",
    "import requests\n",
    "import tempfile\n",
    "import subprocess, sys\n",
    "\n",
    "import pandas as pd\n",
    "import numpy as np\n",
    "from glob import glob\n",
    "import copy\n",
    "from collections import OrderedDict\n",
    "from pathlib import Path\n",
    "import joblib\n",
    "\n",
    "import logging\n",
    "import logging.handlers\n",
    "\n",
    "import json\n",
    "import base64\n",
    "import boto3\n",
    "import sagemaker\n",
    "from botocore.client import Config\n",
    "from botocore.exceptions import ClientError\n",
    "\n",
    "import time\n",
    "from datetime import datetime as dt\n",
    "import datetime\n",
    "from pytz import timezone\n",
    "from dateutil.relativedelta import *"
   ]
  },
  {
   "cell_type": "code",
   "execution_count": 3,
   "id": "98babf82-8a8e-4780-9ce2-4edabd92969a",
   "metadata": {
    "tags": []
   },
   "outputs": [
    {
     "name": "stdout",
     "output_type": "stream",
     "text": [
      "Start job time: 2023-03-20 09:50:09.574873\n"
     ]
    }
   ],
   "source": [
    "# 한국 시간\n",
    "KST = dt.today() + relativedelta(hours=9)\n",
    "print(f\"Start job time: {KST}\")"
   ]
  },
  {
   "cell_type": "code",
   "execution_count": 4,
   "id": "b79a1a68-de80-4877-a7ec-76b7b5823aec",
   "metadata": {
    "tags": []
   },
   "outputs": [],
   "source": [
    "def get_secret():\n",
    "    secret_name = \"dev/ForecastPalmOilPrice\"\n",
    "    region_name = \"ap-northeast-2\"\n",
    "    \n",
    "    # Create a Secrets Manager client\n",
    "    session = boto3.session.Session()\n",
    "    client = session.client(\n",
    "        service_name='secretsmanager',\n",
    "        region_name=region_name,\n",
    "    )\n",
    "\n",
    "    try:\n",
    "        get_secret_value_response = client.get_secret_value(\n",
    "            SecretId=secret_name\n",
    "        )\n",
    "    except ClientError as e:\n",
    "        if e.response['Error']['Code'] == 'DecryptionFailureException': # Secrets Manager can't decrypt the protected secret text using the provided KMS key.\n",
    "            raise e\n",
    "        elif e.response['Error']['Code'] == 'InternalServiceErrorException': # An error occurred on the server side.\n",
    "            raise e\n",
    "        elif e.response['Error']['Code'] == 'InvalidParameterException': # You provided an invalid value for a parameter.\n",
    "            raise e\n",
    "        elif e.response['Error']['Code'] == 'InvalidRequestException': # You provided a parameter value that is not valid for the current state of the resource.\n",
    "            raise e\n",
    "        elif e.response['Error']['Code'] == 'ResourceNotFoundException': # We can't find the resource that you asked for.\n",
    "            raise e\n",
    "    else:\n",
    "        if 'SecretString' in get_secret_value_response:\n",
    "            secret = get_secret_value_response['SecretString']\n",
    "            return secret\n",
    "        else:\n",
    "            decoded_binary_secret = base64.b64decode(get_secret_value_response['SecretBinary'])\n",
    "            return decoded_binary_secret\n",
    "\n",
    "keychain = json.loads(get_secret())\n",
    "ACCESS_KEY_ID = keychain['AWS_ACCESS_KEY_ID']\n",
    "ACCESS_SECRET_KEY = keychain['AWS_ACCESS_SECRET_KEY']\n",
    "\n",
    "BUCKET_NAME_USECASE = keychain['PROJECT_BUCKET_NAME']\n",
    "DATALAKE_BUCKET_NAME = keychain['DATALAKE_BUCKET_NAME']\n",
    "\n",
    "S3_PATH_REUTER = keychain['S3_PATH_REUTER']\n",
    "S3_PATH_WWO = keychain['S3_PATH_WWO']\n",
    "S3_PATH_STAGE = keychain['S3_PATH_STAGE']\n",
    "S3_PATH_GOLDEN = keychain['S3_PATH_GOLDEN']\n",
    "S3_PATH_TRAIN = keychain['S3_PATH_TRAIN']\n",
    "S3_PATH_FORECAST = keychain['S3_PATH_PREDICTION']\n",
    "\n",
    "region = 'ap-northeast-2'\n",
    "boto3_session = boto3.Session(aws_access_key_id = ACCESS_KEY_ID,\n",
    "                              aws_secret_access_key = ACCESS_SECRET_KEY,\n",
    "                              region_name = region)\n",
    "sm_session = sagemaker.Session(boto_session = boto3_session)\n",
    "\n",
    "s3_resource = boto3_session.resource('s3')\n",
    "palmoil_bucket = s3_resource.Bucket(BUCKET_NAME_USECASE)\n",
    "datalake_bucket = s3_resource.Bucket(DATALAKE_BUCKET_NAME)\n",
    "\n",
    "sm_client = boto3_session.client('sagemaker')\n",
    "qs_client = boto3_session.client('quicksight')\n",
    "s3_client = boto3_session.client('s3')\n",
    "sts_client = boto3_session.client(\"sts\")"
   ]
  },
  {
   "cell_type": "code",
   "execution_count": 12,
   "id": "03bd9aa8-90ce-4ce1-a86f-bd780bd0676b",
   "metadata": {
    "tags": []
   },
   "outputs": [
    {
     "name": "stdout",
     "output_type": "stream",
     "text": [
      "                           PRE scaler-files/\n",
      "                           PRE test/\n",
      "                           PRE train/\n"
     ]
    }
   ],
   "source": [
    "!aws s3 ls s3://crude-palm-oil-prices-forecast/golden-data/2023/03/19/1679292475.0/"
   ]
  },
  {
   "cell_type": "code",
   "execution_count": 29,
   "id": "5e52a5aa-f2bc-41ca-b77c-88e324a0f56e",
   "metadata": {
    "tags": []
   },
   "outputs": [
    {
     "data": {
      "text/plain": [
       "{'ModelPackageGroupName': 'crude-palm-oil-prices-forecast',\n",
       " 'ModelPackageVersion': 37,\n",
       " 'ModelPackageArn': 'arn:aws:sagemaker:ap-northeast-2:108594546720:model-package/crude-palm-oil-prices-forecast/37',\n",
       " 'ModelPackageDescription': 'Autogluon',\n",
       " 'CreationTime': datetime.datetime(2023, 3, 19, 21, 45, 21, 345000, tzinfo=tzlocal()),\n",
       " 'ModelPackageStatus': 'Completed',\n",
       " 'ModelApprovalStatus': 'PendingManualApproval'}"
      ]
     },
     "execution_count": 29,
     "metadata": {},
     "output_type": "execute_result"
    }
   ],
   "source": [
    "model_list[0]"
   ]
  },
  {
   "cell_type": "code",
   "execution_count": 36,
   "id": "fdfba7ff-090b-4962-9d5e-598db5a41587",
   "metadata": {
    "tags": []
   },
   "outputs": [
    {
     "name": "stdout",
     "output_type": "stream",
     "text": [
      "Naive\n",
      "s3://crude-palm-oil-prices-forecast/golden-data/2023/03/19/1679292475.0/train\n",
      "s3://crude-palm-oil-prices-forecast/golden-data/2023/03/19/1679292475.0/test\n"
     ]
    }
   ],
   "source": [
    "model_list = sm_client.list_model_packages(ModelPackageGroupName = 'crude-palm-oil-prices-forecast')['ModelPackageSummaryList']\n",
    "model_spec = sm_client.describe_model_package(ModelPackageName=model_list[0]['ModelPackageArn'])\n",
    "print(model_spec['CustomerMetadataProperties']['champion_model'])\n",
    "print(model_spec['CustomerMetadataProperties']['train_data'])\n",
    "print(model_spec['CustomerMetadataProperties']['test_data'])"
   ]
  },
  {
   "cell_type": "code",
   "execution_count": 38,
   "id": "ad0e30c2-d517-499e-88b1-2d1fdf68d60b",
   "metadata": {
    "tags": []
   },
   "outputs": [
    {
     "data": {
      "text/html": [
       "<div>\n",
       "<style scoped>\n",
       "    .dataframe tbody tr th:only-of-type {\n",
       "        vertical-align: middle;\n",
       "    }\n",
       "\n",
       "    .dataframe tbody tr th {\n",
       "        vertical-align: top;\n",
       "    }\n",
       "\n",
       "    .dataframe thead th {\n",
       "        text-align: right;\n",
       "    }\n",
       "</style>\n",
       "<table border=\"1\" class=\"dataframe\">\n",
       "  <thead>\n",
       "    <tr style=\"text-align: right;\">\n",
       "      <th></th>\n",
       "      <th>ds</th>\n",
       "      <th>high</th>\n",
       "      <th>low</th>\n",
       "      <th>open</th>\n",
       "      <th>y</th>\n",
       "      <th>ric</th>\n",
       "    </tr>\n",
       "  </thead>\n",
       "  <tbody>\n",
       "    <tr>\n",
       "      <th>0</th>\n",
       "      <td>2018-01-02</td>\n",
       "      <td>0.124679</td>\n",
       "      <td>0.130934</td>\n",
       "      <td>0.128052</td>\n",
       "      <td>0.127877</td>\n",
       "      <td>BOc1</td>\n",
       "    </tr>\n",
       "    <tr>\n",
       "      <th>1</th>\n",
       "      <td>2018-01-03</td>\n",
       "      <td>0.129811</td>\n",
       "      <td>0.135588</td>\n",
       "      <td>0.128205</td>\n",
       "      <td>0.133669</td>\n",
       "      <td>BOc1</td>\n",
       "    </tr>\n",
       "    <tr>\n",
       "      <th>2</th>\n",
       "      <td>2018-01-04</td>\n",
       "      <td>0.129811</td>\n",
       "      <td>0.138691</td>\n",
       "      <td>0.133089</td>\n",
       "      <td>0.133364</td>\n",
       "      <td>BOc1</td>\n",
       "    </tr>\n",
       "    <tr>\n",
       "      <th>3</th>\n",
       "      <td>2018-01-05</td>\n",
       "      <td>0.131472</td>\n",
       "      <td>0.139932</td>\n",
       "      <td>0.133547</td>\n",
       "      <td>0.131992</td>\n",
       "      <td>BOc1</td>\n",
       "    </tr>\n",
       "    <tr>\n",
       "      <th>4</th>\n",
       "      <td>2018-01-08</td>\n",
       "      <td>0.128906</td>\n",
       "      <td>0.134037</td>\n",
       "      <td>0.130189</td>\n",
       "      <td>0.128639</td>\n",
       "      <td>BOc1</td>\n",
       "    </tr>\n",
       "    <tr>\n",
       "      <th>...</th>\n",
       "      <td>...</td>\n",
       "      <td>...</td>\n",
       "      <td>...</td>\n",
       "      <td>...</td>\n",
       "      <td>...</td>\n",
       "      <td>...</td>\n",
       "    </tr>\n",
       "    <tr>\n",
       "      <th>120951</th>\n",
       "      <td>2023-03-13</td>\n",
       "      <td>0.313766</td>\n",
       "      <td>0.313750</td>\n",
       "      <td>0.308679</td>\n",
       "      <td>0.308784</td>\n",
       "      <td>Wc3</td>\n",
       "    </tr>\n",
       "    <tr>\n",
       "      <th>120952</th>\n",
       "      <td>2023-03-14</td>\n",
       "      <td>0.318236</td>\n",
       "      <td>0.325937</td>\n",
       "      <td>0.309872</td>\n",
       "      <td>0.321798</td>\n",
       "      <td>Wc3</td>\n",
       "    </tr>\n",
       "    <tr>\n",
       "      <th>120953</th>\n",
       "      <td>2023-03-15</td>\n",
       "      <td>0.337306</td>\n",
       "      <td>0.358125</td>\n",
       "      <td>0.326275</td>\n",
       "      <td>0.339840</td>\n",
       "      <td>Wc3</td>\n",
       "    </tr>\n",
       "    <tr>\n",
       "      <th>120954</th>\n",
       "      <td>2023-03-16</td>\n",
       "      <td>0.340286</td>\n",
       "      <td>0.360312</td>\n",
       "      <td>0.332389</td>\n",
       "      <td>0.343094</td>\n",
       "      <td>Wc3</td>\n",
       "    </tr>\n",
       "    <tr>\n",
       "      <th>120955</th>\n",
       "      <td>2023-03-17</td>\n",
       "      <td>0.343266</td>\n",
       "      <td>0.362500</td>\n",
       "      <td>0.338503</td>\n",
       "      <td>0.346347</td>\n",
       "      <td>Wc3</td>\n",
       "    </tr>\n",
       "  </tbody>\n",
       "</table>\n",
       "<p>120956 rows × 6 columns</p>\n",
       "</div>"
      ],
      "text/plain": [
       "                ds      high       low      open         y   ric\n",
       "0       2018-01-02  0.124679  0.130934  0.128052  0.127877  BOc1\n",
       "1       2018-01-03  0.129811  0.135588  0.128205  0.133669  BOc1\n",
       "2       2018-01-04  0.129811  0.138691  0.133089  0.133364  BOc1\n",
       "3       2018-01-05  0.131472  0.139932  0.133547  0.131992  BOc1\n",
       "4       2018-01-08  0.128906  0.134037  0.130189  0.128639  BOc1\n",
       "...            ...       ...       ...       ...       ...   ...\n",
       "120951  2023-03-13  0.313766  0.313750  0.308679  0.308784   Wc3\n",
       "120952  2023-03-14  0.318236  0.325937  0.309872  0.321798   Wc3\n",
       "120953  2023-03-15  0.337306  0.358125  0.326275  0.339840   Wc3\n",
       "120954  2023-03-16  0.340286  0.360312  0.332389  0.343094   Wc3\n",
       "120955  2023-03-17  0.343266  0.362500  0.338503  0.346347   Wc3\n",
       "\n",
       "[120956 rows x 6 columns]"
      ]
     },
     "execution_count": 38,
     "metadata": {},
     "output_type": "execute_result"
    }
   ],
   "source": [
    "train_df = pd.read_csv(f\"{model_spec['CustomerMetadataProperties']['train_data']}/train_fold1.csv\")\n",
    "test_df = pd.read_csv(f\"{model_spec['CustomerMetadataProperties']['test_data']}/test_fold1.csv\")\n",
    "sum_df = pd.concat([train_df, test_df]).reset_index(drop = True)\n",
    "sum_df"
   ]
  },
  {
   "cell_type": "code",
   "execution_count": 62,
   "id": "a8f4a081-5216-488d-89e4-994dab68146d",
   "metadata": {
    "tags": []
   },
   "outputs": [
    {
     "name": "stdout",
     "output_type": "stream",
     "text": [
      "Overwriting src/v1.2/prediction-autogluon.py\n"
     ]
    }
   ],
   "source": [
    "%%writefile src/v1.2/prediction-autogluon.py\n",
    "\n",
    "import argparse\n",
    "import os\n",
    "import requests\n",
    "import tempfile\n",
    "import subprocess, sys\n",
    "import json\n",
    "\n",
    "import glob\n",
    "import pandas as pd\n",
    "import joblib\n",
    "import pickle\n",
    "import tarfile\n",
    "from io import StringIO, BytesIO\n",
    "\n",
    "import logging\n",
    "import logging.handlers\n",
    "\n",
    "import time\n",
    "from datetime import datetime as dt\n",
    "\n",
    "import boto3\n",
    "\n",
    "\n",
    "###############################\n",
    "######### util 함수 설정 ##########\n",
    "###############################\n",
    "def _get_logger():\n",
    "    loglevel = logging.DEBUG\n",
    "    l = logging.getLogger(__name__)\n",
    "    if not l.hasHandlers():\n",
    "        l.setLevel(loglevel)\n",
    "        logging.getLogger().addHandler(logging.StreamHandler(sys.stdout))        \n",
    "        l.handler_set = True\n",
    "    return l  \n",
    "logger = _get_logger()\n",
    "\n",
    "def get_bucket_key_from_uri(uri):\n",
    "    uri_aws_path = uri.split('//')[1]\n",
    "    uri_bucket = uri_aws_path.rsplit('/')[0]\n",
    "    uri_file_path = '/'.join(uri_aws_path.rsplit('/')[1:])\n",
    "    return uri_bucket, uri_file_path\n",
    "\n",
    "def get_secret():\n",
    "    secret_name = \"dev/ForecastPalmOilPrice\"\n",
    "    region_name = \"ap-northeast-2\"\n",
    "    \n",
    "    # Create a Secrets Manager client\n",
    "    session = boto3.session.Session()\n",
    "    client = session.client(\n",
    "        service_name='secretsmanager',\n",
    "        region_name=region_name,\n",
    "    )\n",
    "\n",
    "    try:\n",
    "        get_secret_value_response = client.get_secret_value(\n",
    "            SecretId=secret_name\n",
    "        )\n",
    "    except ClientError as e:\n",
    "        if e.response['Error']['Code'] == 'DecryptionFailureException': # Secrets Manager can't decrypt the protected secret text using the provided KMS key.\n",
    "            raise e\n",
    "        elif e.response['Error']['Code'] == 'InternalServiceErrorException': # An error occurred on the server side.\n",
    "            raise e\n",
    "        elif e.response['Error']['Code'] == 'InvalidParameterException': # You provided an invalid value for a parameter.\n",
    "            raise e\n",
    "        elif e.response['Error']['Code'] == 'InvalidRequestException': # You provided a parameter value that is not valid for the current state of the resource.\n",
    "            raise e\n",
    "        elif e.response['Error']['Code'] == 'ResourceNotFoundException': # We can't find the resource that you asked for.\n",
    "            raise e\n",
    "    else:\n",
    "        if 'SecretString' in get_secret_value_response:\n",
    "            secret = get_secret_value_response['SecretString']\n",
    "            return secret\n",
    "        else:\n",
    "            decoded_binary_secret = base64.b64decode(get_secret_value_response['SecretBinary'])\n",
    "            return decoded_binary_secret\n",
    "        \n",
    "def parse_args():\n",
    "    parser = argparse.ArgumentParser()\n",
    "    parser.add_argument('--output_dir', type = str, default = \"/opt/ml/processing/output\", help='예측 결과값이 저장되는 곳, Inference 결과가 저장된다.')\n",
    "    parser.add_argument('--ml_algorithm_name', type=str, default = 'Autogluon')  \n",
    "    parser.add_argument('--model_package_group_name', type=str, default = BUCKET_NAME_USECASE)  \n",
    "    parser.add_argument('--qs_data_name', type=str, default = 'forecast result')    \n",
    "\n",
    "    return parser.parse_args()\n",
    "        \n",
    "if __name__=='__main__':\n",
    "    ########################################### \n",
    "    subprocess.check_call([sys.executable, '-m', 'pip', 'install', 'autogluon==0.6.1'])\n",
    "    from autogluon.timeseries import TimeSeriesDataFrame, TimeSeriesPredictor\n",
    "    \n",
    "    ############################################\n",
    "    ###### Secret Manager에서 키값 가져오기  #######\n",
    "    ########################################### \n",
    "    logger.info(f\"\\n### Loading Key value from Secret Manager\")\n",
    "    keychain = json.loads(get_secret())\n",
    "    ACCESS_KEY_ID = keychain['AWS_ACCESS_KEY_ID']\n",
    "    ACCESS_SECRET_KEY = keychain['AWS_ACCESS_SECRET_KEY']\n",
    "    BUCKET_NAME_USECASE = keychain['PROJECT_BUCKET_NAME']\n",
    "    DATALAKE_BUCKET_NAME = keychain['DATALAKE_BUCKET_NAME']\n",
    "    S3_PATH_REUTER = keychain['S3_PATH_REUTER']\n",
    "    S3_PATH_WWO = keychain['S3_PATH_WWO']\n",
    "    S3_PATH_STAGE = keychain['S3_PATH_STAGE']\n",
    "    S3_PATH_GOLDEN = keychain['S3_PATH_GOLDEN']\n",
    "    S3_PATH_TRAIN = keychain['S3_PATH_TRAIN']\n",
    "    S3_PATH_FORECAST = keychain['S3_PATH_PREDICTION']\n",
    "    \n",
    "    boto3_session = boto3.Session(aws_access_key_id = ACCESS_KEY_ID,\n",
    "                                  aws_secret_access_key = ACCESS_SECRET_KEY,\n",
    "                                  region_name = 'ap-northeast-2')\n",
    "    \n",
    "    s3_client = boto3_session.client('s3')\n",
    "    sm_client = boto3_session.client('sagemaker')\n",
    "    qs_client = boto3_session.client('quicksight')\n",
    "\n",
    "    sts_client = boto3_session.client(\"sts\")\n",
    "    user_account_id = sts_client.get_caller_identity()[\"Account\"]\n",
    "    ######################################\n",
    "    ## 커맨드 인자, Hyperparameters 처리 ##\n",
    "    ######################################  \n",
    "    logger.info(\"######### Argument Info ####################################\")\n",
    "    logger.info(\"### start training code\")    \n",
    "    logger.info(\"### Argument Info ###\")\n",
    "    args = parse_args()             \n",
    "    logger.info(f\"args.output_dir: {args.output_dir}\")\n",
    "    logger.info(f\"args.ml_algorithm_name: {args.ml_algorithm_name}\")\n",
    "    logger.info(f\"args.model_package_group_name: {args.model_package_group_name}\")\n",
    "    logger.info(f\"args.qs_data_name: {args.qs_data_name}\")\n",
    "# prediction_output_path = f\"s3://crude-palm-oil-prices-forecast/predicted-data/2023/03/19/1679292475.0/result\"\n",
    "\n",
    "    output_dir = args.output_dir\n",
    "    ml_algorithm_name = args.ml_algorithm_name\n",
    "    model_package_group_name = args.model_package_group_name\n",
    "    qs_data_name = args.qs_data_name\n",
    "\n",
    "    model_dir = f'{output_dir}/model'\n",
    "    os.makedirs(model_dir, exist_ok=True)\n",
    "    \n",
    "    result_dir = f'{output_dir}/result'\n",
    "    os.makedirs(result_dir, exist_ok=True)\n",
    "\n",
    "    manifest_base_path = f'{output_dir}/manifest'\n",
    "    os.makedirs(manifest_base_path, exist_ok=True)\n",
    "    ##########################################################\n",
    "    ###### 적합한 모델의 URI 찾고, 탑 성능 모델 이름 가져오기 ##########\n",
    "    #########################################################\n",
    "    logger.info(\"\\n######### Finding suitable model uri ####################################\")\n",
    "    model_registry_list = sm_client.list_model_packages(ModelPackageGroupName = model_package_group_name)['ModelPackageSummaryList']\n",
    "    for model in model_registry_list:\n",
    "        if (model['ModelPackageGroupName'] == model_package_group_name and\n",
    "            model['ModelApprovalStatus'] == 'Approved' and\n",
    "            model['ModelPackageDescription'] == ml_algorithm_name):\n",
    "            mr_arn = model['ModelPackageArn']\n",
    "            break\n",
    "    model_spec = sm_client.describe_model_package(ModelPackageName=mr_arn)\n",
    "    train_data_dir = model_spec['CustomerMetadataProperties']['train_data']\n",
    "    test_data_dir = model_spec['CustomerMetadataProperties']['test_data']\n",
    "    \n",
    "    s3_model_uri = model_spec['InferenceSpecification']['Containers'][0]['ModelDataUrl']\n",
    "    champion_model = model_spec['CustomerMetadataProperties']['champion_model']\n",
    "\n",
    "    logger.info(f\"Found suitable model uri: {s3_model_uri}\")\n",
    "    logger.info(f\"And top model name: {champion_model}\")\n",
    "    \n",
    "    logger.info(\"\\n#########Download suitable model file  ####################################\")\n",
    "    model_bucket, model_key = get_bucket_key_from_uri(s3_model_uri)  \n",
    "    logger.info(f\"\\nmodel_bucket: {model_bucket}, model_key: {model_key}  ####################################\")\n",
    "    model_obj = s3_client.get_object(Bucket = model_bucket, Key = model_key)\n",
    "    \n",
    "    ##########################################################\n",
    "    ###### 모델 압축 풀고 TimeseriesDataFrame으로 변환 ##########\n",
    "    #########################################################\n",
    "    logger.info(\"\\n######### Model zip file extraction ####################################\")\n",
    "    with tarfile.open(fileobj=model_obj['Body'], mode='r|gz') as file:\n",
    "        file.extractall(output_dir)\n",
    "    logger.info(f\"list in {model_dir}: {os.listdir(model_dir)}\")\n",
    "    logger.info(\"\\n######### Convert df_test dataframe into TimeSeriesDataFrame  ###########\")        \n",
    "    df_train = pd.read_csv(os.path.join(train_data_dir, 'train_fold1.csv'))\n",
    "    df_test = pd.read_csv(os.path.join(test_data_dir, 'test_fold1.csv'))\n",
    "    sum_df = pd.concat([df_train, df_test]).reset_index(drop = True)\n",
    "    sum_df.loc[:, \"ds\"] = pd.to_datetime(sum_df.loc[:, \"ds\"])\n",
    "    \n",
    "    tdf_train = TimeSeriesDataFrame.from_data_frame(\n",
    "        sum_df,\n",
    "        id_column=\"ric\",\n",
    "        timestamp_column=\"ds\",\n",
    "    )\n",
    "    logger.info(f\"sum_df sample: head(2) \\n {sum_df.head(2)}\")\n",
    "    logger.info(f\"sum_df sample: tail(2) \\n {sum_df.tail(2)}\")\n",
    "\n",
    "    ################################\n",
    "    ###### Prediction 시작 ##########\n",
    "    ###############################\n",
    "    logger.info(\"\\n######### Start prediction  ###########\")        \n",
    "    loaded_trainer = pickle.load(open(f\"{model_dir}/models/trainer.pkl\", 'rb'))\n",
    "    logger.info(f\"loaded_trainer: {loaded_trainer}\")\n",
    "    prediction_ag_model = loaded_trainer.predict(data = tdf_train,\n",
    "                                                 model = champion_model)\n",
    "    logger.info(f\"prediction_ag_model sample: head(2) \\n {prediction_ag_model.head(2)}\")\n",
    "    prediction_result = prediction_ag_model.loc['FCPOc3']\n",
    "    logger.info(f\"prediction_ag_model sample: head(2) \\n {prediction_result.head(2)}\")\n",
    "    prediction_result.to_csv(f'{result_dir}/prediction_result.csv')"
   ]
  },
  {
   "cell_type": "code",
   "execution_count": 59,
   "id": "5e06b8b8-f376-470c-aca1-960fc5fbe30a",
   "metadata": {
    "tags": []
   },
   "outputs": [
    {
     "name": "stdout",
     "output_type": "stream",
     "text": [
      "upload: src/v1.2/prediction-autogluon.py to s3://crude-palm-oil-prices-forecast/src/prediction-autogluon.py\n"
     ]
    }
   ],
   "source": [
    "!aws s3 cp 'src/v1.2/prediction-autogluon.py' 's3://crude-palm-oil-prices-forecast/src/prediction-autogluon.py' --exclude \".ipynb_checkpoints*\""
   ]
  },
  {
   "cell_type": "code",
   "execution_count": 41,
   "id": "02432ec8-bcbb-4bb9-8e47-0544ccef2e3c",
   "metadata": {
    "tags": []
   },
   "outputs": [
    {
     "name": "stdout",
     "output_type": "stream",
     "text": [
      "Stored 'prediction_code' (str)\n"
     ]
    }
   ],
   "source": [
    "prediction_code = 's3://crude-palm-oil-prices-forecast/src/prediction-autogluon.py'\n",
    "%store prediction_code"
   ]
  },
  {
   "cell_type": "code",
   "execution_count": 42,
   "id": "12c8f9d3-d976-4f6d-a685-9ade98b54ba3",
   "metadata": {
    "tags": []
   },
   "outputs": [
    {
     "name": "stdout",
     "output_type": "stream",
     "text": [
      "Stored variables and their in-db values:\n",
      "prediction_code             -> 's3://crude-palm-oil-prices-forecast/src/predictio\n"
     ]
    }
   ],
   "source": [
    "%store"
   ]
  },
  {
   "cell_type": "code",
   "execution_count": 10,
   "id": "224de32f-be04-4de9-96c0-28dcf74849d5",
   "metadata": {
    "tags": []
   },
   "outputs": [],
   "source": [
    "%store -r"
   ]
  },
  {
   "cell_type": "markdown",
   "id": "48076217-25da-4928-95d6-7b901c548edc",
   "metadata": {},
   "source": [
    "# 1. 모델 빌딩 파이프라인 의 스텝(Step) 생성\n",
    "## 1) 모델 빌딩 파이프라인 변수 생성\n",
    "파이프라인에서 사용할 파이프라인 파라미터를 정의합니다. 파이프라인을 스케줄하고 실행할 때 파라미터를 이용하여 실행조건을 커스마이징할 수 있습니다. 파라미터를 이용하면 파이프라인 실행시마다 매번 파이프라인 정의를 수정하지 않아도 됩니다.\n",
    "\n",
    "지원되는 파라미터 타입은 다음과 같습니다:\n",
    "\n",
    "- ParameterString - 파이썬 타입에서 str\n",
    "- ParameterInteger - 파이썬 타입에서 int\n",
    "- ParameterFloat - 파이썬 타입에서 float\n",
    "이들 파라미터를 정의할 때 디폴트 값을 지정할 수 있으며 파이프라인 실행시 재지정할 수도 있습니다. 지정하는 디폴트 값은 파라미터 타입과 일치하여야 합니다.\n",
    "\n",
    "본 노트북에서 사용하는 파라미터는 다음과 같습니다.\n",
    "\n",
    "- processing_instance_type - 프로세싱 작업에서 사용할 ml.* 인스턴스 타입\n",
    "- processing_instance_count - 프로세싱 작업에서 사용할 인스턴스 개수\n",
    "- training_instance_type - 학습작업에서 사용할 ml.* 인스턴스 타입\n",
    "- model_approval_status - 학습된 모델을 CI/CD를 목적으로 등록할 때의 승인 상태 (디폴트는 \"PendingManualApproval\")\n",
    "- input_data - 입력데이터에 대한 S3 버킷 URI\n",
    "파이프라인의 각 스텝에서 사용할 변수를 파라미터 변수로서 정의 합니다."
   ]
  },
  {
   "cell_type": "markdown",
   "id": "21da4641-2487-4f23-a241-e12ef511340a",
   "metadata": {
    "tags": []
   },
   "source": [
    "## 2) 로컬에서 테스트 - 실패"
   ]
  },
  {
   "cell_type": "code",
   "execution_count": 12,
   "id": "3bdffcba-6732-4702-9d10-1452a1010c50",
   "metadata": {
    "tags": []
   },
   "outputs": [],
   "source": [
    "if LOCAL_MODE:\n",
    "    # 도커 컨테이너 입력 폴더: train, test data가 들어가는 부분\n",
    "    base_input_dir = 'opt/ml/processing/input'\n",
    "    os.makedirs(base_input_dir, exist_ok=True)\n",
    "\n",
    "    # 도커 컨테이너 기본 출력 폴더: 예측결과가 출력되는곳\n",
    "    base_output_dir = 'opt/ml/processing/output'\n",
    "    os.makedirs(base_output_dir, exist_ok=True)\n",
    "\n",
    "    model_package_group_name = bucket"
   ]
  },
  {
   "cell_type": "code",
   "execution_count": 24,
   "id": "69bf24da-20c2-41ab-af60-0b66180bface",
   "metadata": {
    "tags": []
   },
   "outputs": [
    {
     "data": {
      "text/plain": [
       "'crude-palm-oil-prices-forecast'"
      ]
     },
     "execution_count": 24,
     "metadata": {},
     "output_type": "execute_result"
    }
   ],
   "source": []
  },
  {
   "cell_type": "code",
   "execution_count": 16,
   "id": "68977a05-02ee-4590-8a96-c306f42ab1ce",
   "metadata": {},
   "outputs": [
    {
     "name": "stdout",
     "output_type": "stream",
     "text": [
      "download: s3://palm-oil-price-forecast/golden-data/2022/11/26/train.csv to opt/ml/processing/input/train.csv\n"
     ]
    }
   ],
   "source": [
    "# !aws s3 cp 's3://crude-palm-oil-prices-forecast/golden-data/2022/11/26/train.csv' \\\n",
    "#             'opt/ml/processing/input/train.csv'"
   ]
  },
  {
   "cell_type": "code",
   "execution_count": 17,
   "id": "9ce37600-773c-4edc-9149-d3be33c16ed2",
   "metadata": {},
   "outputs": [
    {
     "name": "stdout",
     "output_type": "stream",
     "text": [
      "download: s3://palm-oil-price-forecast/golden-data/2022/11/26/test.csv to opt/ml/processing/input/test.csv\n"
     ]
    }
   ],
   "source": [
    "# !aws s3 cp 's3://palm-oil-price-forecast/golden-data/2022/11/26/test.csv' \\\n",
    "#             'opt/ml/processing/input/test.csv'"
   ]
  },
  {
   "cell_type": "code",
   "execution_count": null,
   "id": "8aa1ab66-7789-4470-901b-102e57b1dd61",
   "metadata": {},
   "outputs": [
    {
     "name": "stdout",
     "output_type": "stream",
     "text": [
      "Traceback (most recent call last):\n",
      "  File \"src/prediction.py\", line 23, in <module>\n",
      "    from autogluon.timeseries import TimeSeriesDataFrame, TimeSeriesPredictor\n",
      "ModuleNotFoundError: No module named 'autogluon'\n"
     ]
    }
   ],
   "source": [
    "# !python src/prediction.py --base_input_path {base_input_dir} \\\n",
    "#                           --output_dir {base_output_dir} \\\n",
    "#                           --model_package_group_name {bucket} \\"
   ]
  },
  {
   "cell_type": "markdown",
   "id": "fba6ac9a-4cc8-40c9-a806-640a68491491",
   "metadata": {},
   "source": [
    "# 2. 파이프라인 정의 및 실행"
   ]
  },
  {
   "cell_type": "code",
   "execution_count": 44,
   "id": "df8b63ae-e7fb-47ca-a77e-1c8166c2d098",
   "metadata": {
    "tags": []
   },
   "outputs": [],
   "source": [
    "from sagemaker.workflow.parameters import (ParameterInteger,\n",
    "                                           ParameterString,\n",
    "                                          )\n",
    "\n",
    "prediction_instance_type = ParameterString(\n",
    "    name = \"PredctionInstanceType\",\n",
    "    default_value = \"ml.m5.xlarge\"\n",
    ")\n",
    "prediction_instance_count = ParameterInteger(\n",
    "    name = \"PredctionInstanceCount\",\n",
    "    default_value = 1\n",
    ")"
   ]
  },
  {
   "cell_type": "code",
   "execution_count": null,
   "id": "285f0ea0-ab6d-455c-a728-b1bd656fe92b",
   "metadata": {},
   "outputs": [],
   "source": []
  },
  {
   "cell_type": "code",
   "execution_count": 45,
   "id": "86a6f103-5983-4375-bb88-3bc8b6dd8436",
   "metadata": {
    "tags": []
   },
   "outputs": [
    {
     "data": {
      "text/plain": [
       "'s3://crude-palm-oil-prices-forecast/predicted-data/2023/03/19/1679292475.0/result'"
      ]
     },
     "execution_count": 45,
     "metadata": {},
     "output_type": "execute_result"
    }
   ],
   "source": [
    "prediction_output_path = f\"s3://crude-palm-oil-prices-forecast/predicted-data/2023/03/19/1679292475.0/result\"\n",
    "prediction_output_path\n",
    "manifest_output_path = f\"s3://crude-palm-oil-prices-forecast/predicted-data/2023/03/19/1679292475.0/manifest\""
   ]
  },
  {
   "cell_type": "markdown",
   "id": "19daa987-bf59-43fb-bdbb-d565281b69e1",
   "metadata": {
    "tags": []
   },
   "source": [
    "## 1) 스텝정의"
   ]
  },
  {
   "cell_type": "markdown",
   "id": "aa05730c-afab-4b71-80b0-0eef9f61ec4a",
   "metadata": {},
   "source": [
    "### (2) ScriptProcessor 진행"
   ]
  },
  {
   "cell_type": "code",
   "execution_count": 64,
   "id": "e77c5fb0-9f70-4432-bbed-316ff2063d68",
   "metadata": {
    "tags": []
   },
   "outputs": [],
   "source": [
    "from sagemaker.image_uris import retrieve\n",
    "from sagemaker.processing import ScriptProcessor, ProcessingInput, ProcessingOutput\n",
    "\n",
    "role = sagemaker.get_execution_role()\n",
    "image_uri = retrieve(framework='mxnet',\n",
    "                     region='ap-northeast-2',\n",
    "                     version='1.9.0',\n",
    "                     py_version='py38',\n",
    "                     image_scope='training',\n",
    "                     instance_type=\"ml.m5.xlarge\")\n",
    "\n",
    "script_processor_prediction = ScriptProcessor(\n",
    "    command=['python3'],\n",
    "    image_uri=image_uri,\n",
    "    instance_type = prediction_instance_type,\n",
    "    instance_count = prediction_instance_count,\n",
    "    base_job_name = f\"{BUCKET_NAME_USECASE}(Prediction)\",\n",
    "    role = role,\n",
    ")"
   ]
  },
  {
   "cell_type": "code",
   "execution_count": null,
   "id": "7dbd630e-18ea-4a72-be04-85a6c2ec70ec",
   "metadata": {
    "tags": []
   },
   "outputs": [],
   "source": []
  },
  {
   "cell_type": "code",
   "execution_count": 66,
   "id": "76d55b47-0219-4c29-88ad-3379b066424a",
   "metadata": {
    "tags": []
   },
   "outputs": [],
   "source": [
    "from sagemaker.processing import ProcessingInput, ProcessingOutput\n",
    "from sagemaker.workflow.steps import ProcessingStep\n",
    "\n",
    "step_prediction = ProcessingStep(\n",
    "    name = f\"{BUCKET_NAME_USECASE}-Prediction\",\n",
    "    processor = script_processor_prediction,\n",
    "    inputs=[],\n",
    "    outputs=[\n",
    "        ProcessingOutput(output_name = \"prediction_data\",\n",
    "                         source = \"/opt/ml/processing/output/result\",\n",
    "                         destination = prediction_output_path)\n",
    "        ],\n",
    "    job_arguments = [\"--model_package_group_name\", BUCKET_NAME_USECASE,\n",
    "                     \"--ml_algorithm_name\", 'Autogluon'],\n",
    "    code = prediction_code\n",
    ")\n"
   ]
  },
  {
   "cell_type": "markdown",
   "id": "1bbaf87a-1928-4c66-a610-9b9253418ab3",
   "metadata": {
    "tags": []
   },
   "source": [
    "### 1) 스텝 정의"
   ]
  },
  {
   "cell_type": "markdown",
   "id": "d93bab7b-2164-4783-b3e0-ce403ba46742",
   "metadata": {},
   "source": [
    "### 1) 파이프라인 실행"
   ]
  },
  {
   "cell_type": "code",
   "execution_count": 67,
   "id": "81969598-17df-42d6-a5dd-d1eb846295e0",
   "metadata": {
    "tags": []
   },
   "outputs": [],
   "source": [
    "from sagemaker.workflow.pipeline import Pipeline\n",
    "from sagemaker.workflow.steps import ProcessingStep\n",
    "\n",
    "pipeline = Pipeline(name = BUCKET_NAME_USECASE,\n",
    "                    parameters = [\n",
    "                        prediction_instance_type,        \n",
    "                        prediction_instance_count,\n",
    "                    ],\n",
    "                    steps=[step_prediction]\n",
    ")"
   ]
  },
  {
   "cell_type": "code",
   "execution_count": 68,
   "id": "76430e25-1a89-407b-ad21-c8ec5bbac6cd",
   "metadata": {
    "tags": []
   },
   "outputs": [
    {
     "data": {
      "text/plain": [
       "{'Version': '2020-12-01',\n",
       " 'Metadata': {},\n",
       " 'Parameters': [{'Name': 'PredctionInstanceType',\n",
       "   'Type': 'String',\n",
       "   'DefaultValue': 'ml.m5.xlarge'},\n",
       "  {'Name': 'PredctionInstanceCount', 'Type': 'Integer', 'DefaultValue': 1}],\n",
       " 'PipelineExperimentConfig': {'ExperimentName': {'Get': 'Execution.PipelineName'},\n",
       "  'TrialName': {'Get': 'Execution.PipelineExecutionId'}},\n",
       " 'Steps': [{'Name': 'crude-palm-oil-prices-forecast-Prediction',\n",
       "   'Type': 'Processing',\n",
       "   'Arguments': {'ProcessingResources': {'ClusterConfig': {'InstanceType': {'Get': 'Parameters.PredctionInstanceType'},\n",
       "      'InstanceCount': {'Get': 'Parameters.PredctionInstanceCount'},\n",
       "      'VolumeSizeInGB': 30}},\n",
       "    'AppSpecification': {'ImageUri': '763104351884.dkr.ecr.ap-northeast-2.amazonaws.com/mxnet-training:1.9.0-cpu-py38',\n",
       "     'ContainerArguments': ['--model_package_group_name',\n",
       "      'crude-palm-oil-prices-forecast',\n",
       "      '--ml_algorithm_name',\n",
       "      'Autogluon'],\n",
       "     'ContainerEntrypoint': ['python3',\n",
       "      '/opt/ml/processing/input/code/prediction-autogluon.py']},\n",
       "    'RoleArn': 'arn:aws:iam::108594546720:role/service-role/AmazonSageMaker-ExecutionRole-20220901T154875',\n",
       "    'ProcessingInputs': [{'InputName': 'code',\n",
       "      'AppManaged': False,\n",
       "      'S3Input': {'S3Uri': 's3://crude-palm-oil-prices-forecast/src/prediction-autogluon.py',\n",
       "       'LocalPath': '/opt/ml/processing/input/code',\n",
       "       'S3DataType': 'S3Prefix',\n",
       "       'S3InputMode': 'File',\n",
       "       'S3DataDistributionType': 'FullyReplicated',\n",
       "       'S3CompressionType': 'None'}}],\n",
       "    'ProcessingOutputConfig': {'Outputs': [{'OutputName': 'prediction_data',\n",
       "       'AppManaged': False,\n",
       "       'S3Output': {'S3Uri': 's3://crude-palm-oil-prices-forecast/predicted-data/2023/03/19/1679292475.0/result',\n",
       "        'LocalPath': '/opt/ml/processing/output/result',\n",
       "        'S3UploadMode': 'EndOfJob'}}]}}}]}"
      ]
     },
     "execution_count": 68,
     "metadata": {},
     "output_type": "execute_result"
    }
   ],
   "source": [
    "import json\n",
    "\n",
    "definition = json.loads(pipeline.definition())\n",
    "definition"
   ]
  },
  {
   "cell_type": "code",
   "execution_count": 69,
   "id": "028b7c73-408a-4e8f-804f-f2fe5208fd8b",
   "metadata": {
    "tags": []
   },
   "outputs": [
    {
     "name": "stdout",
     "output_type": "stream",
     "text": [
      "CPU times: user 746 ms, sys: 20 ms, total: 766 ms\n",
      "Wall time: 6min 33s\n"
     ]
    }
   ],
   "source": [
    "%%time\n",
    "start = time.time()\n",
    "pipeline.upsert(role_arn=sagemaker.get_execution_role())\n",
    "execution = pipeline.start()\n",
    "execution.wait() #실행이 완료될 때까지 기다린다.\n",
    "end = time.time()"
   ]
  },
  {
   "cell_type": "code",
   "execution_count": 70,
   "id": "74b72d8b-5ac2-4316-b2f4-9c9b22611e9a",
   "metadata": {
    "tags": []
   },
   "outputs": [
    {
     "name": "stdout",
     "output_type": "stream",
     "text": [
      "prediction 시간 : 393.9 sec\n",
      "prediction 시간 : 6.6 min\n"
     ]
    }
   ],
   "source": [
    "print(f\"prediction 시간 : {end - start:.1f} sec\")\n",
    "print(f\"prediction 시간 : {((end - start)/60):.1f} min\")"
   ]
  },
  {
   "cell_type": "markdown",
   "id": "abadc1ed-bee6-4a4e-9177-d53c77620d80",
   "metadata": {},
   "source": [
    "[2022년 11월 29일]\n",
    "- prediction 시간 : 423.1 sec\n",
    "- prediction 시간 : 7.1 min"
   ]
  },
  {
   "cell_type": "code",
   "execution_count": 55,
   "id": "0185ef7f-af33-479b-a24c-a012f132c445",
   "metadata": {
    "tags": []
   },
   "outputs": [
    {
     "data": {
      "text/plain": [
       "{'PipelineArn': 'arn:aws:sagemaker:ap-northeast-2:108594546720:pipeline/crude-palm-oil-prices-forecast',\n",
       " 'PipelineExecutionArn': 'arn:aws:sagemaker:ap-northeast-2:108594546720:pipeline/crude-palm-oil-prices-forecast/execution/nqsfnu6enbba',\n",
       " 'PipelineExecutionDisplayName': 'execution-1679279948741',\n",
       " 'PipelineExecutionStatus': 'Succeeded',\n",
       " 'PipelineExperimentConfig': {'ExperimentName': 'crude-palm-oil-prices-forecast',\n",
       "  'TrialName': 'nqsfnu6enbba'},\n",
       " 'CreationTime': datetime.datetime(2023, 3, 20, 2, 39, 8, 684000, tzinfo=tzlocal()),\n",
       " 'LastModifiedTime': datetime.datetime(2023, 3, 20, 2, 45, 45, 797000, tzinfo=tzlocal()),\n",
       " 'CreatedBy': {},\n",
       " 'LastModifiedBy': {},\n",
       " 'ResponseMetadata': {'RequestId': '2811dbcd-de40-42c9-8019-86778eac60f3',\n",
       "  'HTTPStatusCode': 200,\n",
       "  'HTTPHeaders': {'x-amzn-requestid': '2811dbcd-de40-42c9-8019-86778eac60f3',\n",
       "   'content-type': 'application/x-amz-json-1.1',\n",
       "   'content-length': '541',\n",
       "   'date': 'Mon, 20 Mar 2023 04:09:15 GMT'},\n",
       "  'RetryAttempts': 0}}"
      ]
     },
     "execution_count": 55,
     "metadata": {},
     "output_type": "execute_result"
    }
   ],
   "source": [
    "execution.describe()"
   ]
  },
  {
   "cell_type": "code",
   "execution_count": 56,
   "id": "fd8e4b95-c006-4732-8fae-888c3eb8a528",
   "metadata": {
    "tags": []
   },
   "outputs": [
    {
     "data": {
      "text/plain": [
       "[{'StepName': 'crude-palm-oil-prices-forecast-Prediction',\n",
       "  'StartTime': datetime.datetime(2023, 3, 20, 2, 39, 10, 234000, tzinfo=tzlocal()),\n",
       "  'EndTime': datetime.datetime(2023, 3, 20, 2, 45, 45, 310000, tzinfo=tzlocal()),\n",
       "  'StepStatus': 'Succeeded',\n",
       "  'AttemptCount': 0,\n",
       "  'Metadata': {'ProcessingJob': {'Arn': 'arn:aws:sagemaker:ap-northeast-2:108594546720:processing-job/pipelines-nqsfnu6enbba-crude-palm-oil-price-fjbqjvagxd'}}}]"
      ]
     },
     "execution_count": 56,
     "metadata": {},
     "output_type": "execute_result"
    }
   ],
   "source": [
    "execution.list_steps()"
   ]
  },
  {
   "cell_type": "code",
   "execution_count": null,
   "id": "44b5f240-3e7c-430e-b440-52b5996f0d01",
   "metadata": {},
   "outputs": [],
   "source": []
  },
  {
   "cell_type": "code",
   "execution_count": null,
   "id": "a0f8593e-6d7c-4a4b-9d8d-95696a46ec10",
   "metadata": {},
   "outputs": [],
   "source": [
    "model_approval_status = ParameterString(\n",
    "    name=\"ModelApprovalStatus\", default_value=\"PendingManualApproval\"\n",
    ")"
   ]
  }
 ],
 "metadata": {
  "kernelspec": {
   "display_name": "conda_python3",
   "language": "python",
   "name": "conda_python3"
  },
  "language_info": {
   "codemirror_mode": {
    "name": "ipython",
    "version": 3
   },
   "file_extension": ".py",
   "mimetype": "text/x-python",
   "name": "python",
   "nbconvert_exporter": "python",
   "pygments_lexer": "ipython3",
   "version": "3.10.8"
  }
 },
 "nbformat": 4,
 "nbformat_minor": 5
}
