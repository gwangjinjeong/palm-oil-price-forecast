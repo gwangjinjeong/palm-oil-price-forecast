{
 "cells": [
  {
   "cell_type": "code",
   "execution_count": 1,
   "id": "54492411-030c-47c1-be61-8480d911d441",
   "metadata": {},
   "outputs": [],
   "source": [
    "LOCAL_MODE = True"
   ]
  },
  {
   "cell_type": "markdown",
   "id": "84b92b83-c7aa-49b1-a1ed-a976c863c1a9",
   "metadata": {},
   "source": [
    "# 0. 환경설정"
   ]
  },
  {
   "cell_type": "code",
   "execution_count": 1,
   "id": "81535be4-39fc-4dd8-a95c-9d83f6fdd9c2",
   "metadata": {},
   "outputs": [],
   "source": [
    "import argparse\n",
    "import os\n",
    "import requests\n",
    "import tempfile\n",
    "import subprocess, sys\n",
    "\n",
    "import pandas as pd\n",
    "import numpy as np\n",
    "from glob import glob\n",
    "import copy\n",
    "from collections import OrderedDict\n",
    "from pathlib import Path\n",
    "import joblib\n",
    "\n",
    "import logging\n",
    "import logging.handlers\n",
    "\n",
    "import json\n",
    "import base64\n",
    "import boto3\n",
    "import sagemaker\n",
    "from botocore.client import Config\n",
    "from botocore.exceptions import ClientError\n",
    "\n",
    "import time\n",
    "from datetime import datetime as dt\n",
    "import datetime\n",
    "from pytz import timezone\n",
    "from dateutil.relativedelta import *"
   ]
  },
  {
   "cell_type": "code",
   "execution_count": 2,
   "id": "98babf82-8a8e-4780-9ce2-4edabd92969a",
   "metadata": {},
   "outputs": [
    {
     "name": "stdout",
     "output_type": "stream",
     "text": [
      "Start job time: 2022-11-28 18:10:41.966503\n"
     ]
    }
   ],
   "source": [
    "# 한국 시간\n",
    "KST = dt.today() + relativedelta(hours=9)\n",
    "print(f\"Start job time: {KST}\")"
   ]
  },
  {
   "cell_type": "code",
   "execution_count": 3,
   "id": "b79a1a68-de80-4877-a7ec-76b7b5823aec",
   "metadata": {},
   "outputs": [],
   "source": [
    "def get_secret():\n",
    "    # See https://docs.aws.amazon.com/secretsmanager/latest/apireference/API_GetSecretValue.html\n",
    "    secret_name = \"prod/sagemaker\"\n",
    "    region_name = \"ap-northeast-2\"\n",
    "    \n",
    "    # Create a Secrets Manager client\n",
    "    session = boto3.session.Session()\n",
    "    client = session.client(\n",
    "        service_name='secretsmanager',\n",
    "        region_name=region_name\n",
    "    )\n",
    "    try:\n",
    "        get_secret_value_response = client.get_secret_value(\n",
    "            SecretId='prod/sagemaker',\n",
    "        )\n",
    "    except ClientError as e:\n",
    "        if e.response['Error']['Code'] == 'DecryptionFailureException': # Secrets Manager can't decrypt the protected secret text using the provided KMS key.\n",
    "            raise e\n",
    "        elif e.response['Error']['Code'] == 'InternalServiceErrorException': # An error occurred on the server side.\n",
    "            raise e\n",
    "        elif e.response['Error']['Code'] == 'InvalidParameterException': # You provided an invalid value for a parameter.\n",
    "            raise e\n",
    "        elif e.response['Error']['Code'] == 'InvalidRequestException': # You provided a parameter value that is not valid for the current state of the resource.\n",
    "            raise e\n",
    "        elif e.response['Error']['Code'] == 'ResourceNotFoundException': # We can't find the resource that you asked for.\n",
    "            raise e\n",
    "    else:\n",
    "        if 'SecretString' in get_secret_value_response:\n",
    "            secret = get_secret_value_response['SecretString']\n",
    "            return secret\n",
    "        else:\n",
    "            decoded_binary_secret = base64.b64decode(get_secret_value_response['SecretBinary'])\n",
    "            return decoded_binary_secret\n",
    "\n",
    "keychain = json.loads(get_secret())\n",
    "ACCESS_KEY_ID = keychain['ACCESS_KEY_ID_ent']\n",
    "ACCESS_SECRET_KEY = keychain['ACCESS_SECRET_KEY_ent']\n",
    "\n",
    "BUCKET_NAME_USECASE = keychain['BUCKET_NAME_USECASE_ent']\n",
    "S3_PATH_STAGE = keychain['S3_PATH_STAGE']\n",
    "S3_PATH_GOLDEN = keychain['S3_PATH_GOLDEN']\n",
    "S3_PATH_TRAIN = keychain['S3_PATH_TRAIN']\n",
    "S3_PATH_log = keychain['S3_PATH_LOG']\n",
    "S3_PATH_FORECAST = keychain['S3_PATH_FORECAST']\n",
    "\n",
    "boto3_session = boto3.Session(ACCESS_KEY_ID, ACCESS_SECRET_KEY)\n",
    "sm_session = sagemaker.Session(boto_session = boto3_session)\n",
    "region = boto3_session.region_name\n",
    "\n",
    "s3_resource = boto3_session.resource('s3')\n",
    "bucket = s3_resource.Bucket(BUCKET_NAME_USECASE)\n",
    "s3_client = boto3_session.client('s3')\n",
    "sm_client = boto3.client('sagemaker',\n",
    "                         aws_access_key_id = ACCESS_KEY_ID,\n",
    "                         aws_secret_access_key = ACCESS_SECRET_KEY,\n",
    "                         region_name = 'ap-northeast-2')"
   ]
  },
  {
   "cell_type": "code",
   "execution_count": 19,
   "id": "a8f4a081-5216-488d-89e4-994dab68146d",
   "metadata": {},
   "outputs": [
    {
     "name": "stdout",
     "output_type": "stream",
     "text": [
      "Overwriting src/prediction.py\n"
     ]
    }
   ],
   "source": [
    "%%writefile src/prediction.py\n",
    "\n",
    "import argparse\n",
    "import os\n",
    "import requests\n",
    "import tempfile\n",
    "import subprocess, sys\n",
    "import json\n",
    "\n",
    "import glob\n",
    "import pandas as pd\n",
    "import joblib\n",
    "import pickle\n",
    "import tarfile\n",
    "from io import StringIO, BytesIO\n",
    "\n",
    "import logging\n",
    "import logging.handlers\n",
    "\n",
    "import time\n",
    "from datetime import datetime as dt\n",
    "\n",
    "import boto3\n",
    "\n",
    "\n",
    "###############################\n",
    "######### util 함수 설정 ##########\n",
    "###############################\n",
    "def _get_logger():\n",
    "    '''\n",
    "    로깅을 위해 파이썬 로거를 사용\n",
    "    # https://stackoverflow.com/questions/17745914/python-logging-module-is-printing-lines-multiple-times\n",
    "    '''\n",
    "    loglevel = logging.DEBUG\n",
    "    l = logging.getLogger(__name__)\n",
    "    if not l.hasHandlers():\n",
    "        l.setLevel(loglevel)\n",
    "        logging.getLogger().addHandler(logging.StreamHandler(sys.stdout))        \n",
    "        l.handler_set = True\n",
    "    return l  \n",
    "logger = _get_logger()\n",
    "\n",
    "\n",
    "def get_bucket_key_from_uri(uri):\n",
    "    uri_aws_path = uri.split('//')[1]\n",
    "    uri_bucket = uri_aws_path.rsplit('/')[0]\n",
    "    uri_file_path = '/'.join(uri_aws_path.rsplit('/')[1:])\n",
    "    return uri_bucket, uri_file_path\n",
    "\n",
    "def get_secret():\n",
    "    # See https://docs.aws.amazon.com/secretsmanager/latest/apireference/API_GetSecretValue.html\n",
    "    secret_name = \"prod/sagemaker\"\n",
    "    region_name = \"ap-northeast-2\"\n",
    "    \n",
    "    # Create a Secrets Manager client\n",
    "    session = boto3.session.Session()\n",
    "    client = session.client(\n",
    "        service_name='secretsmanager',\n",
    "        region_name=region_name\n",
    "    )\n",
    "    try:\n",
    "        get_secret_value_response = client.get_secret_value(\n",
    "            SecretId='prod/sagemaker',\n",
    "        )\n",
    "    except ClientError as e:\n",
    "        if e.response['Error']['Code'] == 'DecryptionFailureException': # Secrets Manager can't decrypt the protected secret text using the provided KMS key.\n",
    "            raise e\n",
    "        elif e.response['Error']['Code'] == 'InternalServiceErrorException': # An error occurred on the server side.\n",
    "            raise e\n",
    "        elif e.response['Error']['Code'] == 'InvalidParameterException': # You provided an invalid value for a parameter.\n",
    "            raise e\n",
    "        elif e.response['Error']['Code'] == 'InvalidRequestException': # You provided a parameter value that is not valid for the current state of the resource.\n",
    "            raise e\n",
    "        elif e.response['Error']['Code'] == 'ResourceNotFoundException': # We can't find the resource that you asked for.\n",
    "            raise e\n",
    "    else:\n",
    "        if 'SecretString' in get_secret_value_response:\n",
    "            secret = get_secret_value_response['SecretString']\n",
    "            return secret\n",
    "        else:\n",
    "            decoded_binary_secret = base64.b64decode(get_secret_value_response['SecretBinary'])\n",
    "            return decoded_binary_secret\n",
    "        \n",
    "if __name__=='__main__':\n",
    "    subprocess.check_call([sys.executable, '-m', 'pip', 'install', 'autogluon==0.6.0'])\n",
    "    from autogluon.timeseries import TimeSeriesDataFrame, TimeSeriesPredictor\n",
    "\n",
    "    ############################################\n",
    "    ###### Secret Manager에서 키값 가져오기  #######\n",
    "    ########################################### \n",
    "    logger.info(f\"\\n### Loading Key value from Secret Manager\")\n",
    "    \n",
    "    keychain = json.loads(get_secret())\n",
    "    ACCESS_KEY_ID = keychain['ACCESS_KEY_ID_ent']\n",
    "    ACCESS_SECRET_KEY = keychain['ACCESS_SECRET_KEY_ent']\n",
    "\n",
    "    BUCKET_NAME_USECASE = keychain['BUCKET_NAME_USECASE_ent']\n",
    "    S3_PATH_STAGE = keychain['S3_PATH_STAGE']\n",
    "    S3_PATH_GOLDEN = keychain['S3_PATH_GOLDEN']\n",
    "    S3_PATH_TRAIN = keychain['S3_PATH_TRAIN']\n",
    "    S3_PATH_log = keychain['S3_PATH_LOG']\n",
    "    boto3_session = boto3.Session(ACCESS_KEY_ID, ACCESS_SECRET_KEY)\n",
    "\n",
    "    region = boto3_session.region_name\n",
    "\n",
    "    s3_resource = boto3_session.resource('s3')\n",
    "    s3_client = boto3_session.client('s3')\n",
    "    sm_client = boto3.client('sagemaker',\n",
    "                             aws_access_key_id = ACCESS_KEY_ID,\n",
    "                             aws_secret_access_key = ACCESS_SECRET_KEY,\n",
    "                             region_name = 'ap-northeast-2')\n",
    "    \n",
    "    ################################\n",
    "    ###### 커맨드 인자 파싱   ##########\n",
    "    ################################    \n",
    "    parser = argparse.ArgumentParser()\n",
    "    parser.add_argument('--base_input_dir', type=str, default=\"/opt/ml/processing/input\", help='train,testset 불러오는곳')\n",
    "    parser.add_argument('--output_dir', type = str, default = \"/opt/ml/processing/output\", help='예측 결과값이 저장되는 곳, test dataset과 prediction 결과가 merge되서 저장된다.')\n",
    "    parser.add_argument('--model_package_group_name', type=str, default='palm-oil-price-forecast')   \n",
    "    args = parser.parse_args()     \n",
    "    logger.info(\"\\n######### Argument Info ####################################\")\n",
    "    logger.info(f\"args.base_input_dir: {args.base_input_dir}\")\n",
    "    logger.info(f\"args.output_dir: {args.output_dir}\")\n",
    "    logger.info(f\"args.model_package_group_name: {args.model_package_group_name}\")\n",
    "\n",
    "    base_input_dir = args.base_input_dir\n",
    "    output_dir = args.output_dir\n",
    "    model_package_group_name = args.model_package_group_name\n",
    "    model_dir = '/opt/ml/model'\n",
    "    \n",
    "    ##########################################################\n",
    "    ###### 적합한 모델의 URI 찾고, 탑 성능 모델 이름 가져오기 ##########\n",
    "    #########################################################\n",
    "    logger.info(\"\\n######### Finding suitable model uri ####################################\")\n",
    "    logger.info(f\"Model Group name: {model_package_group_name}\")\n",
    "    model_registry_list = sm_client.list_model_packages(ModelPackageGroupName = model_package_group_name)['ModelPackageSummaryList']\n",
    "    for model in model_registry_list:\n",
    "        if (model['ModelPackageGroupName'] == model_package_group_name and\n",
    "            model['ModelApprovalStatus'] == 'Approved'):\n",
    "            mr_arn = model['ModelPackageArn']\n",
    "            break\n",
    "    describe_model = sm_client.describe_model_package(ModelPackageName=mr_arn)\n",
    "    s3_model_uri = describe_model['InferenceSpecification']['Containers'][0]['ModelDataUrl']\n",
    "    top_model_name = describe_model['ModelPackageDescription'].split(',')[1]\n",
    "\n",
    "    logger.info(f\"Found suitable model uri: {s3_model_uri}\")\n",
    "    logger.info(f\"And top model name: {top_model_name}\")\n",
    "    \n",
    "    logger.info(\"\\n#########Download suitable model file  ####################################\")\n",
    "    model_bucket, model_key = get_bucket_key_from_uri(s3_model_uri)  \n",
    "    model_obj = s3_client.get_object(Bucket = model_bucket, Key = model_key)\n",
    "    \n",
    "    ##########################################################\n",
    "    ###### 모델 압축 풀고 TimeseriesDataFrame으로 변환 ##########\n",
    "    #########################################################\n",
    "    logger.info(\"\\n######### Model zip file extraction ####################################\")\n",
    "    with tarfile.open(fileobj=model_obj['Body'], mode='r|gz') as file:\n",
    "        file.extractall(model_dir)    \n",
    "    logger.info(f\"list in /opt/ml/model: {os.listdir(model_dir)}\")        \n",
    "    \n",
    "    logger.info(\"\\n######### Convert df_test dataframe into TimeSeriesDataFrame  ###########\")        \n",
    "    df_train = pd.read_csv(os.path.join(f'{base_input_dir}/train/train.csv'))\n",
    "    df_train.loc[:, \"ds\"] = pd.to_datetime(df_train.loc[:, \"ds\"])\n",
    "    tdf_train = TimeSeriesDataFrame.from_data_frame(\n",
    "        df_train,\n",
    "        id_column=\"ric\",\n",
    "        timestamp_column=\"ds\",\n",
    "    )\n",
    "    df_test = pd.read_csv(f\"{base_input_dir}/test/test.csv\")\n",
    "    df_test.loc[:, \"ds\"] = pd.to_datetime(df_test.loc[:, \"ds\"])\n",
    "    tdf_test = TimeSeriesDataFrame.from_data_frame(\n",
    "        df_test,\n",
    "        id_column=\"ric\",\n",
    "        timestamp_column=\"ds\",\n",
    "    )\n",
    "    logger.info(f\"df_test sample: tail(2) \\n {tdf_train.tail(2)}\")\n",
    "    logger.info(f\"df_test sample: head(2) \\n {tdf_test.head(2)}\")\n",
    "    \n",
    "    ################################\n",
    "    ###### Prediction 시작 ##########\n",
    "    ###############################\n",
    "    logger.info(\"\\n######### Start prediction  ###########\")        \n",
    "    loaded_trainer = pickle.load(open(f\"{model_dir}/models/trainer.pkl\", 'rb'))\n",
    "    logger.info(f\"loaded_trainer: {loaded_trainer}\")\n",
    "    prediction_ag_model = loaded_trainer.predict(data = tdf_train,\n",
    "                                                 model = top_model_name)\n",
    "    logger.info(f\"prediction_ag_model sample: head(2) \\n {prediction_ag_model.head(2)}\")\n",
    "\n",
    "    prediction_result = pd.merge(tdf_test.loc['FCPOc3']['y'], prediction_ag_model.loc['FCPOc3'],\n",
    "                                 left_index = True, right_index = True, how = 'left')\n",
    "    prediction_result.to_csv(f'{output_dir}/prediction_result.csv')"
   ]
  },
  {
   "cell_type": "code",
   "execution_count": 20,
   "id": "02432ec8-bcbb-4bb9-8e47-0544ccef2e3c",
   "metadata": {},
   "outputs": [
    {
     "name": "stdout",
     "output_type": "stream",
     "text": [
      "Stored 'prediction_code' (str)\n"
     ]
    }
   ],
   "source": [
    "prediction_code = 'src/prediction.py'\n",
    "%store prediction_code"
   ]
  },
  {
   "cell_type": "code",
   "execution_count": 21,
   "id": "12c8f9d3-d976-4f6d-a685-9ade98b54ba3",
   "metadata": {},
   "outputs": [
    {
     "name": "stdout",
     "output_type": "stream",
     "text": [
      "Stored variables and their in-db values:\n",
      "bucket                             -> 'palm-oil-price-forecast'\n",
      "leaderboard_uri                    -> 's3://palm-oil-price-forecast/trained-model/2022/1\n",
      "model_validation_code              -> 'src/model_validation.py'\n",
      "prediction_code                    -> 'src/prediction.py'\n",
      "preproc_data_dir                   -> 's3://palm-oil-price-forecast/golden-data/2022/11/\n",
      "preprocessed_stage_uri             -> 's3://palm-oil-price-forecast/golden-data/2022/11/\n",
      "preprocessed_test_uri              -> 's3://palm-oil-price-forecast/golden-data/2022/11/\n",
      "preprocessed_train_uri             -> 's3://palm-oil-price-forecast/golden-data/2022/11/\n",
      "preprocessing_code                 -> 'src/preprocessing.py'\n",
      "project_prefix                     -> 'palm-oil-price-forecast'\n",
      "stage_data_uri                     -> 's3://palm-oil-price-forecast/staged-data'\n",
      "test_data_uri                      -> 's3://palm-oil-price-forecast/golden-data/2022/11/\n",
      "train_data_uri                     -> 's3://palm-oil-price-forecast/golden-data/2022/11/\n",
      "train_model_uri                    -> 's3://palm-oil-price-forecast/trained-model/2022/1\n",
      "training_code                      -> 'src/train.py'\n"
     ]
    }
   ],
   "source": [
    "%store"
   ]
  },
  {
   "cell_type": "code",
   "execution_count": 7,
   "id": "224de32f-be04-4de9-96c0-28dcf74849d5",
   "metadata": {},
   "outputs": [],
   "source": [
    "%store -r"
   ]
  },
  {
   "cell_type": "code",
   "execution_count": 9,
   "id": "307f4a3c-5e2f-4a08-b813-4d66c057180d",
   "metadata": {},
   "outputs": [
    {
     "data": {
      "text/html": [
       "<div>\n",
       "<style scoped>\n",
       "    .dataframe tbody tr th:only-of-type {\n",
       "        vertical-align: middle;\n",
       "    }\n",
       "\n",
       "    .dataframe tbody tr th {\n",
       "        vertical-align: top;\n",
       "    }\n",
       "\n",
       "    .dataframe thead th {\n",
       "        text-align: right;\n",
       "    }\n",
       "</style>\n",
       "<table border=\"1\" class=\"dataframe\">\n",
       "  <thead>\n",
       "    <tr style=\"text-align: right;\">\n",
       "      <th></th>\n",
       "      <th>ds</th>\n",
       "      <th>high</th>\n",
       "      <th>low</th>\n",
       "      <th>open</th>\n",
       "      <th>y</th>\n",
       "      <th>ric</th>\n",
       "    </tr>\n",
       "  </thead>\n",
       "  <tbody>\n",
       "    <tr>\n",
       "      <th>219403</th>\n",
       "      <td>2022-10-24</td>\n",
       "      <td>0.541064</td>\n",
       "      <td>0.557112</td>\n",
       "      <td>0.547093</td>\n",
       "      <td>0.528296</td>\n",
       "      <td>Wc3</td>\n",
       "    </tr>\n",
       "    <tr>\n",
       "      <th>219404</th>\n",
       "      <td>2022-10-25</td>\n",
       "      <td>0.528051</td>\n",
       "      <td>0.549802</td>\n",
       "      <td>0.534302</td>\n",
       "      <td>0.522264</td>\n",
       "      <td>Wc3</td>\n",
       "    </tr>\n",
       "    <tr>\n",
       "      <th>219405</th>\n",
       "      <td>2022-10-26</td>\n",
       "      <td>0.528918</td>\n",
       "      <td>0.546147</td>\n",
       "      <td>0.529360</td>\n",
       "      <td>0.531744</td>\n",
       "      <td>Wc3</td>\n",
       "    </tr>\n",
       "    <tr>\n",
       "      <th>219406</th>\n",
       "      <td>2022-10-27</td>\n",
       "      <td>0.541643</td>\n",
       "      <td>0.556503</td>\n",
       "      <td>0.535465</td>\n",
       "      <td>0.527722</td>\n",
       "      <td>Wc3</td>\n",
       "    </tr>\n",
       "    <tr>\n",
       "      <th>219407</th>\n",
       "      <td>2022-10-28</td>\n",
       "      <td>0.522556</td>\n",
       "      <td>0.544319</td>\n",
       "      <td>0.531686</td>\n",
       "      <td>0.519966</td>\n",
       "      <td>Wc3</td>\n",
       "    </tr>\n",
       "  </tbody>\n",
       "</table>\n",
       "</div>"
      ],
      "text/plain": [
       "                ds      high       low      open         y  ric\n",
       "219403  2022-10-24  0.541064  0.557112  0.547093  0.528296  Wc3\n",
       "219404  2022-10-25  0.528051  0.549802  0.534302  0.522264  Wc3\n",
       "219405  2022-10-26  0.528918  0.546147  0.529360  0.531744  Wc3\n",
       "219406  2022-10-27  0.541643  0.556503  0.535465  0.527722  Wc3\n",
       "219407  2022-10-28  0.522556  0.544319  0.531686  0.519966  Wc3"
      ]
     },
     "execution_count": 9,
     "metadata": {},
     "output_type": "execute_result"
    }
   ],
   "source": [
    "df_train = pd.read_csv(train_data_uri)\n",
    "df_train.tail()"
   ]
  },
  {
   "cell_type": "code",
   "execution_count": 10,
   "id": "0a59eb62-3521-44f5-a855-7bb66b486ff2",
   "metadata": {},
   "outputs": [
    {
     "data": {
      "text/html": [
       "<div>\n",
       "<style scoped>\n",
       "    .dataframe tbody tr th:only-of-type {\n",
       "        vertical-align: middle;\n",
       "    }\n",
       "\n",
       "    .dataframe tbody tr th {\n",
       "        vertical-align: top;\n",
       "    }\n",
       "\n",
       "    .dataframe thead th {\n",
       "        text-align: right;\n",
       "    }\n",
       "</style>\n",
       "<table border=\"1\" class=\"dataframe\">\n",
       "  <thead>\n",
       "    <tr style=\"text-align: right;\">\n",
       "      <th></th>\n",
       "      <th>ds</th>\n",
       "      <th>high</th>\n",
       "      <th>low</th>\n",
       "      <th>open</th>\n",
       "      <th>y</th>\n",
       "      <th>ric</th>\n",
       "    </tr>\n",
       "  </thead>\n",
       "  <tbody>\n",
       "    <tr>\n",
       "      <th>0</th>\n",
       "      <td>2022-10-31</td>\n",
       "      <td>0.741585</td>\n",
       "      <td>0.742476</td>\n",
       "      <td>0.725275</td>\n",
       "      <td>0.735406</td>\n",
       "      <td>BOc1</td>\n",
       "    </tr>\n",
       "    <tr>\n",
       "      <th>1</th>\n",
       "      <td>2022-11-01</td>\n",
       "      <td>0.745962</td>\n",
       "      <td>0.746199</td>\n",
       "      <td>0.735653</td>\n",
       "      <td>0.736168</td>\n",
       "      <td>BOc1</td>\n",
       "    </tr>\n",
       "    <tr>\n",
       "      <th>2</th>\n",
       "      <td>2022-11-02</td>\n",
       "      <td>0.766038</td>\n",
       "      <td>0.743252</td>\n",
       "      <td>0.742827</td>\n",
       "      <td>0.772291</td>\n",
       "      <td>BOc1</td>\n",
       "    </tr>\n",
       "    <tr>\n",
       "      <th>3</th>\n",
       "      <td>2022-11-03</td>\n",
       "      <td>0.768302</td>\n",
       "      <td>0.759231</td>\n",
       "      <td>0.772283</td>\n",
       "      <td>0.766651</td>\n",
       "      <td>BOc1</td>\n",
       "    </tr>\n",
       "    <tr>\n",
       "      <th>4</th>\n",
       "      <td>2022-11-04</td>\n",
       "      <td>0.788981</td>\n",
       "      <td>0.784052</td>\n",
       "      <td>0.770299</td>\n",
       "      <td>0.797439</td>\n",
       "      <td>BOc1</td>\n",
       "    </tr>\n",
       "  </tbody>\n",
       "</table>\n",
       "</div>"
      ],
      "text/plain": [
       "           ds      high       low      open         y   ric\n",
       "0  2022-10-31  0.741585  0.742476  0.725275  0.735406  BOc1\n",
       "1  2022-11-01  0.745962  0.746199  0.735653  0.736168  BOc1\n",
       "2  2022-11-02  0.766038  0.743252  0.742827  0.772291  BOc1\n",
       "3  2022-11-03  0.768302  0.759231  0.772283  0.766651  BOc1\n",
       "4  2022-11-04  0.788981  0.784052  0.770299  0.797439  BOc1"
      ]
     },
     "execution_count": 10,
     "metadata": {},
     "output_type": "execute_result"
    }
   ],
   "source": [
    "df_test = pd.read_csv(test_data_uri)\n",
    "df_test.head()"
   ]
  },
  {
   "cell_type": "markdown",
   "id": "48076217-25da-4928-95d6-7b901c548edc",
   "metadata": {},
   "source": [
    "# 1. 모델 빌딩 파이프라인 의 스텝(Step) 생성\n",
    "## 1) 모델 빌딩 파이프라인 변수 생성\n",
    "파이프라인에서 사용할 파이프라인 파라미터를 정의합니다. 파이프라인을 스케줄하고 실행할 때 파라미터를 이용하여 실행조건을 커스마이징할 수 있습니다. 파라미터를 이용하면 파이프라인 실행시마다 매번 파이프라인 정의를 수정하지 않아도 됩니다.\n",
    "\n",
    "지원되는 파라미터 타입은 다음과 같습니다:\n",
    "\n",
    "- ParameterString - 파이썬 타입에서 str\n",
    "- ParameterInteger - 파이썬 타입에서 int\n",
    "- ParameterFloat - 파이썬 타입에서 float\n",
    "이들 파라미터를 정의할 때 디폴트 값을 지정할 수 있으며 파이프라인 실행시 재지정할 수도 있습니다. 지정하는 디폴트 값은 파라미터 타입과 일치하여야 합니다.\n",
    "\n",
    "본 노트북에서 사용하는 파라미터는 다음과 같습니다.\n",
    "\n",
    "- processing_instance_type - 프로세싱 작업에서 사용할 ml.* 인스턴스 타입\n",
    "- processing_instance_count - 프로세싱 작업에서 사용할 인스턴스 개수\n",
    "- training_instance_type - 학습작업에서 사용할 ml.* 인스턴스 타입\n",
    "- model_approval_status - 학습된 모델을 CI/CD를 목적으로 등록할 때의 승인 상태 (디폴트는 \"PendingManualApproval\")\n",
    "- input_data - 입력데이터에 대한 S3 버킷 URI\n",
    "파이프라인의 각 스텝에서 사용할 변수를 파라미터 변수로서 정의 합니다."
   ]
  },
  {
   "cell_type": "markdown",
   "id": "21da4641-2487-4f23-a241-e12ef511340a",
   "metadata": {
    "tags": []
   },
   "source": [
    "## 2) 로컬에서 테스트 - 실패"
   ]
  },
  {
   "cell_type": "code",
   "execution_count": 13,
   "id": "3bdffcba-6732-4702-9d10-1452a1010c50",
   "metadata": {},
   "outputs": [],
   "source": [
    "if LOCAL_MODE:\n",
    "    # 도커 컨테이너 입력 폴더: train, test data가 들어가는 부분\n",
    "    base_input_dir = 'opt/ml/processing/input'\n",
    "    os.makedirs(base_input_dir, exist_ok=True)\n",
    "\n",
    "    # 도커 컨테이너 기본 출력 폴더: 예측결과가 출력되는곳\n",
    "    base_output_dir = 'opt/ml/processing/output'\n",
    "    os.makedirs(base_output_dir, exist_ok=True)\n",
    "\n",
    "    model_package_group_name = bucket"
   ]
  },
  {
   "cell_type": "code",
   "execution_count": 15,
   "id": "be6e3371-81ce-4cda-bb0b-dd9a17cc976b",
   "metadata": {},
   "outputs": [
    {
     "name": "stdout",
     "output_type": "stream",
     "text": [
      "s3://palm-oil-price-forecast/golden-data/2022/11/26/train.csv\n",
      "s3://palm-oil-price-forecast/golden-data/2022/11/26/test.csv\n",
      "opt/ml/processing/input\n"
     ]
    }
   ],
   "source": [
    "print(train_data_uri)\n",
    "print(test_data_uri)\n",
    "print(base_input_dir)"
   ]
  },
  {
   "cell_type": "code",
   "execution_count": 16,
   "id": "68977a05-02ee-4590-8a96-c306f42ab1ce",
   "metadata": {},
   "outputs": [
    {
     "name": "stdout",
     "output_type": "stream",
     "text": [
      "download: s3://palm-oil-price-forecast/golden-data/2022/11/26/train.csv to opt/ml/processing/input/train.csv\n"
     ]
    }
   ],
   "source": [
    "!aws s3 cp 's3://palm-oil-price-forecast/golden-data/2022/11/26/train.csv' \\\n",
    "            'opt/ml/processing/input/train.csv'"
   ]
  },
  {
   "cell_type": "code",
   "execution_count": 17,
   "id": "9ce37600-773c-4edc-9149-d3be33c16ed2",
   "metadata": {},
   "outputs": [
    {
     "name": "stdout",
     "output_type": "stream",
     "text": [
      "download: s3://palm-oil-price-forecast/golden-data/2022/11/26/test.csv to opt/ml/processing/input/test.csv\n"
     ]
    }
   ],
   "source": [
    "!aws s3 cp 's3://palm-oil-price-forecast/golden-data/2022/11/26/test.csv' \\\n",
    "            'opt/ml/processing/input/test.csv'"
   ]
  },
  {
   "cell_type": "code",
   "execution_count": null,
   "id": "8aa1ab66-7789-4470-901b-102e57b1dd61",
   "metadata": {},
   "outputs": [
    {
     "name": "stdout",
     "output_type": "stream",
     "text": [
      "Traceback (most recent call last):\n",
      "  File \"src/prediction.py\", line 23, in <module>\n",
      "    from autogluon.timeseries import TimeSeriesDataFrame, TimeSeriesPredictor\n",
      "ModuleNotFoundError: No module named 'autogluon'\n"
     ]
    }
   ],
   "source": [
    "!python src/prediction.py --base_input_path {base_input_dir} \\\n",
    "                          --output_dir {base_output_dir} \\\n",
    "                          --model_package_group_name {bucket} \\"
   ]
  },
  {
   "cell_type": "markdown",
   "id": "fba6ac9a-4cc8-40c9-a806-640a68491491",
   "metadata": {},
   "source": [
    "# 2. 파이프라인 정의 및 실행"
   ]
  },
  {
   "cell_type": "code",
   "execution_count": 8,
   "id": "df8b63ae-e7fb-47ca-a77e-1c8166c2d098",
   "metadata": {},
   "outputs": [],
   "source": [
    "from sagemaker.workflow.parameters import (ParameterInteger,\n",
    "                                           ParameterString,\n",
    "                                          )\n",
    "\n",
    "prediction_instance_type = ParameterString(\n",
    "    name = \"PredctionInstanceType\",\n",
    "    default_value = \"ml.m5.xlarge\"\n",
    ")\n",
    "prediction_instance_count = ParameterInteger(\n",
    "    name = \"PredctionInstanceCount\",\n",
    "    default_value = 1\n",
    ")\n",
    "input_train_data = ParameterString(\n",
    "    name=\"InputTrainData\",\n",
    "    default_value = train_data_uri,\n",
    ")\n",
    "input_test_data = ParameterString(\n",
    "    name=\"InputTestData\",\n",
    "    default_value = test_data_uri,\n",
    ")\n",
    "# input_model_group_name = ParameterString(\n",
    "#     name=\"modelPackageGroupName\",\n",
    "#     default_value = project_prefix,\n",
    "# )"
   ]
  },
  {
   "cell_type": "code",
   "execution_count": 41,
   "id": "81b1f095-ca8a-4b51-bdf6-0e1c11a6297e",
   "metadata": {},
   "outputs": [
    {
     "data": {
      "text/plain": [
       "'palm-oil-price-forecast'"
      ]
     },
     "execution_count": 41,
     "metadata": {},
     "output_type": "execute_result"
    }
   ],
   "source": [
    "BUCKET_NAME_USECASE"
   ]
  },
  {
   "cell_type": "code",
   "execution_count": 12,
   "id": "86a6f103-5983-4375-bb88-3bc8b6dd8436",
   "metadata": {},
   "outputs": [
    {
     "data": {
      "text/plain": [
       "'s3://palm-oil-price-forecast/forecasted-data/2022/11/28'"
      ]
     },
     "execution_count": 12,
     "metadata": {},
     "output_type": "execute_result"
    }
   ],
   "source": [
    "prediction_output_path = f\"s3://{BUCKET_NAME_USECASE}/{S3_PATH_FORECAST}/{KST.strftime('%Y/%m/%d')}\"\n",
    "prediction_output_path"
   ]
  },
  {
   "cell_type": "markdown",
   "id": "19daa987-bf59-43fb-bdbb-d565281b69e1",
   "metadata": {
    "tags": []
   },
   "source": [
    "## 1) 스텝정의 -실패"
   ]
  },
  {
   "cell_type": "markdown",
   "id": "94e74cba-e531-4aa9-ba34-c0b05bc352ad",
   "metadata": {
    "tags": []
   },
   "source": [
    "### (1) MXNetProcessor실패!"
   ]
  },
  {
   "cell_type": "code",
   "execution_count": 13,
   "id": "a29ba244-0b0d-4a89-9f14-e513d467098b",
   "metadata": {},
   "outputs": [],
   "source": [
    "## BUG\n",
    "from sagemaker.mxnet import MXNetProcessor\n",
    "\n",
    "framework_version = '1.9.0'\n",
    "py_version = 'py38'\n",
    "\n",
    "mxnet_processor = MXNetProcessor(\n",
    "    framework_version = framework_version,\n",
    "    py_version = py_version,\n",
    "    instance_type = 'ml.m5.xlarge',\n",
    "    instance_count = 1,\n",
    "    base_job_name = 'Palm-oil-forecast-Prediction',\n",
    "    role = sagemaker.get_execution_role(),\n",
    ")"
   ]
  },
  {
   "cell_type": "code",
   "execution_count": 15,
   "id": "2cb8043d-fe71-4520-a61b-9ed55a0fd1d6",
   "metadata": {},
   "outputs": [],
   "source": [
    "from sagemaker.processing import ProcessingInput, ProcessingOutput\n",
    "from sagemaker.workflow.steps import ProcessingStep\n",
    "######################################################################################3\n",
    "step_prediction = ProcessingStep(\n",
    "    name = 'Palm_oil_forecast-Prediction-Autogluon060',\n",
    "    processor = mxnet_processor,\n",
    "    inputs=[\n",
    "        ProcessingInput(source = train_data_uri,\n",
    "                        destination = \"/opt/ml/processing/input/train\"),\n",
    "        ProcessingInput(source = test_data_uri,\n",
    "                        destination = \"/opt/ml/processing/input/test\"),\n",
    "    ],\n",
    "    outputs=[\n",
    "        ProcessingOutput(output_name = \"prediction_data\",\n",
    "                         source = \"/opt/ml/processing/output\",\n",
    "                         destination = prediction_output_path)\n",
    "        ],\n",
    "    job_arguments=[\"--model_package_group_name\", bucket],\n",
    "    code = prediction_code\n",
    ")"
   ]
  },
  {
   "cell_type": "markdown",
   "id": "aa05730c-afab-4b71-80b0-0eef9f61ec4a",
   "metadata": {},
   "source": [
    "### (2) ScriptProcessor 실패!"
   ]
  },
  {
   "cell_type": "code",
   "execution_count": 22,
   "id": "8366d2ac-a92c-4bfa-9f0b-38007355cc85",
   "metadata": {},
   "outputs": [],
   "source": []
  },
  {
   "cell_type": "code",
   "execution_count": 23,
   "id": "ffbc0140-2c86-441a-b098-59e95eeeabfd",
   "metadata": {},
   "outputs": [],
   "source": [
    "from sagemaker.processing import ScriptProcessor, ProcessingInput, ProcessingOutput\n",
    "\n",
    "script_processor = ScriptProcessor(\n",
    "    command=['python3'],\n",
    "    image_uri=image_uri,\n",
    "    instance_type = 'ml.m5.xlarge',\n",
    "    instance_count = 1,\n",
    "    base_job_name = 'Palm-oil-forecast-Prediction',\n",
    "    role = sagemaker.get_execution_role(),\n",
    ")"
   ]
  },
  {
   "cell_type": "code",
   "execution_count": 24,
   "id": "f74b018a-1938-4619-a2f1-abe734e25d4d",
   "metadata": {},
   "outputs": [],
   "source": [
    "from sagemaker.processing import ProcessingInput, ProcessingOutput\n",
    "from sagemaker.workflow.steps import ProcessingStep\n",
    "step_prediction = ProcessingStep(\n",
    "    name = 'Palm_oil_forecast-Prediction-Autogluon060',\n",
    "    processor = script_processor,\n",
    "    inputs=[\n",
    "        ProcessingInput(source = train_data_uri,\n",
    "                        destination = \"/opt/ml/processing/input/train\"),\n",
    "        ProcessingInput(source = test_data_uri,\n",
    "                        destination = \"/opt/ml/processing/input/test\"),\n",
    "    ],\n",
    "    outputs=[\n",
    "        ProcessingOutput(output_name = \"prediction_data\",\n",
    "                         source = \"/opt/ml/processing/output\",\n",
    "                         destination = prediction_output_path)\n",
    "        ],\n",
    "    code = prediction_code\n",
    ")"
   ]
  },
  {
   "cell_type": "markdown",
   "id": "1bbaf87a-1928-4c66-a610-9b9253418ab3",
   "metadata": {
    "tags": []
   },
   "source": [
    "### 1) 스텝 정의"
   ]
  },
  {
   "cell_type": "code",
   "execution_count": null,
   "id": "46003f64-d171-44f1-b277-047cbfdb9039",
   "metadata": {},
   "outputs": [],
   "source": [
    "# %%time\n",
    "# from sagemaker.processing import ProcessingInput, ProcessingOutput\n",
    "# from sagemaker.workflow.steps import ProcessingStep\n",
    "\n",
    "# inputs = [\n",
    "#     ProcessingInput(source = train_data_uri,\n",
    "#                     destination = \"/opt/ml/processing/input/train\"),\n",
    "#     ProcessingInput(source = test_data_uri,\n",
    "#                     destination = \"/opt/ml/processing/input/test\"),\n",
    "# ]\n",
    "\n",
    "# outputs = [\n",
    "#     ProcessingOutput(output_name = \"prediction_data\",\n",
    "#                      source = \"/opt/ml/processing/output\",\n",
    "#                      destination = prediction_output_path)\n",
    "# ]\n",
    "\n",
    "# step_args = mxnet_processor.run(\n",
    "#     code='prediction.py',\n",
    "#     source_dir='src',\n",
    "#     inputs = inputs,\n",
    "#     outputs = outputs,\n",
    "#     arguments=[\"--model_package_group_name\", input_model_group_name],\n",
    "# )\n",
    "\n",
    "# step_prediction = ProcessingStep(\n",
    "#     name=\"Palm-oil-forecast-Prediction\",\n",
    "#     step_args = step_args\n",
    "# )\n"
   ]
  },
  {
   "cell_type": "code",
   "execution_count": null,
   "id": "9f290252-43bf-40d9-9bd3-f0c7a08412db",
   "metadata": {},
   "outputs": [],
   "source": [
    "# %%time\n",
    "# from sagemaker.processing import ProcessingInput, ProcessingOutput\n",
    "# from sagemaker.workflow.steps import ProcessingStep\n",
    "\n",
    "# inputs = [\n",
    "#     ProcessingInput(source = train_data_uri,\n",
    "#                     destination = \"/opt/ml/processing/input/train\"),\n",
    "#     ProcessingInput(source = test_data_uri,\n",
    "#                     destination = \"/opt/ml/processing/input/test\"),\n",
    "# ]\n",
    "\n",
    "# outputs = [\n",
    "#     ProcessingOutput(output_name = \"prediction_data\",\n",
    "#                      source = \"/opt/ml/processing/output\",\n",
    "#                      destination = prediction_output_path)\n",
    "# ]\n",
    "\n",
    "# step_args = mxnet_processor.run(\n",
    "#     code='prediction.py',\n",
    "#     source_dir='src',\n",
    "#     inputs = inputs,\n",
    "#     outputs = outputs,\n",
    "#     arguments=[\"--model_package_group_name\", project_prefix],\n",
    "# )\n",
    "\n",
    "# step_prediction = ProcessingStep(\n",
    "#     processor = mxnet_processor,\n",
    "#     name = \"Palm-oil-forecast-Prediction\",\n",
    "#     step_args = step_args,\n",
    "#     job_arguments = [\"--model_package_group_name\", project_prefix],    \n",
    "#     code = prediction_code # 추가하고 다시 진행 사유: ValueError: code None url scheme b'' is not recognized. Please pass a file path or S3 url\n",
    "\n",
    "# )"
   ]
  },
  {
   "cell_type": "markdown",
   "id": "d93bab7b-2164-4783-b3e0-ce403ba46742",
   "metadata": {},
   "source": [
    "### 1) 파이프라인 실행"
   ]
  },
  {
   "cell_type": "code",
   "execution_count": 25,
   "id": "944e0215-30fd-4661-bc34-b676d67a68c2",
   "metadata": {},
   "outputs": [],
   "source": [
    "from sagemaker.workflow.pipeline import Pipeline\n",
    "\n",
    "pipeline_name = project_prefix\n",
    "pipeline = Pipeline(name = pipeline_name,\n",
    "                    parameters = [\n",
    "                        prediction_instance_type,        \n",
    "                        prediction_instance_count,         \n",
    "                        input_train_data,\n",
    "                        input_test_data,\n",
    "                    ],\n",
    "                    steps=[step_prediction]\n",
    ")"
   ]
  },
  {
   "cell_type": "code",
   "execution_count": 26,
   "id": "76430e25-1a89-407b-ad21-c8ec5bbac6cd",
   "metadata": {},
   "outputs": [
    {
     "data": {
      "text/plain": [
       "{'Version': '2020-12-01',\n",
       " 'Metadata': {},\n",
       " 'Parameters': [{'Name': 'PredctionInstanceType',\n",
       "   'Type': 'String',\n",
       "   'DefaultValue': 'ml.m5.xlarge'},\n",
       "  {'Name': 'PredctionInstanceCount', 'Type': 'Integer', 'DefaultValue': 1},\n",
       "  {'Name': 'InputTrainData',\n",
       "   'Type': 'String',\n",
       "   'DefaultValue': 's3://palm-oil-price-forecast/golden-data/2022/11/28/train.csv'},\n",
       "  {'Name': 'InputTestData',\n",
       "   'Type': 'String',\n",
       "   'DefaultValue': 's3://palm-oil-price-forecast/golden-data/2022/11/28/test.csv'}],\n",
       " 'PipelineExperimentConfig': {'ExperimentName': {'Get': 'Execution.PipelineName'},\n",
       "  'TrialName': {'Get': 'Execution.PipelineExecutionId'}},\n",
       " 'Steps': [{'Name': 'Palm_oil_forecast-Prediction-Autogluon060',\n",
       "   'Type': 'Processing',\n",
       "   'Arguments': {'ProcessingResources': {'ClusterConfig': {'InstanceType': 'ml.m5.xlarge',\n",
       "      'InstanceCount': 1,\n",
       "      'VolumeSizeInGB': 30}},\n",
       "    'AppSpecification': {'ImageUri': '763104351884.dkr.ecr.ap-northeast-2.amazonaws.com/mxnet-training:1.9.0-cpu-py38',\n",
       "     'ContainerEntrypoint': ['python3',\n",
       "      '/opt/ml/processing/input/code/prediction.py']},\n",
       "    'RoleArn': 'arn:aws:iam::276114397529:role/service-role/AmazonSageMakerServiceCatalogProductsUseRole',\n",
       "    'ProcessingInputs': [{'InputName': 'input-1',\n",
       "      'AppManaged': False,\n",
       "      'S3Input': {'S3Uri': 's3://palm-oil-price-forecast/golden-data/2022/11/28/train.csv',\n",
       "       'LocalPath': '/opt/ml/processing/input/train',\n",
       "       'S3DataType': 'S3Prefix',\n",
       "       'S3InputMode': 'File',\n",
       "       'S3DataDistributionType': 'FullyReplicated',\n",
       "       'S3CompressionType': 'None'}},\n",
       "     {'InputName': 'input-2',\n",
       "      'AppManaged': False,\n",
       "      'S3Input': {'S3Uri': 's3://palm-oil-price-forecast/golden-data/2022/11/28/test.csv',\n",
       "       'LocalPath': '/opt/ml/processing/input/test',\n",
       "       'S3DataType': 'S3Prefix',\n",
       "       'S3InputMode': 'File',\n",
       "       'S3DataDistributionType': 'FullyReplicated',\n",
       "       'S3CompressionType': 'None'}},\n",
       "     {'InputName': 'code',\n",
       "      'AppManaged': False,\n",
       "      'S3Input': {'S3Uri': 's3://sagemaker-ap-northeast-2-276114397529/Palm_oil_forecast-Prediction-Autogluon060-85c0b927b25a6b8ba4be6c832dd255fc/input/code/prediction.py',\n",
       "       'LocalPath': '/opt/ml/processing/input/code',\n",
       "       'S3DataType': 'S3Prefix',\n",
       "       'S3InputMode': 'File',\n",
       "       'S3DataDistributionType': 'FullyReplicated',\n",
       "       'S3CompressionType': 'None'}}],\n",
       "    'ProcessingOutputConfig': {'Outputs': [{'OutputName': 'prediction_data',\n",
       "       'AppManaged': False,\n",
       "       'S3Output': {'S3Uri': 's3://palm-oil-price-forecast/forecasted-data/2022/11/28',\n",
       "        'LocalPath': '/opt/ml/processing/output',\n",
       "        'S3UploadMode': 'EndOfJob'}}]}}}]}"
      ]
     },
     "execution_count": 26,
     "metadata": {},
     "output_type": "execute_result"
    }
   ],
   "source": [
    "import json\n",
    "\n",
    "definition = json.loads(pipeline.definition())\n",
    "definition"
   ]
  },
  {
   "cell_type": "code",
   "execution_count": null,
   "id": "028b7c73-408a-4e8f-804f-f2fe5208fd8b",
   "metadata": {},
   "outputs": [],
   "source": [
    "%%time\n",
    "start = time.time()\n",
    "pipeline.upsert(role_arn=sagemaker.get_execution_role())\n",
    "execution = pipeline.start()\n",
    "execution.wait()\n",
    "end = time.time()"
   ]
  },
  {
   "cell_type": "code",
   "execution_count": 29,
   "id": "74b72d8b-5ac2-4316-b2f4-9c9b22611e9a",
   "metadata": {},
   "outputs": [
    {
     "name": "stdout",
     "output_type": "stream",
     "text": [
      "prediction 시간 : 423.1 sec\n",
      "prediction 시간 : 7.1 min\n"
     ]
    }
   ],
   "source": [
    "print(f\"prediction 시간 : {end - start:.1f} sec\")\n",
    "print(f\"prediction 시간 : {((end - start)/60):.1f} min\")"
   ]
  },
  {
   "cell_type": "markdown",
   "id": "abadc1ed-bee6-4a4e-9177-d53c77620d80",
   "metadata": {},
   "source": [
    "[2022년 11월 29일]\n",
    "- prediction 시간 : 423.1 sec\n",
    "- prediction 시간 : 7.1 min"
   ]
  },
  {
   "cell_type": "code",
   "execution_count": 30,
   "id": "0185ef7f-af33-479b-a24c-a012f132c445",
   "metadata": {},
   "outputs": [
    {
     "data": {
      "text/plain": [
       "{'PipelineArn': 'arn:aws:sagemaker:ap-northeast-2:276114397529:pipeline/palm-oil-price-forecast',\n",
       " 'PipelineExecutionArn': 'arn:aws:sagemaker:ap-northeast-2:276114397529:pipeline/palm-oil-price-forecast/execution/wb19211ha4m2',\n",
       " 'PipelineExecutionDisplayName': 'execution-1669628909946',\n",
       " 'PipelineExecutionStatus': 'Succeeded',\n",
       " 'PipelineExperimentConfig': {'ExperimentName': 'palm-oil-price-forecast',\n",
       "  'TrialName': 'wb19211ha4m2'},\n",
       " 'CreationTime': datetime.datetime(2022, 11, 28, 9, 48, 29, 875000, tzinfo=tzlocal()),\n",
       " 'LastModifiedTime': datetime.datetime(2022, 11, 28, 9, 55, 14, 262000, tzinfo=tzlocal()),\n",
       " 'CreatedBy': {},\n",
       " 'LastModifiedBy': {},\n",
       " 'ResponseMetadata': {'RequestId': 'fe395d12-b556-4784-8ee7-7c0a5e7f48ff',\n",
       "  'HTTPStatusCode': 200,\n",
       "  'HTTPHeaders': {'x-amzn-requestid': 'fe395d12-b556-4784-8ee7-7c0a5e7f48ff',\n",
       "   'content-type': 'application/x-amz-json-1.1',\n",
       "   'content-length': '520',\n",
       "   'date': 'Mon, 28 Nov 2022 21:28:32 GMT'},\n",
       "  'RetryAttempts': 0}}"
      ]
     },
     "execution_count": 30,
     "metadata": {},
     "output_type": "execute_result"
    }
   ],
   "source": [
    "execution.describe()"
   ]
  },
  {
   "cell_type": "code",
   "execution_count": 31,
   "id": "fd8e4b95-c006-4732-8fae-888c3eb8a528",
   "metadata": {},
   "outputs": [
    {
     "data": {
      "text/plain": [
       "[{'StepName': 'Palm_oil_forecast-Prediction-Autogluon060',\n",
       "  'StartTime': datetime.datetime(2022, 11, 28, 9, 48, 31, 268000, tzinfo=tzlocal()),\n",
       "  'EndTime': datetime.datetime(2022, 11, 28, 9, 55, 13, 709000, tzinfo=tzlocal()),\n",
       "  'StepStatus': 'Succeeded',\n",
       "  'AttemptCount': 0,\n",
       "  'Metadata': {'ProcessingJob': {'Arn': 'arn:aws:sagemaker:ap-northeast-2:276114397529:processing-job/pipelines-wb19211ha4m2-palm-oil-forecast-pr-zup0rtm4vr'}}}]"
      ]
     },
     "execution_count": 31,
     "metadata": {},
     "output_type": "execute_result"
    }
   ],
   "source": [
    "execution.list_steps()"
   ]
  },
  {
   "cell_type": "code",
   "execution_count": null,
   "id": "44b5f240-3e7c-430e-b440-52b5996f0d01",
   "metadata": {},
   "outputs": [],
   "source": []
  },
  {
   "cell_type": "code",
   "execution_count": null,
   "id": "a0f8593e-6d7c-4a4b-9d8d-95696a46ec10",
   "metadata": {},
   "outputs": [],
   "source": [
    "model_approval_status = ParameterString(\n",
    "    name=\"ModelApprovalStatus\", default_value=\"PendingManualApproval\"\n",
    ")"
   ]
  }
 ],
 "metadata": {
  "kernelspec": {
   "display_name": "conda_python3",
   "language": "python",
   "name": "conda_python3"
  },
  "language_info": {
   "codemirror_mode": {
    "name": "ipython",
    "version": 3
   },
   "file_extension": ".py",
   "mimetype": "text/x-python",
   "name": "python",
   "nbconvert_exporter": "python",
   "pygments_lexer": "ipython3",
   "version": "3.8.12"
  }
 },
 "nbformat": 4,
 "nbformat_minor": 5
}
